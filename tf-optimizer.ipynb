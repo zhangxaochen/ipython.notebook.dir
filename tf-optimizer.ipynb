{
 "cells": [
  {
   "cell_type": "markdown",
   "metadata": {},
   "source": [
    "https://applenob.github.io/tf_6.html\n",
    "\n",
    "Tensorflow 学习笔记（六） ———— Optimizer\n",
    "\n",
    "二 31 一月 2017 by Chan"
   ]
  },
  {
   "cell_type": "code",
   "execution_count": 46,
   "metadata": {},
   "outputs": [],
   "source": [
    "import tensorflow as tf\n",
    "import numpy as np"
   ]
  },
  {
   "cell_type": "code",
   "execution_count": 2,
   "metadata": {},
   "outputs": [],
   "source": [
    "# x = tf.placeholder(tf.float32)\n",
    "x = tf.Variable(tf.truncated_normal([1]), name=\"x\")\n",
    "goal = tf.pow(x-3,2, name=\"goal\")"
   ]
  },
  {
   "cell_type": "code",
   "execution_count": 4,
   "metadata": {},
   "outputs": [
    {
     "name": "stdout",
     "output_type": "stream",
     "text": [
      "[0.16881551]\n",
      "[8.015605]\n"
     ]
    }
   ],
   "source": [
    "with tf.Session() as sess:\n",
    "    x.initializer.run()\n",
    "    print(x.eval())\n",
    "    print(goal.eval())"
   ]
  },
  {
   "cell_type": "code",
   "execution_count": null,
   "metadata": {},
   "outputs": [],
   "source": [
    "optimizer = tf.train.GradientDescentOptimizer(learning_rate=0.01)\n",
    "train_step = optimizer.minimize(goal)"
   ]
  },
  {
   "cell_type": "code",
   "execution_count": 100,
   "metadata": {},
   "outputs": [],
   "source": [
    "optimizer.minimize?"
   ]
  },
  {
   "cell_type": "code",
   "execution_count": 65,
   "metadata": {},
   "outputs": [],
   "source": [
    "iter_num = 20\n",
    "\n",
    "def train_func():\n",
    "    with tf.Session() as sess:\n",
    "        x.initializer.run()\n",
    "        for i in range(iter_num):\n",
    "            #print('x:', x.eval())\n",
    "            train_step.run()\n",
    "            print('i:', i, 'goal:', goal.eval(), 'x:', x.eval())\n"
   ]
  },
  {
   "cell_type": "code",
   "execution_count": 66,
   "metadata": {},
   "outputs": [
    {
     "name": "stdout",
     "output_type": "stream",
     "text": [
      "i: 0 goal: [2.1050167] x: [1.5491325]\n",
      "i: 1 goal: [2.021658] x: [1.5781498]\n",
      "i: 2 goal: [1.9416003] x: [1.6065868]\n",
      "i: 3 goal: [1.864713] x: [1.6344551]\n",
      "i: 4 goal: [1.7908704] x: [1.6617659]\n",
      "i: 5 goal: [1.7199521] x: [1.6885306]\n",
      "i: 6 goal: [1.651842] x: [1.71476]\n",
      "i: 7 goal: [1.5864292] x: [1.7404647]\n",
      "i: 8 goal: [1.5236065] x: [1.7656554]\n",
      "i: 9 goal: [1.4632716] x: [1.7903423]\n",
      "i: 10 goal: [1.4053261] x: [1.8145355]\n",
      "i: 11 goal: [1.3496752] x: [1.8382448]\n",
      "i: 12 goal: [1.296228] x: [1.8614799]\n",
      "i: 13 goal: [1.2448975] x: [1.8842503]\n",
      "i: 14 goal: [1.1955994] x: [1.9065653]\n",
      "i: 15 goal: [1.1482537] x: [1.928434]\n",
      "i: 16 goal: [1.1027828] x: [1.9498653]\n",
      "i: 17 goal: [1.0591127] x: [1.970868]\n",
      "i: 18 goal: [1.0171717] x: [1.9914507]\n",
      "i: 19 goal: [0.97689164] x: [2.0116217]\n"
     ]
    }
   ],
   "source": [
    "'''\n",
    "2 . minimize() = compute_gradients() + apply_gradients()¶\n",
    "拆分成计算梯度和应用梯度两个步骤。\n",
    "'''\n",
    "# compute_gradients 返回的是：A list of (gradient, variable) pairs\n",
    "gra_and_var = optimizer.compute_gradients(goal)\n",
    "train_step = optimizer.apply_gradients(gra_and_var)\n",
    "train_func()"
   ]
  },
  {
   "cell_type": "code",
   "execution_count": 109,
   "metadata": {},
   "outputs": [
    {
     "name": "stdout",
     "output_type": "stream",
     "text": [
      "i: 0 goal: [7.270593] x: [0.30359626]\n",
      "i: 1 goal: [7.203339] x: [0.31609625]\n",
      "i: 2 goal: [7.136399] x: [0.32859623]\n",
      "i: 3 goal: [7.0697694] x: [0.34109622]\n",
      "i: 4 goal: [7.0034533] x: [0.3535962]\n",
      "i: 5 goal: [6.937449] x: [0.3660962]\n",
      "i: 6 goal: [6.8717575] x: [0.3785962]\n",
      "i: 7 goal: [6.8063793] x: [0.39109617]\n",
      "i: 8 goal: [6.741313] x: [0.40359616]\n",
      "i: 9 goal: [6.676559] x: [0.41609615]\n",
      "i: 10 goal: [6.6121182] x: [0.42859614]\n",
      "i: 11 goal: [6.5479894] x: [0.44109613]\n",
      "i: 12 goal: [6.484173] x: [0.45359612]\n",
      "i: 13 goal: [6.4206686] x: [0.4660961]\n",
      "i: 14 goal: [6.357477] x: [0.4785961]\n",
      "i: 15 goal: [6.294599] x: [0.49109608]\n",
      "i: 16 goal: [6.232033] x: [0.50359607]\n",
      "i: 17 goal: [6.1697783] x: [0.51609606]\n",
      "i: 18 goal: [6.107838] x: [0.52859604]\n",
      "i: 19 goal: [6.046209] x: [0.54109603]\n"
     ]
    }
   ],
   "source": [
    "'''\n",
    "3. 进一步\n",
    "clip_by_global_norm:修正梯度值\n",
    "'''\n",
    "gradients, variables = zip(*gra_and_var)\n",
    "# gradients, variables = gra_and_var[0] #导致下面报错: TypeError: t_list should be a sequence\n",
    "gradients, _ = tf.clip_by_global_norm(gradients, 1.25)\n",
    "train_step = optimizer.apply_gradients(zip(gradients, variables))\n",
    "train_func()"
   ]
  },
  {
   "cell_type": "code",
   "execution_count": 99,
   "metadata": {},
   "outputs": [
    {
     "name": "stdout",
     "output_type": "stream",
     "text": [
      "i: 0 goal: [0.6555249] x: [3.809645] global_step: 1\n",
      "i: 1 goal: [8.645688] x: [0.05964494] global_step: 2\n",
      "i: 2 goal: [0.6555249] x: [3.809645] global_step: 3\n",
      "i: 3 goal: [0.09944896] x: [2.6846447] global_step: 4\n",
      "i: 4 goal: [0.06364736] x: [3.2522843] global_step: 5\n",
      "i: 5 goal: [0.04073435] x: [2.7981725] global_step: 6\n",
      "i: 6 goal: [0.00861939] x: [2.9071593] global_step: 7\n",
      "i: 7 goal: [0.00182386] x: [2.9572933] global_step: 8\n",
      "i: 8 goal: [0.00038593] x: [2.980355] global_step: 9\n",
      "i: 9 goal: [0.00027102] x: [2.9835374] global_step: 10\n"
     ]
    }
   ],
   "source": [
    "'''\n",
    "exponential_decay 加入学习率衰减：¶\n",
    "'''\n",
    "# global_step 记录当前是第几个batch\n",
    "global_step = tf.Variable(0)\n",
    "learning_rate = tf.train.exponential_decay(\n",
    "    3.0, global_step, 3, 0.3, staircase=True)\n",
    "optimizer2 = tf.train.GradientDescentOptimizer(learning_rate)\n",
    "gradients, vriables = zip(*optimizer2.compute_gradients(goal))\n",
    "# gradients, _ = tf.clip_by_norm(gradients, 1.25)\n",
    "gradients, _ = tf.clip_by_global_norm(gradients, 1.25) #必须有这一步, 否则不收敛\n",
    "train_step = optimizer2.apply_gradients(zip(gradients, vriables), \n",
    "                                       global_step=global_step)\n",
    "# train_step = optimizer2.apply_gradients(zip(gradients, vriables))\n",
    "\n",
    "with tf.Session() as sess:\n",
    "        global_step.initializer.run()\n",
    "        x.initializer.run()\n",
    "        for i in range(10):\n",
    "            #print 'x:', x.eval()\n",
    "            train_step.run()\n",
    "            print('i:', i, 'goal:', goal.eval(), 'x:', x.eval(),\n",
    "                  'global_step:', global_step.eval())\n",
    "\n",
    "# train_func()"
   ]
  },
  {
   "cell_type": "code",
   "execution_count": 91,
   "metadata": {},
   "outputs": [
    {
     "data": {
      "text/plain": [
       "<tf.Tensor 'ExponentialDecay_14:0' shape=() dtype=float32>"
      ]
     },
     "execution_count": 91,
     "metadata": {},
     "output_type": "execute_result"
    }
   ],
   "source": [
    "learning_rate"
   ]
  },
  {
   "cell_type": "code",
   "execution_count": 88,
   "metadata": {},
   "outputs": [],
   "source": [
    "tf.clip_by_global_norm?"
   ]
  },
  {
   "cell_type": "code",
   "execution_count": 89,
   "metadata": {},
   "outputs": [],
   "source": [
    "tf.clip_by_average_norm?"
   ]
  },
  {
   "cell_type": "code",
   "execution_count": 87,
   "metadata": {},
   "outputs": [],
   "source": [
    "tf.clip_by"
   ]
  },
  {
   "cell_type": "code",
   "execution_count": 83,
   "metadata": {},
   "outputs": [],
   "source": [
    "optimizer.apply_gradients?"
   ]
  },
  {
   "cell_type": "code",
   "execution_count": 79,
   "metadata": {},
   "outputs": [],
   "source": [
    "tf.train.exponential_decay?"
   ]
  },
  {
   "cell_type": "code",
   "execution_count": null,
   "metadata": {},
   "outputs": [],
   "source": []
  },
  {
   "cell_type": "code",
   "execution_count": null,
   "metadata": {},
   "outputs": [],
   "source": []
  },
  {
   "cell_type": "code",
   "execution_count": null,
   "metadata": {},
   "outputs": [],
   "source": []
  },
  {
   "cell_type": "code",
   "execution_count": null,
   "metadata": {},
   "outputs": [],
   "source": []
  },
  {
   "cell_type": "code",
   "execution_count": null,
   "metadata": {},
   "outputs": [],
   "source": []
  },
  {
   "cell_type": "code",
   "execution_count": null,
   "metadata": {},
   "outputs": [],
   "source": []
  },
  {
   "cell_type": "code",
   "execution_count": null,
   "metadata": {},
   "outputs": [],
   "source": []
  },
  {
   "cell_type": "code",
   "execution_count": null,
   "metadata": {},
   "outputs": [],
   "source": []
  },
  {
   "cell_type": "code",
   "execution_count": null,
   "metadata": {},
   "outputs": [],
   "source": []
  },
  {
   "cell_type": "code",
   "execution_count": null,
   "metadata": {},
   "outputs": [],
   "source": []
  },
  {
   "cell_type": "code",
   "execution_count": null,
   "metadata": {},
   "outputs": [],
   "source": []
  },
  {
   "cell_type": "code",
   "execution_count": null,
   "metadata": {},
   "outputs": [],
   "source": []
  }
 ],
 "metadata": {
  "kernelspec": {
   "display_name": "Python 3",
   "language": "python",
   "name": "python3"
  },
  "language_info": {
   "codemirror_mode": {
    "name": "ipython",
    "version": 3
   },
   "file_extension": ".py",
   "mimetype": "text/x-python",
   "name": "python",
   "nbconvert_exporter": "python",
   "pygments_lexer": "ipython3",
   "version": "3.5.6"
  }
 },
 "nbformat": 4,
 "nbformat_minor": 2
}
