{
 "metadata": {
  "name": ""
 },
 "nbformat": 3,
 "nbformat_minor": 0,
 "worksheets": [
  {
   "cells": [
    {
     "cell_type": "code",
     "collapsed": false,
     "input": [
      "a=2s\n",
      "b=2\n",
      "print a is b\n",
      "print id(a) == id(b)\n",
      "print id(a) is id(b)\n",
      "print id(id(a)) == id(id(b))"
     ],
     "language": "python",
     "metadata": {},
     "outputs": [
      {
       "output_type": "stream",
       "stream": "stdout",
       "text": [
        "True\n",
        "True\n",
        "False\n",
        "True\n"
       ]
      }
     ],
     "prompt_number": 8
    },
    {
     "cell_type": "code",
     "collapsed": false,
     "input": [
      "l=[[1,2,], [3,4]]\n",
      "ll=[]\n",
      "for i in l:\n",
      "    ll.append(i)\n",
      "print ll\n",
      "print ll == l\n",
      "l[0][0]=666\n",
      "print ll\n",
      "print id(l), id(ll)\n",
      "\n",
      "l=[1,2]\n",
      "print id(l)\n",
      "l[0]=4\n",
      "print id(l)"
     ],
     "language": "python",
     "metadata": {},
     "outputs": [
      {
       "output_type": "stream",
       "stream": "stdout",
       "text": [
        "[[1, 2], [3, 4]]\n",
        "True\n",
        "[[666, 2], [3, 4]]\n",
        "98484136 98469288\n",
        "98482016\n",
        "98482016\n"
       ]
      }
     ],
     "prompt_number": 17
    },
    {
     "cell_type": "code",
     "collapsed": false,
     "input": [
      "from os import listdir\n",
      "from glob import glob\n",
      "listdir?\n",
      "glob?"
     ],
     "language": "python",
     "metadata": {},
     "outputs": [],
     "prompt_number": 3
    },
    {
     "cell_type": "code",
     "collapsed": false,
     "input": [
      "import numpy as np\n",
      "import matplotlib.pyplot as plt\n",
      "\n",
      "def plot2d(xmin,xmax,func): \n",
      "\n",
      "    x=np.linspace(xmin, xmax, num=50)    \n",
      "\n",
      "    plt.plot(x,func(x))\n",
      "    plt.show()\n",
      "    \n",
      "plot2d(-10, 10, lambda x: x*x)\n"
     ],
     "language": "python",
     "metadata": {},
     "outputs": [],
     "prompt_number": 8
    },
    {
     "cell_type": "code",
     "collapsed": false,
     "input": [],
     "language": "python",
     "metadata": {},
     "outputs": []
    }
   ],
   "metadata": {}
  }
 ]
}