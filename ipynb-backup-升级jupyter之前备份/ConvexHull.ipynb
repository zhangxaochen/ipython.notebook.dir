{
 "metadata": {
  "name": "ConvexHull"
 },
 "nbformat": 3,
 "nbformat_minor": 0,
 "worksheets": [
  {
   "cells": [
    {
     "cell_type": "code",
     "collapsed": false,
     "input": [
      "%pylab\n",
      "from scipy.spatial import *"
     ],
     "language": "python",
     "metadata": {},
     "outputs": [
      {
       "output_type": "stream",
       "stream": "stdout",
       "text": [
        "\n",
        "Welcome to pylab, a matplotlib-based Python environment [backend: Qt4Agg].\n",
        "For more information, type 'help(pylab)'.\n"
       ]
      }
     ],
     "prompt_number": 1
    },
    {
     "cell_type": "code",
     "collapsed": false,
     "input": [
      "#docs demo\n",
      "points = np.random.rand(30, 2)   # 30 random points in 2-D\n",
      "hull = ConvexHull(points)\n",
      "plot(points[:,0], points[:,1], 'o')\n",
      "#print hull.simplices\n",
      "for simplex in hull.simplices:\n",
      "    print simplex\n",
      "    plot(points[simplex,0], points[simplex,1], 'k-')"
     ],
     "language": "python",
     "metadata": {},
     "outputs": [
      {
       "output_type": "stream",
       "stream": "stdout",
       "text": [
        "[18  5]\n",
        "[1 2]\n",
        "[1 5]\n",
        "[29  2]\n",
        "[29 26]\n",
        "[ 0 26]\n",
        "[15 18]\n",
        "[15  0]\n"
       ]
      }
     ],
     "prompt_number": 10
    },
    {
     "cell_type": "code",
     "collapsed": false,
     "input": [
      "c=1000\n",
      "x=randn(c)\n",
      "y=randn(c)\n",
      "plot(x, y, 'ro')\n",
      "pts=array([x, y]).T\n",
      "h=ConvexHull(pts)\n",
      "for s in h.simplices[:1]:\n",
      "    plot(pts[s,0], pts[s,1], )"
     ],
     "language": "python",
     "metadata": {},
     "outputs": [],
     "prompt_number": 21
    },
    {
     "cell_type": "code",
     "collapsed": false,
     "input": [
      "#plot(points[h.vertices,0], points[h.vertices,1], 'r--', lw=2)\n",
      "#plot(points[h.vertices[0],0], points[h.vertices[0],1], 'ro')"
     ],
     "language": "python",
     "metadata": {},
     "outputs": [],
     "prompt_number": 15
    }
   ],
   "metadata": {}
  }
 ]
}