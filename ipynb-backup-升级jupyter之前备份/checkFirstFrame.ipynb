{
 "metadata": {
  "name": "checkFirstFrame"
 },
 "nbformat": 3,
 "nbformat_minor": 0,
 "worksheets": [
  {
   "cells": [
    {
     "cell_type": "code",
     "collapsed": false,
     "input": [
      "#\u4e0d\u662f\u7b2c\u4e00\u5e27\uff0c\u68c0\u67e5\u524d\u4e00\u767e\u5e27\n",
      "%pylab\n",
      "%cd E:\\workspace\\PyCeshi\\curveViewer\n",
      "import os, sys\n",
      "import re\n",
      "from lxml import etree\n",
      "#print sys.path\n",
      "from utils import *\n",
      "from xmlBackCompat import loadNewXmlTree"
     ],
     "language": "python",
     "metadata": {},
     "outputs": [
      {
       "output_type": "stream",
       "stream": "stdout",
       "text": [
        "\n",
        "Welcome to pylab, a matplotlib-based Python environment [backend: Qt4Agg].\n",
        "For more information, type 'help(pylab)'.\n"
       ]
      },
      {
       "output_type": "stream",
       "stream": "stdout",
       "text": [
        "E:\\workspace\\PyCeshi\\curveViewer\n"
       ]
      }
     ],
     "prompt_number": 12
    },
    {
     "cell_type": "code",
     "collapsed": false,
     "input": [
      "path=ur'E:\\\u684c\u9762-2012-12-31\\bysj \u6bd5\u4e1a\u8bbe\u8ba1 \u6bd5\u8bbe\\\u6bd5\u8bbe-\u8d44\u6599\\step-counting,detection\\\u6211\u7684\u8ba1\u6b65\u7b97\u6cd5\u5b9e\u73b0\\\u884c\u4e3a\u8bc6\u522b\u6570\u636e\u91c7\u96c6\u5907\u4efd\\\u51fa\u79df\u8f66\u9a7e\u9a76\u6570\u636e\\all'\n",
      "path=ur'D:\\Documents\\Desktop\\\u6296\u817f+\u73a9\u624b\u673a'\n",
      "path=ur'D:\\Documents\\Desktop\\20140222\u9a7e\u9a761\u4eba\u591a\u8f66\u91c7\u96c6\u6570\u636e\\zb'\n",
      "#upath=unicode(path, 'utf')\n",
      "psr = etree.XMLParser(remove_blank_text=True)\n",
      "files=os.listdir(path)\n",
      "print 'len(files):', len(files)\n",
      "for f in files[:]:\n",
      "    abspath=os.path.join(path,f)\n",
      "    confFname=os.path.splitext(abspath)[0]+'.txt'\n",
      "    \n",
      "    \n",
      "    #print abspath\n",
      "    if os.path.isdir(abspath) or not abspath.endswith('.xml'):\n",
      "        continue\n",
      "    tree=etree.parse(abspath, parser=psr)\n",
      "    rt=tree.getroot()\n",
      "    data=loadNewXmlTree(rt)\n",
      "    ats=data[Keys.kA][:, 0]\n",
      "    t98=ats[98]\n",
      "    t49=ats[49]\n",
      "    t0=ats[0]\n",
      "    dt1=t49-t0\n",
      "    dt2=t98-t49\n",
      "    print f, ats.shape, dt1, dt2, '\\t\\t%.2f'%(dt1/dt2)\n",
      "    if(dt1>2*dt2):\n",
      "        print '-----------------------------',f\n",
      "    startTime=max(float(v[0][0]) for _,v in data.items())\n",
      "    stopTime=min(float(v[-1][0]) for _,v in data.items())\n",
      "    #label=int(f.split('_')[1][1]) #\u7528\u6237\u81ea\u5df1\u7528\u4e86 \"_\" \u7684\u8bdd\u5bfc\u81f4\u9519\u8bef\uff0c \u6539\u7528 regex\uff1a\n",
      "    m=re.search('_a[0-5]_', f)\n",
      "    label=int(f[m.start()+2])\n",
      "    #print label\n",
      "    txt=open(confFname, 'w')\n",
      "    txt.write('%d %f %f'%(label, startTime, stopTime))\n",
      "    txt.close()\n",
      "    \n",
      "    "
     ],
     "language": "python",
     "metadata": {},
     "outputs": [
      {
       "output_type": "stream",
       "stream": "stdout",
       "text": [
        "len(files): 4\n",
        "zb_baolai_a5_0.xml"
       ]
      },
      {
       "output_type": "stream",
       "stream": "stdout",
       "text": [
        " (6254,) 0.982532024384 0.980921983719 \t\t1.00\n",
        "zb_ft_a5_0.xml"
       ]
      },
      {
       "output_type": "stream",
       "stream": "stdout",
       "text": [
        " (6016,) 0.982291936874 0.980814933777 \t\t1.00\n",
        "zhoubing_kaiyue_a5_0.xml"
       ]
      },
      {
       "output_type": "stream",
       "stream": "stdout",
       "text": [
        " (2978,) 0.982248783112 0.981012105942 \t\t1.00\n"
       ]
      }
     ],
     "prompt_number": 15
    },
    {
     "cell_type": "code",
     "collapsed": false,
     "input": [],
     "language": "python",
     "metadata": {},
     "outputs": []
    }
   ],
   "metadata": {}
  }
 ]
}