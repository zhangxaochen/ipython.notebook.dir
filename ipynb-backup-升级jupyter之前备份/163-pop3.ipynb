{
 "metadata": {
  "name": "",
  "signature": "sha256:387325300f50634da088a007fb2bdeabe563eafbb76d7d05fdd897013bc9b9dd"
 },
 "nbformat": 3,
 "nbformat_minor": 0,
 "worksheets": [
  {
   "cells": [
    {
     "cell_type": "code",
     "collapsed": true,
     "input": [
      "import string\n",
      "import poplib\n",
      "import StringIO, rfc822\n",
      " \n",
      "servername = \"pop3.126.com\"\n",
      "username = \"username here\"\n",
      "passwd = \"password here\"\n",
      " \n",
      "#\u8fde\u63a5 \u767b\u5f55 \u670d\u52a1\u5668\n",
      "pop = poplib.POP3(servername)\n",
      "pop.set_debuglevel(1)            #\u4f1a\u6253\u5370\u51fadebug\u4fe1\u606f\n",
      "pop.user(username)\n",
      "pop.pass_(passwd)\n",
      " \n",
      "#\u5217\u51fa\u90ae\u4ef6\u4fe1\u606f\n",
      "num,total_size = pop.stat()\n",
      " \n",
      "#\u53d6\u5f97\u6700\u65b0\u7684\u90ae\u4ef6\n",
      "hdr,text,octet=pop.retr(num)\n",
      " \n",
      "#\u5bf9\u90ae\u4ef6\u8fdb\u884c\u64cd\u4f5c\n",
      "text = string.join(text, \"\\n\")\n",
      "file = StringIO.StringIO(text)\n",
      " \n",
      "message = rfc822.Message(file)\n",
      " \n",
      "for k, v in message.items():\n",
      "    print k, \"=\", v\n",
      " \n",
      "print message.fp.read()"
     ],
     "language": "python",
     "metadata": {},
     "outputs": [
      {
       "output_type": "stream",
       "stream": "stdout",
       "text": [
        "*cmd* 'USER username here'\n",
        "*cmd* 'PASS password here'\n"
       ]
      },
      {
       "ename": "error_proto",
       "evalue": "-ERR \u60a8\u6ca1\u6709\u6743\u9650\u4f7f\u7528pop3\u529f\u80fd",
       "output_type": "pyerr",
       "traceback": [
        "\u001b[1;31m---------------------------------------------------------------------------\u001b[0m\n\u001b[1;31merror_proto\u001b[0m                               Traceback (most recent call last)",
        "\u001b[1;32m<ipython-input-92-1952d0a1830e>\u001b[0m in \u001b[0;36m<module>\u001b[1;34m()\u001b[0m\n\u001b[0;32m     11\u001b[0m \u001b[0mpop\u001b[0m\u001b[1;33m.\u001b[0m\u001b[0mset_debuglevel\u001b[0m\u001b[1;33m(\u001b[0m\u001b[1;36m1\u001b[0m\u001b[1;33m)\u001b[0m            \u001b[1;31m#\u4f1a\u6253\u5370\u51fadebug\u4fe1\u606f\u001b[0m\u001b[1;33m\u001b[0m\u001b[0m\n\u001b[0;32m     12\u001b[0m \u001b[0mpop\u001b[0m\u001b[1;33m.\u001b[0m\u001b[0muser\u001b[0m\u001b[1;33m(\u001b[0m\u001b[0musername\u001b[0m\u001b[1;33m)\u001b[0m\u001b[1;33m\u001b[0m\u001b[0m\n\u001b[1;32m---> 13\u001b[1;33m \u001b[0mpop\u001b[0m\u001b[1;33m.\u001b[0m\u001b[0mpass_\u001b[0m\u001b[1;33m(\u001b[0m\u001b[0mpasswd\u001b[0m\u001b[1;33m)\u001b[0m\u001b[1;33m\u001b[0m\u001b[0m\n\u001b[0m\u001b[0;32m     14\u001b[0m \u001b[1;33m\u001b[0m\u001b[0m\n\u001b[0;32m     15\u001b[0m \u001b[1;31m#\u5217\u51fa\u90ae\u4ef6\u4fe1\u606f\u001b[0m\u001b[1;33m\u001b[0m\u001b[1;33m\u001b[0m\u001b[0m\n",
        "\u001b[1;32mD:\\Anaconda\\lib\\poplib.pyc\u001b[0m in \u001b[0;36mpass_\u001b[1;34m(self, pswd)\u001b[0m\n\u001b[0;32m    187\u001b[0m         \u001b[0mNB\u001b[0m\u001b[1;33m:\u001b[0m \u001b[0mmailbox\u001b[0m \u001b[1;32mis\u001b[0m \u001b[0mlocked\u001b[0m \u001b[0mby\u001b[0m \u001b[0mserver\u001b[0m \u001b[1;32mfrom\u001b[0m \u001b[0mhere\u001b[0m \u001b[0mto\u001b[0m \u001b[1;34m'quit()'\u001b[0m\u001b[1;33m\u001b[0m\u001b[0m\n\u001b[0;32m    188\u001b[0m         \"\"\"\n\u001b[1;32m--> 189\u001b[1;33m         \u001b[1;32mreturn\u001b[0m \u001b[0mself\u001b[0m\u001b[1;33m.\u001b[0m\u001b[0m_shortcmd\u001b[0m\u001b[1;33m(\u001b[0m\u001b[1;34m'PASS %s'\u001b[0m \u001b[1;33m%\u001b[0m \u001b[0mpswd\u001b[0m\u001b[1;33m)\u001b[0m\u001b[1;33m\u001b[0m\u001b[0m\n\u001b[0m\u001b[0;32m    190\u001b[0m \u001b[1;33m\u001b[0m\u001b[0m\n\u001b[0;32m    191\u001b[0m \u001b[1;33m\u001b[0m\u001b[0m\n",
        "\u001b[1;32mD:\\Anaconda\\lib\\poplib.pyc\u001b[0m in \u001b[0;36m_shortcmd\u001b[1;34m(self, line)\u001b[0m\n\u001b[0;32m    150\u001b[0m     \u001b[1;32mdef\u001b[0m \u001b[0m_shortcmd\u001b[0m\u001b[1;33m(\u001b[0m\u001b[0mself\u001b[0m\u001b[1;33m,\u001b[0m \u001b[0mline\u001b[0m\u001b[1;33m)\u001b[0m\u001b[1;33m:\u001b[0m\u001b[1;33m\u001b[0m\u001b[0m\n\u001b[0;32m    151\u001b[0m         \u001b[0mself\u001b[0m\u001b[1;33m.\u001b[0m\u001b[0m_putcmd\u001b[0m\u001b[1;33m(\u001b[0m\u001b[0mline\u001b[0m\u001b[1;33m)\u001b[0m\u001b[1;33m\u001b[0m\u001b[0m\n\u001b[1;32m--> 152\u001b[1;33m         \u001b[1;32mreturn\u001b[0m \u001b[0mself\u001b[0m\u001b[1;33m.\u001b[0m\u001b[0m_getresp\u001b[0m\u001b[1;33m(\u001b[0m\u001b[1;33m)\u001b[0m\u001b[1;33m\u001b[0m\u001b[0m\n\u001b[0m\u001b[0;32m    153\u001b[0m \u001b[1;33m\u001b[0m\u001b[0m\n\u001b[0;32m    154\u001b[0m \u001b[1;33m\u001b[0m\u001b[0m\n",
        "\u001b[1;32mD:\\Anaconda\\lib\\poplib.pyc\u001b[0m in \u001b[0;36m_getresp\u001b[1;34m(self)\u001b[0m\n\u001b[0;32m    126\u001b[0m         \u001b[0mc\u001b[0m \u001b[1;33m=\u001b[0m \u001b[0mresp\u001b[0m\u001b[1;33m[\u001b[0m\u001b[1;33m:\u001b[0m\u001b[1;36m1\u001b[0m\u001b[1;33m]\u001b[0m\u001b[1;33m\u001b[0m\u001b[0m\n\u001b[0;32m    127\u001b[0m         \u001b[1;32mif\u001b[0m \u001b[0mc\u001b[0m \u001b[1;33m!=\u001b[0m \u001b[1;34m'+'\u001b[0m\u001b[1;33m:\u001b[0m\u001b[1;33m\u001b[0m\u001b[0m\n\u001b[1;32m--> 128\u001b[1;33m             \u001b[1;32mraise\u001b[0m \u001b[0merror_proto\u001b[0m\u001b[1;33m(\u001b[0m\u001b[0mresp\u001b[0m\u001b[1;33m)\u001b[0m\u001b[1;33m\u001b[0m\u001b[0m\n\u001b[0m\u001b[0;32m    129\u001b[0m         \u001b[1;32mreturn\u001b[0m \u001b[0mresp\u001b[0m\u001b[1;33m\u001b[0m\u001b[0m\n\u001b[0;32m    130\u001b[0m \u001b[1;33m\u001b[0m\u001b[0m\n",
        "\u001b[1;31merror_proto\u001b[0m: -ERR \u60a8\u6ca1\u6709\u6743\u9650\u4f7f\u7528pop3\u529f\u80fd"
       ]
      }
     ],
     "prompt_number": 92
    },
    {
     "cell_type": "code",
     "collapsed": false,
     "input": [
      "import poplib\n",
      "import email\n",
      "import rfc822\n",
      "import re\n",
      "from StringIO import StringIO\n",
      "\n",
      "p = poplib.POP3(servername)\n",
      "# p.set_debuglevel(1)\n",
      "p.getwelcome()\n",
      "\n",
      "print p.user(username)\n",
      "print p.pass_(passwd)\n",
      "\n",
      "num, total_size = p.stat()\n",
      "print num, total_size\n",
      "\n",
      "hdr, text, octet = p.retr(num)\n",
      "txt = '\\n'.join(text)\n",
      "# msg = rfc822.Message(StringIO(txt))\n",
      "msg = email.message_from_string(txt)\n",
      "# for k, v in msg.items():\n",
      "#     print k, '---------------', v\n",
      "\n",
      "res = []\n",
      "for i in range(1, num+1):\n",
      "    hdr, text, octet = p.retr(i)\n",
      "    txt = '\\n'.join(text)\n",
      "    msg = email.message_from_string(txt)\n",
      "    subj = msg['subject']\n",
      "    #if 'hw' not in subj:\n",
      "    if not re.search(r'hw\\.\\d', subj):\n",
      "        continue\n",
      "    for part in msg.walk():\n",
      "        #print '+++++++++++++++', part.get_content_type()\n",
      "        if part.get_content_type() == 'text/plain':\n",
      "            c = part.get_payload(decode=True)\n",
      "            try:\n",
      "                #gistid, uid = re.search(r'(\\w{20}).*(3\\d{9})', c, flags=re.DOTALL).groups()\n",
      "                gistid = re.search(r'\\w{20}', c).group()\n",
      "                uid = re.search(r'3\\d{9}\\b', c).group()\n",
      "                res.append([uid, subj.split('.')[1], gistid])\n",
      "            except AttributeError:\n",
      "                print '---------------', c\n",
      "            \n",
      "            \n"
     ],
     "language": "python",
     "metadata": {},
     "outputs": [
      {
       "output_type": "stream",
       "stream": "stdout",
       "text": [
        "+OK core mail\n",
        "+OK 286 message(s) [1045503 byte(s)]\n",
        "286"
       ]
      },
      {
       "output_type": "stream",
       "stream": "stdout",
       "text": [
        " 1045503\n",
        "---------------"
       ]
      },
      {
       "output_type": "stream",
       "stream": "stdout",
       "text": [
        " b590301ce4cdeb7a7f9d\u200d\n",
        "---------------"
       ]
      },
      {
       "output_type": "stream",
       "stream": "stdout",
       "text": [
        " 3120101622\n",
        "\n",
        "\n",
        "\n",
        "\n",
        "---------------"
       ]
      },
      {
       "output_type": "stream",
       "stream": "stdout",
       "text": [
        " a54c40dbccaf7b9bbabd\u200d\n",
        "---------------"
       ]
      },
      {
       "output_type": "stream",
       "stream": "stdout",
       "text": [
        " 4a4f35f68ddb7525cc6f\u200d\n"
       ]
      }
     ],
     "prompt_number": 181
    },
    {
     "cell_type": "code",
     "collapsed": false,
     "input": [
      "print len(res)\n",
      "sorted(res)"
     ],
     "language": "python",
     "metadata": {},
     "outputs": [
      {
       "output_type": "stream",
       "stream": "stdout",
       "text": [
        "165\n"
       ]
      },
      {
       "metadata": {},
       "output_type": "pyout",
       "prompt_number": 183,
       "text": [
        "[['3120100968', '1', '15ed428f062d6f5b5812'],\n",
        " ['3120101622', '1', 'f40ecd6042ae095f6b24'],\n",
        " ['3120102053', '1', '4d9dfc94671ac5187dc1'],\n",
        " ['3120102053', '2', '0b9f6aca24546aec947f'],\n",
        " ['3120102053', '3', '7d640934f18665dab528'],\n",
        " ['3120102053', '4', '967ee61e744244079836'],\n",
        " ['3120102316', '1', 'b2422d3b0dec40b51dae'],\n",
        " ['3120102647', '1', '1d91a0dd9e04b150f892'],\n",
        " ['3120102994', '1', 'ed8ce071c26df50b40e4'],\n",
        " ['3120103441', '1', 'a66a9f101f0c2107b061'],\n",
        " ['3120103959', '0', 'bdaf06a8dd844555e255'],\n",
        " ['3120103959', '0', 'd74c6dfacee6a8bbd7fd'],\n",
        " ['3120103959', '1', 'f63f5e3a2b16fbf84006'],\n",
        " ['3130000128', '1', 'c48939e67820620561da'],\n",
        " ['3130000128', '2', 'ef5e00592eef5a8c26fa'],\n",
        " ['3130000128', '5', 'f6331e4f28c3beb2faa3'],\n",
        " ['3130000211', '1', '325cd807e8b103a704ee'],\n",
        " ['3130000211', '2', 'e6b71a57e636bf649724'],\n",
        " ['3130000211', '3', '8852b7fd900e4e298556'],\n",
        " ['3130000547', '1', 'b590301ce4cdeb7a7f9d'],\n",
        " ['3130000547', '2', 'e6f6212183cb1ef984ed'],\n",
        " ['3130000547', '3', '215dbb913a8634ef75c2'],\n",
        " ['3130000547', '4', '9f061e8bade51fe0e576'],\n",
        " ['3130000547', '5', 'd50acae07e023f3e375c'],\n",
        " ['3130000587', '1', 'f5cf7f3612ca218b1d3b'],\n",
        " ['3130000598', '1', '9aa85435fa29651f946f'],\n",
        " ['3130000641', '1', '5aac4fa854d383c78662'],\n",
        " ['3130000641', '1', '904a5c9ed7f51ed80f10'],\n",
        " ['3130000641', '2', '7663f5375800a1113d3e'],\n",
        " ['3130000641', '3', 'db1054d8ccef4328705a'],\n",
        " ['3130000641', '4', 'd0d4bcaaf36b1e96b47c'],\n",
        " ['3130000641', '5', '4217067178e081d6c32f'],\n",
        " ['3130000691', '1', '61da3431a7a18ee6d727'],\n",
        " ['3130000691', '1', 'a1747fde2cc214758685'],\n",
        " ['3130000893', '1', '4c189fe541a38ca189f2'],\n",
        " ['3130000893', '1', 'bd2cae364ef23dbe8374'],\n",
        " ['3130000893', '2', 'd9cf624e4f55a0ae038f'],\n",
        " ['3130000893', '3', '5e6a9625418c2c554bc1'],\n",
        " ['3130000893', '4', '8e0e92b55515cb9f45f0'],\n",
        " ['3130000893', '5', 'a93acfd3625789ab4675'],\n",
        " ['3130000912', '1', 'de6feb75fd2fa452b2d6'],\n",
        " ['3130001021', '1', '296aa6c307b494c00361'],\n",
        " ['3130001021', '2', 'd10e058d05ad1d1ed40d'],\n",
        " ['3130001021', '3', 'b41fcafd6ebcd85a0bfb'],\n",
        " ['3130001021', '4', '8dc6f153f537c012f453'],\n",
        " ['3130100525', '1', '4d6dff0a2c98b0c207db'],\n",
        " ['3130100525', '2', 'b313301c8e0454a23374'],\n",
        " ['3130100525', '3', '72a79083df8a1b445983'],\n",
        " ['3130100595', '1', 'a68c82ec62e85e134170'],\n",
        " ['3130100595', '2', '4ca53ef1477b13563ff8'],\n",
        " ['3130100618', '1', '4ec6ce407626e0a55c7c'],\n",
        " ['3130100719', '1', 'd58428fe8653e03c8ab1'],\n",
        " ['3130100719', '2', '637d93df26eaec11b083'],\n",
        " ['3130100719', '3', '8de7dca4eb83ac23fd8b'],\n",
        " ['3130100719', '4', '67f8b0778faf80ce9d3e'],\n",
        " ['3130100830', '1', 'd427659be5b223661e90'],\n",
        " ['3130100831', '1', 'f783e06320ff1f5101f7'],\n",
        " ['3130100831', '2', '1d825b466bd3ad8d1893'],\n",
        " ['3130100831', '3', '29270b063601d9b1b831'],\n",
        " ['3130100831', '4', '2c2457acbbc60d0d8186'],\n",
        " ['3130100835', '1', 'ccb9a2d89035d9a5057d'],\n",
        " ['3130100835', '2', 'b0d3e74accbafa0bed2a'],\n",
        " ['3130100835', '3', '28d742361dee34dabe2b'],\n",
        " ['3130100835', '4', 'bd4d32a1b19b1f14243d'],\n",
        " ['3130100835', '5', '01e30731454d50c2d94a'],\n",
        " ['3130100835', '5', 'bd4d32a1b19b1f14243d'],\n",
        " ['3130100861', '1', 'bf697f7a53ff4124c1b5'],\n",
        " ['3130100861', '2', 'e562273259b09e78febc'],\n",
        " ['3130100861', '3', 'c104d615006c1785502d'],\n",
        " ['3130100861', '5', '1a6926c536103f176b58'],\n",
        " ['3130102117', '1', 'a14a83b0ff46ebd0ac0c'],\n",
        " ['3130102117', '2', 'e162e3b475d1469cc327'],\n",
        " ['3130102117', '3', '10d65fe5666d9abbd6ae'],\n",
        " ['3130102117', '3', '140734562325737d3887'],\n",
        " ['3130102117', '4', 'ab9c23f88f5f5dc0a83d'],\n",
        " ['3130102842', '1', '8f95cb1925431d14feaa'],\n",
        " ['3130102842', '2', '5f56915add03b473d1b5'],\n",
        " ['3130102842', '3', '5df376c699a959c7f40f'],\n",
        " ['3130102842', '4', '7187b369259d4d85acbc'],\n",
        " ['3130102844', '1?=', 'a44b1ab5354bd8b109bc'],\n",
        " ['3130102844', '1?=', 'a44b1ab5354bd8b109bc'],\n",
        " ['3130102844', '2?=', 'c59adf1e8428f539844e'],\n",
        " ['3130102844', '3?=', 'bf041e1b274ecb0d9b6a'],\n",
        " ['3130102844', '4?=', '4ac28c44729f80da9b7d'],\n",
        " ['3130102844', '5?=', '4d28c73d2bbb7633008d'],\n",
        " ['3130102848', '1', 'c6b2949504c27b4918cb'],\n",
        " ['3130102848', '2', '9d62d8f999e1eb64800b'],\n",
        " ['3130102848', '3', '90684988d1a388bfdf4b'],\n",
        " ['3130102848', '4', 'a441b7a1739e8d1dfe15'],\n",
        " ['3130102855', '1', 'b6d0db973eacddba8849'],\n",
        " ['3130102855', '2', '6e0d705e7bb0c8040501'],\n",
        " ['3130102855', '3', '12349a2ad9d03792c771'],\n",
        " ['3130102855', '4', '2d78c2570f4f3f7f54cd'],\n",
        " ['3130102855', '5', 'ff46fa6850cf34f69ee9'],\n",
        " ['3130102857', '1', '946769150ec1b892ebb3'],\n",
        " ['3130102865', '1', 'b79f0306c0983835b998'],\n",
        " ['3130102866', '1', 'dd47e4a796786f604240'],\n",
        " ['3130102866', '2', '1fdaf2e3aabde1b3982e'],\n",
        " ['3130102866', '4', '6df47e2697d7036c8af6'],\n",
        " ['3130102867', '1', 'e855e257d276fd559267'],\n",
        " ['3130102869', '1', '7fe13f938fe817b79832'],\n",
        " ['3130102869', '2', '2d93d4e736c8085650f1'],\n",
        " ['3130102869', '3', '8d90dd96af900a4bd9e3'],\n",
        " ['3130102869', '3', 'c036ffabe0921064b2b8'],\n",
        " ['3130102869', '4', '0cd7274e119530a873aa'],\n",
        " ['3130102869', '5', 'fcbbfbb7239fa5870050'],\n",
        " ['3130102882', '1', '2612bbaff53b2d2d344d'],\n",
        " ['3130102882', '2', 'b8ce4591583cdeb8f090'],\n",
        " ['3130102882', '3', 'ec211d4c6d09bb4dab0b'],\n",
        " ['3130102882', '4', '6a25fb0717878126cdaa'],\n",
        " ['3130102882', '5', '0c49ad99b6c292c62538'],\n",
        " ['3130102884', '1', 'b3b5afd8dd135f9cb627'],\n",
        " ['3130102884', '2', 'd68de5ff10f056ce4439'],\n",
        " ['3130102884', '3', '62d8d5ba2cc8eefc9d6a'],\n",
        " ['3130102884', '4', '7450fb700f1729a424e3'],\n",
        " ['3130103072', '1', '4be58503e2f2745fba23'],\n",
        " ['3130103072', '2', '65c7d09437e4fa02ee06'],\n",
        " ['3130103072', '3', '8879022f7d1e50d5c405'],\n",
        " ['3130103072', '5', '06e8ede3556411a8194a'],\n",
        " ['3130103500', '1', '7b8e192af0ef19f3277f'],\n",
        " ['3130103504', '1', 'b80638e3b978ce081676'],\n",
        " ['3130103504', '2', '8a98967be2222d8fb0d6'],\n",
        " ['3130103504', '3', '67e2d01456c0395e44df'],\n",
        " ['3130103504', '4', '5813a4ef2076bf1e4ee3'],\n",
        " ['3130103542', '1', 'd18e724a10a74573b76e'],\n",
        " ['3130103542', '2', '42fef8be398a1af3c0fb'],\n",
        " ['3130103542', '3', 'db30007b782e171a7641'],\n",
        " ['3130103542', '4', 'd2eb17e065f5f9dfa76b'],\n",
        " ['3130103542', '4', 'e83ea1cc147c0459f6a8'],\n",
        " ['3130103542', '5', 'bb4096363809f0cfd4b3'],\n",
        " ['3130104008', '1', 'c8cd054394710d8c78c8'],\n",
        " ['3130104008', '2', 'e49c73b03456e4a766e3'],\n",
        " ['3130104008', '3', 'eacf0014086322888df4'],\n",
        " ['3130104008', '4', '1ba22459dcf5f1948f26'],\n",
        " ['3130104153', '1', '46e665b3ac65db64bb14'],\n",
        " ['3130104153', '2', '88b38041df2213f916b2'],\n",
        " ['3130104153', '3', '3ee11390e95dbb82ee41'],\n",
        " ['3130104153', '4', '8179005fe8109b877c94'],\n",
        " ['3130104153', '5', '3717afff1b5084babd92'],\n",
        " ['3130104197', '1', '9ab1a371e6e6cb0cddf8'],\n",
        " ['3130104229', '1', '7beadcafe107429a7c68'],\n",
        " ['3130104869', '1', '6c7597d7e8bbebf8c3f1'],\n",
        " ['3130104869', '1', '6c7597d7e8bbebf8c3f1'],\n",
        " ['3130104869', '2', 'eb33705b0e39ef214645'],\n",
        " ['3130104869', '3', '1c89d119cb5a23c956f0'],\n",
        " ['3130104869', '5', '806ed404a1457b6d60fc'],\n",
        " ['3130104881', '1', '45173c6bca748e4ed9ab'],\n",
        " ['3130104881', '2', 'd0b030ad93fcefc360b3'],\n",
        " ['3130104881', '3', 'c079eaae3ced5704cfb5'],\n",
        " ['3130104887', '1', '431c27ff8ddfb69df471'],\n",
        " ['3130104887', '1', '431c27ff8ddfb69df471'],\n",
        " ['3130104887', '1', '431c27ff8ddfb69df471'],\n",
        " ['3130104887', '1', '431c27ff8ddfb69df471'],\n",
        " ['3130104887', '2', '7493bd7899519c3e65c6'],\n",
        " ['3130104887', '3', '4d72fbbaf1282c0af03e'],\n",
        " ['3130104887', '4', 'd547d226cdfe7c70b66b'],\n",
        " ['3130104921', '1', '3e05179e0063038d393e'],\n",
        " ['3130104921', '1', '8d2ac1d7bf8869ec25db'],\n",
        " ['3130104921', '2', 'd87d1744011bff424e92'],\n",
        " ['3130104921', '3', '4b5e6e30de59d402863d'],\n",
        " ['3130104921', '4', 'd6171d057a445dec76ad'],\n",
        " ['3130104922', '1', 'a800764436b5769d2728'],\n",
        " ['3130104922', '2', '58d952167d1743932b5e'],\n",
        " ['3130104922', '3', 'a8fd7b5aeb0c38f0b896'],\n",
        " ['3130104922', '5', '4bc0743f21cfe22ca72f']]"
       ]
      }
     ],
     "prompt_number": 183
    },
    {
     "cell_type": "code",
     "collapsed": false,
     "input": [
      "re.search(r'(\\w{20}).*(3\\d{9})', c, flags=re.DOTALL).groups()"
     ],
     "language": "python",
     "metadata": {},
     "outputs": [
      {
       "metadata": {},
       "output_type": "pyout",
       "prompt_number": 169,
       "text": [
        "('ab9c23f88f5f5dc0a83d', '3130102117')"
       ]
      }
     ],
     "prompt_number": 169
    },
    {
     "cell_type": "code",
     "collapsed": false,
     "input": [
      "c"
     ],
     "language": "python",
     "metadata": {},
     "outputs": [
      {
       "metadata": {},
       "output_type": "pyout",
       "prompt_number": 162,
       "text": [
        "'ab9c23f88f5f5dc0a83d\\n3130102117'"
       ]
      }
     ],
     "prompt_number": 162
    },
    {
     "cell_type": "code",
     "collapsed": false,
     "input": [
      "s = '\u6211\u4eec\u90fd\u662f\u4e2d\u56fd\u4eba\u54c8\u54c8\u54c8\u6211\u4eec\u90fd\u662f\u4e2d\u56fd\u4eba\u54c8\u54c8\u54c8\u6211\u4eec\u90fd\u662f\u4e2d\u56fd\u4eba\u54c8\u54c8\u54c8'\n",
      "re.search(r'\\w{20}', s).group()"
     ],
     "language": "python",
     "metadata": {},
     "outputs": [
      {
       "ename": "AttributeError",
       "evalue": "'NoneType' object has no attribute 'group'",
       "output_type": "pyerr",
       "traceback": [
        "\u001b[1;31m---------------------------------------------------------------------------\u001b[0m\n\u001b[1;31mAttributeError\u001b[0m                            Traceback (most recent call last)",
        "\u001b[1;32m<ipython-input-153-5129dc241ae7>\u001b[0m in \u001b[0;36m<module>\u001b[1;34m()\u001b[0m\n\u001b[0;32m      1\u001b[0m \u001b[0ms\u001b[0m \u001b[1;33m=\u001b[0m \u001b[1;34m'\u6211\u4eec\u90fd\u662f\u4e2d\u56fd\u4eba\u54c8\u54c8\u54c8\u6211\u4eec\u90fd\u662f\u4e2d\u56fd\u4eba\u54c8\u54c8\u54c8\u6211\u4eec\u90fd\u662f\u4e2d\u56fd\u4eba\u54c8\u54c8\u54c8'\u001b[0m\u001b[1;33m\u001b[0m\u001b[0m\n\u001b[1;32m----> 2\u001b[1;33m \u001b[0mre\u001b[0m\u001b[1;33m.\u001b[0m\u001b[0msearch\u001b[0m\u001b[1;33m(\u001b[0m\u001b[1;34mr'\\w{20}'\u001b[0m\u001b[1;33m,\u001b[0m \u001b[0ms\u001b[0m\u001b[1;33m)\u001b[0m\u001b[1;33m.\u001b[0m\u001b[0mgroup\u001b[0m\u001b[1;33m(\u001b[0m\u001b[1;33m)\u001b[0m\u001b[1;33m\u001b[0m\u001b[0m\n\u001b[0m",
        "\u001b[1;31mAttributeError\u001b[0m: 'NoneType' object has no attribute 'group'"
       ]
      }
     ],
     "prompt_number": 153
    },
    {
     "cell_type": "code",
     "collapsed": false,
     "input": [
      "print '\\xd0\\xd5\\xc3\\xfb\\xa3\\xba\\xcb\\xef\\xd6\\xc5\\xc1\\xba\\xca\\xd6\\xbb\\xfa\\xba\\xc5\\xa3\\xba18868102195'.decode('gbk')"
     ],
     "language": "python",
     "metadata": {},
     "outputs": [
      {
       "output_type": "stream",
       "stream": "stdout",
       "text": [
        "\u59d3\u540d\uff1a\u5b59\u5cd9\u6881\u624b\u673a\u53f7\uff1a18868102195\n"
       ]
      }
     ],
     "prompt_number": 142
    },
    {
     "cell_type": "code",
     "collapsed": false,
     "input": [
      "import email\n",
      "msg = email.message_from_string(txt)\n",
      "subj = msg.get('subject')\n",
      "print '---------------subj:', subj\n",
      "hdr = email.Header.Header(subj)\n",
      "dh = email.Header.decode_header(hdr)\n",
      "subj = dh[0][0]\n",
      "print hdr\n",
      "print subj, type(subj)\n",
      "\n",
      "mykeys = ['subject', 'x-coremail-antispam']\n",
      "for k in mykeys:\n",
      "    v = msg.get(k)\n",
      "    v.decode()\n",
      "    hdr = email.Header.Header(v)\n",
      "    dh = email.Header.decode_header(hdr)\n",
      "    c = dh[0][0]\n",
      "    print k, '---------------:', c\n"
     ],
     "language": "python",
     "metadata": {},
     "outputs": [
      {
       "output_type": "stream",
       "stream": "stdout",
       "text": [
        "---------------subj: hw.4\n",
        "hw.4\n",
        "hw.4 <type 'str'>\n",
        "subject ---------------: hw.4\n",
        "x-coremail-antispam ---------------: 1U5529EdanIXcx71UUUUU7vcSsGvfC2KfnxnUU==\n"
       ]
      }
     ],
     "prompt_number": 117
    }
   ],
   "metadata": {}
  }
 ]
}