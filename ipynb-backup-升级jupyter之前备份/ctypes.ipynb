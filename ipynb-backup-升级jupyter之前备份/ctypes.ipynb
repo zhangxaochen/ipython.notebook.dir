{
 "metadata": {
  "name": "ctypes"
 },
 "nbformat": 3,
 "nbformat_minor": 0,
 "worksheets": [
  {
   "cells": [
    {
     "cell_type": "code",
     "collapsed": false,
     "input": [
      "import os, sys, ctypes\n",
      "from ctypes import *\n",
      "os.chdir(r'E:\\workspace\\SensorDB_API\\proj.win32\\Debug')\n",
      "os.getcwd()\n",
      "ctypes.windll.kernel32.GetModuleHandleA\n",
      "\n",
      "#cdll, windll \u6ca1\u533a\u522b\uff1f\n",
      "lib=ctypes.cdll.LoadLibrary('./ceshi.dll')\n",
      "l2=ctypes.cdll.LoadLibrary('SensorDB_API.dll')\n",
      "\n",
      "print lib.myFunc()\n",
      "s=lib.myFunc(3,55)\n",
      "print type(s), s\n",
      "l2.myFunc()\n",
      "mc=l2.myclassCreate()\n",
      "print l2.myclassTestInt(mc, 33)\n",
      "ss=l2.myclassTestString(mc)\n",
      "print c_char_p(ss).value, ss"
     ],
     "language": "python",
     "metadata": {},
     "outputs": [
      {
       "output_type": "stream",
       "stream": "stdout",
       "text": [
        "5232456\n",
        "<type 'int'> 58\n",
        "66\n",
        "in testString() 5801632\n"
       ]
      }
     ],
     "prompt_number": 11
    },
    {
     "cell_type": "code",
     "collapsed": false,
     "input": [
      "db=l2.sensordbCreate()\n",
      "l2.sensordbOpenDB(db, '10.12.34.98', 'CAPGSensorDB_Test', 'capgadmin', 'capg11207')\n",
      "isOpen=l2.sensordbIsOpen(db)\n",
      "print isOpen\n",
      "c_bool(isOpen).value"
     ],
     "language": "python",
     "metadata": {},
     "outputs": [
      {
       "output_type": "stream",
       "stream": "stdout",
       "text": [
        "2616064\n"
       ]
      },
      {
       "output_type": "pyout",
       "prompt_number": 12,
       "text": [
        "True"
       ]
      }
     ],
     "prompt_number": 12
    },
    {
     "cell_type": "code",
     "collapsed": false,
     "input": [
      "from ctypes import *\n",
      "class SensorDB:\n",
      "    db=None;\n",
      "    def __init__(self):\n",
      "        lib=cdll.LoadLibrary('./SensorDB_API.dll')\n",
      "        db=lib.sensordbCreate()\n",
      "    \n",
      "    def OpenDB(self, ipAddress, dbName, uid, pwd):\n",
      "        return lib.sensordbOpenDB(db, ipAddress, dbName, uid, pwd)\n",
      "    \n",
      "               "
     ],
     "language": "python",
     "metadata": {},
     "outputs": [],
     "prompt_number": 2
    }
   ],
   "metadata": {}
  }
 ]
}