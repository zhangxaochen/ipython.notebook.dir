{
 "metadata": {
  "name": ""
 },
 "nbformat": 3,
 "nbformat_minor": 0,
 "worksheets": [
  {
   "cells": [
    {
     "cell_type": "code",
     "collapsed": false,
     "input": [
      "'hand \u6570\u636e, \u5434\u9e4f\u9e4f\u91c7\u96c6'\n",
      "\n",
      "%pylab\n",
      "import numpy as np\n",
      "import re\n",
      "from glob import glob\n",
      "import os, sys\n",
      "from collections import Counter\n",
      "import heapq\n",
      "import cv2\n",
      "cv=cv2\n",
      "\n",
      "def scale(dat, nmin, nmax):\n",
      "    dat=np.asarray(dat)\n",
      "    omin=dat.min()\n",
      "    omax=dat.max()\n",
      "    orange=omax-omin\n",
      "    #nmax=255; nmin=0\n",
      "    nrange=nmax-nmin\n",
      "    assert nrange>=0, 'nmax must be greater than nmin'\n",
      "    return (dat-omin)*nrange*1.0/orange+nmin\n",
      "\n",
      "'WPP \u7684csv\u4e2d\uff0c 0\u4f5c\u4e3a\u80cc\u666f\u503c'\n",
      "invalid=0\n",
      "def loadCsv(fn):\n",
      "    d=np.loadtxt(fn)\n",
      "    '\u627e\u5230\u6709\u6548\u503c\u7684 max, min'\n",
      "    dmax=d.max()\n",
      "    fd=d.flatten()\n",
      "    sfd=set(fd)\n",
      "    dmin=heapq.nsmallest(2, sfd)[-1]\n",
      "\n",
      "    'invalid \u91cd\u65b0\u8d4b\u503c'\n",
      "    #dc=d.copy()\n",
      "    #dc[d==invalid]=dmax+(dmax-dmin)*.1\n",
      "    d[d==invalid]=dmax+(dmax-dmin)*.1\n",
      "    \n",
      "    return d\n",
      "\n",
      "%cd D:\\Administrator\\Desktop\\obj&csv"
     ],
     "language": "python",
     "metadata": {},
     "outputs": [
      {
       "output_type": "stream",
       "stream": "stdout",
       "text": [
        "Using matplotlib backend: Qt4Agg\n",
        "Populating the interactive namespace from numpy and matplotlib\n",
        "D:\\Administrator\\Desktop\\obj&csv"
       ]
      },
      {
       "output_type": "stream",
       "stream": "stdout",
       "text": [
        "\n"
       ]
      }
     ],
     "prompt_number": 1
    },
    {
     "cell_type": "code",
     "collapsed": false,
     "input": [
      "'\u6d4b\u8bd5 pylab \u753b\u6df1\u5ea6\u56fe'\n",
      "fn='handPoint0.csv'\n",
      "dc=loadCsv(fn)\n",
      "imshow(scale(dc, 0, 255), cmap=cm.gray)\n",
      "# imshow(dc, cm.gray) #\u4e0d scale \u6548\u679c\u4f3c\u4e4e\u4e5f\u4e00\u6837\n"
     ],
     "language": "python",
     "metadata": {},
     "outputs": [
      {
       "metadata": {},
       "output_type": "pyout",
       "prompt_number": 4,
       "text": [
        "<matplotlib.image.AxesImage at 0x87376b0>"
       ]
      }
     ],
     "prompt_number": 4
    },
    {
     "cell_type": "code",
     "collapsed": false,
     "input": [
      "'opencv \u64ad\u653e\u52a8\u753b\u5f0f\u67e5\u770b\u6df1\u5ea6\u56fe'\n",
      "\n",
      "files=glob('*.csv')\n",
      "wn='hand'\n",
      "'\u95f4\u9694\uff0c\u6beb\u79d2\uff0c 0 \u4e3a\u624b\u52a8\u6309\u952e\u63a7\u5236'\n",
      "intv=800\n",
      "for i in range(len(files)):\n",
      "# for i in range(77, 100):\n",
      "    fn='handPoint%d.csv'%i\n",
      "    if not os.path.isfile(fn): continue\n",
      "    #print fn\n",
      "    #d=np.loadtxt(fn)\n",
      "    img=loadCsv(fn)\n",
      "    #print img\n",
      "    cv.imshow(wn, scale(img, 0, 1))\n",
      "    k=cv.waitKey(intv)\n",
      "    if k==ord('q'):\n",
      "        print 'i:', i\n",
      "        break\n",
      "    \n",
      "cv.destroyAllWindows()\n"
     ],
     "language": "python",
     "metadata": {},
     "outputs": [],
     "prompt_number": 5
    },
    {
     "cell_type": "code",
     "collapsed": false,
     "input": [
      "'''\n",
      "\u7ed9\u5b59\u56fd\u98de\u8f93\u51fa\u65b0obj, \u89c4\u5219\uff1a\n",
      "\u7b2c\u4e00\u884c\u603b\u70b9\u6570\uff0c\u7b2c\u4e8c\u884c\u516d\u5757\u5404\u81ea\u70b9\u6570\uff0c\n",
      "\u4e4b\u540e 'v x y z', \u7a7a\u884c\u5206\u5272\u516d\u5757\n",
      "'''\n",
      "delim=','\n",
      "maxDepth=10000\n",
      "\n",
      "def outputObj(cfn, lfn, ofn):\n",
      "    ur'''\n",
      "    PARAMS\n",
      "    ---------------\n",
      "    cfn: \u5434\u9e4f\u9e4f csv \u6df1\u5ea6\u56fe, input\n",
      "    lfn: \u5f20\u5a1c png \u5f69\u8272 label \u56fe, input\n",
      "    ofn: \u6309\u534f\u8bae\u683c\u5f0f\u8f93\u51fa\u7684 .obj\uff0c output\n",
      "    \n",
      "    RETURNS\n",
      "    ---------------\n",
      "    None\n",
      "    '''\n",
      "    img=pylab.imread(lfn)\n",
      "    #pylab.imshow(img)\n",
      "\n",
      "    depth=np.loadtxt(cfn, dtype=int, delimiter=delim)\n",
      "#     depth=np.loadtxt(cfn, dtype=int, delimiter=' ')\n",
      "    \n",
      "    #\u50cf\u7d20\u70b9\u505a tuple(x,y,z), 2D -> 1D:\n",
      "#     pxs=[tuple(i) for i in img.flatten().reshape((-1, 3))]    \n",
      "#     colors=sorted(set(pxs))\n",
      "    '--------------------------list, not set !!!!!!!!'\n",
      "    colors=[\n",
      "        (0.0, 0.0, 1.0),\n",
      "        (0.0, 1.0, 0.0),\n",
      "        (0.47058824, 0.70588237, 0.0),\n",
      "        (1.0, 0.0, 0.0),\n",
      "        (1.0, 0.0, 1.0),\n",
      "        (1.0, 1.0, 0.0),\n",
      "        ]\n",
      "    #print 'colors:', colors\n",
      "    #orders=[4, 5, 3, 0, 1, 2]\n",
      "    orders=[2, 1, 3, 0, 4, 5]\n",
      "    # cdic=dict(zip(colors, orders))    \n",
      "    'dict(\u7f16\u53f7: \u989c\u8272), 0~5 \u987a\u5e8f\u4e3a\uff1a \u624b\u638c\uff0c \u62c7\u6307 -> \u5c0f\u6307'\n",
      "    cdic=dict(zip(orders, colors))\n",
      "#     print 'cdic:', cdic\n",
      "    with open(ofn, 'w') as f:\n",
      "        #\u5b58\u50a8\u516d\u5757\u70b9\u96c6\n",
      "        coordblocks=[]\n",
      "        for k in sorted(cdic):\n",
      "            #\u989c\u8272\u4e3a cdic[k] \u7684x, y \u5750\u6807\uff1a\n",
      "#             if k==3:\n",
      "#             print 'how many:', k, cdic[k], sum(np.all(np.abs(img-cdic[k])<1e-6, axis=-1)), sum(np.all(np.equal(img, cdic[k]), axis=-1))\n",
      "#             print '!=maxDepth:', sum(img!=maxDepth), sum(np.not_equal(depth, maxDepth)), sum(np.not_equal(img, cdic[k])), sum(np.equal(img, cdic[k]))\n",
      "\n",
      "#             ys, xs=np.where(np.all(np.abs(img-cdic[k])<1e-6, axis=-1))\n",
      "            ys, xs=np.where(np.all(np.isclose(img, cdic[k]), axis=-1)&np.not_equal(depth, maxDepth)&np.not_equal(depth, 0))\n",
      "            #print 'count:', k, len(xs)\n",
      "            #print len(depth[xs, ys])\n",
      "            #\u4e09\u7ef4\u70b9\u96c6\u5750\u6807\uff1a\n",
      "            coords=np.asarray([xs, -ys, depth[ys, xs]]).T\n",
      "            coordblocks.append(coords)\n",
      "        \n",
      "        totalpts=sum(len(pts) for pts in coordblocks)\n",
      "        print totalpts\n",
      "        \n",
      "        '\u524d\u4e24\u884c'\n",
      "        f.write('%d\\n'%totalpts)\n",
      "        f.write(' '.join(str(len(pts)) for pts in coordblocks)+'\\n')\n",
      "        \n",
      "        'coos.shape=(n, 3)'\n",
      "        for coos in coordblocks:\n",
      "            f.write(''.join('v %d %d %d\\n'%tuple(xyz) for xyz in coos))\n",
      "            '\u7a7a\u884c\u5206\u5272\u70b9\u96c6:'\n",
      "            f.write('\\n')\n",
      "    return\n",
      "\n",
      "# -----------------\u5355\u5143\u6d4b\u8bd5\uff0c \u4e00\u5f20\u56fe\n",
      "def testOutput(idx):\n",
      "    # idx=9\n",
      "    cfn='handPoint%d.csv'%idx\n",
      "    lfn=r'labels\\handPoint%d.png'%idx\n",
      "    ofn=r'objs\\handPoint%d.obj'%idx\n",
      "        \n",
      "    outputObj(cfn, lfn, ofn)\n",
      "    return\n",
      "\n",
      "# ----------------\u5904\u7406\u6240\u6709 csv, png \n",
      "def outputAll(csvp, lblp, objp):\n",
      "    '''\n",
      "    PARAMS\n",
      "    -------------\n",
      "    csvp: path to store all the csv files\n",
      "    \n",
      "    RETURNS\n",
      "    -------------\n",
      "    None\n",
      "    '''\n",
      "    # csvp=r'D:\\Administrator\\Desktop\\obj&csv\\strict'\n",
      "    #input label path:\n",
      "    #lblp='labels'\n",
      "    #output .obj file path:\n",
      "    #objp='objs'\n",
      "    if not os.path.isdir(objp):\n",
      "        os.makedirs(objp)\n",
      "        \n",
      "    from glob import glob\n",
      "#     oldp=os.getcwd()\n",
      "#     os.chdir(csvp)\n",
      "    files=glob(csvp+os.path.sep+'*.csv')\n",
      "#     os.chdir(oldp)\n",
      "    \n",
      "    #---------\u5e8f\u53f7\u4e0d\u8fde\u7eed\u7684\u8bdd\u5c31\u4e0d\u80fd\u8fd9\u4e48\u7528\u4e86\uff1a\n",
      "#     for i in range(len(files)):\n",
      "#         cfn='handPoint%d.csv'%i\n",
      "    #---------\u82e5\u5e8f\u53f7\u4e0d\u8fde\u7eed\uff1a\n",
      "    files=sorted(files, key=lambda e: int(re.findall(r'\\d+', os.path.basename(e))[0]) )\n",
      "    for cfn in files:\n",
      "        #\u53bb\u6389 .csv \u540e\u7f00\uff1a\n",
      "        bname=os.path.splitext(os.path.basename(cfn))[0]\n",
      "        lfn=lblp+os.path.sep+bname+'.png'\n",
      "        ofn=objp+os.path.sep+bname+'.obj'\n",
      "        #print lfn\n",
      "        #print cfn, lfn, ofn\n",
      "        if not os.path.isfile(cfn) or not os.path.isfile(lfn):\n",
      "           continue\n",
      "           \n",
      "        outputObj(cfn, lfn, ofn)\n",
      "        \n",
      "        #img=pylab.imread(lfn)\n",
      "        #imshow(img)\n",
      "        lbl=cv.imread(lfn)\n",
      "        cv.imshow('hand label', lbl)\n",
      "        k=cv.waitKey(33)\n",
      "        if k==27:\n",
      "            print '===========', cfn\n",
      "            break\n",
      "    \n",
      "    cv.destroyAllWindows()\n",
      "    \n",
      "    return"
     ],
     "language": "python",
     "metadata": {},
     "outputs": [],
     "prompt_number": 178
    },
    {
     "cell_type": "code",
     "collapsed": true,
     "input": [
      "'''\n",
      "2014-6-8 22:46:16\n",
      "\u5148\u524d\u5434\u9e4f\u9e4f\u91c7\u7684\u6570\u636e\n",
      "'''\n",
      "\n",
      "oldp=os.getcwd()\n",
      "csvp=r'D:\\Administrator\\Desktop\\obj&csv\\strict'\n",
      "\n",
      "os.chdir(csvp)\n",
      "delim=' '\n",
      "outputAll('.', './labels', './objs')\n",
      "# testOutput(73)\n",
      "\n",
      "'\u56de\u5230\u539f\u59cb\u76ee\u5f55'\n",
      "os.chdir(oldp)"
     ],
     "language": "python",
     "metadata": {},
     "outputs": [
      {
       "output_type": "stream",
       "stream": "stdout",
       "text": [
        "76124\n",
        "76172"
       ]
      },
      {
       "output_type": "stream",
       "stream": "stdout",
       "text": [
        "\n",
        "76169"
       ]
      },
      {
       "output_type": "stream",
       "stream": "stdout",
       "text": [
        "\n",
        "76159"
       ]
      },
      {
       "output_type": "stream",
       "stream": "stdout",
       "text": [
        "\n",
        "76234"
       ]
      },
      {
       "output_type": "stream",
       "stream": "stdout",
       "text": [
        "\n",
        "76252"
       ]
      },
      {
       "output_type": "stream",
       "stream": "stdout",
       "text": [
        "\n",
        "76160"
       ]
      },
      {
       "output_type": "stream",
       "stream": "stdout",
       "text": [
        "\n",
        "76135"
       ]
      },
      {
       "output_type": "stream",
       "stream": "stdout",
       "text": [
        "\n",
        "76112"
       ]
      },
      {
       "output_type": "stream",
       "stream": "stdout",
       "text": [
        "\n",
        "76122"
       ]
      },
      {
       "output_type": "stream",
       "stream": "stdout",
       "text": [
        "\n",
        "76245"
       ]
      },
      {
       "output_type": "stream",
       "stream": "stdout",
       "text": [
        "\n",
        "76318"
       ]
      },
      {
       "output_type": "stream",
       "stream": "stdout",
       "text": [
        "\n",
        "76130"
       ]
      },
      {
       "output_type": "stream",
       "stream": "stdout",
       "text": [
        "\n",
        "76029"
       ]
      },
      {
       "output_type": "stream",
       "stream": "stdout",
       "text": [
        "\n",
        "76155"
       ]
      },
      {
       "output_type": "stream",
       "stream": "stdout",
       "text": [
        "\n",
        "==========="
       ]
      },
      {
       "output_type": "stream",
       "stream": "stdout",
       "text": [
        " .\\handPoint14.csv\n"
       ]
      }
     ],
     "prompt_number": 25
    },
    {
     "cell_type": "code",
     "collapsed": true,
     "input": [
      "'''\n",
      "2014-6-8 22:46:16\n",
      "\u603b\u5171 140 \u5e27, \u5f20\u741b\u5de6\u624b\u6570\u636e\n",
      "'''\n",
      "\n",
      "oldp=os.getcwd()\n",
      "#curdir\n",
      "cdir=ur'D:\\Administrator\\Desktop\\\u4ee3\u7801\u4e0e\u6587\u6863\u79fb\u4ea4\\\u4ee3\u7801\\HandGesture.vc10\\test_boost_thread'\n",
      "\n",
      "# os.chdir(cdir)\n",
      "%cd $cdir\n",
      "\n",
      "delim=','\n",
      "outputAll('./csv', './label', './objs')\n",
      "# testOutput(73)\n",
      "\n",
      "'\u56de\u5230\u539f\u59cb\u76ee\u5f55'\n",
      "os.chdir(oldp)\n"
     ],
     "language": "python",
     "metadata": {},
     "outputs": [
      {
       "output_type": "stream",
       "stream": "stdout",
       "text": [
        "D:\\Administrator\\Desktop\\\u4ee3\u7801\u4e0e\u6587\u6863\u79fb\u4ea4\\\u4ee3\u7801\\HandGesture.vc10\\test_boost_thread\n",
        "3242"
       ]
      },
      {
       "output_type": "stream",
       "stream": "stdout",
       "text": [
        "\n",
        "3261"
       ]
      },
      {
       "output_type": "stream",
       "stream": "stdout",
       "text": [
        "\n",
        "3275"
       ]
      },
      {
       "output_type": "stream",
       "stream": "stdout",
       "text": [
        "\n",
        "3293"
       ]
      },
      {
       "output_type": "stream",
       "stream": "stdout",
       "text": [
        "\n",
        "3229"
       ]
      },
      {
       "output_type": "stream",
       "stream": "stdout",
       "text": [
        "\n",
        "3265"
       ]
      },
      {
       "output_type": "stream",
       "stream": "stdout",
       "text": [
        "\n",
        "3269"
       ]
      },
      {
       "output_type": "stream",
       "stream": "stdout",
       "text": [
        "\n",
        "3292"
       ]
      },
      {
       "output_type": "stream",
       "stream": "stdout",
       "text": [
        "\n",
        "3306"
       ]
      },
      {
       "output_type": "stream",
       "stream": "stdout",
       "text": [
        "\n",
        "3321"
       ]
      },
      {
       "output_type": "stream",
       "stream": "stdout",
       "text": [
        "\n",
        "3285"
       ]
      },
      {
       "output_type": "stream",
       "stream": "stdout",
       "text": [
        "\n",
        "3274"
       ]
      },
      {
       "output_type": "stream",
       "stream": "stdout",
       "text": [
        "\n",
        "3277"
       ]
      },
      {
       "output_type": "stream",
       "stream": "stdout",
       "text": [
        "\n",
        "3189"
       ]
      },
      {
       "output_type": "stream",
       "stream": "stdout",
       "text": [
        "\n",
        "3216"
       ]
      },
      {
       "output_type": "stream",
       "stream": "stdout",
       "text": [
        "\n",
        "3227"
       ]
      },
      {
       "output_type": "stream",
       "stream": "stdout",
       "text": [
        "\n",
        "3297"
       ]
      },
      {
       "output_type": "stream",
       "stream": "stdout",
       "text": [
        "\n",
        "3288"
       ]
      },
      {
       "output_type": "stream",
       "stream": "stdout",
       "text": [
        "\n",
        "3267"
       ]
      },
      {
       "output_type": "stream",
       "stream": "stdout",
       "text": [
        "\n",
        "3189"
       ]
      },
      {
       "output_type": "stream",
       "stream": "stdout",
       "text": [
        "\n",
        "3221"
       ]
      },
      {
       "output_type": "stream",
       "stream": "stdout",
       "text": [
        "\n",
        "3293"
       ]
      },
      {
       "output_type": "stream",
       "stream": "stdout",
       "text": [
        "\n",
        "3208"
       ]
      },
      {
       "output_type": "stream",
       "stream": "stdout",
       "text": [
        "\n",
        "3180"
       ]
      },
      {
       "output_type": "stream",
       "stream": "stdout",
       "text": [
        "\n",
        "3162"
       ]
      },
      {
       "output_type": "stream",
       "stream": "stdout",
       "text": [
        "\n",
        "3294"
       ]
      },
      {
       "output_type": "stream",
       "stream": "stdout",
       "text": [
        "\n",
        "3260"
       ]
      },
      {
       "output_type": "stream",
       "stream": "stdout",
       "text": [
        "\n",
        "3261"
       ]
      },
      {
       "output_type": "stream",
       "stream": "stdout",
       "text": [
        "\n",
        "3267"
       ]
      },
      {
       "output_type": "stream",
       "stream": "stdout",
       "text": [
        "\n",
        "3191"
       ]
      },
      {
       "output_type": "stream",
       "stream": "stdout",
       "text": [
        "\n",
        "3117"
       ]
      },
      {
       "output_type": "stream",
       "stream": "stdout",
       "text": [
        "\n",
        "3186"
       ]
      },
      {
       "output_type": "stream",
       "stream": "stdout",
       "text": [
        "\n",
        "3244"
       ]
      },
      {
       "output_type": "stream",
       "stream": "stdout",
       "text": [
        "\n",
        "3261"
       ]
      },
      {
       "output_type": "stream",
       "stream": "stdout",
       "text": [
        "\n",
        "3277"
       ]
      },
      {
       "output_type": "stream",
       "stream": "stdout",
       "text": [
        "\n",
        "3242"
       ]
      },
      {
       "output_type": "stream",
       "stream": "stdout",
       "text": [
        "\n",
        "3257"
       ]
      },
      {
       "output_type": "stream",
       "stream": "stdout",
       "text": [
        "\n",
        "3195"
       ]
      },
      {
       "output_type": "stream",
       "stream": "stdout",
       "text": [
        "\n",
        "3200"
       ]
      },
      {
       "output_type": "stream",
       "stream": "stdout",
       "text": [
        "\n",
        "3243"
       ]
      },
      {
       "output_type": "stream",
       "stream": "stdout",
       "text": [
        "\n",
        "3238"
       ]
      },
      {
       "output_type": "stream",
       "stream": "stdout",
       "text": [
        "\n",
        "3246"
       ]
      },
      {
       "output_type": "stream",
       "stream": "stdout",
       "text": [
        "\n",
        "3272"
       ]
      },
      {
       "output_type": "stream",
       "stream": "stdout",
       "text": [
        "\n",
        "3203"
       ]
      },
      {
       "output_type": "stream",
       "stream": "stdout",
       "text": [
        "\n",
        "3185"
       ]
      },
      {
       "output_type": "stream",
       "stream": "stdout",
       "text": [
        "\n",
        "3195"
       ]
      },
      {
       "output_type": "stream",
       "stream": "stdout",
       "text": [
        "\n",
        "3264"
       ]
      },
      {
       "output_type": "stream",
       "stream": "stdout",
       "text": [
        "\n",
        "3250"
       ]
      },
      {
       "output_type": "stream",
       "stream": "stdout",
       "text": [
        "\n",
        "3279"
       ]
      },
      {
       "output_type": "stream",
       "stream": "stdout",
       "text": [
        "\n",
        "3274"
       ]
      },
      {
       "output_type": "stream",
       "stream": "stdout",
       "text": [
        "\n",
        "3220"
       ]
      },
      {
       "output_type": "stream",
       "stream": "stdout",
       "text": [
        "\n",
        "3226"
       ]
      },
      {
       "output_type": "stream",
       "stream": "stdout",
       "text": [
        "\n",
        "3246"
       ]
      },
      {
       "output_type": "stream",
       "stream": "stdout",
       "text": [
        "\n",
        "3199"
       ]
      },
      {
       "output_type": "stream",
       "stream": "stdout",
       "text": [
        "\n",
        "3320"
       ]
      },
      {
       "output_type": "stream",
       "stream": "stdout",
       "text": [
        "\n",
        "3312"
       ]
      },
      {
       "output_type": "stream",
       "stream": "stdout",
       "text": [
        "\n",
        "3209"
       ]
      },
      {
       "output_type": "stream",
       "stream": "stdout",
       "text": [
        "\n",
        "3221"
       ]
      },
      {
       "output_type": "stream",
       "stream": "stdout",
       "text": [
        "\n",
        "3198"
       ]
      },
      {
       "output_type": "stream",
       "stream": "stdout",
       "text": [
        "\n",
        "3261"
       ]
      },
      {
       "output_type": "stream",
       "stream": "stdout",
       "text": [
        "\n",
        "3333"
       ]
      },
      {
       "output_type": "stream",
       "stream": "stdout",
       "text": [
        "\n",
        "3321"
       ]
      },
      {
       "output_type": "stream",
       "stream": "stdout",
       "text": [
        "\n",
        "3334"
       ]
      },
      {
       "output_type": "stream",
       "stream": "stdout",
       "text": [
        "\n",
        "3316"
       ]
      },
      {
       "output_type": "stream",
       "stream": "stdout",
       "text": [
        "\n",
        "3294"
       ]
      },
      {
       "output_type": "stream",
       "stream": "stdout",
       "text": [
        "\n",
        "3281"
       ]
      },
      {
       "output_type": "stream",
       "stream": "stdout",
       "text": [
        "\n",
        "3195"
       ]
      },
      {
       "output_type": "stream",
       "stream": "stdout",
       "text": [
        "\n",
        "3271"
       ]
      },
      {
       "output_type": "stream",
       "stream": "stdout",
       "text": [
        "\n",
        "3269"
       ]
      },
      {
       "output_type": "stream",
       "stream": "stdout",
       "text": [
        "\n",
        "3323"
       ]
      },
      {
       "output_type": "stream",
       "stream": "stdout",
       "text": [
        "\n",
        "3308"
       ]
      },
      {
       "output_type": "stream",
       "stream": "stdout",
       "text": [
        "\n",
        "3266"
       ]
      },
      {
       "output_type": "stream",
       "stream": "stdout",
       "text": [
        "\n",
        "3235"
       ]
      },
      {
       "output_type": "stream",
       "stream": "stdout",
       "text": [
        "\n",
        "3285"
       ]
      },
      {
       "output_type": "stream",
       "stream": "stdout",
       "text": [
        "\n",
        "3304"
       ]
      },
      {
       "output_type": "stream",
       "stream": "stdout",
       "text": [
        "\n",
        "3295"
       ]
      },
      {
       "output_type": "stream",
       "stream": "stdout",
       "text": [
        "\n",
        "3249"
       ]
      },
      {
       "output_type": "stream",
       "stream": "stdout",
       "text": [
        "\n",
        "3237"
       ]
      },
      {
       "output_type": "stream",
       "stream": "stdout",
       "text": [
        "\n",
        "3296"
       ]
      },
      {
       "output_type": "stream",
       "stream": "stdout",
       "text": [
        "\n",
        "3275"
       ]
      },
      {
       "output_type": "stream",
       "stream": "stdout",
       "text": [
        "\n",
        "3228"
       ]
      },
      {
       "output_type": "stream",
       "stream": "stdout",
       "text": [
        "\n",
        "3271"
       ]
      },
      {
       "output_type": "stream",
       "stream": "stdout",
       "text": [
        "\n",
        "3159"
       ]
      },
      {
       "output_type": "stream",
       "stream": "stdout",
       "text": [
        "\n",
        "3221"
       ]
      },
      {
       "output_type": "stream",
       "stream": "stdout",
       "text": [
        "\n",
        "3305"
       ]
      },
      {
       "output_type": "stream",
       "stream": "stdout",
       "text": [
        "\n",
        "3354"
       ]
      },
      {
       "output_type": "stream",
       "stream": "stdout",
       "text": [
        "\n",
        "3311"
       ]
      },
      {
       "output_type": "stream",
       "stream": "stdout",
       "text": [
        "\n",
        "3325"
       ]
      },
      {
       "output_type": "stream",
       "stream": "stdout",
       "text": [
        "\n",
        "3240"
       ]
      },
      {
       "output_type": "stream",
       "stream": "stdout",
       "text": [
        "\n",
        "3309"
       ]
      },
      {
       "output_type": "stream",
       "stream": "stdout",
       "text": [
        "\n",
        "3329"
       ]
      },
      {
       "output_type": "stream",
       "stream": "stdout",
       "text": [
        "\n",
        "3346"
       ]
      },
      {
       "output_type": "stream",
       "stream": "stdout",
       "text": [
        "\n",
        "3324"
       ]
      },
      {
       "output_type": "stream",
       "stream": "stdout",
       "text": [
        "\n",
        "3239"
       ]
      },
      {
       "output_type": "stream",
       "stream": "stdout",
       "text": [
        "\n",
        "3279"
       ]
      },
      {
       "output_type": "stream",
       "stream": "stdout",
       "text": [
        "\n",
        "3314"
       ]
      },
      {
       "output_type": "stream",
       "stream": "stdout",
       "text": [
        "\n",
        "3334"
       ]
      },
      {
       "output_type": "stream",
       "stream": "stdout",
       "text": [
        "\n",
        "3333"
       ]
      },
      {
       "output_type": "stream",
       "stream": "stdout",
       "text": [
        "\n",
        "3218"
       ]
      },
      {
       "output_type": "stream",
       "stream": "stdout",
       "text": [
        "\n",
        "3302"
       ]
      },
      {
       "output_type": "stream",
       "stream": "stdout",
       "text": [
        "\n",
        "3248"
       ]
      },
      {
       "output_type": "stream",
       "stream": "stdout",
       "text": [
        "\n",
        "3262"
       ]
      },
      {
       "output_type": "stream",
       "stream": "stdout",
       "text": [
        "\n",
        "3270"
       ]
      },
      {
       "output_type": "stream",
       "stream": "stdout",
       "text": [
        "\n",
        "3283"
       ]
      },
      {
       "output_type": "stream",
       "stream": "stdout",
       "text": [
        "\n",
        "3324"
       ]
      },
      {
       "output_type": "stream",
       "stream": "stdout",
       "text": [
        "\n",
        "3309"
       ]
      },
      {
       "output_type": "stream",
       "stream": "stdout",
       "text": [
        "\n",
        "3243"
       ]
      },
      {
       "output_type": "stream",
       "stream": "stdout",
       "text": [
        "\n",
        "3185"
       ]
      },
      {
       "output_type": "stream",
       "stream": "stdout",
       "text": [
        "\n",
        "3205"
       ]
      },
      {
       "output_type": "stream",
       "stream": "stdout",
       "text": [
        "\n",
        "3280"
       ]
      },
      {
       "output_type": "stream",
       "stream": "stdout",
       "text": [
        "\n",
        "3271"
       ]
      },
      {
       "output_type": "stream",
       "stream": "stdout",
       "text": [
        "\n",
        "3226"
       ]
      },
      {
       "output_type": "stream",
       "stream": "stdout",
       "text": [
        "\n",
        "3239"
       ]
      },
      {
       "output_type": "stream",
       "stream": "stdout",
       "text": [
        "\n",
        "3204"
       ]
      },
      {
       "output_type": "stream",
       "stream": "stdout",
       "text": [
        "\n",
        "3189"
       ]
      },
      {
       "output_type": "stream",
       "stream": "stdout",
       "text": [
        "\n",
        "3250"
       ]
      },
      {
       "output_type": "stream",
       "stream": "stdout",
       "text": [
        "\n",
        "3256"
       ]
      },
      {
       "output_type": "stream",
       "stream": "stdout",
       "text": [
        "\n",
        "3253"
       ]
      },
      {
       "output_type": "stream",
       "stream": "stdout",
       "text": [
        "\n",
        "3184"
       ]
      },
      {
       "output_type": "stream",
       "stream": "stdout",
       "text": [
        "\n",
        "3224"
       ]
      },
      {
       "output_type": "stream",
       "stream": "stdout",
       "text": [
        "\n",
        "3237"
       ]
      },
      {
       "output_type": "stream",
       "stream": "stdout",
       "text": [
        "\n",
        "3262"
       ]
      },
      {
       "output_type": "stream",
       "stream": "stdout",
       "text": [
        "\n",
        "3175"
       ]
      },
      {
       "output_type": "stream",
       "stream": "stdout",
       "text": [
        "\n",
        "3146"
       ]
      },
      {
       "output_type": "stream",
       "stream": "stdout",
       "text": [
        "\n",
        "3291"
       ]
      },
      {
       "output_type": "stream",
       "stream": "stdout",
       "text": [
        "\n",
        "3205"
       ]
      },
      {
       "output_type": "stream",
       "stream": "stdout",
       "text": [
        "\n",
        "3172"
       ]
      },
      {
       "output_type": "stream",
       "stream": "stdout",
       "text": [
        "\n",
        "3251"
       ]
      },
      {
       "output_type": "stream",
       "stream": "stdout",
       "text": [
        "\n",
        "3191"
       ]
      },
      {
       "output_type": "stream",
       "stream": "stdout",
       "text": [
        "\n",
        "3219"
       ]
      },
      {
       "output_type": "stream",
       "stream": "stdout",
       "text": [
        "\n",
        "3223"
       ]
      },
      {
       "output_type": "stream",
       "stream": "stdout",
       "text": [
        "\n",
        "3210"
       ]
      },
      {
       "output_type": "stream",
       "stream": "stdout",
       "text": [
        "\n",
        "3228"
       ]
      },
      {
       "output_type": "stream",
       "stream": "stdout",
       "text": [
        "\n",
        "3243"
       ]
      },
      {
       "output_type": "stream",
       "stream": "stdout",
       "text": [
        "\n",
        "3229"
       ]
      },
      {
       "output_type": "stream",
       "stream": "stdout",
       "text": [
        "\n",
        "3229"
       ]
      },
      {
       "output_type": "stream",
       "stream": "stdout",
       "text": [
        "\n",
        "2614"
       ]
      },
      {
       "output_type": "stream",
       "stream": "stdout",
       "text": [
        "\n",
        "1799"
       ]
      },
      {
       "output_type": "stream",
       "stream": "stdout",
       "text": [
        "\n",
        "1772"
       ]
      },
      {
       "output_type": "stream",
       "stream": "stdout",
       "text": [
        "\n",
        "1763"
       ]
      },
      {
       "output_type": "stream",
       "stream": "stdout",
       "text": [
        "\n"
       ]
      }
     ],
     "prompt_number": 119
    },
    {
     "cell_type": "code",
     "collapsed": false,
     "input": [
      "'''\n",
      "2014-6-8 22:46:16\n",
      "\u624b\u52a8 ps \u7684 101~215, \u603b\u5171 36 \u5e27\n",
      "'''\n",
      "\n",
      "oldp=os.getcwd()\n",
      "#curdir\n",
      "cdir=ur'D:\\Administrator\\Desktop\\\u4ee3\u7801\u4e0e\u6587\u6863\u79fb\u4ea4\\\u4ee3\u7801\\HandGesture.vc10\\test_boost_thread'\n",
      "\n",
      "# os.chdir(cdir)\n",
      "%cd $cdir\n",
      "\n",
      "delim=','\n",
      "outputAll('./csv', './label.ps', './objs.ps')\n",
      "\n",
      "# cfn=r'.\\csv\\handPoint151.csv'\n",
      "# lfn=r'.\\label.ps\\handPoint151.png'\n",
      "# ofn=r'.\\handPoint151.obj'\n",
      "# outputObj(cfn, lfn, ofn)\n",
      "\n",
      "\n",
      "'\u56de\u5230\u539f\u59cb\u76ee\u5f55'\n",
      "os.chdir(oldp)\n"
     ],
     "language": "python",
     "metadata": {},
     "outputs": [
      {
       "output_type": "stream",
       "stream": "stdout",
       "text": [
        "D:\\Administrator\\Desktop\\\u4ee3\u7801\u4e0e\u6587\u6863\u79fb\u4ea4\\\u4ee3\u7801\\HandGesture.vc10\\test_boost_thread\n",
        "!=maxDepth:"
       ]
      },
      {
       "output_type": "stream",
       "stream": "stdout",
       "text": [
        " 230400 3764 149582 80818\n",
        "!=maxDepth: 230400 3764 152991 77409\n",
        "!=maxDepth: 230400 3764 153287 77113\n",
        "!=maxDepth:"
       ]
      },
      {
       "output_type": "stream",
       "stream": "stdout",
       "text": [
        " 230400 3764 227713 2687\n",
        "!=maxDepth: 230400 3764 78222 152178\n",
        "!=maxDepth: 230400 3764 77926 152474\n",
        "3231"
       ]
      },
      {
       "output_type": "stream",
       "stream": "stdout",
       "text": [
        "\n",
        "!=maxDepth:"
       ]
      },
      {
       "output_type": "stream",
       "stream": "stdout",
       "text": [
        " 230400 3735 149599 80801\n",
        "!=maxDepth: 230400 3735 152862 77538\n",
        "!=maxDepth: 230400 3735 153354 77046\n",
        "!=maxDepth: 230400 "
       ]
      },
      {
       "output_type": "stream",
       "stream": "stdout",
       "text": [
        "3735 227674 2726\n",
        "!=maxDepth: 230400 3735 78261 152139\n",
        "!=maxDepth: 230400 3735 77769 152631\n",
        "3254\n",
        "!=maxDepth:"
       ]
      },
      {
       "output_type": "stream",
       "stream": "stdout",
       "text": [
        " 230400 3751 149739 80661\n",
        "!=maxDepth: 230400 3751 152877 77523\n",
        "!=maxDepth: 230400 3751 153399 77001\n",
        "!=maxDepth: 230400 3751 "
       ]
      },
      {
       "output_type": "stream",
       "stream": "stdout",
       "text": [
        "227697 2703\n",
        "!=maxDepth: 230400 3751 78393 152007\n",
        "!=maxDepth: 230400 3751 77871 152529\n",
        "3255\n",
        "!=maxDepth:"
       ]
      },
      {
       "output_type": "stream",
       "stream": "stdout",
       "text": [
        " 230400 3776 149635 80765\n",
        "!=maxDepth: 230400 3776 153011 77389\n",
        "!=maxDepth: 230400 3776 153447 76953\n",
        "!=maxDepth: 230400 3776 "
       ]
      },
      {
       "output_type": "stream",
       "stream": "stdout",
       "text": [
        "227683 2717\n",
        "!=maxDepth: 230400 3776 78416 151984\n",
        "!=maxDepth: 230400 3776 77980 152420\n",
        "3270\n",
        "!=maxDepth:"
       ]
      },
      {
       "output_type": "stream",
       "stream": "stdout",
       "text": [
        " 230400 3726 149700 80700\n",
        "!=maxDepth: 230400 3726 152959 77441\n",
        "!=maxDepth: 230400 3726 153318 77082\n",
        "!=maxDepth: 230400 3726 "
       ]
      },
      {
       "output_type": "stream",
       "stream": "stdout",
       "text": [
        "227750 2650\n",
        "!=maxDepth: 230400 3726 78232 152168\n",
        "!=maxDepth: 230400 3726 77873 152527\n",
        "3200\n",
        "!=maxDepth:"
       ]
      },
      {
       "output_type": "stream",
       "stream": "stdout",
       "text": [
        " 230400 3762 149874 80526\n",
        "!=maxDepth: 230400 3762 153007 77393\n",
        "!=maxDepth: 230400 3762 153301 77099\n",
        "!=maxDepth:"
       ]
      },
      {
       "output_type": "stream",
       "stream": "stdout",
       "text": [
        " 230400 3762 227771 2629\n",
        "!=maxDepth: 230400 3762 78415 151985\n",
        "!=maxDepth: 230400 3762 78121 152279\n",
        "3251"
       ]
      },
      {
       "output_type": "stream",
       "stream": "stdout",
       "text": [
        "\n",
        "!=maxDepth:"
       ]
      },
      {
       "output_type": "stream",
       "stream": "stdout",
       "text": [
        " 230400 3768 149725 80675\n",
        "!=maxDepth: 230400 3768 152915 77485\n",
        "!=maxDepth: 230400 3768 153246 77154\n",
        "!=maxDepth: 230400 3768 "
       ]
      },
      {
       "output_type": "stream",
       "stream": "stdout",
       "text": [
        "227745 2655\n",
        "!=maxDepth: 230400 3768 78255 152145\n",
        "!=maxDepth: 230400 3768 77924 152476\n",
        "3269\n",
        "!=maxDepth:"
       ]
      },
      {
       "output_type": "stream",
       "stream": "stdout",
       "text": [
        " 230400 3786 149769 80631\n",
        "!=maxDepth: 230400 3786 152850 77550\n",
        "!=maxDepth: 230400 3786 153264 77136\n",
        "!=maxDepth: 230400 3786 227728 "
       ]
      },
      {
       "output_type": "stream",
       "stream": "stdout",
       "text": [
        "2672\n",
        "!=maxDepth: 230400 3786 78335 152065\n",
        "!=maxDepth: 230400 3786 77921 152479\n",
        "3292\n",
        "!=maxDepth:"
       ]
      },
      {
       "output_type": "stream",
       "stream": "stdout",
       "text": [
        " 230400 3803 149680 80720\n",
        "!=maxDepth: 230400 3803 152991 77409\n",
        "!=maxDepth: 230400 3803 153257 77143\n",
        "!=maxDepth: 230400 3803 227720"
       ]
      },
      {
       "output_type": "stream",
       "stream": "stdout",
       "text": [
        " 2680\n",
        "!=maxDepth: 230400 3803 78270 152130\n",
        "!=maxDepth: 230400 3803 78004 152396\n",
        "3297\n",
        "!=maxDepth:"
       ]
      },
      {
       "output_type": "stream",
       "stream": "stdout",
       "text": [
        " 230400 3816 149634 80766\n",
        "!=maxDepth: 230400 3816 152984 77416\n",
        "!=maxDepth: 230400 3816 153264 77136\n",
        "!=maxDepth: 230400 3816 227713 "
       ]
      },
      {
       "output_type": "stream",
       "stream": "stdout",
       "text": [
        "2687\n",
        "!=maxDepth: 230400 3816 78280 152120\n",
        "!=maxDepth: 230400 3816 78000 152400\n",
        "3293\n",
        "!=maxDepth:"
       ]
      },
      {
       "output_type": "stream",
       "stream": "stdout",
       "text": [
        " 230400 3779 149720 80680\n",
        "!=maxDepth: 230400 3779 152792 77608\n",
        "!=maxDepth: 230400 3779 153331 77069\n",
        "!=maxDepth:"
       ]
      },
      {
       "output_type": "stream",
       "stream": "stdout",
       "text": [
        " 230400 3779 227701 2699\n",
        "!=maxDepth: 230400 3779 78379 152021\n",
        "!=maxDepth: 230400 3779 77840 152560\n",
        "3240"
       ]
      },
      {
       "output_type": "stream",
       "stream": "stdout",
       "text": [
        "\n",
        "!=maxDepth:"
       ]
      },
      {
       "output_type": "stream",
       "stream": "stdout",
       "text": [
        " 230400 3772 149643 80757\n",
        "!=maxDepth: 230400 3772 152859 77541\n",
        "!=maxDepth: 230400 3772 153304 77096\n",
        "!=maxDepth: 230400 3772 227702 "
       ]
      },
      {
       "output_type": "stream",
       "stream": "stdout",
       "text": [
        "2698\n",
        "!=maxDepth: 230400 3772 78275 152125\n",
        "!=maxDepth: 230400 3772 77830 152570\n",
        "3268\n",
        "!=maxDepth:"
       ]
      },
      {
       "output_type": "stream",
       "stream": "stdout",
       "text": [
        " 230400 3776 149529 80871\n",
        "!=maxDepth: 230400 3776 153027 77373\n",
        "!=maxDepth: 230400 3776 153433 76967\n",
        "!=maxDepth: 230400 3776 227672 "
       ]
      },
      {
       "output_type": "stream",
       "stream": "stdout",
       "text": [
        "2728\n",
        "!=maxDepth: 230400 3776 78275 152125\n",
        "!=maxDepth: 230400 3776 77869 152531\n",
        "3270\n",
        "!=maxDepth:"
       ]
      },
      {
       "output_type": "stream",
       "stream": "stdout",
       "text": [
        " 230400 3672 149784 80616\n",
        "!=maxDepth: 230400 3672 152905 77495\n",
        "!=maxDepth: 230400 3672 153488 76912\n",
        "!=maxDepth: 230400 3672 "
       ]
      },
      {
       "output_type": "stream",
       "stream": "stdout",
       "text": [
        "227749 2651\n",
        "!=maxDepth: 230400 3672 78326 152074\n",
        "!=maxDepth: 230400 3672 77743 152657\n",
        "3156\n",
        "!=maxDepth:"
       ]
      },
      {
       "output_type": "stream",
       "stream": "stdout",
       "text": [
        " 230400 3718 149658 80742\n",
        "!=maxDepth: 230400 3718 152921 77479\n",
        "!=maxDepth: 230400 3718 153410 76990\n",
        "!=maxDepth: 230400 3718 "
       ]
      },
      {
       "output_type": "stream",
       "stream": "stdout",
       "text": [
        "227712 2688\n",
        "!=maxDepth: 230400 3718 78266 152134\n",
        "!=maxDepth: 230400 3718 77777 152623\n",
        "3170\n",
        "!=maxDepth:"
       ]
      },
      {
       "output_type": "stream",
       "stream": "stdout",
       "text": [
        " 230400 3721 149723 80677\n",
        "!=maxDepth: 230400 3721 152942 77458\n",
        "!=maxDepth: 230400 3721 153421 76979\n",
        "!=maxDepth:"
       ]
      },
      {
       "output_type": "stream",
       "stream": "stdout",
       "text": [
        " 230400 3721 227748 2652\n",
        "!=maxDepth: 230400 3721 78323 152077\n",
        "!=maxDepth: 230400 3721 77844 152556\n",
        "3168"
       ]
      },
      {
       "output_type": "stream",
       "stream": "stdout",
       "text": [
        "\n",
        "!=maxDepth:"
       ]
      },
      {
       "output_type": "stream",
       "stream": "stdout",
       "text": [
        " 230400 3798 149505 80895\n",
        "!=maxDepth: 230400 3798 152894 77506\n",
        "!=maxDepth: 230400 3798 153318 77082\n",
        "!=maxDepth: 230400 3798 "
       ]
      },
      {
       "output_type": "stream",
       "stream": "stdout",
       "text": [
        "227652 2748\n",
        "!=maxDepth: 230400 3798 78205 152195\n",
        "!=maxDepth: 230400 3798 77781 152619\n",
        "3265\n",
        "!=maxDepth:"
       ]
      },
      {
       "output_type": "stream",
       "stream": "stdout",
       "text": [
        " 230400 3796 149819 80581\n",
        "!=maxDepth: 230400 3796 152981 77419\n",
        "!=maxDepth: 230400 3796 153305 77095\n",
        "!=maxDepth:"
       ]
      },
      {
       "output_type": "stream",
       "stream": "stdout",
       "text": [
        " 230400 3796 227772 2628\n",
        "!=maxDepth: 230400 3796 78439 151961\n",
        "!=maxDepth: 230400 3796 78115 152285\n",
        "3212\n",
        "!=maxDepth:"
       ]
      },
      {
       "output_type": "stream",
       "stream": "stdout",
       "text": [
        " 230400 3764 149767 80633\n",
        "!=maxDepth: 230400 3764 152910 77490\n",
        "!=maxDepth: 230400 3764 153156 77244\n",
        "!=maxDepth: 230400 3764 "
       ]
      },
      {
       "output_type": "stream",
       "stream": "stdout",
       "text": [
        "227787 2613\n",
        "!=maxDepth: 230400 3764 78214 152186\n",
        "!=maxDepth: 230400 3764 77968 152432\n",
        "3238\n",
        "!=maxDepth:"
       ]
      },
      {
       "output_type": "stream",
       "stream": "stdout",
       "text": [
        " 230400 3677 149858 80542\n",
        "!=maxDepth: 230400 3677 152857 77543\n",
        "!=maxDepth: 230400 3677 153033 77367\n",
        "!=maxDepth: 230400 3677 "
       ]
      },
      {
       "output_type": "stream",
       "stream": "stdout",
       "text": [
        "227865 2535\n",
        "!=maxDepth: 230400 3677 78151 152249\n",
        "!=maxDepth: 230400 3677 77975 152425\n",
        "3174\n",
        "!=maxDepth:"
       ]
      },
      {
       "output_type": "stream",
       "stream": "stdout",
       "text": [
        " 230400 3717 149725 80675\n",
        "!=maxDepth: 230400 3717 153014 77386\n",
        "!=maxDepth: 230400 3717 153263 77137\n",
        "!=maxDepth: 230400 3717 "
       ]
      },
      {
       "output_type": "stream",
       "stream": "stdout",
       "text": [
        "227810 2590\n",
        "!=maxDepth: 230400 3717 78151 152249\n",
        "!=maxDepth: 230400 3717 77902 152498\n",
        "3136\n",
        "!=maxDepth:"
       ]
      },
      {
       "output_type": "stream",
       "stream": "stdout",
       "text": [
        " 230400 3789 149590 80810\n",
        "!=maxDepth: 230400 3789 153008 77392\n",
        "!=maxDepth: 230400 3789 153289 77111\n",
        "!=maxDepth:"
       ]
      },
      {
       "output_type": "stream",
       "stream": "stdout",
       "text": [
        " 230400 3789 227735 2665\n",
        "!=maxDepth: 230400 3789 78190 152210\n",
        "!=maxDepth: 230400 3789 77909 152491\n",
        "3203\n",
        "!=maxDepth:"
       ]
      },
      {
       "output_type": "stream",
       "stream": "stdout",
       "text": [
        " 230400 3717 149676 80724\n",
        "!=maxDepth: 230400 3717 152963 77437\n",
        "!=maxDepth: 230400 3717 153250 77150\n",
        "!=maxDepth: 230400 3717 "
       ]
      },
      {
       "output_type": "stream",
       "stream": "stdout",
       "text": [
        "227777 2623\n",
        "!=maxDepth: 230400 3717 78152 152248\n",
        "!=maxDepth: 230400 3717 77865 152535\n",
        "3148\n",
        "!=maxDepth:"
       ]
      },
      {
       "output_type": "stream",
       "stream": "stdout",
       "text": [
        " 230400 3671 149704 80696\n",
        "!=maxDepth: 230400 3671 152946 77454\n",
        "!=maxDepth: 230400 3671 153319 77081\n",
        "!=maxDepth:"
       ]
      },
      {
       "output_type": "stream",
       "stream": "stdout",
       "text": [
        " 230400 3671 227773 2627\n",
        "!=maxDepth: 230400 3671 78209 152191\n",
        "!=maxDepth: 230400 3671 77836 152564\n",
        "3099\n",
        "!=maxDepth:"
       ]
      },
      {
       "output_type": "stream",
       "stream": "stdout",
       "text": [
        " 230400 3661 149952 80448\n",
        "!=maxDepth: 230400 3661 152974 77426\n",
        "!=maxDepth: 230400 3661 153309 77091\n",
        "!=maxDepth: 230400 3661 "
       ]
      },
      {
       "output_type": "stream",
       "stream": "stdout",
       "text": [
        "227805 2595\n",
        "!=maxDepth: 230400 3661 78374 152026\n",
        "!=maxDepth: 230400 3661 78039 152361\n",
        "3100\n",
        "!=maxDepth:"
       ]
      },
      {
       "output_type": "stream",
       "stream": "stdout",
       "text": [
        " 230400 3788 149638 80762\n",
        "!=maxDepth: 230400 3788 152989 77411\n",
        "!=maxDepth: 230400 3788 153214 77186\n",
        "!=maxDepth: 230400 3788 "
       ]
      },
      {
       "output_type": "stream",
       "stream": "stdout",
       "text": [
        "227755 2645\n",
        "!=maxDepth: 230400 3788 78165 152235\n",
        "!=maxDepth: 230400 3788 77940 152460\n",
        "3227\n",
        "!=maxDepth:"
       ]
      },
      {
       "output_type": "stream",
       "stream": "stdout",
       "text": [
        " 230400 3761 149651 80749\n",
        "!=maxDepth: 230400 3761 152987 77413\n",
        "!=maxDepth: 230400 3761 153192 77208\n",
        "!=maxDepth: 230400 3761 "
       ]
      },
      {
       "output_type": "stream",
       "stream": "stdout",
       "text": [
        "227769 2631\n",
        "!=maxDepth: 230400 3761 78137 152263\n",
        "!=maxDepth: 230400 3761 77932 152468\n",
        "3188\n",
        "!=maxDepth:"
       ]
      },
      {
       "output_type": "stream",
       "stream": "stdout",
       "text": [
        " 230400 3763 149692 80708\n",
        "!=maxDepth: 230400 3763 153002 77398\n",
        "!=maxDepth: 230400 3763 153208 77192\n",
        "!=maxDepth: 230400 "
       ]
      },
      {
       "output_type": "stream",
       "stream": "stdout",
       "text": [
        "3763 227788 2612\n",
        "!=maxDepth: 230400 3763 78157 152243\n",
        "!=maxDepth: 230400 3763 77951 152449\n",
        "3191\n",
        "!=maxDepth:"
       ]
      },
      {
       "output_type": "stream",
       "stream": "stdout",
       "text": [
        " 230400 3762 149492 80908\n",
        "!=maxDepth: 230400 3762 153039 77361\n",
        "!=maxDepth: 230400 3762 153206 77194\n",
        "!=maxDepth: 230400 3762 227721 "
       ]
      },
      {
       "output_type": "stream",
       "stream": "stdout",
       "text": [
        "2679\n",
        "!=maxDepth: 230400 3762 78068 152332\n",
        "!=maxDepth: 230400 3762 77901 152499\n",
        "3197\n",
        "!=maxDepth:"
       ]
      },
      {
       "output_type": "stream",
       "stream": "stdout",
       "text": [
        " 230400 3689 149673 80727\n",
        "!=maxDepth: 230400 3689 153100 77300\n",
        "!=maxDepth: 230400 3689 153128 77272\n",
        "!=maxDepth: 230400 3689 227849 "
       ]
      },
      {
       "output_type": "stream",
       "stream": "stdout",
       "text": [
        "2551\n",
        "!=maxDepth: 230400 3689 78012 152388\n",
        "!=maxDepth: 230400 3689 77984 152416\n",
        "3119\n",
        "!=maxDepth:"
       ]
      },
      {
       "output_type": "stream",
       "stream": "stdout",
       "text": [
        " 230400 3612 149706 80694\n",
        "!=maxDepth: 230400 3612 153162 77238\n",
        "!=maxDepth: 230400 3612 153143 77257\n",
        "!=maxDepth: 230400 3612 227900 "
       ]
      },
      {
       "output_type": "stream",
       "stream": "stdout",
       "text": [
        "2500\n",
        "!=maxDepth: 230400 3612 77945 152455\n",
        "!=maxDepth: 230400 3612 77964 152436\n",
        "3046\n",
        "!=maxDepth:"
       ]
      },
      {
       "output_type": "stream",
       "stream": "stdout",
       "text": [
        " 230400 3681 150111 80289\n",
        "!=maxDepth: 230400 3681 153064 77336\n",
        "!=maxDepth: 230400 3681 154481 75919\n",
        "!=maxDepth:"
       ]
      },
      {
       "output_type": "stream",
       "stream": "stdout",
       "text": [
        " 230400 3681 227826 2574\n",
        "!=maxDepth: 230400 3681 79366 151034\n",
        "!=maxDepth: 230400 3681 77949 152451\n",
        "2683\n",
        "!=maxDepth:"
       ]
      },
      {
       "output_type": "stream",
       "stream": "stdout",
       "text": [
        " 230400 3740 149675 80725\n",
        "!=maxDepth: 230400 3740 153062 77338\n",
        "!=maxDepth: 230400 3740 153175 77225\n",
        "!=maxDepth: 230400 3740 227833 "
       ]
      },
      {
       "output_type": "stream",
       "stream": "stdout",
       "text": [
        "2567\n",
        "!=maxDepth: 230400 3740 78075 152325\n",
        "!=maxDepth: 230400 3740 77962 152438\n",
        "3165\n",
        "!=maxDepth:"
       ]
      },
      {
       "output_type": "stream",
       "stream": "stdout",
       "text": [
        " 230400 3762 149706 80694\n",
        "!=maxDepth: 230400 3762 153061 77339\n",
        "!=maxDepth: 230400 3762 153270 77130\n",
        "!=maxDepth: 230400 3762 227792 "
       ]
      },
      {
       "output_type": "stream",
       "stream": "stdout",
       "text": [
        "2608\n",
        "!=maxDepth: 230400 3762 78176 152224\n",
        "!=maxDepth: 230400 3762 77967 152433\n",
        "3188\n",
        "!=maxDepth:"
       ]
      },
      {
       "output_type": "stream",
       "stream": "stdout",
       "text": [
        " 230400 3779 149571 80829\n",
        "!=maxDepth: 230400 3779 152993 77407\n",
        "!=maxDepth: 230400 3779 153254 77146\n",
        "!=maxDepth: 230400 3779 227733 "
       ]
      },
      {
       "output_type": "stream",
       "stream": "stdout",
       "text": [
        "2667\n",
        "!=maxDepth: 230400 3779 78130 152270\n",
        "!=maxDepth: 230400 3779 77869 152531\n",
        "3207\n",
        "!=maxDepth:"
       ]
      },
      {
       "output_type": "stream",
       "stream": "stdout",
       "text": [
        " 230400 3742 149625 80775\n",
        "!=maxDepth: 230400 3742 152973 77427\n",
        "!=maxDepth: 230400 3742 153272 77128\n",
        "!=maxDepth: 230400 3742 "
       ]
      },
      {
       "output_type": "stream",
       "stream": "stdout",
       "text": [
        "227757 2643\n",
        "!=maxDepth: 230400 3742 78129 152271\n",
        "!=maxDepth: 230400 3742 77830 152570\n",
        "3178\n"
       ]
      }
     ],
     "prompt_number": 177
    },
    {
     "cell_type": "code",
     "collapsed": false,
     "input": [
      "'''\n",
      "2014-6-8 22:25:03\n",
      "\u6d4b\u8bd5\u67d0\u4e00\u4e2a csv, png \u751f\u6210 obj \u662f\u5426\u6b63\u786e\n",
      "\u8fd9\u91cc png \u53ef\u4ee5\u4e0d\u4fdd\u8bc1\u53ea\u67097\u79cd\u7eaf\u8272\n",
      "'''\n",
      "oldp=os.getcwd()\n",
      "#curdir\n",
      "cdir=ur'D:\\Administrator\\Desktop\\\u4ee3\u7801\u4e0e\u6587\u6863\u79fb\u4ea4\\\u4ee3\u7801\\HandGesture.vc10\\test_boost_thread'\n",
      "\n",
      "# os.chdir(cdir)\n",
      "%cd $cdir\n",
      "\n",
      "delim=','\n",
      "# outputAll('./csv', './label.ps', './objs.ps')\n",
      "# testOutput(73)\n",
      "cfn=r'.\\csv\\handPoint151.csv'\n",
      "lfn=r'.\\label.ps\\handPoint151.png'\n",
      "ofn=r'.\\handPoint151.obj'\n",
      "    \n",
      "outputObj(cfn, lfn, ofn)\n",
      "\n",
      "depth=np.loadtxt(cfn, dtype=int, delimiter=delim)\n",
      "# print depth, depth==10000, np.equal(depth, 10000), np.sum(np.not_equal(depth, 10000))\n",
      "\n",
      "'\u56de\u5230\u539f\u59cb\u76ee\u5f55'\n",
      "os.chdir(oldp)\n"
     ],
     "language": "python",
     "metadata": {},
     "outputs": [
      {
       "output_type": "stream",
       "stream": "stdout",
       "text": [
        "D:\\Administrator\\Desktop\\\u4ee3\u7801\u4e0e\u6587\u6863\u79fb\u4ea4\\\u4ee3\u7801\\HandGesture.vc10\\test_boost_thread\n",
        "!=maxDepth:"
       ]
      },
      {
       "output_type": "stream",
       "stream": "stdout",
       "text": [
        " 230400 3796 149819 80581\n",
        "!=maxDepth: 230400 3796 152981 77419\n",
        "!=maxDepth: 230400 3796 153305 77095\n",
        "!=maxDepth: 230400 3796 "
       ]
      },
      {
       "output_type": "stream",
       "stream": "stdout",
       "text": [
        "227772 2628\n",
        "!=maxDepth: 230400 3796 78439 151961\n",
        "!=maxDepth: 230400 3796 78115 152285\n",
        "3212"
       ]
      },
      {
       "output_type": "stream",
       "stream": "stdout",
       "text": [
        "\n"
       ]
      }
     ],
     "prompt_number": 176
    },
    {
     "cell_type": "code",
     "collapsed": false,
     "input": [
      "t=np.arange(12, dtype=float32).reshape((-1, 2, 3))\n",
      "\n",
      "print t\n",
      "print np.all(t==(0,1.0,2), axis=-1)\n",
      "print np.where(np.all(t==(0,1.0,2), axis=-1))\n",
      "\n",
      "t==(0,1,2)\n",
      "t[(0,1), (1,)]\n",
      "t.T\n",
      "zip(*t)\n",
      "t==(0,1,2)\n",
      "np.abs(t-(0,1,2))<(1e-8,)*3\n",
      "print np.all(np.abs(t-(0,1,2))<(1e-8,)*3, axis=-1)\n",
      "print np.all(np.isclose(t, (0,1,2)), axis=-1)\n",
      "print np.all(np.not_equal(t, (0,1,2)), axis=-1)\n",
      "np.not_equal(t, (0,1,2))\n"
     ],
     "language": "python",
     "metadata": {},
     "outputs": [
      {
       "output_type": "stream",
       "stream": "stdout",
       "text": [
        "[[[  0.   1.   2.]\n",
        "  [  3.   4.   5.]]\n",
        "\n",
        " [[  6.   7.   8.]\n",
        "  [  9.  10.  11.]]]\n",
        "[[ True False]\n",
        " [False False]]\n",
        "(array([0]), array([0]))\n",
        "[[ True False]\n",
        " [False False]]\n",
        "[[ True False]\n",
        " [False False]]\n",
        "[[False  True]\n",
        " [ True  True]]\n"
       ]
      },
      {
       "metadata": {},
       "output_type": "pyout",
       "prompt_number": 133,
       "text": [
        "array([[[False, False, False],\n",
        "        [ True,  True,  True]],\n",
        "\n",
        "       [[ True,  True,  True],\n",
        "        [ True,  True,  True]]], dtype=bool)"
       ]
      }
     ],
     "prompt_number": 133
    },
    {
     "cell_type": "code",
     "collapsed": false,
     "input": [
      "fn=r'F:\\OgreTrain2\\realtime\\clu2\\result_1_cluster.png'\n",
      "fn=r'.\\label.ps\\handPoint151.png'\n",
      "img=imread(fn)\n",
      "img=img.flatten().reshape((-1, 3))\n",
      "pxs=[tuple(i) for i in img]\n",
      "/set pxs\n",
      "\n",
      "from collections import Counter\n",
      "c=Counter(pxs)\n",
      "print c\n",
      "print sum(np.all(img==(0.47058824, 0.70588237, 0.0), axis=-1)), img.dtype, np.abs(img-(0.47058824, 0.70588237, 0.0))<1e-3\n",
      "print sum(np.all(img==[0.47058824, 0.70588237, 0.0], axis=-1))\n",
      "print sum(np.all(img==(1, 0, 0), axis=-1))\n",
      "\n",
      "(0.47058824, 0.70588237, 0.0)==[0.47058824, 0.70588237, 0.0]\n",
      "print c.most_common(5)[-1][0]\n",
      "t=c.most_common(5)[-1][0]\n",
      "print t, type(t), type(t[0])\n",
      "print t==(0.47058824, 0.70588237, 0.0), t==t\n"
     ],
     "language": "python",
     "metadata": {},
     "outputs": [
      {
       "output_type": "stream",
       "stream": "stdout",
       "text": [
        "Counter({(1.0, 1.0, 1.0): 73388, (1.0, 0.0, 0.0): 1709, (0.0, 1.0, 0.0): 384, (0.0, 0.0, 1.0): 340, (0.47058824, 0.70588237, 0.0): 322, (1.0, 0.0, 1.0): 274, (1.0, 1.0, 0.0): 183, (0.85882354, 1.0, 0.85882354): 106, (1.0, 0.0, 0.1254902): 16, (0.87450981, 0.1254902, 0.0): 7, (0.87450981, 0.87450981, 1.0): 4, (0.49019608, 0.68235296, 0.0): 3, (0.67058825, 0.32941177, 0.0): 2, (1.0, 0.0, 0.36470589): 2, (1.0, 0.2, 0.2): 2, (0.68627453, 0.68627453, 1.0): 2, (0.27058825, 0.0, 0.72941178): 1, (0.88235295, 0.0, 0.11764706): 1, (1.0, 0.39215687, 0.0): 1, (0.95294118, 0.047058824, 0.0): 1, (1.0, 1.0, 0.96862745): 1, (0.48627451, 0.68627453, 0.0): 1, (1.0, 0.44313726, 0.11764706): 1, (0.22352941, 0.7764706, 0.0): 1, (0.93725491, 0.27843139, 0.15294118): 1, (1.0, 0.82745099, 0.0): 1, (0.95294118, 0.0, 0.047058824): 1, (0.72941178, 0.0, 0.27058825): 1, (0.98823529, 0.99215686, 0.97647059): 1, (0.0, 0.62352943, 0.3764706): 1, (0.95686275, 0.97647059, 0.91764706): 1, (0.43137255, 0.56862748, 0.0): 1, (0.98823529, 0.0, 0.011764706): 1, (0.84705883, 0.0, 0.15294118): 1, (1.0, 1.0, 0.5411765): 1, (1.0, 0.0, 0.14509805): 1, (1.0, 0.22745098, 0.15294118): 1, (0.86274511, 0.0, 0.13725491): 1, (0.21176471, 0.0, 0.78823531): 1, (0.10196079, 0.0, 0.89803922): 1, (0.87450981, 0.0, 0.1254902): 1, (0.72156864, 0.27843139, 0.0): 1, (1.0, 0.75686276, 0.0): 1, (1.0, 0.17254902, 0.15686275): 1, (0.15294118, 0.15294118, 0.69411767): 1, (0.89411765, 0.10588235, 0.0): 1, (1.0, 1.0, 0.63137257): 1, (0.92941177, 0.26274511, 0.13725491): 1, (0.98431373, 0.99215686, 0.97254902): 1, (0.25098041, 0.0, 0.74901962): 1, (0.55686277, 0.43137255, 0.011764706): 1, (0.59215689, 0.54509807, 0.0): 1, (0.34901962, 0.65098041, 0.0): 1, (1.0, 0.0, 0.082352944): 1, (0.039215688, 0.25490198, 0.70588237): 1, (0.11372549, 0.0, 0.88627452): 1, (1.0, 0.0, 0.66274512): 1, (1.0, 1.0, 0.92156863): 1, (1.0, 0.0, 0.05882353): 1, (1.0, 0.0, 0.5529412): 1, (0.47450981, 0.7019608, 0.0): 1, (0.99215686, 0.99215686, 0.98431373): 1, (0.79215688, 0.20784314, 0.0): 1, (1.0, 0.031372551, 0.0): 1, (1.0, 0.0, 0.22745098): 1, (0.0, 0.83529413, 0.16470589): 1, (0.94117647, 0.0, 0.05882353): 1, (0.98823529, 0.015686275, 0.0): 1, (0.25490198, 0.74509805, 0.0): 1, (1.0, 0.70588237, 0.0): 1, (0.71764708, 0.0, 0.28235295): 1, (0.54509807, 0.60784316, 0.0): 1})\n",
        "0 float32 [[False False False]\n",
        " [False False False]\n",
        " [False False False]\n",
        " ..., \n",
        " [False False False]\n",
        " [False False False]\n",
        " [False False False]]\n",
        "0\n",
        "1709\n",
        "(0.47058824, 0.70588237, 0.0)\n",
        "(0.47058824, 0.70588237, 0.0) <type 'tuple'> <type 'numpy.float32'>\n",
        "False True\n"
       ]
      }
     ],
     "prompt_number": 109
    },
    {
     "cell_type": "code",
     "collapsed": false,
     "input": [
      "(0.47058824, 0.70588237, 0.0)==[0.47058824, 0.70588237, 0.0]\n",
      "[1,]==(1,)\n"
     ],
     "language": "python",
     "metadata": {},
     "outputs": [
      {
       "metadata": {},
       "output_type": "pyout",
       "prompt_number": 76,
       "text": [
        "False"
       ]
      }
     ],
     "prompt_number": 76
    },
    {
     "cell_type": "code",
     "collapsed": false,
     "input": [
      "img=cv.imread(fn)\n",
      "img=img.flatten().reshape((-1, 3))\n",
      "pxs=[tuple(i) for i in img]\n",
      "/set pxs"
     ],
     "language": "python",
     "metadata": {},
     "outputs": [
      {
       "metadata": {},
       "output_type": "pyout",
       "prompt_number": 15,
       "text": [
        "{(0, 0, 255),\n",
        " (0, 180, 120),\n",
        " (0, 255, 0),\n",
        " (0, 255, 255),\n",
        " (255, 0, 0),\n",
        " (255, 0, 255),\n",
        " (255, 255, 255)}"
       ]
      }
     ],
     "prompt_number": 15
    },
    {
     "cell_type": "code",
     "collapsed": false,
     "input": [
      "0.1234==0.1234"
     ],
     "language": "python",
     "metadata": {},
     "outputs": [
      {
       "metadata": {},
       "output_type": "pyout",
       "prompt_number": 20,
       "text": [
        "True"
       ]
      }
     ],
     "prompt_number": 20
    },
    {
     "cell_type": "code",
     "collapsed": false,
     "input": [
      "'\u5904\u7406\u5434\u9e4f\u9e4f\u7684 csv\uff0c \u53bb\u6389\u6bcf\u884c\u672b\u5c3e\u7684\u7a7a\u683c\uff0c \u56e0\u4e3aOpenCV\u8bfb\u53d6 csv \u592a\u4e25\u683c'\n",
      "\n",
      "dn='strict'\n",
      "if not os.path.exists(dn):\n",
      "    os.makedirs(dn)\n",
      "    \n",
      "files=glob('*.csv')\n",
      "for fn in files:\n",
      "    with open(dn+'/'+fn, 'w') as fout:\n",
      "        d=np.loadtxt(fn, int)\n",
      "        wtr=csv.writer(fout, delimiter=' ')\n",
      "        wtr.writerows(d)\n",
      "    pass\n",
      "\n",
      "import csv\n",
      "with open(files[0], 'rb') as f:\n",
      "    c=list(csv.reader(f, delimiter=' '))\n",
      "#     print len(c), c\n",
      "    pass\n"
     ],
     "language": "python",
     "metadata": {},
     "outputs": [],
     "prompt_number": 206
    }
   ],
   "metadata": {}
  }
 ]
}