{
 "metadata": {
  "name": "plot_gmm_pdf"
 },
 "nbformat": 3,
 "nbformat_minor": 0,
 "worksheets": [
  {
   "cells": [
    {
     "cell_type": "code",
     "collapsed": false,
     "input": [
      "\"\"\"\n",
      "=============================================\n",
      "Density Estimation for a mixture of Gaussians\n",
      "=============================================\n",
      "\n",
      "Plot the density estimation of a mixture of two gaussians. Data is\n",
      "generated from two gaussians with different centers and covariance\n",
      "matrices.\n",
      "\"\"\"\n",
      "\n",
      "import numpy as np\n",
      "import pylab as pl\n",
      "from sklearn import mixture\n",
      "\n",
      "# n_samples = 300\n",
      "n_samples = 4\n",
      "\n",
      "# generate random sample, two components\n",
      "np.random.seed(0)\n",
      "C = np.array([[0., -0.7], [3.5, .7]])\n",
      "# np.r_\t\u6570\u7ec4\u4e32\u6210\u4e00\u884c\uff0c\u884c\u77e9\u9635\uff1f\n",
      "X_train = np.r_[np.dot(np.random.randn(n_samples, 2), C),\n",
      "                np.random.randn(n_samples, 2) + np.array([20, 20])]\n",
      "\n",
      "# clf = mixture.GMM(n_components=2, covariance_type='full')\n",
      "# covariance_type, Must be one of 'spherical', 'tied', 'diag', 'full'. Defaults to 'diag'.\n",
      "clf = mixture.GMM(n_components=2, covariance_type='full')\n",
      "clf.fit(X_train)\n",
      "\n",
      "x = np.linspace(-20.0, 30.0)\n",
      "y = np.linspace(-20.0, 40.0)\n",
      "# \u8fd4\u56de\u5750\u6807\u77e9\u9635\u7ed9 X Y\uff1a\n",
      "X, Y = np.meshgrid(x, y)\n",
      "# ravel\uff1a \u77e9\u9635\u5e73\u94fa\u4e3a\u6570\u7ec4\uff1b\tnp.c_ \u6570\u7ec4\u8f6c\u5217\u77e9\u9635\n",
      "XX = np.c_[X.ravel(), Y.ravel()]\n",
      "# Z = np.log(-clf.eval(XX)[0])\n",
      "Z = np.log10(-clf.eval(XX)[0])\n",
      "Z = Z.reshape(X.shape)\n",
      "\n",
      "CS = pl.contour(X, Y, Z)\n",
      "CB = pl.colorbar(CS, shrink=0.8, extend='both')\n",
      "pl.scatter(X_train[:, 0], X_train[:, 1], .8)\n",
      "\n",
      "# pl.axis('tight')\n",
      "pl.show()"
     ],
     "language": "python",
     "metadata": {},
     "outputs": [],
     "prompt_number": 1
    },
    {
     "cell_type": "code",
     "collapsed": false,
     "input": [],
     "language": "python",
     "metadata": {},
     "outputs": []
    }
   ],
   "metadata": {}
  }
 ]
}