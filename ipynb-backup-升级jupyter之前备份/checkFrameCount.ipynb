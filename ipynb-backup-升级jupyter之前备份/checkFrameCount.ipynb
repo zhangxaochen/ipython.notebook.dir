{
 "metadata": {
  "name": "checkFrameCount"
 },
 "nbformat": 3,
 "nbformat_minor": 0,
 "worksheets": [
  {
   "cells": [
    {
     "cell_type": "code",
     "collapsed": false,
     "input": [
      "%pylab"
     ],
     "language": "python",
     "metadata": {},
     "outputs": [
      {
       "output_type": "stream",
       "stream": "stdout",
       "text": [
        "\n",
        "Welcome to pylab, a matplotlib-based Python environment [backend: Qt4Agg].\n",
        "For more information, type 'help(pylab)'.\n"
       ]
      }
     ],
     "prompt_number": 2
    },
    {
     "cell_type": "code",
     "collapsed": false,
     "input": [
      "import os, sys\n",
      "from lxml import etree\n",
      "import re\n",
      "path=r'E:\\\u684c\u9762-2012-12-31\\bysj \u6bd5\u4e1a\u8bbe\u8ba1 \u6bd5\u8bbe\\\u6bd5\u8bbe-\u8d44\u6599\\step-counting,detection\\\u6211\u7684\u8ba1\u6b65\u7b97\u6cd5\u5b9e\u73b0\\\u884c\u4e3a\u8bc6\u522b\u6570\u636e\u91c7\u96c6\u5907\u4efd\\\u51fa\u79df\u8f66\u9a7e\u9a76\u6570\u636e\\\u5f20\u741b-\u536b\u6587\u97ec\\goodData'\n",
      "#path=r'E:\\\u684c\u9762-2012-12-31\\bysj \u6bd5\u4e1a\u8bbe\u8ba1 \u6bd5\u8bbe\\\u6bd5\u8bbe-\u8d44\u6599\\step-counting,detection\\\u6211\u7684\u8ba1\u6b65\u7b97\u6cd5\u5b9e\u73b0\\\u884c\u4e3a\u8bc6\u522b\u6570\u636e\u91c7\u96c6\u5907\u4efd\\\u51fa\u79df\u8f66\u9a7e\u9a76\u6570\u636e\\\u738b\u5e9a\u4efb\u5149\u9614\\goodData'\n",
      "#path=r'E:\\\u684c\u9762-2012-12-31\\bysj \u6bd5\u4e1a\u8bbe\u8ba1 \u6bd5\u8bbe\\\u6bd5\u8bbe-\u8d44\u6599\\step-counting,detection\\\u6211\u7684\u8ba1\u6b65\u7b97\u6cd5\u5b9e\u73b0\\\u884c\u4e3a\u8bc6\u522b\u6570\u636e\u91c7\u96c6\u5907\u4efd\\\u51fa\u79df\u8f66\u9a7e\u9a76\u6570\u636e\\\u8865\u91c7-\u5f20\u741b'\n",
      "path=r'D:\\Documents\\Desktop\\\u6296\u817f+\u73a9\u624b\u673a'\n",
      "path=r'D:\\Documents\\Desktop\\20140222\u9a7e\u9a761\u4eba\u591a\u8f66\u91c7\u96c6\u6570\u636e\\zb'\n",
      "upath=unicode(path, 'utf')\n",
      "\n",
      "psr = etree.XMLParser(remove_blank_text=True)\n",
      "files=os.listdir(upath)\n",
      "print 'len(files):', len(files)\n",
      "for f in files[:]:\n",
      "    abspath=os.path.join(upath,f)\n",
      "    #print abspath\n",
      "    if os.path.isdir(abspath) or not abspath.endswith('.xml'):\n",
      "        continue\n",
      "    tree=etree.parse(abspath, parser=psr)\n",
      "    rt=tree.getroot()\n",
      "    channelsNode=rt[0][0][0]\n",
      "    fcnts=[]\n",
      "    #print len(channelsNode)\n",
      "    for cnode in channelsNode:\n",
      "        fcntNode=cnode.find('frame-count')\n",
      "        fc=int(fcntNode.text)\n",
      "        fcnts.append(fc)\n",
      "    #print fcnts\n",
      "    #fcnts=asarray(fcnts)\n",
      "    fcnts.sort()\n",
      "    #print fcnts\n",
      "    if fcnts[0]*2<fcnts[-1]:\n",
      "        print '-------------------', f, fcnts[0], fcnts[-1]\n",
      "    \n",
      "        "
     ],
     "language": "python",
     "metadata": {},
     "outputs": [
      {
       "output_type": "stream",
       "stream": "stdout",
       "text": [
        "len(files): 7\n"
       ]
      }
     ],
     "prompt_number": 9
    },
    {
     "cell_type": "code",
     "collapsed": false,
     "input": [],
     "language": "python",
     "metadata": {},
     "outputs": []
    }
   ],
   "metadata": {}
  }
 ]
}