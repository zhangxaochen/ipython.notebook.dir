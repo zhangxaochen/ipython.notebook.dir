{
 "metadata": {
  "name": "autoLabelBatch"
 },
 "nbformat": 3,
 "nbformat_minor": 0,
 "worksheets": [
  {
   "cells": [
    {
     "cell_type": "code",
     "collapsed": false,
     "input": [
      "import os, sys, glob\n",
      "from lxml import etree\n",
      "%cd E:\\workspace\\PyCeshi\\curveViewer\n",
      "!pwd\n",
      "#from autoLabel import outputLabel\n",
      "import autoLabel\n",
      "from xmlBackCompat import loadNewXmlTree\n"
     ],
     "language": "python",
     "metadata": {},
     "outputs": [
      {
       "output_type": "stream",
       "stream": "stdout",
       "text": [
        "E:\\workspace\\PyCeshi\\curveViewer\n"
       ]
      },
      {
       "output_type": "stream",
       "stream": "stdout",
       "text": [
        "/cygdrive/e/workspace/PyCeshi/curveViewer\n"
       ]
      }
     ],
     "prompt_number": 1
    },
    {
     "cell_type": "code",
     "collapsed": false,
     "input": [
      "labelMixed=5\n",
      "autoLabel.labelAcc=16\n",
      "autoLabel.labelTurn=17"
     ],
     "language": "python",
     "metadata": {},
     "outputs": [],
     "prompt_number": 2
    },
    {
     "cell_type": "code",
     "collapsed": false,
     "input": [
      "path=ur'E:\\\u684c\u9762-2012-12-31\\bysj \u6bd5\u4e1a\u8bbe\u8ba1 \u6bd5\u8bbe\\\u6bd5\u8bbe-\u8d44\u6599\\\u884c\u4e3a\u8bc6\u522b\u6570\u636e\u91c7\u96c6\u5907\u4efd\\\u51fa\u79df\u8f66\u9a7e\u9a76\u6570\u636e\\all\\tt'\n",
      "path=ur'E:\\\u684c\u9762-2012-12-31\\bysj \u6bd5\u4e1a\u8bbe\u8ba1 \u6bd5\u8bbe\\\u6bd5\u8bbe-\u8d44\u6599\\\u884c\u4e3a\u8bc6\u522b\u6570\u636e\u91c7\u96c6\u5907\u4efd\\\u51fa\u79df\u8f66\u9a7e\u9a76\u6570\u636e\\all\\t6916'\n",
      "#path=ur'E:\\\u684c\u9762-2012-12-31\\bysj \u6bd5\u4e1a\u8bbe\u8ba1 \u6bd5\u8bbe\\\u6bd5\u8bbe-\u8d44\u6599\\\u884c\u4e3a\u8bc6\u522b\u6570\u636e\u91c7\u96c6\u5907\u4efd\\\u51fa\u79df\u8f66\u9a7e\u9a76\u6570\u636e\\all/other'\n",
      "\n",
      "outpath=ur'D:\\Documents\\Desktop\\0106'\n",
      "files=os.listdir(path)\n",
      "psr = etree.XMLParser(remove_blank_text=True)\n",
      "i=0;\n",
      "for f in files:\n",
      "    basename, ext=os.path.splitext(f)\n",
      "    if ext!='.xml':\n",
      "        continue\n",
      "    i+=1\n",
      "    #if i<100 or i>240:\n",
      "     #   continue\n",
      "    \n",
      "    \n",
      "    abspath=os.path.join(path, f) \n",
      "    #basename, ext=os.path.splitext(abspath)\n",
      "    #print basename, ext, os.path.split(abspath)[0]\n",
      "    outfname=outpath+os.sep+basename+'.txt'\n",
      "    label=basename.split('_')[1][1]\n",
      "    print outfname, label\n",
      "    #False-- no debug plot:\n",
      "    autoLabel.outputLabel(abspath, outfname, False)\n",
      "    if int(label)==labelMixed:\n",
      "        #\u7b2c\u4e00\u884c\u63d2\u5165\u6df7\u5408\u6570\u636e\u7684\u8d77\u6b62ts\uff1a\n",
      "        tree=etree.parse(abspath, parser=psr)\n",
      "        rt=tree.getroot()\n",
      "        data=loadNewXmlTree(rt)\n",
      "        startTime=max(float(v[0][0]) for _,v in data.items())\n",
      "        stopTime=min(float(v[-1][0]) for _,v in data.items())\n",
      "\n",
      "        outf=open(outfname, 'r+')\n",
      "        lines=outf.readlines()\n",
      "        lines.insert(0, '%d %f %f\\n'%(labelMixed, startTime, stopTime))\n",
      "        outf.seek(0)\n",
      "        outf.writelines(lines)\n",
      "        outf.close()\n",
      "\n",
      "    \n"
     ],
     "language": "python",
     "metadata": {},
     "outputs": [
      {
       "output_type": "stream",
       "stream": "stdout",
       "text": [
        "D:\\Documents\\Desktop\\0106\\t6916A_a0_0.txt 0\n",
        "('startTime:', 1386410224.861069, [1386410224.8406832, 1386410224.861069, 1386410224.8406832, 1386410224.861069])"
       ]
      },
      {
       "output_type": "stream",
       "stream": "stdout",
       "text": [
        "\n",
        "('stopTime:', 1386410259.732406, [1386410259.732406, 1386410259.732406, 1386410259.732406, 1386410259.732406])\n",
        "('accWF.shape:', (6, 1047))"
       ]
      },
      {
       "output_type": "stream",
       "stream": "stdout",
       "text": [
        "\n",
        "---------------acc + dec:"
       ]
      },
      {
       "output_type": "stream",
       "stream": "stdout",
       "text": [
        "\n",
        "[16, 5, 184]\n",
        "[16, 264, 364]\n",
        "---------------turn:\n",
        "D:\\Documents\\Desktop\\0106\\t6916A_a0_1.txt 0\n",
        "('startTime:', 1386410289.742153, [1386410289.6992452, 1386410289.742153, 1386410289.6992452, 1386410289.742153])"
       ]
      },
      {
       "output_type": "stream",
       "stream": "stdout",
       "text": [
        "\n",
        "('stopTime:', 1386410312.8334913, [1386410312.8334913, 1386410312.8334913, 1386410312.8334913, 1386410312.8334913])\n",
        "('accWF.shape:', (6, 693))"
       ]
      },
      {
       "output_type": "stream",
       "stream": "stdout",
       "text": [
        "\n",
        "---------------acc + dec:"
       ]
      },
      {
       "output_type": "stream",
       "stream": "stdout",
       "text": [
        "\n",
        "[16, 0, 496]\n",
        "---------------turn:\n",
        "D:\\Documents\\Desktop\\0106\\t6916A_a0_2.txt 0\n",
        "('startTime:', 1386410347.1897793, [1386410347.1697598, 1386410347.1897793, 1386410347.1697598, 1386410347.1897793])"
       ]
      },
      {
       "output_type": "stream",
       "stream": "stdout",
       "text": [
        "\n",
        "('stopTime:', 1386410368.0811057, [1386410368.0811057, 1386410368.0811057, 1386410368.0811057, 1386410368.0811057])\n",
        "('accWF.shape:', (6, 627))"
       ]
      },
      {
       "output_type": "stream",
       "stream": "stdout",
       "text": [
        "\n",
        "---------------acc + dec:"
       ]
      },
      {
       "output_type": "stream",
       "stream": "stdout",
       "text": [
        "\n",
        "[16, 4, 310]\n",
        "---------------turn:\n",
        "D:\\Documents\\Desktop\\0106\\t6916A_a0_3.txt 0\n",
        "('startTime:', 1386410485.193844, [1386410485.1541712, 1386410485.193844, 1386410485.1541712, 1386410485.173855])"
       ]
      },
      {
       "output_type": "stream",
       "stream": "stdout",
       "text": [
        "\n",
        "('stopTime:', 1386410503.0004232, [1386410503.0004232, 1386410503.0004232, 1386410503.0004232, 1386410503.0004232])\n",
        "('accWF.shape:', (6, 535))"
       ]
      },
      {
       "output_type": "stream",
       "stream": "stdout",
       "text": [
        "\n",
        "---------------acc + dec:"
       ]
      },
      {
       "output_type": "stream",
       "stream": "stdout",
       "text": [
        "\n",
        "[16, 24, 344]\n",
        "---------------turn:\n",
        "D:\\Documents\\Desktop\\0106\\t6916A_a0_4.txt 0\n",
        "('startTime:', 1386410525.4513195, [1386410525.4112804, 1386410525.4513195, 1386410525.4112804, 1386410525.4476879])"
       ]
      },
      {
       "output_type": "stream",
       "stream": "stdout",
       "text": [
        "\n",
        "('stopTime:', 1386410555.355707, [1386410555.355707, 1386410555.355707, 1386410555.355707, 1386410555.355707])\n",
        "('accWF.shape:', (6, 898))"
       ]
      },
      {
       "output_type": "stream",
       "stream": "stdout",
       "text": [
        "\n",
        "---------------acc + dec:"
       ]
      },
      {
       "output_type": "stream",
       "stream": "stdout",
       "text": [
        "\n",
        "[16, 36, 752]\n",
        "---------------turn:\n",
        "D:\\Documents\\Desktop\\0106\\t6916A_a0_5.txt 0\n",
        "('startTime:', 1386410691.5348005, [1386410691.478343, 1386410691.5348005, 1386410691.478343, 1386410691.498393])"
       ]
      },
      {
       "output_type": "stream",
       "stream": "stdout",
       "text": [
        "\n",
        "('stopTime:', 1386410716.1354468, [1386410716.1354468, 1386410716.1354468, 1386410716.1354468, 1386410716.1354468])\n",
        "('accWF.shape:', (6, 739))"
       ]
      },
      {
       "output_type": "stream",
       "stream": "stdout",
       "text": [
        "\n",
        "---------------acc + dec:"
       ]
      },
      {
       "output_type": "stream",
       "stream": "stdout",
       "text": [
        "\n",
        "[16, 0, 154]\n",
        "[16, 237, 638]\n",
        "---------------turn:\n",
        "D:\\Documents\\Desktop\\0106\\t6916A_a1_0.txt 1\n",
        "('startTime:', 1386410770.1502438, [1386410770.1502438, 1386410770.1502438, 1386410770.1502438, 1386410770.1502438])"
       ]
      },
      {
       "output_type": "stream",
       "stream": "stdout",
       "text": [
        "\n",
        "('stopTime:', 1386410780.4822137, [1386410780.4822137, 1386410780.4822137, 1386410780.4822137, 1386410780.4822137])\n",
        "('accWF.shape:', (6, 310))"
       ]
      },
      {
       "output_type": "stream",
       "stream": "stdout",
       "text": [
        "\n",
        "---------------acc + dec:\n",
        "[16, 67, 309]\n",
        "---------------turn:\n",
        "D:\\Documents\\Desktop\\0106\\t6916A_a1_1.txt"
       ]
      },
      {
       "output_type": "stream",
       "stream": "stdout",
       "text": [
        " 1\n",
        "('startTime:', 1386410799.7578897, [1386410799.7177591, 1386410799.7578897, 1386410799.7177591, 1386410799.7378397])"
       ]
      },
      {
       "output_type": "stream",
       "stream": "stdout",
       "text": [
        "\n",
        "('stopTime:', 1386410808.951615, [1386410808.951615, 1386410808.951615, 1386410808.951615, 1386410808.951615])\n",
        "('accWF.shape:', (6, 276))"
       ]
      },
      {
       "output_type": "stream",
       "stream": "stdout",
       "text": [
        "\n",
        "---------------acc + dec:\n",
        "[16, 31, 231]\n",
        "---------------turn:\n",
        "D:\\Documents\\Desktop\\0106\\t6916A_a1_2.txt 1\n",
        "('startTime:', 1386410825.9033036, [1386410825.884993, 1386410825.9033036, 1386410825.884993, 1386410825.9033036])"
       ]
      },
      {
       "output_type": "stream",
       "stream": "stdout",
       "text": [
        "\n",
        "('stopTime:', 1386410835.978285, [1386410835.978285, 1386410835.978285, 1386410835.978285, 1386410835.978285])\n",
        "('accWF.shape:', (6, 303))"
       ]
      },
      {
       "output_type": "stream",
       "stream": "stdout",
       "text": [
        "\n",
        "---------------acc + dec:\n",
        "[16, 0, 82]\n",
        "[16, 147, 261]\n",
        "---------------turn:\n",
        "D:\\Documents\\Desktop\\0106\\t6916A_a1_3.txt"
       ]
      },
      {
       "output_type": "stream",
       "stream": "stdout",
       "text": [
        " 1\n",
        "('startTime:', 1386410864.3024125, [1386410864.2586503, 1386410864.3024125, 1386410864.2586503, 1386410864.3024125])"
       ]
      },
      {
       "output_type": "stream",
       "stream": "stdout",
       "text": [
        "\n",
        "('stopTime:', 1386410873.2518141, [1386410873.2518141, 1386410873.2518141, 1386410873.2518141, 1386410873.2518141])\n",
        "('accWF.shape:', (6, 269))"
       ]
      },
      {
       "output_type": "stream",
       "stream": "stdout",
       "text": [
        "\n",
        "---------------acc + dec:\n",
        "[16, 0, 168]\n",
        "---------------turn:\n",
        "D:\\Documents\\Desktop\\0106\\t6916A_a1_4.txt 1\n",
        "('startTime:', 1386410896.949737, [1386410896.9317012, 1386410896.949737, 1386410896.9317012, 1386410896.949737])"
       ]
      },
      {
       "output_type": "stream",
       "stream": "stdout",
       "text": [
        "\n",
        "('stopTime:', 1386410905.302398, [1386410905.302398, 1386410905.302398, 1386410905.302398, 1386410905.302398])\n",
        "('accWF.shape:', (6, 251))"
       ]
      },
      {
       "output_type": "stream",
       "stream": "stdout",
       "text": [
        "\n",
        "---------------acc + dec:\n",
        "[16, 0, 192]\n",
        "---------------turn:\n",
        "D:\\Documents\\Desktop\\0106\\t6916A_a1_5.txt 1\n",
        "('startTime:', 1386410978.3871727, [1386410978.3668175, 1386410978.3871727, 1386410978.3668175, 1386410978.3871727])"
       ]
      },
      {
       "output_type": "stream",
       "stream": "stdout",
       "text": [
        "\n",
        "('stopTime:', 1386410988.0213583, [1386410988.0213583, 1386410988.0213583, 1386410988.0213583, 1386410988.0213583])\n",
        "('accWF.shape:', (6, 290))"
       ]
      },
      {
       "output_type": "stream",
       "stream": "stdout",
       "text": [
        "\n",
        "---------------acc + dec:\n",
        "[16, 0, 194]\n",
        "---------------turn:\n",
        "D:\\Documents\\Desktop\\0106\\t6916A_a1_6.txt 1\n",
        "('startTime:', 1386411479.0214455, [1386411478.9812233, 1386411479.0214455, 1386411478.9812233, 1386411479.001548])"
       ]
      },
      {
       "output_type": "stream",
       "stream": "stdout",
       "text": [
        "\n",
        "('stopTime:', 1386411490.3582983, [1386411490.3582983, 1386411490.3582983, 1386411490.3582983, 1386411490.3582983])\n",
        "('accWF.shape:', (6, 341))"
       ]
      },
      {
       "output_type": "stream",
       "stream": "stdout",
       "text": [
        "\n",
        "---------------acc + dec:\n",
        "[16, 0, 186]\n",
        "---------------turn:\n",
        "D:\\Documents\\Desktop\\0106\\t6916A_a1_7.txt 1\n",
        "('startTime:', 1386411507.2376206, [1386411507.2176316, 1386411507.2376206, 1386411507.2176316, 1386411507.2376206])"
       ]
      },
      {
       "output_type": "stream",
       "stream": "stdout",
       "text": [
        "\n",
        "('stopTime:', 1386411515.7536116, [1386411515.7536116, 1386411515.7536116, 1386411515.7536116, 1386411515.7536116])\n",
        "('accWF.shape:', (6, 256))"
       ]
      },
      {
       "output_type": "stream",
       "stream": "stdout",
       "text": [
        "\n",
        "---------------acc + dec:\n",
        "[16, 0, 154]\n",
        "---------------turn:\n",
        "D:\\Documents\\Desktop\\0106\\t6916A_a2_0.txt 2\n",
        "('startTime:', 1386410651.560204, [1386410651.5401235, 1386410651.560204, 1386410651.5401235, 1386410651.560204])"
       ]
      },
      {
       "output_type": "stream",
       "stream": "stdout",
       "text": [
        "\n",
        "('stopTime:', 1386410669.3062363, [1386410669.3062363, 1386410669.3062363, 1386410669.3062363, 1386410669.3062363])\n",
        "('accWF.shape:', (6, 533))"
       ]
      },
      {
       "output_type": "stream",
       "stream": "stdout",
       "text": [
        "\n",
        "---------------acc + dec:"
       ]
      },
      {
       "output_type": "stream",
       "stream": "stdout",
       "text": [
        "\n",
        "[16, 0, 424]\n",
        "---------------turn:\n",
        "[17, 72, 222]\n",
        "D:\\Documents\\Desktop\\0106\\t6916A_a2_1.txt 2\n",
        "('startTime:', 1386411428.7886922, [1386411428.7686727, 1386411428.7886922, 1386411428.7686727, 1386411428.7886922])"
       ]
      },
      {
       "output_type": "stream",
       "stream": "stdout",
       "text": [
        "\n",
        "('stopTime:', 1386411444.7315323, [1386411444.7315323, 1386411444.7315323, 1386411444.7315323, 1386411444.7315323])\n",
        "('accWF.shape:', (6, 479))"
       ]
      },
      {
       "output_type": "stream",
       "stream": "stdout",
       "text": [
        "\n",
        "---------------acc + dec:"
       ]
      },
      {
       "output_type": "stream",
       "stream": "stdout",
       "text": [
        "\n",
        "[16, 0, 76]\n",
        "[16, 277, 394]\n",
        "---------------turn:\n",
        "[17, 265, 452]\n",
        "D:\\Documents\\Desktop\\0106\\t6916A_a2_2.txt 2\n",
        "('startTime:', 1386411690.3801649, [1386411690.3801649, 1386411690.3801649, 1386411690.3801649, 1386411690.3801649])"
       ]
      },
      {
       "output_type": "stream",
       "stream": "stdout",
       "text": [
        "\n",
        "('stopTime:', 1386411700.6146312, [1386411700.6146312, 1386411700.6146312, 1386411700.6146312, 1386411700.6146312])\n",
        "('accWF.shape:', (6, 308))"
       ]
      },
      {
       "output_type": "stream",
       "stream": "stdout",
       "text": [
        "\n",
        "---------------acc + dec:\n",
        "[16, 30, 242]\n",
        "---------------turn:\n",
        "[17, 77, 297]\n",
        "D:\\Documents\\Desktop\\0106\\t6916A_a2_3.txt 2\n",
        "('startTime:', 1386411719.8287053, [1386411719.7686467, 1386411719.8287053, 1386411719.7686467, 1386411719.811005])"
       ]
      },
      {
       "output_type": "stream",
       "stream": "stdout",
       "text": [
        "\n",
        "('stopTime:', 1386411731.5856326, [1386411731.5856326, 1386411731.5856326, 1386411731.5856326, 1386411731.5856326])\n",
        "('accWF.shape:', (6, 353))"
       ]
      },
      {
       "output_type": "stream",
       "stream": "stdout",
       "text": [
        "\n",
        "---------------acc + dec:"
       ]
      },
      {
       "output_type": "stream",
       "stream": "stdout",
       "text": [
        "\n",
        "[16, 0, 122]\n",
        "---------------turn:\n",
        "[17, 66, 293]\n",
        "D:\\Documents\\Desktop\\0106\\t6916A_a2_4.txt 2\n",
        "('startTime:', 1386411747.2508135, [1386411747.2105608, 1386411747.2508135, 1386411747.2105608, 1386411747.2508135])"
       ]
      },
      {
       "output_type": "stream",
       "stream": "stdout",
       "text": [
        "\n",
        "('stopTime:', 1386411757.125264, [1386411757.125264, 1386411757.125264, 1386411757.125264, 1386411757.125264])\n",
        "('accWF.shape:', (6, 297))"
       ]
      },
      {
       "output_type": "stream",
       "stream": "stdout",
       "text": [
        "\n",
        "---------------acc + dec:\n",
        "[16, 0, 234]\n",
        "---------------turn:\n",
        "[17, 19, 241]\n",
        "D:\\Documents\\Desktop\\0106\\t6916A_a2_5.txt 2\n",
        "('startTime:', 1386411772.0213473, [1386411771.963547, 1386411772.0213473, 1386411771.963547, 1386411771.983536])"
       ]
      },
      {
       "output_type": "stream",
       "stream": "stdout",
       "text": [
        "\n",
        "('stopTime:', 1386411781.7978363, [1386411781.7978363, 1386411781.7978363, 1386411781.7978363, 1386411781.7978363])\n",
        "('accWF.shape:', (6, 294))"
       ]
      },
      {
       "output_type": "stream",
       "stream": "stdout",
       "text": [
        "\n",
        "---------------acc + dec:\n",
        "[16, 0, 122]\n",
        "[16, 190, 254]\n",
        "---------------turn:\n",
        "[17, 48, 254]\n",
        "D:\\Documents\\Desktop\\0106\\t6916A_a3_0.txt 3\n",
        "('startTime:', 1386411555.3273299, [1386411555.294493, 1386411555.3273299, 1386411555.294493, 1386411555.3273299])"
       ]
      },
      {
       "output_type": "stream",
       "stream": "stdout",
       "text": [
        "\n",
        "('stopTime:', 1386411564.4684124, [1386411564.4684124, 1386411564.4684124, 1386411564.4684124, 1386411564.4684124])\n",
        "('accWF.shape:', (6, 275))"
       ]
      },
      {
       "output_type": "stream",
       "stream": "stdout",
       "text": [
        "\n",
        "---------------acc + dec:\n",
        "[16, 3, 148]\n",
        "---------------turn:\n",
        "[17, 50, 248]\n",
        "D:\\Documents\\Desktop\\0106\\t6916A_a3_1.txt"
       ]
      },
      {
       "output_type": "stream",
       "stream": "stdout",
       "text": [
        " 3\n",
        "('startTime:', 1386411588.8561125, [1386411588.8160734, 1386411588.8561125, 1386411588.8160734, 1386411588.836093])"
       ]
      },
      {
       "output_type": "stream",
       "stream": "stdout",
       "text": [
        "\n",
        "('stopTime:', 1386411598.4105556, [1386411598.4105556, 1386411598.4105556, 1386411598.4105556, 1386411598.4105556])\n",
        "('accWF.shape:', (6, 287))"
       ]
      },
      {
       "output_type": "stream",
       "stream": "stdout",
       "text": [
        "\n",
        "---------------acc + dec:\n",
        "[16, 0, 79]\n",
        "---------------turn:\n",
        "[17, 55, 282]\n",
        "D:\\Documents\\Desktop\\0106\\t6916A_a3_2.txt 3\n",
        "('startTime:', 1386411829.331373, [1386411829.3110788, 1386411829.331373, 1386411829.3110788, 1386411829.331373])"
       ]
      },
      {
       "output_type": "stream",
       "stream": "stdout",
       "text": [
        "\n",
        "('stopTime:', 1386411841.1081367, [1386411841.1081367, 1386411841.1081367, 1386411841.1081367, 1386411841.1081367])\n",
        "('accWF.shape:', (6, 354))"
       ]
      },
      {
       "output_type": "stream",
       "stream": "stdout",
       "text": [
        "\n",
        "---------------acc + dec:"
       ]
      },
      {
       "output_type": "stream",
       "stream": "stdout",
       "text": [
        "\n",
        "[16, 0, 304]\n",
        "---------------turn:\n",
        "[17, 30, 230]\n",
        "D:\\Documents\\Desktop\\0106\\t6916A_a3_3.txt 3\n",
        "('startTime:', 1386411855.3479824, [1386411855.3090725, 1386411855.3479824, 1386411855.3090725, 1386411855.3479824])"
       ]
      },
      {
       "output_type": "stream",
       "stream": "stdout",
       "text": [
        "\n",
        "('stopTime:', 1386411864.5617578, [1386411864.5617578, 1386411864.5617578, 1386411864.5617578, 1386411864.5617578])\n",
        "('accWF.shape:', (6, 277))"
       ]
      },
      {
       "output_type": "stream",
       "stream": "stdout",
       "text": [
        "\n",
        "---------------acc + dec:\n",
        "[16, 7, 169]\n",
        "---------------turn:\n",
        "[17, 35, 249]\n",
        "D:\\Documents\\Desktop\\0106\\t6916A_a3_4.txt"
       ]
      },
      {
       "output_type": "stream",
       "stream": "stdout",
       "text": [
        " 3\n",
        "('startTime:', 1386411878.978774, [1386411878.9579916, 1386411878.978774, 1386411878.9579916, 1386411878.978774])"
       ]
      },
      {
       "output_type": "stream",
       "stream": "stdout",
       "text": [
        "\n",
        "('stopTime:', 1386411886.0481098, [1386411886.0481098, 1386411886.0481098, 1386411886.0481098, 1386411886.0481098])\n",
        "('accWF.shape:', (6, 213))"
       ]
      },
      {
       "output_type": "stream",
       "stream": "stdout",
       "text": [
        "\n",
        "---------------acc + dec:\n",
        "[16, 0, 141]\n",
        "---------------turn:\n",
        "[17, 23, 211]\n",
        "D:\\Documents\\Desktop\\0106\\t6916A_a3_5.txt 3\n",
        "('startTime:', 1386411908.7266037, [1386411908.7239487, 1386411908.7266037, 1386411908.7239487, 1386411908.7266037])"
       ]
      },
      {
       "output_type": "stream",
       "stream": "stdout",
       "text": [
        "\n",
        "('stopTime:', 1386411916.9983015, [1386411916.9983015, 1386411916.9983015, 1386411916.9983015, 1386411916.9983015])\n",
        "('accWF.shape:', (6, 249))"
       ]
      },
      {
       "output_type": "stream",
       "stream": "stdout",
       "text": [
        "\n",
        "---------------acc + dec:\n",
        "[16, 0, 131]\n",
        "---------------turn:\n",
        "[17, 0, 220]\n",
        "D:\\Documents\\Desktop\\0106\\t6916A_a3_6.txt 3\n",
        "('startTime:', 1386411932.9489365, [1386411932.9289474, 1386411932.9489365, 1386411932.9289474, 1386411932.9489365])"
       ]
      },
      {
       "output_type": "stream",
       "stream": "stdout",
       "text": [
        "\n",
        "('stopTime:', 1386411941.801872, [1386411941.801872, 1386411941.801872, 1386411941.801872, 1386411941.801872])\n",
        "('accWF.shape:', (6, 266))"
       ]
      },
      {
       "output_type": "stream",
       "stream": "stdout",
       "text": [
        "\n",
        "---------------acc + dec:\n",
        "[16, 16, 229]\n",
        "---------------turn:\n",
        "[17, 51, 230]\n",
        "D:\\Documents\\Desktop\\0106\\t6916A_a3_7.txt 3\n",
        "('startTime:', 1386411986.970962, [1386411986.9531398, 1386411986.970962, 1386411986.9531398, 1386411986.970962])"
       ]
      },
      {
       "output_type": "stream",
       "stream": "stdout",
       "text": [
        "\n",
        "('stopTime:', 1386411995.5652306, [1386411995.5652306, 1386411995.5652306, 1386411995.5652306, 1386411995.5652306])\n",
        "('accWF.shape:', (6, 258))"
       ]
      },
      {
       "output_type": "stream",
       "stream": "stdout",
       "text": [
        "\n",
        "---------------acc + dec:\n",
        "[16, 0, 143]\n",
        "---------------turn:\n",
        "[17, 35, 237]\n",
        "D:\\Documents\\Desktop\\0106\\t6916A_a4_0.txt"
       ]
      },
      {
       "output_type": "stream",
       "stream": "stdout",
       "text": [
        " 4\n",
        "('startTime:', 1386412069.9291244, [1386412069.8938155, 1386412069.9291244, 1386412069.8938155, 1386412069.9291244])"
       ]
      },
      {
       "output_type": "stream",
       "stream": "stdout",
       "text": [
        "\n",
        "('stopTime:', 1386412080.0482953, [1386412080.0482953, 1386412080.0482953, 1386412080.0482953, 1386412080.0482953])\n",
        "('accWF.shape:', (6, 304))"
       ]
      },
      {
       "output_type": "stream",
       "stream": "stdout",
       "text": [
        "\n",
        "---------------acc + dec:\n",
        "[16, 0, 67]\n",
        "---------------turn:\n",
        "D:\\Documents\\Desktop\\0106\\t6916A_a4_1.txt 4\n",
        "('startTime:', 1386412149.8787918, [1386412149.8787918, 1386412149.8787918, 1386412149.8787918, 1386412149.8787918])"
       ]
      },
      {
       "output_type": "stream",
       "stream": "stdout",
       "text": [
        "\n",
        "('stopTime:', 1386412159.2122877, [1386412159.2122877, 1386412159.2122877, 1386412159.2122877, 1386412159.2122877])\n",
        "('accWF.shape:', (6, 281))"
       ]
      },
      {
       "output_type": "stream",
       "stream": "stdout",
       "text": [
        "\n",
        "---------------acc + dec:"
       ]
      },
      {
       "output_type": "stream",
       "stream": "stdout",
       "text": [
        "\n",
        "---------------turn:\n",
        "D:\\Documents\\Desktop\\0106\\t6916A_a4_2.txt 4\n",
        "('startTime:', 1386412170.6867797, [1386412170.649182, 1386412170.6867797, 1386412170.649182, 1386412170.6867797])"
       ]
      },
      {
       "output_type": "stream",
       "stream": "stdout",
       "text": [
        "\n",
        "('stopTime:', 1386412181.92561, [1386412181.92561, 1386412181.92561, 1386412181.92561, 1386412181.92561])\n",
        "('accWF.shape:', (6, 338))"
       ]
      },
      {
       "output_type": "stream",
       "stream": "stdout",
       "text": [
        "\n",
        "---------------acc + dec:"
       ]
      },
      {
       "output_type": "stream",
       "stream": "stdout",
       "text": [
        "\n",
        "---------------turn:\n",
        "D:\\Documents\\Desktop\\0106\\t6916A_a4_3.txt 4\n",
        "('startTime:', 1386412274.9677625, [1386412274.9464917, 1386412274.9677625, 1386412274.9464917, 1386412274.9677625])"
       ]
      },
      {
       "output_type": "stream",
       "stream": "stdout",
       "text": [
        "\n",
        "('stopTime:', 1386412284.4001658, [1386412284.4001658, 1386412284.4001658, 1386412284.4001658, 1386412284.4001658])\n",
        "('accWF.shape:', (6, 283))"
       ]
      },
      {
       "output_type": "stream",
       "stream": "stdout",
       "text": [
        "\n",
        "---------------acc + dec:\n",
        "[16, 0, 183]\n",
        "---------------turn:\n",
        "D:\\Documents\\Desktop\\0106\\t6916A_a4_4.txt 4\n",
        "('startTime:', 1386412311.3544216, [1386412311.3347378, 1386412311.3544216, 1386412311.3347378, 1386412311.3544216])"
       ]
      },
      {
       "output_type": "stream",
       "stream": "stdout",
       "text": [
        "\n",
        "('stopTime:', 1386412321.2488, [1386412321.2488, 1386412321.2488, 1386412321.2488, 1386412321.2488])\n",
        "('accWF.shape:', (6, 297))"
       ]
      },
      {
       "output_type": "stream",
       "stream": "stdout",
       "text": [
        "\n",
        "---------------acc + dec:\n",
        "[16, 0, 177]\n",
        "---------------turn:\n",
        "D:\\Documents\\Desktop\\0106\\t6916A_a4_5.txt"
       ]
      },
      {
       "output_type": "stream",
       "stream": "stdout",
       "text": [
        " 4\n",
        "('startTime:', 1386412331.2268221, [1386412331.221207, 1386412331.2268221, 1386412331.221207, 1386412331.2268221])"
       ]
      },
      {
       "output_type": "stream",
       "stream": "stdout",
       "text": [
        "\n",
        "('stopTime:', 1386412341.322281, [1386412341.322281, 1386412341.322281, 1386412341.322281, 1386412341.322281])\n",
        "('accWF.shape:', (6, 303))"
       ]
      },
      {
       "output_type": "stream",
       "stream": "stdout",
       "text": [
        "\n",
        "---------------acc + dec:\n",
        "[16, 0, 75]\n",
        "---------------turn:"
       ]
      },
      {
       "output_type": "stream",
       "stream": "stdout",
       "text": [
        "\n",
        "D:\\Documents\\Desktop\\0106\\t6916A_a4_6.txt 4\n",
        "('startTime:', 1386412353.2579715, [1386412353.2205875, 1386412353.2579715, 1386412353.2205875, 1386412353.2579715])"
       ]
      },
      {
       "output_type": "stream",
       "stream": "stdout",
       "text": [
        "\n",
        "('stopTime:', 1386412364.7181764, [1386412364.7181764, 1386412364.7181764, 1386412364.7181764, 1386412364.7181764])\n",
        "('accWF.shape:', (6, 344))"
       ]
      },
      {
       "output_type": "stream",
       "stream": "stdout",
       "text": [
        "\n",
        "---------------acc + dec:"
       ]
      },
      {
       "output_type": "stream",
       "stream": "stdout",
       "text": [
        "\n",
        "[16, 0, 72]\n",
        "---------------turn:\n",
        "D:\\Documents\\Desktop\\0106\\t6916B_a0_0.txt 0\n",
        "('startTime:', 1386412592.67616, [1386412592.6561406, 1386412592.67616, 1386412592.6561406, 1386412592.67616])"
       ]
      },
      {
       "output_type": "stream",
       "stream": "stdout",
       "text": [
        "\n",
        "('stopTime:', 1386412606.9367797, [1386412606.9367797, 1386412606.9367797, 1386412606.9367797, 1386412606.9367797])\n",
        "('accWF.shape:', (6, 428))"
       ]
      },
      {
       "output_type": "stream",
       "stream": "stdout",
       "text": [
        "\n",
        "---------------acc + dec:\n",
        "[16, 54, 427]\n",
        "---------------turn:"
       ]
      },
      {
       "output_type": "stream",
       "stream": "stdout",
       "text": [
        "\n",
        "D:\\Documents\\Desktop\\0106\\t6916B_a0_1.txt 0\n",
        "('startTime:', 1386412626.6596978, [1386412626.6197503, 1386412626.6596978, 1386412626.6197503, 1386412626.6526177])"
       ]
      },
      {
       "output_type": "stream",
       "stream": "stdout",
       "text": [
        "\n",
        "('stopTime:', 1386412642.2455127, [1386412642.2455127, 1386412642.2455127, 1386412642.2455127, 1386412642.2455127])\n",
        "('accWF.shape:', (6, 468))"
       ]
      },
      {
       "output_type": "stream",
       "stream": "stdout",
       "text": [
        "\n",
        "---------------acc + dec:"
       ]
      },
      {
       "output_type": "stream",
       "stream": "stdout",
       "text": [
        "\n",
        "[16, 0, 125]\n",
        "[16, 336, 429]\n",
        "---------------turn:\n",
        "D:\\Documents\\Desktop\\0106\\t6916B_a0_2.txt 0\n",
        "('startTime:', 1386412695.47787, [1386412695.4350233, 1386412695.47787, 1386412695.4350233, 1386412695.47787])"
       ]
      },
      {
       "output_type": "stream",
       "stream": "stdout",
       "text": [
        "\n",
        "('stopTime:', 1386412710.8977304, [1386412710.8977304, 1386412710.8977304, 1386412710.8977304, 1386412710.8977304])\n",
        "('accWF.shape:', (6, 463))"
       ]
      },
      {
       "output_type": "stream",
       "stream": "stdout",
       "text": [
        "\n",
        "---------------acc + dec:"
       ]
      },
      {
       "output_type": "stream",
       "stream": "stdout",
       "text": [
        "\n",
        "[16, 9, 374]\n",
        "---------------turn:\n",
        "D:\\Documents\\Desktop\\0106\\t6916B_a0_3.txt 0\n",
        "('startTime:', 1386412728.3746953, [1386412728.3746953, 1386412728.3746953, 1386412728.3746953, 1386412728.3746953])"
       ]
      },
      {
       "output_type": "stream",
       "stream": "stdout",
       "text": [
        "\n",
        "('stopTime:', 1386412746.500763, [1386412746.500763, 1386412746.500763, 1386412746.500763, 1386412746.500763])\n",
        "('accWF.shape:', (6, 544))"
       ]
      },
      {
       "output_type": "stream",
       "stream": "stdout",
       "text": [
        "\n",
        "---------------acc + dec:"
       ]
      },
      {
       "output_type": "stream",
       "stream": "stdout",
       "text": [
        "\n",
        "[16, 12, 469]\n",
        "---------------turn:\n",
        "D:\\Documents\\Desktop\\0106\\t6916B_a0_4.txt 0\n",
        "('startTime:', 1386412760.9784062, [1386412760.9784062, 1386412760.9784062, 1386412760.9784062, 1386412760.9784062])"
       ]
      },
      {
       "output_type": "stream",
       "stream": "stdout",
       "text": [
        "\n",
        "('stopTime:', 1386412776.2987487, [1386412776.2987487, 1386412776.2987487, 1386412776.2987487, 1386412776.2987487])\n",
        "('accWF.shape:', (6, 460))"
       ]
      },
      {
       "output_type": "stream",
       "stream": "stdout",
       "text": [
        "\n",
        "---------------acc + dec:\n",
        "[16, 25, 287]\n",
        "---------------turn:"
       ]
      },
      {
       "output_type": "stream",
       "stream": "stdout",
       "text": [
        "\n",
        "D:\\Documents\\Desktop\\0106\\t6916B_a0_5.txt 0\n",
        "('startTime:', 1386412789.3080976, [1386412789.3080976, 1386412789.3080976, 1386412789.3080976, 1386412789.3080976])"
       ]
      },
      {
       "output_type": "stream",
       "stream": "stdout",
       "text": [
        "\n",
        "('stopTime:', 1386412805.912162, [1386412805.912162, 1386412805.912162, 1386412805.912162, 1386412805.912162])\n",
        "('accWF.shape:', (6, 499))"
       ]
      },
      {
       "output_type": "stream",
       "stream": "stdout",
       "text": [
        "\n",
        "---------------acc + dec:"
       ]
      },
      {
       "output_type": "stream",
       "stream": "stdout",
       "text": [
        "\n",
        "[16, 1, 185]\n",
        "[16, 380, 443]\n",
        "---------------turn:\n",
        "D:\\Documents\\Desktop\\0106\\t6916B_a0_6.txt 0\n",
        "('startTime:', 1386412819.8417344, [1386412819.8016038, 1386412819.8417344, 1386412819.8016038, 1386412819.8217149])"
       ]
      },
      {
       "output_type": "stream",
       "stream": "stdout",
       "text": [
        "\n",
        "('stopTime:', 1386412833.8025494, [1386412833.8025494, 1386412833.8025494, 1386412833.8025494, 1386412833.8025494])\n",
        "('accWF.shape:', (6, 419))"
       ]
      },
      {
       "output_type": "stream",
       "stream": "stdout",
       "text": [
        "\n",
        "---------------acc + dec:"
       ]
      },
      {
       "output_type": "stream",
       "stream": "stdout",
       "text": [
        "\n",
        "[16, 0, 108]\n",
        "[16, 205, 271]\n",
        "---------------turn:\n",
        "D:\\Documents\\Desktop\\0106\\t6916B_a1_0.txt 1\n",
        "('startTime:', 1386412879.3409162, [1386412879.3409162, 1386412879.3409162, 1386412879.3409162, 1386412879.3409162])"
       ]
      },
      {
       "output_type": "stream",
       "stream": "stdout",
       "text": [
        "\n",
        "('stopTime:', 1386412888.2334025, [1386412888.2334025, 1386412888.2334025, 1386412888.2334025, 1386412888.2334025])\n",
        "('accWF.shape:', (6, 267))"
       ]
      },
      {
       "output_type": "stream",
       "stream": "stdout",
       "text": [
        "\n",
        "---------------acc + dec:\n",
        "[16, 35, 206]\n",
        "---------------turn:\n",
        "D:\\Documents\\Desktop\\0106\\t6916B_a1_1.txt 1\n",
        "('startTime:', 1386412921.2911756, [1386412921.2713087, 1386412921.2911756, 1386412921.2713087, 1386412921.2911756])"
       ]
      },
      {
       "output_type": "stream",
       "stream": "stdout",
       "text": [
        "\n",
        "('stopTime:', 1386412929.002418, [1386412929.002418, 1386412929.002418, 1386412929.002418, 1386412929.002418])\n",
        "('accWF.shape:', (6, 232))"
       ]
      },
      {
       "output_type": "stream",
       "stream": "stdout",
       "text": [
        "\n",
        "---------------acc + dec:\n",
        "[16, 0, 151]\n",
        "---------------turn:\n",
        "D:\\Documents\\Desktop\\0106\\t6916B_a1_2.txt"
       ]
      },
      {
       "output_type": "stream",
       "stream": "stdout",
       "text": [
        " 1\n",
        "('startTime:', 1386412988.9501674, [1386412988.9501674, 1386412988.9501674, 1386412988.9501674, 1386412988.9501674])"
       ]
      },
      {
       "output_type": "stream",
       "stream": "stdout",
       "text": [
        "\n",
        "('stopTime:', 1386412999.5253625, [1386412999.5253625, 1386412999.5253625, 1386412999.5253625, 1386412999.5253625])\n",
        "('accWF.shape:', (6, 318))"
       ]
      },
      {
       "output_type": "stream",
       "stream": "stdout",
       "text": [
        "\n",
        "---------------acc + dec:"
       ]
      },
      {
       "output_type": "stream",
       "stream": "stdout",
       "text": [
        "\n",
        "[16, 87, 317]\n",
        "---------------turn:\n",
        "D:\\Documents\\Desktop\\0106\\t6916B_a1_3.txt 1\n",
        "('startTime:', 1386413019.233067, [1386413019.2123456, 1386413019.233067, 1386413019.2123456, 1386413019.233067])"
       ]
      },
      {
       "output_type": "stream",
       "stream": "stdout",
       "text": [
        "\n",
        "('stopTime:', 1386413026.817448, [1386413026.817448, 1386413026.817448, 1386413026.817448, 1386413026.817448])\n",
        "('accWF.shape:', (6, 228))"
       ]
      },
      {
       "output_type": "stream",
       "stream": "stdout",
       "text": [
        "\n",
        "---------------acc + dec:\n",
        "[16, 0, 168]\n",
        "---------------turn:\n",
        "D:\\Documents\\Desktop\\0106\\t6916B_a1_4.txt 1\n",
        "('startTime:', 1386413047.8151255, [1386413047.795228, 1386413047.8151255, 1386413047.795228, 1386413047.8151255])"
       ]
      },
      {
       "output_type": "stream",
       "stream": "stdout",
       "text": [
        "\n",
        "('stopTime:', 1386413056.0875556, [1386413056.0875556, 1386413056.0875556, 1386413056.0875556, 1386413056.0875556])\n",
        "('accWF.shape:', (6, 249))"
       ]
      },
      {
       "output_type": "stream",
       "stream": "stdout",
       "text": [
        "\n",
        "---------------acc + dec:\n",
        "[16, 54, 248]\n",
        "---------------turn:\n",
        "D:\\Documents\\Desktop\\0106\\t6916B_a1_5.txt 1\n",
        "('startTime:', 1386413077.341213, [1386413077.2972677, 1386413077.341213, 1386413077.2972677, 1386413077.341213])"
       ]
      },
      {
       "output_type": "stream",
       "stream": "stdout",
       "text": [
        "\n",
        "('stopTime:', 1386413085.6508746, [1386413085.6508746, 1386413085.6508746, 1386413085.6508746, 1386413085.6508746])\n",
        "('accWF.shape:', (6, 250))"
       ]
      },
      {
       "output_type": "stream",
       "stream": "stdout",
       "text": [
        "\n",
        "---------------acc + dec:\n",
        "[16, 0, 196]\n",
        "---------------turn:\n",
        "D:\\Documents\\Desktop\\0106\\t6916B_a1_6.txt 1\n",
        "('startTime:', 1386413121.0332856, [1386413121.0132356, 1386413121.0332856, 1386413121.0132356, 1386413121.0332856])"
       ]
      },
      {
       "output_type": "stream",
       "stream": "stdout",
       "text": [
        "\n",
        "('stopTime:', 1386413131.169821, [1386413131.169821, 1386413131.169821, 1386413131.169821, 1386413131.169821])\n",
        "('accWF.shape:', (6, 305))"
       ]
      },
      {
       "output_type": "stream",
       "stream": "stdout",
       "text": [
        "\n",
        "---------------acc + dec:\n",
        "[16, 79, 219]\n",
        "---------------turn:\n",
        "D:\\Documents\\Desktop\\0106\\t6916B_a1_7.txt"
       ]
      },
      {
       "output_type": "stream",
       "stream": "stdout",
       "text": [
        " 1\n",
        "('startTime:', 1386413160.4651248, [1386413160.4630497, 1386413160.4651248, 1386413160.4630497, 1386413160.4651248])"
       ]
      },
      {
       "output_type": "stream",
       "stream": "stdout",
       "text": [
        "\n",
        "('stopTime:', 1386413172.722876, [1386413172.722876, 1386413172.722876, 1386413172.722876, 1386413172.722876])\n",
        "('accWF.shape:', (6, 368))"
       ]
      },
      {
       "output_type": "stream",
       "stream": "stdout",
       "text": [
        "\n",
        "---------------acc + dec:"
       ]
      },
      {
       "output_type": "stream",
       "stream": "stdout",
       "text": [
        "\n",
        "[16, 0, 294]\n",
        "---------------turn:\n",
        "D:\\Documents\\Desktop\\0106\\t6916B_a2_0.txt 2\n",
        "('startTime:', 1386413497.6274273, [1386413497.6108563, 1386413497.6274273, 1386413497.6108563, 1386413497.6274273])"
       ]
      },
      {
       "output_type": "stream",
       "stream": "stdout",
       "text": [
        "\n",
        "('stopTime:', 1386413505.4994974, [1386413505.4994974, 1386413505.4994974, 1386413505.4994974, 1386413505.4994974])\n",
        "('accWF.shape:', (6, 237))"
       ]
      },
      {
       "output_type": "stream",
       "stream": "stdout",
       "text": [
        "\n",
        "---------------acc + dec:\n",
        "[16, 0, 183]\n",
        "---------------turn:\n",
        "[17, 17, 216]\n",
        "D:\\Documents\\Desktop\\0106\\t6916B_a2_1.txt 2\n",
        "('startTime:', 1386413520.9174695, [1386413520.8774, 1386413520.9174695, 1386413520.8774, 1386413520.8974195])"
       ]
      },
      {
       "output_type": "stream",
       "stream": "stdout",
       "text": [
        "\n",
        "('stopTime:', 1386413527.5894358, [1386413527.5894358, 1386413527.5894358, 1386413527.5894358, 1386413527.5894358])\n",
        "('accWF.shape:', (6, 201))"
       ]
      },
      {
       "output_type": "stream",
       "stream": "stdout",
       "text": [
        "\n",
        "---------------acc + dec:\n",
        "[16, 0, 117]\n",
        "---------------turn:\n",
        "[17, 0, 186]\n",
        "D:\\Documents\\Desktop\\0106\\t6916B_a2_2.txt 2\n",
        "('startTime:', 1386413539.5517378, [1386413539.5344648, 1386413539.5517378, 1386413539.5344648, 1386413539.5344648])"
       ]
      },
      {
       "output_type": "stream",
       "stream": "stdout",
       "text": [
        "\n",
        "('stopTime:', 1386413548.4648845, [1386413548.4648845, 1386413548.4648845, 1386413548.4648845, 1386413548.4648845])\n",
        "('accWF.shape:', (6, 268))"
       ]
      },
      {
       "output_type": "stream",
       "stream": "stdout",
       "text": [
        "\n",
        "---------------acc + dec:\n",
        "[16, 0, 256]\n",
        "---------------turn:\n",
        "[17, 0, 213]\n",
        "D:\\Documents\\Desktop\\0106\\t6916B_a2_3.txt 2\n",
        "('startTime:', 1386413559.839674, [1386413559.7994518, 1386413559.839674, 1386413559.7994518, 1386413559.8315258])"
       ]
      },
      {
       "output_type": "stream",
       "stream": "stdout",
       "text": [
        "\n",
        "('stopTime:', 1386413567.1940134, [1386413567.1940134, 1386413567.1940134, 1386413567.1940134, 1386413567.1940134])\n",
        "('accWF.shape:', (6, 221))"
       ]
      },
      {
       "output_type": "stream",
       "stream": "stdout",
       "text": [
        "\n",
        "---------------acc + dec:\n",
        "[16, 0, 164]\n",
        "---------------turn:\n",
        "[17, 12, 211]\n",
        "D:\\Documents\\Desktop\\0106\\t6916B_a2_4.txt 2\n",
        "('startTime:', 1386413580.219571, [1386413580.1997042, 1386413580.219571, 1386413580.1997042, 1386413580.219571])"
       ]
      },
      {
       "output_type": "stream",
       "stream": "stdout",
       "text": [
        "\n",
        "('stopTime:', 1386413587.230008, [1386413587.230008, 1386413587.230008, 1386413587.230008, 1386413587.230008])\n",
        "('accWF.shape:', (6, 211))"
       ]
      },
      {
       "output_type": "stream",
       "stream": "stdout",
       "text": [
        "\n",
        "---------------acc + dec:\n",
        "[16, 0, 127]\n",
        "---------------turn:\n",
        "[17, 0, 187]\n",
        "D:\\Documents\\Desktop\\0106\\t6916B_a2_5.txt 2\n",
        "('startTime:', 1386413602.9615884, [1386413602.9213967, 1386413602.9615884, 1386413602.9213967, 1386413602.9414773])"
       ]
      },
      {
       "output_type": "stream",
       "stream": "stdout",
       "text": [
        "\n",
        "('stopTime:', 1386413612.7759192, [1386413612.7759192, 1386413612.7759192, 1386413612.7759192, 1386413612.7759192])\n",
        "('accWF.shape:', (6, 295))"
       ]
      },
      {
       "output_type": "stream",
       "stream": "stdout",
       "text": [
        "\n",
        "---------------acc + dec:\n",
        "[16, 0, 226]\n",
        "---------------turn:\n",
        "[17, 5, 207]\n",
        "D:\\Documents\\Desktop\\0106\\t6916B_a2_6.txt"
       ]
      },
      {
       "output_type": "stream",
       "stream": "stdout",
       "text": [
        " 2\n",
        "('startTime:', 1386413623.6005533, [1386413623.5597208, 1386413623.6005533, 1386413623.5597208, 1386413623.6005533])"
       ]
      },
      {
       "output_type": "stream",
       "stream": "stdout",
       "text": [
        "\n",
        "('stopTime:', 1386413631.4514747, [1386413631.4514747, 1386413631.4514747, 1386413631.4514747, 1386413631.4514747])\n",
        "('accWF.shape:', (6, 236))"
       ]
      },
      {
       "output_type": "stream",
       "stream": "stdout",
       "text": [
        "\n",
        "---------------acc + dec:\n",
        "[16, 0, 181]\n",
        "---------------turn:\n",
        "[17, 0, 196]\n",
        "D:\\Documents\\Desktop\\0106\\t6916B_a3_0.txt 3\n",
        "('startTime:', 1386413332.6753838, [1386413332.6392815, 1386413332.6753838, 1386413332.6392815, 1386413332.6753838])"
       ]
      },
      {
       "output_type": "stream",
       "stream": "stdout",
       "text": [
        "\n",
        "('stopTime:', 1386413340.8120718, [1386413340.8120718, 1386413340.8120718, 1386413340.8120718, 1386413340.8120718])\n",
        "('accWF.shape:', (6, 245))"
       ]
      },
      {
       "output_type": "stream",
       "stream": "stdout",
       "text": [
        "\n",
        "---------------acc + dec:\n",
        "[16, 0, 241]\n",
        "---------------turn:\n",
        "[17, 21, 217]\n",
        "D:\\Documents\\Desktop\\0106\\t6916B_a3_1.txt 3\n",
        "('startTime:', 1386413353.3085763, [1386413353.2486703, 1386413353.3085763, 1386413353.2486703, 1386413353.3085763])"
       ]
      },
      {
       "output_type": "stream",
       "stream": "stdout",
       "text": [
        "\n",
        "('stopTime:', 1386413360.9403815, [1386413360.9403815, 1386413360.9403815, 1386413360.9403815, 1386413360.9403815])\n",
        "('accWF.shape:', (6, 229))"
       ]
      },
      {
       "output_type": "stream",
       "stream": "stdout",
       "text": [
        "\n",
        "---------------acc + dec:\n",
        "[16, 0, 156]\n",
        "---------------turn:\n",
        "[17, 0, 197]\n",
        "D:\\Documents\\Desktop\\0106\\t6916B_a3_2.txt 3\n",
        "('startTime:', 1386413372.7527397, [1386413372.7327201, 1386413372.7527397, 1386413372.7327201, 1386413372.7527397])"
       ]
      },
      {
       "output_type": "stream",
       "stream": "stdout",
       "text": [
        "\n",
        "('stopTime:', 1386413380.144463, [1386413380.144463, 1386413380.144463, 1386413380.144463, 1386413380.144463])\n",
        "('accWF.shape:', (6, 222))"
       ]
      },
      {
       "output_type": "stream",
       "stream": "stdout",
       "text": [
        "\n",
        "---------------acc + dec:\n",
        "[16, 0, 144]\n",
        "---------------turn:\n",
        "[17, 0, 202]\n",
        "D:\\Documents\\Desktop\\0106\\t6916B_a3_3.txt 3\n",
        "('startTime:', 1386413394.4405193, [1386413394.420683, 1386413394.4405193, 1386413394.420683, 1386413394.4405193])"
       ]
      },
      {
       "output_type": "stream",
       "stream": "stdout",
       "text": [
        "\n",
        "('stopTime:', 1386413403.3740823, [1386413403.3740823, 1386413403.3740823, 1386413403.3740823, 1386413403.3740823])\n",
        "('accWF.shape:', (6, 269))"
       ]
      },
      {
       "output_type": "stream",
       "stream": "stdout",
       "text": [
        "\n",
        "---------------acc + dec:\n",
        "[16, 0, 82]\n",
        "---------------turn:\n",
        "[17, 17, 211]\n",
        "D:\\Documents\\Desktop\\0106\\t6916B_a3_4.txt 3\n",
        "('startTime:', 1386413414.0230675, [1386413414.0045738, 1386413414.0230675, 1386413414.0045738, 1386413414.0230675])"
       ]
      },
      {
       "output_type": "stream",
       "stream": "stdout",
       "text": [
        "\n",
        "('stopTime:', 1386413422.7358968, [1386413422.7358968, 1386413422.7358968, 1386413422.7358968, 1386413422.7358968])\n",
        "('accWF.shape:', (6, 262))"
       ]
      },
      {
       "output_type": "stream",
       "stream": "stdout",
       "text": [
        "\n",
        "---------------acc + dec:\n",
        "[16, 0, 222]\n",
        "---------------turn:\n",
        "[17, 0, 192]\n",
        "D:\\Documents\\Desktop\\0106\\t6916B_a3_5.txt 3\n",
        "('startTime:', 1386413433.4468567, [1386413433.4264405, 1386413433.4468567, 1386413433.4264405, 1386413433.4468567])"
       ]
      },
      {
       "output_type": "stream",
       "stream": "stdout",
       "text": [
        "\n",
        "('stopTime:', 1386413442.1203794, [1386413442.1203794, 1386413442.1203794, 1386413442.1203794, 1386413442.1203794])\n",
        "('accWF.shape:', (6, 261))"
       ]
      },
      {
       "output_type": "stream",
       "stream": "stdout",
       "text": [
        "\n",
        "---------------acc + dec:\n",
        "[16, 0, 186]\n",
        "---------------turn:\n",
        "[17, 13, 216]\n",
        "D:\\Documents\\Desktop\\0106\\t6916B_a3_6.txt"
       ]
      },
      {
       "output_type": "stream",
       "stream": "stdout",
       "text": [
        " 3\n",
        "('startTime:', 1386413453.3773675, [1386413453.3612542, 1386413453.3773675, 1386413453.3612542, 1386413453.3773675])"
       ]
      },
      {
       "output_type": "stream",
       "stream": "stdout",
       "text": [
        "\n",
        "('stopTime:', 1386413460.729296, [1386413460.729296, 1386413460.729296, 1386413460.729296, 1386413460.729296])\n",
        "('accWF.shape:', (6, 221))"
       ]
      },
      {
       "output_type": "stream",
       "stream": "stdout",
       "text": [
        "\n",
        "---------------acc + dec:\n",
        "[16, 0, 196]\n",
        "---------------turn:\n",
        "[17, 0, 196]\n",
        "D:\\Documents\\Desktop\\0106\\t6916B_a4_0.txt 4\n",
        "('startTime:', 1386413695.6745563, [1386413695.6165729, 1386413695.6745563, 1386413695.6165729, 1386413695.6368976])"
       ]
      },
      {
       "output_type": "stream",
       "stream": "stdout",
       "text": [
        "\n",
        "('stopTime:', 1386413704.5504105, [1386413704.5504105, 1386413704.5504105, 1386413704.5504105, 1386413704.5504105])\n",
        "('accWF.shape:', (6, 267))"
       ]
      },
      {
       "output_type": "stream",
       "stream": "stdout",
       "text": [
        "\n",
        "---------------acc + dec:\n",
        "[16, 22, 83]\n",
        "[16, 160, 231]\n",
        "---------------turn:\n",
        "D:\\Documents\\Desktop\\0106\\t6916B_a4_1.txt 4\n",
        "('startTime:', 1386413734.4325483, [1386413734.3794477, 1386413734.4325483, 1386413734.3794477, 1386413734.3995893])"
       ]
      },
      {
       "output_type": "stream",
       "stream": "stdout",
       "text": [
        "\n",
        "('stopTime:', 1386413744.193748, [1386413744.193748, 1386413744.193748, 1386413744.193748, 1386413744.193748])\n",
        "('accWF.shape:', (6, 293))"
       ]
      },
      {
       "output_type": "stream",
       "stream": "stdout",
       "text": [
        "\n",
        "---------------acc + dec:\n",
        "---------------turn:"
       ]
      },
      {
       "output_type": "stream",
       "stream": "stdout",
       "text": [
        "\n",
        "D:\\Documents\\Desktop\\0106\\t6916B_a4_2.txt 4\n",
        "('startTime:', 1386413752.9575856, [1386413752.939336, 1386413752.9575856, 1386413752.939336, 1386413752.9575856])"
       ]
      },
      {
       "output_type": "stream",
       "stream": "stdout",
       "text": [
        "\n",
        "('stopTime:', 1386413767.2786605, [1386413767.2786605, 1386413767.2786605, 1386413767.2786605, 1386413767.2786605])\n",
        "('accWF.shape:', (6, 430))"
       ]
      },
      {
       "output_type": "stream",
       "stream": "stdout",
       "text": [
        "\n",
        "---------------acc + dec:"
       ]
      },
      {
       "output_type": "stream",
       "stream": "stdout",
       "text": [
        "\n",
        "---------------turn:\n",
        "D:\\Documents\\Desktop\\0106\\t6916B_a4_3.txt 4\n",
        "('startTime:', 1386413817.8474007, [1386413817.786518, 1386413817.8474007, 1386413817.786518, 1386413817.8065376])"
       ]
      },
      {
       "output_type": "stream",
       "stream": "stdout",
       "text": [
        "\n",
        "('stopTime:', 1386413825.9594915, [1386413825.9594915, 1386413825.9594915, 1386413825.9594915, 1386413825.9594915])\n",
        "('accWF.shape:', (6, 244))"
       ]
      },
      {
       "output_type": "stream",
       "stream": "stdout",
       "text": [
        "\n",
        "---------------acc + dec:"
       ]
      },
      {
       "output_type": "stream",
       "stream": "stdout",
       "text": [
        "\n",
        "[16, 0, 62]\n",
        "---------------turn:\n",
        "D:\\Documents\\Desktop\\0106\\t6916B_a4_4.txt 4\n",
        "('startTime:', 1386413836.3198082, [1386413836.3198082, 1386413836.3198082, 1386413836.3198082, 1386413836.3198082])"
       ]
      },
      {
       "output_type": "stream",
       "stream": "stdout",
       "text": [
        "\n",
        "('stopTime:', 1386413847.4367208, [1386413847.4367208, 1386413847.4367208, 1386413847.4367208, 1386413847.4367208])\n",
        "('accWF.shape:', (6, 334))"
       ]
      },
      {
       "output_type": "stream",
       "stream": "stdout",
       "text": [
        "\n",
        "---------------acc + dec:"
       ]
      },
      {
       "output_type": "stream",
       "stream": "stdout",
       "text": [
        "\n",
        "[16, 0, 81]\n",
        "[16, 245, 317]\n",
        "---------------turn:\n",
        "D:\\Documents\\Desktop\\0106\\t6916B_a4_5.txt 4\n",
        "('startTime:', 1386413897.4323359, [1386413897.3976068, 1386413897.4323359, 1386413897.3976068, 1386413897.4323359])"
       ]
      },
      {
       "output_type": "stream",
       "stream": "stdout",
       "text": [
        "\n",
        "('stopTime:', 1386413907.2536552, [1386413907.2536552, 1386413907.2536552, 1386413907.2536552, 1386413907.2536552])\n",
        "('accWF.shape:', (6, 295))"
       ]
      },
      {
       "output_type": "stream",
       "stream": "stdout",
       "text": [
        "\n",
        "---------------acc + dec:\n",
        "[16, 0, 96]\n",
        "[16, 163, 237]\n",
        "---------------turn:\n",
        "D:\\Documents\\Desktop\\0106\\t6916B_a4_6.txt 4\n",
        "('startTime:', 1386413917.0417976, [1386413916.9989815, 1386413917.0417976, 1386413916.9989815, 1386413917.0417976])"
       ]
      },
      {
       "output_type": "stream",
       "stream": "stdout",
       "text": [
        "\n",
        "('stopTime:', 1386413928.3559453, [1386413928.3559453, 1386413928.3559453, 1386413928.3559453, 1386413928.3559453])\n",
        "('accWF.shape:', (6, 340))"
       ]
      },
      {
       "output_type": "stream",
       "stream": "stdout",
       "text": [
        "\n",
        "---------------acc + dec:\n",
        "[16, 0, 82]\n",
        "---------------turn:\n",
        "D:\\Documents\\Desktop\\0106\\t6916B_a4_7.txt 4\n",
        "('startTime:', 1386413968.2473474, [1386413968.231173, 1386413968.2473474, 1386413968.231173, 1386413968.2473474])"
       ]
      },
      {
       "output_type": "stream",
       "stream": "stdout",
       "text": [
        "\n",
        "('stopTime:', 1386413982.370882, [1386413982.370882, 1386413982.370882, 1386413982.370882, 1386413982.370882])\n",
        "('accWF.shape:', (6, 424))"
       ]
      },
      {
       "output_type": "stream",
       "stream": "stdout",
       "text": [
        "\n",
        "---------------acc + dec:"
       ]
      },
      {
       "output_type": "stream",
       "stream": "stdout",
       "text": [
        "\n",
        "---------------turn:\n",
        "D:\\Documents\\Desktop\\0106\\t6916C_a0_0.txt 0\n",
        "('startTime:', 1386417065.9326708, [1386417065.9126818, 1386417065.9326708, 1386417065.9126818, 1386417065.9326708])"
       ]
      },
      {
       "output_type": "stream",
       "stream": "stdout",
       "text": [
        "\n",
        "('stopTime:', 1386417090.6509318, [1386417090.6509318, 1386417090.6509318, 1386417090.6509318, 1386417090.6509318])\n",
        "('accWF.shape:', (6, 742))"
       ]
      },
      {
       "output_type": "stream",
       "stream": "stdout",
       "text": [
        "\n",
        "---------------acc + dec:"
       ]
      },
      {
       "output_type": "stream",
       "stream": "stdout",
       "text": [
        "\n",
        "[16, 105, 701]\n",
        "---------------turn:\n",
        "D:\\Documents\\Desktop\\0106\\t6916C_a0_1.txt 0\n",
        "('startTime:', 1386417129.4294128, [1386417129.3695679, 1386417129.4294128, 1386417129.3695679, 1386417129.4294128])"
       ]
      },
      {
       "output_type": "stream",
       "stream": "stdout",
       "text": [
        "\n",
        "('stopTime:', 1386417147.9392085, [1386417147.9392085, 1386417147.9392085, 1386417147.9392085, 1386417147.9392085])\n",
        "('accWF.shape:', (6, 556))"
       ]
      },
      {
       "output_type": "stream",
       "stream": "stdout",
       "text": [
        "\n",
        "---------------acc + dec:"
       ]
      },
      {
       "output_type": "stream",
       "stream": "stdout",
       "text": [
        "\n",
        "[16, 93, 459]\n",
        "---------------turn:\n",
        "D:\\Documents\\Desktop\\0106\\t6916C_a0_2.txt 0\n",
        "('startTime:', 1386417169.0040836, [1386417168.9842777, 1386417169.0040836, 1386417168.9842777, 1386417169.0040836])"
       ]
      },
      {
       "output_type": "stream",
       "stream": "stdout",
       "text": [
        "\n",
        "('stopTime:', 1386417189.0946593, [1386417189.0946593, 1386417189.0946593, 1386417189.0946593, 1386417189.0946593])\n",
        "('accWF.shape:', (6, 603))"
       ]
      },
      {
       "output_type": "stream",
       "stream": "stdout",
       "text": [
        "\n",
        "---------------acc + dec:"
       ]
      },
      {
       "output_type": "stream",
       "stream": "stdout",
       "text": [
        "\n",
        "[16, 162, 512]\n",
        "---------------turn:\n",
        "D:\\Documents\\Desktop\\0106\\t6916C_a0_3.txt 0\n",
        "('startTime:', 1386417204.5396376, [1386417204.5195875, 1386417204.5396376, 1386417204.5195875, 1386417204.5396376])"
       ]
      },
      {
       "output_type": "stream",
       "stream": "stdout",
       "text": [
        "\n",
        "('stopTime:', 1386417229.0177252, [1386417229.0177252, 1386417229.0177252, 1386417229.0177252, 1386417229.0177252])\n",
        "('accWF.shape:', (6, 735))"
       ]
      },
      {
       "output_type": "stream",
       "stream": "stdout",
       "text": [
        "\n",
        "---------------acc + dec:"
       ]
      },
      {
       "output_type": "stream",
       "stream": "stdout",
       "text": [
        "\n",
        "[16, 36, 516]\n",
        "[16, 645, 731]\n",
        "---------------turn:\n",
        "D:\\Documents\\Desktop\\0106\\t6916C_a0_4.txt 0\n",
        "('startTime:', 1386417267.5323539, [1386417267.5116324, 1386417267.5323539, 1386417267.5116324, 1386417267.5323539])"
       ]
      },
      {
       "output_type": "stream",
       "stream": "stdout",
       "text": [
        "\n",
        "('stopTime:', 1386417286.5613146, [1386417286.5613146, 1386417286.5613146, 1386417286.5613146, 1386417286.5613146])\n",
        "('accWF.shape:', (6, 571))"
       ]
      },
      {
       "output_type": "stream",
       "stream": "stdout",
       "text": [
        "\n",
        "---------------acc + dec:"
       ]
      },
      {
       "output_type": "stream",
       "stream": "stdout",
       "text": [
        "\n",
        "[16, 149, 310]\n",
        "---------------turn:\n",
        "D:\\Documents\\Desktop\\0106\\t6916C_a0_5.txt 0\n",
        "('startTime:', 1386417313.0540187, [1386417313.0540187, 1386417313.0540187, 1386417313.0540187, 1386417313.0540187])"
       ]
      },
      {
       "output_type": "stream",
       "stream": "stdout",
       "text": [
        "\n",
        "('stopTime:', 1386417332.5953085, [1386417332.5953085, 1386417332.5953085, 1386417332.5953085, 1386417332.5953085])\n",
        "('accWF.shape:', (6, 587))"
       ]
      },
      {
       "output_type": "stream",
       "stream": "stdout",
       "text": [
        "\n",
        "---------------acc + dec:"
       ]
      },
      {
       "output_type": "stream",
       "stream": "stdout",
       "text": [
        "\n",
        "[16, 155, 387]\n",
        "---------------turn:\n",
        "D:\\Documents\\Desktop\\0106\\t6916C_a0_6.txt 0\n",
        "('startTime:', 1386417349.1591687, [1386417349.1391797, 1386417349.1591687, 1386417349.1391797, 1386417349.1591687])"
       ]
      },
      {
       "output_type": "stream",
       "stream": "stdout",
       "text": [
        "\n",
        "('stopTime:', 1386417364.8028755, [1386417364.8028755, 1386417364.8028755, 1386417364.8028755, 1386417364.8028755])\n",
        "('accWF.shape:', (6, 470))"
       ]
      },
      {
       "output_type": "stream",
       "stream": "stdout",
       "text": [
        "\n",
        "---------------acc + dec:"
       ]
      },
      {
       "output_type": "stream",
       "stream": "stdout",
       "text": [
        "\n",
        "[16, 45, 408]\n",
        "---------------turn:\n",
        "D:\\Documents\\Desktop\\0106\\t6916C_a1_0.txt 1\n",
        "('startTime:', 1386417458.996655, [1386417458.935986, 1386417458.996655, 1386417458.935986, 1386417458.9562802])"
       ]
      },
      {
       "output_type": "stream",
       "stream": "stdout",
       "text": [
        "\n",
        "('stopTime:', 1386417472.756359, [1386417472.756359, 1386417472.756359, 1386417472.756359, 1386417472.756359])\n",
        "('accWF.shape:', (6, 413))"
       ]
      },
      {
       "output_type": "stream",
       "stream": "stdout",
       "text": [
        "\n",
        "---------------acc + dec:\n",
        "[16, 113, 185]\n",
        "[16, 252, 393]\n",
        "---------------turn:"
       ]
      },
      {
       "output_type": "stream",
       "stream": "stdout",
       "text": [
        "\n",
        "D:\\Documents\\Desktop\\0106\\t6916C_a1_1.txt 1\n",
        "('startTime:', 1386417493.019917, [1386417492.981648, 1386417493.019917, 1386417492.981648, 1386417493.019917])"
       ]
      },
      {
       "output_type": "stream",
       "stream": "stdout",
       "text": [
        "\n",
        "('stopTime:', 1386417502.075001, [1386417502.075001, 1386417502.075001, 1386417502.075001, 1386417502.075001])\n",
        "('accWF.shape:', (6, 272))"
       ]
      },
      {
       "output_type": "stream",
       "stream": "stdout",
       "text": [
        "\n",
        "---------------acc + dec:\n",
        "[16, 0, 183]\n",
        "---------------turn:\n",
        "D:\\Documents\\Desktop\\0106\\t6916C_a1_2.txt"
       ]
      },
      {
       "output_type": "stream",
       "stream": "stdout",
       "text": [
        " 1\n",
        "('startTime:', 1386417519.8678539, [1386417519.8247936, 1386417519.8678539, 1386417519.8247936, 1386417519.8678539])"
       ]
      },
      {
       "output_type": "stream",
       "stream": "stdout",
       "text": [
        "\n",
        "('stopTime:', 1386417529.0181527, [1386417529.0181527, 1386417529.0181527, 1386417529.0181527, 1386417529.0181527])\n",
        "('accWF.shape:', (6, 275))"
       ]
      },
      {
       "output_type": "stream",
       "stream": "stdout",
       "text": [
        "\n",
        "---------------acc + dec:\n",
        "[16, 0, 232]\n",
        "---------------turn:\n",
        "D:\\Documents\\Desktop\\0106\\t6916C_a1_3.txt 1\n",
        "('startTime:', 1386417543.5984023, [1386417543.5783522, 1386417543.5984023, 1386417543.5783522, 1386417543.5984023])"
       ]
      },
      {
       "output_type": "stream",
       "stream": "stdout",
       "text": [
        "\n",
        "('stopTime:', 1386417550.5885754, [1386417550.5885754, 1386417550.5885754, 1386417550.5885754, 1386417550.5885754])\n",
        "('accWF.shape:', (6, 210))"
       ]
      },
      {
       "output_type": "stream",
       "stream": "stdout",
       "text": [
        "\n",
        "---------------acc + dec:"
       ]
      },
      {
       "output_type": "stream",
       "stream": "stdout",
       "text": [
        "\n",
        "[16, 0, 114]\n",
        "---------------turn:\n",
        "D:\\Documents\\Desktop\\0106\\t6916C_a1_4.txt 1\n",
        "('startTime:', 1386417569.9952903, [1386417569.9754844, 1386417569.9952903, 1386417569.9754844, 1386417569.9952903])"
       ]
      },
      {
       "output_type": "stream",
       "stream": "stdout",
       "text": [
        "\n",
        "('stopTime:', 1386417578.2673848, [1386417578.2673848, 1386417578.2673848, 1386417578.2673848, 1386417578.2673848])\n",
        "('accWF.shape:', (6, 249))"
       ]
      },
      {
       "output_type": "stream",
       "stream": "stdout",
       "text": [
        "\n",
        "---------------acc + dec:\n",
        "[16, 38, 239]\n",
        "---------------turn:\n",
        "D:\\Documents\\Desktop\\0106\\t6916C_a1_5.txt 1\n",
        "('startTime:', 1386417600.505068, [1386417600.4440024, 1386417600.505068, 1386417600.4440024, 1386417600.4638388])"
       ]
      },
      {
       "output_type": "stream",
       "stream": "stdout",
       "text": [
        "\n",
        "('stopTime:', 1386417612.6432514, [1386417612.6432514, 1386417612.6432514, 1386417612.6432514, 1386417612.6432514])\n",
        "('accWF.shape:', (6, 365))"
       ]
      },
      {
       "output_type": "stream",
       "stream": "stdout",
       "text": [
        "\n",
        "---------------acc + dec:"
       ]
      },
      {
       "output_type": "stream",
       "stream": "stdout",
       "text": [
        "\n",
        "[16, 0, 162]\n",
        "---------------turn:\n",
        "D:\\Documents\\Desktop\\0106\\t6916C_a1_6.txt 1\n",
        "('startTime:', 1386417663.050505, [1386417663.0120833, 1386417663.050505, 1386417663.0120833, 1386417663.050505])"
       ]
      },
      {
       "output_type": "stream",
       "stream": "stdout",
       "text": [
        "\n",
        "('stopTime:', 1386417673.146513, [1386417673.146513, 1386417673.146513, 1386417673.146513, 1386417673.146513])\n",
        "('accWF.shape:', (6, 303))"
       ]
      },
      {
       "output_type": "stream",
       "stream": "stdout",
       "text": [
        "\n",
        "---------------acc + dec:\n",
        "[16, 15, 226]\n",
        "---------------turn:\n",
        "D:\\Documents\\Desktop\\0106\\t6916C_a2_0.txt 2\n",
        "('startTime:', 1386417919.9015658, [1386417919.8807833, 1386417919.9015658, 1386417919.8807833, 1386417919.9015658])"
       ]
      },
      {
       "output_type": "stream",
       "stream": "stdout",
       "text": [
        "\n",
        "('stopTime:', 1386417929.4947968, [1386417929.4947968, 1386417929.4947968, 1386417929.4947968, 1386417929.4947968])\n",
        "('accWF.shape:', (6, 288))"
       ]
      },
      {
       "output_type": "stream",
       "stream": "stdout",
       "text": [
        "\n",
        "---------------acc + dec:\n",
        "[16, 0, 224]\n",
        "---------------turn:\n",
        "[17, 59, 254]\n",
        "D:\\Documents\\Desktop\\0106\\t6916C_a2_1.txt 2\n",
        "('startTime:', 1386417943.1899967, [1386417943.136652, 1386417943.1899967, 1386417943.136652, 1386417943.1568546])"
       ]
      },
      {
       "output_type": "stream",
       "stream": "stdout",
       "text": [
        "\n",
        "('stopTime:', 1386417951.7893007, [1386417951.7893007, 1386417951.7893007, 1386417951.7893007, 1386417951.7893007])\n",
        "('accWF.shape:', (6, 258))"
       ]
      },
      {
       "output_type": "stream",
       "stream": "stdout",
       "text": [
        "\n",
        "---------------acc + dec:\n",
        "[16, 0, 198]\n",
        "---------------turn:\n",
        "[17, 45, 245]\n",
        "D:\\Documents\\Desktop\\0106\\t6916C_a2_2.txt 2\n",
        "('startTime:', 1386417967.742972, [1386417967.7025971, 1386417967.742972, 1386417967.7025971, 1386417967.7226777])"
       ]
      },
      {
       "output_type": "stream",
       "stream": "stdout",
       "text": [
        "\n",
        "('stopTime:', 1386417977.3769743, [1386417977.3769743, 1386417977.3769743, 1386417977.3769743, 1386417977.3769743])\n",
        "('accWF.shape:', (6, 290))"
       ]
      },
      {
       "output_type": "stream",
       "stream": "stdout",
       "text": [
        "\n",
        "---------------acc + dec:\n",
        "[16, 0, 200]\n",
        "---------------turn:\n",
        "[17, 29, 244]\n",
        "D:\\Documents\\Desktop\\0106\\t6916C_a2_3.txt"
       ]
      },
      {
       "output_type": "stream",
       "stream": "stdout",
       "text": [
        " 2\n",
        "('startTime:', 1386417990.495149, [1386417990.4750683, 1386417990.495149, 1386417990.4750683, 1386417990.495149])"
       ]
      },
      {
       "output_type": "stream",
       "stream": "stdout",
       "text": [
        "\n",
        "('stopTime:', 1386417996.8843699, [1386417996.8843699, 1386417996.8843699, 1386417996.8843699, 1386417996.8843699])\n",
        "('accWF.shape:', (6, 192))"
       ]
      },
      {
       "output_type": "stream",
       "stream": "stdout",
       "text": [
        "\n",
        "---------------acc + dec:\n",
        "[16, 0, 118]\n",
        "---------------turn:\n",
        "[17, 0, 191]\n",
        "D:\\Documents\\Desktop\\0106\\t6916C_a2_4.txt 2\n",
        "('startTime:', 1386418011.0234833, [1386418010.9824982, 1386418011.0234833, 1386418010.9824982, 1386418011.0035858])"
       ]
      },
      {
       "output_type": "stream",
       "stream": "stdout",
       "text": [
        "\n",
        "('stopTime:', 1386418018.2328641, [1386418018.2328641, 1386418018.2328641, 1386418018.2328641, 1386418018.2328641])\n",
        "('accWF.shape:', (6, 217))"
       ]
      },
      {
       "output_type": "stream",
       "stream": "stdout",
       "text": [
        "\n",
        "---------------acc + dec:\n",
        "[16, 0, 192]\n",
        "---------------turn:\n",
        "[17, 4, 205]\n",
        "D:\\Documents\\Desktop\\0106\\t6916C_a2_5.txt 2\n",
        "('startTime:', 1386418075.0554748, [1386418075.036981, 1386418075.0554748, 1386418075.036981, 1386418075.0554748])"
       ]
      },
      {
       "output_type": "stream",
       "stream": "stdout",
       "text": [
        "\n",
        "('stopTime:', 1386418082.9072812, [1386418082.9072812, 1386418082.9072812, 1386418082.9072812, 1386418082.9072812])\n",
        "('accWF.shape:', (6, 236))"
       ]
      },
      {
       "output_type": "stream",
       "stream": "stdout",
       "text": [
        "\n",
        "---------------acc + dec:\n",
        "[16, 0, 211]\n",
        "---------------turn:\n",
        "[17, 10, 227]\n",
        "D:\\Documents\\Desktop\\0106\\t6916C_a2_6.txt 2\n",
        "('startTime:', 1386418097.3591065, [1386418097.3388429, 1386418097.3591065, 1386418097.3388429, 1386418097.3591065])"
       ]
      },
      {
       "output_type": "stream",
       "stream": "stdout",
       "text": [
        "\n",
        "('stopTime:', 1386418105.5106566, [1386418105.5106566, 1386418105.5106566, 1386418105.5106566, 1386418105.5106566])\n",
        "('accWF.shape:', (6, 245))"
       ]
      },
      {
       "output_type": "stream",
       "stream": "stdout",
       "text": [
        "\n",
        "---------------acc + dec:\n",
        "[16, 0, 181]\n",
        "---------------turn:\n",
        "[17, 0, 211]\n",
        "D:\\Documents\\Desktop\\0106\\t6916C_a3_0.txt 3\n",
        "('startTime:', 1386417703.9409647, [1386417703.9087992, 1386417703.9409647, 1386417703.9087992, 1386417703.9409647])"
       ]
      },
      {
       "output_type": "stream",
       "stream": "stdout",
       "text": [
        "\n",
        "('stopTime:', 1386417713.382981, [1386417713.382981, 1386417713.382981, 1386417713.382981, 1386417713.382981])\n",
        "('accWF.shape:', (6, 284))"
       ]
      },
      {
       "output_type": "stream",
       "stream": "stdout",
       "text": [
        "\n",
        "---------------acc + dec:\n",
        "[16, 5, 274]\n",
        "---------------turn:\n",
        "[17, 33, 245]\n",
        "D:\\Documents\\Desktop\\0106\\t6916C_a3_1.txt"
       ]
      },
      {
       "output_type": "stream",
       "stream": "stdout",
       "text": [
        " 3\n",
        "('startTime:', 1386417733.80488, [1386417733.748636, 1386417733.80488, 1386417733.748636, 1386417733.769266])"
       ]
      },
      {
       "output_type": "stream",
       "stream": "stdout",
       "text": [
        "\n",
        "('stopTime:', 1386417741.801309, [1386417741.801309, 1386417741.801309, 1386417741.801309, 1386417741.801309])\n",
        "('accWF.shape:', (6, 240))"
       ]
      },
      {
       "output_type": "stream",
       "stream": "stdout",
       "text": [
        "\n",
        "---------------acc + dec:"
       ]
      },
      {
       "output_type": "stream",
       "stream": "stdout",
       "text": [
        "\n",
        "[16, 0, 148]\n",
        "---------------turn:\n",
        "[17, 31, 228]\n",
        "D:\\Documents\\Desktop\\0106\\t6916C_a3_2.txt 3\n",
        "('startTime:', 1386417756.9141033, [1386417756.8746135, 1386417756.9141033, 1386417756.8746135, 1386417756.9141033])"
       ]
      },
      {
       "output_type": "stream",
       "stream": "stdout",
       "text": [
        "\n",
        "('stopTime:', 1386417764.164744, [1386417764.164744, 1386417764.164744, 1386417764.164744, 1386417764.164744])\n",
        "('accWF.shape:', (6, 218))"
       ]
      },
      {
       "output_type": "stream",
       "stream": "stdout",
       "text": [
        "\n",
        "---------------acc + dec:\n",
        "[16, 0, 142]\n",
        "---------------turn:\n",
        "[17, 13, 210]\n",
        "D:\\Documents\\Desktop\\0106\\t6916C_a3_3.txt 3\n",
        "('startTime:', 1386417782.1612735, [1386417782.1236453, 1386417782.1612735, 1386417782.1236453, 1386417782.1612735])"
       ]
      },
      {
       "output_type": "stream",
       "stream": "stdout",
       "text": [
        "\n",
        "('stopTime:', 1386417790.1946595, [1386417790.1946595, 1386417790.1946595, 1386417790.1946595, 1386417790.1946595])\n",
        "('accWF.shape:', (6, 242))"
       ]
      },
      {
       "output_type": "stream",
       "stream": "stdout",
       "text": [
        "\n",
        "---------------acc + dec:\n",
        "[16, 24, 140]\n",
        "---------------turn:\n",
        "[17, 0, 183]\n",
        "D:\\Documents\\Desktop\\0106\\t6916C_a3_4.txt 3\n",
        "('startTime:', 1386417804.7767546, [1386417804.7343047, 1386417804.7767546, 1386417804.7343047, 1386417804.7767546])"
       ]
      },
      {
       "output_type": "stream",
       "stream": "stdout",
       "text": [
        "\n",
        "('stopTime:', 1386417811.9250393, [1386417811.9250393, 1386417811.9250393, 1386417811.9250393, 1386417811.9250393])\n",
        "('accWF.shape:', (6, 215))"
       ]
      },
      {
       "output_type": "stream",
       "stream": "stdout",
       "text": [
        "\n",
        "---------------acc + dec:\n",
        "[16, 0, 114]\n",
        "---------------turn:\n",
        "[17, 0, 192]\n",
        "D:\\Documents\\Desktop\\0106\\t6916C_a3_5.txt 3\n",
        "('startTime:', 1386417830.8585613, [1386417830.8387249, 1386417830.8585613, 1386417830.8387249, 1386417830.8585613])"
       ]
      },
      {
       "output_type": "stream",
       "stream": "stdout",
       "text": [
        "\n",
        "('stopTime:', 1386417837.9290261, [1386417837.9290261, 1386417837.9290261, 1386417837.9290261, 1386417837.9290261])\n",
        "('accWF.shape:', (6, 213))"
       ]
      },
      {
       "output_type": "stream",
       "stream": "stdout",
       "text": [
        "\n",
        "---------------acc + dec:\n",
        "[16, 56, 122]\n",
        "---------------turn:\n",
        "[17, 0, 183]\n",
        "D:\\Documents\\Desktop\\0106\\t6916C_a3_6.txt 3\n",
        "('startTime:', 1386417852.0129359, [1386417851.9928553, 1386417852.0129359, 1386417851.9928553, 1386417852.0129359])"
       ]
      },
      {
       "output_type": "stream",
       "stream": "stdout",
       "text": [
        "\n",
        "('stopTime:', 1386417858.642727, [1386417858.642727, 1386417858.642727, 1386417858.642727, 1386417858.642727])\n",
        "('accWF.shape:', (6, 199))"
       ]
      },
      {
       "output_type": "stream",
       "stream": "stdout",
       "text": [
        "\n",
        "---------------acc + dec:\n",
        "[16, 0, 139]\n",
        "---------------turn:\n",
        "[17, 0, 175]\n",
        "D:\\Documents\\Desktop\\0106\\t6916C_a4_0.txt 4\n",
        "('startTime:', 1386418133.5691833, [1386418133.5321655, 1386418133.5691833, 1386418133.5321655, 1386418133.5691833])"
       ]
      },
      {
       "output_type": "stream",
       "stream": "stdout",
       "text": [
        "\n",
        "('stopTime:', 1386418143.5089414, [1386418143.5089414, 1386418143.5089414, 1386418143.5089414, 1386418143.5089414])\n",
        "('accWF.shape:', (6, 299))"
       ]
      },
      {
       "output_type": "stream",
       "stream": "stdout",
       "text": [
        "\n",
        "---------------acc + dec:\n",
        "---------------turn:\n",
        "D:\\Documents\\Desktop\\0106\\t6916C_a4_1.txt"
       ]
      },
      {
       "output_type": "stream",
       "stream": "stdout",
       "text": [
        " 4\n",
        "('startTime:', 1386418173.3320591, [1386418173.312833, 1386418173.3320591, 1386418173.312833, 1386418173.3320591])"
       ]
      },
      {
       "output_type": "stream",
       "stream": "stdout",
       "text": [
        "\n",
        "('stopTime:', 1386418181.4038363, [1386418181.4038363, 1386418181.4038363, 1386418181.4038363, 1386418181.4038363])\n",
        "('accWF.shape:', (6, 243))"
       ]
      },
      {
       "output_type": "stream",
       "stream": "stdout",
       "text": [
        "\n",
        "---------------acc + dec:\n",
        "---------------turn:\n",
        "D:\\Documents\\Desktop\\0106\\t6916C_a4_2.txt 4\n",
        "('startTime:', 1386418188.8778365, [1386418188.8175948, 1386418188.8778365, 1386418188.8175948, 1386418188.8778365])"
       ]
      },
      {
       "output_type": "stream",
       "stream": "stdout",
       "text": [
        "\n",
        "('stopTime:', 1386418198.0108624, [1386418198.0108624, 1386418198.0108624, 1386418198.0108624, 1386418198.0108624])\n",
        "('accWF.shape:', (6, 274))"
       ]
      },
      {
       "output_type": "stream",
       "stream": "stdout",
       "text": [
        "\n",
        "---------------acc + dec:\n",
        "[16, 0, 70]\n",
        "---------------turn:\n",
        "D:\\Documents\\Desktop\\0106\\t6916C_a4_3.txt 4\n",
        "('startTime:', 1386418268.6209931, [1386418268.600882, 1386418268.6209931, 1386418268.600882, 1386418268.6209931])"
       ]
      },
      {
       "output_type": "stream",
       "stream": "stdout",
       "text": [
        "\n",
        "('stopTime:', 1386418276.9727995, [1386418276.9727995, 1386418276.9727995, 1386418276.9727995, 1386418276.9727995])\n",
        "('accWF.shape:', (6, 251))"
       ]
      },
      {
       "output_type": "stream",
       "stream": "stdout",
       "text": [
        "\n",
        "---------------acc + dec:\n",
        "---------------turn:\n",
        "D:\\Documents\\Desktop\\0106\\t6916C_a4_4.txt 4\n",
        "('startTime:', 1386418285.1193979, [1386418285.0791757, 1386418285.1193979, 1386418285.0791757, 1386418285.0992868])"
       ]
      },
      {
       "output_type": "stream",
       "stream": "stdout",
       "text": [
        "\n",
        "('stopTime:', 1386418294.3936896, [1386418294.3936896, 1386418294.3936896, 1386418294.3936896, 1386418294.3936896])\n",
        "('accWF.shape:', (6, 279))"
       ]
      },
      {
       "output_type": "stream",
       "stream": "stdout",
       "text": [
        "\n",
        "---------------acc + dec:\n",
        "[16, 0, 73]\n",
        "---------------turn:\n",
        "D:\\Documents\\Desktop\\0106\\t6916C_a4_5.txt"
       ]
      },
      {
       "output_type": "stream",
       "stream": "stdout",
       "text": [
        " 4\n",
        "('startTime:', 1386418306.8130805, [1386418306.7797554, 1386418306.8130805, 1386418306.7797554, 1386418306.8130805])"
       ]
      },
      {
       "output_type": "stream",
       "stream": "stdout",
       "text": [
        "\n",
        "('stopTime:', 1386418320.5791018, [1386418320.5791018, 1386418320.5791018, 1386418320.5791018, 1386418320.5791018])\n",
        "('accWF.shape:', (6, 413))"
       ]
      },
      {
       "output_type": "stream",
       "stream": "stdout",
       "text": [
        "\n",
        "---------------acc + dec:"
       ]
      },
      {
       "output_type": "stream",
       "stream": "stdout",
       "text": [
        "\n",
        "---------------turn:\n",
        "D:\\Documents\\Desktop\\0106\\t6916C_a4_6.txt 4\n",
        "('startTime:', 1386418343.279016, [1386418343.279016, 1386418343.279016, 1386418343.279016, 1386418343.279016])"
       ]
      },
      {
       "output_type": "stream",
       "stream": "stdout",
       "text": [
        "\n",
        "('stopTime:', 1386418358.88128, [1386418358.88128, 1386418358.88128, 1386418358.88128, 1386418358.88128])\n",
        "('accWF.shape:', (6, 469))"
       ]
      },
      {
       "output_type": "stream",
       "stream": "stdout",
       "text": [
        "\n",
        "---------------acc + dec:"
       ]
      },
      {
       "output_type": "stream",
       "stream": "stdout",
       "text": [
        "\n",
        "---------------turn:\n",
        "D:\\Documents\\Desktop\\0106\\t6916C_a5_0.txt 5\n",
        "('startTime:', 1386416767.7741284, [1386416767.7346997, 1386416767.7741284, 1386416767.7346997, 1386416767.7538342])"
       ]
      },
      {
       "output_type": "stream",
       "stream": "stdout",
       "text": [
        "\n",
        "('stopTime:', 1386416895.8322608, [1386416895.8322608, 1386416895.8322608, 1386416895.8322608, 1386416895.8322608])\n",
        "('accWF.shape:', (6, 3842))"
       ]
      },
      {
       "output_type": "stream",
       "stream": "stdout",
       "text": [
        "\n",
        "---------------acc + dec:"
       ]
      },
      {
       "output_type": "stream",
       "stream": "stdout",
       "text": [
        "\n",
        "[16, 194, 389]\n",
        "[16, 473, 647]\n",
        "[16, 750, 826]\n",
        "[16, 923, 1038]\n",
        "[16, 1154, 1884]\n",
        "[16, 1960, 2195]\n",
        "[16, 2534, 2646]\n",
        "[16, 2744, 2812]\n",
        "[16, 3020, 3306]\n",
        "[16, 3448, 3839]\n",
        "---------------turn:\n",
        "[17, 1716, 1910]\n",
        "[17, 3165, 3358]\n",
        "D:\\Documents\\Desktop\\0106\\t6916C_a5_1.txt"
       ]
      },
      {
       "output_type": "stream",
       "stream": "stdout",
       "text": [
        " 5\n",
        "('startTime:', 1386417007.9314613, [1386417007.9112587, 1386417007.9314613, 1386417007.9112587, 1386417007.9314613])"
       ]
      },
      {
       "output_type": "stream",
       "stream": "stdout",
       "text": [
        "\n",
        "('stopTime:', 1386417035.3134491, [1386417035.3134491, 1386417035.3134491, 1386417035.3134491, 1386417035.3134491])\n",
        "('accWF.shape:', (6, 822))"
       ]
      },
      {
       "output_type": "stream",
       "stream": "stdout",
       "text": [
        "\n",
        "---------------acc + dec:"
       ]
      },
      {
       "output_type": "stream",
       "stream": "stdout",
       "text": [
        "\n",
        "[16, 154, 291]\n",
        "[16, 379, 470]\n",
        "---------------turn:\n",
        "D:\\Documents\\Desktop\\0106\\t6916C_a5_2.txt"
       ]
      },
      {
       "output_type": "stream",
       "stream": "stdout",
       "text": [
        " 5\n",
        "('startTime:', 1386418373.0365474, [1386418372.9961421, 1386418373.0365474, 1386418372.9961421, 1386418373.0161922])"
       ]
      },
      {
       "output_type": "stream",
       "stream": "stdout",
       "text": [
        "\n",
        "('stopTime:', 1386418543.5985239, [1386418543.5985239, 1386418543.5985239, 1386418543.5985239, 1386418543.5985239])\n",
        "('accWF.shape:', (6, 5117))"
       ]
      },
      {
       "output_type": "stream",
       "stream": "stdout",
       "text": [
        "\n",
        "---------------acc + dec:"
       ]
      },
      {
       "output_type": "stream",
       "stream": "stdout",
       "text": [
        "\n",
        "[16, 56, 1147]\n",
        "[16, 1219, 2464]\n",
        "[16, 2540, 3367]\n",
        "[16, 3455, 3597]\n",
        "[16, 3761, 3932]\n",
        "[16, 4190, 5018]\n",
        "---------------turn:\n",
        "[17, 265, 810]\n",
        "[17, 1810, 2076]\n",
        "[17, 4417, 4610]\n",
        "[17, 4919, 5005]\n",
        "D:\\Documents\\Desktop\\0106\\t6916_a0_2.txt"
       ]
      },
      {
       "output_type": "stream",
       "stream": "stdout",
       "text": [
        " 0\n",
        "('startTime:', 1386414706.2502239, [1386414706.209666, 1386414706.2502239, 1386414706.209666, 1386414706.243388])"
       ]
      },
      {
       "output_type": "stream",
       "stream": "stdout",
       "text": [
        "\n",
        "('stopTime:', 1386414718.1474404, [1386414718.1474404, 1386414718.1474404, 1386414718.1474404, 1386414718.1474404])\n",
        "('accWF.shape:', (6, 357))"
       ]
      },
      {
       "output_type": "stream",
       "stream": "stdout",
       "text": [
        "\n",
        "---------------acc + dec:\n",
        "[16, 0, 284]\n",
        "---------------turn:\n",
        "D:\\Documents\\Desktop\\0106\\t6916_a0_3.txt"
       ]
      },
      {
       "output_type": "stream",
       "stream": "stdout",
       "text": [
        " 0\n",
        "('startTime:', 1386414801.1117065, [1386414801.0716064, 1386414801.1117065, 1386414801.0716064, 1386414801.091626])"
       ]
      },
      {
       "output_type": "stream",
       "stream": "stdout",
       "text": [
        "\n",
        "('stopTime:', 1386414813.7904477, [1386414813.7904477, 1386414813.7904477, 1386414813.7904477, 1386414813.7904477])\n",
        "('accWF.shape:', (6, 381))"
       ]
      },
      {
       "output_type": "stream",
       "stream": "stdout",
       "text": [
        "\n",
        "---------------acc + dec:"
       ]
      },
      {
       "output_type": "stream",
       "stream": "stdout",
       "text": [
        "\n",
        "[16, 0, 99]\n",
        "---------------turn:\n",
        "D:\\Documents\\Desktop\\0106\\t6916_a0_4.txt 0\n",
        "('startTime:', 1386414859.8394928, [1386414859.8194122, 1386414859.8394928, 1386414859.8194122, 1386414859.8394928])"
       ]
      },
      {
       "output_type": "stream",
       "stream": "stdout",
       "text": [
        "\n",
        "('stopTime:', 1386414874.0807033, [1386414874.0807033, 1386414874.0807033, 1386414874.0807033, 1386414874.0807033])\n",
        "('accWF.shape:', (6, 428))"
       ]
      },
      {
       "output_type": "stream",
       "stream": "stdout",
       "text": [
        "\n",
        "---------------acc + dec:"
       ]
      },
      {
       "output_type": "stream",
       "stream": "stdout",
       "text": [
        "\n",
        "[16, 8, 181]\n",
        "---------------turn:\n",
        "D:\\Documents\\Desktop\\0106\\t6916_a0_5.txt 0\n",
        "('startTime:', 1386414890.0740433, [1386414890.0332718, 1386414890.0740433, 1386414890.0332718, 1386414890.0740433])"
       ]
      },
      {
       "output_type": "stream",
       "stream": "stdout",
       "text": [
        "\n",
        "('stopTime:', 1386414902.8120496, [1386414902.8120496, 1386414902.8120496, 1386414902.8120496, 1386414902.8120496])\n",
        "('accWF.shape:', (6, 383))"
       ]
      },
      {
       "output_type": "stream",
       "stream": "stdout",
       "text": [
        "\n",
        "---------------acc + dec:\n",
        "[16, 0, 362]\n",
        "---------------turn:\n",
        "D:\\Documents\\Desktop\\0106\\t6916_a0_6.txt"
       ]
      },
      {
       "output_type": "stream",
       "stream": "stdout",
       "text": [
        " 0\n",
        "('startTime:', 1386414927.7240174, [1386414927.6639283, 1386414927.7240174, 1386414927.6639283, 1386414927.705066])"
       ]
      },
      {
       "output_type": "stream",
       "stream": "stdout",
       "text": [
        "\n",
        "('stopTime:', 1386414941.5449398, [1386414941.5449398, 1386414941.5449398, 1386414941.5449398, 1386414941.5449398])\n",
        "('accWF.shape:', (6, 415))"
       ]
      },
      {
       "output_type": "stream",
       "stream": "stdout",
       "text": [
        "\n",
        "---------------acc + dec:"
       ]
      },
      {
       "output_type": "stream",
       "stream": "stdout",
       "text": [
        "\n",
        "[16, 5, 255]\n",
        "---------------turn:\n",
        "D:\\Documents\\Desktop\\0106\\t6916_a1_0.txt 1\n",
        "('startTime:', 1386414962.4337795, [1386414962.413699, 1386414962.4337795, 1386414962.413699, 1386414962.4337795])"
       ]
      },
      {
       "output_type": "stream",
       "stream": "stdout",
       "text": [
        "\n",
        "('stopTime:', 1386414973.1509118, [1386414973.1509118, 1386414973.1509118, 1386414973.1509118, 1386414973.1509118])\n",
        "('accWF.shape:', (6, 322))"
       ]
      },
      {
       "output_type": "stream",
       "stream": "stdout",
       "text": [
        "\n",
        "---------------acc + dec:"
       ]
      },
      {
       "output_type": "stream",
       "stream": "stdout",
       "text": [
        "\n",
        "[16, 0, 261]\n",
        "---------------turn:\n",
        "D:\\Documents\\Desktop\\0106\\t6916_a1_1.txt 1\n",
        "('startTime:', 1386414991.7925982, [1386414991.7700763, 1386414991.7925982, 1386414991.7700763, 1386414991.7925982])"
       ]
      },
      {
       "output_type": "stream",
       "stream": "stdout",
       "text": [
        "\n",
        "('stopTime:', 1386415001.4644425, [1386415001.4644425, 1386415001.4644425, 1386415001.4644425, 1386415001.4644425])\n",
        "('accWF.shape:', (6, 291))"
       ]
      },
      {
       "output_type": "stream",
       "stream": "stdout",
       "text": [
        "\n",
        "---------------acc + dec:"
       ]
      },
      {
       "output_type": "stream",
       "stream": "stdout",
       "text": [
        "\n",
        "[16, 26, 172]\n",
        "---------------turn:\n",
        "D:\\Documents\\Desktop\\0106\\t6916_a1_2.txt 1\n",
        "('startTime:', 1386415018.247045, [1386415018.2291617, 1386415018.247045, 1386415018.2291617, 1386415018.247045])"
       ]
      },
      {
       "output_type": "stream",
       "stream": "stdout",
       "text": [
        "\n",
        "('stopTime:', 1386415028.4827015, [1386415028.4827015, 1386415028.4827015, 1386415028.4827015, 1386415028.4827015])\n",
        "('accWF.shape:', (6, 308))"
       ]
      },
      {
       "output_type": "stream",
       "stream": "stdout",
       "text": [
        "\n",
        "---------------acc + dec:"
       ]
      },
      {
       "output_type": "stream",
       "stream": "stdout",
       "text": [
        "\n",
        "[16, 0, 281]\n",
        "---------------turn:\n",
        "D:\\Documents\\Desktop\\0106\\t6916_a1_3.txt 1\n",
        "('startTime:', 1386415061.6456146, [1386415061.6119537, 1386415061.6456146, 1386415061.6119537, 1386415061.6456146])"
       ]
      },
      {
       "output_type": "stream",
       "stream": "stdout",
       "text": [
        "\n",
        "('stopTime:', 1386415074.4318385, [1386415074.4318385, 1386415074.4318385, 1386415074.4318385, 1386415074.4318385])\n",
        "('accWF.shape:', (6, 384))"
       ]
      },
      {
       "output_type": "stream",
       "stream": "stdout",
       "text": [
        "\n",
        "---------------acc + dec:"
       ]
      },
      {
       "output_type": "stream",
       "stream": "stdout",
       "text": [
        "\n",
        "[16, 0, 350]\n",
        "---------------turn:\n",
        "D:\\Documents\\Desktop\\0106\\t6916_a1_4.txt 1\n",
        "('startTime:', 1386415116.9235024, [1386415116.902964, 1386415116.9235024, 1386415116.902964, 1386415116.9235024])"
       ]
      },
      {
       "output_type": "stream",
       "stream": "stdout",
       "text": [
        "\n",
        "('stopTime:', 1386415126.5772498, [1386415126.5772498, 1386415126.5772498, 1386415126.5772498, 1386415126.5772498])\n",
        "('accWF.shape:', (6, 290))"
       ]
      },
      {
       "output_type": "stream",
       "stream": "stdout",
       "text": [
        "\n",
        "---------------acc + dec:\n",
        "[16, 0, 205]\n",
        "---------------turn:\n",
        "D:\\Documents\\Desktop\\0106\\t6916_a1_5.txt 1\n",
        "('startTime:', 1386415143.2437835, [1386415143.2052398, 1386415143.2437835, 1386415143.2052398, 1386415143.2237334])"
       ]
      },
      {
       "output_type": "stream",
       "stream": "stdout",
       "text": [
        "\n",
        "('stopTime:', 1386415149.5934231, [1386415149.5934231, 1386415149.5934231, 1386415149.5934231, 1386415149.5934231])\n",
        "('accWF.shape:', (6, 191))"
       ]
      },
      {
       "output_type": "stream",
       "stream": "stdout",
       "text": [
        "\n",
        "---------------acc + dec:\n",
        "[16, 0, 112]\n",
        "---------------turn:\n",
        "D:\\Documents\\Desktop\\0106\\t6916_a1_6.txt 1\n",
        "('startTime:', 1386415181.7103014, [1386415181.7082567, 1386415181.7103014, 1386415181.7082567, 1386415181.7103014])"
       ]
      },
      {
       "output_type": "stream",
       "stream": "stdout",
       "text": [
        "\n",
        "('stopTime:', 1386415193.1870773, [1386415193.1870773, 1386415193.1870773, 1386415193.1870773, 1386415193.1870773])\n",
        "('accWF.shape:', (6, 345))"
       ]
      },
      {
       "output_type": "stream",
       "stream": "stdout",
       "text": [
        "\n",
        "---------------acc + dec:"
       ]
      },
      {
       "output_type": "stream",
       "stream": "stdout",
       "text": [
        "\n",
        "[16, 8, 144]\n",
        "[16, 206, 325]\n",
        "---------------turn:\n",
        "D:\\Documents\\Desktop\\0106\\t6916_a1_7.txt 1\n",
        "('startTime:', 1386415219.7622573, [1386415219.742482, 1386415219.7622573, 1386415219.742482, 1386415219.7622573])"
       ]
      },
      {
       "output_type": "stream",
       "stream": "stdout",
       "text": [
        "\n",
        "('stopTime:', 1386415230.1981397, [1386415230.1981397, 1386415230.1981397, 1386415230.1981397, 1386415230.1981397])\n",
        "('accWF.shape:', (6, 314))"
       ]
      },
      {
       "output_type": "stream",
       "stream": "stdout",
       "text": [
        "\n",
        "---------------acc + dec:"
       ]
      },
      {
       "output_type": "stream",
       "stream": "stdout",
       "text": [
        "\n",
        "[16, 0, 164]\n",
        "---------------turn:\n",
        "D:\\Documents\\Desktop\\0106\\t6916_a2_0.txt 2\n",
        "('startTime:', 1386415541.4330797, [1386415541.4130907, 1386415541.4330797, 1386415541.4130907, 1386415541.4330797])"
       ]
      },
      {
       "output_type": "stream",
       "stream": "stdout",
       "text": [
        "\n",
        "('stopTime:', 1386415551.889531, [1386415551.889531, 1386415551.889531, 1386415551.889531, 1386415551.889531])\n",
        "('accWF.shape:', (6, 314))"
       ]
      },
      {
       "output_type": "stream",
       "stream": "stdout",
       "text": [
        "\n",
        "---------------acc + dec:"
       ]
      },
      {
       "output_type": "stream",
       "stream": "stdout",
       "text": [
        "\n",
        "[16, 0, 264]\n",
        "---------------turn:\n",
        "[17, 34, 234]\n",
        "D:\\Documents\\Desktop\\0106\\t6916_a2_1.txt 2\n",
        "('startTime:', 1386415592.9779937, [1386415592.9579742, 1386415592.9779937, 1386415592.9579742, 1386415592.9779937])"
       ]
      },
      {
       "output_type": "stream",
       "stream": "stdout",
       "text": [
        "\n",
        "('stopTime:', 1386415600.049191, [1386415600.049191, 1386415600.049191, 1386415600.049191, 1386415600.049191])\n",
        "('accWF.shape:', (6, 213))"
       ]
      },
      {
       "output_type": "stream",
       "stream": "stdout",
       "text": [
        "\n",
        "---------------acc + dec:\n",
        "[16, 0, 148]\n",
        "---------------turn:\n",
        "[17, 0, 187]\n",
        "D:\\Documents\\Desktop\\0106\\t6916_a2_2.txt 2\n",
        "('startTime:', 1386415615.3426545, [1386415615.3039582, 1386415615.3426545, 1386415615.3039582, 1386415615.3426545])"
       ]
      },
      {
       "output_type": "stream",
       "stream": "stdout",
       "text": [
        "\n",
        "('stopTime:', 1386415625.2395658, [1386415625.2395658, 1386415625.2395658, 1386415625.2395658, 1386415625.2395658])\n",
        "('accWF.shape:', (6, 297))"
       ]
      },
      {
       "output_type": "stream",
       "stream": "stdout",
       "text": [
        "\n",
        "---------------acc + dec:"
       ]
      },
      {
       "output_type": "stream",
       "stream": "stdout",
       "text": [
        "\n",
        "[16, 0, 233]\n",
        "---------------turn:\n",
        "[17, 58, 271]\n",
        "D:\\Documents\\Desktop\\0106\\t6916_a2_3.txt 2\n",
        "('startTime:', 1386415646.12529, [1386415646.12529, 1386415646.12529, 1386415646.12529, 1386415646.12529])"
       ]
      },
      {
       "output_type": "stream",
       "stream": "stdout",
       "text": [
        "\n",
        "('stopTime:', 1386415654.7788846, [1386415654.7788846, 1386415654.7788846, 1386415654.7788846, 1386415654.7788846])\n",
        "('accWF.shape:', (6, 260))"
       ]
      },
      {
       "output_type": "stream",
       "stream": "stdout",
       "text": [
        "\n",
        "---------------acc + dec:\n",
        "[16, 14, 258]\n",
        "---------------turn:\n",
        "[17, 7, 206]\n",
        "D:\\Documents\\Desktop\\0106\\t6916_a2_4.txt 2\n",
        "('startTime:', 1386415671.2955313, [1386415671.2757254, 1386415671.2955313, 1386415671.2757254, 1386415671.2955313])"
       ]
      },
      {
       "output_type": "stream",
       "stream": "stdout",
       "text": [
        "\n",
        "('stopTime:', 1386415681.0518482, [1386415681.0518482, 1386415681.0518482, 1386415681.0518482, 1386415681.0518482])\n",
        "('accWF.shape:', (6, 293))"
       ]
      },
      {
       "output_type": "stream",
       "stream": "stdout",
       "text": [
        "\n",
        "---------------acc + dec:\n",
        "[16, 0, 238]\n",
        "---------------turn:\n",
        "[17, 12, 222]\n",
        "D:\\Documents\\Desktop\\0106\\t6916_a2_5.txt"
       ]
      },
      {
       "output_type": "stream",
       "stream": "stdout",
       "text": [
        " 2\n",
        "('startTime:', 1386415699.165828, [1386415699.1057694, 1386415699.165828, 1386415699.1057694, 1386415699.1465409])"
       ]
      },
      {
       "output_type": "stream",
       "stream": "stdout",
       "text": [
        "\n",
        "('stopTime:', 1386415706.7976637, [1386415706.7976637, 1386415706.7976637, 1386415706.7976637, 1386415706.7976637])\n",
        "('accWF.shape:', (6, 229))"
       ]
      },
      {
       "output_type": "stream",
       "stream": "stdout",
       "text": [
        "\n",
        "---------------acc + dec:\n",
        "[16, 0, 178]\n",
        "---------------turn:\n",
        "[17, 29, 222]\n",
        "D:\\Documents\\Desktop\\0106\\t6916_a2_6.txt 2\n",
        "('startTime:', 1386415719.0336692, [1386415718.975106, 1386415719.0336692, 1386415718.975106, 1386415718.9950035])"
       ]
      },
      {
       "output_type": "stream",
       "stream": "stdout",
       "text": [
        "\n",
        "('stopTime:', 1386415726.6882405, [1386415726.6882405, 1386415726.6882405, 1386415726.6882405, 1386415726.6882405])\n",
        "('accWF.shape:', (6, 230))"
       ]
      },
      {
       "output_type": "stream",
       "stream": "stdout",
       "text": [
        "\n",
        "---------------acc + dec:\n",
        "[16, 0, 212]\n",
        "---------------turn:\n",
        "[17, 0, 184]\n",
        "D:\\Documents\\Desktop\\0106\\t6916_a3_0.txt 3\n",
        "('startTime:', 1386415315.1563644, [1386415315.1382065, 1386415315.1563644, 1386415315.1382065, 1386415315.1563644])"
       ]
      },
      {
       "output_type": "stream",
       "stream": "stdout",
       "text": [
        "\n",
        "('stopTime:', 1386415322.4273603, [1386415322.4273603, 1386415322.4273603, 1386415322.4273603, 1386415322.4273603])\n",
        "('accWF.shape:', (6, 219))"
       ]
      },
      {
       "output_type": "stream",
       "stream": "stdout",
       "text": [
        "\n",
        "---------------acc + dec:\n",
        "[16, 0, 153]\n",
        "---------------turn:\n",
        "[17, 0, 188]\n",
        "D:\\Documents\\Desktop\\0106\\t6916_a3_1.txt 3\n",
        "('startTime:', 1386415336.6530762, [1386415336.6105042, 1386415336.6530762, 1386415336.6105042, 1386415336.6530762])"
       ]
      },
      {
       "output_type": "stream",
       "stream": "stdout",
       "text": [
        "\n",
        "('stopTime:', 1386415343.5821836, [1386415343.5821836, 1386415343.5821836, 1386415343.5821836, 1386415343.5821836])\n",
        "('accWF.shape:', (6, 208))"
       ]
      },
      {
       "output_type": "stream",
       "stream": "stdout",
       "text": [
        "\n",
        "---------------acc + dec:\n",
        "[16, 0, 178]\n",
        "---------------turn:\n",
        "[17, 0, 151]\n",
        "D:\\Documents\\Desktop\\0106\\t6916_a3_2.txt 3\n",
        "('startTime:', 1386415360.4853637, [1386415360.4661376, 1386415360.4853637, 1386415360.4661376, 1386415360.4853637])"
       ]
      },
      {
       "output_type": "stream",
       "stream": "stdout",
       "text": [
        "\n",
        "('stopTime:', 1386415367.576489, [1386415367.576489, 1386415367.576489, 1386415367.576489, 1386415367.576489])\n",
        "('accWF.shape:', (6, 213))"
       ]
      },
      {
       "output_type": "stream",
       "stream": "stdout",
       "text": [
        "\n",
        "---------------acc + dec:\n",
        "[16, 0, 198]\n",
        "---------------turn:\n",
        "[17, 0, 191]\n",
        "D:\\Documents\\Desktop\\0106\\t6916_a3_3.txt 3\n",
        "('startTime:', 1386415384.4276633, [1386415384.4087424, 1386415384.4276633, 1386415384.4087424, 1386415384.4276633])"
       ]
      },
      {
       "output_type": "stream",
       "stream": "stdout",
       "text": [
        "\n",
        "('stopTime:', 1386415391.3784382, [1386415391.3784382, 1386415391.3784382, 1386415391.3784382, 1386415391.3784382])\n",
        "('accWF.shape:', (6, 209))"
       ]
      },
      {
       "output_type": "stream",
       "stream": "stdout",
       "text": [
        "\n",
        "---------------acc + dec:"
       ]
      },
      {
       "output_type": "stream",
       "stream": "stdout",
       "text": [
        "\n",
        "[16, 0, 174]\n",
        "---------------turn:\n",
        "[17, 0, 171]\n",
        "D:\\Documents\\Desktop\\0106\\t6916_a3_4.txt 3\n",
        "('startTime:', 1386415410.1361625, [1386415410.096276, 1386415410.1361625, 1386415410.096276, 1386415410.1165092])"
       ]
      },
      {
       "output_type": "stream",
       "stream": "stdout",
       "text": [
        "\n",
        "('stopTime:', 1386415416.5462575, [1386415416.5462575, 1386415416.5462575, 1386415416.5462575, 1386415416.5462575])\n",
        "('accWF.shape:', (6, 193))\n",
        "---------------acc + dec:"
       ]
      },
      {
       "output_type": "stream",
       "stream": "stdout",
       "text": [
        "\n",
        "[16, 0, 144]\n",
        "---------------turn:\n",
        "[17, 0, 172]\n",
        "D:\\Documents\\Desktop\\0106\\t6916_a3_5.txt 3\n",
        "('startTime:', 1386415433.7351372, [1386415433.7316277, 1386415433.7351372, 1386415433.7316277, 1386415433.7351372])"
       ]
      },
      {
       "output_type": "stream",
       "stream": "stdout",
       "text": [
        "\n",
        "('stopTime:', 1386415441.0444632, [1386415441.0444632, 1386415441.0444632, 1386415441.0444632, 1386415441.0444632])\n",
        "('accWF.shape:', (6, 220))"
       ]
      },
      {
       "output_type": "stream",
       "stream": "stdout",
       "text": [
        "\n",
        "---------------acc + dec:\n",
        "[16, 0, 209]\n",
        "---------------turn:\n",
        "[17, 6, 188]\n",
        "D:\\Documents\\Desktop\\0106\\t6916_a3_6.txt 3\n",
        "('startTime:', 1386415461.6742172, [1386415461.6185226, 1386415461.6742172, 1386415461.6185226, 1386415461.6396103])"
       ]
      },
      {
       "output_type": "stream",
       "stream": "stdout",
       "text": [
        "\n",
        "('stopTime:', 1386415468.1485822, [1386415468.1485822, 1386415468.1485822, 1386415468.1485822, 1386415468.1485822])\n",
        "('accWF.shape:', (6, 195))"
       ]
      },
      {
       "output_type": "stream",
       "stream": "stdout",
       "text": [
        "\n",
        "---------------acc + dec:\n",
        "[16, 0, 151]\n",
        "---------------turn:\n",
        "[17, 0, 162]\n",
        "D:\\Documents\\Desktop\\0106\\t6916_a3_7.txt 3\n",
        "('startTime:', 1386415480.8714318, [1386415480.8340783, 1386415480.8714318, 1386415480.8340783, 1386415480.8714318])"
       ]
      },
      {
       "output_type": "stream",
       "stream": "stdout",
       "text": [
        "\n",
        "('stopTime:', 1386415487.1239645, [1386415487.1239645, 1386415487.1239645, 1386415487.1239645, 1386415487.1239645])\n",
        "('accWF.shape:', (6, 188))"
       ]
      },
      {
       "output_type": "stream",
       "stream": "stdout",
       "text": [
        "\n",
        "---------------acc + dec:\n",
        "[16, 0, 130]\n",
        "---------------turn:\n",
        "[17, 0, 161]\n",
        "D:\\Documents\\Desktop\\0106\\t6916_a4_0.txt 4\n",
        "('startTime:', 1386415768.4063885, [1386415768.388322, 1386415768.4063885, 1386415768.388322, 1386415768.4063885])"
       ]
      },
      {
       "output_type": "stream",
       "stream": "stdout",
       "text": [
        "\n",
        "('stopTime:', 1386415777.0598307, [1386415777.0598307, 1386415777.0598307, 1386415777.0598307, 1386415777.0598307])\n",
        "('accWF.shape:', (6, 260))"
       ]
      },
      {
       "output_type": "stream",
       "stream": "stdout",
       "text": [
        "\n",
        "---------------acc + dec:\n",
        "[16, 0, 78]\n",
        "---------------turn:\n",
        "D:\\Documents\\Desktop\\0106\\t6916_a4_1.txt 4\n",
        "('startTime:', 1386415791.3620622, [1386415791.3081071, 1386415791.3620622, 1386415791.3081071, 1386415791.3281267])"
       ]
      },
      {
       "output_type": "stream",
       "stream": "stdout",
       "text": [
        "\n",
        "('stopTime:', 1386415799.6030288, [1386415799.6030288, 1386415799.6030288, 1386415799.6030288, 1386415799.6030288])\n",
        "('accWF.shape:', (6, 248))"
       ]
      },
      {
       "output_type": "stream",
       "stream": "stdout",
       "text": [
        "\n",
        "---------------acc + dec:\n",
        "---------------turn:\n",
        "D:\\Documents\\Desktop\\0106\\t6916_a4_2.txt 4\n",
        "('startTime:', 1386415818.4271135, [1386415818.367116, 1386415818.4271135, 1386415818.367116, 1386415818.4090166])"
       ]
      },
      {
       "output_type": "stream",
       "stream": "stdout",
       "text": [
        "\n",
        "('stopTime:', 1386415825.8787735, [1386415825.8787735, 1386415825.8787735, 1386415825.8787735, 1386415825.8787735])\n",
        "('accWF.shape:', (6, 224))"
       ]
      },
      {
       "output_type": "stream",
       "stream": "stdout",
       "text": [
        "\n",
        "---------------acc + dec:\n",
        "---------------turn:\n",
        "D:\\Documents\\Desktop\\0106\\t6916_a4_3.txt 4\n",
        "('startTime:', 1386415833.5919383, [1386415833.5703928, 1386415833.5919383, 1386415833.5703928, 1386415833.5919383])"
       ]
      },
      {
       "output_type": "stream",
       "stream": "stdout",
       "text": [
        "\n",
        "('stopTime:', 1386415843.0851936, [1386415843.0851936, 1386415843.0851936, 1386415843.0851936, 1386415843.0851936])\n",
        "('accWF.shape:', (6, 285))"
       ]
      },
      {
       "output_type": "stream",
       "stream": "stdout",
       "text": [
        "\n",
        "---------------acc + dec:\n",
        "---------------turn:\n",
        "D:\\Documents\\Desktop\\0106\\t6916_a4_4.txt 4\n",
        "('startTime:', 1386415866.5447361, [1386415866.5246556, 1386415866.5447361, 1386415866.5246556, 1386415866.5447361])"
       ]
      },
      {
       "output_type": "stream",
       "stream": "stdout",
       "text": [
        "\n",
        "('stopTime:', 1386415884.3124359, [1386415884.3124359, 1386415884.3124359, 1386415884.3124359, 1386415884.3124359])\n",
        "('accWF.shape:', (6, 534))"
       ]
      },
      {
       "output_type": "stream",
       "stream": "stdout",
       "text": [
        "\n",
        "---------------acc + dec:"
       ]
      },
      {
       "output_type": "stream",
       "stream": "stdout",
       "text": [
        "\n",
        "[16, 0, 103]\n",
        "[16, 382, 501]\n",
        "---------------turn:\n",
        "D:\\Documents\\Desktop\\0106\\t6916_a4_5.txt 4\n",
        "('startTime:', 1386415897.6190634, [1386415897.6007223, 1386415897.6190634, 1386415897.6007223, 1386415897.6190634])"
       ]
      },
      {
       "output_type": "stream",
       "stream": "stdout",
       "text": [
        "\n",
        "('stopTime:', 1386415912.3027177, [1386415912.3027177, 1386415912.3027177, 1386415912.3027177, 1386415912.3027177])\n",
        "('accWF.shape:', (6, 441))"
       ]
      },
      {
       "output_type": "stream",
       "stream": "stdout",
       "text": [
        "\n",
        "---------------acc + dec:"
       ]
      },
      {
       "output_type": "stream",
       "stream": "stdout",
       "text": [
        "\n",
        "---------------turn:\n",
        "D:\\Documents\\Desktop\\0106\\t6916_a4_6.txt 4\n",
        "('startTime:', 1386415944.8099086, [1386415944.74985, 1386415944.8099086, 1386415944.74985, 1386415944.7953517])"
       ]
      },
      {
       "output_type": "stream",
       "stream": "stdout",
       "text": [
        "\n",
        "('stopTime:', 1386415954.5050988, [1386415954.5050988, 1386415954.5050988, 1386415954.5050988, 1386415954.5050988])\n",
        "('accWF.shape:', (6, 291))"
       ]
      },
      {
       "output_type": "stream",
       "stream": "stdout",
       "text": [
        "\n",
        "---------------acc + dec:\n",
        "[16, 0, 111]\n",
        "---------------turn:\n",
        "D:\\Documents\\Desktop\\0106\\t6916_a4_7.txt 4\n",
        "('startTime:', 1386415963.9486043, [1386415963.8894918, 1386415963.9486043, 1386415963.8894918, 1386415963.9338338])"
       ]
      },
      {
       "output_type": "stream",
       "stream": "stdout",
       "text": [
        "\n",
        "('stopTime:', 1386415973.044704, [1386415973.044704, 1386415973.044704, 1386415973.044704, 1386415973.044704])\n",
        "('accWF.shape:', (6, 273))"
       ]
      },
      {
       "output_type": "stream",
       "stream": "stdout",
       "text": [
        "\n",
        "---------------acc + dec:\n",
        "---------------turn:\n",
        "D:\\Documents\\Desktop\\0106\\t6916_a4_8.txt 4\n",
        "('startTime:', 1386415992.7846022, [1386415992.74615, 1386415992.7846022, 1386415992.74615, 1386415992.7846022])"
       ]
      },
      {
       "output_type": "stream",
       "stream": "stdout",
       "text": [
        "\n",
        "('stopTime:', 1386416003.9647777, [1386416003.9647777, 1386416003.9647777, 1386416003.9647777, 1386416003.9647777])\n",
        "('accWF.shape:', (6, 336))"
       ]
      },
      {
       "output_type": "stream",
       "stream": "stdout",
       "text": [
        "\n",
        "---------------acc + dec:"
       ]
      },
      {
       "output_type": "stream",
       "stream": "stdout",
       "text": [
        "\n",
        "[16, 265, 335]\n",
        "---------------turn:\n",
        "D:\\Documents\\Desktop\\0106\\t6916_a5_0.txt 5\n",
        "('startTime:', 1386363732.6819692, [1386363732.530846, 1386363732.6819692, 1386363732.38012, 1386363732.668236])"
       ]
      },
      {
       "output_type": "stream",
       "stream": "stdout",
       "text": [
        "\n",
        "('stopTime:', 1386364332.5960763, [1386364332.607428, 1386364332.6020882, 1386364332.5960763, 1386364332.6020882])\n",
        "('accWF.shape:', (6, 17998))"
       ]
      },
      {
       "output_type": "stream",
       "stream": "stdout",
       "text": [
        "\n",
        "---------------acc + dec:"
       ]
      },
      {
       "output_type": "stream",
       "stream": "stdout",
       "text": [
        "\n",
        "[16, 0, 817]\n",
        "[16, 3242, 5101]\n",
        "[16, 5187, 5255]\n",
        "[16, 5473, 6238]\n",
        "[16, 9260, 9438]\n",
        "[16, 9573, 11075]\n",
        "[16, 11508, 11866]\n",
        "[16, 12293, 12939]\n",
        "[16, 13021, 13616]\n",
        "[16, 13701, 13828]\n",
        "[16, 13909, 14028]\n",
        "[16, 14425, 14671]\n",
        "[16, 14784, 15096]\n",
        "[16, 15452, 15649]\n",
        "[16, 16022, 16178]\n",
        "[16, 16420, 17952]\n",
        "---------------turn:"
       ]
      },
      {
       "output_type": "stream",
       "stream": "stdout",
       "text": [
        "\n",
        "[17, 20, 130]\n",
        "[17, 3404, 3650]\n",
        "[17, 5795, 5951]\n",
        "[17, 14465, 14640]\n",
        "D:\\Documents\\Desktop\\0106\\t6916_a5_2.txt"
       ]
      },
      {
       "output_type": "stream",
       "stream": "stdout",
       "text": [
        " 5\n",
        "('startTime:', 1386407322.0417008, [1386407322.002028, 1386407322.0417008, 1386407322.002028, 1386407322.0216508])"
       ]
      },
      {
       "output_type": "stream",
       "stream": "stdout",
       "text": [
        "\n",
        "('stopTime:', 1386407921.8805206, [1386407921.8805206, 1386407921.8805206, 1386407921.8805206, 1386407921.8805206])\n",
        "('accWF.shape:', (6, 17996))"
       ]
      },
      {
       "output_type": "stream",
       "stream": "stdout",
       "text": [
        "\n",
        "---------------acc + dec:"
       ]
      },
      {
       "output_type": "stream",
       "stream": "stdout",
       "text": [
        "\n",
        "[16, 43, 286]\n",
        "[16, 435, 597]\n",
        "[16, 835, 947]\n",
        "[16, 1031, 1183]\n",
        "[16, 1244, 1345]\n",
        "[16, 1583, 1690]\n",
        "[16, 2236, 2625]\n",
        "[16, 5060, 5953]\n",
        "[16, 6068, 6227]\n",
        "[16, 6294, 6999]\n",
        "[16, 7292, 7404]\n",
        "[16, 7472, 8049]\n",
        "[16, 11081, 11239]\n",
        "[16, 11394, 12918]\n",
        "[16, 13326, 13683]\n",
        "[16, 14112, 14511]\n",
        "[16, 14573, 14765]\n",
        "[16, 14842, 15160]\n",
        "[16, 15243, 15452]\n",
        "[16, 15521, 15692]\n",
        "[16, 16157, 16220]\n",
        "[16, 16602, 16934]\n",
        "[16, 17272, 17432]\n",
        "[16, 17841, 17952]\n",
        "---------------turn:"
       ]
      },
      {
       "output_type": "stream",
       "stream": "stdout",
       "text": [
        "\n",
        "[17, 5228, 5463]\n",
        "[17, 7614, 7768]\n",
        "[17, 16078, 16307]\n",
        "[17, 16418, 16532]\n",
        "D:\\Documents\\Desktop\\0106\\t6916_a5_3.txt"
       ]
      },
      {
       "output_type": "stream",
       "stream": "stdout",
       "text": [
        " 5\n",
        "('startTime:', 1386408660.919326, [1386408660.919326, 1386408660.919326, 1386408660.919326, 1386408660.919326])"
       ]
      },
      {
       "output_type": "stream",
       "stream": "stdout",
       "text": [
        "\n",
        "('stopTime:', 1386409260.6844153, [1386409260.6844153, 1386409260.6844153, 1386409260.6844153, 1386409260.6844153])\n",
        "('accWF.shape:', (6, 17993))"
       ]
      },
      {
       "output_type": "stream",
       "stream": "stdout",
       "text": [
        "\n",
        "---------------acc + dec:"
       ]
      },
      {
       "output_type": "stream",
       "stream": "stdout",
       "text": [
        "\n",
        "[16, 3637, 3923]\n",
        "[16, 3986, 4185]\n",
        "[16, 4527, 4769]\n",
        "[16, 4850, 5017]\n",
        "[16, 5353, 5974]\n",
        "[16, 6983, 7304]\n",
        "[16, 7860, 8060]\n",
        "[16, 8200, 8319]\n",
        "[16, 8454, 8957]\n",
        "[16, 9025, 9504]\n",
        "[16, 9757, 10068]\n",
        "[16, 10131, 10942]\n",
        "[16, 13260, 13794]\n",
        "[16, 14466, 14657]\n",
        "[16, 14861, 15378]\n",
        "[16, 15585, 15764]\n",
        "[16, 15953, 16017]\n",
        "[16, 16167, 16297]\n",
        "[16, 16371, 16642]\n",
        "[16, 16710, 17982]\n",
        "---------------turn:"
       ]
      },
      {
       "output_type": "stream",
       "stream": "stdout",
       "text": [
        "\n",
        "D:\\Documents\\Desktop\\0106\\t6916_a5_4.txt"
       ]
      },
      {
       "output_type": "stream",
       "stream": "stdout",
       "text": [
        " 5\n",
        "('startTime:', 1386416149.7891033, [1386416149.7685955, 1386416149.7891033, 1386416149.7685955, 1386416149.7891033])"
       ]
      },
      {
       "output_type": "stream",
       "stream": "stdout",
       "text": [
        "\n",
        "('stopTime:', 1386416395.1707187, [1386416395.1707187, 1386416395.1707187, 1386416395.1707187, 1386416395.1707187])\n",
        "('accWF.shape:', (6, 7362))"
       ]
      },
      {
       "output_type": "stream",
       "stream": "stdout",
       "text": [
        "\n",
        "---------------acc + dec:"
       ]
      },
      {
       "output_type": "stream",
       "stream": "stdout",
       "text": [
        "\n",
        "[16, 0, 160]\n",
        "[16, 225, 760]\n",
        "[16, 2792, 3137]\n",
        "[16, 3522, 3710]\n",
        "[16, 4102, 4275]\n",
        "[16, 4353, 4445]\n",
        "[16, 4596, 4673]\n",
        "[16, 4949, 5068]\n",
        "[16, 6645, 6801]\n",
        "---------------turn:\n",
        "[17, 453, 696]\n",
        "[17, 2818, 3053]\n",
        "[17, 4429, 4615]\n",
        "D:\\Documents\\Desktop\\0106\\t6916_a5_5.txt"
       ]
      },
      {
       "output_type": "stream",
       "stream": "stdout",
       "text": [
        " 5\n",
        "('startTime:', 1386414413.7162738, [1386414413.6723285, 1386414413.7162738, 1386414413.6723285, 1386414413.7162738])"
       ]
      },
      {
       "output_type": "stream",
       "stream": "stdout",
       "text": [
        "\n",
        "('stopTime:', 1386414579.2366548, [1386414579.2366548, 1386414579.2366548, 1386414579.2366548, 1386414579.2366548])\n",
        "('accWF.shape:', (6, 4966))"
       ]
      },
      {
       "output_type": "stream",
       "stream": "stdout",
       "text": [
        "\n",
        "---------------acc + dec:"
       ]
      },
      {
       "output_type": "stream",
       "stream": "stdout",
       "text": [
        "\n",
        "[16, 99, 367]\n",
        "[16, 621, 1181]\n",
        "---------------turn:\n"
       ]
      }
     ],
     "prompt_number": 4
    },
    {
     "cell_type": "code",
     "collapsed": false,
     "input": [],
     "language": "python",
     "metadata": {},
     "outputs": []
    }
   ],
   "metadata": {}
  }
 ]
}