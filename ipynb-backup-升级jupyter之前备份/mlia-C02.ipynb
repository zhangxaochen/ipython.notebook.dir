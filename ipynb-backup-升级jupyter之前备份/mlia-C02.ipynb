{
 "metadata": {
  "name": ""
 },
 "nbformat": 3,
 "nbformat_minor": 0,
 "worksheets": [
  {
   "cells": [
    {
     "cell_type": "code",
     "collapsed": false,
     "input": [
      "import os,sys\n",
      "%cd C:\\Users\\Zhang Jieyong\\Desktop\\machinelearninginaction\\Ch02\n",
      "os.getcwd()"
     ],
     "language": "python",
     "metadata": {},
     "outputs": [
      {
       "output_type": "stream",
       "stream": "stdout",
       "text": [
        "C:\\Users\\Zhang Jieyong\\Desktop\\machinelearninginaction\\Ch02\n"
       ]
      },
      {
       "output_type": "pyout",
       "prompt_number": 10,
       "text": [
        "'C:\\\\Users\\\\Zhang Jieyong\\\\Desktop\\\\machinelearninginaction\\\\Ch02'"
       ]
      }
     ],
     "prompt_number": 10
    },
    {
     "cell_type": "code",
     "collapsed": false,
     "input": [
      "#kNN.py\n",
      "'''\n",
      "Created on Sep 16, 2010\n",
      "kNN: k Nearest Neighbors\n",
      "\n",
      "Input:      inX: vector to compare to existing dataset (1xN)\n",
      "            dataSet: size m data set of known vectors (NxM)\n",
      "            labels: data set labels (1xM vector)\n",
      "            k: number of neighbors to use for comparison (should be an odd number)\n",
      "            \n",
      "Output:     the most popular class label\n",
      "\n",
      "@author: pbharrin\n",
      "'''\n",
      "from numpy import *\n",
      "import operator\n",
      "from os import listdir\n",
      "\n",
      "def classify0(inX, dataSet, labels, k):\n",
      "    dataSetSize = dataSet.shape[0]\n",
      "    diffMat = tile(inX, (dataSetSize,1)) - dataSet\n",
      "    sqDiffMat = diffMat**2\n",
      "    sqDistances = sqDiffMat.sum(axis=1)\n",
      "    distances = sqDistances**0.5\n",
      "    sortedDistIndicies = distances.argsort()     \n",
      "    classCount={}          \n",
      "    for i in range(k):\n",
      "        voteIlabel = labels[sortedDistIndicies[i]]\n",
      "        classCount[voteIlabel] = classCount.get(voteIlabel,0) + 1\n",
      "    sortedClassCount = sorted(classCount.iteritems(), key=operator.itemgetter(1), reverse=True)\n",
      "    return sortedClassCount[0][0]\n",
      "\n",
      "def createDataSet():\n",
      "    group = array([[1.0,1.1],[1.0,1.0],[0,0],[0,0.1]])\n",
      "    labels = ['A','A','B','B']\n",
      "    return group, labels\n",
      "\n",
      "def file2matrix(filename):\n",
      "    fr = open(filename)\n",
      "    numberOfLines = len(fr.readlines())         #get the number of lines in the file\n",
      "    returnMat = zeros((numberOfLines,3))        #prepare matrix to return\n",
      "    classLabelVector = []                       #prepare labels return   \n",
      "    fr = open(filename)\n",
      "    index = 0\n",
      "    for line in fr.readlines():\n",
      "        line = line.strip()\n",
      "        listFromLine = line.split('\\t')\n",
      "        returnMat[index,:] = listFromLine[0:3]\n",
      "        classLabelVector.append(int(listFromLine[-1]))\n",
      "        index += 1\n",
      "    return returnMat,classLabelVector\n",
      "    \n",
      "def autoNorm(dataSet):\n",
      "    minVals = dataSet.min(0)\n",
      "    maxVals = dataSet.max(0)\n",
      "    ranges = maxVals - minVals\n",
      "    normDataSet = zeros(shape(dataSet))\n",
      "    m = dataSet.shape[0]\n",
      "    normDataSet = dataSet - tile(minVals, (m,1))\n",
      "    normDataSet = normDataSet/tile(ranges, (m,1))   #element wise divide\n",
      "    return normDataSet, ranges, minVals\n",
      "   \n",
      "    \n",
      "def img2vector(filename):\n",
      "    returnVect = zeros((1,1024))\n",
      "    fr = open(filename)\n",
      "    for i in range(32):\n",
      "        lineStr = fr.readline()\n",
      "        for j in range(32):\n",
      "            returnVect[0,32*i+j] = int(lineStr[j])\n",
      "    return returnVect\n",
      "\n",
      "def handwritingClassTest():\n",
      "    hwLabels = []\n",
      "    trainingFileList = listdir('trainingDigits')           #load the training set\n",
      "    m = len(trainingFileList)\n",
      "    trainingMat = zeros((m,1024))\n",
      "    for i in range(m):\n",
      "        fileNameStr = trainingFileList[i]\n",
      "        fileStr = fileNameStr.split('.')[0]     #take off .txt\n",
      "        classNumStr = int(fileStr.split('_')[0])\n",
      "        hwLabels.append(classNumStr)\n",
      "        trainingMat[i,:] = img2vector('trainingDigits/%s' % fileNameStr)\n",
      "    testFileList = listdir('testDigits')        #iterate through the test set\n",
      "    errorCount = 0.0\n",
      "    mTest = len(testFileList)\n",
      "    for i in range(mTest):\n",
      "        fileNameStr = testFileList[i]\n",
      "        fileStr = fileNameStr.split('.')[0]     #take off .txt\n",
      "        classNumStr = int(fileStr.split('_')[0])\n",
      "        vectorUnderTest = img2vector('testDigits/%s' % fileNameStr)\n",
      "        classifierResult = classify0(vectorUnderTest, trainingMat, hwLabels, 3)\n",
      "        print \"the classifier came back with: %d, the real answer is: %d\" % (classifierResult, classNumStr)\n",
      "        if (classifierResult != classNumStr): errorCount += 1.0\n",
      "    print \"\\nthe total number of errors is: %d\" % errorCount\n",
      "    print \"\\nthe total error rate is: %f\" % (errorCount/float(mTest))"
     ],
     "language": "python",
     "metadata": {},
     "outputs": [],
     "prompt_number": 11
    },
    {
     "cell_type": "code",
     "collapsed": false,
     "input": [
      "def datingClassTest():\n",
      "    hoRatio = 0.1      #hold out 10%\n",
      "    datingDataMat,datingLabels = file2matrix('datingTestSet2.txt')       #load data setfrom file\n",
      "    normMat, ranges, minVals = autoNorm(datingDataMat)\n",
      "    m = normMat.shape[0]\n",
      "    numTestVecs = int(m*hoRatio)\n",
      "    errorCount = 0.0\n",
      "    for i in range(numTestVecs):\n",
      "        classifierResult = classify0(normMat[i,:],normMat[numTestVecs:m,:],datingLabels[numTestVecs:m],3)\n",
      "        print \"the classifier came back with: %d, the real answer is: %d\" % (classifierResult, datingLabels[i])\n",
      "        if (classifierResult != datingLabels[i]): errorCount += 1.0\n",
      "    print \"the total error rate is: %f\" % (errorCount/float(numTestVecs))\n",
      "    print errorCount"
     ],
     "language": "python",
     "metadata": {},
     "outputs": [],
     "prompt_number": 19
    },
    {
     "cell_type": "code",
     "collapsed": false,
     "input": [
      "datingClassTest()"
     ],
     "language": "python",
     "metadata": {},
     "outputs": [
      {
       "output_type": "stream",
       "stream": "stdout",
       "text": [
        "the classifier came back with: 3, the real answer is: 3\n",
        "the classifier came back with: 2, the real answer is: 2\n",
        "the classifier came back with: 1, the real answer is: 1\n",
        "the classifier came back with: 1, the real answer is: 1\n",
        "the classifier came back with: 1, the real answer is: 1\n",
        "the classifier came back with: 1, the real answer is: 1\n",
        "the classifier came back with: 3, the real answer is: 3\n",
        "the classifier came back with: 3, the real answer is: 3\n",
        "the classifier came back with: 1, the real answer is: 1\n",
        "the classifier came back with: 3, the real answer is: 3\n",
        "the classifier came back with: 1, the real answer is: 1\n",
        "the classifier came back with: 1, the real answer is: 1\n",
        "the classifier came back with: 2, the real answer is: 2\n",
        "the classifier came back with: 1, the real answer is: 1\n",
        "the classifier came back with: 1, the real answer is: 1\n",
        "the classifier came back with: 1, the real answer is: 1\n",
        "the classifier came back with: 1, the real answer is: 1\n",
        "the classifier came back with: 1, the real answer is: 1\n",
        "the classifier came back with: 2, the real answer is: 2\n",
        "the classifier came back with: 3, the real answer is: 3\n",
        "the classifier came back with: 2, the real answer is: 2\n",
        "the classifier came back with: 1, the real answer is: 1\n",
        "the classifier came back with: 1, the real answer is: 2\n",
        "the classifier came back with: 3, the real answer is: 3\n",
        "the classifier came back with: 2, the real answer is: 2\n",
        "the classifier came back with: 3, the real answer is: 3\n",
        "the classifier came back with: 2, the real answer is: 2\n",
        "the classifier came back with: 3, the real answer is: 3\n",
        "the classifier came back with: 2, the real answer is: 2\n",
        "the classifier came back with: 1, the real answer is: 1\n",
        "the classifier came back with: 3, the real answer is: 3\n",
        "the classifier came back with: 1, the real answer is: 1\n",
        "the classifier came back with: 3, the real answer is: 3\n",
        "the classifier came back with: 1, the real answer is: 1\n",
        "the classifier came back with: 2, the real answer is: 2\n",
        "the classifier came back with: 1, the real answer is: 1\n",
        "the classifier came back with: 1, the real answer is: 1\n",
        "the classifier came back with: 2, the real answer is: 2\n",
        "the classifier came back with: 3, the real answer is: 3\n",
        "the classifier came back with: 3, the real answer is: 3\n",
        "the classifier came back with: 1, the real answer is: 1\n",
        "the classifier came back with: 2, the real answer is: 2\n",
        "the classifier came back with: 3, the real answer is: 3\n",
        "the classifier came back with: 3, the real answer is: 3\n",
        "the classifier came back with: 3, the real answer is: 3\n",
        "the classifier came back with: 1, the real answer is: 1\n",
        "the classifier came back with: 1, the real answer is: 1\n",
        "the classifier came back with: 1, the real answer is: 1\n",
        "the classifier came back with: 1, the real answer is: 1\n",
        "the classifier came back with: 2, the real answer is: 2\n",
        "the classifier came back with: 2, the real answer is: 2\n",
        "the classifier came back with: 1, the real answer is: 1\n",
        "the classifier came back with: 3, the real answer is: 3\n",
        "the classifier came back with: 2, the real answer is: 2\n",
        "the classifier came back with: 2, the real answer is: 2\n",
        "the classifier came back with: 2, the real answer is: 2\n",
        "the classifier came back with: 2, the real answer is: 2\n",
        "the classifier came back with: 3, the real answer is: 3\n",
        "the classifier came back with: 1, the real answer is: 1\n",
        "the classifier came back with: 2, the real answer is: 2\n",
        "the classifier came back with: 1, the real answer is: 1\n",
        "the classifier came back with: 2, the real answer is: 2\n",
        "the classifier came back with: 2, the real answer is: 2\n",
        "the classifier came back with: 2, the real answer is: 2\n",
        "the classifier came back with: 2, the real answer is: 2\n",
        "the classifier came back with: 2, the real answer is: 2\n",
        "the classifier came back with: 3, the real answer is: 3\n",
        "the classifier came back with: 2, the real answer is: 2\n",
        "the classifier came back with: 3, the real answer is: 3\n",
        "the classifier came back with: 1, the real answer is: 1\n",
        "the classifier came back with: 2, the real answer is: 2\n",
        "the classifier came back with: 3, the real answer is: 3\n",
        "the classifier came back with: 2, the real answer is: 2\n",
        "the classifier came back with: 2, the real answer is: 2\n",
        "the classifier came back with: 3, the real answer is: 1\n",
        "the classifier came back with: 3, the real answer is: 3\n",
        "the classifier came back with: 1, the real answer is: 1\n",
        "the classifier came back with: 1, the real answer is: 1\n",
        "the classifier came back with: 3, the real answer is: 3\n",
        "the classifier came back with: 3, the real answer is: 3\n",
        "the classifier came back with: 1, the real answer is: 1\n",
        "the classifier came back with: 2, the real answer is: 2\n",
        "the classifier came back with: 3, the real answer is: 3\n",
        "the classifier came back with: 3, the real answer is: 1\n",
        "the classifier came back with: 3, the real answer is: 3\n",
        "the classifier came back with: 1, the real answer is: 1\n",
        "the classifier came back with: 2, the real answer is: 2\n",
        "the classifier came back with: 2, the real answer is: 2\n",
        "the classifier came back with: 1, the real answer is: 1\n",
        "the classifier came back with: 1, the real answer is: 1\n",
        "the classifier came back with: 3, the real answer is: 3\n",
        "the classifier came back with: 2, the real answer is: 3"
       ]
      },
      {
       "output_type": "stream",
       "stream": "stdout",
       "text": [
        "\n",
        "the classifier came back with: 1, the real answer is: 1\n",
        "the classifier came back with: 2, the real answer is: 2\n",
        "the classifier came back with: 1, the real answer is: 1\n",
        "the classifier came back with: 3, the real answer is: 3\n",
        "the classifier came back with: 3, the real answer is: 3\n",
        "the classifier came back with: 2, the real answer is: 2\n",
        "the classifier came back with: 1, the real answer is: 1\n",
        "the classifier came back with: 3, the real answer is: 1\n",
        "the total error rate is: 0.050000\n",
        "5.0\n"
       ]
      }
     ],
     "prompt_number": 20
    },
    {
     "cell_type": "code",
     "collapsed": false,
     "input": [
      "listdir('trainingDigits')"
     ],
     "language": "python",
     "metadata": {},
     "outputs": [
      {
       "output_type": "pyout",
       "prompt_number": 21,
       "text": [
        "['0_0.txt',\n",
        " '0_1.txt',\n",
        " '0_10.txt',\n",
        " '0_100.txt',\n",
        " '0_101.txt',\n",
        " '0_102.txt',\n",
        " '0_103.txt',\n",
        " '0_104.txt',\n",
        " '0_105.txt',\n",
        " '0_106.txt',\n",
        " '0_107.txt',\n",
        " '0_108.txt',\n",
        " '0_109.txt',\n",
        " '0_11.txt',\n",
        " '0_110.txt',\n",
        " '0_111.txt',\n",
        " '0_112.txt',\n",
        " '0_113.txt',\n",
        " '0_114.txt',\n",
        " '0_115.txt',\n",
        " '0_116.txt',\n",
        " '0_117.txt',\n",
        " '0_118.txt',\n",
        " '0_119.txt',\n",
        " '0_12.txt',\n",
        " '0_120.txt',\n",
        " '0_121.txt',\n",
        " '0_122.txt',\n",
        " '0_123.txt',\n",
        " '0_124.txt',\n",
        " '0_125.txt',\n",
        " '0_126.txt',\n",
        " '0_127.txt',\n",
        " '0_128.txt',\n",
        " '0_129.txt',\n",
        " '0_13.txt',\n",
        " '0_130.txt',\n",
        " '0_131.txt',\n",
        " '0_132.txt',\n",
        " '0_133.txt',\n",
        " '0_134.txt',\n",
        " '0_135.txt',\n",
        " '0_136.txt',\n",
        " '0_137.txt',\n",
        " '0_138.txt',\n",
        " '0_139.txt',\n",
        " '0_14.txt',\n",
        " '0_140.txt',\n",
        " '0_141.txt',\n",
        " '0_142.txt',\n",
        " '0_143.txt',\n",
        " '0_144.txt',\n",
        " '0_145.txt',\n",
        " '0_146.txt',\n",
        " '0_147.txt',\n",
        " '0_148.txt',\n",
        " '0_149.txt',\n",
        " '0_15.txt',\n",
        " '0_150.txt',\n",
        " '0_151.txt',\n",
        " '0_152.txt',\n",
        " '0_153.txt',\n",
        " '0_154.txt',\n",
        " '0_155.txt',\n",
        " '0_156.txt',\n",
        " '0_157.txt',\n",
        " '0_158.txt',\n",
        " '0_159.txt',\n",
        " '0_16.txt',\n",
        " '0_160.txt',\n",
        " '0_161.txt',\n",
        " '0_162.txt',\n",
        " '0_163.txt',\n",
        " '0_164.txt',\n",
        " '0_165.txt',\n",
        " '0_166.txt',\n",
        " '0_167.txt',\n",
        " '0_168.txt',\n",
        " '0_169.txt',\n",
        " '0_17.txt',\n",
        " '0_170.txt',\n",
        " '0_171.txt',\n",
        " '0_172.txt',\n",
        " '0_173.txt',\n",
        " '0_174.txt',\n",
        " '0_175.txt',\n",
        " '0_176.txt',\n",
        " '0_177.txt',\n",
        " '0_178.txt',\n",
        " '0_179.txt',\n",
        " '0_18.txt',\n",
        " '0_180.txt',\n",
        " '0_181.txt',\n",
        " '0_182.txt',\n",
        " '0_183.txt',\n",
        " '0_184.txt',\n",
        " '0_185.txt',\n",
        " '0_186.txt',\n",
        " '0_187.txt',\n",
        " '0_188.txt',\n",
        " '0_19.txt',\n",
        " '0_2.txt',\n",
        " '0_20.txt',\n",
        " '0_21.txt',\n",
        " '0_22.txt',\n",
        " '0_23.txt',\n",
        " '0_24.txt',\n",
        " '0_25.txt',\n",
        " '0_26.txt',\n",
        " '0_27.txt',\n",
        " '0_28.txt',\n",
        " '0_29.txt',\n",
        " '0_3.txt',\n",
        " '0_30.txt',\n",
        " '0_31.txt',\n",
        " '0_32.txt',\n",
        " '0_33.txt',\n",
        " '0_34.txt',\n",
        " '0_35.txt',\n",
        " '0_36.txt',\n",
        " '0_37.txt',\n",
        " '0_38.txt',\n",
        " '0_39.txt',\n",
        " '0_4.txt',\n",
        " '0_40.txt',\n",
        " '0_41.txt',\n",
        " '0_42.txt',\n",
        " '0_43.txt',\n",
        " '0_44.txt',\n",
        " '0_45.txt',\n",
        " '0_46.txt',\n",
        " '0_47.txt',\n",
        " '0_48.txt',\n",
        " '0_49.txt',\n",
        " '0_5.txt',\n",
        " '0_50.txt',\n",
        " '0_51.txt',\n",
        " '0_52.txt',\n",
        " '0_53.txt',\n",
        " '0_54.txt',\n",
        " '0_55.txt',\n",
        " '0_56.txt',\n",
        " '0_57.txt',\n",
        " '0_58.txt',\n",
        " '0_59.txt',\n",
        " '0_6.txt',\n",
        " '0_60.txt',\n",
        " '0_61.txt',\n",
        " '0_62.txt',\n",
        " '0_63.txt',\n",
        " '0_64.txt',\n",
        " '0_65.txt',\n",
        " '0_66.txt',\n",
        " '0_67.txt',\n",
        " '0_68.txt',\n",
        " '0_69.txt',\n",
        " '0_7.txt',\n",
        " '0_70.txt',\n",
        " '0_71.txt',\n",
        " '0_72.txt',\n",
        " '0_73.txt',\n",
        " '0_74.txt',\n",
        " '0_75.txt',\n",
        " '0_76.txt',\n",
        " '0_77.txt',\n",
        " '0_78.txt',\n",
        " '0_79.txt',\n",
        " '0_8.txt',\n",
        " '0_80.txt',\n",
        " '0_81.txt',\n",
        " '0_82.txt',\n",
        " '0_83.txt',\n",
        " '0_84.txt',\n",
        " '0_85.txt',\n",
        " '0_86.txt',\n",
        " '0_87.txt',\n",
        " '0_88.txt',\n",
        " '0_89.txt',\n",
        " '0_9.txt',\n",
        " '0_90.txt',\n",
        " '0_91.txt',\n",
        " '0_92.txt',\n",
        " '0_93.txt',\n",
        " '0_94.txt',\n",
        " '0_95.txt',\n",
        " '0_96.txt',\n",
        " '0_97.txt',\n",
        " '0_98.txt',\n",
        " '0_99.txt',\n",
        " '1_0.txt',\n",
        " '1_1.txt',\n",
        " '1_10.txt',\n",
        " '1_100.txt',\n",
        " '1_101.txt',\n",
        " '1_102.txt',\n",
        " '1_103.txt',\n",
        " '1_104.txt',\n",
        " '1_105.txt',\n",
        " '1_106.txt',\n",
        " '1_107.txt',\n",
        " '1_108.txt',\n",
        " '1_109.txt',\n",
        " '1_11.txt',\n",
        " '1_110.txt',\n",
        " '1_111.txt',\n",
        " '1_112.txt',\n",
        " '1_113.txt',\n",
        " '1_114.txt',\n",
        " '1_115.txt',\n",
        " '1_116.txt',\n",
        " '1_117.txt',\n",
        " '1_118.txt',\n",
        " '1_119.txt',\n",
        " '1_12.txt',\n",
        " '1_120.txt',\n",
        " '1_121.txt',\n",
        " '1_122.txt',\n",
        " '1_123.txt',\n",
        " '1_124.txt',\n",
        " '1_125.txt',\n",
        " '1_126.txt',\n",
        " '1_127.txt',\n",
        " '1_128.txt',\n",
        " '1_129.txt',\n",
        " '1_13.txt',\n",
        " '1_130.txt',\n",
        " '1_131.txt',\n",
        " '1_132.txt',\n",
        " '1_133.txt',\n",
        " '1_134.txt',\n",
        " '1_135.txt',\n",
        " '1_136.txt',\n",
        " '1_137.txt',\n",
        " '1_138.txt',\n",
        " '1_139.txt',\n",
        " '1_14.txt',\n",
        " '1_140.txt',\n",
        " '1_141.txt',\n",
        " '1_142.txt',\n",
        " '1_143.txt',\n",
        " '1_144.txt',\n",
        " '1_145.txt',\n",
        " '1_146.txt',\n",
        " '1_147.txt',\n",
        " '1_148.txt',\n",
        " '1_149.txt',\n",
        " '1_15.txt',\n",
        " '1_150.txt',\n",
        " '1_151.txt',\n",
        " '1_152.txt',\n",
        " '1_153.txt',\n",
        " '1_154.txt',\n",
        " '1_155.txt',\n",
        " '1_156.txt',\n",
        " '1_157.txt',\n",
        " '1_158.txt',\n",
        " '1_159.txt',\n",
        " '1_16.txt',\n",
        " '1_160.txt',\n",
        " '1_161.txt',\n",
        " '1_162.txt',\n",
        " '1_163.txt',\n",
        " '1_164.txt',\n",
        " '1_165.txt',\n",
        " '1_166.txt',\n",
        " '1_167.txt',\n",
        " '1_168.txt',\n",
        " '1_169.txt',\n",
        " '1_17.txt',\n",
        " '1_170.txt',\n",
        " '1_171.txt',\n",
        " '1_172.txt',\n",
        " '1_173.txt',\n",
        " '1_174.txt',\n",
        " '1_175.txt',\n",
        " '1_176.txt',\n",
        " '1_177.txt',\n",
        " '1_178.txt',\n",
        " '1_179.txt',\n",
        " '1_18.txt',\n",
        " '1_180.txt',\n",
        " '1_181.txt',\n",
        " '1_182.txt',\n",
        " '1_183.txt',\n",
        " '1_184.txt',\n",
        " '1_185.txt',\n",
        " '1_186.txt',\n",
        " '1_187.txt',\n",
        " '1_188.txt',\n",
        " '1_189.txt',\n",
        " '1_19.txt',\n",
        " '1_190.txt',\n",
        " '1_191.txt',\n",
        " '1_192.txt',\n",
        " '1_193.txt',\n",
        " '1_194.txt',\n",
        " '1_195.txt',\n",
        " '1_196.txt',\n",
        " '1_197.txt',\n",
        " '1_2.txt',\n",
        " '1_20.txt',\n",
        " '1_21.txt',\n",
        " '1_22.txt',\n",
        " '1_23.txt',\n",
        " '1_24.txt',\n",
        " '1_25.txt',\n",
        " '1_26.txt',\n",
        " '1_27.txt',\n",
        " '1_28.txt',\n",
        " '1_29.txt',\n",
        " '1_3.txt',\n",
        " '1_30.txt',\n",
        " '1_31.txt',\n",
        " '1_32.txt',\n",
        " '1_33.txt',\n",
        " '1_34.txt',\n",
        " '1_35.txt',\n",
        " '1_36.txt',\n",
        " '1_37.txt',\n",
        " '1_38.txt',\n",
        " '1_39.txt',\n",
        " '1_4.txt',\n",
        " '1_40.txt',\n",
        " '1_41.txt',\n",
        " '1_42.txt',\n",
        " '1_43.txt',\n",
        " '1_44.txt',\n",
        " '1_45.txt',\n",
        " '1_46.txt',\n",
        " '1_47.txt',\n",
        " '1_48.txt',\n",
        " '1_49.txt',\n",
        " '1_5.txt',\n",
        " '1_50.txt',\n",
        " '1_51.txt',\n",
        " '1_52.txt',\n",
        " '1_53.txt',\n",
        " '1_54.txt',\n",
        " '1_55.txt',\n",
        " '1_56.txt',\n",
        " '1_57.txt',\n",
        " '1_58.txt',\n",
        " '1_59.txt',\n",
        " '1_6.txt',\n",
        " '1_60.txt',\n",
        " '1_61.txt',\n",
        " '1_62.txt',\n",
        " '1_63.txt',\n",
        " '1_64.txt',\n",
        " '1_65.txt',\n",
        " '1_66.txt',\n",
        " '1_67.txt',\n",
        " '1_68.txt',\n",
        " '1_69.txt',\n",
        " '1_7.txt',\n",
        " '1_70.txt',\n",
        " '1_71.txt',\n",
        " '1_72.txt',\n",
        " '1_73.txt',\n",
        " '1_74.txt',\n",
        " '1_75.txt',\n",
        " '1_76.txt',\n",
        " '1_77.txt',\n",
        " '1_78.txt',\n",
        " '1_79.txt',\n",
        " '1_8.txt',\n",
        " '1_80.txt',\n",
        " '1_81.txt',\n",
        " '1_82.txt',\n",
        " '1_83.txt',\n",
        " '1_84.txt',\n",
        " '1_85.txt',\n",
        " '1_86.txt',\n",
        " '1_87.txt',\n",
        " '1_88.txt',\n",
        " '1_89.txt',\n",
        " '1_9.txt',\n",
        " '1_90.txt',\n",
        " '1_91.txt',\n",
        " '1_92.txt',\n",
        " '1_93.txt',\n",
        " '1_94.txt',\n",
        " '1_95.txt',\n",
        " '1_96.txt',\n",
        " '1_97.txt',\n",
        " '1_98.txt',\n",
        " '1_99.txt',\n",
        " '2_0.txt',\n",
        " '2_1.txt',\n",
        " '2_10.txt',\n",
        " '2_100.txt',\n",
        " '2_101.txt',\n",
        " '2_102.txt',\n",
        " '2_103.txt',\n",
        " '2_104.txt',\n",
        " '2_105.txt',\n",
        " '2_106.txt',\n",
        " '2_107.txt',\n",
        " '2_108.txt',\n",
        " '2_109.txt',\n",
        " '2_11.txt',\n",
        " '2_110.txt',\n",
        " '2_111.txt',\n",
        " '2_112.txt',\n",
        " '2_113.txt',\n",
        " '2_114.txt',\n",
        " '2_115.txt',\n",
        " '2_116.txt',\n",
        " '2_117.txt',\n",
        " '2_118.txt',\n",
        " '2_119.txt',\n",
        " '2_12.txt',\n",
        " '2_120.txt',\n",
        " '2_121.txt',\n",
        " '2_122.txt',\n",
        " '2_123.txt',\n",
        " '2_124.txt',\n",
        " '2_125.txt',\n",
        " '2_126.txt',\n",
        " '2_127.txt',\n",
        " '2_128.txt',\n",
        " '2_129.txt',\n",
        " '2_13.txt',\n",
        " '2_130.txt',\n",
        " '2_131.txt',\n",
        " '2_132.txt',\n",
        " '2_133.txt',\n",
        " '2_134.txt',\n",
        " '2_135.txt',\n",
        " '2_136.txt',\n",
        " '2_137.txt',\n",
        " '2_138.txt',\n",
        " '2_139.txt',\n",
        " '2_14.txt',\n",
        " '2_140.txt',\n",
        " '2_141.txt',\n",
        " '2_142.txt',\n",
        " '2_143.txt',\n",
        " '2_144.txt',\n",
        " '2_145.txt',\n",
        " '2_146.txt',\n",
        " '2_147.txt',\n",
        " '2_148.txt',\n",
        " '2_149.txt',\n",
        " '2_15.txt',\n",
        " '2_150.txt',\n",
        " '2_151.txt',\n",
        " '2_152.txt',\n",
        " '2_153.txt',\n",
        " '2_154.txt',\n",
        " '2_155.txt',\n",
        " '2_156.txt',\n",
        " '2_157.txt',\n",
        " '2_158.txt',\n",
        " '2_159.txt',\n",
        " '2_16.txt',\n",
        " '2_160.txt',\n",
        " '2_161.txt',\n",
        " '2_162.txt',\n",
        " '2_163.txt',\n",
        " '2_164.txt',\n",
        " '2_165.txt',\n",
        " '2_166.txt',\n",
        " '2_167.txt',\n",
        " '2_168.txt',\n",
        " '2_169.txt',\n",
        " '2_17.txt',\n",
        " '2_170.txt',\n",
        " '2_171.txt',\n",
        " '2_172.txt',\n",
        " '2_173.txt',\n",
        " '2_174.txt',\n",
        " '2_175.txt',\n",
        " '2_176.txt',\n",
        " '2_177.txt',\n",
        " '2_178.txt',\n",
        " '2_179.txt',\n",
        " '2_18.txt',\n",
        " '2_180.txt',\n",
        " '2_181.txt',\n",
        " '2_182.txt',\n",
        " '2_183.txt',\n",
        " '2_184.txt',\n",
        " '2_185.txt',\n",
        " '2_186.txt',\n",
        " '2_187.txt',\n",
        " '2_188.txt',\n",
        " '2_189.txt',\n",
        " '2_19.txt',\n",
        " '2_190.txt',\n",
        " '2_191.txt',\n",
        " '2_192.txt',\n",
        " '2_193.txt',\n",
        " '2_194.txt',\n",
        " '2_2.txt',\n",
        " '2_20.txt',\n",
        " '2_21.txt',\n",
        " '2_22.txt',\n",
        " '2_23.txt',\n",
        " '2_24.txt',\n",
        " '2_25.txt',\n",
        " '2_26.txt',\n",
        " '2_27.txt',\n",
        " '2_28.txt',\n",
        " '2_29.txt',\n",
        " '2_3.txt',\n",
        " '2_30.txt',\n",
        " '2_31.txt',\n",
        " '2_32.txt',\n",
        " '2_33.txt',\n",
        " '2_34.txt',\n",
        " '2_35.txt',\n",
        " '2_36.txt',\n",
        " '2_37.txt',\n",
        " '2_38.txt',\n",
        " '2_39.txt',\n",
        " '2_4.txt',\n",
        " '2_40.txt',\n",
        " '2_41.txt',\n",
        " '2_42.txt',\n",
        " '2_43.txt',\n",
        " '2_44.txt',\n",
        " '2_45.txt',\n",
        " '2_46.txt',\n",
        " '2_47.txt',\n",
        " '2_48.txt',\n",
        " '2_49.txt',\n",
        " '2_5.txt',\n",
        " '2_50.txt',\n",
        " '2_51.txt',\n",
        " '2_52.txt',\n",
        " '2_53.txt',\n",
        " '2_54.txt',\n",
        " '2_55.txt',\n",
        " '2_56.txt',\n",
        " '2_57.txt',\n",
        " '2_58.txt',\n",
        " '2_59.txt',\n",
        " '2_6.txt',\n",
        " '2_60.txt',\n",
        " '2_61.txt',\n",
        " '2_62.txt',\n",
        " '2_63.txt',\n",
        " '2_64.txt',\n",
        " '2_65.txt',\n",
        " '2_66.txt',\n",
        " '2_67.txt',\n",
        " '2_68.txt',\n",
        " '2_69.txt',\n",
        " '2_7.txt',\n",
        " '2_70.txt',\n",
        " '2_71.txt',\n",
        " '2_72.txt',\n",
        " '2_73.txt',\n",
        " '2_74.txt',\n",
        " '2_75.txt',\n",
        " '2_76.txt',\n",
        " '2_77.txt',\n",
        " '2_78.txt',\n",
        " '2_79.txt',\n",
        " '2_8.txt',\n",
        " '2_80.txt',\n",
        " '2_81.txt',\n",
        " '2_82.txt',\n",
        " '2_83.txt',\n",
        " '2_84.txt',\n",
        " '2_85.txt',\n",
        " '2_86.txt',\n",
        " '2_87.txt',\n",
        " '2_88.txt',\n",
        " '2_89.txt',\n",
        " '2_9.txt',\n",
        " '2_90.txt',\n",
        " '2_91.txt',\n",
        " '2_92.txt',\n",
        " '2_93.txt',\n",
        " '2_94.txt',\n",
        " '2_95.txt',\n",
        " '2_96.txt',\n",
        " '2_97.txt',\n",
        " '2_98.txt',\n",
        " '2_99.txt',\n",
        " '3_0.txt',\n",
        " '3_1.txt',\n",
        " '3_10.txt',\n",
        " '3_100.txt',\n",
        " '3_101.txt',\n",
        " '3_102.txt',\n",
        " '3_103.txt',\n",
        " '3_104.txt',\n",
        " '3_105.txt',\n",
        " '3_106.txt',\n",
        " '3_107.txt',\n",
        " '3_108.txt',\n",
        " '3_109.txt',\n",
        " '3_11.txt',\n",
        " '3_110.txt',\n",
        " '3_111.txt',\n",
        " '3_112.txt',\n",
        " '3_113.txt',\n",
        " '3_114.txt',\n",
        " '3_115.txt',\n",
        " '3_116.txt',\n",
        " '3_117.txt',\n",
        " '3_118.txt',\n",
        " '3_119.txt',\n",
        " '3_12.txt',\n",
        " '3_120.txt',\n",
        " '3_121.txt',\n",
        " '3_122.txt',\n",
        " '3_123.txt',\n",
        " '3_124.txt',\n",
        " '3_125.txt',\n",
        " '3_126.txt',\n",
        " '3_127.txt',\n",
        " '3_128.txt',\n",
        " '3_129.txt',\n",
        " '3_13.txt',\n",
        " '3_130.txt',\n",
        " '3_131.txt',\n",
        " '3_132.txt',\n",
        " '3_133.txt',\n",
        " '3_134.txt',\n",
        " '3_135.txt',\n",
        " '3_136.txt',\n",
        " '3_137.txt',\n",
        " '3_138.txt',\n",
        " '3_139.txt',\n",
        " '3_14.txt',\n",
        " '3_140.txt',\n",
        " '3_141.txt',\n",
        " '3_142.txt',\n",
        " '3_143.txt',\n",
        " '3_144.txt',\n",
        " '3_145.txt',\n",
        " '3_146.txt',\n",
        " '3_147.txt',\n",
        " '3_148.txt',\n",
        " '3_149.txt',\n",
        " '3_15.txt',\n",
        " '3_150.txt',\n",
        " '3_151.txt',\n",
        " '3_152.txt',\n",
        " '3_153.txt',\n",
        " '3_154.txt',\n",
        " '3_155.txt',\n",
        " '3_156.txt',\n",
        " '3_157.txt',\n",
        " '3_158.txt',\n",
        " '3_159.txt',\n",
        " '3_16.txt',\n",
        " '3_160.txt',\n",
        " '3_161.txt',\n",
        " '3_162.txt',\n",
        " '3_163.txt',\n",
        " '3_164.txt',\n",
        " '3_165.txt',\n",
        " '3_166.txt',\n",
        " '3_167.txt',\n",
        " '3_168.txt',\n",
        " '3_169.txt',\n",
        " '3_17.txt',\n",
        " '3_170.txt',\n",
        " '3_171.txt',\n",
        " '3_172.txt',\n",
        " '3_173.txt',\n",
        " '3_174.txt',\n",
        " '3_175.txt',\n",
        " '3_176.txt',\n",
        " '3_177.txt',\n",
        " '3_178.txt',\n",
        " '3_179.txt',\n",
        " '3_18.txt',\n",
        " '3_180.txt',\n",
        " '3_181.txt',\n",
        " '3_182.txt',\n",
        " '3_183.txt',\n",
        " '3_184.txt',\n",
        " '3_185.txt',\n",
        " '3_186.txt',\n",
        " '3_187.txt',\n",
        " '3_188.txt',\n",
        " '3_189.txt',\n",
        " '3_19.txt',\n",
        " '3_190.txt',\n",
        " '3_191.txt',\n",
        " '3_192.txt',\n",
        " '3_193.txt',\n",
        " '3_194.txt',\n",
        " '3_195.txt',\n",
        " '3_196.txt',\n",
        " '3_197.txt',\n",
        " '3_198.txt',\n",
        " '3_2.txt',\n",
        " '3_20.txt',\n",
        " '3_21.txt',\n",
        " '3_22.txt',\n",
        " '3_23.txt',\n",
        " '3_24.txt',\n",
        " '3_25.txt',\n",
        " '3_26.txt',\n",
        " '3_27.txt',\n",
        " '3_28.txt',\n",
        " '3_29.txt',\n",
        " '3_3.txt',\n",
        " '3_30.txt',\n",
        " '3_31.txt',\n",
        " '3_32.txt',\n",
        " '3_33.txt',\n",
        " '3_34.txt',\n",
        " '3_35.txt',\n",
        " '3_36.txt',\n",
        " '3_37.txt',\n",
        " '3_38.txt',\n",
        " '3_39.txt',\n",
        " '3_4.txt',\n",
        " '3_40.txt',\n",
        " '3_41.txt',\n",
        " '3_42.txt',\n",
        " '3_43.txt',\n",
        " '3_44.txt',\n",
        " '3_45.txt',\n",
        " '3_46.txt',\n",
        " '3_47.txt',\n",
        " '3_48.txt',\n",
        " '3_49.txt',\n",
        " '3_5.txt',\n",
        " '3_50.txt',\n",
        " '3_51.txt',\n",
        " '3_52.txt',\n",
        " '3_53.txt',\n",
        " '3_54.txt',\n",
        " '3_55.txt',\n",
        " '3_56.txt',\n",
        " '3_57.txt',\n",
        " '3_58.txt',\n",
        " '3_59.txt',\n",
        " '3_6.txt',\n",
        " '3_60.txt',\n",
        " '3_61.txt',\n",
        " '3_62.txt',\n",
        " '3_63.txt',\n",
        " '3_64.txt',\n",
        " '3_65.txt',\n",
        " '3_66.txt',\n",
        " '3_67.txt',\n",
        " '3_68.txt',\n",
        " '3_69.txt',\n",
        " '3_7.txt',\n",
        " '3_70.txt',\n",
        " '3_71.txt',\n",
        " '3_72.txt',\n",
        " '3_73.txt',\n",
        " '3_74.txt',\n",
        " '3_75.txt',\n",
        " '3_76.txt',\n",
        " '3_77.txt',\n",
        " '3_78.txt',\n",
        " '3_79.txt',\n",
        " '3_8.txt',\n",
        " '3_80.txt',\n",
        " '3_81.txt',\n",
        " '3_82.txt',\n",
        " '3_83.txt',\n",
        " '3_84.txt',\n",
        " '3_85.txt',\n",
        " '3_86.txt',\n",
        " '3_87.txt',\n",
        " '3_88.txt',\n",
        " '3_89.txt',\n",
        " '3_9.txt',\n",
        " '3_90.txt',\n",
        " '3_91.txt',\n",
        " '3_92.txt',\n",
        " '3_93.txt',\n",
        " '3_94.txt',\n",
        " '3_95.txt',\n",
        " '3_96.txt',\n",
        " '3_97.txt',\n",
        " '3_98.txt',\n",
        " '3_99.txt',\n",
        " '4_0.txt',\n",
        " '4_1.txt',\n",
        " '4_10.txt',\n",
        " '4_100.txt',\n",
        " '4_101.txt',\n",
        " '4_102.txt',\n",
        " '4_103.txt',\n",
        " '4_104.txt',\n",
        " '4_105.txt',\n",
        " '4_106.txt',\n",
        " '4_107.txt',\n",
        " '4_108.txt',\n",
        " '4_109.txt',\n",
        " '4_11.txt',\n",
        " '4_110.txt',\n",
        " '4_111.txt',\n",
        " '4_112.txt',\n",
        " '4_113.txt',\n",
        " '4_114.txt',\n",
        " '4_115.txt',\n",
        " '4_116.txt',\n",
        " '4_117.txt',\n",
        " '4_118.txt',\n",
        " '4_119.txt',\n",
        " '4_12.txt',\n",
        " '4_120.txt',\n",
        " '4_121.txt',\n",
        " '4_122.txt',\n",
        " '4_123.txt',\n",
        " '4_124.txt',\n",
        " '4_125.txt',\n",
        " '4_126.txt',\n",
        " '4_127.txt',\n",
        " '4_128.txt',\n",
        " '4_129.txt',\n",
        " '4_13.txt',\n",
        " '4_130.txt',\n",
        " '4_131.txt',\n",
        " '4_132.txt',\n",
        " '4_133.txt',\n",
        " '4_134.txt',\n",
        " '4_135.txt',\n",
        " '4_136.txt',\n",
        " '4_137.txt',\n",
        " '4_138.txt',\n",
        " '4_139.txt',\n",
        " '4_14.txt',\n",
        " '4_140.txt',\n",
        " '4_141.txt',\n",
        " '4_142.txt',\n",
        " '4_143.txt',\n",
        " '4_144.txt',\n",
        " '4_145.txt',\n",
        " '4_146.txt',\n",
        " '4_147.txt',\n",
        " '4_148.txt',\n",
        " '4_149.txt',\n",
        " '4_15.txt',\n",
        " '4_150.txt',\n",
        " '4_151.txt',\n",
        " '4_152.txt',\n",
        " '4_153.txt',\n",
        " '4_154.txt',\n",
        " '4_155.txt',\n",
        " '4_156.txt',\n",
        " '4_157.txt',\n",
        " '4_158.txt',\n",
        " '4_159.txt',\n",
        " '4_16.txt',\n",
        " '4_160.txt',\n",
        " '4_161.txt',\n",
        " '4_162.txt',\n",
        " '4_163.txt',\n",
        " '4_164.txt',\n",
        " '4_165.txt',\n",
        " '4_166.txt',\n",
        " '4_167.txt',\n",
        " '4_168.txt',\n",
        " '4_169.txt',\n",
        " '4_17.txt',\n",
        " '4_170.txt',\n",
        " '4_171.txt',\n",
        " '4_172.txt',\n",
        " '4_173.txt',\n",
        " '4_174.txt',\n",
        " '4_175.txt',\n",
        " '4_176.txt',\n",
        " '4_177.txt',\n",
        " '4_178.txt',\n",
        " '4_179.txt',\n",
        " '4_18.txt',\n",
        " '4_180.txt',\n",
        " '4_181.txt',\n",
        " '4_182.txt',\n",
        " '4_183.txt',\n",
        " '4_184.txt',\n",
        " '4_185.txt',\n",
        " '4_19.txt',\n",
        " '4_2.txt',\n",
        " '4_20.txt',\n",
        " '4_21.txt',\n",
        " '4_22.txt',\n",
        " '4_23.txt',\n",
        " '4_24.txt',\n",
        " '4_25.txt',\n",
        " '4_26.txt',\n",
        " '4_27.txt',\n",
        " '4_28.txt',\n",
        " '4_29.txt',\n",
        " '4_3.txt',\n",
        " '4_30.txt',\n",
        " '4_31.txt',\n",
        " '4_32.txt',\n",
        " '4_33.txt',\n",
        " '4_34.txt',\n",
        " '4_35.txt',\n",
        " '4_36.txt',\n",
        " '4_37.txt',\n",
        " '4_38.txt',\n",
        " '4_39.txt',\n",
        " '4_4.txt',\n",
        " '4_40.txt',\n",
        " '4_41.txt',\n",
        " '4_42.txt',\n",
        " '4_43.txt',\n",
        " '4_44.txt',\n",
        " '4_45.txt',\n",
        " '4_46.txt',\n",
        " '4_47.txt',\n",
        " '4_48.txt',\n",
        " '4_49.txt',\n",
        " '4_5.txt',\n",
        " '4_50.txt',\n",
        " '4_51.txt',\n",
        " '4_52.txt',\n",
        " '4_53.txt',\n",
        " '4_54.txt',\n",
        " '4_55.txt',\n",
        " '4_56.txt',\n",
        " '4_57.txt',\n",
        " '4_58.txt',\n",
        " '4_59.txt',\n",
        " '4_6.txt',\n",
        " '4_60.txt',\n",
        " '4_61.txt',\n",
        " '4_62.txt',\n",
        " '4_63.txt',\n",
        " '4_64.txt',\n",
        " '4_65.txt',\n",
        " '4_66.txt',\n",
        " '4_67.txt',\n",
        " '4_68.txt',\n",
        " '4_69.txt',\n",
        " '4_7.txt',\n",
        " '4_70.txt',\n",
        " '4_71.txt',\n",
        " '4_72.txt',\n",
        " '4_73.txt',\n",
        " '4_74.txt',\n",
        " '4_75.txt',\n",
        " '4_76.txt',\n",
        " '4_77.txt',\n",
        " '4_78.txt',\n",
        " '4_79.txt',\n",
        " '4_8.txt',\n",
        " '4_80.txt',\n",
        " '4_81.txt',\n",
        " '4_82.txt',\n",
        " '4_83.txt',\n",
        " '4_84.txt',\n",
        " '4_85.txt',\n",
        " '4_86.txt',\n",
        " '4_87.txt',\n",
        " '4_88.txt',\n",
        " '4_89.txt',\n",
        " '4_9.txt',\n",
        " '4_90.txt',\n",
        " '4_91.txt',\n",
        " '4_92.txt',\n",
        " '4_93.txt',\n",
        " '4_94.txt',\n",
        " '4_95.txt',\n",
        " '4_96.txt',\n",
        " '4_97.txt',\n",
        " '4_98.txt',\n",
        " '4_99.txt',\n",
        " '5_0.txt',\n",
        " '5_1.txt',\n",
        " '5_10.txt',\n",
        " '5_100.txt',\n",
        " '5_101.txt',\n",
        " '5_102.txt',\n",
        " '5_103.txt',\n",
        " '5_104.txt',\n",
        " '5_105.txt',\n",
        " '5_106.txt',\n",
        " '5_107.txt',\n",
        " '5_108.txt',\n",
        " '5_109.txt',\n",
        " '5_11.txt',\n",
        " '5_110.txt',\n",
        " '5_111.txt',\n",
        " '5_112.txt',\n",
        " '5_113.txt',\n",
        " '5_114.txt',\n",
        " '5_115.txt',\n",
        " '5_116.txt',\n",
        " '5_117.txt',\n",
        " '5_118.txt',\n",
        " '5_119.txt',\n",
        " '5_12.txt',\n",
        " '5_120.txt',\n",
        " '5_121.txt',\n",
        " '5_122.txt',\n",
        " '5_123.txt',\n",
        " '5_124.txt',\n",
        " '5_125.txt',\n",
        " '5_126.txt',\n",
        " '5_127.txt',\n",
        " '5_128.txt',\n",
        " '5_129.txt',\n",
        " '5_13.txt',\n",
        " '5_130.txt',\n",
        " '5_131.txt',\n",
        " '5_132.txt',\n",
        " '5_133.txt',\n",
        " '5_134.txt',\n",
        " '5_135.txt',\n",
        " '5_136.txt',\n",
        " '5_137.txt',\n",
        " '5_138.txt',\n",
        " '5_139.txt',\n",
        " '5_14.txt',\n",
        " '5_140.txt',\n",
        " '5_141.txt',\n",
        " '5_142.txt',\n",
        " '5_143.txt',\n",
        " '5_144.txt',\n",
        " '5_145.txt',\n",
        " '5_146.txt',\n",
        " '5_147.txt',\n",
        " '5_148.txt',\n",
        " '5_149.txt',\n",
        " '5_15.txt',\n",
        " '5_150.txt',\n",
        " '5_151.txt',\n",
        " '5_152.txt',\n",
        " '5_153.txt',\n",
        " '5_154.txt',\n",
        " '5_155.txt',\n",
        " '5_156.txt',\n",
        " '5_157.txt',\n",
        " '5_158.txt',\n",
        " '5_159.txt',\n",
        " '5_16.txt',\n",
        " '5_160.txt',\n",
        " '5_161.txt',\n",
        " '5_162.txt',\n",
        " '5_163.txt',\n",
        " '5_164.txt',\n",
        " '5_165.txt',\n",
        " '5_166.txt',\n",
        " '5_167.txt',\n",
        " '5_168.txt',\n",
        " '5_169.txt',\n",
        " '5_17.txt',\n",
        " '5_170.txt',\n",
        " '5_171.txt',\n",
        " '5_172.txt',\n",
        " '5_173.txt',\n",
        " '5_174.txt',\n",
        " '5_175.txt',\n",
        " '5_176.txt',\n",
        " '5_177.txt',\n",
        " '5_178.txt',\n",
        " '5_179.txt',\n",
        " '5_18.txt',\n",
        " '5_180.txt',\n",
        " '5_181.txt',\n",
        " '5_182.txt',\n",
        " '5_183.txt',\n",
        " '5_184.txt',\n",
        " '5_185.txt',\n",
        " '5_186.txt',\n",
        " '5_19.txt',\n",
        " '5_2.txt',\n",
        " '5_20.txt',\n",
        " '5_21.txt',\n",
        " '5_22.txt',\n",
        " '5_23.txt',\n",
        " '5_24.txt',\n",
        " '5_25.txt',\n",
        " '5_26.txt',\n",
        " '5_27.txt',\n",
        " '5_28.txt',\n",
        " '5_29.txt',\n",
        " '5_3.txt',\n",
        " '5_30.txt',\n",
        " '5_31.txt',\n",
        " '5_32.txt',\n",
        " '5_33.txt',\n",
        " '5_34.txt',\n",
        " '5_35.txt',\n",
        " '5_36.txt',\n",
        " '5_37.txt',\n",
        " '5_38.txt',\n",
        " '5_39.txt',\n",
        " '5_4.txt',\n",
        " '5_40.txt',\n",
        " '5_41.txt',\n",
        " '5_42.txt',\n",
        " '5_43.txt',\n",
        " '5_44.txt',\n",
        " '5_45.txt',\n",
        " '5_46.txt',\n",
        " '5_47.txt',\n",
        " '5_48.txt',\n",
        " '5_49.txt',\n",
        " '5_5.txt',\n",
        " '5_50.txt',\n",
        " '5_51.txt',\n",
        " '5_52.txt',\n",
        " '5_53.txt',\n",
        " '5_54.txt',\n",
        " '5_55.txt',\n",
        " '5_56.txt',\n",
        " '5_57.txt',\n",
        " '5_58.txt',\n",
        " '5_59.txt',\n",
        " '5_6.txt',\n",
        " '5_60.txt',\n",
        " '5_61.txt',\n",
        " '5_62.txt',\n",
        " '5_63.txt',\n",
        " '5_64.txt',\n",
        " '5_65.txt',\n",
        " '5_66.txt',\n",
        " '5_67.txt',\n",
        " '5_68.txt',\n",
        " '5_69.txt',\n",
        " '5_7.txt',\n",
        " '5_70.txt',\n",
        " '5_71.txt',\n",
        " '5_72.txt',\n",
        " '5_73.txt',\n",
        " '5_74.txt',\n",
        " '5_75.txt',\n",
        " '5_76.txt',\n",
        " '5_77.txt',\n",
        " '5_78.txt',\n",
        " '5_79.txt',\n",
        " '5_8.txt',\n",
        " '5_80.txt',\n",
        " '5_81.txt',\n",
        " '5_82.txt',\n",
        " '5_83.txt',\n",
        " '5_84.txt',\n",
        " '5_85.txt',\n",
        " '5_86.txt',\n",
        " '5_87.txt',\n",
        " '5_88.txt',\n",
        " '5_89.txt',\n",
        " '5_9.txt',\n",
        " '5_90.txt',\n",
        " '5_91.txt',\n",
        " '5_92.txt',\n",
        " '5_93.txt',\n",
        " '5_94.txt',\n",
        " '5_95.txt',\n",
        " '5_96.txt',\n",
        " '5_97.txt',\n",
        " '5_98.txt',\n",
        " '5_99.txt',\n",
        " '6_0.txt',\n",
        " '6_1.txt',\n",
        " '6_10.txt',\n",
        " '6_100.txt',\n",
        " '6_101.txt',\n",
        " '6_102.txt',\n",
        " '6_103.txt',\n",
        " '6_104.txt',\n",
        " '6_105.txt',\n",
        " '6_106.txt',\n",
        " '6_107.txt',\n",
        " '6_108.txt',\n",
        " '6_109.txt',\n",
        " '6_11.txt',\n",
        " '6_110.txt',\n",
        " '6_111.txt',\n",
        " '6_112.txt',\n",
        " '6_113.txt',\n",
        " '6_114.txt',\n",
        " '6_115.txt',\n",
        " '6_116.txt',\n",
        " '6_117.txt',\n",
        " '6_118.txt',\n",
        " '6_119.txt',\n",
        " '6_12.txt',\n",
        " '6_120.txt',\n",
        " '6_121.txt',\n",
        " '6_122.txt',\n",
        " '6_123.txt',\n",
        " '6_124.txt',\n",
        " '6_125.txt',\n",
        " '6_126.txt',\n",
        " '6_127.txt',\n",
        " '6_128.txt',\n",
        " '6_129.txt',\n",
        " '6_13.txt',\n",
        " '6_130.txt',\n",
        " '6_131.txt',\n",
        " '6_132.txt',\n",
        " '6_133.txt',\n",
        " '6_134.txt',\n",
        " '6_135.txt',\n",
        " '6_136.txt',\n",
        " '6_137.txt',\n",
        " '6_138.txt',\n",
        " '6_139.txt',\n",
        " '6_14.txt',\n",
        " '6_140.txt',\n",
        " '6_141.txt',\n",
        " '6_142.txt',\n",
        " '6_143.txt',\n",
        " '6_144.txt',\n",
        " '6_145.txt',\n",
        " '6_146.txt',\n",
        " '6_147.txt',\n",
        " '6_148.txt',\n",
        " '6_149.txt',\n",
        " '6_15.txt',\n",
        " '6_150.txt',\n",
        " '6_151.txt',\n",
        " '6_152.txt',\n",
        " '6_153.txt',\n",
        " '6_154.txt',\n",
        " '6_155.txt',\n",
        " '6_156.txt',\n",
        " '6_157.txt',\n",
        " '6_158.txt',\n",
        " '6_159.txt',\n",
        " '6_16.txt',\n",
        " '6_160.txt',\n",
        " '6_161.txt',\n",
        " '6_162.txt',\n",
        " '6_163.txt',\n",
        " '6_164.txt',\n",
        " '6_165.txt',\n",
        " '6_166.txt',\n",
        " '6_167.txt',\n",
        " '6_168.txt',\n",
        " '6_169.txt',\n",
        " '6_17.txt',\n",
        " '6_170.txt',\n",
        " '6_171.txt',\n",
        " '6_172.txt',\n",
        " '6_173.txt',\n",
        " '6_174.txt',\n",
        " '6_175.txt',\n",
        " '6_176.txt',\n",
        " '6_177.txt',\n",
        " '6_178.txt',\n",
        " '6_179.txt',\n",
        " '6_18.txt',\n",
        " '6_180.txt',\n",
        " '6_181.txt',\n",
        " '6_182.txt',\n",
        " '6_183.txt',\n",
        " '6_184.txt',\n",
        " '6_185.txt',\n",
        " '6_186.txt',\n",
        " '6_187.txt',\n",
        " '6_188.txt',\n",
        " '6_189.txt',\n",
        " '6_19.txt',\n",
        " '6_190.txt',\n",
        " '6_191.txt',\n",
        " '6_192.txt',\n",
        " '6_193.txt',\n",
        " '6_194.txt',\n",
        " '6_2.txt',\n",
        " '6_20.txt',\n",
        " '6_21.txt',\n",
        " '6_22.txt',\n",
        " '6_23.txt',\n",
        " '6_24.txt',\n",
        " '6_25.txt',\n",
        " '6_26.txt',\n",
        " '6_27.txt',\n",
        " '6_28.txt',\n",
        " '6_29.txt',\n",
        " '6_3.txt',\n",
        " '6_30.txt',\n",
        " '6_31.txt',\n",
        " '6_32.txt',\n",
        " '6_33.txt',\n",
        " '6_34.txt',\n",
        " '6_35.txt',\n",
        " '6_36.txt',\n",
        " '6_37.txt',\n",
        " '6_38.txt',\n",
        " '6_39.txt',\n",
        " '6_4.txt',\n",
        " '6_40.txt',\n",
        " '6_41.txt',\n",
        " '6_42.txt',\n",
        " '6_43.txt',\n",
        " '6_44.txt',\n",
        " '6_45.txt',\n",
        " '6_46.txt',\n",
        " '6_47.txt',\n",
        " '6_48.txt',\n",
        " '6_49.txt',\n",
        " '6_5.txt',\n",
        " '6_50.txt',\n",
        " '6_51.txt',\n",
        " '6_52.txt',\n",
        " '6_53.txt',\n",
        " '6_54.txt',\n",
        " '6_55.txt',\n",
        " '6_56.txt',\n",
        " '6_57.txt',\n",
        " '6_58.txt',\n",
        " '6_59.txt',\n",
        " '6_6.txt',\n",
        " '6_60.txt',\n",
        " '6_61.txt',\n",
        " '6_62.txt',\n",
        " '6_63.txt',\n",
        " '6_64.txt',\n",
        " '6_65.txt',\n",
        " '6_66.txt',\n",
        " '6_67.txt',\n",
        " '6_68.txt',\n",
        " '6_69.txt',\n",
        " '6_7.txt',\n",
        " '6_70.txt',\n",
        " '6_71.txt',\n",
        " '6_72.txt',\n",
        " '6_73.txt',\n",
        " '6_74.txt',\n",
        " '6_75.txt',\n",
        " '6_76.txt',\n",
        " '6_77.txt',\n",
        " '6_78.txt',\n",
        " '6_79.txt',\n",
        " '6_8.txt',\n",
        " '6_80.txt',\n",
        " '6_81.txt',\n",
        " '6_82.txt',\n",
        " '6_83.txt',\n",
        " '6_84.txt',\n",
        " '6_85.txt',\n",
        " '6_86.txt',\n",
        " '6_87.txt',\n",
        " '6_88.txt',\n",
        " '6_89.txt',\n",
        " '6_9.txt',\n",
        " '6_90.txt',\n",
        " '6_91.txt',\n",
        " '6_92.txt',\n",
        " '6_93.txt',\n",
        " '6_94.txt',\n",
        " '6_95.txt',\n",
        " '6_96.txt',\n",
        " '6_97.txt',\n",
        " '6_98.txt',\n",
        " '6_99.txt',\n",
        " '7_0.txt',\n",
        " '7_1.txt',\n",
        " '7_10.txt',\n",
        " '7_100.txt',\n",
        " '7_101.txt',\n",
        " '7_102.txt',\n",
        " '7_103.txt',\n",
        " '7_104.txt',\n",
        " '7_105.txt',\n",
        " '7_106.txt',\n",
        " '7_107.txt',\n",
        " '7_108.txt',\n",
        " '7_109.txt',\n",
        " '7_11.txt',\n",
        " '7_110.txt',\n",
        " '7_111.txt',\n",
        " '7_112.txt',\n",
        " '7_113.txt',\n",
        " '7_114.txt',\n",
        " '7_115.txt',\n",
        " '7_116.txt',\n",
        " '7_117.txt',\n",
        " '7_118.txt',\n",
        " '7_119.txt',\n",
        " '7_12.txt',\n",
        " '7_120.txt',\n",
        " '7_121.txt',\n",
        " '7_122.txt',\n",
        " '7_123.txt',\n",
        " '7_124.txt',\n",
        " '7_125.txt',\n",
        " '7_126.txt',\n",
        " '7_127.txt',\n",
        " '7_128.txt',\n",
        " '7_129.txt',\n",
        " '7_13.txt',\n",
        " '7_130.txt',\n",
        " '7_131.txt',\n",
        " '7_132.txt',\n",
        " '7_133.txt',\n",
        " '7_134.txt',\n",
        " '7_135.txt',\n",
        " '7_136.txt',\n",
        " '7_137.txt',\n",
        " '7_138.txt',\n",
        " '7_139.txt',\n",
        " '7_14.txt',\n",
        " '7_140.txt',\n",
        " '7_141.txt',\n",
        " '7_142.txt',\n",
        " '7_143.txt',\n",
        " '7_144.txt',\n",
        " '7_145.txt',\n",
        " '7_146.txt',\n",
        " '7_147.txt',\n",
        " '7_148.txt',\n",
        " '7_149.txt',\n",
        " '7_15.txt',\n",
        " '7_150.txt',\n",
        " '7_151.txt',\n",
        " '7_152.txt',\n",
        " '7_153.txt',\n",
        " '7_154.txt',\n",
        " '7_155.txt',\n",
        " '7_156.txt',\n",
        " '7_157.txt',\n",
        " '7_158.txt',\n",
        " '7_159.txt',\n",
        " '7_16.txt',\n",
        " '7_160.txt',\n",
        " '7_161.txt',\n",
        " '7_162.txt',\n",
        " '7_163.txt',\n",
        " '7_164.txt',\n",
        " '7_165.txt',\n",
        " '7_166.txt',\n",
        " '7_167.txt',\n",
        " '7_168.txt',\n",
        " '7_169.txt',\n",
        " '7_17.txt',\n",
        " '7_170.txt',\n",
        " '7_171.txt',\n",
        " '7_172.txt',\n",
        " '7_173.txt',\n",
        " '7_174.txt',\n",
        " '7_175.txt',\n",
        " '7_176.txt',\n",
        " '7_177.txt',\n",
        " '7_178.txt',\n",
        " '7_179.txt',\n",
        " '7_18.txt',\n",
        " '7_180.txt',\n",
        " '7_181.txt',\n",
        " '7_182.txt',\n",
        " '7_183.txt',\n",
        " '7_184.txt',\n",
        " '7_185.txt',\n",
        " '7_186.txt',\n",
        " '7_187.txt',\n",
        " '7_188.txt',\n",
        " '7_189.txt',\n",
        " '7_19.txt',\n",
        " '7_190.txt',\n",
        " '7_191.txt',\n",
        " '7_192.txt',\n",
        " '7_193.txt',\n",
        " '7_194.txt',\n",
        " '7_195.txt',\n",
        " '7_196.txt',\n",
        " '7_197.txt',\n",
        " '7_198.txt',\n",
        " '7_199.txt',\n",
        " '7_2.txt',\n",
        " '7_20.txt',\n",
        " '7_200.txt',\n",
        " '7_21.txt',\n",
        " '7_22.txt',\n",
        " '7_23.txt',\n",
        " '7_24.txt',\n",
        " '7_25.txt',\n",
        " '7_26.txt',\n",
        " '7_27.txt',\n",
        " '7_28.txt',\n",
        " '7_29.txt',\n",
        " '7_3.txt',\n",
        " '7_30.txt',\n",
        " '7_31.txt',\n",
        " '7_32.txt',\n",
        " '7_33.txt',\n",
        " '7_34.txt',\n",
        " '7_35.txt',\n",
        " '7_36.txt',\n",
        " '7_37.txt',\n",
        " '7_38.txt',\n",
        " '7_39.txt',\n",
        " '7_4.txt',\n",
        " '7_40.txt',\n",
        " '7_41.txt',\n",
        " '7_42.txt',\n",
        " '7_43.txt',\n",
        " '7_44.txt',\n",
        " '7_45.txt',\n",
        " '7_46.txt',\n",
        " '7_47.txt',\n",
        " '7_48.txt',\n",
        " '7_49.txt',\n",
        " '7_5.txt',\n",
        " '7_50.txt',\n",
        " '7_51.txt',\n",
        " '7_52.txt',\n",
        " '7_53.txt',\n",
        " '7_54.txt',\n",
        " '7_55.txt',\n",
        " '7_56.txt',\n",
        " '7_57.txt',\n",
        " '7_58.txt',\n",
        " '7_59.txt',\n",
        " '7_6.txt',\n",
        " '7_60.txt',\n",
        " '7_61.txt',\n",
        " '7_62.txt',\n",
        " '7_63.txt',\n",
        " '7_64.txt',\n",
        " '7_65.txt',\n",
        " '7_66.txt',\n",
        " '7_67.txt',\n",
        " '7_68.txt',\n",
        " '7_69.txt',\n",
        " '7_7.txt',\n",
        " '7_70.txt',\n",
        " '7_71.txt',\n",
        " '7_72.txt',\n",
        " '7_73.txt',\n",
        " '7_74.txt',\n",
        " '7_75.txt',\n",
        " '7_76.txt',\n",
        " '7_77.txt',\n",
        " '7_78.txt',\n",
        " '7_79.txt',\n",
        " '7_8.txt',\n",
        " '7_80.txt',\n",
        " '7_81.txt',\n",
        " '7_82.txt',\n",
        " '7_83.txt',\n",
        " '7_84.txt',\n",
        " '7_85.txt',\n",
        " '7_86.txt',\n",
        " '7_87.txt',\n",
        " '7_88.txt',\n",
        " '7_89.txt',\n",
        " '7_9.txt',\n",
        " '7_90.txt',\n",
        " '7_91.txt',\n",
        " '7_92.txt',\n",
        " '7_93.txt',\n",
        " '7_94.txt',\n",
        " '7_95.txt',\n",
        " '7_96.txt',\n",
        " '7_97.txt',\n",
        " '7_98.txt',\n",
        " '7_99.txt',\n",
        " '8_0.txt',\n",
        " '8_1.txt',\n",
        " '8_10.txt',\n",
        " '8_100.txt',\n",
        " '8_101.txt',\n",
        " '8_102.txt',\n",
        " '8_103.txt',\n",
        " '8_104.txt',\n",
        " '8_105.txt',\n",
        " '8_106.txt',\n",
        " '8_107.txt',\n",
        " '8_108.txt',\n",
        " '8_109.txt',\n",
        " '8_11.txt',\n",
        " '8_110.txt',\n",
        " '8_111.txt',\n",
        " '8_112.txt',\n",
        " '8_113.txt',\n",
        " '8_114.txt',\n",
        " '8_115.txt',\n",
        " '8_116.txt',\n",
        " '8_117.txt',\n",
        " '8_118.txt',\n",
        " '8_119.txt',\n",
        " '8_12.txt',\n",
        " '8_120.txt',\n",
        " '8_121.txt',\n",
        " '8_122.txt',\n",
        " '8_123.txt',\n",
        " '8_124.txt',\n",
        " '8_125.txt',\n",
        " '8_126.txt',\n",
        " '8_127.txt',\n",
        " '8_128.txt',\n",
        " '8_129.txt',\n",
        " '8_13.txt',\n",
        " '8_130.txt',\n",
        " '8_131.txt',\n",
        " '8_132.txt',\n",
        " '8_133.txt',\n",
        " '8_134.txt',\n",
        " '8_135.txt',\n",
        " '8_136.txt',\n",
        " '8_137.txt',\n",
        " '8_138.txt',\n",
        " '8_139.txt',\n",
        " '8_14.txt',\n",
        " '8_140.txt',\n",
        " '8_141.txt',\n",
        " '8_142.txt',\n",
        " '8_143.txt',\n",
        " '8_144.txt',\n",
        " '8_145.txt',\n",
        " '8_146.txt',\n",
        " '8_147.txt',\n",
        " '8_148.txt',\n",
        " '8_149.txt',\n",
        " '8_15.txt',\n",
        " '8_150.txt',\n",
        " '8_151.txt',\n",
        " '8_152.txt',\n",
        " '8_153.txt',\n",
        " '8_154.txt',\n",
        " '8_155.txt',\n",
        " '8_156.txt',\n",
        " '8_157.txt',\n",
        " '8_158.txt',\n",
        " '8_159.txt',\n",
        " '8_16.txt',\n",
        " '8_160.txt',\n",
        " '8_161.txt',\n",
        " '8_162.txt',\n",
        " '8_163.txt',\n",
        " '8_164.txt',\n",
        " '8_165.txt',\n",
        " '8_166.txt',\n",
        " '8_167.txt',\n",
        " '8_168.txt',\n",
        " '8_169.txt',\n",
        " '8_17.txt',\n",
        " '8_170.txt',\n",
        " '8_171.txt',\n",
        " '8_172.txt',\n",
        " '8_173.txt',\n",
        " '8_174.txt',\n",
        " '8_175.txt',\n",
        " '8_176.txt',\n",
        " '8_177.txt',\n",
        " '8_178.txt',\n",
        " '8_179.txt',\n",
        " '8_18.txt',\n",
        " '8_19.txt',\n",
        " '8_2.txt',\n",
        " '8_20.txt',\n",
        " '8_21.txt',\n",
        " '8_22.txt',\n",
        " '8_23.txt',\n",
        " '8_24.txt',\n",
        " '8_25.txt',\n",
        " '8_26.txt',\n",
        " '8_27.txt',\n",
        " '8_28.txt',\n",
        " '8_29.txt',\n",
        " '8_3.txt',\n",
        " '8_30.txt',\n",
        " '8_31.txt',\n",
        " '8_32.txt',\n",
        " '8_33.txt',\n",
        " '8_34.txt',\n",
        " '8_35.txt',\n",
        " '8_36.txt',\n",
        " '8_37.txt',\n",
        " '8_38.txt',\n",
        " '8_39.txt',\n",
        " '8_4.txt',\n",
        " '8_40.txt',\n",
        " '8_41.txt',\n",
        " '8_42.txt',\n",
        " '8_43.txt',\n",
        " '8_44.txt',\n",
        " '8_45.txt',\n",
        " '8_46.txt',\n",
        " '8_47.txt',\n",
        " '8_48.txt',\n",
        " '8_49.txt',\n",
        " '8_5.txt',\n",
        " '8_50.txt',\n",
        " '8_51.txt',\n",
        " '8_52.txt',\n",
        " '8_53.txt',\n",
        " '8_54.txt',\n",
        " '8_55.txt',\n",
        " '8_56.txt',\n",
        " '8_57.txt',\n",
        " '8_58.txt',\n",
        " '8_59.txt',\n",
        " '8_6.txt',\n",
        " '8_60.txt',\n",
        " '8_61.txt',\n",
        " '8_62.txt',\n",
        " '8_63.txt',\n",
        " '8_64.txt',\n",
        " '8_65.txt',\n",
        " '8_66.txt',\n",
        " '8_67.txt',\n",
        " '8_68.txt',\n",
        " '8_69.txt',\n",
        " '8_7.txt',\n",
        " '8_70.txt',\n",
        " '8_71.txt',\n",
        " '8_72.txt',\n",
        " '8_73.txt',\n",
        " '8_74.txt',\n",
        " '8_75.txt',\n",
        " '8_76.txt',\n",
        " '8_77.txt',\n",
        " '8_78.txt',\n",
        " '8_79.txt',\n",
        " '8_8.txt',\n",
        " '8_80.txt',\n",
        " '8_81.txt',\n",
        " '8_82.txt',\n",
        " '8_83.txt',\n",
        " '8_84.txt',\n",
        " '8_85.txt',\n",
        " '8_86.txt',\n",
        " '8_87.txt',\n",
        " '8_88.txt',\n",
        " '8_89.txt',\n",
        " '8_9.txt',\n",
        " '8_90.txt',\n",
        " '8_91.txt',\n",
        " '8_92.txt',\n",
        " '8_93.txt',\n",
        " '8_94.txt',\n",
        " '8_95.txt',\n",
        " '8_96.txt',\n",
        " '8_97.txt',\n",
        " '8_98.txt',\n",
        " '8_99.txt',\n",
        " '9_0.txt',\n",
        " '9_1.txt',\n",
        " '9_10.txt',\n",
        " '9_100.txt',\n",
        " '9_101.txt',\n",
        " '9_102.txt',\n",
        " '9_103.txt',\n",
        " '9_104.txt',\n",
        " '9_105.txt',\n",
        " '9_106.txt',\n",
        " '9_107.txt',\n",
        " '9_108.txt',\n",
        " '9_109.txt',\n",
        " '9_11.txt',\n",
        " '9_110.txt',\n",
        " '9_111.txt',\n",
        " '9_112.txt',\n",
        " '9_113.txt',\n",
        " '9_114.txt',\n",
        " '9_115.txt',\n",
        " '9_116.txt',\n",
        " '9_117.txt',\n",
        " '9_118.txt',\n",
        " '9_119.txt',\n",
        " '9_12.txt',\n",
        " '9_120.txt',\n",
        " '9_121.txt',\n",
        " '9_122.txt',\n",
        " '9_123.txt',\n",
        " '9_124.txt',\n",
        " '9_125.txt',\n",
        " '9_126.txt',\n",
        " '9_127.txt',\n",
        " '9_128.txt',\n",
        " '9_129.txt',\n",
        " '9_13.txt',\n",
        " '9_130.txt',\n",
        " '9_131.txt',\n",
        " '9_132.txt',\n",
        " '9_133.txt',\n",
        " '9_134.txt',\n",
        " '9_135.txt',\n",
        " '9_136.txt',\n",
        " '9_137.txt',\n",
        " '9_138.txt',\n",
        " '9_139.txt',\n",
        " '9_14.txt',\n",
        " '9_140.txt',\n",
        " '9_141.txt',\n",
        " '9_142.txt',\n",
        " '9_143.txt',\n",
        " '9_144.txt',\n",
        " '9_145.txt',\n",
        " '9_146.txt',\n",
        " '9_147.txt',\n",
        " '9_148.txt',\n",
        " '9_149.txt',\n",
        " '9_15.txt',\n",
        " '9_150.txt',\n",
        " '9_151.txt',\n",
        " '9_152.txt',\n",
        " '9_153.txt',\n",
        " '9_154.txt',\n",
        " '9_155.txt',\n",
        " '9_156.txt',\n",
        " '9_157.txt',\n",
        " '9_158.txt',\n",
        " '9_159.txt',\n",
        " '9_16.txt',\n",
        " '9_160.txt',\n",
        " '9_161.txt',\n",
        " '9_162.txt',\n",
        " '9_163.txt',\n",
        " '9_164.txt',\n",
        " '9_165.txt',\n",
        " '9_166.txt',\n",
        " '9_167.txt',\n",
        " '9_168.txt',\n",
        " '9_169.txt',\n",
        " '9_17.txt',\n",
        " '9_170.txt',\n",
        " '9_171.txt',\n",
        " '9_172.txt',\n",
        " '9_173.txt',\n",
        " '9_174.txt',\n",
        " '9_175.txt',\n",
        " '9_176.txt',\n",
        " '9_177.txt',\n",
        " '9_178.txt',\n",
        " '9_179.txt',\n",
        " '9_18.txt',\n",
        " '9_180.txt',\n",
        " '9_181.txt',\n",
        " '9_182.txt',\n",
        " '9_183.txt',\n",
        " '9_184.txt',\n",
        " '9_185.txt',\n",
        " '9_186.txt',\n",
        " '9_187.txt',\n",
        " '9_188.txt',\n",
        " '9_189.txt',\n",
        " '9_19.txt',\n",
        " '9_190.txt',\n",
        " '9_191.txt',\n",
        " '9_192.txt',\n",
        " '9_193.txt',\n",
        " '9_194.txt',\n",
        " '9_195.txt',\n",
        " '9_196.txt',\n",
        " '9_197.txt',\n",
        " '9_198.txt',\n",
        " '9_199.txt',\n",
        " '9_2.txt',\n",
        " '9_20.txt',\n",
        " '9_200.txt',\n",
        " '9_201.txt',\n",
        " '9_202.txt',\n",
        " '9_203.txt',\n",
        " '9_21.txt',\n",
        " '9_22.txt',\n",
        " '9_23.txt',\n",
        " '9_24.txt',\n",
        " '9_25.txt',\n",
        " '9_26.txt',\n",
        " '9_27.txt',\n",
        " '9_28.txt',\n",
        " '9_29.txt',\n",
        " '9_3.txt',\n",
        " '9_30.txt',\n",
        " '9_31.txt',\n",
        " '9_32.txt',\n",
        " '9_33.txt',\n",
        " '9_34.txt',\n",
        " '9_35.txt',\n",
        " '9_36.txt',\n",
        " '9_37.txt',\n",
        " '9_38.txt',\n",
        " '9_39.txt',\n",
        " '9_4.txt',\n",
        " '9_40.txt',\n",
        " '9_41.txt',\n",
        " '9_42.txt',\n",
        " '9_43.txt',\n",
        " '9_44.txt',\n",
        " '9_45.txt',\n",
        " '9_46.txt',\n",
        " '9_47.txt',\n",
        " '9_48.txt',\n",
        " '9_49.txt',\n",
        " '9_5.txt',\n",
        " '9_50.txt',\n",
        " '9_51.txt',\n",
        " '9_52.txt',\n",
        " '9_53.txt',\n",
        " '9_54.txt',\n",
        " '9_55.txt',\n",
        " '9_56.txt',\n",
        " '9_57.txt',\n",
        " '9_58.txt',\n",
        " '9_59.txt',\n",
        " '9_6.txt',\n",
        " '9_60.txt',\n",
        " '9_61.txt',\n",
        " '9_62.txt',\n",
        " '9_63.txt',\n",
        " '9_64.txt',\n",
        " '9_65.txt',\n",
        " '9_66.txt',\n",
        " '9_67.txt',\n",
        " '9_68.txt',\n",
        " '9_69.txt',\n",
        " '9_7.txt',\n",
        " '9_70.txt',\n",
        " '9_71.txt',\n",
        " '9_72.txt',\n",
        " '9_73.txt',\n",
        " '9_74.txt',\n",
        " '9_75.txt',\n",
        " '9_76.txt',\n",
        " '9_77.txt',\n",
        " '9_78.txt',\n",
        " '9_79.txt',\n",
        " '9_8.txt',\n",
        " '9_80.txt',\n",
        " '9_81.txt',\n",
        " '9_82.txt',\n",
        " '9_83.txt',\n",
        " '9_84.txt',\n",
        " '9_85.txt',\n",
        " '9_86.txt',\n",
        " '9_87.txt',\n",
        " '9_88.txt',\n",
        " '9_89.txt',\n",
        " '9_9.txt',\n",
        " '9_90.txt',\n",
        " '9_91.txt',\n",
        " '9_92.txt',\n",
        " '9_93.txt',\n",
        " '9_94.txt',\n",
        " '9_95.txt',\n",
        " '9_96.txt',\n",
        " '9_97.txt',\n",
        " '9_98.txt',\n",
        " '9_99.txt']"
       ]
      }
     ],
     "prompt_number": 21
    },
    {
     "cell_type": "code",
     "collapsed": false,
     "input": [
      "handwritingClassTest()"
     ],
     "language": "python",
     "metadata": {},
     "outputs": [
      {
       "output_type": "stream",
       "stream": "stdout",
       "text": [
        "the classifier came back with: 0, the real answer is: 0\n",
        "the classifier came back with: 0, the real answer is: 0"
       ]
      },
      {
       "output_type": "stream",
       "stream": "stdout",
       "text": [
        "\n",
        "the classifier came back with: 0, the real answer is: 0"
       ]
      },
      {
       "output_type": "stream",
       "stream": "stdout",
       "text": [
        "\n",
        "the classifier came back with: 0, the real answer is: 0"
       ]
      },
      {
       "output_type": "stream",
       "stream": "stdout",
       "text": [
        "\n",
        "the classifier came back with: 0, the real answer is: 0"
       ]
      },
      {
       "output_type": "stream",
       "stream": "stdout",
       "text": [
        "\n",
        "the classifier came back with: 0, the real answer is: 0"
       ]
      },
      {
       "output_type": "stream",
       "stream": "stdout",
       "text": [
        "\n",
        "the classifier came back with: 0, the real answer is: 0"
       ]
      },
      {
       "output_type": "stream",
       "stream": "stdout",
       "text": [
        "\n",
        "the classifier came back with: 0, the real answer is: 0"
       ]
      },
      {
       "output_type": "stream",
       "stream": "stdout",
       "text": [
        "\n",
        "the classifier came back with: 0, the real answer is: 0"
       ]
      },
      {
       "output_type": "stream",
       "stream": "stdout",
       "text": [
        "\n",
        "the classifier came back with: 0, the real answer is: 0"
       ]
      },
      {
       "output_type": "stream",
       "stream": "stdout",
       "text": [
        "\n",
        "the classifier came back with: 0, the real answer is: 0"
       ]
      },
      {
       "output_type": "stream",
       "stream": "stdout",
       "text": [
        "\n",
        "the classifier came back with: 0, the real answer is: 0"
       ]
      },
      {
       "output_type": "stream",
       "stream": "stdout",
       "text": [
        "\n",
        "the classifier came back with: 0, the real answer is: 0"
       ]
      },
      {
       "output_type": "stream",
       "stream": "stdout",
       "text": [
        "\n",
        "the classifier came back with: 0, the real answer is: 0"
       ]
      },
      {
       "output_type": "stream",
       "stream": "stdout",
       "text": [
        "\n",
        "the classifier came back with: 0, the real answer is: 0"
       ]
      },
      {
       "output_type": "stream",
       "stream": "stdout",
       "text": [
        "\n",
        "the classifier came back with: 0, the real answer is: 0"
       ]
      },
      {
       "output_type": "stream",
       "stream": "stdout",
       "text": [
        "\n",
        "the classifier came back with: 0, the real answer is: 0"
       ]
      },
      {
       "output_type": "stream",
       "stream": "stdout",
       "text": [
        "\n",
        "the classifier came back with: 0, the real answer is: 0"
       ]
      },
      {
       "output_type": "stream",
       "stream": "stdout",
       "text": [
        "\n",
        "the classifier came back with: 0, the real answer is: 0"
       ]
      },
      {
       "output_type": "stream",
       "stream": "stdout",
       "text": [
        "\n",
        "the classifier came back with: 0, the real answer is: 0"
       ]
      },
      {
       "output_type": "stream",
       "stream": "stdout",
       "text": [
        "\n",
        "the classifier came back with: 0, the real answer is: 0"
       ]
      },
      {
       "output_type": "stream",
       "stream": "stdout",
       "text": [
        "\n",
        "the classifier came back with: 0, the real answer is: 0"
       ]
      },
      {
       "output_type": "stream",
       "stream": "stdout",
       "text": [
        "\n",
        "the classifier came back with: 0, the real answer is: 0"
       ]
      },
      {
       "output_type": "stream",
       "stream": "stdout",
       "text": [
        "\n",
        "the classifier came back with: 0, the real answer is: 0"
       ]
      },
      {
       "output_type": "stream",
       "stream": "stdout",
       "text": [
        "\n",
        "the classifier came back with: 0, the real answer is: 0"
       ]
      },
      {
       "output_type": "stream",
       "stream": "stdout",
       "text": [
        "\n",
        "the classifier came back with: 0, the real answer is: 0"
       ]
      },
      {
       "output_type": "stream",
       "stream": "stdout",
       "text": [
        "\n",
        "the classifier came back with: 0, the real answer is: 0"
       ]
      },
      {
       "output_type": "stream",
       "stream": "stdout",
       "text": [
        "\n",
        "the classifier came back with: 0, the real answer is: 0"
       ]
      },
      {
       "output_type": "stream",
       "stream": "stdout",
       "text": [
        "\n",
        "the classifier came back with: 0, the real answer is: 0"
       ]
      },
      {
       "output_type": "stream",
       "stream": "stdout",
       "text": [
        "\n",
        "the classifier came back with: 0, the real answer is: 0"
       ]
      },
      {
       "output_type": "stream",
       "stream": "stdout",
       "text": [
        "\n",
        "the classifier came back with: 0, the real answer is: 0"
       ]
      },
      {
       "output_type": "stream",
       "stream": "stdout",
       "text": [
        "\n",
        "the classifier came back with: 0, the real answer is: 0"
       ]
      },
      {
       "output_type": "stream",
       "stream": "stdout",
       "text": [
        "\n",
        "the classifier came back with: 0, the real answer is: 0"
       ]
      },
      {
       "output_type": "stream",
       "stream": "stdout",
       "text": [
        "\n",
        "the classifier came back with: 0, the real answer is: 0"
       ]
      },
      {
       "output_type": "stream",
       "stream": "stdout",
       "text": [
        "\n",
        "the classifier came back with: 0, the real answer is: 0"
       ]
      },
      {
       "output_type": "stream",
       "stream": "stdout",
       "text": [
        "\n",
        "the classifier came back with: 0, the real answer is: 0"
       ]
      },
      {
       "output_type": "stream",
       "stream": "stdout",
       "text": [
        "\n",
        "the classifier came back with: 0, the real answer is: 0"
       ]
      },
      {
       "output_type": "stream",
       "stream": "stdout",
       "text": [
        "\n",
        "the classifier came back with: 0, the real answer is: 0"
       ]
      },
      {
       "output_type": "stream",
       "stream": "stdout",
       "text": [
        "\n",
        "the classifier came back with: 0, the real answer is: 0"
       ]
      },
      {
       "output_type": "stream",
       "stream": "stdout",
       "text": [
        "\n",
        "the classifier came back with: 0, the real answer is: 0"
       ]
      },
      {
       "output_type": "stream",
       "stream": "stdout",
       "text": [
        "\n",
        "the classifier came back with: 0, the real answer is: 0"
       ]
      },
      {
       "output_type": "stream",
       "stream": "stdout",
       "text": [
        "\n",
        "the classifier came back with: 0, the real answer is: 0"
       ]
      },
      {
       "output_type": "stream",
       "stream": "stdout",
       "text": [
        "\n",
        "the classifier came back with: 0, the real answer is: 0"
       ]
      },
      {
       "output_type": "stream",
       "stream": "stdout",
       "text": [
        "\n",
        "the classifier came back with: 0, the real answer is: 0"
       ]
      },
      {
       "output_type": "stream",
       "stream": "stdout",
       "text": [
        "\n",
        "the classifier came back with: 0, the real answer is: 0"
       ]
      },
      {
       "output_type": "stream",
       "stream": "stdout",
       "text": [
        "\n",
        "the classifier came back with: 0, the real answer is: 0"
       ]
      },
      {
       "output_type": "stream",
       "stream": "stdout",
       "text": [
        "\n",
        "the classifier came back with: 0, the real answer is: 0"
       ]
      },
      {
       "output_type": "stream",
       "stream": "stdout",
       "text": [
        "\n",
        "the classifier came back with: 0, the real answer is: 0"
       ]
      },
      {
       "output_type": "stream",
       "stream": "stdout",
       "text": [
        "\n",
        "the classifier came back with: 0, the real answer is: 0"
       ]
      },
      {
       "output_type": "stream",
       "stream": "stdout",
       "text": [
        "\n",
        "the classifier came back with: 0, the real answer is: 0"
       ]
      },
      {
       "output_type": "stream",
       "stream": "stdout",
       "text": [
        "\n",
        "the classifier came back with: 0, the real answer is: 0"
       ]
      },
      {
       "output_type": "stream",
       "stream": "stdout",
       "text": [
        "\n",
        "the classifier came back with: 0, the real answer is: 0"
       ]
      },
      {
       "output_type": "stream",
       "stream": "stdout",
       "text": [
        "\n",
        "the classifier came back with: 0, the real answer is: 0"
       ]
      },
      {
       "output_type": "stream",
       "stream": "stdout",
       "text": [
        "\n",
        "the classifier came back with: 0, the real answer is: 0"
       ]
      },
      {
       "output_type": "stream",
       "stream": "stdout",
       "text": [
        "\n",
        "the classifier came back with: 0, the real answer is: 0"
       ]
      },
      {
       "output_type": "stream",
       "stream": "stdout",
       "text": [
        "\n",
        "the classifier came back with: 0, the real answer is: 0"
       ]
      },
      {
       "output_type": "stream",
       "stream": "stdout",
       "text": [
        "\n",
        "the classifier came back with: 0, the real answer is: 0"
       ]
      },
      {
       "output_type": "stream",
       "stream": "stdout",
       "text": [
        "\n",
        "the classifier came back with: 0, the real answer is: 0"
       ]
      },
      {
       "output_type": "stream",
       "stream": "stdout",
       "text": [
        "\n",
        "the classifier came back with: 0, the real answer is: 0"
       ]
      },
      {
       "output_type": "stream",
       "stream": "stdout",
       "text": [
        "\n",
        "the classifier came back with: 0, the real answer is: 0"
       ]
      },
      {
       "output_type": "stream",
       "stream": "stdout",
       "text": [
        "\n",
        "the classifier came back with: 0, the real answer is: 0"
       ]
      },
      {
       "output_type": "stream",
       "stream": "stdout",
       "text": [
        "\n",
        "the classifier came back with: 0, the real answer is: 0"
       ]
      },
      {
       "output_type": "stream",
       "stream": "stdout",
       "text": [
        "\n",
        "the classifier came back with: 0, the real answer is: 0"
       ]
      },
      {
       "output_type": "stream",
       "stream": "stdout",
       "text": [
        "\n",
        "the classifier came back with: 0, the real answer is: 0"
       ]
      },
      {
       "output_type": "stream",
       "stream": "stdout",
       "text": [
        "\n",
        "the classifier came back with: 0, the real answer is: 0"
       ]
      },
      {
       "output_type": "stream",
       "stream": "stdout",
       "text": [
        "\n",
        "the classifier came back with: 0, the real answer is: 0"
       ]
      },
      {
       "output_type": "stream",
       "stream": "stdout",
       "text": [
        "\n",
        "the classifier came back with: 0, the real answer is: 0"
       ]
      },
      {
       "output_type": "stream",
       "stream": "stdout",
       "text": [
        "\n",
        "the classifier came back with: 0, the real answer is: 0"
       ]
      },
      {
       "output_type": "stream",
       "stream": "stdout",
       "text": [
        "\n",
        "the classifier came back with: 0, the real answer is: 0"
       ]
      },
      {
       "output_type": "stream",
       "stream": "stdout",
       "text": [
        "\n",
        "the classifier came back with: 0, the real answer is: 0"
       ]
      },
      {
       "output_type": "stream",
       "stream": "stdout",
       "text": [
        "\n",
        "the classifier came back with: 0, the real answer is: 0"
       ]
      },
      {
       "output_type": "stream",
       "stream": "stdout",
       "text": [
        "\n",
        "the classifier came back with: 0, the real answer is: 0"
       ]
      },
      {
       "output_type": "stream",
       "stream": "stdout",
       "text": [
        "\n",
        "the classifier came back with: 0, the real answer is: 0"
       ]
      },
      {
       "output_type": "stream",
       "stream": "stdout",
       "text": [
        "\n",
        "the classifier came back with: 0, the real answer is: 0"
       ]
      },
      {
       "output_type": "stream",
       "stream": "stdout",
       "text": [
        "\n",
        "the classifier came back with: 0, the real answer is: 0"
       ]
      },
      {
       "output_type": "stream",
       "stream": "stdout",
       "text": [
        "\n",
        "the classifier came back with: 0, the real answer is: 0"
       ]
      },
      {
       "output_type": "stream",
       "stream": "stdout",
       "text": [
        "\n",
        "the classifier came back with: 0, the real answer is: 0"
       ]
      },
      {
       "output_type": "stream",
       "stream": "stdout",
       "text": [
        "\n",
        "the classifier came back with: 0, the real answer is: 0"
       ]
      },
      {
       "output_type": "stream",
       "stream": "stdout",
       "text": [
        "\n",
        "the classifier came back with: 0, the real answer is: 0"
       ]
      },
      {
       "output_type": "stream",
       "stream": "stdout",
       "text": [
        "\n",
        "the classifier came back with: 0, the real answer is: 0"
       ]
      },
      {
       "output_type": "stream",
       "stream": "stdout",
       "text": [
        "\n",
        "the classifier came back with: 0, the real answer is: 0"
       ]
      },
      {
       "output_type": "stream",
       "stream": "stdout",
       "text": [
        "\n",
        "the classifier came back with: 0, the real answer is: 0"
       ]
      },
      {
       "output_type": "stream",
       "stream": "stdout",
       "text": [
        "\n",
        "the classifier came back with: 0, the real answer is: 0"
       ]
      },
      {
       "output_type": "stream",
       "stream": "stdout",
       "text": [
        "\n",
        "the classifier came back with: 0, the real answer is: 0"
       ]
      },
      {
       "output_type": "stream",
       "stream": "stdout",
       "text": [
        "\n",
        "the classifier came back with: 0, the real answer is: 0"
       ]
      },
      {
       "output_type": "stream",
       "stream": "stdout",
       "text": [
        "\n",
        "the classifier came back with: 0, the real answer is: 0"
       ]
      },
      {
       "output_type": "stream",
       "stream": "stdout",
       "text": [
        "\n",
        "the classifier came back with: 0, the real answer is: 0"
       ]
      },
      {
       "output_type": "stream",
       "stream": "stdout",
       "text": [
        "\n",
        "the classifier came back with: 1, the real answer is: 1"
       ]
      },
      {
       "output_type": "stream",
       "stream": "stdout",
       "text": [
        "\n",
        "the classifier came back with: 1, the real answer is: 1"
       ]
      },
      {
       "output_type": "stream",
       "stream": "stdout",
       "text": [
        "\n",
        "the classifier came back with: 1, the real answer is: 1"
       ]
      },
      {
       "output_type": "stream",
       "stream": "stdout",
       "text": [
        "\n",
        "the classifier came back with: 1, the real answer is: 1"
       ]
      },
      {
       "output_type": "stream",
       "stream": "stdout",
       "text": [
        "\n",
        "the classifier came back with: 1, the real answer is: 1"
       ]
      },
      {
       "output_type": "stream",
       "stream": "stdout",
       "text": [
        "\n",
        "the classifier came back with: 1, the real answer is: 1"
       ]
      },
      {
       "output_type": "stream",
       "stream": "stdout",
       "text": [
        "\n",
        "the classifier came back with: 1, the real answer is: 1"
       ]
      },
      {
       "output_type": "stream",
       "stream": "stdout",
       "text": [
        "\n",
        "the classifier came back with: 1, the real answer is: 1"
       ]
      },
      {
       "output_type": "stream",
       "stream": "stdout",
       "text": [
        "\n",
        "the classifier came back with: 1, the real answer is: 1"
       ]
      },
      {
       "output_type": "stream",
       "stream": "stdout",
       "text": [
        "\n",
        "the classifier came back with: 1, the real answer is: 1"
       ]
      },
      {
       "output_type": "stream",
       "stream": "stdout",
       "text": [
        "\n",
        "the classifier came back with: 1, the real answer is: 1"
       ]
      },
      {
       "output_type": "stream",
       "stream": "stdout",
       "text": [
        "\n",
        "the classifier came back with: 1, the real answer is: 1"
       ]
      },
      {
       "output_type": "stream",
       "stream": "stdout",
       "text": [
        "\n",
        "the classifier came back with: 1, the real answer is: 1"
       ]
      },
      {
       "output_type": "stream",
       "stream": "stdout",
       "text": [
        "\n",
        "the classifier came back with: 1, the real answer is: 1"
       ]
      },
      {
       "output_type": "stream",
       "stream": "stdout",
       "text": [
        "\n",
        "the classifier came back with: 1, the real answer is: 1"
       ]
      },
      {
       "output_type": "stream",
       "stream": "stdout",
       "text": [
        "\n",
        "the classifier came back with: 1, the real answer is: 1"
       ]
      },
      {
       "output_type": "stream",
       "stream": "stdout",
       "text": [
        "\n",
        "the classifier came back with: 1, the real answer is: 1"
       ]
      },
      {
       "output_type": "stream",
       "stream": "stdout",
       "text": [
        "\n",
        "the classifier came back with: 1, the real answer is: 1"
       ]
      },
      {
       "output_type": "stream",
       "stream": "stdout",
       "text": [
        "\n",
        "the classifier came back with: 1, the real answer is: 1"
       ]
      },
      {
       "output_type": "stream",
       "stream": "stdout",
       "text": [
        "\n",
        "the classifier came back with: 1, the real answer is: 1"
       ]
      },
      {
       "output_type": "stream",
       "stream": "stdout",
       "text": [
        "\n",
        "the classifier came back with: 1, the real answer is: 1"
       ]
      },
      {
       "output_type": "stream",
       "stream": "stdout",
       "text": [
        "\n",
        "the classifier came back with: 1, the real answer is: 1"
       ]
      },
      {
       "output_type": "stream",
       "stream": "stdout",
       "text": [
        "\n",
        "the classifier came back with: 1, the real answer is: 1"
       ]
      },
      {
       "output_type": "stream",
       "stream": "stdout",
       "text": [
        "\n",
        "the classifier came back with: 1, the real answer is: 1"
       ]
      },
      {
       "output_type": "stream",
       "stream": "stdout",
       "text": [
        "\n",
        "the classifier came back with: 1, the real answer is: 1"
       ]
      },
      {
       "output_type": "stream",
       "stream": "stdout",
       "text": [
        "\n",
        "the classifier came back with: 1, the real answer is: 1"
       ]
      },
      {
       "output_type": "stream",
       "stream": "stdout",
       "text": [
        "\n",
        "the classifier came back with: 1, the real answer is: 1"
       ]
      },
      {
       "output_type": "stream",
       "stream": "stdout",
       "text": [
        "\n",
        "the classifier came back with: 1, the real answer is: 1"
       ]
      },
      {
       "output_type": "stream",
       "stream": "stdout",
       "text": [
        "\n",
        "the classifier came back with: 1, the real answer is: 1"
       ]
      },
      {
       "output_type": "stream",
       "stream": "stdout",
       "text": [
        "\n",
        "the classifier came back with: 1, the real answer is: 1"
       ]
      },
      {
       "output_type": "stream",
       "stream": "stdout",
       "text": [
        "\n",
        "the classifier came back with: 1, the real answer is: 1"
       ]
      },
      {
       "output_type": "stream",
       "stream": "stdout",
       "text": [
        "\n",
        "the classifier came back with: 1, the real answer is: 1"
       ]
      },
      {
       "output_type": "stream",
       "stream": "stdout",
       "text": [
        "\n",
        "the classifier came back with: 1, the real answer is: 1"
       ]
      },
      {
       "output_type": "stream",
       "stream": "stdout",
       "text": [
        "\n",
        "the classifier came back with: 1, the real answer is: 1"
       ]
      },
      {
       "output_type": "stream",
       "stream": "stdout",
       "text": [
        "\n",
        "the classifier came back with: 1, the real answer is: 1"
       ]
      },
      {
       "output_type": "stream",
       "stream": "stdout",
       "text": [
        "\n",
        "the classifier came back with: 1, the real answer is: 1"
       ]
      },
      {
       "output_type": "stream",
       "stream": "stdout",
       "text": [
        "\n",
        "the classifier came back with: 1, the real answer is: 1"
       ]
      },
      {
       "output_type": "stream",
       "stream": "stdout",
       "text": [
        "\n",
        "the classifier came back with: 1, the real answer is: 1"
       ]
      },
      {
       "output_type": "stream",
       "stream": "stdout",
       "text": [
        "\n",
        "the classifier came back with: 1, the real answer is: 1"
       ]
      },
      {
       "output_type": "stream",
       "stream": "stdout",
       "text": [
        "\n",
        "the classifier came back with: 1, the real answer is: 1"
       ]
      },
      {
       "output_type": "stream",
       "stream": "stdout",
       "text": [
        "\n",
        "the classifier came back with: 1, the real answer is: 1"
       ]
      },
      {
       "output_type": "stream",
       "stream": "stdout",
       "text": [
        "\n",
        "the classifier came back with: 1, the real answer is: 1"
       ]
      },
      {
       "output_type": "stream",
       "stream": "stdout",
       "text": [
        "\n",
        "the classifier came back with: 1, the real answer is: 1"
       ]
      },
      {
       "output_type": "stream",
       "stream": "stdout",
       "text": [
        "\n",
        "the classifier came back with: 1, the real answer is: 1"
       ]
      },
      {
       "output_type": "stream",
       "stream": "stdout",
       "text": [
        "\n",
        "the classifier came back with: 1, the real answer is: 1"
       ]
      },
      {
       "output_type": "stream",
       "stream": "stdout",
       "text": [
        "\n",
        "the classifier came back with: 1, the real answer is: 1"
       ]
      },
      {
       "output_type": "stream",
       "stream": "stdout",
       "text": [
        "\n",
        "the classifier came back with: 1, the real answer is: 1"
       ]
      },
      {
       "output_type": "stream",
       "stream": "stdout",
       "text": [
        "\n",
        "the classifier came back with: 1, the real answer is: 1"
       ]
      },
      {
       "output_type": "stream",
       "stream": "stdout",
       "text": [
        "\n",
        "the classifier came back with: 1, the real answer is: 1"
       ]
      },
      {
       "output_type": "stream",
       "stream": "stdout",
       "text": [
        "\n",
        "the classifier came back with: 1, the real answer is: 1"
       ]
      },
      {
       "output_type": "stream",
       "stream": "stdout",
       "text": [
        "\n",
        "the classifier came back with: 1, the real answer is: 1"
       ]
      },
      {
       "output_type": "stream",
       "stream": "stdout",
       "text": [
        "\n",
        "the classifier came back with: 1, the real answer is: 1"
       ]
      },
      {
       "output_type": "stream",
       "stream": "stdout",
       "text": [
        "\n",
        "the classifier came back with: 1, the real answer is: 1"
       ]
      },
      {
       "output_type": "stream",
       "stream": "stdout",
       "text": [
        "\n",
        "the classifier came back with: 1, the real answer is: 1"
       ]
      },
      {
       "output_type": "stream",
       "stream": "stdout",
       "text": [
        "\n",
        "the classifier came back with: 1, the real answer is: 1"
       ]
      },
      {
       "output_type": "stream",
       "stream": "stdout",
       "text": [
        "\n",
        "the classifier came back with: 1, the real answer is: 1"
       ]
      },
      {
       "output_type": "stream",
       "stream": "stdout",
       "text": [
        "\n",
        "the classifier came back with: 1, the real answer is: 1"
       ]
      },
      {
       "output_type": "stream",
       "stream": "stdout",
       "text": [
        "\n",
        "the classifier came back with: 1, the real answer is: 1"
       ]
      },
      {
       "output_type": "stream",
       "stream": "stdout",
       "text": [
        "\n",
        "the classifier came back with: 1, the real answer is: 1"
       ]
      },
      {
       "output_type": "stream",
       "stream": "stdout",
       "text": [
        "\n",
        "the classifier came back with: 1, the real answer is: 1"
       ]
      },
      {
       "output_type": "stream",
       "stream": "stdout",
       "text": [
        "\n",
        "the classifier came back with: 1, the real answer is: 1"
       ]
      },
      {
       "output_type": "stream",
       "stream": "stdout",
       "text": [
        "\n",
        "the classifier came back with: 1, the real answer is: 1"
       ]
      },
      {
       "output_type": "stream",
       "stream": "stdout",
       "text": [
        "\n",
        "the classifier came back with: 1, the real answer is: 1"
       ]
      },
      {
       "output_type": "stream",
       "stream": "stdout",
       "text": [
        "\n",
        "the classifier came back with: 1, the real answer is: 1"
       ]
      },
      {
       "output_type": "stream",
       "stream": "stdout",
       "text": [
        "\n",
        "the classifier came back with: 1, the real answer is: 1"
       ]
      },
      {
       "output_type": "stream",
       "stream": "stdout",
       "text": [
        "\n",
        "the classifier came back with: 1, the real answer is: 1"
       ]
      },
      {
       "output_type": "stream",
       "stream": "stdout",
       "text": [
        "\n",
        "the classifier came back with: 1, the real answer is: 1"
       ]
      },
      {
       "output_type": "stream",
       "stream": "stdout",
       "text": [
        "\n",
        "the classifier came back with: 1, the real answer is: 1"
       ]
      },
      {
       "output_type": "stream",
       "stream": "stdout",
       "text": [
        "\n",
        "the classifier came back with: 1, the real answer is: 1"
       ]
      },
      {
       "output_type": "stream",
       "stream": "stdout",
       "text": [
        "\n",
        "the classifier came back with: 1, the real answer is: 1"
       ]
      },
      {
       "output_type": "stream",
       "stream": "stdout",
       "text": [
        "\n",
        "the classifier came back with: 1, the real answer is: 1"
       ]
      },
      {
       "output_type": "stream",
       "stream": "stdout",
       "text": [
        "\n",
        "the classifier came back with: 1, the real answer is: 1"
       ]
      },
      {
       "output_type": "stream",
       "stream": "stdout",
       "text": [
        "\n",
        "the classifier came back with: 1, the real answer is: 1"
       ]
      },
      {
       "output_type": "stream",
       "stream": "stdout",
       "text": [
        "\n",
        "the classifier came back with: 1, the real answer is: 1"
       ]
      },
      {
       "output_type": "stream",
       "stream": "stdout",
       "text": [
        "\n",
        "the classifier came back with: 1, the real answer is: 1"
       ]
      },
      {
       "output_type": "stream",
       "stream": "stdout",
       "text": [
        "\n",
        "the classifier came back with: 1, the real answer is: 1"
       ]
      },
      {
       "output_type": "stream",
       "stream": "stdout",
       "text": [
        "\n",
        "the classifier came back with: 1, the real answer is: 1"
       ]
      },
      {
       "output_type": "stream",
       "stream": "stdout",
       "text": [
        "\n",
        "the classifier came back with: 1, the real answer is: 1"
       ]
      },
      {
       "output_type": "stream",
       "stream": "stdout",
       "text": [
        "\n",
        "the classifier came back with: 1, the real answer is: 1"
       ]
      },
      {
       "output_type": "stream",
       "stream": "stdout",
       "text": [
        "\n",
        "the classifier came back with: 1, the real answer is: 1"
       ]
      },
      {
       "output_type": "stream",
       "stream": "stdout",
       "text": [
        "\n",
        "the classifier came back with: 1, the real answer is: 1"
       ]
      },
      {
       "output_type": "stream",
       "stream": "stdout",
       "text": [
        "\n",
        "the classifier came back with: 1, the real answer is: 1"
       ]
      },
      {
       "output_type": "stream",
       "stream": "stdout",
       "text": [
        "\n",
        "the classifier came back with: 1, the real answer is: 1"
       ]
      },
      {
       "output_type": "stream",
       "stream": "stdout",
       "text": [
        "\n",
        "the classifier came back with: 1, the real answer is: 1"
       ]
      },
      {
       "output_type": "stream",
       "stream": "stdout",
       "text": [
        "\n",
        "the classifier came back with: 1, the real answer is: 1"
       ]
      },
      {
       "output_type": "stream",
       "stream": "stdout",
       "text": [
        "\n",
        "the classifier came back with: 7, the real answer is: 1"
       ]
      },
      {
       "output_type": "stream",
       "stream": "stdout",
       "text": [
        "\n",
        "the classifier came back with: 1, the real answer is: 1"
       ]
      },
      {
       "output_type": "stream",
       "stream": "stdout",
       "text": [
        "\n",
        "the classifier came back with: 1, the real answer is: 1"
       ]
      },
      {
       "output_type": "stream",
       "stream": "stdout",
       "text": [
        "\n",
        "the classifier came back with: 1, the real answer is: 1"
       ]
      },
      {
       "output_type": "stream",
       "stream": "stdout",
       "text": [
        "\n",
        "the classifier came back with: 1, the real answer is: 1"
       ]
      },
      {
       "output_type": "stream",
       "stream": "stdout",
       "text": [
        "\n",
        "the classifier came back with: 1, the real answer is: 1"
       ]
      },
      {
       "output_type": "stream",
       "stream": "stdout",
       "text": [
        "\n",
        "the classifier came back with: 1, the real answer is: 1"
       ]
      },
      {
       "output_type": "stream",
       "stream": "stdout",
       "text": [
        "\n",
        "the classifier came back with: 1, the real answer is: 1"
       ]
      },
      {
       "output_type": "stream",
       "stream": "stdout",
       "text": [
        "\n",
        "the classifier came back with: 1, the real answer is: 1"
       ]
      },
      {
       "output_type": "stream",
       "stream": "stdout",
       "text": [
        "\n",
        "the classifier came back with: 1, the real answer is: 1"
       ]
      },
      {
       "output_type": "stream",
       "stream": "stdout",
       "text": [
        "\n",
        "the classifier came back with: 1, the real answer is: 1"
       ]
      },
      {
       "output_type": "stream",
       "stream": "stdout",
       "text": [
        "\n",
        "the classifier came back with: 1, the real answer is: 1"
       ]
      },
      {
       "output_type": "stream",
       "stream": "stdout",
       "text": [
        "\n",
        "the classifier came back with: 2, the real answer is: 2"
       ]
      },
      {
       "output_type": "stream",
       "stream": "stdout",
       "text": [
        "\n",
        "the classifier came back with: 2, the real answer is: 2"
       ]
      },
      {
       "output_type": "stream",
       "stream": "stdout",
       "text": [
        "\n",
        "the classifier came back with: 2, the real answer is: 2"
       ]
      },
      {
       "output_type": "stream",
       "stream": "stdout",
       "text": [
        "\n",
        "the classifier came back with: 2, the real answer is: 2"
       ]
      },
      {
       "output_type": "stream",
       "stream": "stdout",
       "text": [
        "\n",
        "the classifier came back with: 2, the real answer is: 2"
       ]
      },
      {
       "output_type": "stream",
       "stream": "stdout",
       "text": [
        "\n",
        "the classifier came back with: 2, the real answer is: 2"
       ]
      },
      {
       "output_type": "stream",
       "stream": "stdout",
       "text": [
        "\n",
        "the classifier came back with: 2, the real answer is: 2"
       ]
      },
      {
       "output_type": "stream",
       "stream": "stdout",
       "text": [
        "\n",
        "the classifier came back with: 2, the real answer is: 2"
       ]
      },
      {
       "output_type": "stream",
       "stream": "stdout",
       "text": [
        "\n",
        "the classifier came back with: 2, the real answer is: 2"
       ]
      },
      {
       "output_type": "stream",
       "stream": "stdout",
       "text": [
        "\n",
        "the classifier came back with: 2, the real answer is: 2"
       ]
      },
      {
       "output_type": "stream",
       "stream": "stdout",
       "text": [
        "\n",
        "the classifier came back with: 2, the real answer is: 2"
       ]
      },
      {
       "output_type": "stream",
       "stream": "stdout",
       "text": [
        "\n",
        "the classifier came back with: 2, the real answer is: 2"
       ]
      },
      {
       "output_type": "stream",
       "stream": "stdout",
       "text": [
        "\n",
        "the classifier came back with: 2, the real answer is: 2"
       ]
      },
      {
       "output_type": "stream",
       "stream": "stdout",
       "text": [
        "\n",
        "the classifier came back with: 2, the real answer is: 2"
       ]
      },
      {
       "output_type": "stream",
       "stream": "stdout",
       "text": [
        "\n",
        "the classifier came back with: 2, the real answer is: 2"
       ]
      },
      {
       "output_type": "stream",
       "stream": "stdout",
       "text": [
        "\n",
        "the classifier came back with: 2, the real answer is: 2"
       ]
      },
      {
       "output_type": "stream",
       "stream": "stdout",
       "text": [
        "\n",
        "the classifier came back with: 2, the real answer is: 2"
       ]
      },
      {
       "output_type": "stream",
       "stream": "stdout",
       "text": [
        "\n",
        "the classifier came back with: 2, the real answer is: 2"
       ]
      },
      {
       "output_type": "stream",
       "stream": "stdout",
       "text": [
        "\n",
        "the classifier came back with: 2, the real answer is: 2"
       ]
      },
      {
       "output_type": "stream",
       "stream": "stdout",
       "text": [
        "\n",
        "the classifier came back with: 2, the real answer is: 2"
       ]
      },
      {
       "output_type": "stream",
       "stream": "stdout",
       "text": [
        "\n",
        "the classifier came back with: 2, the real answer is: 2"
       ]
      },
      {
       "output_type": "stream",
       "stream": "stdout",
       "text": [
        "\n",
        "the classifier came back with: 2, the real answer is: 2"
       ]
      },
      {
       "output_type": "stream",
       "stream": "stdout",
       "text": [
        "\n",
        "the classifier came back with: 2, the real answer is: 2"
       ]
      },
      {
       "output_type": "stream",
       "stream": "stdout",
       "text": [
        "\n",
        "the classifier came back with: 2, the real answer is: 2"
       ]
      },
      {
       "output_type": "stream",
       "stream": "stdout",
       "text": [
        "\n",
        "the classifier came back with: 2, the real answer is: 2"
       ]
      },
      {
       "output_type": "stream",
       "stream": "stdout",
       "text": [
        "\n",
        "the classifier came back with: 2, the real answer is: 2"
       ]
      },
      {
       "output_type": "stream",
       "stream": "stdout",
       "text": [
        "\n",
        "the classifier came back with: 2, the real answer is: 2"
       ]
      },
      {
       "output_type": "stream",
       "stream": "stdout",
       "text": [
        "\n",
        "the classifier came back with: 2, the real answer is: 2"
       ]
      },
      {
       "output_type": "stream",
       "stream": "stdout",
       "text": [
        "\n",
        "the classifier came back with: 2, the real answer is: 2"
       ]
      },
      {
       "output_type": "stream",
       "stream": "stdout",
       "text": [
        "\n",
        "the classifier came back with: 2, the real answer is: 2"
       ]
      },
      {
       "output_type": "stream",
       "stream": "stdout",
       "text": [
        "\n",
        "the classifier came back with: 2, the real answer is: 2"
       ]
      },
      {
       "output_type": "stream",
       "stream": "stdout",
       "text": [
        "\n",
        "the classifier came back with: 2, the real answer is: 2"
       ]
      },
      {
       "output_type": "stream",
       "stream": "stdout",
       "text": [
        "\n",
        "the classifier came back with: 2, the real answer is: 2"
       ]
      },
      {
       "output_type": "stream",
       "stream": "stdout",
       "text": [
        "\n",
        "the classifier came back with: 2, the real answer is: 2"
       ]
      },
      {
       "output_type": "stream",
       "stream": "stdout",
       "text": [
        "\n",
        "the classifier came back with: 2, the real answer is: 2"
       ]
      },
      {
       "output_type": "stream",
       "stream": "stdout",
       "text": [
        "\n",
        "the classifier came back with: 2, the real answer is: 2"
       ]
      },
      {
       "output_type": "stream",
       "stream": "stdout",
       "text": [
        "\n",
        "the classifier came back with: 2, the real answer is: 2"
       ]
      },
      {
       "output_type": "stream",
       "stream": "stdout",
       "text": [
        "\n",
        "the classifier came back with: 2, the real answer is: 2"
       ]
      },
      {
       "output_type": "stream",
       "stream": "stdout",
       "text": [
        "\n",
        "the classifier came back with: 2, the real answer is: 2"
       ]
      },
      {
       "output_type": "stream",
       "stream": "stdout",
       "text": [
        "\n",
        "the classifier came back with: 2, the real answer is: 2"
       ]
      },
      {
       "output_type": "stream",
       "stream": "stdout",
       "text": [
        "\n",
        "the classifier came back with: 2, the real answer is: 2"
       ]
      },
      {
       "output_type": "stream",
       "stream": "stdout",
       "text": [
        "\n",
        "the classifier came back with: 2, the real answer is: 2"
       ]
      },
      {
       "output_type": "stream",
       "stream": "stdout",
       "text": [
        "\n",
        "the classifier came back with: 2, the real answer is: 2"
       ]
      },
      {
       "output_type": "stream",
       "stream": "stdout",
       "text": [
        "\n",
        "the classifier came back with: 2, the real answer is: 2"
       ]
      },
      {
       "output_type": "stream",
       "stream": "stdout",
       "text": [
        "\n",
        "the classifier came back with: 2, the real answer is: 2"
       ]
      },
      {
       "output_type": "stream",
       "stream": "stdout",
       "text": [
        "\n",
        "the classifier came back with: 2, the real answer is: 2"
       ]
      },
      {
       "output_type": "stream",
       "stream": "stdout",
       "text": [
        "\n",
        "the classifier came back with: 2, the real answer is: 2"
       ]
      },
      {
       "output_type": "stream",
       "stream": "stdout",
       "text": [
        "\n",
        "the classifier came back with: 2, the real answer is: 2"
       ]
      },
      {
       "output_type": "stream",
       "stream": "stdout",
       "text": [
        "\n",
        "the classifier came back with: 2, the real answer is: 2"
       ]
      },
      {
       "output_type": "stream",
       "stream": "stdout",
       "text": [
        "\n",
        "the classifier came back with: 2, the real answer is: 2"
       ]
      },
      {
       "output_type": "stream",
       "stream": "stdout",
       "text": [
        "\n",
        "the classifier came back with: 2, the real answer is: 2"
       ]
      },
      {
       "output_type": "stream",
       "stream": "stdout",
       "text": [
        "\n",
        "the classifier came back with: 2, the real answer is: 2"
       ]
      },
      {
       "output_type": "stream",
       "stream": "stdout",
       "text": [
        "\n",
        "the classifier came back with: 2, the real answer is: 2"
       ]
      },
      {
       "output_type": "stream",
       "stream": "stdout",
       "text": [
        "\n",
        "the classifier came back with: 2, the real answer is: 2"
       ]
      },
      {
       "output_type": "stream",
       "stream": "stdout",
       "text": [
        "\n",
        "the classifier came back with: 2, the real answer is: 2"
       ]
      },
      {
       "output_type": "stream",
       "stream": "stdout",
       "text": [
        "\n",
        "the classifier came back with: 2, the real answer is: 2"
       ]
      },
      {
       "output_type": "stream",
       "stream": "stdout",
       "text": [
        "\n",
        "the classifier came back with: 2, the real answer is: 2"
       ]
      },
      {
       "output_type": "stream",
       "stream": "stdout",
       "text": [
        "\n",
        "the classifier came back with: 2, the real answer is: 2"
       ]
      },
      {
       "output_type": "stream",
       "stream": "stdout",
       "text": [
        "\n",
        "the classifier came back with: 2, the real answer is: 2"
       ]
      },
      {
       "output_type": "stream",
       "stream": "stdout",
       "text": [
        "\n",
        "the classifier came back with: 2, the real answer is: 2"
       ]
      },
      {
       "output_type": "stream",
       "stream": "stdout",
       "text": [
        "\n",
        "the classifier came back with: 2, the real answer is: 2"
       ]
      },
      {
       "output_type": "stream",
       "stream": "stdout",
       "text": [
        "\n",
        "the classifier came back with: 2, the real answer is: 2"
       ]
      },
      {
       "output_type": "stream",
       "stream": "stdout",
       "text": [
        "\n",
        "the classifier came back with: 2, the real answer is: 2"
       ]
      },
      {
       "output_type": "stream",
       "stream": "stdout",
       "text": [
        "\n",
        "the classifier came back with: 2, the real answer is: 2"
       ]
      },
      {
       "output_type": "stream",
       "stream": "stdout",
       "text": [
        "\n",
        "the classifier came back with: 2, the real answer is: 2"
       ]
      },
      {
       "output_type": "stream",
       "stream": "stdout",
       "text": [
        "\n",
        "the classifier came back with: 2, the real answer is: 2"
       ]
      },
      {
       "output_type": "stream",
       "stream": "stdout",
       "text": [
        "\n",
        "the classifier came back with: 2, the real answer is: 2"
       ]
      },
      {
       "output_type": "stream",
       "stream": "stdout",
       "text": [
        "\n",
        "the classifier came back with: 2, the real answer is: 2"
       ]
      },
      {
       "output_type": "stream",
       "stream": "stdout",
       "text": [
        "\n",
        "the classifier came back with: 2, the real answer is: 2"
       ]
      },
      {
       "output_type": "stream",
       "stream": "stdout",
       "text": [
        "\n",
        "the classifier came back with: 2, the real answer is: 2"
       ]
      },
      {
       "output_type": "stream",
       "stream": "stdout",
       "text": [
        "\n",
        "the classifier came back with: 2, the real answer is: 2"
       ]
      },
      {
       "output_type": "stream",
       "stream": "stdout",
       "text": [
        "\n",
        "the classifier came back with: 2, the real answer is: 2"
       ]
      },
      {
       "output_type": "stream",
       "stream": "stdout",
       "text": [
        "\n",
        "the classifier came back with: 2, the real answer is: 2"
       ]
      },
      {
       "output_type": "stream",
       "stream": "stdout",
       "text": [
        "\n",
        "the classifier came back with: 2, the real answer is: 2"
       ]
      },
      {
       "output_type": "stream",
       "stream": "stdout",
       "text": [
        "\n",
        "the classifier came back with: 2, the real answer is: 2"
       ]
      },
      {
       "output_type": "stream",
       "stream": "stdout",
       "text": [
        "\n",
        "the classifier came back with: 2, the real answer is: 2"
       ]
      },
      {
       "output_type": "stream",
       "stream": "stdout",
       "text": [
        "\n",
        "the classifier came back with: 2, the real answer is: 2"
       ]
      },
      {
       "output_type": "stream",
       "stream": "stdout",
       "text": [
        "\n",
        "the classifier came back with: 2, the real answer is: 2"
       ]
      },
      {
       "output_type": "stream",
       "stream": "stdout",
       "text": [
        "\n",
        "the classifier came back with: 2, the real answer is: 2"
       ]
      },
      {
       "output_type": "stream",
       "stream": "stdout",
       "text": [
        "\n",
        "the classifier came back with: 2, the real answer is: 2"
       ]
      },
      {
       "output_type": "stream",
       "stream": "stdout",
       "text": [
        "\n",
        "the classifier came back with: 2, the real answer is: 2"
       ]
      },
      {
       "output_type": "stream",
       "stream": "stdout",
       "text": [
        "\n",
        "the classifier came back with: 2, the real answer is: 2"
       ]
      },
      {
       "output_type": "stream",
       "stream": "stdout",
       "text": [
        "\n",
        "the classifier came back with: 2, the real answer is: 2"
       ]
      },
      {
       "output_type": "stream",
       "stream": "stdout",
       "text": [
        "\n",
        "the classifier came back with: 2, the real answer is: 2"
       ]
      },
      {
       "output_type": "stream",
       "stream": "stdout",
       "text": [
        "\n",
        "the classifier came back with: 2, the real answer is: 2"
       ]
      },
      {
       "output_type": "stream",
       "stream": "stdout",
       "text": [
        "\n",
        "the classifier came back with: 2, the real answer is: 2"
       ]
      },
      {
       "output_type": "stream",
       "stream": "stdout",
       "text": [
        "\n",
        "the classifier came back with: 2, the real answer is: 2"
       ]
      },
      {
       "output_type": "stream",
       "stream": "stdout",
       "text": [
        "\n",
        "the classifier came back with: 2, the real answer is: 2"
       ]
      },
      {
       "output_type": "stream",
       "stream": "stdout",
       "text": [
        "\n",
        "the classifier came back with: 2, the real answer is: 2"
       ]
      },
      {
       "output_type": "stream",
       "stream": "stdout",
       "text": [
        "\n",
        "the classifier came back with: 2, the real answer is: 2"
       ]
      },
      {
       "output_type": "stream",
       "stream": "stdout",
       "text": [
        "\n",
        "the classifier came back with: 2, the real answer is: 2"
       ]
      },
      {
       "output_type": "stream",
       "stream": "stdout",
       "text": [
        "\n",
        "the classifier came back with: 2, the real answer is: 2"
       ]
      },
      {
       "output_type": "stream",
       "stream": "stdout",
       "text": [
        "\n",
        "the classifier came back with: 3, the real answer is: 3"
       ]
      },
      {
       "output_type": "stream",
       "stream": "stdout",
       "text": [
        "\n",
        "the classifier came back with: 3, the real answer is: 3"
       ]
      },
      {
       "output_type": "stream",
       "stream": "stdout",
       "text": [
        "\n",
        "the classifier came back with: 3, the real answer is: 3"
       ]
      },
      {
       "output_type": "stream",
       "stream": "stdout",
       "text": [
        "\n",
        "the classifier came back with: 9, the real answer is: 3"
       ]
      },
      {
       "output_type": "stream",
       "stream": "stdout",
       "text": [
        "\n",
        "the classifier came back with: 3, the real answer is: 3"
       ]
      },
      {
       "output_type": "stream",
       "stream": "stdout",
       "text": [
        "\n",
        "the classifier came back with: 3, the real answer is: 3"
       ]
      },
      {
       "output_type": "stream",
       "stream": "stdout",
       "text": [
        "\n",
        "the classifier came back with: 3, the real answer is: 3"
       ]
      },
      {
       "output_type": "stream",
       "stream": "stdout",
       "text": [
        "\n",
        "the classifier came back with: 3, the real answer is: 3"
       ]
      },
      {
       "output_type": "stream",
       "stream": "stdout",
       "text": [
        "\n",
        "the classifier came back with: 3, the real answer is: 3"
       ]
      },
      {
       "output_type": "stream",
       "stream": "stdout",
       "text": [
        "\n",
        "the classifier came back with: 3, the real answer is: 3"
       ]
      },
      {
       "output_type": "stream",
       "stream": "stdout",
       "text": [
        "\n",
        "the classifier came back with: 3, the real answer is: 3"
       ]
      },
      {
       "output_type": "stream",
       "stream": "stdout",
       "text": [
        "\n",
        "the classifier came back with: 3, the real answer is: 3"
       ]
      },
      {
       "output_type": "stream",
       "stream": "stdout",
       "text": [
        "\n",
        "the classifier came back with: 3, the real answer is: 3"
       ]
      },
      {
       "output_type": "stream",
       "stream": "stdout",
       "text": [
        "\n",
        "the classifier came back with: 3, the real answer is: 3"
       ]
      },
      {
       "output_type": "stream",
       "stream": "stdout",
       "text": [
        "\n",
        "the classifier came back with: 3, the real answer is: 3"
       ]
      },
      {
       "output_type": "stream",
       "stream": "stdout",
       "text": [
        "\n",
        "the classifier came back with: 3, the real answer is: 3"
       ]
      },
      {
       "output_type": "stream",
       "stream": "stdout",
       "text": [
        "\n",
        "the classifier came back with: 3, the real answer is: 3"
       ]
      },
      {
       "output_type": "stream",
       "stream": "stdout",
       "text": [
        "\n",
        "the classifier came back with: 3, the real answer is: 3"
       ]
      },
      {
       "output_type": "stream",
       "stream": "stdout",
       "text": [
        "\n",
        "the classifier came back with: 3, the real answer is: 3"
       ]
      },
      {
       "output_type": "stream",
       "stream": "stdout",
       "text": [
        "\n",
        "the classifier came back with: 3, the real answer is: 3"
       ]
      },
      {
       "output_type": "stream",
       "stream": "stdout",
       "text": [
        "\n",
        "the classifier came back with: 3, the real answer is: 3"
       ]
      },
      {
       "output_type": "stream",
       "stream": "stdout",
       "text": [
        "\n",
        "the classifier came back with: 3, the real answer is: 3"
       ]
      },
      {
       "output_type": "stream",
       "stream": "stdout",
       "text": [
        "\n",
        "the classifier came back with: 3, the real answer is: 3"
       ]
      },
      {
       "output_type": "stream",
       "stream": "stdout",
       "text": [
        "\n",
        "the classifier came back with: 3, the real answer is: 3"
       ]
      },
      {
       "output_type": "stream",
       "stream": "stdout",
       "text": [
        "\n",
        "the classifier came back with: 3, the real answer is: 3"
       ]
      },
      {
       "output_type": "stream",
       "stream": "stdout",
       "text": [
        "\n",
        "the classifier came back with: 3, the real answer is: 3"
       ]
      },
      {
       "output_type": "stream",
       "stream": "stdout",
       "text": [
        "\n",
        "the classifier came back with: 3, the real answer is: 3"
       ]
      },
      {
       "output_type": "stream",
       "stream": "stdout",
       "text": [
        "\n",
        "the classifier came back with: 3, the real answer is: 3"
       ]
      },
      {
       "output_type": "stream",
       "stream": "stdout",
       "text": [
        "\n",
        "the classifier came back with: 3, the real answer is: 3"
       ]
      },
      {
       "output_type": "stream",
       "stream": "stdout",
       "text": [
        "\n",
        "the classifier came back with: 3, the real answer is: 3"
       ]
      },
      {
       "output_type": "stream",
       "stream": "stdout",
       "text": [
        "\n",
        "the classifier came back with: 3, the real answer is: 3"
       ]
      },
      {
       "output_type": "stream",
       "stream": "stdout",
       "text": [
        "\n",
        "the classifier came back with: 3, the real answer is: 3"
       ]
      },
      {
       "output_type": "stream",
       "stream": "stdout",
       "text": [
        "\n",
        "the classifier came back with: 3, the real answer is: 3"
       ]
      },
      {
       "output_type": "stream",
       "stream": "stdout",
       "text": [
        "\n",
        "the classifier came back with: 3, the real answer is: 3"
       ]
      },
      {
       "output_type": "stream",
       "stream": "stdout",
       "text": [
        "\n",
        "the classifier came back with: 3, the real answer is: 3"
       ]
      },
      {
       "output_type": "stream",
       "stream": "stdout",
       "text": [
        "\n",
        "the classifier came back with: 3, the real answer is: 3"
       ]
      },
      {
       "output_type": "stream",
       "stream": "stdout",
       "text": [
        "\n",
        "the classifier came back with: 3, the real answer is: 3"
       ]
      },
      {
       "output_type": "stream",
       "stream": "stdout",
       "text": [
        "\n",
        "the classifier came back with: 3, the real answer is: 3"
       ]
      },
      {
       "output_type": "stream",
       "stream": "stdout",
       "text": [
        "\n",
        "the classifier came back with: 3, the real answer is: 3"
       ]
      },
      {
       "output_type": "stream",
       "stream": "stdout",
       "text": [
        "\n",
        "the classifier came back with: 3, the real answer is: 3"
       ]
      },
      {
       "output_type": "stream",
       "stream": "stdout",
       "text": [
        "\n",
        "the classifier came back with: 3, the real answer is: 3"
       ]
      },
      {
       "output_type": "stream",
       "stream": "stdout",
       "text": [
        "\n",
        "the classifier came back with: 3, the real answer is: 3"
       ]
      },
      {
       "output_type": "stream",
       "stream": "stdout",
       "text": [
        "\n",
        "the classifier came back with: 3, the real answer is: 3"
       ]
      },
      {
       "output_type": "stream",
       "stream": "stdout",
       "text": [
        "\n",
        "the classifier came back with: 3, the real answer is: 3"
       ]
      },
      {
       "output_type": "stream",
       "stream": "stdout",
       "text": [
        "\n",
        "the classifier came back with: 3, the real answer is: 3"
       ]
      },
      {
       "output_type": "stream",
       "stream": "stdout",
       "text": [
        "\n",
        "the classifier came back with: 3, the real answer is: 3"
       ]
      },
      {
       "output_type": "stream",
       "stream": "stdout",
       "text": [
        "\n",
        "the classifier came back with: 3, the real answer is: 3"
       ]
      },
      {
       "output_type": "stream",
       "stream": "stdout",
       "text": [
        "\n",
        "the classifier came back with: 3, the real answer is: 3"
       ]
      },
      {
       "output_type": "stream",
       "stream": "stdout",
       "text": [
        "\n",
        "the classifier came back with: 3, the real answer is: 3"
       ]
      },
      {
       "output_type": "stream",
       "stream": "stdout",
       "text": [
        "\n",
        "the classifier came back with: 3, the real answer is: 3"
       ]
      },
      {
       "output_type": "stream",
       "stream": "stdout",
       "text": [
        "\n",
        "the classifier came back with: 3, the real answer is: 3"
       ]
      },
      {
       "output_type": "stream",
       "stream": "stdout",
       "text": [
        "\n",
        "the classifier came back with: 9, the real answer is: 3"
       ]
      },
      {
       "output_type": "stream",
       "stream": "stdout",
       "text": [
        "\n",
        "the classifier came back with: 3, the real answer is: 3"
       ]
      },
      {
       "output_type": "stream",
       "stream": "stdout",
       "text": [
        "\n",
        "the classifier came back with: 3, the real answer is: 3"
       ]
      },
      {
       "output_type": "stream",
       "stream": "stdout",
       "text": [
        "\n",
        "the classifier came back with: 3, the real answer is: 3"
       ]
      },
      {
       "output_type": "stream",
       "stream": "stdout",
       "text": [
        "\n",
        "the classifier came back with: 3, the real answer is: 3"
       ]
      },
      {
       "output_type": "stream",
       "stream": "stdout",
       "text": [
        "\n",
        "the classifier came back with: 3, the real answer is: 3"
       ]
      },
      {
       "output_type": "stream",
       "stream": "stdout",
       "text": [
        "\n",
        "the classifier came back with: 3, the real answer is: 3"
       ]
      },
      {
       "output_type": "stream",
       "stream": "stdout",
       "text": [
        "\n",
        "the classifier came back with: 3, the real answer is: 3"
       ]
      },
      {
       "output_type": "stream",
       "stream": "stdout",
       "text": [
        "\n",
        "the classifier came back with: 3, the real answer is: 3"
       ]
      },
      {
       "output_type": "stream",
       "stream": "stdout",
       "text": [
        "\n",
        "the classifier came back with: 3, the real answer is: 3"
       ]
      },
      {
       "output_type": "stream",
       "stream": "stdout",
       "text": [
        "\n",
        "the classifier came back with: 3, the real answer is: 3"
       ]
      },
      {
       "output_type": "stream",
       "stream": "stdout",
       "text": [
        "\n",
        "the classifier came back with: 3, the real answer is: 3"
       ]
      },
      {
       "output_type": "stream",
       "stream": "stdout",
       "text": [
        "\n",
        "the classifier came back with: 3, the real answer is: 3"
       ]
      },
      {
       "output_type": "stream",
       "stream": "stdout",
       "text": [
        "\n",
        "the classifier came back with: 3, the real answer is: 3"
       ]
      },
      {
       "output_type": "stream",
       "stream": "stdout",
       "text": [
        "\n",
        "the classifier came back with: 3, the real answer is: 3"
       ]
      },
      {
       "output_type": "stream",
       "stream": "stdout",
       "text": [
        "\n",
        "the classifier came back with: 3, the real answer is: 3"
       ]
      },
      {
       "output_type": "stream",
       "stream": "stdout",
       "text": [
        "\n",
        "the classifier came back with: 3, the real answer is: 3"
       ]
      },
      {
       "output_type": "stream",
       "stream": "stdout",
       "text": [
        "\n",
        "the classifier came back with: 3, the real answer is: 3"
       ]
      },
      {
       "output_type": "stream",
       "stream": "stdout",
       "text": [
        "\n",
        "the classifier came back with: 3, the real answer is: 3"
       ]
      },
      {
       "output_type": "stream",
       "stream": "stdout",
       "text": [
        "\n",
        "the classifier came back with: 3, the real answer is: 3"
       ]
      },
      {
       "output_type": "stream",
       "stream": "stdout",
       "text": [
        "\n",
        "the classifier came back with: 3, the real answer is: 3"
       ]
      },
      {
       "output_type": "stream",
       "stream": "stdout",
       "text": [
        "\n",
        "the classifier came back with: 3, the real answer is: 3"
       ]
      },
      {
       "output_type": "stream",
       "stream": "stdout",
       "text": [
        "\n",
        "the classifier came back with: 3, the real answer is: 3"
       ]
      },
      {
       "output_type": "stream",
       "stream": "stdout",
       "text": [
        "\n",
        "the classifier came back with: 3, the real answer is: 3"
       ]
      },
      {
       "output_type": "stream",
       "stream": "stdout",
       "text": [
        "\n",
        "the classifier came back with: 3, the real answer is: 3"
       ]
      },
      {
       "output_type": "stream",
       "stream": "stdout",
       "text": [
        "\n",
        "the classifier came back with: 3, the real answer is: 3"
       ]
      },
      {
       "output_type": "stream",
       "stream": "stdout",
       "text": [
        "\n",
        "the classifier came back with: 3, the real answer is: 3"
       ]
      },
      {
       "output_type": "stream",
       "stream": "stdout",
       "text": [
        "\n",
        "the classifier came back with: 3, the real answer is: 3"
       ]
      },
      {
       "output_type": "stream",
       "stream": "stdout",
       "text": [
        "\n",
        "the classifier came back with: 3, the real answer is: 3"
       ]
      },
      {
       "output_type": "stream",
       "stream": "stdout",
       "text": [
        "\n",
        "the classifier came back with: 3, the real answer is: 3"
       ]
      },
      {
       "output_type": "stream",
       "stream": "stdout",
       "text": [
        "\n",
        "the classifier came back with: 3, the real answer is: 3"
       ]
      },
      {
       "output_type": "stream",
       "stream": "stdout",
       "text": [
        "\n",
        "the classifier came back with: 3, the real answer is: 3"
       ]
      },
      {
       "output_type": "stream",
       "stream": "stdout",
       "text": [
        "\n",
        "the classifier came back with: 3, the real answer is: 3"
       ]
      },
      {
       "output_type": "stream",
       "stream": "stdout",
       "text": [
        "\n",
        "the classifier came back with: 3, the real answer is: 3"
       ]
      },
      {
       "output_type": "stream",
       "stream": "stdout",
       "text": [
        "\n",
        "the classifier came back with: 4, the real answer is: 4"
       ]
      },
      {
       "output_type": "stream",
       "stream": "stdout",
       "text": [
        "\n",
        "the classifier came back with: 4, the real answer is: 4"
       ]
      },
      {
       "output_type": "stream",
       "stream": "stdout",
       "text": [
        "\n",
        "the classifier came back with: 4, the real answer is: 4"
       ]
      },
      {
       "output_type": "stream",
       "stream": "stdout",
       "text": [
        "\n",
        "the classifier came back with: 4, the real answer is: 4"
       ]
      },
      {
       "output_type": "stream",
       "stream": "stdout",
       "text": [
        "\n",
        "the classifier came back with: 4, the real answer is: 4"
       ]
      },
      {
       "output_type": "stream",
       "stream": "stdout",
       "text": [
        "\n",
        "the classifier came back with: 4, the real answer is: 4"
       ]
      },
      {
       "output_type": "stream",
       "stream": "stdout",
       "text": [
        "\n",
        "the classifier came back with: 4, the real answer is: 4"
       ]
      },
      {
       "output_type": "stream",
       "stream": "stdout",
       "text": [
        "\n",
        "the classifier came back with: 4, the real answer is: 4"
       ]
      },
      {
       "output_type": "stream",
       "stream": "stdout",
       "text": [
        "\n",
        "the classifier came back with: 4, the real answer is: 4"
       ]
      },
      {
       "output_type": "stream",
       "stream": "stdout",
       "text": [
        "\n",
        "the classifier came back with: 4, the real answer is: 4"
       ]
      },
      {
       "output_type": "stream",
       "stream": "stdout",
       "text": [
        "\n",
        "the classifier came back with: 4, the real answer is: 4"
       ]
      },
      {
       "output_type": "stream",
       "stream": "stdout",
       "text": [
        "\n",
        "the classifier came back with: 4, the real answer is: 4"
       ]
      },
      {
       "output_type": "stream",
       "stream": "stdout",
       "text": [
        "\n",
        "the classifier came back with: 4, the real answer is: 4"
       ]
      },
      {
       "output_type": "stream",
       "stream": "stdout",
       "text": [
        "\n",
        "the classifier came back with: 4, the real answer is: 4"
       ]
      },
      {
       "output_type": "stream",
       "stream": "stdout",
       "text": [
        "\n",
        "the classifier came back with: 4, the real answer is: 4"
       ]
      },
      {
       "output_type": "stream",
       "stream": "stdout",
       "text": [
        "\n",
        "the classifier came back with: 4, the real answer is: 4"
       ]
      },
      {
       "output_type": "stream",
       "stream": "stdout",
       "text": [
        "\n",
        "the classifier came back with: 4, the real answer is: 4"
       ]
      },
      {
       "output_type": "stream",
       "stream": "stdout",
       "text": [
        "\n",
        "the classifier came back with: 4, the real answer is: 4"
       ]
      },
      {
       "output_type": "stream",
       "stream": "stdout",
       "text": [
        "\n",
        "the classifier came back with: 4, the real answer is: 4"
       ]
      },
      {
       "output_type": "stream",
       "stream": "stdout",
       "text": [
        "\n",
        "the classifier came back with: 4, the real answer is: 4"
       ]
      },
      {
       "output_type": "stream",
       "stream": "stdout",
       "text": [
        "\n",
        "the classifier came back with: 4, the real answer is: 4"
       ]
      },
      {
       "output_type": "stream",
       "stream": "stdout",
       "text": [
        "\n",
        "the classifier came back with: 4, the real answer is: 4"
       ]
      },
      {
       "output_type": "stream",
       "stream": "stdout",
       "text": [
        "\n",
        "the classifier came back with: 4, the real answer is: 4"
       ]
      },
      {
       "output_type": "stream",
       "stream": "stdout",
       "text": [
        "\n",
        "the classifier came back with: 4, the real answer is: 4"
       ]
      },
      {
       "output_type": "stream",
       "stream": "stdout",
       "text": [
        "\n",
        "the classifier came back with: 4, the real answer is: 4"
       ]
      },
      {
       "output_type": "stream",
       "stream": "stdout",
       "text": [
        "\n",
        "the classifier came back with: 4, the real answer is: 4"
       ]
      },
      {
       "output_type": "stream",
       "stream": "stdout",
       "text": [
        "\n",
        "the classifier came back with: 4, the real answer is: 4"
       ]
      },
      {
       "output_type": "stream",
       "stream": "stdout",
       "text": [
        "\n",
        "the classifier came back with: 4, the real answer is: 4"
       ]
      },
      {
       "output_type": "stream",
       "stream": "stdout",
       "text": [
        "\n",
        "the classifier came back with: 4, the real answer is: 4"
       ]
      },
      {
       "output_type": "stream",
       "stream": "stdout",
       "text": [
        "\n",
        "the classifier came back with: 4, the real answer is: 4"
       ]
      },
      {
       "output_type": "stream",
       "stream": "stdout",
       "text": [
        "\n",
        "the classifier came back with: 4, the real answer is: 4"
       ]
      },
      {
       "output_type": "stream",
       "stream": "stdout",
       "text": [
        "\n",
        "the classifier came back with: 4, the real answer is: 4"
       ]
      },
      {
       "output_type": "stream",
       "stream": "stdout",
       "text": [
        "\n",
        "the classifier came back with: 4, the real answer is: 4"
       ]
      },
      {
       "output_type": "stream",
       "stream": "stdout",
       "text": [
        "\n",
        "the classifier came back with: 4, the real answer is: 4"
       ]
      },
      {
       "output_type": "stream",
       "stream": "stdout",
       "text": [
        "\n",
        "the classifier came back with: 4, the real answer is: 4"
       ]
      },
      {
       "output_type": "stream",
       "stream": "stdout",
       "text": [
        "\n",
        "the classifier came back with: 4, the real answer is: 4"
       ]
      },
      {
       "output_type": "stream",
       "stream": "stdout",
       "text": [
        "\n",
        "the classifier came back with: 4, the real answer is: 4"
       ]
      },
      {
       "output_type": "stream",
       "stream": "stdout",
       "text": [
        "\n",
        "the classifier came back with: 4, the real answer is: 4"
       ]
      },
      {
       "output_type": "stream",
       "stream": "stdout",
       "text": [
        "\n",
        "the classifier came back with: 4, the real answer is: 4"
       ]
      },
      {
       "output_type": "stream",
       "stream": "stdout",
       "text": [
        "\n",
        "the classifier came back with: 4, the real answer is: 4"
       ]
      },
      {
       "output_type": "stream",
       "stream": "stdout",
       "text": [
        "\n",
        "the classifier came back with: 4, the real answer is: 4"
       ]
      },
      {
       "output_type": "stream",
       "stream": "stdout",
       "text": [
        "\n",
        "the classifier came back with: 4, the real answer is: 4"
       ]
      },
      {
       "output_type": "stream",
       "stream": "stdout",
       "text": [
        "\n",
        "the classifier came back with: 4, the real answer is: 4"
       ]
      },
      {
       "output_type": "stream",
       "stream": "stdout",
       "text": [
        "\n",
        "the classifier came back with: 4, the real answer is: 4"
       ]
      },
      {
       "output_type": "stream",
       "stream": "stdout",
       "text": [
        "\n",
        "the classifier came back with: 4, the real answer is: 4"
       ]
      },
      {
       "output_type": "stream",
       "stream": "stdout",
       "text": [
        "\n",
        "the classifier came back with: 4, the real answer is: 4"
       ]
      },
      {
       "output_type": "stream",
       "stream": "stdout",
       "text": [
        "\n",
        "the classifier came back with: 4, the real answer is: 4"
       ]
      },
      {
       "output_type": "stream",
       "stream": "stdout",
       "text": [
        "\n",
        "the classifier came back with: 4, the real answer is: 4"
       ]
      },
      {
       "output_type": "stream",
       "stream": "stdout",
       "text": [
        "\n",
        "the classifier came back with: 4, the real answer is: 4"
       ]
      },
      {
       "output_type": "stream",
       "stream": "stdout",
       "text": [
        "\n",
        "the classifier came back with: 4, the real answer is: 4"
       ]
      },
      {
       "output_type": "stream",
       "stream": "stdout",
       "text": [
        "\n",
        "the classifier came back with: 4, the real answer is: 4"
       ]
      },
      {
       "output_type": "stream",
       "stream": "stdout",
       "text": [
        "\n",
        "the classifier came back with: 4, the real answer is: 4"
       ]
      },
      {
       "output_type": "stream",
       "stream": "stdout",
       "text": [
        "\n",
        "the classifier came back with: 4, the real answer is: 4"
       ]
      },
      {
       "output_type": "stream",
       "stream": "stdout",
       "text": [
        "\n",
        "the classifier came back with: 4, the real answer is: 4"
       ]
      },
      {
       "output_type": "stream",
       "stream": "stdout",
       "text": [
        "\n",
        "the classifier came back with: 4, the real answer is: 4"
       ]
      },
      {
       "output_type": "stream",
       "stream": "stdout",
       "text": [
        "\n",
        "the classifier came back with: 4, the real answer is: 4"
       ]
      },
      {
       "output_type": "stream",
       "stream": "stdout",
       "text": [
        "\n",
        "the classifier came back with: 4, the real answer is: 4"
       ]
      },
      {
       "output_type": "stream",
       "stream": "stdout",
       "text": [
        "\n",
        "the classifier came back with: 4, the real answer is: 4"
       ]
      },
      {
       "output_type": "stream",
       "stream": "stdout",
       "text": [
        "\n",
        "the classifier came back with: 4, the real answer is: 4"
       ]
      },
      {
       "output_type": "stream",
       "stream": "stdout",
       "text": [
        "\n",
        "the classifier came back with: 4, the real answer is: 4"
       ]
      },
      {
       "output_type": "stream",
       "stream": "stdout",
       "text": [
        "\n",
        "the classifier came back with: 4, the real answer is: 4"
       ]
      },
      {
       "output_type": "stream",
       "stream": "stdout",
       "text": [
        "\n",
        "the classifier came back with: 4, the real answer is: 4"
       ]
      },
      {
       "output_type": "stream",
       "stream": "stdout",
       "text": [
        "\n",
        "the classifier came back with: 4, the real answer is: 4"
       ]
      },
      {
       "output_type": "stream",
       "stream": "stdout",
       "text": [
        "\n",
        "the classifier came back with: 4, the real answer is: 4"
       ]
      },
      {
       "output_type": "stream",
       "stream": "stdout",
       "text": [
        "\n",
        "the classifier came back with: 4, the real answer is: 4"
       ]
      },
      {
       "output_type": "stream",
       "stream": "stdout",
       "text": [
        "\n",
        "the classifier came back with: 4, the real answer is: 4"
       ]
      },
      {
       "output_type": "stream",
       "stream": "stdout",
       "text": [
        "\n",
        "the classifier came back with: 4, the real answer is: 4"
       ]
      },
      {
       "output_type": "stream",
       "stream": "stdout",
       "text": [
        "\n",
        "the classifier came back with: 4, the real answer is: 4"
       ]
      },
      {
       "output_type": "stream",
       "stream": "stdout",
       "text": [
        "\n",
        "the classifier came back with: 4, the real answer is: 4"
       ]
      },
      {
       "output_type": "stream",
       "stream": "stdout",
       "text": [
        "\n",
        "the classifier came back with: 4, the real answer is: 4"
       ]
      },
      {
       "output_type": "stream",
       "stream": "stdout",
       "text": [
        "\n",
        "the classifier came back with: 4, the real answer is: 4"
       ]
      },
      {
       "output_type": "stream",
       "stream": "stdout",
       "text": [
        "\n",
        "the classifier came back with: 4, the real answer is: 4"
       ]
      },
      {
       "output_type": "stream",
       "stream": "stdout",
       "text": [
        "\n",
        "the classifier came back with: 4, the real answer is: 4"
       ]
      },
      {
       "output_type": "stream",
       "stream": "stdout",
       "text": [
        "\n",
        "the classifier came back with: 4, the real answer is: 4"
       ]
      },
      {
       "output_type": "stream",
       "stream": "stdout",
       "text": [
        "\n",
        "the classifier came back with: 4, the real answer is: 4"
       ]
      },
      {
       "output_type": "stream",
       "stream": "stdout",
       "text": [
        "\n",
        "the classifier came back with: 4, the real answer is: 4"
       ]
      },
      {
       "output_type": "stream",
       "stream": "stdout",
       "text": [
        "\n",
        "the classifier came back with: 4, the real answer is: 4"
       ]
      },
      {
       "output_type": "stream",
       "stream": "stdout",
       "text": [
        "\n",
        "the classifier came back with: 4, the real answer is: 4"
       ]
      },
      {
       "output_type": "stream",
       "stream": "stdout",
       "text": [
        "\n",
        "the classifier came back with: 4, the real answer is: 4"
       ]
      },
      {
       "output_type": "stream",
       "stream": "stdout",
       "text": [
        "\n",
        "the classifier came back with: 4, the real answer is: 4"
       ]
      },
      {
       "output_type": "stream",
       "stream": "stdout",
       "text": [
        "\n",
        "the classifier came back with: 4, the real answer is: 4"
       ]
      },
      {
       "output_type": "stream",
       "stream": "stdout",
       "text": [
        "\n",
        "the classifier came back with: 4, the real answer is: 4"
       ]
      },
      {
       "output_type": "stream",
       "stream": "stdout",
       "text": [
        "\n",
        "the classifier came back with: 4, the real answer is: 4"
       ]
      },
      {
       "output_type": "stream",
       "stream": "stdout",
       "text": [
        "\n",
        "the classifier came back with: 4, the real answer is: 4"
       ]
      },
      {
       "output_type": "stream",
       "stream": "stdout",
       "text": [
        "\n",
        "the classifier came back with: 4, the real answer is: 4"
       ]
      },
      {
       "output_type": "stream",
       "stream": "stdout",
       "text": [
        "\n",
        "the classifier came back with: 4, the real answer is: 4"
       ]
      },
      {
       "output_type": "stream",
       "stream": "stdout",
       "text": [
        "\n",
        "the classifier came back with: 4, the real answer is: 4"
       ]
      },
      {
       "output_type": "stream",
       "stream": "stdout",
       "text": [
        "\n",
        "the classifier came back with: 4, the real answer is: 4"
       ]
      },
      {
       "output_type": "stream",
       "stream": "stdout",
       "text": [
        "\n",
        "the classifier came back with: 4, the real answer is: 4"
       ]
      },
      {
       "output_type": "stream",
       "stream": "stdout",
       "text": [
        "\n",
        "the classifier came back with: 4, the real answer is: 4"
       ]
      },
      {
       "output_type": "stream",
       "stream": "stdout",
       "text": [
        "\n",
        "the classifier came back with: 4, the real answer is: 4"
       ]
      },
      {
       "output_type": "stream",
       "stream": "stdout",
       "text": [
        "\n",
        "the classifier came back with: 4, the real answer is: 4"
       ]
      },
      {
       "output_type": "stream",
       "stream": "stdout",
       "text": [
        "\n",
        "the classifier came back with: 4, the real answer is: 4"
       ]
      },
      {
       "output_type": "stream",
       "stream": "stdout",
       "text": [
        "\n",
        "the classifier came back with: 4, the real answer is: 4"
       ]
      },
      {
       "output_type": "stream",
       "stream": "stdout",
       "text": [
        "\n",
        "the classifier came back with: 4, the real answer is: 4"
       ]
      },
      {
       "output_type": "stream",
       "stream": "stdout",
       "text": [
        "\n",
        "the classifier came back with: 4, the real answer is: 4"
       ]
      },
      {
       "output_type": "stream",
       "stream": "stdout",
       "text": [
        "\n",
        "the classifier came back with: 4, the real answer is: 4"
       ]
      },
      {
       "output_type": "stream",
       "stream": "stdout",
       "text": [
        "\n",
        "the classifier came back with: 4, the real answer is: 4"
       ]
      },
      {
       "output_type": "stream",
       "stream": "stdout",
       "text": [
        "\n",
        "the classifier came back with: 4, the real answer is: 4"
       ]
      },
      {
       "output_type": "stream",
       "stream": "stdout",
       "text": [
        "\n",
        "the classifier came back with: 4, the real answer is: 4"
       ]
      },
      {
       "output_type": "stream",
       "stream": "stdout",
       "text": [
        "\n",
        "the classifier came back with: 4, the real answer is: 4"
       ]
      },
      {
       "output_type": "stream",
       "stream": "stdout",
       "text": [
        "\n",
        "the classifier came back with: 4, the real answer is: 4"
       ]
      },
      {
       "output_type": "stream",
       "stream": "stdout",
       "text": [
        "\n",
        "the classifier came back with: 4, the real answer is: 4"
       ]
      },
      {
       "output_type": "stream",
       "stream": "stdout",
       "text": [
        "\n",
        "the classifier came back with: 4, the real answer is: 4"
       ]
      },
      {
       "output_type": "stream",
       "stream": "stdout",
       "text": [
        "\n",
        "the classifier came back with: 4, the real answer is: 4"
       ]
      },
      {
       "output_type": "stream",
       "stream": "stdout",
       "text": [
        "\n",
        "the classifier came back with: 4, the real answer is: 4"
       ]
      },
      {
       "output_type": "stream",
       "stream": "stdout",
       "text": [
        "\n",
        "the classifier came back with: 4, the real answer is: 4"
       ]
      },
      {
       "output_type": "stream",
       "stream": "stdout",
       "text": [
        "\n",
        "the classifier came back with: 4, the real answer is: 4"
       ]
      },
      {
       "output_type": "stream",
       "stream": "stdout",
       "text": [
        "\n",
        "the classifier came back with: 4, the real answer is: 4"
       ]
      },
      {
       "output_type": "stream",
       "stream": "stdout",
       "text": [
        "\n",
        "the classifier came back with: 4, the real answer is: 4"
       ]
      },
      {
       "output_type": "stream",
       "stream": "stdout",
       "text": [
        "\n",
        "the classifier came back with: 4, the real answer is: 4"
       ]
      },
      {
       "output_type": "stream",
       "stream": "stdout",
       "text": [
        "\n",
        "the classifier came back with: 4, the real answer is: 4"
       ]
      },
      {
       "output_type": "stream",
       "stream": "stdout",
       "text": [
        "\n",
        "the classifier came back with: 4, the real answer is: 4"
       ]
      },
      {
       "output_type": "stream",
       "stream": "stdout",
       "text": [
        "\n",
        "the classifier came back with: 4, the real answer is: 4"
       ]
      },
      {
       "output_type": "stream",
       "stream": "stdout",
       "text": [
        "\n",
        "the classifier came back with: 5, the real answer is: 5"
       ]
      },
      {
       "output_type": "stream",
       "stream": "stdout",
       "text": [
        "\n",
        "the classifier came back with: 5, the real answer is: 5"
       ]
      },
      {
       "output_type": "stream",
       "stream": "stdout",
       "text": [
        "\n",
        "the classifier came back with: 5, the real answer is: 5"
       ]
      },
      {
       "output_type": "stream",
       "stream": "stdout",
       "text": [
        "\n",
        "the classifier came back with: 5, the real answer is: 5"
       ]
      },
      {
       "output_type": "stream",
       "stream": "stdout",
       "text": [
        "\n",
        "the classifier came back with: 5, the real answer is: 5"
       ]
      },
      {
       "output_type": "stream",
       "stream": "stdout",
       "text": [
        "\n",
        "the classifier came back with: 5, the real answer is: 5"
       ]
      },
      {
       "output_type": "stream",
       "stream": "stdout",
       "text": [
        "\n",
        "the classifier came back with: 5, the real answer is: 5"
       ]
      },
      {
       "output_type": "stream",
       "stream": "stdout",
       "text": [
        "\n",
        "the classifier came back with: 5, the real answer is: 5"
       ]
      },
      {
       "output_type": "stream",
       "stream": "stdout",
       "text": [
        "\n",
        "the classifier came back with: 5, the real answer is: 5"
       ]
      },
      {
       "output_type": "stream",
       "stream": "stdout",
       "text": [
        "\n",
        "the classifier came back with: 5, the real answer is: 5"
       ]
      },
      {
       "output_type": "stream",
       "stream": "stdout",
       "text": [
        "\n",
        "the classifier came back with: 5, the real answer is: 5"
       ]
      },
      {
       "output_type": "stream",
       "stream": "stdout",
       "text": [
        "\n",
        "the classifier came back with: 5, the real answer is: 5"
       ]
      },
      {
       "output_type": "stream",
       "stream": "stdout",
       "text": [
        "\n",
        "the classifier came back with: 5, the real answer is: 5"
       ]
      },
      {
       "output_type": "stream",
       "stream": "stdout",
       "text": [
        "\n",
        "the classifier came back with: 5, the real answer is: 5"
       ]
      },
      {
       "output_type": "stream",
       "stream": "stdout",
       "text": [
        "\n",
        "the classifier came back with: 5, the real answer is: 5"
       ]
      },
      {
       "output_type": "stream",
       "stream": "stdout",
       "text": [
        "\n",
        "the classifier came back with: 5, the real answer is: 5"
       ]
      },
      {
       "output_type": "stream",
       "stream": "stdout",
       "text": [
        "\n",
        "the classifier came back with: 5, the real answer is: 5"
       ]
      },
      {
       "output_type": "stream",
       "stream": "stdout",
       "text": [
        "\n",
        "the classifier came back with: 5, the real answer is: 5"
       ]
      },
      {
       "output_type": "stream",
       "stream": "stdout",
       "text": [
        "\n",
        "the classifier came back with: 5, the real answer is: 5"
       ]
      },
      {
       "output_type": "stream",
       "stream": "stdout",
       "text": [
        "\n",
        "the classifier came back with: 5, the real answer is: 5"
       ]
      },
      {
       "output_type": "stream",
       "stream": "stdout",
       "text": [
        "\n",
        "the classifier came back with: 5, the real answer is: 5"
       ]
      },
      {
       "output_type": "stream",
       "stream": "stdout",
       "text": [
        "\n",
        "the classifier came back with: 5, the real answer is: 5"
       ]
      },
      {
       "output_type": "stream",
       "stream": "stdout",
       "text": [
        "\n",
        "the classifier came back with: 5, the real answer is: 5"
       ]
      },
      {
       "output_type": "stream",
       "stream": "stdout",
       "text": [
        "\n",
        "the classifier came back with: 5, the real answer is: 5"
       ]
      },
      {
       "output_type": "stream",
       "stream": "stdout",
       "text": [
        "\n",
        "the classifier came back with: 5, the real answer is: 5"
       ]
      },
      {
       "output_type": "stream",
       "stream": "stdout",
       "text": [
        "\n",
        "the classifier came back with: 5, the real answer is: 5"
       ]
      },
      {
       "output_type": "stream",
       "stream": "stdout",
       "text": [
        "\n",
        "the classifier came back with: 5, the real answer is: 5"
       ]
      },
      {
       "output_type": "stream",
       "stream": "stdout",
       "text": [
        "\n",
        "the classifier came back with: 5, the real answer is: 5"
       ]
      },
      {
       "output_type": "stream",
       "stream": "stdout",
       "text": [
        "\n",
        "the classifier came back with: 5, the real answer is: 5"
       ]
      },
      {
       "output_type": "stream",
       "stream": "stdout",
       "text": [
        "\n",
        "the classifier came back with: 5, the real answer is: 5"
       ]
      },
      {
       "output_type": "stream",
       "stream": "stdout",
       "text": [
        "\n",
        "the classifier came back with: 5, the real answer is: 5"
       ]
      },
      {
       "output_type": "stream",
       "stream": "stdout",
       "text": [
        "\n",
        "the classifier came back with: 5, the real answer is: 5"
       ]
      },
      {
       "output_type": "stream",
       "stream": "stdout",
       "text": [
        "\n",
        "the classifier came back with: 5, the real answer is: 5"
       ]
      },
      {
       "output_type": "stream",
       "stream": "stdout",
       "text": [
        "\n",
        "the classifier came back with: 5, the real answer is: 5"
       ]
      },
      {
       "output_type": "stream",
       "stream": "stdout",
       "text": [
        "\n",
        "the classifier came back with: 5, the real answer is: 5"
       ]
      },
      {
       "output_type": "stream",
       "stream": "stdout",
       "text": [
        "\n",
        "the classifier came back with: 5, the real answer is: 5"
       ]
      },
      {
       "output_type": "stream",
       "stream": "stdout",
       "text": [
        "\n",
        "the classifier came back with: 5, the real answer is: 5"
       ]
      },
      {
       "output_type": "stream",
       "stream": "stdout",
       "text": [
        "\n",
        "the classifier came back with: 5, the real answer is: 5"
       ]
      },
      {
       "output_type": "stream",
       "stream": "stdout",
       "text": [
        "\n",
        "the classifier came back with: 5, the real answer is: 5"
       ]
      },
      {
       "output_type": "stream",
       "stream": "stdout",
       "text": [
        "\n",
        "the classifier came back with: 5, the real answer is: 5"
       ]
      },
      {
       "output_type": "stream",
       "stream": "stdout",
       "text": [
        "\n",
        "the classifier came back with: 5, the real answer is: 5"
       ]
      },
      {
       "output_type": "stream",
       "stream": "stdout",
       "text": [
        "\n",
        "the classifier came back with: 5, the real answer is: 5"
       ]
      },
      {
       "output_type": "stream",
       "stream": "stdout",
       "text": [
        "\n",
        "the classifier came back with: 5, the real answer is: 5"
       ]
      },
      {
       "output_type": "stream",
       "stream": "stdout",
       "text": [
        "\n",
        "the classifier came back with: 5, the real answer is: 5"
       ]
      },
      {
       "output_type": "stream",
       "stream": "stdout",
       "text": [
        "\n",
        "the classifier came back with: 5, the real answer is: 5"
       ]
      },
      {
       "output_type": "stream",
       "stream": "stdout",
       "text": [
        "\n",
        "the classifier came back with: 3, the real answer is: 5"
       ]
      },
      {
       "output_type": "stream",
       "stream": "stdout",
       "text": [
        "\n",
        "the classifier came back with: 6, the real answer is: 5"
       ]
      },
      {
       "output_type": "stream",
       "stream": "stdout",
       "text": [
        "\n",
        "the classifier came back with: 5, the real answer is: 5"
       ]
      },
      {
       "output_type": "stream",
       "stream": "stdout",
       "text": [
        "\n",
        "the classifier came back with: 5, the real answer is: 5"
       ]
      },
      {
       "output_type": "stream",
       "stream": "stdout",
       "text": [
        "\n",
        "the classifier came back with: 5, the real answer is: 5"
       ]
      },
      {
       "output_type": "stream",
       "stream": "stdout",
       "text": [
        "\n",
        "the classifier came back with: 5, the real answer is: 5"
       ]
      },
      {
       "output_type": "stream",
       "stream": "stdout",
       "text": [
        "\n",
        "the classifier came back with: 5, the real answer is: 5"
       ]
      },
      {
       "output_type": "stream",
       "stream": "stdout",
       "text": [
        "\n",
        "the classifier came back with: 5, the real answer is: 5"
       ]
      },
      {
       "output_type": "stream",
       "stream": "stdout",
       "text": [
        "\n",
        "the classifier came back with: 5, the real answer is: 5"
       ]
      },
      {
       "output_type": "stream",
       "stream": "stdout",
       "text": [
        "\n",
        "the classifier came back with: 5, the real answer is: 5"
       ]
      },
      {
       "output_type": "stream",
       "stream": "stdout",
       "text": [
        "\n",
        "the classifier came back with: 5, the real answer is: 5"
       ]
      },
      {
       "output_type": "stream",
       "stream": "stdout",
       "text": [
        "\n",
        "the classifier came back with: 5, the real answer is: 5"
       ]
      },
      {
       "output_type": "stream",
       "stream": "stdout",
       "text": [
        "\n",
        "the classifier came back with: 5, the real answer is: 5"
       ]
      },
      {
       "output_type": "stream",
       "stream": "stdout",
       "text": [
        "\n",
        "the classifier came back with: 5, the real answer is: 5"
       ]
      },
      {
       "output_type": "stream",
       "stream": "stdout",
       "text": [
        "\n",
        "the classifier came back with: 5, the real answer is: 5"
       ]
      },
      {
       "output_type": "stream",
       "stream": "stdout",
       "text": [
        "\n",
        "the classifier came back with: 5, the real answer is: 5"
       ]
      },
      {
       "output_type": "stream",
       "stream": "stdout",
       "text": [
        "\n",
        "the classifier came back with: 5, the real answer is: 5"
       ]
      },
      {
       "output_type": "stream",
       "stream": "stdout",
       "text": [
        "\n",
        "the classifier came back with: 5, the real answer is: 5"
       ]
      },
      {
       "output_type": "stream",
       "stream": "stdout",
       "text": [
        "\n",
        "the classifier came back with: 5, the real answer is: 5"
       ]
      },
      {
       "output_type": "stream",
       "stream": "stdout",
       "text": [
        "\n",
        "the classifier came back with: 5, the real answer is: 5"
       ]
      },
      {
       "output_type": "stream",
       "stream": "stdout",
       "text": [
        "\n",
        "the classifier came back with: 5, the real answer is: 5"
       ]
      },
      {
       "output_type": "stream",
       "stream": "stdout",
       "text": [
        "\n",
        "the classifier came back with: 5, the real answer is: 5"
       ]
      },
      {
       "output_type": "stream",
       "stream": "stdout",
       "text": [
        "\n",
        "the classifier came back with: 5, the real answer is: 5"
       ]
      },
      {
       "output_type": "stream",
       "stream": "stdout",
       "text": [
        "\n",
        "the classifier came back with: 5, the real answer is: 5"
       ]
      },
      {
       "output_type": "stream",
       "stream": "stdout",
       "text": [
        "\n",
        "the classifier came back with: 5, the real answer is: 5"
       ]
      },
      {
       "output_type": "stream",
       "stream": "stdout",
       "text": [
        "\n",
        "the classifier came back with: 5, the real answer is: 5"
       ]
      },
      {
       "output_type": "stream",
       "stream": "stdout",
       "text": [
        "\n",
        "the classifier came back with: 5, the real answer is: 5"
       ]
      },
      {
       "output_type": "stream",
       "stream": "stdout",
       "text": [
        "\n",
        "the classifier came back with: 5, the real answer is: 5"
       ]
      },
      {
       "output_type": "stream",
       "stream": "stdout",
       "text": [
        "\n",
        "the classifier came back with: 5, the real answer is: 5"
       ]
      },
      {
       "output_type": "stream",
       "stream": "stdout",
       "text": [
        "\n",
        "the classifier came back with: 5, the real answer is: 5"
       ]
      },
      {
       "output_type": "stream",
       "stream": "stdout",
       "text": [
        "\n",
        "the classifier came back with: 5, the real answer is: 5"
       ]
      },
      {
       "output_type": "stream",
       "stream": "stdout",
       "text": [
        "\n",
        "the classifier came back with: 5, the real answer is: 5"
       ]
      },
      {
       "output_type": "stream",
       "stream": "stdout",
       "text": [
        "\n",
        "the classifier came back with: 5, the real answer is: 5"
       ]
      },
      {
       "output_type": "stream",
       "stream": "stdout",
       "text": [
        "\n",
        "the classifier came back with: 5, the real answer is: 5"
       ]
      },
      {
       "output_type": "stream",
       "stream": "stdout",
       "text": [
        "\n",
        "the classifier came back with: 5, the real answer is: 5"
       ]
      },
      {
       "output_type": "stream",
       "stream": "stdout",
       "text": [
        "\n",
        "the classifier came back with: 5, the real answer is: 5"
       ]
      },
      {
       "output_type": "stream",
       "stream": "stdout",
       "text": [
        "\n",
        "the classifier came back with: 5, the real answer is: 5"
       ]
      },
      {
       "output_type": "stream",
       "stream": "stdout",
       "text": [
        "\n",
        "the classifier came back with: 5, the real answer is: 5"
       ]
      },
      {
       "output_type": "stream",
       "stream": "stdout",
       "text": [
        "\n",
        "the classifier came back with: 5, the real answer is: 5"
       ]
      },
      {
       "output_type": "stream",
       "stream": "stdout",
       "text": [
        "\n",
        "the classifier came back with: 5, the real answer is: 5"
       ]
      },
      {
       "output_type": "stream",
       "stream": "stdout",
       "text": [
        "\n",
        "the classifier came back with: 5, the real answer is: 5"
       ]
      },
      {
       "output_type": "stream",
       "stream": "stdout",
       "text": [
        "\n",
        "the classifier came back with: 5, the real answer is: 5"
       ]
      },
      {
       "output_type": "stream",
       "stream": "stdout",
       "text": [
        "\n",
        "the classifier came back with: 5, the real answer is: 5"
       ]
      },
      {
       "output_type": "stream",
       "stream": "stdout",
       "text": [
        "\n",
        "the classifier came back with: 5, the real answer is: 5"
       ]
      },
      {
       "output_type": "stream",
       "stream": "stdout",
       "text": [
        "\n",
        "the classifier came back with: 5, the real answer is: 5"
       ]
      },
      {
       "output_type": "stream",
       "stream": "stdout",
       "text": [
        "\n",
        "the classifier came back with: 5, the real answer is: 5"
       ]
      },
      {
       "output_type": "stream",
       "stream": "stdout",
       "text": [
        "\n",
        "the classifier came back with: 5, the real answer is: 5"
       ]
      },
      {
       "output_type": "stream",
       "stream": "stdout",
       "text": [
        "\n",
        "the classifier came back with: 5, the real answer is: 5"
       ]
      },
      {
       "output_type": "stream",
       "stream": "stdout",
       "text": [
        "\n",
        "the classifier came back with: 5, the real answer is: 5"
       ]
      },
      {
       "output_type": "stream",
       "stream": "stdout",
       "text": [
        "\n",
        "the classifier came back with: 5, the real answer is: 5"
       ]
      },
      {
       "output_type": "stream",
       "stream": "stdout",
       "text": [
        "\n",
        "the classifier came back with: 5, the real answer is: 5"
       ]
      },
      {
       "output_type": "stream",
       "stream": "stdout",
       "text": [
        "\n",
        "the classifier came back with: 5, the real answer is: 5"
       ]
      },
      {
       "output_type": "stream",
       "stream": "stdout",
       "text": [
        "\n",
        "the classifier came back with: 5, the real answer is: 5"
       ]
      },
      {
       "output_type": "stream",
       "stream": "stdout",
       "text": [
        "\n",
        "the classifier came back with: 5, the real answer is: 5"
       ]
      },
      {
       "output_type": "stream",
       "stream": "stdout",
       "text": [
        "\n",
        "the classifier came back with: 5, the real answer is: 5"
       ]
      },
      {
       "output_type": "stream",
       "stream": "stdout",
       "text": [
        "\n",
        "the classifier came back with: 5, the real answer is: 5"
       ]
      },
      {
       "output_type": "stream",
       "stream": "stdout",
       "text": [
        "\n",
        "the classifier came back with: 5, the real answer is: 5"
       ]
      },
      {
       "output_type": "stream",
       "stream": "stdout",
       "text": [
        "\n",
        "the classifier came back with: 5, the real answer is: 5"
       ]
      },
      {
       "output_type": "stream",
       "stream": "stdout",
       "text": [
        "\n",
        "the classifier came back with: 5, the real answer is: 5"
       ]
      },
      {
       "output_type": "stream",
       "stream": "stdout",
       "text": [
        "\n",
        "the classifier came back with: 5, the real answer is: 5"
       ]
      },
      {
       "output_type": "stream",
       "stream": "stdout",
       "text": [
        "\n",
        "the classifier came back with: 5, the real answer is: 5"
       ]
      },
      {
       "output_type": "stream",
       "stream": "stdout",
       "text": [
        "\n",
        "the classifier came back with: 5, the real answer is: 5"
       ]
      },
      {
       "output_type": "stream",
       "stream": "stdout",
       "text": [
        "\n",
        "the classifier came back with: 5, the real answer is: 5"
       ]
      },
      {
       "output_type": "stream",
       "stream": "stdout",
       "text": [
        "\n",
        "the classifier came back with: 6, the real answer is: 6"
       ]
      },
      {
       "output_type": "stream",
       "stream": "stdout",
       "text": [
        "\n",
        "the classifier came back with: 6, the real answer is: 6"
       ]
      },
      {
       "output_type": "stream",
       "stream": "stdout",
       "text": [
        "\n",
        "the classifier came back with: 6, the real answer is: 6"
       ]
      },
      {
       "output_type": "stream",
       "stream": "stdout",
       "text": [
        "\n",
        "the classifier came back with: 6, the real answer is: 6"
       ]
      },
      {
       "output_type": "stream",
       "stream": "stdout",
       "text": [
        "\n",
        "the classifier came back with: 6, the real answer is: 6"
       ]
      },
      {
       "output_type": "stream",
       "stream": "stdout",
       "text": [
        "\n",
        "the classifier came back with: 6, the real answer is: 6"
       ]
      },
      {
       "output_type": "stream",
       "stream": "stdout",
       "text": [
        "\n",
        "the classifier came back with: 6, the real answer is: 6"
       ]
      },
      {
       "output_type": "stream",
       "stream": "stdout",
       "text": [
        "\n",
        "the classifier came back with: 6, the real answer is: 6"
       ]
      },
      {
       "output_type": "stream",
       "stream": "stdout",
       "text": [
        "\n",
        "the classifier came back with: 6, the real answer is: 6"
       ]
      },
      {
       "output_type": "stream",
       "stream": "stdout",
       "text": [
        "\n",
        "the classifier came back with: 6, the real answer is: 6"
       ]
      },
      {
       "output_type": "stream",
       "stream": "stdout",
       "text": [
        "\n",
        "the classifier came back with: 6, the real answer is: 6"
       ]
      },
      {
       "output_type": "stream",
       "stream": "stdout",
       "text": [
        "\n",
        "the classifier came back with: 6, the real answer is: 6"
       ]
      },
      {
       "output_type": "stream",
       "stream": "stdout",
       "text": [
        "\n",
        "the classifier came back with: 6, the real answer is: 6"
       ]
      },
      {
       "output_type": "stream",
       "stream": "stdout",
       "text": [
        "\n",
        "the classifier came back with: 6, the real answer is: 6"
       ]
      },
      {
       "output_type": "stream",
       "stream": "stdout",
       "text": [
        "\n",
        "the classifier came back with: 6, the real answer is: 6"
       ]
      },
      {
       "output_type": "stream",
       "stream": "stdout",
       "text": [
        "\n",
        "the classifier came back with: 6, the real answer is: 6"
       ]
      },
      {
       "output_type": "stream",
       "stream": "stdout",
       "text": [
        "\n",
        "the classifier came back with: 6, the real answer is: 6"
       ]
      },
      {
       "output_type": "stream",
       "stream": "stdout",
       "text": [
        "\n",
        "the classifier came back with: 6, the real answer is: 6"
       ]
      },
      {
       "output_type": "stream",
       "stream": "stdout",
       "text": [
        "\n",
        "the classifier came back with: 6, the real answer is: 6"
       ]
      },
      {
       "output_type": "stream",
       "stream": "stdout",
       "text": [
        "\n",
        "the classifier came back with: 6, the real answer is: 6"
       ]
      },
      {
       "output_type": "stream",
       "stream": "stdout",
       "text": [
        "\n",
        "the classifier came back with: 6, the real answer is: 6"
       ]
      },
      {
       "output_type": "stream",
       "stream": "stdout",
       "text": [
        "\n",
        "the classifier came back with: 6, the real answer is: 6"
       ]
      },
      {
       "output_type": "stream",
       "stream": "stdout",
       "text": [
        "\n",
        "the classifier came back with: 6, the real answer is: 6"
       ]
      },
      {
       "output_type": "stream",
       "stream": "stdout",
       "text": [
        "\n",
        "the classifier came back with: 6, the real answer is: 6"
       ]
      },
      {
       "output_type": "stream",
       "stream": "stdout",
       "text": [
        "\n",
        "the classifier came back with: 6, the real answer is: 6"
       ]
      },
      {
       "output_type": "stream",
       "stream": "stdout",
       "text": [
        "\n",
        "the classifier came back with: 6, the real answer is: 6"
       ]
      },
      {
       "output_type": "stream",
       "stream": "stdout",
       "text": [
        "\n",
        "the classifier came back with: 6, the real answer is: 6"
       ]
      },
      {
       "output_type": "stream",
       "stream": "stdout",
       "text": [
        "\n",
        "the classifier came back with: 6, the real answer is: 6"
       ]
      },
      {
       "output_type": "stream",
       "stream": "stdout",
       "text": [
        "\n",
        "the classifier came back with: 6, the real answer is: 6"
       ]
      },
      {
       "output_type": "stream",
       "stream": "stdout",
       "text": [
        "\n",
        "the classifier came back with: 6, the real answer is: 6"
       ]
      },
      {
       "output_type": "stream",
       "stream": "stdout",
       "text": [
        "\n",
        "the classifier came back with: 6, the real answer is: 6"
       ]
      },
      {
       "output_type": "stream",
       "stream": "stdout",
       "text": [
        "\n",
        "the classifier came back with: 6, the real answer is: 6"
       ]
      },
      {
       "output_type": "stream",
       "stream": "stdout",
       "text": [
        "\n",
        "the classifier came back with: 6, the real answer is: 6"
       ]
      },
      {
       "output_type": "stream",
       "stream": "stdout",
       "text": [
        "\n",
        "the classifier came back with: 6, the real answer is: 6"
       ]
      },
      {
       "output_type": "stream",
       "stream": "stdout",
       "text": [
        "\n",
        "the classifier came back with: 6, the real answer is: 6"
       ]
      },
      {
       "output_type": "stream",
       "stream": "stdout",
       "text": [
        "\n",
        "the classifier came back with: 6, the real answer is: 6"
       ]
      },
      {
       "output_type": "stream",
       "stream": "stdout",
       "text": [
        "\n",
        "the classifier came back with: 6, the real answer is: 6"
       ]
      },
      {
       "output_type": "stream",
       "stream": "stdout",
       "text": [
        "\n",
        "the classifier came back with: 6, the real answer is: 6"
       ]
      },
      {
       "output_type": "stream",
       "stream": "stdout",
       "text": [
        "\n",
        "the classifier came back with: 6, the real answer is: 6"
       ]
      },
      {
       "output_type": "stream",
       "stream": "stdout",
       "text": [
        "\n",
        "the classifier came back with: 6, the real answer is: 6"
       ]
      },
      {
       "output_type": "stream",
       "stream": "stdout",
       "text": [
        "\n",
        "the classifier came back with: 6, the real answer is: 6"
       ]
      },
      {
       "output_type": "stream",
       "stream": "stdout",
       "text": [
        "\n",
        "the classifier came back with: 6, the real answer is: 6"
       ]
      },
      {
       "output_type": "stream",
       "stream": "stdout",
       "text": [
        "\n",
        "the classifier came back with: 6, the real answer is: 6"
       ]
      },
      {
       "output_type": "stream",
       "stream": "stdout",
       "text": [
        "\n",
        "the classifier came back with: 6, the real answer is: 6"
       ]
      },
      {
       "output_type": "stream",
       "stream": "stdout",
       "text": [
        "\n",
        "the classifier came back with: 6, the real answer is: 6"
       ]
      },
      {
       "output_type": "stream",
       "stream": "stdout",
       "text": [
        "\n",
        "the classifier came back with: 6, the real answer is: 6"
       ]
      },
      {
       "output_type": "stream",
       "stream": "stdout",
       "text": [
        "\n",
        "the classifier came back with: 6, the real answer is: 6"
       ]
      },
      {
       "output_type": "stream",
       "stream": "stdout",
       "text": [
        "\n",
        "the classifier came back with: 6, the real answer is: 6"
       ]
      },
      {
       "output_type": "stream",
       "stream": "stdout",
       "text": [
        "\n",
        "the classifier came back with: 6, the real answer is: 6"
       ]
      },
      {
       "output_type": "stream",
       "stream": "stdout",
       "text": [
        "\n",
        "the classifier came back with: 6, the real answer is: 6"
       ]
      },
      {
       "output_type": "stream",
       "stream": "stdout",
       "text": [
        "\n",
        "the classifier came back with: 6, the real answer is: 6"
       ]
      },
      {
       "output_type": "stream",
       "stream": "stdout",
       "text": [
        "\n",
        "the classifier came back with: 6, the real answer is: 6"
       ]
      },
      {
       "output_type": "stream",
       "stream": "stdout",
       "text": [
        "\n",
        "the classifier came back with: 6, the real answer is: 6"
       ]
      },
      {
       "output_type": "stream",
       "stream": "stdout",
       "text": [
        "\n",
        "the classifier came back with: 6, the real answer is: 6"
       ]
      },
      {
       "output_type": "stream",
       "stream": "stdout",
       "text": [
        "\n",
        "the classifier came back with: 6, the real answer is: 6"
       ]
      },
      {
       "output_type": "stream",
       "stream": "stdout",
       "text": [
        "\n",
        "the classifier came back with: 6, the real answer is: 6"
       ]
      },
      {
       "output_type": "stream",
       "stream": "stdout",
       "text": [
        "\n",
        "the classifier came back with: 6, the real answer is: 6"
       ]
      },
      {
       "output_type": "stream",
       "stream": "stdout",
       "text": [
        "\n",
        "the classifier came back with: 6, the real answer is: 6"
       ]
      },
      {
       "output_type": "stream",
       "stream": "stdout",
       "text": [
        "\n",
        "the classifier came back with: 6, the real answer is: 6"
       ]
      },
      {
       "output_type": "stream",
       "stream": "stdout",
       "text": [
        "\n",
        "the classifier came back with: 6, the real answer is: 6"
       ]
      },
      {
       "output_type": "stream",
       "stream": "stdout",
       "text": [
        "\n",
        "the classifier came back with: 6, the real answer is: 6"
       ]
      },
      {
       "output_type": "stream",
       "stream": "stdout",
       "text": [
        "\n",
        "the classifier came back with: 6, the real answer is: 6"
       ]
      },
      {
       "output_type": "stream",
       "stream": "stdout",
       "text": [
        "\n",
        "the classifier came back with: 6, the real answer is: 6"
       ]
      },
      {
       "output_type": "stream",
       "stream": "stdout",
       "text": [
        "\n",
        "the classifier came back with: 6, the real answer is: 6"
       ]
      },
      {
       "output_type": "stream",
       "stream": "stdout",
       "text": [
        "\n",
        "the classifier came back with: 6, the real answer is: 6"
       ]
      },
      {
       "output_type": "stream",
       "stream": "stdout",
       "text": [
        "\n",
        "the classifier came back with: 6, the real answer is: 6"
       ]
      },
      {
       "output_type": "stream",
       "stream": "stdout",
       "text": [
        "\n",
        "the classifier came back with: 6, the real answer is: 6"
       ]
      },
      {
       "output_type": "stream",
       "stream": "stdout",
       "text": [
        "\n",
        "the classifier came back with: 6, the real answer is: 6"
       ]
      },
      {
       "output_type": "stream",
       "stream": "stdout",
       "text": [
        "\n",
        "the classifier came back with: 6, the real answer is: 6"
       ]
      },
      {
       "output_type": "stream",
       "stream": "stdout",
       "text": [
        "\n",
        "the classifier came back with: 6, the real answer is: 6"
       ]
      },
      {
       "output_type": "stream",
       "stream": "stdout",
       "text": [
        "\n",
        "the classifier came back with: 6, the real answer is: 6"
       ]
      },
      {
       "output_type": "stream",
       "stream": "stdout",
       "text": [
        "\n",
        "the classifier came back with: 6, the real answer is: 6"
       ]
      },
      {
       "output_type": "stream",
       "stream": "stdout",
       "text": [
        "\n",
        "the classifier came back with: 6, the real answer is: 6"
       ]
      },
      {
       "output_type": "stream",
       "stream": "stdout",
       "text": [
        "\n",
        "the classifier came back with: 6, the real answer is: 6"
       ]
      },
      {
       "output_type": "stream",
       "stream": "stdout",
       "text": [
        "\n",
        "the classifier came back with: 6, the real answer is: 6"
       ]
      },
      {
       "output_type": "stream",
       "stream": "stdout",
       "text": [
        "\n",
        "the classifier came back with: 6, the real answer is: 6"
       ]
      },
      {
       "output_type": "stream",
       "stream": "stdout",
       "text": [
        "\n",
        "the classifier came back with: 6, the real answer is: 6"
       ]
      },
      {
       "output_type": "stream",
       "stream": "stdout",
       "text": [
        "\n",
        "the classifier came back with: 6, the real answer is: 6"
       ]
      },
      {
       "output_type": "stream",
       "stream": "stdout",
       "text": [
        "\n",
        "the classifier came back with: 6, the real answer is: 6"
       ]
      },
      {
       "output_type": "stream",
       "stream": "stdout",
       "text": [
        "\n",
        "the classifier came back with: 6, the real answer is: 6"
       ]
      },
      {
       "output_type": "stream",
       "stream": "stdout",
       "text": [
        "\n",
        "the classifier came back with: 6, the real answer is: 6"
       ]
      },
      {
       "output_type": "stream",
       "stream": "stdout",
       "text": [
        "\n",
        "the classifier came back with: 6, the real answer is: 6"
       ]
      },
      {
       "output_type": "stream",
       "stream": "stdout",
       "text": [
        "\n",
        "the classifier came back with: 6, the real answer is: 6"
       ]
      },
      {
       "output_type": "stream",
       "stream": "stdout",
       "text": [
        "\n",
        "the classifier came back with: 6, the real answer is: 6"
       ]
      },
      {
       "output_type": "stream",
       "stream": "stdout",
       "text": [
        "\n",
        "the classifier came back with: 6, the real answer is: 6"
       ]
      },
      {
       "output_type": "stream",
       "stream": "stdout",
       "text": [
        "\n",
        "the classifier came back with: 6, the real answer is: 6"
       ]
      },
      {
       "output_type": "stream",
       "stream": "stdout",
       "text": [
        "\n",
        "the classifier came back with: 6, the real answer is: 6"
       ]
      },
      {
       "output_type": "stream",
       "stream": "stdout",
       "text": [
        "\n",
        "the classifier came back with: 7, the real answer is: 7"
       ]
      },
      {
       "output_type": "stream",
       "stream": "stdout",
       "text": [
        "\n",
        "the classifier came back with: 7, the real answer is: 7"
       ]
      },
      {
       "output_type": "stream",
       "stream": "stdout",
       "text": [
        "\n",
        "the classifier came back with: 7, the real answer is: 7"
       ]
      },
      {
       "output_type": "stream",
       "stream": "stdout",
       "text": [
        "\n",
        "the classifier came back with: 7, the real answer is: 7"
       ]
      },
      {
       "output_type": "stream",
       "stream": "stdout",
       "text": [
        "\n",
        "the classifier came back with: 7, the real answer is: 7"
       ]
      },
      {
       "output_type": "stream",
       "stream": "stdout",
       "text": [
        "\n",
        "the classifier came back with: 7, the real answer is: 7"
       ]
      },
      {
       "output_type": "stream",
       "stream": "stdout",
       "text": [
        "\n",
        "the classifier came back with: 7, the real answer is: 7"
       ]
      },
      {
       "output_type": "stream",
       "stream": "stdout",
       "text": [
        "\n",
        "the classifier came back with: 7, the real answer is: 7"
       ]
      },
      {
       "output_type": "stream",
       "stream": "stdout",
       "text": [
        "\n",
        "the classifier came back with: 7, the real answer is: 7"
       ]
      },
      {
       "output_type": "stream",
       "stream": "stdout",
       "text": [
        "\n",
        "the classifier came back with: 7, the real answer is: 7"
       ]
      },
      {
       "output_type": "stream",
       "stream": "stdout",
       "text": [
        "\n",
        "the classifier came back with: 7, the real answer is: 7"
       ]
      },
      {
       "output_type": "stream",
       "stream": "stdout",
       "text": [
        "\n",
        "the classifier came back with: 7, the real answer is: 7"
       ]
      },
      {
       "output_type": "stream",
       "stream": "stdout",
       "text": [
        "\n",
        "the classifier came back with: 7, the real answer is: 7"
       ]
      },
      {
       "output_type": "stream",
       "stream": "stdout",
       "text": [
        "\n",
        "the classifier came back with: 7, the real answer is: 7"
       ]
      },
      {
       "output_type": "stream",
       "stream": "stdout",
       "text": [
        "\n",
        "the classifier came back with: 7, the real answer is: 7"
       ]
      },
      {
       "output_type": "stream",
       "stream": "stdout",
       "text": [
        "\n",
        "the classifier came back with: 7, the real answer is: 7"
       ]
      },
      {
       "output_type": "stream",
       "stream": "stdout",
       "text": [
        "\n",
        "the classifier came back with: 7, the real answer is: 7"
       ]
      },
      {
       "output_type": "stream",
       "stream": "stdout",
       "text": [
        "\n",
        "the classifier came back with: 7, the real answer is: 7"
       ]
      },
      {
       "output_type": "stream",
       "stream": "stdout",
       "text": [
        "\n",
        "the classifier came back with: 7, the real answer is: 7"
       ]
      },
      {
       "output_type": "stream",
       "stream": "stdout",
       "text": [
        "\n",
        "the classifier came back with: 7, the real answer is: 7"
       ]
      },
      {
       "output_type": "stream",
       "stream": "stdout",
       "text": [
        "\n",
        "the classifier came back with: 7, the real answer is: 7"
       ]
      },
      {
       "output_type": "stream",
       "stream": "stdout",
       "text": [
        "\n",
        "the classifier came back with: 7, the real answer is: 7"
       ]
      },
      {
       "output_type": "stream",
       "stream": "stdout",
       "text": [
        "\n",
        "the classifier came back with: 7, the real answer is: 7"
       ]
      },
      {
       "output_type": "stream",
       "stream": "stdout",
       "text": [
        "\n",
        "the classifier came back with: 7, the real answer is: 7"
       ]
      },
      {
       "output_type": "stream",
       "stream": "stdout",
       "text": [
        "\n",
        "the classifier came back with: 7, the real answer is: 7"
       ]
      },
      {
       "output_type": "stream",
       "stream": "stdout",
       "text": [
        "\n",
        "the classifier came back with: 7, the real answer is: 7"
       ]
      },
      {
       "output_type": "stream",
       "stream": "stdout",
       "text": [
        "\n",
        "the classifier came back with: 7, the real answer is: 7"
       ]
      },
      {
       "output_type": "stream",
       "stream": "stdout",
       "text": [
        "\n",
        "the classifier came back with: 7, the real answer is: 7"
       ]
      },
      {
       "output_type": "stream",
       "stream": "stdout",
       "text": [
        "\n",
        "the classifier came back with: 7, the real answer is: 7"
       ]
      },
      {
       "output_type": "stream",
       "stream": "stdout",
       "text": [
        "\n",
        "the classifier came back with: 7, the real answer is: 7"
       ]
      },
      {
       "output_type": "stream",
       "stream": "stdout",
       "text": [
        "\n",
        "the classifier came back with: 7, the real answer is: 7"
       ]
      },
      {
       "output_type": "stream",
       "stream": "stdout",
       "text": [
        "\n",
        "the classifier came back with: 7, the real answer is: 7"
       ]
      },
      {
       "output_type": "stream",
       "stream": "stdout",
       "text": [
        "\n",
        "the classifier came back with: 7, the real answer is: 7"
       ]
      },
      {
       "output_type": "stream",
       "stream": "stdout",
       "text": [
        "\n",
        "the classifier came back with: 7, the real answer is: 7"
       ]
      },
      {
       "output_type": "stream",
       "stream": "stdout",
       "text": [
        "\n",
        "the classifier came back with: 7, the real answer is: 7"
       ]
      },
      {
       "output_type": "stream",
       "stream": "stdout",
       "text": [
        "\n",
        "the classifier came back with: 7, the real answer is: 7"
       ]
      },
      {
       "output_type": "stream",
       "stream": "stdout",
       "text": [
        "\n",
        "the classifier came back with: 7, the real answer is: 7"
       ]
      },
      {
       "output_type": "stream",
       "stream": "stdout",
       "text": [
        "\n",
        "the classifier came back with: 7, the real answer is: 7"
       ]
      },
      {
       "output_type": "stream",
       "stream": "stdout",
       "text": [
        "\n",
        "the classifier came back with: 7, the real answer is: 7"
       ]
      },
      {
       "output_type": "stream",
       "stream": "stdout",
       "text": [
        "\n",
        "the classifier came back with: 7, the real answer is: 7"
       ]
      },
      {
       "output_type": "stream",
       "stream": "stdout",
       "text": [
        "\n",
        "the classifier came back with: 7, the real answer is: 7"
       ]
      },
      {
       "output_type": "stream",
       "stream": "stdout",
       "text": [
        "\n",
        "the classifier came back with: 7, the real answer is: 7"
       ]
      },
      {
       "output_type": "stream",
       "stream": "stdout",
       "text": [
        "\n",
        "the classifier came back with: 7, the real answer is: 7"
       ]
      },
      {
       "output_type": "stream",
       "stream": "stdout",
       "text": [
        "\n",
        "the classifier came back with: 7, the real answer is: 7"
       ]
      },
      {
       "output_type": "stream",
       "stream": "stdout",
       "text": [
        "\n",
        "the classifier came back with: 7, the real answer is: 7"
       ]
      },
      {
       "output_type": "stream",
       "stream": "stdout",
       "text": [
        "\n",
        "the classifier came back with: 7, the real answer is: 7"
       ]
      },
      {
       "output_type": "stream",
       "stream": "stdout",
       "text": [
        "\n",
        "the classifier came back with: 7, the real answer is: 7"
       ]
      },
      {
       "output_type": "stream",
       "stream": "stdout",
       "text": [
        "\n",
        "the classifier came back with: 7, the real answer is: 7"
       ]
      },
      {
       "output_type": "stream",
       "stream": "stdout",
       "text": [
        "\n",
        "the classifier came back with: 7, the real answer is: 7"
       ]
      },
      {
       "output_type": "stream",
       "stream": "stdout",
       "text": [
        "\n",
        "the classifier came back with: 7, the real answer is: 7"
       ]
      },
      {
       "output_type": "stream",
       "stream": "stdout",
       "text": [
        "\n",
        "the classifier came back with: 7, the real answer is: 7"
       ]
      },
      {
       "output_type": "stream",
       "stream": "stdout",
       "text": [
        "\n",
        "the classifier came back with: 7, the real answer is: 7"
       ]
      },
      {
       "output_type": "stream",
       "stream": "stdout",
       "text": [
        "\n",
        "the classifier came back with: 7, the real answer is: 7"
       ]
      },
      {
       "output_type": "stream",
       "stream": "stdout",
       "text": [
        "\n",
        "the classifier came back with: 7, the real answer is: 7"
       ]
      },
      {
       "output_type": "stream",
       "stream": "stdout",
       "text": [
        "\n",
        "the classifier came back with: 7, the real answer is: 7"
       ]
      },
      {
       "output_type": "stream",
       "stream": "stdout",
       "text": [
        "\n",
        "the classifier came back with: 7, the real answer is: 7"
       ]
      },
      {
       "output_type": "stream",
       "stream": "stdout",
       "text": [
        "\n",
        "the classifier came back with: 7, the real answer is: 7"
       ]
      },
      {
       "output_type": "stream",
       "stream": "stdout",
       "text": [
        "\n",
        "the classifier came back with: 7, the real answer is: 7"
       ]
      },
      {
       "output_type": "stream",
       "stream": "stdout",
       "text": [
        "\n",
        "the classifier came back with: 7, the real answer is: 7"
       ]
      },
      {
       "output_type": "stream",
       "stream": "stdout",
       "text": [
        "\n",
        "the classifier came back with: 7, the real answer is: 7"
       ]
      },
      {
       "output_type": "stream",
       "stream": "stdout",
       "text": [
        "\n",
        "the classifier came back with: 7, the real answer is: 7"
       ]
      },
      {
       "output_type": "stream",
       "stream": "stdout",
       "text": [
        "\n",
        "the classifier came back with: 7, the real answer is: 7"
       ]
      },
      {
       "output_type": "stream",
       "stream": "stdout",
       "text": [
        "\n",
        "the classifier came back with: 7, the real answer is: 7"
       ]
      },
      {
       "output_type": "stream",
       "stream": "stdout",
       "text": [
        "\n",
        "the classifier came back with: 7, the real answer is: 7"
       ]
      },
      {
       "output_type": "stream",
       "stream": "stdout",
       "text": [
        "\n",
        "the classifier came back with: 7, the real answer is: 7"
       ]
      },
      {
       "output_type": "stream",
       "stream": "stdout",
       "text": [
        "\n",
        "the classifier came back with: 7, the real answer is: 7"
       ]
      },
      {
       "output_type": "stream",
       "stream": "stdout",
       "text": [
        "\n",
        "the classifier came back with: 7, the real answer is: 7"
       ]
      },
      {
       "output_type": "stream",
       "stream": "stdout",
       "text": [
        "\n",
        "the classifier came back with: 7, the real answer is: 7"
       ]
      },
      {
       "output_type": "stream",
       "stream": "stdout",
       "text": [
        "\n",
        "the classifier came back with: 7, the real answer is: 7"
       ]
      },
      {
       "output_type": "stream",
       "stream": "stdout",
       "text": [
        "\n",
        "the classifier came back with: 7, the real answer is: 7"
       ]
      },
      {
       "output_type": "stream",
       "stream": "stdout",
       "text": [
        "\n",
        "the classifier came back with: 7, the real answer is: 7"
       ]
      },
      {
       "output_type": "stream",
       "stream": "stdout",
       "text": [
        "\n",
        "the classifier came back with: 7, the real answer is: 7"
       ]
      },
      {
       "output_type": "stream",
       "stream": "stdout",
       "text": [
        "\n",
        "the classifier came back with: 7, the real answer is: 7"
       ]
      },
      {
       "output_type": "stream",
       "stream": "stdout",
       "text": [
        "\n",
        "the classifier came back with: 7, the real answer is: 7"
       ]
      },
      {
       "output_type": "stream",
       "stream": "stdout",
       "text": [
        "\n",
        "the classifier came back with: 7, the real answer is: 7"
       ]
      },
      {
       "output_type": "stream",
       "stream": "stdout",
       "text": [
        "\n",
        "the classifier came back with: 7, the real answer is: 7"
       ]
      },
      {
       "output_type": "stream",
       "stream": "stdout",
       "text": [
        "\n",
        "the classifier came back with: 7, the real answer is: 7"
       ]
      },
      {
       "output_type": "stream",
       "stream": "stdout",
       "text": [
        "\n",
        "the classifier came back with: 7, the real answer is: 7"
       ]
      },
      {
       "output_type": "stream",
       "stream": "stdout",
       "text": [
        "\n",
        "the classifier came back with: 7, the real answer is: 7"
       ]
      },
      {
       "output_type": "stream",
       "stream": "stdout",
       "text": [
        "\n",
        "the classifier came back with: 7, the real answer is: 7"
       ]
      },
      {
       "output_type": "stream",
       "stream": "stdout",
       "text": [
        "\n",
        "the classifier came back with: 7, the real answer is: 7"
       ]
      },
      {
       "output_type": "stream",
       "stream": "stdout",
       "text": [
        "\n",
        "the classifier came back with: 7, the real answer is: 7"
       ]
      },
      {
       "output_type": "stream",
       "stream": "stdout",
       "text": [
        "\n",
        "the classifier came back with: 7, the real answer is: 7"
       ]
      },
      {
       "output_type": "stream",
       "stream": "stdout",
       "text": [
        "\n",
        "the classifier came back with: 7, the real answer is: 7"
       ]
      },
      {
       "output_type": "stream",
       "stream": "stdout",
       "text": [
        "\n",
        "the classifier came back with: 7, the real answer is: 7"
       ]
      },
      {
       "output_type": "stream",
       "stream": "stdout",
       "text": [
        "\n",
        "the classifier came back with: 7, the real answer is: 7"
       ]
      },
      {
       "output_type": "stream",
       "stream": "stdout",
       "text": [
        "\n",
        "the classifier came back with: 7, the real answer is: 7"
       ]
      },
      {
       "output_type": "stream",
       "stream": "stdout",
       "text": [
        "\n",
        "the classifier came back with: 7, the real answer is: 7"
       ]
      },
      {
       "output_type": "stream",
       "stream": "stdout",
       "text": [
        "\n",
        "the classifier came back with: 7, the real answer is: 7"
       ]
      },
      {
       "output_type": "stream",
       "stream": "stdout",
       "text": [
        "\n",
        "the classifier came back with: 7, the real answer is: 7"
       ]
      },
      {
       "output_type": "stream",
       "stream": "stdout",
       "text": [
        "\n",
        "the classifier came back with: 7, the real answer is: 7"
       ]
      },
      {
       "output_type": "stream",
       "stream": "stdout",
       "text": [
        "\n",
        "the classifier came back with: 7, the real answer is: 7"
       ]
      },
      {
       "output_type": "stream",
       "stream": "stdout",
       "text": [
        "\n",
        "the classifier came back with: 7, the real answer is: 7"
       ]
      },
      {
       "output_type": "stream",
       "stream": "stdout",
       "text": [
        "\n",
        "the classifier came back with: 7, the real answer is: 7"
       ]
      },
      {
       "output_type": "stream",
       "stream": "stdout",
       "text": [
        "\n",
        "the classifier came back with: 7, the real answer is: 7"
       ]
      },
      {
       "output_type": "stream",
       "stream": "stdout",
       "text": [
        "\n",
        "the classifier came back with: 7, the real answer is: 7"
       ]
      },
      {
       "output_type": "stream",
       "stream": "stdout",
       "text": [
        "\n",
        "the classifier came back with: 8, the real answer is: 8"
       ]
      },
      {
       "output_type": "stream",
       "stream": "stdout",
       "text": [
        "\n",
        "the classifier came back with: 8, the real answer is: 8"
       ]
      },
      {
       "output_type": "stream",
       "stream": "stdout",
       "text": [
        "\n",
        "the classifier came back with: 8, the real answer is: 8"
       ]
      },
      {
       "output_type": "stream",
       "stream": "stdout",
       "text": [
        "\n",
        "the classifier came back with: 6, the real answer is: 8"
       ]
      },
      {
       "output_type": "stream",
       "stream": "stdout",
       "text": [
        "\n",
        "the classifier came back with: 8, the real answer is: 8"
       ]
      },
      {
       "output_type": "stream",
       "stream": "stdout",
       "text": [
        "\n",
        "the classifier came back with: 8, the real answer is: 8"
       ]
      },
      {
       "output_type": "stream",
       "stream": "stdout",
       "text": [
        "\n",
        "the classifier came back with: 8, the real answer is: 8"
       ]
      },
      {
       "output_type": "stream",
       "stream": "stdout",
       "text": [
        "\n",
        "the classifier came back with: 8, the real answer is: 8"
       ]
      },
      {
       "output_type": "stream",
       "stream": "stdout",
       "text": [
        "\n",
        "the classifier came back with: 8, the real answer is: 8"
       ]
      },
      {
       "output_type": "stream",
       "stream": "stdout",
       "text": [
        "\n",
        "the classifier came back with: 8, the real answer is: 8"
       ]
      },
      {
       "output_type": "stream",
       "stream": "stdout",
       "text": [
        "\n",
        "the classifier came back with: 8, the real answer is: 8"
       ]
      },
      {
       "output_type": "stream",
       "stream": "stdout",
       "text": [
        "\n",
        "the classifier came back with: 8, the real answer is: 8"
       ]
      },
      {
       "output_type": "stream",
       "stream": "stdout",
       "text": [
        "\n",
        "the classifier came back with: 8, the real answer is: 8"
       ]
      },
      {
       "output_type": "stream",
       "stream": "stdout",
       "text": [
        "\n",
        "the classifier came back with: 8, the real answer is: 8"
       ]
      },
      {
       "output_type": "stream",
       "stream": "stdout",
       "text": [
        "\n",
        "the classifier came back with: 8, the real answer is: 8"
       ]
      },
      {
       "output_type": "stream",
       "stream": "stdout",
       "text": [
        "\n",
        "the classifier came back with: 8, the real answer is: 8"
       ]
      },
      {
       "output_type": "stream",
       "stream": "stdout",
       "text": [
        "\n",
        "the classifier came back with: 3, the real answer is: 8"
       ]
      },
      {
       "output_type": "stream",
       "stream": "stdout",
       "text": [
        "\n",
        "the classifier came back with: 8, the real answer is: 8"
       ]
      },
      {
       "output_type": "stream",
       "stream": "stdout",
       "text": [
        "\n",
        "the classifier came back with: 8, the real answer is: 8"
       ]
      },
      {
       "output_type": "stream",
       "stream": "stdout",
       "text": [
        "\n",
        "the classifier came back with: 8, the real answer is: 8"
       ]
      },
      {
       "output_type": "stream",
       "stream": "stdout",
       "text": [
        "\n",
        "the classifier came back with: 8, the real answer is: 8"
       ]
      },
      {
       "output_type": "stream",
       "stream": "stdout",
       "text": [
        "\n",
        "the classifier came back with: 8, the real answer is: 8"
       ]
      },
      {
       "output_type": "stream",
       "stream": "stdout",
       "text": [
        "\n",
        "the classifier came back with: 8, the real answer is: 8"
       ]
      },
      {
       "output_type": "stream",
       "stream": "stdout",
       "text": [
        "\n",
        "the classifier came back with: 8, the real answer is: 8"
       ]
      },
      {
       "output_type": "stream",
       "stream": "stdout",
       "text": [
        "\n",
        "the classifier came back with: 8, the real answer is: 8"
       ]
      },
      {
       "output_type": "stream",
       "stream": "stdout",
       "text": [
        "\n",
        "the classifier came back with: 8, the real answer is: 8"
       ]
      },
      {
       "output_type": "stream",
       "stream": "stdout",
       "text": [
        "\n",
        "the classifier came back with: 8, the real answer is: 8"
       ]
      },
      {
       "output_type": "stream",
       "stream": "stdout",
       "text": [
        "\n",
        "the classifier came back with: 8, the real answer is: 8"
       ]
      },
      {
       "output_type": "stream",
       "stream": "stdout",
       "text": [
        "\n",
        "the classifier came back with: 8, the real answer is: 8"
       ]
      },
      {
       "output_type": "stream",
       "stream": "stdout",
       "text": [
        "\n",
        "the classifier came back with: 8, the real answer is: 8"
       ]
      },
      {
       "output_type": "stream",
       "stream": "stdout",
       "text": [
        "\n",
        "the classifier came back with: 1, the real answer is: 8"
       ]
      },
      {
       "output_type": "stream",
       "stream": "stdout",
       "text": [
        "\n",
        "the classifier came back with: 8, the real answer is: 8"
       ]
      },
      {
       "output_type": "stream",
       "stream": "stdout",
       "text": [
        "\n",
        "the classifier came back with: 8, the real answer is: 8"
       ]
      },
      {
       "output_type": "stream",
       "stream": "stdout",
       "text": [
        "\n",
        "the classifier came back with: 8, the real answer is: 8"
       ]
      },
      {
       "output_type": "stream",
       "stream": "stdout",
       "text": [
        "\n",
        "the classifier came back with: 8, the real answer is: 8"
       ]
      },
      {
       "output_type": "stream",
       "stream": "stdout",
       "text": [
        "\n",
        "the classifier came back with: 8, the real answer is: 8"
       ]
      },
      {
       "output_type": "stream",
       "stream": "stdout",
       "text": [
        "\n",
        "the classifier came back with: 8, the real answer is: 8"
       ]
      },
      {
       "output_type": "stream",
       "stream": "stdout",
       "text": [
        "\n",
        "the classifier came back with: 8, the real answer is: 8"
       ]
      },
      {
       "output_type": "stream",
       "stream": "stdout",
       "text": [
        "\n",
        "the classifier came back with: 8, the real answer is: 8"
       ]
      },
      {
       "output_type": "stream",
       "stream": "stdout",
       "text": [
        "\n",
        "the classifier came back with: 8, the real answer is: 8"
       ]
      },
      {
       "output_type": "stream",
       "stream": "stdout",
       "text": [
        "\n",
        "the classifier came back with: 1, the real answer is: 8"
       ]
      },
      {
       "output_type": "stream",
       "stream": "stdout",
       "text": [
        "\n",
        "the classifier came back with: 8, the real answer is: 8"
       ]
      },
      {
       "output_type": "stream",
       "stream": "stdout",
       "text": [
        "\n",
        "the classifier came back with: 8, the real answer is: 8"
       ]
      },
      {
       "output_type": "stream",
       "stream": "stdout",
       "text": [
        "\n",
        "the classifier came back with: 8, the real answer is: 8"
       ]
      },
      {
       "output_type": "stream",
       "stream": "stdout",
       "text": [
        "\n",
        "the classifier came back with: 8, the real answer is: 8"
       ]
      },
      {
       "output_type": "stream",
       "stream": "stdout",
       "text": [
        "\n",
        "the classifier came back with: 8, the real answer is: 8"
       ]
      },
      {
       "output_type": "stream",
       "stream": "stdout",
       "text": [
        "\n",
        "the classifier came back with: 8, the real answer is: 8"
       ]
      },
      {
       "output_type": "stream",
       "stream": "stdout",
       "text": [
        "\n",
        "the classifier came back with: 8, the real answer is: 8"
       ]
      },
      {
       "output_type": "stream",
       "stream": "stdout",
       "text": [
        "\n",
        "the classifier came back with: 8, the real answer is: 8"
       ]
      },
      {
       "output_type": "stream",
       "stream": "stdout",
       "text": [
        "\n",
        "the classifier came back with: 8, the real answer is: 8"
       ]
      },
      {
       "output_type": "stream",
       "stream": "stdout",
       "text": [
        "\n",
        "the classifier came back with: 8, the real answer is: 8"
       ]
      },
      {
       "output_type": "stream",
       "stream": "stdout",
       "text": [
        "\n",
        "the classifier came back with: 8, the real answer is: 8"
       ]
      },
      {
       "output_type": "stream",
       "stream": "stdout",
       "text": [
        "\n",
        "the classifier came back with: 8, the real answer is: 8"
       ]
      },
      {
       "output_type": "stream",
       "stream": "stdout",
       "text": [
        "\n",
        "the classifier came back with: 8, the real answer is: 8"
       ]
      },
      {
       "output_type": "stream",
       "stream": "stdout",
       "text": [
        "\n",
        "the classifier came back with: 8, the real answer is: 8"
       ]
      },
      {
       "output_type": "stream",
       "stream": "stdout",
       "text": [
        "\n",
        "the classifier came back with: 8, the real answer is: 8"
       ]
      },
      {
       "output_type": "stream",
       "stream": "stdout",
       "text": [
        "\n",
        "the classifier came back with: 8, the real answer is: 8"
       ]
      },
      {
       "output_type": "stream",
       "stream": "stdout",
       "text": [
        "\n",
        "the classifier came back with: 8, the real answer is: 8"
       ]
      },
      {
       "output_type": "stream",
       "stream": "stdout",
       "text": [
        "\n",
        "the classifier came back with: 8, the real answer is: 8"
       ]
      },
      {
       "output_type": "stream",
       "stream": "stdout",
       "text": [
        "\n",
        "the classifier came back with: 8, the real answer is: 8"
       ]
      },
      {
       "output_type": "stream",
       "stream": "stdout",
       "text": [
        "\n",
        "the classifier came back with: 8, the real answer is: 8"
       ]
      },
      {
       "output_type": "stream",
       "stream": "stdout",
       "text": [
        "\n",
        "the classifier came back with: 8, the real answer is: 8"
       ]
      },
      {
       "output_type": "stream",
       "stream": "stdout",
       "text": [
        "\n",
        "the classifier came back with: 8, the real answer is: 8"
       ]
      },
      {
       "output_type": "stream",
       "stream": "stdout",
       "text": [
        "\n",
        "the classifier came back with: 8, the real answer is: 8"
       ]
      },
      {
       "output_type": "stream",
       "stream": "stdout",
       "text": [
        "\n",
        "the classifier came back with: 8, the real answer is: 8"
       ]
      },
      {
       "output_type": "stream",
       "stream": "stdout",
       "text": [
        "\n",
        "the classifier came back with: 8, the real answer is: 8"
       ]
      },
      {
       "output_type": "stream",
       "stream": "stdout",
       "text": [
        "\n",
        "the classifier came back with: 8, the real answer is: 8"
       ]
      },
      {
       "output_type": "stream",
       "stream": "stdout",
       "text": [
        "\n",
        "the classifier came back with: 8, the real answer is: 8"
       ]
      },
      {
       "output_type": "stream",
       "stream": "stdout",
       "text": [
        "\n",
        "the classifier came back with: 8, the real answer is: 8"
       ]
      },
      {
       "output_type": "stream",
       "stream": "stdout",
       "text": [
        "\n",
        "the classifier came back with: 8, the real answer is: 8"
       ]
      },
      {
       "output_type": "stream",
       "stream": "stdout",
       "text": [
        "\n",
        "the classifier came back with: 8, the real answer is: 8"
       ]
      },
      {
       "output_type": "stream",
       "stream": "stdout",
       "text": [
        "\n",
        "the classifier came back with: 8, the real answer is: 8"
       ]
      },
      {
       "output_type": "stream",
       "stream": "stdout",
       "text": [
        "\n",
        "the classifier came back with: 8, the real answer is: 8"
       ]
      },
      {
       "output_type": "stream",
       "stream": "stdout",
       "text": [
        "\n",
        "the classifier came back with: 8, the real answer is: 8"
       ]
      },
      {
       "output_type": "stream",
       "stream": "stdout",
       "text": [
        "\n",
        "the classifier came back with: 8, the real answer is: 8"
       ]
      },
      {
       "output_type": "stream",
       "stream": "stdout",
       "text": [
        "\n",
        "the classifier came back with: 8, the real answer is: 8"
       ]
      },
      {
       "output_type": "stream",
       "stream": "stdout",
       "text": [
        "\n",
        "the classifier came back with: 8, the real answer is: 8"
       ]
      },
      {
       "output_type": "stream",
       "stream": "stdout",
       "text": [
        "\n",
        "the classifier came back with: 8, the real answer is: 8"
       ]
      },
      {
       "output_type": "stream",
       "stream": "stdout",
       "text": [
        "\n",
        "the classifier came back with: 8, the real answer is: 8"
       ]
      },
      {
       "output_type": "stream",
       "stream": "stdout",
       "text": [
        "\n",
        "the classifier came back with: 8, the real answer is: 8"
       ]
      },
      {
       "output_type": "stream",
       "stream": "stdout",
       "text": [
        "\n",
        "the classifier came back with: 8, the real answer is: 8"
       ]
      },
      {
       "output_type": "stream",
       "stream": "stdout",
       "text": [
        "\n",
        "the classifier came back with: 8, the real answer is: 8"
       ]
      },
      {
       "output_type": "stream",
       "stream": "stdout",
       "text": [
        "\n",
        "the classifier came back with: 8, the real answer is: 8"
       ]
      },
      {
       "output_type": "stream",
       "stream": "stdout",
       "text": [
        "\n",
        "the classifier came back with: 8, the real answer is: 8"
       ]
      },
      {
       "output_type": "stream",
       "stream": "stdout",
       "text": [
        "\n",
        "the classifier came back with: 8, the real answer is: 8"
       ]
      },
      {
       "output_type": "stream",
       "stream": "stdout",
       "text": [
        "\n",
        "the classifier came back with: 8, the real answer is: 8"
       ]
      },
      {
       "output_type": "stream",
       "stream": "stdout",
       "text": [
        "\n",
        "the classifier came back with: 8, the real answer is: 8"
       ]
      },
      {
       "output_type": "stream",
       "stream": "stdout",
       "text": [
        "\n",
        "the classifier came back with: 8, the real answer is: 8"
       ]
      },
      {
       "output_type": "stream",
       "stream": "stdout",
       "text": [
        "\n",
        "the classifier came back with: 8, the real answer is: 8"
       ]
      },
      {
       "output_type": "stream",
       "stream": "stdout",
       "text": [
        "\n",
        "the classifier came back with: 8, the real answer is: 8"
       ]
      },
      {
       "output_type": "stream",
       "stream": "stdout",
       "text": [
        "\n",
        "the classifier came back with: 8, the real answer is: 8"
       ]
      },
      {
       "output_type": "stream",
       "stream": "stdout",
       "text": [
        "\n",
        "the classifier came back with: 9, the real answer is: 9"
       ]
      },
      {
       "output_type": "stream",
       "stream": "stdout",
       "text": [
        "\n",
        "the classifier came back with: 9, the real answer is: 9"
       ]
      },
      {
       "output_type": "stream",
       "stream": "stdout",
       "text": [
        "\n",
        "the classifier came back with: 9, the real answer is: 9"
       ]
      },
      {
       "output_type": "stream",
       "stream": "stdout",
       "text": [
        "\n",
        "the classifier came back with: 9, the real answer is: 9"
       ]
      },
      {
       "output_type": "stream",
       "stream": "stdout",
       "text": [
        "\n",
        "the classifier came back with: 9, the real answer is: 9"
       ]
      },
      {
       "output_type": "stream",
       "stream": "stdout",
       "text": [
        "\n",
        "the classifier came back with: 9, the real answer is: 9"
       ]
      },
      {
       "output_type": "stream",
       "stream": "stdout",
       "text": [
        "\n",
        "the classifier came back with: 1, the real answer is: 9"
       ]
      },
      {
       "output_type": "stream",
       "stream": "stdout",
       "text": [
        "\n",
        "the classifier came back with: 9, the real answer is: 9"
       ]
      },
      {
       "output_type": "stream",
       "stream": "stdout",
       "text": [
        "\n",
        "the classifier came back with: 9, the real answer is: 9"
       ]
      },
      {
       "output_type": "stream",
       "stream": "stdout",
       "text": [
        "\n",
        "the classifier came back with: 9, the real answer is: 9"
       ]
      },
      {
       "output_type": "stream",
       "stream": "stdout",
       "text": [
        "\n",
        "the classifier came back with: 9, the real answer is: 9"
       ]
      },
      {
       "output_type": "stream",
       "stream": "stdout",
       "text": [
        "\n",
        "the classifier came back with: 9, the real answer is: 9"
       ]
      },
      {
       "output_type": "stream",
       "stream": "stdout",
       "text": [
        "\n",
        "the classifier came back with: 9, the real answer is: 9"
       ]
      },
      {
       "output_type": "stream",
       "stream": "stdout",
       "text": [
        "\n",
        "the classifier came back with: 9, the real answer is: 9"
       ]
      },
      {
       "output_type": "stream",
       "stream": "stdout",
       "text": [
        "\n",
        "the classifier came back with: 9, the real answer is: 9"
       ]
      },
      {
       "output_type": "stream",
       "stream": "stdout",
       "text": [
        "\n",
        "the classifier came back with: 9, the real answer is: 9"
       ]
      },
      {
       "output_type": "stream",
       "stream": "stdout",
       "text": [
        "\n",
        "the classifier came back with: 9, the real answer is: 9"
       ]
      },
      {
       "output_type": "stream",
       "stream": "stdout",
       "text": [
        "\n",
        "the classifier came back with: 9, the real answer is: 9"
       ]
      },
      {
       "output_type": "stream",
       "stream": "stdout",
       "text": [
        "\n",
        "the classifier came back with: 9, the real answer is: 9"
       ]
      },
      {
       "output_type": "stream",
       "stream": "stdout",
       "text": [
        "\n",
        "the classifier came back with: 9, the real answer is: 9"
       ]
      },
      {
       "output_type": "stream",
       "stream": "stdout",
       "text": [
        "\n",
        "the classifier came back with: 9, the real answer is: 9"
       ]
      },
      {
       "output_type": "stream",
       "stream": "stdout",
       "text": [
        "\n",
        "the classifier came back with: 9, the real answer is: 9"
       ]
      },
      {
       "output_type": "stream",
       "stream": "stdout",
       "text": [
        "\n",
        "the classifier came back with: 9, the real answer is: 9"
       ]
      },
      {
       "output_type": "stream",
       "stream": "stdout",
       "text": [
        "\n",
        "the classifier came back with: 9, the real answer is: 9"
       ]
      },
      {
       "output_type": "stream",
       "stream": "stdout",
       "text": [
        "\n",
        "the classifier came back with: 9, the real answer is: 9"
       ]
      },
      {
       "output_type": "stream",
       "stream": "stdout",
       "text": [
        "\n",
        "the classifier came back with: 9, the real answer is: 9"
       ]
      },
      {
       "output_type": "stream",
       "stream": "stdout",
       "text": [
        "\n",
        "the classifier came back with: 9, the real answer is: 9"
       ]
      },
      {
       "output_type": "stream",
       "stream": "stdout",
       "text": [
        "\n",
        "the classifier came back with: 9, the real answer is: 9"
       ]
      },
      {
       "output_type": "stream",
       "stream": "stdout",
       "text": [
        "\n",
        "the classifier came back with: 9, the real answer is: 9"
       ]
      },
      {
       "output_type": "stream",
       "stream": "stdout",
       "text": [
        "\n",
        "the classifier came back with: 9, the real answer is: 9"
       ]
      },
      {
       "output_type": "stream",
       "stream": "stdout",
       "text": [
        "\n",
        "the classifier came back with: 9, the real answer is: 9"
       ]
      },
      {
       "output_type": "stream",
       "stream": "stdout",
       "text": [
        "\n",
        "the classifier came back with: 9, the real answer is: 9"
       ]
      },
      {
       "output_type": "stream",
       "stream": "stdout",
       "text": [
        "\n",
        "the classifier came back with: 9, the real answer is: 9"
       ]
      },
      {
       "output_type": "stream",
       "stream": "stdout",
       "text": [
        "\n",
        "the classifier came back with: 9, the real answer is: 9"
       ]
      },
      {
       "output_type": "stream",
       "stream": "stdout",
       "text": [
        "\n",
        "the classifier came back with: 9, the real answer is: 9"
       ]
      },
      {
       "output_type": "stream",
       "stream": "stdout",
       "text": [
        "\n",
        "the classifier came back with: 9, the real answer is: 9"
       ]
      },
      {
       "output_type": "stream",
       "stream": "stdout",
       "text": [
        "\n",
        "the classifier came back with: 9, the real answer is: 9"
       ]
      },
      {
       "output_type": "stream",
       "stream": "stdout",
       "text": [
        "\n",
        "the classifier came back with: 9, the real answer is: 9"
       ]
      },
      {
       "output_type": "stream",
       "stream": "stdout",
       "text": [
        "\n",
        "the classifier came back with: 9, the real answer is: 9"
       ]
      },
      {
       "output_type": "stream",
       "stream": "stdout",
       "text": [
        "\n",
        "the classifier came back with: 9, the real answer is: 9"
       ]
      },
      {
       "output_type": "stream",
       "stream": "stdout",
       "text": [
        "\n",
        "the classifier came back with: 9, the real answer is: 9"
       ]
      },
      {
       "output_type": "stream",
       "stream": "stdout",
       "text": [
        "\n",
        "the classifier came back with: 9, the real answer is: 9"
       ]
      },
      {
       "output_type": "stream",
       "stream": "stdout",
       "text": [
        "\n",
        "the classifier came back with: 9, the real answer is: 9"
       ]
      },
      {
       "output_type": "stream",
       "stream": "stdout",
       "text": [
        "\n",
        "the classifier came back with: 9, the real answer is: 9"
       ]
      },
      {
       "output_type": "stream",
       "stream": "stdout",
       "text": [
        "\n",
        "the classifier came back with: 9, the real answer is: 9"
       ]
      },
      {
       "output_type": "stream",
       "stream": "stdout",
       "text": [
        "\n",
        "the classifier came back with: 9, the real answer is: 9"
       ]
      },
      {
       "output_type": "stream",
       "stream": "stdout",
       "text": [
        "\n",
        "the classifier came back with: 9, the real answer is: 9"
       ]
      },
      {
       "output_type": "stream",
       "stream": "stdout",
       "text": [
        "\n",
        "the classifier came back with: 9, the real answer is: 9"
       ]
      },
      {
       "output_type": "stream",
       "stream": "stdout",
       "text": [
        "\n",
        "the classifier came back with: 9, the real answer is: 9"
       ]
      },
      {
       "output_type": "stream",
       "stream": "stdout",
       "text": [
        "\n",
        "the classifier came back with: 9, the real answer is: 9"
       ]
      },
      {
       "output_type": "stream",
       "stream": "stdout",
       "text": [
        "\n",
        "the classifier came back with: 9, the real answer is: 9"
       ]
      },
      {
       "output_type": "stream",
       "stream": "stdout",
       "text": [
        "\n",
        "the classifier came back with: 9, the real answer is: 9"
       ]
      },
      {
       "output_type": "stream",
       "stream": "stdout",
       "text": [
        "\n",
        "the classifier came back with: 9, the real answer is: 9"
       ]
      },
      {
       "output_type": "stream",
       "stream": "stdout",
       "text": [
        "\n",
        "the classifier came back with: 9, the real answer is: 9"
       ]
      },
      {
       "output_type": "stream",
       "stream": "stdout",
       "text": [
        "\n",
        "the classifier came back with: 9, the real answer is: 9"
       ]
      },
      {
       "output_type": "stream",
       "stream": "stdout",
       "text": [
        "\n",
        "the classifier came back with: 9, the real answer is: 9"
       ]
      },
      {
       "output_type": "stream",
       "stream": "stdout",
       "text": [
        "\n",
        "the classifier came back with: 9, the real answer is: 9"
       ]
      },
      {
       "output_type": "stream",
       "stream": "stdout",
       "text": [
        "\n",
        "the classifier came back with: 7, the real answer is: 9"
       ]
      },
      {
       "output_type": "stream",
       "stream": "stdout",
       "text": [
        "\n",
        "the classifier came back with: 9, the real answer is: 9"
       ]
      },
      {
       "output_type": "stream",
       "stream": "stdout",
       "text": [
        "\n",
        "the classifier came back with: 9, the real answer is: 9"
       ]
      },
      {
       "output_type": "stream",
       "stream": "stdout",
       "text": [
        "\n",
        "the classifier came back with: 9, the real answer is: 9"
       ]
      },
      {
       "output_type": "stream",
       "stream": "stdout",
       "text": [
        "\n",
        "the classifier came back with: 9, the real answer is: 9"
       ]
      },
      {
       "output_type": "stream",
       "stream": "stdout",
       "text": [
        "\n",
        "the classifier came back with: 9, the real answer is: 9"
       ]
      },
      {
       "output_type": "stream",
       "stream": "stdout",
       "text": [
        "\n",
        "the classifier came back with: 9, the real answer is: 9"
       ]
      },
      {
       "output_type": "stream",
       "stream": "stdout",
       "text": [
        "\n",
        "the classifier came back with: 9, the real answer is: 9"
       ]
      },
      {
       "output_type": "stream",
       "stream": "stdout",
       "text": [
        "\n",
        "the classifier came back with: 9, the real answer is: 9"
       ]
      },
      {
       "output_type": "stream",
       "stream": "stdout",
       "text": [
        "\n",
        "the classifier came back with: 9, the real answer is: 9"
       ]
      },
      {
       "output_type": "stream",
       "stream": "stdout",
       "text": [
        "\n",
        "the classifier came back with: 9, the real answer is: 9"
       ]
      },
      {
       "output_type": "stream",
       "stream": "stdout",
       "text": [
        "\n",
        "the classifier came back with: 9, the real answer is: 9"
       ]
      },
      {
       "output_type": "stream",
       "stream": "stdout",
       "text": [
        "\n",
        "the classifier came back with: 9, the real answer is: 9"
       ]
      },
      {
       "output_type": "stream",
       "stream": "stdout",
       "text": [
        "\n",
        "the classifier came back with: 9, the real answer is: 9"
       ]
      },
      {
       "output_type": "stream",
       "stream": "stdout",
       "text": [
        "\n",
        "the classifier came back with: 9, the real answer is: 9"
       ]
      },
      {
       "output_type": "stream",
       "stream": "stdout",
       "text": [
        "\n",
        "the classifier came back with: 9, the real answer is: 9"
       ]
      },
      {
       "output_type": "stream",
       "stream": "stdout",
       "text": [
        "\n",
        "the classifier came back with: 9, the real answer is: 9"
       ]
      },
      {
       "output_type": "stream",
       "stream": "stdout",
       "text": [
        "\n",
        "the classifier came back with: 9, the real answer is: 9"
       ]
      },
      {
       "output_type": "stream",
       "stream": "stdout",
       "text": [
        "\n",
        "the classifier came back with: 9, the real answer is: 9"
       ]
      },
      {
       "output_type": "stream",
       "stream": "stdout",
       "text": [
        "\n",
        "the classifier came back with: 9, the real answer is: 9"
       ]
      },
      {
       "output_type": "stream",
       "stream": "stdout",
       "text": [
        "\n",
        "the classifier came back with: 9, the real answer is: 9"
       ]
      },
      {
       "output_type": "stream",
       "stream": "stdout",
       "text": [
        "\n",
        "the classifier came back with: 9, the real answer is: 9"
       ]
      },
      {
       "output_type": "stream",
       "stream": "stdout",
       "text": [
        "\n",
        "the classifier came back with: 9, the real answer is: 9"
       ]
      },
      {
       "output_type": "stream",
       "stream": "stdout",
       "text": [
        "\n",
        "the classifier came back with: 9, the real answer is: 9"
       ]
      },
      {
       "output_type": "stream",
       "stream": "stdout",
       "text": [
        "\n",
        "the classifier came back with: 9, the real answer is: 9"
       ]
      },
      {
       "output_type": "stream",
       "stream": "stdout",
       "text": [
        "\n",
        "the classifier came back with: 9, the real answer is: 9"
       ]
      },
      {
       "output_type": "stream",
       "stream": "stdout",
       "text": [
        "\n",
        "the classifier came back with: 9, the real answer is: 9"
       ]
      },
      {
       "output_type": "stream",
       "stream": "stdout",
       "text": [
        "\n",
        "the classifier came back with: 9, the real answer is: 9"
       ]
      },
      {
       "output_type": "stream",
       "stream": "stdout",
       "text": [
        "\n",
        "the classifier came back with: 9, the real answer is: 9"
       ]
      },
      {
       "output_type": "stream",
       "stream": "stdout",
       "text": [
        "\n",
        "the classifier came back with: 9, the real answer is: 9"
       ]
      },
      {
       "output_type": "stream",
       "stream": "stdout",
       "text": [
        "\n",
        "the classifier came back with: 9, the real answer is: 9"
       ]
      },
      {
       "output_type": "stream",
       "stream": "stdout",
       "text": [
        "\n",
        "the classifier came back with: 9, the real answer is: 9"
       ]
      },
      {
       "output_type": "stream",
       "stream": "stdout",
       "text": [
        "\n",
        "\n",
        "the total number of errors is: 11\n",
        "\n",
        "the total error rate is: 0.011628\n"
       ]
      }
     ],
     "prompt_number": 22
    },
    {
     "cell_type": "code",
     "collapsed": false,
     "input": [],
     "language": "python",
     "metadata": {},
     "outputs": []
    }
   ],
   "metadata": {}
  }
 ]
}