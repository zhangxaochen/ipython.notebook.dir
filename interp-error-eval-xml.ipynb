{
 "metadata": {
  "name": "interp-error-eval-xml"
 },
 "nbformat": 3,
 "nbformat_minor": 0,
 "worksheets": [
  {
   "cells": [
    {
     "cell_type": "code",
     "collapsed": false,
     "input": [
      "import os\n",
      "os.chdir(r'E:\\workspace\\PyCeshi\\curveViewer')"
     ],
     "language": "python",
     "metadata": {},
     "outputs": []
    },
    {
     "cell_type": "code",
     "collapsed": false,
     "input": [
      "import os, sys, time, glob\n",
      "from utils import Keys\n",
      "from scipy.interpolate import interp1d\n",
      "from pylab import *\n",
      "from lxml import etree\n",
      "\n",
      "folderPath=raw_input(\"input the xml files folder:\\n\")\n",
      "folderPath=folderPath if folderPath !='' else r'D:\\Documents\\Desktop\\fff'\n",
      "os.chdir(folderPath)\n",
      "print os.getcwd()"
     ],
     "language": "python",
     "metadata": {},
     "outputs": [
      {
       "ename": "EOFError",
       "evalue": "EOF when reading a line",
       "output_type": "pyerr",
       "traceback": [
        "\u001b[1;31m---------------------------------------------------------------------------\u001b[0m\n\u001b[1;31mEOFError\u001b[0m                                  Traceback (most recent call last)",
        "\u001b[1;32m<ipython-input-71-e55304b00350>\u001b[0m in \u001b[0;36m<module>\u001b[1;34m()\u001b[0m\n\u001b[0;32m      5\u001b[0m \u001b[1;32mfrom\u001b[0m \u001b[0mlxml\u001b[0m \u001b[1;32mimport\u001b[0m \u001b[0metree\u001b[0m\u001b[1;33m\u001b[0m\u001b[0m\n\u001b[0;32m      6\u001b[0m \u001b[1;33m\u001b[0m\u001b[0m\n\u001b[1;32m----> 7\u001b[1;33m \u001b[0mfolderPath\u001b[0m\u001b[1;33m=\u001b[0m\u001b[0minput\u001b[0m\u001b[1;33m(\u001b[0m\u001b[1;34m\"input the xml files folder:\"\u001b[0m\u001b[1;33m)\u001b[0m\u001b[1;33m\u001b[0m\u001b[0m\n\u001b[0m\u001b[0;32m      8\u001b[0m \u001b[0mos\u001b[0m\u001b[1;33m.\u001b[0m\u001b[0mchdir\u001b[0m\u001b[1;33m(\u001b[0m\u001b[1;34mr'D:\\Documents\\Desktop\\fff'\u001b[0m\u001b[1;33m)\u001b[0m\u001b[1;33m\u001b[0m\u001b[0m\n\u001b[0;32m      9\u001b[0m \u001b[1;32mprint\u001b[0m \u001b[0mos\u001b[0m\u001b[1;33m.\u001b[0m\u001b[0mgetcwd\u001b[0m\u001b[1;33m(\u001b[0m\u001b[1;33m)\u001b[0m\u001b[1;33m\u001b[0m\u001b[0m\n",
        "\u001b[1;31mEOFError\u001b[0m: EOF when reading a line"
       ]
      },
      {
       "output_type": "stream",
       "stream": "stdout",
       "text": [
        "input the xml files folder:"
       ]
      }
     ],
     "prompt_number": 71
    },
    {
     "cell_type": "code",
     "collapsed": true,
     "input": [
      "import numpy as np\n",
      "\n",
      "def wrapNdarray(arr):\n",
      "    return arr if isinstance(arr, np.ndarray) else np.array(arr)\n",
      "\n",
      "#(xarr, data) \u2192 (x, y)\n",
      "#target: contains only 0/1, 0:fit; 1:test points\n",
      "def errorEval(xarr, data, target, kind):\n",
      "    assert hasattr(xarr, '__getitem__')\n",
      "    assert hasattr(data, '__getitem__')\n",
      "    assert hasattr(target, '__getitem__')\n",
      "    assert set(target) == {0,1}\n",
      "    \n",
      "    xarr=wrapNdarray(xarr)\n",
      "    data=wrapNdarray(data)\n",
      "    target=wrapNdarray(target)\n",
      "    \n",
      "    x_fit=xarr[target==0]\n",
      "    y_fit=data[target==0]\n",
      "    x_test=xarr[target==1]\n",
      "    y_test=data[target==1]\n",
      "    \n",
      "    f=interp1d(x_fit, y_fit, kind=kind)\n",
      "    sum=0\n",
      "    y_test_estimate=f(x_test)\n",
      "    assert y_test.shape == y_test_estimate.shape\n",
      "    \n",
      "    error=np.sum((y_test_estimate-y_test)**2)/len(y_test)\n",
      "    return error\n",
      "\n",
      "def testErrorEval():\n",
      "    xarr=[.5, 1., 1.5]\n",
      "    data=[0, 3.5, 2]\n",
      "    print errorEval(xarr, data, [0,1,0], 1)\n",
      "\n",
      "testErrorEval()"
     ],
     "language": "python",
     "metadata": {},
     "outputs": [
      {
       "output_type": "stream",
       "stream": "stdout",
       "text": [
        "6.25\n"
       ]
      }
     ],
     "prompt_number": 65
    },
    {
     "cell_type": "code",
     "collapsed": false,
     "input": [
      "cntLinear=0\n",
      "cntCubic=0\n",
      "percent=0\n",
      "tLinear=0\n",
      "tCubic=0\n",
      "\n",
      "oldRootTag='CaptureSession'\n",
      "newRootTag='session'\n",
      "\n",
      "xmlFileList=glob.glob('*.xml')\n",
      "psr=etree.XMLParser(remove_blank_text=True)\n",
      "for idx, fname in enumerate(xmlFileList):\n",
      "    tree=etree.parse(fname, parser=psr)\n",
      "    root=tree.getroot()\n",
      "    print(root.tag, fname)\n",
      "    if root.tag == oldRootTag :\n",
      "\t\tprint('++++++++old style xml (CaptureSession)')\n",
      "\t\tcontinue\n",
      "\t\n",
      "    if root.tag != newRootTag :\n",
      "\t\tprint('-----------probably wrong xml folder')\n",
      "\t\tcontinue\n",
      "\n",
      "    threadList=root.find(Keys.kThreads).findall(Keys.kThread)\n",
      "\t#========\u624b\u673a\u53ea\u7b97\u4e00\u4e2a\u8282\u70b9\n",
      "    assert len(threadList) is 1\n",
      "    thread=threadList[0]\n",
      "    channelList=thread.find(Keys.kChannels).findall(Keys.kChannel)\n",
      "    assert len(channelList) is 4\n",
      "\n",
      "    #data=dict(a=[], g=[], m=[], r=[])\n",
      "    data={Keys.kA:[], Keys.kG:[], Keys.kM:[], Keys.kR:[]}\n",
      "    #--------\u5bf9\u6bcf\u4e2a\u4f20\u611f\u5668\uff0c\u76ee\u524d a, g, m, r\uff1a\n",
      "    for c in channelList:\n",
      "        cname=c.find(Keys.kName).text\n",
      "        frameList=c.find(Keys.kFrames).findall(Keys.kFrame)\n",
      "        #-------------\u5bf9\u6bcf\u4e00\u5e27\uff1a\n",
      "        valList=[]\n",
      "        for idx, f in enumerate(frameList):\n",
      "            ts=float(f.find(Keys.kTime).text)\n",
      "            if idx is 0:\n",
      "                #print('ts:', ts, type(ts))\n",
      "                pass\n",
      "            v=f.find(Keys.kValue)\n",
      "            vx=float(v.find(Keys.kX).text)\n",
      "            vy=float(v.find(Keys.kY).text)\n",
      "            vz=float(v.find(Keys.kZ).text)\n",
      "            #vw \u4e0d\u4e00\u5b9a\u6709\u610f\u4e49\uff1a\n",
      "            vw=float(v.find(Keys.kW).text)\n",
      "            \n",
      "            valList.append([ts, vx, vy, vz, vw])\n",
      "            data[cname]=np.array(valList)\n",
      "        \n",
      "        #\u6bcf\u4e2a\u5143\u4ef6\u53ea\u770b x \u901a\u9053\n",
      "        tmp=np.array(data[cname])\n",
      "        tmp=tmp if len(tmp)%2==1 else np.delete(tmp, -1, axis=0)\n",
      "        tmp=tmp.T\n",
      "        xarr=tmp[0]\n",
      "        for k in [2,3,4]:\n",
      "            yarr=tmp[k]\n",
      "            target=[0 if i%2==0 else 1 for i in range(len(xarr))]\n",
      "            #print target, len(xarr)\n",
      "            t1=time.time()\n",
      "            errLinear=errorEval(xarr, yarr, target, 1)\n",
      "            t2=time.time()\n",
      "            errCubic=errorEval(xarr, yarr, target, 3)\n",
      "            t3=time.time()\n",
      "            tLinear+=(t2-t1)\n",
      "            tCubic+=(t3-t1)\n",
      "        \n",
      "        d=errLinear-errCubic\n",
      "        percent+=errLinear*1.0/errCubic\n",
      "        if d<0:\n",
      "            cntLinear+=1\n",
      "        else:\n",
      "            cntCubic+=1\n",
      "        print '+' if d>0 else '-', ' linear: ', errLinear, '\\t\\tcubic',  errCubic\n",
      "print \"=====================cntLinear, cntCubic\", cntLinear, cntCubic, percent/(len(xmlFileList)*4)\n",
      "print \"===============tLinear, tCubic:\", tLinear, tCubic"
     ],
     "language": "python",
     "metadata": {},
     "outputs": [
      {
       "output_type": "stream",
       "stream": "stdout",
       "text": [
        "CaptureSession\n",
        "++++++++old style xml (CaptureSession)\n",
        "CaptureSession\n",
        "++++++++old style xml (CaptureSession)\n",
        "CaptureSession\n",
        "++++++++old style xml (CaptureSession)\n",
        "CaptureSession"
       ]
      },
      {
       "output_type": "stream",
       "stream": "stdout",
       "text": [
        "\n",
        "++++++++old style xml (CaptureSession)\n",
        "CaptureSession\n",
        "++++++++old style xml (CaptureSession)\n",
        "CaptureSession\n",
        "++++++++old style xml (CaptureSession)\n",
        "CaptureSession\n",
        "++++++++old style xml (CaptureSession)\n",
        "=====================cntLinear, cntCubic"
       ]
      },
      {
       "output_type": "stream",
       "stream": "stdout",
       "text": [
        " 0 0\n"
       ]
      }
     ],
     "prompt_number": 67
    },
    {
     "cell_type": "code",
     "collapsed": false,
     "input": [],
     "language": "python",
     "metadata": {},
     "outputs": []
    }
   ],
   "metadata": {}
  }
 ]
}