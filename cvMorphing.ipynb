{
 "metadata": {
  "name": ""
 },
 "nbformat": 3,
 "nbformat_minor": 0,
 "worksheets": [
  {
   "cells": [
    {
     "cell_type": "code",
     "collapsed": false,
     "input": [
      "'http://davis.wpi.edu/~matt/courses/morph/2d.htm'"
     ],
     "language": "python",
     "metadata": {},
     "outputs": [
      {
       "metadata": {},
       "output_type": "pyout",
       "prompt_number": 1,
       "text": [
        "'http://davis.wpi.edu/~matt/courses/morph/2d.htm'"
       ]
      }
     ],
     "prompt_number": 1
    },
    {
     "cell_type": "code",
     "collapsed": false,
     "input": [
      "%cd D:\\Administrator\\Desktop\n",
      "import cv2\n",
      "cv=cv2\n",
      "import numpy as np\n",
      "\n",
      "wn='test'\n",
      "def myshow(img):\n",
      "    cv.imshow(wn, img)\n",
      "    cv.waitKey()\n",
      "    cv.destroyAllWindows()\n",
      "\n",
      "def loadLines():\n",
      "    pass"
     ],
     "language": "python",
     "metadata": {},
     "outputs": [
      {
       "output_type": "stream",
       "stream": "stdout",
       "text": [
        "D:\\Administrator\\Desktop\n"
       ]
      }
     ],
     "prompt_number": 2
    },
    {
     "cell_type": "code",
     "collapsed": false,
     "input": [
      "def on_mousel(e, x, y, flags, param):\n",
      "    if e==cv.EVENT_LBUTTONDOWN:\n",
      "        print 'left btn:', x, y\n",
      "    \n",
      "    pass\n",
      "\n",
      "def on_mouser(e, x, y, flags, param):\n",
      "    if e==cv.EVENT_RBUTTONDOWN:\n",
      "        print 'right btn:', x, y\n",
      "    pass\n",
      "\n",
      "\n",
      "ln='left'\n",
      "rn='right'\n",
      "cv.namedWindow(ln, cv.WINDOW_AUTOSIZE)\n",
      "cv.moveWindow(ln, 10, 10)\n",
      "cv.namedWindow(rn)\n",
      "cv.moveWindow(rn, 400, 10)\n",
      "\n",
      "cv.setMouseCallback(ln, on_mousel, 0)\n",
      "cv.setMouseCallback(rn, on_mouser, 0)"
     ],
     "language": "python",
     "metadata": {},
     "outputs": [],
     "prompt_number": 6
    },
    {
     "cell_type": "code",
     "collapsed": false,
     "input": [
      "cv.WINDOW_AUTOSIZE"
     ],
     "language": "python",
     "metadata": {},
     "outputs": [
      {
       "metadata": {},
       "output_type": "pyout",
       "prompt_number": 5,
       "text": [
        "1L"
       ]
      }
     ],
     "prompt_number": 5
    },
    {
     "cell_type": "code",
     "collapsed": false,
     "input": [],
     "language": "python",
     "metadata": {},
     "outputs": []
    }
   ],
   "metadata": {}
  }
 ]
}