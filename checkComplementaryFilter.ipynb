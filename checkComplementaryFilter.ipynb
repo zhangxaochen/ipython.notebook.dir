{
 "cells": [
  {
   "cell_type": "code",
   "execution_count": 146,
   "metadata": {
    "collapsed": false
   },
   "outputs": [
    {
     "name": "stdout",
     "output_type": "stream",
     "text": [
      "D:\\Users\\zhangxaochen\\Desktop\\imu\\imu-android&linkoping\\complementaryFilter\n",
      "Using matplotlib backend: Qt4Agg\n",
      "Populating the interactive namespace from numpy and matplotlib\n"
     ]
    }
   ],
   "source": [
    "%cd \"D:\\Users\\zhangxaochen\\Desktop\\imu\\imu-android&linkoping\\complementaryFilter\"\n",
    "\n",
    "# %pylab inline\n",
    "%pylab \n",
    "\n",
    "r2a = 180/np.pi\n",
    "np.set_printoptions(precision=4)"
   ]
  },
  {
   "cell_type": "code",
   "execution_count": 81,
   "metadata": {
    "collapsed": true
   },
   "outputs": [],
   "source": [
    "fn = r'androidSFzc-20150412T195534.txt'\n",
    "fn = r'androidSFzc-20150412T195803.txt'\n",
    "dat = np.loadtxt(fn, delimiter=',')\n"
   ]
  },
  {
   "cell_type": "code",
   "execution_count": 82,
   "metadata": {
    "collapsed": false
   },
   "outputs": [
    {
     "data": {
      "text/plain": [
       "[<matplotlib.lines.Line2D at 0x20d76e10>,\n",
       " <matplotlib.lines.Line2D at 0x210b0dd8>,\n",
       " <matplotlib.lines.Line2D at 0x210b0f28>]"
      ]
     },
     "execution_count": 82,
     "metadata": {},
     "output_type": "execute_result"
    }
   ],
   "source": [
    "plot(dat[:, 1:4]) #android rotation-vector\n",
    "# plot(dat[:, 4:7]) #accMagOrientation\n",
    "plot(dat[:, 7:10]) #gyroOrientation\n",
    "# plot(dat[:, 10:13]) #fusedOrientation； 结论：与 gyroOrientation 基本重合\n",
    "\n"
   ]
  },
  {
   "cell_type": "code",
   "execution_count": 174,
   "metadata": {
    "collapsed": false
   },
   "outputs": [
    {
     "name": "stdout",
     "output_type": "stream",
     "text": [
      "Populating the interactive namespace from numpy and matplotlib\n",
      "[ 1.2941 -1.1078  0.6223]\n",
      "[ 0.0643 -1.1208  0.563 ]\n",
      "[  9.9329e-03   5.2968e-05   1.2366e-03]\n",
      "[ 0.4476  0.0021  0.0041]\n"
     ]
    },
    {
     "data": {
      "image/png": "[encoded data removed]",
      "text/plain": [
       "<matplotlib.figure.Figure at 0x33e8bc18>"
      ]
     },
     "metadata": {},
     "output_type": "display_data"
    }
   ],
   "source": [
    "'''\n",
    "1. 约水平、正北； 静止不到 1min\n",
    "    fusedOrientation 与 gyroOrientation 基本重合\n",
    "'''\n",
    "\n",
    "%pylab inline\n",
    "fn = r'androidSFzc-20150412T204923.txt' \n",
    "dat = np.loadtxt(fn, delimiter=',')\n",
    "dat[:, 1:] *= r2a #rad -> angle\n",
    "\n",
    "goog = dat[:, 1:4]\n",
    "myOri = dat[:, 10:13]\n",
    "plot(goog, label='android') #android rotation-vector\n",
    "# plot(dat[:, 4:7]) #accMagOrientation\n",
    "# plot(dat[:, 7:10]) #gyroOrientation\n",
    "plot(myOri, label='myOri') #fusedOrientation； 结论：与 gyroOrientation 基本重合\n",
    "legend()\n",
    "\n",
    "'均值 & 方差：'\n",
    "print np.mean(goog, axis=0)\n",
    "print np.mean(myOri, axis=0)\n",
    "\n",
    "print np.var(goog, axis=0)\n",
    "print np.var(myOri, axis=0)\n"
   ]
  },
  {
   "cell_type": "code",
   "execution_count": 173,
   "metadata": {
    "collapsed": false
   },
   "outputs": [
    {
     "name": "stdout",
     "output_type": "stream",
     "text": [
      "Using matplotlib backend: Qt4Agg\n",
      "Populating the interactive namespace from numpy and matplotlib\n",
      "[ 11.9471   1.054    0.6597]\n",
      "[ 1.7077  0.0342  0.0941]\n"
     ]
    }
   ],
   "source": [
    "'''\n",
    "4. 初始水平放置，朝向未知，绕Z轴旋转90°四次\n",
    "\n",
    "'''\n",
    "%pylab \n",
    "fn = r'androidSFzc-20150412T195803.txt'\n",
    "dat = np.loadtxt(fn, delimiter=',')\n",
    "\n",
    "tmp = dat[0, 1:].copy()\n",
    "dat[:, 1:] -= tmp\n",
    "dat[:, 1:] *= r2a #rad -> angle\n",
    "\n",
    "goog = dat[:, 1:4]\n",
    "myOri = dat[:, 10:13]\n",
    "plot(goog, label='android') #android rotation-vector\n",
    "# plot(dat[:, 4:7]) #accMagOrientation\n",
    "# plot(dat[:, 7:10]) #gyroOrientation\n",
    "plot(myOri, label='myOri') #fusedOrientation； 结论：与 gyroOrientation 基本重合\n",
    "legend()\n",
    "\n",
    "# beg, end = 0, 2000\n",
    "print abs(mean(goog[0:2000], axis=0) - mean(goog[17000:17500], axis=0))\n",
    "print abs(mean(myOri[0:2000], axis=0) - mean(myOri[17000:17500], axis=0))\n"
   ]
  },
  {
   "cell_type": "code",
   "execution_count": 126,
   "metadata": {
    "collapsed": true
   },
   "outputs": [],
   "source": [
    "fn = r'androidSFzc-20150412T195803.txt'\n",
    "dat = np.loadtxt(fn, delimiter=',')\n",
    "dat[:, 1:] *= r2a\n"
   ]
  },
  {
   "cell_type": "code",
   "execution_count": 127,
   "metadata": {
    "collapsed": false
   },
   "outputs": [
    {
     "data": {
      "text/plain": [
       "<matplotlib.figure.Figure at 0x27c362e8>"
      ]
     },
     "execution_count": 127,
     "metadata": {},
     "output_type": "execute_result"
    }
   ],
   "source": [
    "figure()"
   ]
  },
  {
   "cell_type": "code",
   "execution_count": 130,
   "metadata": {
    "collapsed": false
   },
   "outputs": [
    {
     "data": {
      "text/plain": [
       "[<matplotlib.lines.Line2D at 0x27d4bcf8>]"
      ]
     },
     "execution_count": 130,
     "metadata": {},
     "output_type": "execute_result"
    }
   ],
   "source": [
    "dd = dat[:, 1:4]\n",
    "# dd -= dd[800, :]\n",
    "plot(dd[:, 0])\n",
    "plot(dd[:, 0]-dd[0,0])\n"
   ]
  },
  {
   "cell_type": "code",
   "execution_count": 57,
   "metadata": {
    "collapsed": false
   },
   "outputs": [
    {
     "data": {
      "text/plain": [
       "array([[ 0,  2,  4],\n",
       "       [ 6,  8, 10],\n",
       "       [12, 14, 16]])"
      ]
     },
     "execution_count": 57,
     "metadata": {},
     "output_type": "execute_result"
    }
   ],
   "source": [
    "a=np.arange(9).reshape(3,3)\n",
    "a*=2\n",
    "a"
   ]
  },
  {
   "cell_type": "code",
   "execution_count": null,
   "metadata": {
    "collapsed": true
   },
   "outputs": [],
   "source": []
  }
 ],
 "metadata": {
  "kernelspec": {
   "display_name": "Python 2",
   "language": "python",
   "name": "python2"
  },
  "language_info": {
   "codemirror_mode": {
    "name": "ipython",
    "version": 2
   },
   "file_extension": ".py",
   "mimetype": "text/x-python",
   "name": "python",
   "nbconvert_exporter": "python",
   "pygments_lexer": "ipython2",
   "version": "2.7.10"
  }
 },
 "nbformat": 4,
 "nbformat_minor": 0
}
