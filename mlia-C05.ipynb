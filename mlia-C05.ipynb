{
 "metadata": {
  "name": ""
 },
 "nbformat": 3,
 "nbformat_minor": 0,
 "worksheets": [
  {
   "cells": [
    {
     "cell_type": "code",
     "collapsed": false,
     "input": [
      "%cd D:\\Administrator\\Desktop\\machinelearninginaction\\Ch05\n",
      "%pylab\n",
      "from logRegres import *\n"
     ],
     "language": "python",
     "metadata": {},
     "outputs": [
      {
       "output_type": "stream",
       "stream": "stdout",
       "text": [
        "D:\\Administrator\\Desktop\\machinelearninginaction\\Ch05\n",
        "Using matplotlib backend: Qt4Agg\n",
        "Populating the interactive namespace from numpy and matplotlib\n"
       ]
      }
     ],
     "prompt_number": 38
    },
    {
     "cell_type": "code",
     "collapsed": false,
     "input": [
      "'\u753b\u6837\u672c\u70b9'\n",
      "data=np.loadtxt('testSet.txt')\n",
      "c0=data[data[:, 2]==0]\n",
      "c1=data[data[:, 2]==1]\n",
      "plot(c0[:, 0], c0[:, 1], 'ro', c1[:, 0], c1[:, 1], 'gs')\n",
      "labels=data[:, 2]\t#1/0 \u6807\u7b7e\n",
      "m, n=data.shape\n",
      "samples=np.hstack((np.ones((m, 1)), data[:, :2]))\t#\u6837\u672c\u70b9\n",
      "# samples=np.mat(samples)\t#\u7528 .dot \u66ff\u4ee3\n",
      "\n",
      "def sigmoid(x):\n",
      "    return 1/(1+np.exp(-x))"
     ],
     "language": "python",
     "metadata": {},
     "outputs": [],
     "prompt_number": 54
    },
    {
     "cell_type": "code",
     "collapsed": false,
     "input": [
      "%timeit gradAscent(samples, labels) #\u56e0\u4e3a\u7528 numpy \u6240\u4ee5\u5b9e\u9645\u6bd4 stocGradAscent1 \u8981\u5feb\n",
      "%timeit stocGradAscent0(samples, labels)\n",
      "%timeit stocGradAscent1(samples, labels) \n"
     ],
     "language": "python",
     "metadata": {},
     "outputs": [
      {
       "output_type": "stream",
       "stream": "stdout",
       "text": [
        "10 loops, best of 3: 24.8 ms per loop\n",
        "1000 loops, best of 3: 1.52 ms per loop"
       ]
      },
      {
       "output_type": "stream",
       "stream": "stdout",
       "text": [
        "\n",
        "1 loops, best of 3: 270 ms per loop"
       ]
      },
      {
       "output_type": "stream",
       "stream": "stdout",
       "text": [
        "\n"
       ]
      }
     ],
     "prompt_number": 77
    },
    {
     "cell_type": "code",
     "collapsed": false,
     "input": [
      "'\u68af\u5ea6\u4e0a\u5347: mlia \u6837\u4f8b'\n",
      "wei=gradAscent(samples, labels)\n",
      "print wei\n",
      "plotBestFit(wei.getA())\n",
      "\n",
      "# ---------------\n",
      "'\u624b\u5199\u7248\uff1a \u753b\u4e8c\u5206\u7c7b\u5206\u5272\u7ebf'\n",
      "wei=np.ones((n, 1))\n",
      "alpha=0.001\n",
      "cycles=500\n",
      "lbls=labels[:, None]\n",
      "for i in range(cycles):\n",
      "\t#h=1/(1+np.exp(-samples.dot(wei)))\t#shape: 100, 1\n",
      "\th=sigmoid(samples.dot(wei)) #shape: 100, 1\n",
      "\terrors=lbls-h\t# shape: 100, 1\n",
      "\twei=wei+alpha*samples.T.dot(errors)\n",
      "\n",
      "x=np.arange(-4, 4, 0.1)\n",
      "y=(-wei[0]-wei[1]*x)/wei[2]\n",
      "plot(x, y)\n"
     ],
     "language": "python",
     "metadata": {},
     "outputs": [
      {
       "output_type": "stream",
       "stream": "stdout",
       "text": [
        "[[ 4.12414349]\n",
        " [ 0.48007329]\n",
        " [-0.6168482 ]]\n"
       ]
      },
      {
       "metadata": {},
       "output_type": "pyout",
       "prompt_number": 88,
       "text": [
        "[<matplotlib.lines.Line2D at 0x1358bb30>]"
       ]
      }
     ],
     "prompt_number": 88
    },
    {
     "cell_type": "code",
     "collapsed": false,
     "input": [
      "'\u968f\u673a\u68af\u5ea6\u4e0a\u5347: mlia \u6837\u4f8b\uff0c \u7c97\u7cd9\u7248'\n",
      "wei=stocGradAscent0(samples, labels, )\n",
      "print wei\n",
      "plotBestFit(wei)\n",
      "\n",
      "# ---------------\n",
      "'\u624b\u5199\u7c97\u7cd9\u7248'\n",
      "wei=np.ones(n)\n",
      "alpha=0.01#\u7ecf\u9a8c\u503c\u5f88\u91cd\u8981\uff0c \u8fd9\u6b21\u662f 0.001 \u5c31\u5b8c\u5168\u4e0d\u6536\u655b\n",
      "for i in range(m):\n",
      "    h=sigmoid(samples[i].dot(wei)) #a number\n",
      "    error=labels[i]-h #a number\n",
      "    wei=wei+alpha*samples[i].dot(error)\n",
      "\n",
      "print wei\n",
      "x=np.arange(-4, 4, 0.1)\n",
      "y=(-wei[0]-wei[1]*x)/wei[2]\n",
      "plot(x, y)\n"
     ],
     "language": "python",
     "metadata": {},
     "outputs": [
      {
       "output_type": "stream",
       "stream": "stdout",
       "text": [
        "[ 1.01702007  0.85914348 -0.36579921]\n",
        "[ 1.01702007  0.85914348 -0.36579921]\n"
       ]
      },
      {
       "metadata": {},
       "output_type": "pyout",
       "prompt_number": 66,
       "text": [
        "[<matplotlib.lines.Line2D at 0xbec7d90>]"
       ]
      }
     ],
     "prompt_number": 66
    },
    {
     "cell_type": "code",
     "collapsed": false,
     "input": [
      "'\u968f\u673a\u68af\u5ea6\u4e0a\u5347: mlia \u6837\u4f8b\uff0c \u6539\u8fdb\u7248'\n",
      "numIter=15\n",
      "wei=stocGradAscent1(samples, labels, numIter)\n",
      "print wei\n",
      "plotBestFit(wei)\n",
      "\n",
      "# ---------------\n",
      "'\u624b\u5199\u6539\u8fdb\u7248'\n",
      "import random\n",
      "wei=np.ones(n)\n",
      "weis=[]\n",
      "\n",
      "for j in range(numIter):\n",
      "    indices=range(m)\n",
      "    random.shuffle(indices)\n",
      "    for i in range(m):\n",
      "        alpha=4/(1.+j+i)+0.0001\n",
      "        idx=indices[i]\n",
      "        h=sigmoid(samples[idx].dot(wei))\n",
      "        error=labels[idx]-h\n",
      "        wei=wei+alpha*error*samples[idx]\n",
      "        weis.append(wei)\n",
      "\n",
      "print wei\n",
      "x=np.arange(-4, 4, 0.1)\n",
      "y=(-wei[0]-wei[1]*x)/wei[2]\n",
      "plot(x, y, 'r', lw=2)\n",
      "\n",
      "# ---------------\n",
      "'\u753b\u5404\u4e2a\u53c2\u6570\u7684\u6536\u655b\u56fe'\n",
      "weis=np.asarray(weis)\n",
      "plt.figure()\n",
      "plot(weis[:, 0], 'r', weis[:, 1], 'g', weis[:, 2], 'b')"
     ],
     "language": "python",
     "metadata": {},
     "outputs": [
      {
       "output_type": "stream",
       "stream": "stdout",
       "text": [
        "[ 10.57768099   0.96199195  -1.3820531 ]\n",
        "[ 11.58812394   0.96486427  -1.5513946 ]"
       ]
      },
      {
       "output_type": "stream",
       "stream": "stdout",
       "text": [
        "\n"
       ]
      },
      {
       "metadata": {},
       "output_type": "pyout",
       "prompt_number": 94,
       "text": [
        "[<matplotlib.lines.Line2D at 0x1730e4d0>,\n",
        " <matplotlib.lines.Line2D at 0x1730e6b0>,\n",
        " <matplotlib.lines.Line2D at 0x172fc0b0>]"
       ]
      }
     ],
     "prompt_number": 94
    },
    {
     "cell_type": "code",
     "collapsed": false,
     "input": [
      "stocGradAscent1??"
     ],
     "language": "python",
     "metadata": {},
     "outputs": [],
     "prompt_number": 51
    },
    {
     "cell_type": "code",
     "collapsed": false,
     "input": [],
     "language": "python",
     "metadata": {},
     "outputs": []
    }
   ],
   "metadata": {}
  }
 ]
}