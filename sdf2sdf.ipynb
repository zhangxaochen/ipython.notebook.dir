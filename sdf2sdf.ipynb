{
 "cells": [
  {
   "cell_type": "code",
   "execution_count": null,
   "metadata": {
    "collapsed": true
   },
   "outputs": [],
   "source": [
    "'''\n",
    "sdf-2-sdf 论文相关 代码处理 @2018-3-29 21:40:44\n",
    "数据页面：http://campar.in.tum.de/personal/slavcheva/3d-printed-dataset/synthetic/load_exr_depth.txt\n",
    "\n",
    "opencv 代码：\n",
    "cv::Mat load_exr_depth( std::string filename ) {\n",
    "  // load the image\n",
    "  cv::Mat depth_map = cv::imread( filename, -1 );\n",
    "  cv::cvtColor( depth_map, depth_map, CV_RGB2GRAY );\n",
    "  \n",
    "  // convert to meters\n",
    "  depth_map.convertTo( depth_map, CV_32FC1, 0.001 );\n",
    "  \n",
    "  return depth_map;\n",
    "}\n",
    "\n",
    "内参矩阵：\n",
    "1, syn\n",
    "http://campar.in.tum.de/personal/slavcheva/3d-printed-dataset/synthetic/intrinsics_synthetic.txt\n",
    "570.3999633789062                   0   320.0\n",
    "                0   570.3999633789062   240.0\n",
    "                0                   0       1\n",
    "\n",
    "2, kinect\n",
    "http://campar.in.tum.de/personal/slavcheva/3d-printed-dataset/kinect/intrinsics_kinect.txt\n",
    "538.925221           0  316.473843\n",
    "         0  538.925221  243.262082\n",
    "         0           0           1\n",
    "\n",
    "3, industrial\n",
    "http://campar.in.tum.de/personal/slavcheva/3d-printed-dataset/industrial/intrinsics_industrial.txt\n",
    "2975.3781942               0    987.91809719392688\n",
    "           0    2975.3781942    522.62119889236828\n",
    "           0               0                     1\n",
    "'''"
   ]
  },
  {
   "cell_type": "code",
   "execution_count": 146,
   "metadata": {
    "collapsed": false
   },
   "outputs": [
    {
     "name": "stdout",
     "output_type": "stream",
     "text": [
      "Using matplotlib backend: Qt4Agg\n",
      "Populating the interactive namespace from numpy and matplotlib\n"
     ]
    },
    {
     "name": "stderr",
     "output_type": "stream",
     "text": [
      "WARNING: pylab import has clobbered these variables: ['mat']\n",
      "`%matplotlib` prevents importing * from pylab and numpy\n"
     ]
    }
   ],
   "source": [
    "%pylab\n",
    "from glob import glob\n",
    "\n",
    "import sys\n",
    "sys.path.append(r'D:\\opencv249\\sources\\modules\\python\\test')\n",
    "\n",
    "import os\n",
    "import cv2\n",
    "import transformations as tf\n",
    "'一些短别名:'\n",
    "tf.e2m = tf.euler_matrix\n",
    "tf.m2e = tf.euler_from_matrix\n",
    "tf.q2m = tf.quaternion_matrix\n",
    "tf.m2q = tf.quaternion_from_matrix\n",
    "tf.e2q = tf.quaternion_from_euler\n",
    "tf.q2e = tf.euler_from_quaternion\n",
    "tf.m2r = tf.rotation_from_matrix\n",
    "tf.r2m = tf.rotation_matrix\n",
    "tf.qinv = tf.quaternion_inverse\n",
    "tf.qmul = tf.quaternion_multiply\n",
    "\n",
    "'angle <--> radian:'\n",
    "a2r = np.pi / 180\n",
    "r2a = 180 / np.pi"
   ]
  },
  {
   "cell_type": "code",
   "execution_count": 111,
   "metadata": {
    "collapsed": false
   },
   "outputs": [],
   "source": [
    "'''\n",
    "用 *.exr 生成 ushort png; 针对仿真数据\n",
    "\n",
    "'''\n",
    "path = r\"E:\\sdf2sdf-data\\Synthetic_Bunny_Circle\\depth-raw\"\n",
    "path = r\"E:\\sdf2sdf-data\\Synthetic_Bunny_Wave\\depth-raw\"\n",
    "path = r\"E:\\sdf2sdf-data\\Synthetic_Kenny_Circle\\depth-raw\"\n",
    "path = r\"E:\\sdf2sdf-data\\Synthetic_Kenny_Wave\\depth-raw\"\n",
    "path = r\"E:\\sdf2sdf-data\\Synthetic_Leopard_Circle\\depth-raw\"\n",
    "path = r\"E:\\sdf2sdf-data\\Synthetic_Leopard_Wave\\depth-raw\"\n",
    "path = r\"E:\\sdf2sdf-data\\Synthetic_Tank_Circle\\depth-raw\"\n",
    "path = r\"E:\\sdf2sdf-data\\Synthetic_Tank_Wave\\depth-raw\"\n",
    "path = r\"E:\\sdf2sdf-data\\Synthetic_Teddy_Circle\\depth-raw\"\n",
    "path = r\"E:\\sdf2sdf-data\\Synthetic_Teddy_Wave\\depth-raw\"\n",
    "\n",
    "for fn in glob(path + r'\\*.exr'):\n",
    "    # fn = r\"E:\\sdf2sdf-data\\Synthetic_Bunny_Circle\\depth_000000.exr\"\n",
    "    #fpath_name, ext = os.path.splitext(fn)\n",
    "    fpath, fname = os.path.split(fn)\n",
    "    basename, ext = os.path.splitext(fname)\n",
    "    dmap = cv2.imread(fn, -1)\n",
    "    dmap = cv2.cvtColor(dmap, cv2.COLOR_RGB2GRAY)\n",
    "    # dmap *= 1e-3 #mm2m\n",
    "    dmap[dmap == np.inf] = 0\n",
    "    dmap = dmap.astype(np.ushort) #.5 都被向下取整, 暂时这样\n",
    "    dmap_mm = dmap * 1e-3\n",
    "    cv2.imshow('dmap', dmap_mm)\n",
    "    cv2.waitKey(20)\n",
    "    \n",
    "    '存文件: '\n",
    "    new_path = os.path.join(fpath, 'depth')\n",
    "    if not os.path.isdir(new_path):\n",
    "        os.mkdir(new_path)\n",
    "    new_fn = os.path.join(new_path, basename+'.png')\n",
    "    cv2.imwrite(new_fn, dmap)\n",
    "    pass\n",
    "\n",
    "cv2.destroyAllWindows()"
   ]
  },
  {
   "cell_type": "code",
   "execution_count": 302,
   "metadata": {
    "collapsed": false
   },
   "outputs": [
    {
     "name": "stdout",
     "output_type": "stream",
     "text": [
      "E:\\sdf2sdf-data\\Kinect_Bunny_Handheld\\markerboard7n.csv\n"
     ]
    }
   ],
   "source": [
    "'''\n",
    "把 kinect 采集的 markerboard_poses.txt 棋盘格外参 groundtruth 转成我之前用于 eval 的形式\n",
    "@2018-4-7 00:19:12\n",
    "'''\n",
    "\n",
    "def reshape_poses(fn_src, fn_dst):\n",
    "    rts = []\n",
    "    poses = [] #N * 7 --> t3+q.wxyz\n",
    "\n",
    "    with open(fn_src, 'r') as fin:\n",
    "        for i, line in enumerate( fin.readlines() ):\n",
    "            case = i % 5\n",
    "            if case == 0:\n",
    "                rt = []\n",
    "                #continue\n",
    "            else:\n",
    "                rt.append( map(float, line.split()) )\n",
    "                if case == 4:\n",
    "                    rt = np.asarray(rt)\n",
    "                    rts.append(rt); '暂无用'\n",
    "\n",
    "                    rmat = rt.copy()\n",
    "                    rmat[:3, 3] = 0\n",
    "                    tvec = rt[:3, 3]\n",
    "\n",
    "                    q = tf.m2q(rmat)\n",
    "                    poses.append( hstack((tvec, q[3], q[:3])) ); '原本是 q.xyzw, 存成 t3+q4(wxyz)'\n",
    "                    pass\n",
    "                pass\n",
    "            pass\n",
    "        poses = np.asarray(poses)\n",
    "        pass\n",
    "\n",
    "    np.savetxt(fn_dst, poses, fmt='%.10f', delimiter=',')\n",
    "    pass\n",
    "\n",
    "'+++++++++++++++1, markerboard_poses'\n",
    "path = r'E:\\sdf2sdf-data\\Kinect_Teddy_Turntable'\n",
    "path = r'E:\\sdf2sdf-data\\Kinect_Tank_Turntable'\n",
    "path = r'E:\\sdf2sdf-data\\Kinect_Kenny_Turntable'\n",
    "path = r'E:\\sdf2sdf-data\\Kinect_Bunny_Turntable'\n",
    "\n",
    "path = r'E:\\sdf2sdf-data\\Kinect_Bunny_Handheld'\n",
    "\n",
    "fn_src = os.path.join(path, 'markerboard_poses.txt')\n",
    "fn_dst = os.path.join(path, 'markerboard7n.csv')\n",
    "\n",
    "'+++++++++++++++2, synthetic wave & circle poses'\n",
    "# fn_src = r'E:\\sdf2sdf-data\\synthetic_wave_poses.txt'\n",
    "# fn_dst = r'E:\\sdf2sdf-data\\synthetic_wave_poses.csv'\n",
    "\n",
    "# fn_src = r'E:\\sdf2sdf-data\\synthetic_circle_poses.txt'\n",
    "# fn_dst = r'E:\\sdf2sdf-data\\synthetic_circle_poses.csv'\n",
    "\n",
    "print fn_dst\n",
    "reshape_poses(fn_src, fn_dst)\n"
   ]
  },
  {
   "cell_type": "code",
   "execution_count": null,
   "metadata": {
    "collapsed": true
   },
   "outputs": [],
   "source": []
  },
  {
   "cell_type": "code",
   "execution_count": 295,
   "metadata": {
    "collapsed": false
   },
   "outputs": [],
   "source": [
    "'''\n",
    "对 industrial 数据处理, 1080x2040->480x640\n",
    "@2018-4-8 03:53:42\n",
    "'''\n",
    "\n",
    "# fn=r'C:\\sdf2sdf-data\\Industrial_Bunny\\depth\\depth_000000.bmp'\n",
    "# dmap=cv2.imread(fn, cv2.IMREAD_UNCHANGED)\n",
    "# dmap.shape\n",
    "# where(dmap!=0)\n",
    "\n",
    "path = r'C:\\sdf2sdf-data\\Industrial_Bunny'\n",
    "path = r'C:\\sdf2sdf-data\\Industrial_Kenny'\n",
    "path = r'C:\\sdf2sdf-data\\Industrial_Tank'\n",
    "path = r'C:\\sdf2sdf-data\\Industrial_Leopard'\n",
    "path = r'C:\\sdf2sdf-data\\Industrial_Teddy'\n",
    "\n",
    "for fn in glob( os.path.join(path, r'depth-raw\\*.bmp') ): #假设已预处理,手动把 bmp 移到 depth-raw 了\n",
    "    fpath, fname = os.path.split(fn)\n",
    "    basename, ext = os.path.splitext(fname)\n",
    "    dmap = cv2.imread(fn, -1) #即 cv2.IMREAD_UNCHANGED\n",
    "    dmmm = (dmap[:,:,0] + dmap[:,:,1] * 256 + dmap[:,:,2] * 65536) / 1e3 #转到 mm\n",
    "    dm_vga = cv2.resize(dmmm, (640,480) ) #转到 vga, 此时仍是 float; resize 导致边界模糊错误, 原论文里不管\n",
    "    dm_vga16u = (dm_vga + 0.5).astype( np.uint16 ) #这次小数位很精确, 所以 round nearest\n",
    "    cv2.imshow('dm_vga', dm_vga/1e3) #绘制时要 mm->m\n",
    "    cv2.waitKey(22)\n",
    "    \n",
    "    \n",
    "    '存文件: 1, 全深度图'\n",
    "    new_path = os.path.join(path, r'depth') #放到根目录的 depth/ 中\n",
    "    if not os.path.isdir(new_path):\n",
    "        os.mkdir(new_path)\n",
    "    new_fn = os.path.join(new_path, basename+'.png')\n",
    "    cv2.imwrite(new_fn, dm_vga16u)\n",
    "    \n",
    "    '2, -omask 后的深度图; 变量名不改, 可能覆盖了上面变量'\n",
    "    fn_om = fn.replace('depth-raw\\depth', 'omask\\omask')\n",
    "    fn_om = fn_om.replace('bmp', 'png')\n",
    "    omsk = cv2.imread(fn_om, -1)\n",
    "    dmmm[omsk==0] = 0\n",
    "    dm_vga = cv2.resize(dmmm, (640,480) ) #转到 vga, 此时仍是 float; resize 导致边界模糊错误, 原论文里不管\n",
    "    dm_vga16u = (dm_vga + 0.5).astype( np.uint16 ) #这次小数位很精确, 所以 round nearest\n",
    "\n",
    "    new_path = os.path.join(path, r'depth-om') #放到根目录的 depth/ 中\n",
    "    if not os.path.isdir(new_path):\n",
    "        os.mkdir(new_path)\n",
    "    new_fn = os.path.join(new_path, basename+'.png')\n",
    "    cv2.imwrite(new_fn, dm_vga16u)\n",
    "\n",
    "    pass\n",
    "\n",
    "cv2.destroyAllWindows()"
   ]
  },
  {
   "cell_type": "code",
   "execution_count": 296,
   "metadata": {
    "collapsed": true
   },
   "outputs": [],
   "source": [
    "cv2.imshow('dm_vga', dm_vga/1e3) #绘制时要 mm->m\n"
   ]
  },
  {
   "cell_type": "code",
   "execution_count": 288,
   "metadata": {
    "collapsed": false
   },
   "outputs": [],
   "source": [
    "dmmm.copy?"
   ]
  },
  {
   "cell_type": "code",
   "execution_count": 286,
   "metadata": {
    "collapsed": true
   },
   "outputs": [],
   "source": [
    "cv2.imshow('asdf', omsk)"
   ]
  },
  {
   "cell_type": "code",
   "execution_count": 285,
   "metadata": {
    "collapsed": false
   },
   "outputs": [
    {
     "data": {
      "text/plain": [
       "255"
      ]
     },
     "execution_count": 285,
     "metadata": {},
     "output_type": "execute_result"
    }
   ],
   "source": [
    "where(omsk!=0)\n",
    "omsk[499, 942]"
   ]
  },
  {
   "cell_type": "code",
   "execution_count": 282,
   "metadata": {
    "collapsed": false
   },
   "outputs": [
    {
     "data": {
      "text/plain": [
       "'C:\\\\sdf2sdf-data\\\\Industrial_Tank\\\\depth-om'"
      ]
     },
     "execution_count": 282,
     "metadata": {},
     "output_type": "execute_result"
    }
   ],
   "source": [
    "new_path"
   ]
  },
  {
   "cell_type": "code",
   "execution_count": 257,
   "metadata": {
    "collapsed": false
   },
   "outputs": [
    {
     "name": "stdout",
     "output_type": "stream",
     "text": [
      "(480L, 640L)\n",
      "(array([ 39,  39,  39, ..., 468, 468, 468], dtype=int64), array([184, 185, 186, ..., 240, 241, 242], dtype=int64))\n",
      "[[238 239 637 637]\n",
      " [635 636 636 636]\n",
      " [634 635 635 636]\n",
      " [634 634 635 635]\n",
      " [633 634 634 635]]\n"
     ]
    }
   ],
   "source": [
    "fn=r'C:\\sdf2sdf-data\\Industrial_Bunny\\depth\\depth_000000.png'\n",
    "dmap=cv2.imread(fn, cv2.IMREAD_UNCHANGED)\n",
    "print dmap.shape\n",
    "print where(dmap!=0)\n",
    "print dmap[39:44,184:188]"
   ]
  },
  {
   "cell_type": "code",
   "execution_count": 256,
   "metadata": {
    "collapsed": false
   },
   "outputs": [
    {
     "data": {
      "text/plain": [
       "(array([  88,   88,   88, ..., 1053, 1053, 1053], dtype=int64),\n",
       " array([592, 592, 592, ..., 774, 774, 774], dtype=int64),\n",
       " array([0, 1, 2, ..., 0, 1, 2], dtype=int64))"
      ]
     },
     "execution_count": 256,
     "metadata": {},
     "output_type": "execute_result"
    }
   ],
   "source": [
    "fn=r'C:\\sdf2sdf-data\\Industrial_Bunny\\depth-raw\\depth_000000.bmp'\n",
    "dmap=cv2.imread(fn, cv2.IMREAD_UNCHANGED)\n",
    "dmap.shape\n",
    "where(dmap!=0)\n"
   ]
  },
  {
   "cell_type": "code",
   "execution_count": 207,
   "metadata": {
    "collapsed": false
   },
   "outputs": [
    {
     "data": {
      "text/plain": [
       "(2.25, 3.1875)"
      ]
     },
     "execution_count": 207,
     "metadata": {},
     "output_type": "execute_result"
    }
   ],
   "source": [
    "108/48., 204/64."
   ]
  },
  {
   "cell_type": "code",
   "execution_count": 235,
   "metadata": {
    "collapsed": false
   },
   "outputs": [],
   "source": [
    "dm2=(dmap[:,:,0]+dmap[:,:,1]*256+dmap[:,:,2]*65536)/1e3"
   ]
  },
  {
   "cell_type": "code",
   "execution_count": 232,
   "metadata": {
    "collapsed": false
   },
   "outputs": [
    {
     "data": {
      "text/plain": [
       "(3L, 1080L, 2040L)"
      ]
     },
     "execution_count": 232,
     "metadata": {},
     "output_type": "execute_result"
    }
   ],
   "source": [
    "dmap.transpose(2,0,1).shape"
   ]
  },
  {
   "cell_type": "code",
   "execution_count": 236,
   "metadata": {
    "collapsed": true
   },
   "outputs": [],
   "source": [
    "dd=cv2.resize(dm2, (640,480))"
   ]
  },
  {
   "cell_type": "code",
   "execution_count": 238,
   "metadata": {
    "collapsed": false
   },
   "outputs": [],
   "source": [
    "dd*=1e-3\n",
    "cv2.imshow('asdf', dd)"
   ]
  },
  {
   "cell_type": "code",
   "execution_count": null,
   "metadata": {
    "collapsed": true
   },
   "outputs": [],
   "source": []
  },
  {
   "cell_type": "code",
   "execution_count": 240,
   "metadata": {
    "collapsed": false
   },
   "outputs": [
    {
     "name": "stdout",
     "output_type": "stream",
     "text": [
      "[[[ 51   0   9]\n",
      "  [ 45   0   9]\n",
      "  [253 255   8]]\n",
      "\n",
      " [[227 255   8]\n",
      "  [220 255   8]\n",
      "  [149 255   8]]]\n",
      "[[ 589.875  589.869  589.821]\n",
      " [ 589.795  589.788  589.717]]\n",
      "[73 36  8]\n"
     ]
    }
   ],
   "source": [
    "# print dmap[88:99,592:600]\n",
    "print dmap[476:478, 903:906]\n",
    "print dm2[476:478, 903:906]\n",
    "\n",
    "print dmap[1053, 774]\n",
    "# b, g, r=dmap[88,592]\n",
    "# (r*2**16+g*2**8+b)/1e3"
   ]
  },
  {
   "cell_type": "code",
   "execution_count": 185,
   "metadata": {
    "collapsed": true
   },
   "outputs": [],
   "source": [
    "cv2.*UNCHA*?"
   ]
  },
  {
   "cell_type": "code",
   "execution_count": 188,
   "metadata": {
    "collapsed": false
   },
   "outputs": [
    {
     "name": "stdout",
     "output_type": "stream",
     "text": [
      "-1\n",
      "-1\n"
     ]
    }
   ],
   "source": [
    "print cv2.IMREAD_UNCHANGED\n",
    "print cv2.CV_LOAD_IMAGE_UNCHANGED"
   ]
  },
  {
   "cell_type": "code",
   "execution_count": 112,
   "metadata": {
    "collapsed": false
   },
   "outputs": [
    {
     "data": {
      "text/plain": [
       "522"
      ]
     },
     "execution_count": 112,
     "metadata": {},
     "output_type": "execute_result"
    }
   ],
   "source": [
    "fn = r'E:\\sdf2sdf-data\\Synthetic_Bunny_Circle\\depth\\depth_000000.png'\n",
    "dmap = cv2.imread(fn, -1)\n",
    "int(dmap[124,307])"
   ]
  },
  {
   "cell_type": "code",
   "execution_count": 33,
   "metadata": {
    "collapsed": false
   },
   "outputs": [
    {
     "name": "stdout",
     "output_type": "stream",
     "text": [
      "[[ 522.5  524.   525.5  526.5  528.5    inf    inf    inf    inf    inf\n",
      "     inf    inf    inf    inf    inf    inf    inf    inf    inf    inf\n",
      "     inf    inf    inf    inf    inf    inf]\n",
      " [ 522.   523.5  524.5  526.   527.5  529.5    inf    inf    inf    inf\n",
      "     inf    inf    inf    inf    inf    inf    inf    inf    inf    inf\n",
      "     inf    inf    inf    inf    inf    inf]\n",
      " [ 522.   523.5  524.5  526.   527.5  529.   531.5    inf    inf    inf\n",
      "     inf    inf    inf    inf    inf    inf    inf    inf    inf    inf\n",
      "     inf    inf    inf    inf    inf    inf]\n",
      " [ 522.5  523.5  525.   526.   527.5  528.5  530.5    inf    inf    inf\n",
      "     inf    inf    inf    inf    inf    inf    inf    inf    inf    inf\n",
      "     inf    inf    inf    inf    inf    inf]\n",
      " [ 522.5  524.   525.   526.5  527.5  528.5  530.   532.   534.     inf\n",
      "     inf    inf    inf    inf    inf    inf    inf    inf    inf    inf\n",
      "     inf    inf    inf    inf    inf    inf]\n",
      " [ 523.   524.   525.5  526.5  527.5  528.5  529.5  531.   533.   534.5\n",
      "     inf    inf    inf    inf    inf    inf    inf    inf    inf    inf\n",
      "     inf    inf    inf    inf    inf    inf]\n",
      " [ 523.5  524.5  525.5  526.5  527.5  528.5  529.5  530.5  532.   533.5\n",
      "     inf    inf    inf    inf    inf    inf    inf    inf    inf    inf\n",
      "     inf    inf    inf    inf    inf    inf]\n",
      " [ 523.5  524.5  525.5  526.5  527.5  528.   529.   530.   531.5  533.\n",
      "   535.     inf    inf    inf    inf    inf    inf    inf    inf    inf\n",
      "     inf    inf    inf    inf    inf    inf]\n",
      " [ 523.5  524.5  525.5  526.   527.   528.   529.   530.   531.   532.5\n",
      "   534.     inf    inf    inf    inf    inf    inf    inf    inf    inf\n",
      "     inf    inf    inf    inf    inf    inf]]\n"
     ]
    }
   ],
   "source": [
    "print dmap[124:133, 307:333]"
   ]
  },
  {
   "cell_type": "code",
   "execution_count": 17,
   "metadata": {
    "collapsed": false
   },
   "outputs": [
    {
     "data": {
      "text/plain": [
       "array([[ inf,  inf,  inf, ...,  inf,  inf,  inf],\n",
       "       [ inf,  inf,  inf, ...,  inf,  inf,  inf],\n",
       "       [ inf,  inf,  inf, ...,  inf,  inf,  inf],\n",
       "       ..., \n",
       "       [ inf,  inf,  inf, ...,  inf,  inf,  inf],\n",
       "       [ inf,  inf,  inf, ...,  inf,  inf,  inf],\n",
       "       [ inf,  inf,  inf, ...,  inf,  inf,  inf]], dtype=float32)"
      ]
     },
     "execution_count": 17,
     "metadata": {},
     "output_type": "execute_result"
    }
   ],
   "source": [
    "cv2.cvtColor(dmap, cv2.COLOR_RGB2GRAY)"
   ]
  },
  {
   "cell_type": "code",
   "execution_count": null,
   "metadata": {
    "collapsed": true
   },
   "outputs": [],
   "source": []
  },
  {
   "cell_type": "code",
   "execution_count": null,
   "metadata": {
    "collapsed": true
   },
   "outputs": [],
   "source": []
  }
 ],
 "metadata": {
  "kernelspec": {
   "display_name": "Python 2",
   "language": "python",
   "name": "python2"
  },
  "language_info": {
   "codemirror_mode": {
    "name": "ipython",
    "version": 2
   },
   "file_extension": ".py",
   "mimetype": "text/x-python",
   "name": "python",
   "nbconvert_exporter": "python",
   "pygments_lexer": "ipython2",
   "version": "2.7.10"
  }
 },
 "nbformat": 4,
 "nbformat_minor": 0
}
