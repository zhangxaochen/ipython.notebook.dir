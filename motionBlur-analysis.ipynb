{
 "cells": [
  {
   "cell_type": "markdown",
   "metadata": {},
   "source": [
    "运动模糊分析：根据相机帧间（线速度v，角速度w），以及帧间深度图差(配准后的) diffDmap，以及法向图 nmap\n",
    "--\n",
    "@2017-11-30 17:11:32\n"
   ]
  },
  {
   "cell_type": "code",
   "execution_count": 1,
   "metadata": {
    "collapsed": false
   },
   "outputs": [
    {
     "name": "stdout",
     "output_type": "stream",
     "text": [
      "Using matplotlib backend: Qt4Agg\n",
      "Populating the interactive namespace from numpy and matplotlib\n"
     ]
    }
   ],
   "source": [
    "                                    %pylab\n",
    "import sys\n",
    "sys.path.append(r'D:\\opencv249\\sources\\modules\\python\\test')\n",
    "\n",
    "import os\n",
    "import cv2\n",
    "import transformations as tf\n",
    "'一些短别名:'\n",
    "tf.e2m = tf.euler_matrix\n",
    "tf.m2e = tf.euler_from_matrix\n",
    "tf.q2m = tf.quaternion_matrix\n",
    "tf.m2q = tf.quaternion_from_matrix\n",
    "tf.e2q = tf.quaternion_from_euler\n",
    "tf.q2e = tf.euler_from_quaternion\n",
    "tf.m2r = tf.rotation_from_matrix\n",
    "tf.r2m = tf.rotation_matrix\n",
    "tf.qinv = tf.quaternion_inverse\n",
    "tf.qmul = tf.quaternion_multiply\n",
    "\n",
    "'angle <--> radian:'\n",
    "a2r = np.pi / 180\n",
    "r2a = 180 / np.pi"
   ]
  },
  {
   "cell_type": "code",
   "execution_count": 23,
   "metadata": {
    "collapsed": false
   },
   "outputs": [
    {
     "data": {
      "text/plain": [
       "<matplotlib.legend.Legend at 0xd4c74e0>"
      ]
     },
     "execution_count": 23,
     "metadata": {},
     "output_type": "execute_result"
    }
   ],
   "source": [
    "fn1=r'D:\\Users\\zhangxaochen\\Desktop\\dbg\\f2mkr-amp4\\kinfu_poses.csv'\n",
    "m1 = loadtxt(fn1, delimiter=',')[:, :7]\n",
    "m1tvecs = m1[:, :3]\n",
    "m1rvecs = m1[:, 3:]\n",
    "m1rmats = np.array([tf.q2m([q[1], q[2], q[3], q[0]]) for q in m1rvecs]) #N*(4x4)\n",
    "\n",
    "m1t0 = m1tvecs[0]\n",
    "m1r0 = m1rmats[0]\n",
    "\n",
    "tvecIntv=norm(m1tvecs[1:]-m1tvecs[:-1], axis=1) #帧间 interval\n",
    "plot(tvecIntv)\n",
    "'↑-发现: 相机运动(线速度)大的时刻, 物体在相机坐标系运动未必大, 还得看角速度'\n",
    "\n",
    "# m1rmats = np.array([m1r0.dot(ri.T) for ri in m1rmats]) #R0*Ri.T\n",
    "'此处按 pose是 c2g 来处理, 之前 compareEulerAngle.ipynb 里, 注释是 g2c, 记不清了(可能弄 cboard 时的定义?), 震惊! @2017-12-2 21:09:03'\n",
    "\n",
    "#Ri'*R(i+1)\n",
    "dRmats = [m1rmats[i].T.dot(m1rmats[i+1]) for i in range(len(m1rmats)-1)]\n",
    "angles = []\n",
    "for drm in dRmats:\n",
    "    drvec, _ = cv2.Rodrigues(drm[:3, :3]) #rot-vec\n",
    "    angles.append(norm(drvec))\n",
    "    pass\n",
    "\n",
    "plot(angles)\n",
    "legend(['dt', 'dR'])"
   ]
  },
  {
   "cell_type": "code",
   "execution_count": 222,
   "metadata": {
    "collapsed": false
   },
   "outputs": [
    {
     "data": {
      "text/plain": [
       "<matplotlib.colorbar.Colorbar instance at 0x000000004E059388>"
      ]
     },
     "execution_count": 222,
     "metadata": {},
     "output_type": "execute_result"
    }
   ],
   "source": [
    "'tmp: 看 tcurr, tprev 在我的新权重函数下的影响'\n",
    "tc_min, tc_max = -1, 10\n",
    "tp_min, tp_max = -1, 10\n",
    "tcurr=linspace(tc_min, tc_max, 201)\n",
    "tprev=linspace(tp_min, tp_max, 201)\n",
    "xv, yv = meshgrid(tcurr, tprev, sparse=True) #tcurr 横轴\n",
    "'NO isNewFace 情形'\n",
    "# myfunc = vectorize(lambda p, c: min(1, p / min(1, abs(c))) ) #错 min 会向下转型, float->int 导致错\n",
    "myfunc = lambda p, c: max(1., p / max(1, abs(c))) #max(1, tsdf_prev1 / max(1, abs(tsdf_curr)) ); \n",
    "myfunc = lambda p, c: min(p, max(0., p / c) ) #min(tsdf_prev1, max(0, tsdf_prev1 / tsdf_curr) )\n",
    "# myfunc = lambda p, c: max(0., p / c) #对比说明上面 min(p, ...) 必要性\n",
    "# myfunc = lambda p, c: p / max(1, abs(c)) #等价:== min(p, p/c) \n",
    "# myfunc = lambda p, c: min(p, p/abs(c))\n",
    "\n",
    "'YES isNewFace 情形'\n",
    "# myfunc = lambda p, c: min(max(1., p), max(0., p/c) ) #p>0 时：min(max(1.f, tsdf_prev1), max(0.f, tsdf_prev1 / tsdf_curr) );\n",
    "myfunc = lambda p, c: min(max(1., p), max(0., p/(c+np.sign(c)*0.01)) ) #p>0 时... 同上, 只是避免除零\n",
    "myfunc = lambda p, c: -p/c if c+p>0 else (c+1)/max(p+1, 0.1) #-1<p<0 时：tsdf_curr + tsdf_prev1 > 0 ? 1 : (tsdf_curr+1) / max(tsdf_prev1+1, 0.1);\n",
    "myfunc = lambda p, c: min(max(1., p), max(0., p/(c+np.sign(c)*0.01)) ) if p>0\\\n",
    "                else (-p/c if c+p>0 else (c+1)/max(p+1, 0.1)) #上面俩合并写\n",
    "\n",
    "'tmp, test 测试 myfunc 一些形式:'\n",
    "# myfunc = lambda p, c:\n",
    "# myfunc = lambda p, c: -p/c\n",
    "\n",
    "\n",
    "myfunc_vrize = vectorize(myfunc)\n",
    "z = myfunc_vrize(yv, xv)\n",
    "# z.shape #(200L, 200L), 是 y*x\n",
    "# z[z==1] = 10 #故意把 w=1 区域弄成明显颜色\n",
    "# z[abs(z-1)<1e-4] = 10 \n",
    "\n",
    "figure()\n",
    "# xlim(tc_min, tc_max) #错, 用 imshow 的 extent\n",
    "# ylim(tp_min, tp_max)\n",
    "# imshow(z, interpolation=None, extent=(tc_min, tc_max, tp_max, tp_min)) #left, right, bot, top\n",
    "imshow(z[::-1], interpolation=None, extent=(tc_min, tc_max, tp_min, tp_max)) #z 纵轴倒置\n",
    "colorbar() #放在 imshow 之后\n"
   ]
  },
  {
   "cell_type": "code",
   "execution_count": 116,
   "metadata": {
    "collapsed": false
   },
   "outputs": [
    {
     "data": {
      "text/plain": [
       "5.025125628140704"
      ]
     },
     "execution_count": 116,
     "metadata": {},
     "output_type": "execute_result"
    }
   ],
   "source": [
    "z[100, 30]"
   ]
  },
  {
   "cell_type": "code",
   "execution_count": 211,
   "metadata": {
    "collapsed": false
   },
   "outputs": [
    {
     "name": "stdout",
     "output_type": "stream",
     "text": [
      "1.32450331126\n",
      "1.0\n",
      "0.32967032967\n",
      "0.980392156863\n",
      "1.2\n",
      "1.99335548173\n",
      "1.49625935162\n",
      "0.8\n",
      "18.0\n"
     ]
    }
   ],
   "source": [
    "print myfunc(2, 1.5)\n",
    "print myfunc(0.9, 0.3)\n",
    "print myfunc(0.3, 0.9)\n",
    "print myfunc(0.5, 0.5)\n",
    "print myfunc(1.2, 0.5)\n",
    "print myfunc(6, 3)\n",
    "print myfunc(6, 4)\n",
    "print myfunc(-0.8, 1)\n",
    "print myfunc(-0.9, 0.8)\n"
   ]
  },
  {
   "cell_type": "code",
   "execution_count": 35,
   "metadata": {
    "collapsed": false
   },
   "outputs": [
    {
     "data": {
      "text/plain": [
       "<matplotlib.colorbar.Colorbar instance at 0x0000000018C5A1C8>"
      ]
     },
     "execution_count": 35,
     "metadata": {},
     "output_type": "execute_result"
    }
   ],
   "source": [
    "'demo: meshgrid'\n",
    "x = np.arange(-5, 5, 0.1)\n",
    "y = np.arange(-5, 5, 0.1)\n",
    "xx, yy = np.meshgrid(x, y, sparse=True)\n",
    "z = np.sin(xx**2 + yy**2) / (xx**2 + yy**2)\n",
    "h = plt.contourf(x,y,z)\n",
    "# show()\n",
    "colorbar()"
   ]
  },
  {
   "cell_type": "code",
   "execution_count": 226,
   "metadata": {
    "collapsed": false
   },
   "outputs": [
    {
     "ename": "IOError",
     "evalue": "File stakes.csv does not exist",
     "output_type": "error",
     "traceback": [
      "\u001b[1;31m---------------------------------------------------------------------------\u001b[0m",
      "\u001b[1;31mIOError\u001b[0m                                   Traceback (most recent call last)",
      "\u001b[1;32m<ipython-input-226-4128a0ea8801>\u001b[0m in \u001b[0;36m<module>\u001b[1;34m()\u001b[0m\n\u001b[0;32m     10\u001b[0m \u001b[0mget_ipython\u001b[0m\u001b[1;33m(\u001b[0m\u001b[1;33m)\u001b[0m\u001b[1;33m.\u001b[0m\u001b[0mmagic\u001b[0m\u001b[1;33m(\u001b[0m\u001b[1;34mu\"config InlineBackend.figure_format = 'retina'\"\u001b[0m\u001b[1;33m)\u001b[0m\u001b[1;33m\u001b[0m\u001b[0m\n\u001b[0;32m     11\u001b[0m \u001b[1;33m\u001b[0m\u001b[0m\n\u001b[1;32m---> 12\u001b[1;33m \u001b[0mdata\u001b[0m \u001b[1;33m=\u001b[0m \u001b[0mpd\u001b[0m\u001b[1;33m.\u001b[0m\u001b[0mread_csv\u001b[0m\u001b[1;33m(\u001b[0m\u001b[1;34m'stakes.csv'\u001b[0m\u001b[1;33m)\u001b[0m \u001b[1;31m#载入数据文件\u001b[0m\u001b[1;33m\u001b[0m\u001b[0m\n\u001b[0m\u001b[0;32m     13\u001b[0m \u001b[0mdata\u001b[0m\u001b[1;33m.\u001b[0m\u001b[0mhead\u001b[0m\u001b[1;33m(\u001b[0m\u001b[1;36m5\u001b[0m\u001b[1;33m)\u001b[0m \u001b[1;31m#查看前5个头部数据\u001b[0m\u001b[1;33m\u001b[0m\u001b[0m\n",
      "\u001b[1;32md:\\Anaconda2\\lib\\site-packages\\pandas\\io\\parsers.pyc\u001b[0m in \u001b[0;36mparser_f\u001b[1;34m(filepath_or_buffer, sep, dialect, compression, doublequote, escapechar, quotechar, quoting, skipinitialspace, lineterminator, header, index_col, names, prefix, skiprows, skipfooter, skip_footer, na_values, true_values, false_values, delimiter, converters, dtype, usecols, engine, delim_whitespace, as_recarray, na_filter, compact_ints, use_unsigned, low_memory, buffer_lines, warn_bad_lines, error_bad_lines, keep_default_na, thousands, comment, decimal, parse_dates, keep_date_col, dayfirst, date_parser, memory_map, float_precision, nrows, iterator, chunksize, verbose, encoding, squeeze, mangle_dupe_cols, tupleize_cols, infer_datetime_format, skip_blank_lines)\u001b[0m\n\u001b[0;32m    489\u001b[0m                     skip_blank_lines=skip_blank_lines)\n\u001b[0;32m    490\u001b[0m \u001b[1;33m\u001b[0m\u001b[0m\n\u001b[1;32m--> 491\u001b[1;33m         \u001b[1;32mreturn\u001b[0m \u001b[0m_read\u001b[0m\u001b[1;33m(\u001b[0m\u001b[0mfilepath_or_buffer\u001b[0m\u001b[1;33m,\u001b[0m \u001b[0mkwds\u001b[0m\u001b[1;33m)\u001b[0m\u001b[1;33m\u001b[0m\u001b[0m\n\u001b[0m\u001b[0;32m    492\u001b[0m \u001b[1;33m\u001b[0m\u001b[0m\n\u001b[0;32m    493\u001b[0m     \u001b[0mparser_f\u001b[0m\u001b[1;33m.\u001b[0m\u001b[0m__name__\u001b[0m \u001b[1;33m=\u001b[0m \u001b[0mname\u001b[0m\u001b[1;33m\u001b[0m\u001b[0m\n",
      "\u001b[1;32md:\\Anaconda2\\lib\\site-packages\\pandas\\io\\parsers.pyc\u001b[0m in \u001b[0;36m_read\u001b[1;34m(filepath_or_buffer, kwds)\u001b[0m\n\u001b[0;32m    266\u001b[0m \u001b[1;33m\u001b[0m\u001b[0m\n\u001b[0;32m    267\u001b[0m     \u001b[1;31m# Create the parser.\u001b[0m\u001b[1;33m\u001b[0m\u001b[1;33m\u001b[0m\u001b[0m\n\u001b[1;32m--> 268\u001b[1;33m     \u001b[0mparser\u001b[0m \u001b[1;33m=\u001b[0m \u001b[0mTextFileReader\u001b[0m\u001b[1;33m(\u001b[0m\u001b[0mfilepath_or_buffer\u001b[0m\u001b[1;33m,\u001b[0m \u001b[1;33m**\u001b[0m\u001b[0mkwds\u001b[0m\u001b[1;33m)\u001b[0m\u001b[1;33m\u001b[0m\u001b[0m\n\u001b[0m\u001b[0;32m    269\u001b[0m \u001b[1;33m\u001b[0m\u001b[0m\n\u001b[0;32m    270\u001b[0m     \u001b[1;32mif\u001b[0m \u001b[1;33m(\u001b[0m\u001b[0mnrows\u001b[0m \u001b[1;32mis\u001b[0m \u001b[1;32mnot\u001b[0m \u001b[0mNone\u001b[0m\u001b[1;33m)\u001b[0m \u001b[1;32mand\u001b[0m \u001b[1;33m(\u001b[0m\u001b[0mchunksize\u001b[0m \u001b[1;32mis\u001b[0m \u001b[1;32mnot\u001b[0m \u001b[0mNone\u001b[0m\u001b[1;33m)\u001b[0m\u001b[1;33m:\u001b[0m\u001b[1;33m\u001b[0m\u001b[0m\n",
      "\u001b[1;32md:\\Anaconda2\\lib\\site-packages\\pandas\\io\\parsers.pyc\u001b[0m in \u001b[0;36m__init__\u001b[1;34m(self, f, engine, **kwds)\u001b[0m\n\u001b[0;32m    581\u001b[0m             \u001b[0mself\u001b[0m\u001b[1;33m.\u001b[0m\u001b[0moptions\u001b[0m\u001b[1;33m[\u001b[0m\u001b[1;34m'has_index_names'\u001b[0m\u001b[1;33m]\u001b[0m \u001b[1;33m=\u001b[0m \u001b[0mkwds\u001b[0m\u001b[1;33m[\u001b[0m\u001b[1;34m'has_index_names'\u001b[0m\u001b[1;33m]\u001b[0m\u001b[1;33m\u001b[0m\u001b[0m\n\u001b[0;32m    582\u001b[0m \u001b[1;33m\u001b[0m\u001b[0m\n\u001b[1;32m--> 583\u001b[1;33m         \u001b[0mself\u001b[0m\u001b[1;33m.\u001b[0m\u001b[0m_make_engine\u001b[0m\u001b[1;33m(\u001b[0m\u001b[0mself\u001b[0m\u001b[1;33m.\u001b[0m\u001b[0mengine\u001b[0m\u001b[1;33m)\u001b[0m\u001b[1;33m\u001b[0m\u001b[0m\n\u001b[0m\u001b[0;32m    584\u001b[0m \u001b[1;33m\u001b[0m\u001b[0m\n\u001b[0;32m    585\u001b[0m     \u001b[1;32mdef\u001b[0m \u001b[0m_get_options_with_defaults\u001b[0m\u001b[1;33m(\u001b[0m\u001b[0mself\u001b[0m\u001b[1;33m,\u001b[0m \u001b[0mengine\u001b[0m\u001b[1;33m)\u001b[0m\u001b[1;33m:\u001b[0m\u001b[1;33m\u001b[0m\u001b[0m\n",
      "\u001b[1;32md:\\Anaconda2\\lib\\site-packages\\pandas\\io\\parsers.pyc\u001b[0m in \u001b[0;36m_make_engine\u001b[1;34m(self, engine)\u001b[0m\n\u001b[0;32m    722\u001b[0m     \u001b[1;32mdef\u001b[0m \u001b[0m_make_engine\u001b[0m\u001b[1;33m(\u001b[0m\u001b[0mself\u001b[0m\u001b[1;33m,\u001b[0m \u001b[0mengine\u001b[0m\u001b[1;33m=\u001b[0m\u001b[1;34m'c'\u001b[0m\u001b[1;33m)\u001b[0m\u001b[1;33m:\u001b[0m\u001b[1;33m\u001b[0m\u001b[0m\n\u001b[0;32m    723\u001b[0m         \u001b[1;32mif\u001b[0m \u001b[0mengine\u001b[0m \u001b[1;33m==\u001b[0m \u001b[1;34m'c'\u001b[0m\u001b[1;33m:\u001b[0m\u001b[1;33m\u001b[0m\u001b[0m\n\u001b[1;32m--> 724\u001b[1;33m             \u001b[0mself\u001b[0m\u001b[1;33m.\u001b[0m\u001b[0m_engine\u001b[0m \u001b[1;33m=\u001b[0m \u001b[0mCParserWrapper\u001b[0m\u001b[1;33m(\u001b[0m\u001b[0mself\u001b[0m\u001b[1;33m.\u001b[0m\u001b[0mf\u001b[0m\u001b[1;33m,\u001b[0m \u001b[1;33m**\u001b[0m\u001b[0mself\u001b[0m\u001b[1;33m.\u001b[0m\u001b[0moptions\u001b[0m\u001b[1;33m)\u001b[0m\u001b[1;33m\u001b[0m\u001b[0m\n\u001b[0m\u001b[0;32m    725\u001b[0m         \u001b[1;32melse\u001b[0m\u001b[1;33m:\u001b[0m\u001b[1;33m\u001b[0m\u001b[0m\n\u001b[0;32m    726\u001b[0m             \u001b[1;32mif\u001b[0m \u001b[0mengine\u001b[0m \u001b[1;33m==\u001b[0m \u001b[1;34m'python'\u001b[0m\u001b[1;33m:\u001b[0m\u001b[1;33m\u001b[0m\u001b[0m\n",
      "\u001b[1;32md:\\Anaconda2\\lib\\site-packages\\pandas\\io\\parsers.pyc\u001b[0m in \u001b[0;36m__init__\u001b[1;34m(self, src, **kwds)\u001b[0m\n\u001b[0;32m   1091\u001b[0m         \u001b[0mkwds\u001b[0m\u001b[1;33m[\u001b[0m\u001b[1;34m'allow_leading_cols'\u001b[0m\u001b[1;33m]\u001b[0m \u001b[1;33m=\u001b[0m \u001b[0mself\u001b[0m\u001b[1;33m.\u001b[0m\u001b[0mindex_col\u001b[0m \u001b[1;32mis\u001b[0m \u001b[1;32mnot\u001b[0m \u001b[0mFalse\u001b[0m\u001b[1;33m\u001b[0m\u001b[0m\n\u001b[0;32m   1092\u001b[0m \u001b[1;33m\u001b[0m\u001b[0m\n\u001b[1;32m-> 1093\u001b[1;33m         \u001b[0mself\u001b[0m\u001b[1;33m.\u001b[0m\u001b[0m_reader\u001b[0m \u001b[1;33m=\u001b[0m \u001b[0m_parser\u001b[0m\u001b[1;33m.\u001b[0m\u001b[0mTextReader\u001b[0m\u001b[1;33m(\u001b[0m\u001b[0msrc\u001b[0m\u001b[1;33m,\u001b[0m \u001b[1;33m**\u001b[0m\u001b[0mkwds\u001b[0m\u001b[1;33m)\u001b[0m\u001b[1;33m\u001b[0m\u001b[0m\n\u001b[0m\u001b[0;32m   1094\u001b[0m \u001b[1;33m\u001b[0m\u001b[0m\n\u001b[0;32m   1095\u001b[0m         \u001b[1;31m# XXX\u001b[0m\u001b[1;33m\u001b[0m\u001b[1;33m\u001b[0m\u001b[0m\n",
      "\u001b[1;32mpandas\\parser.pyx\u001b[0m in \u001b[0;36mpandas.parser.TextReader.__cinit__ (pandas\\parser.c:3229)\u001b[1;34m()\u001b[0m\n",
      "\u001b[1;32mpandas\\parser.pyx\u001b[0m in \u001b[0;36mpandas.parser.TextReader._setup_parser_source (pandas\\parser.c:6042)\u001b[1;34m()\u001b[0m\n",
      "\u001b[1;31mIOError\u001b[0m: File stakes.csv does not exist"
     ]
    }
   ],
   "source": [
    "'demo: 高斯, 正态曲线'\n",
    "import pandas as pd # 导入另一个包“pandas” 命名为 pd，理解成pandas是在 numpy 基础上的升级包\n",
    "import numpy as np #导入一个数据分析用的包“numpy” 命名为 np\n",
    "import matplotlib.pyplot as plt # 导入 matplotlib 命名为 plt，类似 matlab，集成了许多可视化命令\n",
    "\n",
    "#jupyter 的魔术关键字（magic keywords）\n",
    "#在文档中显示 matplotlib 包生成的图形\n",
    "# 设置图形的风格\n",
    "%matplotlib inline \n",
    "%config InlineBackend.figure_format = 'retina'\n",
    "\n",
    "data = pd.read_csv('stakes.csv') #载入数据文件\n",
    "data.head(5) #查看前5个头部数据"
   ]
  },
  {
   "cell_type": "code",
   "execution_count": 33,
   "metadata": {
    "collapsed": true
   },
   "outputs": [],
   "source": [
    "colorbar?"
   ]
  },
  {
   "cell_type": "code",
   "execution_count": null,
   "metadata": {
    "collapsed": true
   },
   "outputs": [],
   "source": []
  },
  {
   "cell_type": "code",
   "execution_count": null,
   "metadata": {
    "collapsed": true
   },
   "outputs": [],
   "source": []
  }
 ],
 "metadata": {
  "kernelspec": {
   "display_name": "Python 2",
   "language": "python",
   "name": "python2"
  },
  "language_info": {
   "codemirror_mode": {
    "name": "ipython",
    "version": 2
   },
   "file_extension": ".py",
   "mimetype": "text/x-python",
   "name": "python",
   "nbconvert_exporter": "python",
   "pygments_lexer": "ipython2",
   "version": "2.7.10"
  }
 },
 "nbformat": 4,
 "nbformat_minor": 0
}
