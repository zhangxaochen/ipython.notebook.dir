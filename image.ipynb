{
 "metadata": {
  "name": "image"
 },
 "nbformat": 3,
 "nbformat_minor": 0,
 "worksheets": [
  {
   "cells": [
    {
     "cell_type": "code",
     "collapsed": false,
     "input": [
      "%pylab\n",
      "from PIL import Image\n",
      "img=Image.open(r'E:\\workspace\\PyCeshi\\curveViewer\\npr\\examples\\1.png')\n",
      "img=Image.open(r'E:\\workspace\\PyCeshi\\curveViewer\\npr\\examples\\2.png')\n",
      "img=img.convert('RGBA')\n",
      "img.show()\n"
     ],
     "language": "python",
     "metadata": {},
     "outputs": [
      {
       "output_type": "stream",
       "stream": "stdout",
       "text": [
        "\n",
        "Welcome to pylab, a matplotlib-based Python environment [backend: Qt4Agg].\n",
        "For more information, type 'help(pylab)'.\n"
       ]
      }
     ],
     "prompt_number": 3
    },
    {
     "cell_type": "code",
     "collapsed": false,
     "input": [
      "ipx=img.load()\n",
      "\n",
      "i2=img.convert('L')\n",
      "i2=i2.convert('RGBA')\n",
      "Image.blend(img, i2, 0.5).show()\n",
      "img.im.size, img.size"
     ],
     "language": "python",
     "metadata": {},
     "outputs": [
      {
       "output_type": "pyout",
       "prompt_number": 4,
       "text": [
        "((290, 194), (290, 194))"
       ]
      }
     ],
     "prompt_number": 4
    },
    {
     "cell_type": "code",
     "collapsed": false,
     "input": [
      "ni=img.convert('L')\n",
      "ni.show()\n",
      "hist=ni.histogram()\n",
      "bar(range(len(hist)), hist)"
     ],
     "language": "python",
     "metadata": {},
     "outputs": [
      {
       "output_type": "pyout",
       "prompt_number": 5,
       "text": [
        "<Container object of 256 artists>"
       ]
      }
     ],
     "prompt_number": 5
    },
    {
     "cell_type": "code",
     "collapsed": false,
     "input": [
      "#http://blog.csdn.net/gzlaiyonghao/article/details/1852726\n",
      "#RGB to CIE XYZ :\n",
      "rgb2xyz = (\n",
      "        0.412453, 0.357580, 0.180423, 0,\n",
      "        0.212671, 0.715160, 0.072169, 0,\n",
      "        0.019334, 0.119193, 0.950227, 0 )\n",
      "img=img.convert('RGB')\n",
      "out = img.convert(\"RGB\", rgb2xyz)\n",
      "#out.show()\n",
      "\n",
      "#\u56fe\u50cf\u589e\u5f3a\n",
      "import ImageEnhance\n",
      "enhancer = ImageEnhance.Sharpness(img)\n",
      "for i in range(8):\n",
      "    factor = i / 4.0\n",
      "    enhancer.enhance(factor)#.show(\"Sharpness %f\" % factor)\n",
      "\n",
      "enhancer.enhance(20).show()"
     ],
     "language": "python",
     "metadata": {},
     "outputs": [],
     "prompt_number": 6
    },
    {
     "cell_type": "code",
     "collapsed": false,
     "input": [
      "import ImageFilter\n",
      "img=i2\n",
      "im1 = img.filter(ImageFilter.CONTOUR)\n",
      "im2 = img.filter(ImageFilter.MinFilter(11))\n",
      "im3 = img.filter(ImageFilter.MinFilter()) # same as MinFilter(3)\n",
      "im1=im1.convert('RGBA')\n",
      "im2=im2.convert('RGBA')\n",
      "Image.blend(im1, im2, .5).show()\n",
      "im2.show()\n",
      "#im1.show()\n",
      "#ImageFilter.MinFilter?\n"
     ],
     "language": "python",
     "metadata": {},
     "outputs": [],
     "prompt_number": 10
    },
    {
     "cell_type": "code",
     "collapsed": false,
     "input": [
      "img=Image.open(r'D:\\Documents\\Desktop\\3.png')\n",
      "img=img.convert('RGB')\n",
      "#img.rotate(45).show() #\u221a\n",
      "#img.show()\n",
      "px=img.load()\n",
      "print px[1,2]\n",
      "w, h=img.size\n",
      "for x in range(w):\n",
      "    for y in range(h):\n",
      "        #\u7ad6\u7ebf\uff1a\n",
      "        #if x%15==0:\n",
      "            #px[x, y]=255,255,255,\n",
      "        pass\n",
      "\n",
      "n=10000\n",
      "for i in range(n):\n",
      "    #\u52a0\u566a\u58f0\n",
      "    x=randint(w)\n",
      "    y=randint(h)\n",
      "    px[x, y]=255,255,255,\n",
      "img.show()\n",
      "#np.asarray(img) #\u221a"
     ],
     "language": "python",
     "metadata": {},
     "outputs": [
      {
       "output_type": "stream",
       "stream": "stdout",
       "text": [
        "(220, 232, 248)\n"
       ]
      }
     ],
     "prompt_number": 6
    },
    {
     "cell_type": "code",
     "collapsed": false,
     "input": [
      "def myfilter(img, kernel):\n",
      "    mod='L'\n",
      "    img=img.convert(mod)\n",
      "    px=img.load()\n",
      "    w, h=img.size\n",
      "    nimg=Image.new(mod, (w,h))\n",
      "    npx=nimg.load()\n",
      "    #kernel width:\n",
      "    kw=int(kernel.size**.5)\n",
      "    padding=int(kw/2)\n",
      "    for x in range(padding, w-padding):\n",
      "        for y in range(padding, h-padding):\n",
      "            #\u8ba1\u7b97px[x,y]\u65b0\u503c\uff1a\n",
      "            sum=0\n",
      "            for i in range(kw):\n",
      "                for j in range(kw):\n",
      "                    #npx[x, y]+=px[x-padding+i, y-padding+j]*kernel[i, j]\n",
      "                    sum+=px[x-padding+i, y-padding+j]*kernel[i, j]\n",
      "            npx[x,y]=(sum)\n",
      "            #print npx[x,y], sum\n",
      "            \n",
      "            pass\n",
      "    return nimg\n",
      "    pass\n",
      "\n",
      "#\u5b9a\u6b7b 2*2\uff1a\n",
      "def myneon(img):\n",
      "    mod='L'\n",
      "    img=img.convert(mod)\n",
      "    px=img.load()\n",
      "    w, h=img.size\n",
      "    nimg=Image.new(mod, (w,h))\n",
      "    npx=nimg.load()\n",
      "    #kernel width:\n",
      "    kw=2\n",
      "    padding=1\n",
      "    for x in range(padding, w-padding):\n",
      "        for y in range(padding, h-padding):\n",
      "            sum=0\n",
      "            v1=px[x,y]\n",
      "            v2=px[x+1, y]\n",
      "            v3=px[x, y+1]\n",
      "            npx[x, y]=2*((v1-v2)**2+(v1-v3)**2)**0.5\n",
      "    return nimg\n",
      "\n",
      "def myinverse(img):\n",
      "    mod='L'\n",
      "    img=img.convert(mod)\n",
      "    px=img.load()\n",
      "    w, h=img.size\n",
      "    nimg=Image.new(mod, (w,h))\n",
      "    npx=nimg.load()\n",
      "    for x in range(w):\n",
      "        for y in range(h):\n",
      "            old=px[x,y]\n",
      "            #if old>28:\n",
      "                #old=255\n",
      "            #old*=3\n",
      "            npx[x,y]=255-old\n",
      "            \n",
      "    return nimg\n",
      "    pass\n",
      "\n",
      "k5=array([0, -1,-2,-1,0,\n",
      "            -1,-4,-8,-4,-1,\n",
      "            -2,-8,64,-8,-2,\n",
      "            -1,-4,-8,-4,-1,\n",
      "             0,-1,-2,-1, 0,\n",
      "             ])\n",
      "k5=k5.reshape((5,5))\n",
      "k2=array([3,-1,-1,-1])\n",
      "k2=k2.reshape((2,2))\n",
      "k3=array([-1,-1,-1,-1,8,-1,-1,-1,-1])\n",
      "k3=k3.reshape((3,3))\n",
      "krnl=k2\n",
      "\n",
      "img=Image.open(r'D:\\Documents\\Desktop\\3.png')\n",
      "nimg=myfilter(img, krnl)\n",
      "nimg=myinverse(nimg)\n",
      "nimg.show()\n",
      "\n",
      "ii=myneon(img)\n",
      "ii=myinverse(ii)\n",
      "ii.show()\n",
      "Image.blend(nimg, ii, 0.5).show()\n"
     ],
     "language": "python",
     "metadata": {},
     "outputs": [],
     "prompt_number": 89
    },
    {
     "cell_type": "code",
     "collapsed": false,
     "input": [
      "npimg=asarray(nimg)+asarray(ii)\n",
      "#print asarray(nimg), '----\\n', asarray(ii), '----\\n', npimg\n",
      "ss=Image.new('L', ii.size)\n",
      "ss.putdata(npimg)\n",
      "#ss.show()\n",
      "#print npimg\n",
      "#imshow(npimg)\n",
      "s, b=histogram(npimg, arange(257))\n",
      "#print s.shape, b.shape, s, b,\n",
      "bar(b[:-1], s)\n"
     ],
     "language": "python",
     "metadata": {},
     "outputs": [
      {
       "output_type": "pyout",
       "prompt_number": 74,
       "text": [
        "<Container object of 256 artists>"
       ]
      }
     ],
     "prompt_number": 74
    },
    {
     "cell_type": "code",
     "collapsed": false,
     "input": [
      "def myblur(img, kernel):\n",
      "    denom=kernel.sum()\n",
      "    mod='L'\n",
      "    img=img.convert(mod)\n",
      "    px=img.load()\n",
      "    w, h=img.size\n",
      "    nimg=Image.new(mod, (w,h))\n",
      "    npx=nimg.load()\n",
      "    #kernel width:\n",
      "    kw=int(kernel.size**.5)\n",
      "    padding=int(kw/2)\n",
      "    for x in range(padding, w-padding):\n",
      "        for y in range(padding, h-padding):\n",
      "            #\u8ba1\u7b97px[x,y]\u65b0\u503c\uff1a\n",
      "            sum=0\n",
      "            for i in range(kw):\n",
      "                for j in range(kw):\n",
      "                    #npx[x, y]+=px[x-padding+i, y-padding+j]*kernel[i, j]\n",
      "                    sum+=px[x-padding+i, y-padding+j]*kernel[i, j]\n",
      "            npx[x,y]=sum*1./denom\n",
      "            #print npx[x,y], sum\n",
      "            \n",
      "            pass\n",
      "    return nimg\n",
      "    pass\n",
      "\n",
      "k3=array([1,2,1,\n",
      "          2,4,2,\n",
      "          1,2,1])\n",
      "k3=k3.reshape((3,3))\n",
      "k31=array([0,2,0,\n",
      "          2,4,2,\n",
      "          0,2,0])\n",
      "k31=k31.reshape((3,3))\n",
      "krnl=k3\n",
      "myblur(nimg, krnl).show()\n"
     ],
     "language": "python",
     "metadata": {},
     "outputs": [],
     "prompt_number": 9
    },
    {
     "cell_type": "code",
     "collapsed": false,
     "input": [
      "def get_white_noise_image(width, height):\n",
      "    pil_map = Image.new(\"RGB\", (width, height), 255)\n",
      "    random_grid = map(lambda x: (\n",
      "            randint(256),\n",
      "            randint(256),\n",
      "            randint(256),\n",
      "        ), [0] * width * height)\n",
      "    print array(random_grid).shape\n",
      "    pil_map.putdata(random_grid)\n",
      "    return pil_map\n",
      "#get_white_noise_image(333,222).show()\n",
      "#\u8fd9\u7b97\u767d\u566a\u58f0\u4e48\uff1f\n",
      "tt=randint(256, size=(333,222))\n",
      "imshow(tt)\n",
      "tmp=Image.fromarray(tt)\n",
      "tmp.show()"
     ],
     "language": "python",
     "metadata": {},
     "outputs": [],
     "prompt_number": 10
    },
    {
     "cell_type": "code",
     "collapsed": false,
     "input": [
      "# histogram equalization \u76f4\u65b9\u56fe\u5747\u8861\n",
      "#http://effbot.org/zone/pil-histogram-equalization.htm\n",
      "\n",
      "import operator\n",
      "\n",
      "def myequalize(h):\n",
      "\n",
      "    lut = []\n",
      "\n",
      "    for b in range(0, len(h), 256):\n",
      "\n",
      "        # step size\n",
      "        step = reduce(operator.add, h[b:b+256]) / 255\n",
      "\n",
      "        # create equalization lookup table\n",
      "        n = 0\n",
      "        for i in range(256):\n",
      "            lut.append(n / step)\n",
      "            n = n + h[i+b]\n",
      "\n",
      "    return lut\n"
     ],
     "language": "python",
     "metadata": {},
     "outputs": [],
     "prompt_number": 11
    },
    {
     "cell_type": "code",
     "collapsed": false,
     "input": [
      "#\u56fe\u50cf\u767d\u566a\u58f0\uff1a\n",
      "from skimage.segmentation import slic\n",
      "\n",
      "img=Image.open(r'D:\\Documents\\Desktop\\3.png')\n",
      "i3=asarray(img.convert('L'))\n",
      "tt=slic(i3, sigma=05., n_segments=2, ratio=40)\n",
      "imshow(tt)\n",
      "i3.shape\n",
      "print i3[i3>128].shape\n",
      "i4=i3.copy()\n",
      "i4[i4>168]=240\n",
      "#\u7070\u5ea6\u56fe\uff0c\u4e0a\u9762\u589e\u767d\u5904\u7406\u8fc7\u4e86\uff0c\u4e0d\u8fc7 matplotlib \u753b\u51fa\u6765\u662f\u5f69\u8272\u7684\uff1a\n",
      "imshow(i4)\n",
      "#\u9ed1\u767d\u56fe\uff0c\u5047\u88c5\u767d\u566a\u58f0\uff1a\n",
      "wnoise=Image.fromarray(i4).convert('1')\n",
      "wnoise.show()\n",
      "#\u7070\u5ea6\u56fe\uff0cPIL\u753b\uff0c\u786e\u5b9e\u7070\u8272\uff1a\n",
      "ii=Image.fromarray(i4)\n",
      "#ii.show()\n",
      "#\u76f4\u65b9\u56fe\u5747\u8861\uff0c\u7136\u540e\u52a0\u566a\u70b9\uff0c\u4e0d\u597d\u770b\n",
      "#ii.point(myequalize(ii.histogram())).convert('1').show()\n"
     ],
     "language": "python",
     "metadata": {},
     "outputs": [
      {
       "output_type": "stream",
       "stream": "stdout",
       "text": [
        "(10000,)\n"
       ]
      }
     ],
     "prompt_number": 91
    },
    {
     "cell_type": "code",
     "collapsed": false,
     "input": [
      "from skimage.segmentation import slic\n",
      "img=Image.open(r'D:\\Documents\\Desktop\\3.png')\n",
      "img=img.convert('L')\n",
      "aimg=np.asarray(img)\n",
      "seg=slic(aimg, sigma=5, n_segments=5, ratio=30)\n",
      "imshow(seg)\n",
      "type(seg), seg.shape"
     ],
     "language": "python",
     "metadata": {},
     "outputs": [
      {
       "output_type": "pyout",
       "prompt_number": 75,
       "text": [
        "(numpy.ndarray, (479, 319))"
       ]
      }
     ],
     "prompt_number": 75
    },
    {
     "cell_type": "code",
     "collapsed": false,
     "input": [
      "#\u6839\u636e slic \u7ed3\u679c segments\uff0c\u8ba1\u7b97\u5411\u91cf\u573a\uff0c\n",
      "#\u65b9\u6cd5\uff1a\u5f53\u524d\u70b9\u5411\u4e0b\uff0c\u5411\u53f3\u8d70\u5230\u4e0e\u81ea\u5df1\u4e0d\u4e00\u81f4\u7684\u4f4d\u7f6e\uff0c\u8ba1\u7b97\u8d70\u6b65\u6570\u7eb5\u6a2a\u6bd4\u3002\n",
      "#\u82e5\u4e0a\u4e0b\u3001\u5de6\u53f3\u67d0\u65b9\u5411\u5b8c\u5168\u53d8\u4e86\uff0c\u5219\u5f80\u53cd\u65b9\u5411\u8d70\uff1a\n",
      "def getVectorFromSeg(seg):\n",
      "    seg=np.asarray(seg)\n",
      "    #\u5bbd\u9ad8\u53cd\u7684\uff1a\n",
      "    h, w=seg.shape\n",
      "    uu=np.zeros((h, w)).astype(np.float32)\n",
      "    vv=np.zeros((h, w)).astype(np.float32)\n",
      "    for x in range(w):\n",
      "        for y in range(h):\n",
      "            v=seg[y, x]\n",
      "            #\u521d\u59cb\u5316\uff0c\u5047\u8bbe\u80fd\u8d70\u4e00\u6b65\uff1a\n",
      "            xlen=1\n",
      "            ylen=1\n",
      "            #\u540c\u4e00\u5217\u8d70\uff1a\n",
      "            while y+ylen<h and v==seg[y+ylen, x]:\n",
      "                ylen+=1\n",
      "            #\u8d70\u4e86\u96f6\u6b65\uff1a\n",
      "            if ylen==1 :\n",
      "                ylen=-1\n",
      "                #while y+ylen>=0 and v==seg[y+ylen, x]:\n",
      "                    #ylen-=1\n",
      "                #\u82e5\u7eb5\u5411\u662f\u5b64\u7acb\u70b9\uff0c\u6700\u7ec8 ylen ==-1\n",
      "            \n",
      "            #\u540c\u4e00\u884c\u8d70\uff1a\n",
      "            while x+xlen<w and v==seg[y, x+xlen]:\n",
      "                xlen+=1\n",
      "            #\u8d70\u4e86\u96f6\u6b65\uff1a\n",
      "            if xlen==1:\n",
      "                xlen=-1\n",
      "                #while x+xlen>=0 and v==seg[y, x+xlen]:\n",
      "                    #xlen-=1\n",
      "                #\u82e5\u6a2a\u5411\u662f\u5b64\u7acb\u70b9\uff0c\u6700\u7ec8 xlen ==-1\n",
      "            \n",
      "            #vec=ylen*1.0/xlen\n",
      "            #res[y, x]=vec\n",
      "            uu[y,x]=xlen\n",
      "            vv[y,x]=ylen\n",
      "    #return res\n",
      "    return uu,vv\n",
      "    pass\n",
      "\n",
      "\n",
      "#\u5355\u5143\u6d4b\u8bd5\uff1a\n",
      "#seg=np.zeros((20, 10), dtype=np.float32)\n",
      "uu, vv=getVectorFromSeg(seg)\n",
      "\n",
      "def plotuv(uu, vv):\n",
      "    #print uu.shape, vv.shape, uu, vv\n",
      "    h, w=uu.shape\n",
      "    for x in range(w):\n",
      "        for y in range(h):\n",
      "            xlen=uu[y,x]\n",
      "            ylen=vv[y,x]\n",
      "            plot([x, x+xlen], [y, y+ylen])\n",
      "    pass\n"
     ],
     "language": "python",
     "metadata": {},
     "outputs": [],
     "prompt_number": 77
    },
    {
     "cell_type": "code",
     "collapsed": false,
     "input": [
      "#LIC \u7ebf\u79ef\u5206\u5377\u79ef\uff1a\n",
      "from scikits import vectorplot\n",
      "\n",
      "img=wnoise\n",
      "img=ii\n",
      "texture= np.asarray(img, dtype=np.float32)\n",
      "kernel=np.array([1]*32).astype(np.float32)\n",
      "print img.size\n",
      "w=img.size[0]\n",
      "h=img.size[1]\n",
      "#u=np.zeros((h,w),dtype=np.float32)\n",
      "#u.fill(10)\n",
      "#v=np.zeros((h,w),dtype=np.float32)\n",
      "#v=(field*u).astype(np.float32)\n",
      "u,v=getVectorFromSeg(seg)\n",
      "u/=10\n",
      "v/=10\n",
      "print u.dtype, v.dtype, v\n",
      "licimg=vectorplot.line_integral_convolution(u, v, texture, kernel)\n",
      "licimg/=30\n",
      "#imshow(img)\n",
      "#imshow(licimg)\n",
      "print 'licimg:', type(licimg), licimg, texture\n",
      "\n",
      "Image.fromarray(licimg).show()\n",
      "Image.fromarray(texture).show()\n"
     ],
     "language": "python",
     "metadata": {},
     "outputs": [
      {
       "output_type": "stream",
       "stream": "stdout",
       "text": [
        "(319, 479)\n",
        "float32"
       ]
      },
      {
       "output_type": "stream",
       "stream": "stdout",
       "text": [
        " float32 [[ 1.60000002  1.60000002  1.60000002 ...,  2.          2.          2.        ]\n",
        " [ 1.5         1.5         1.5        ...,  1.89999998  1.89999998\n",
        "   1.89999998]\n",
        " [ 1.39999998  1.39999998  1.39999998 ...,  1.79999995  1.79999995\n",
        "   1.79999995]\n",
        " ..., \n",
        " [ 0.30000001  0.30000001  0.30000001 ...,  0.30000001  0.30000001\n",
        "   0.30000001]\n",
        " [ 0.2         0.2         0.2        ...,  0.2         0.2         0.2       ]\n",
        " [-0.1        -0.1        -0.1        ..., -0.1        -0.1        -0.1       ]]\n",
        "licimg:"
       ]
      },
      {
       "output_type": "stream",
       "stream": "stdout",
       "text": [
        " <type 'numpy.ndarray'> [[ 271.7333374   271.66665649  271.66665649 ...,  270.5         271.3999939\n",
        "   271.7333374 ]\n",
        " [ 271.33334351  271.33334351  271.2666626  ...,  270.43331909\n",
        "   271.33334351  271.7333374 ]\n",
        " [ 271.5333252   271.4666748   271.33334351 ...,  270.29998779\n",
        "   271.66665649  270.93331909]\n",
        " ..., \n",
        " [ 271.6000061   271.6000061   271.6000061  ...,  270.3999939   270.5333252\n",
        "   271.5333252 ]\n",
        " [ 271.1333313   271.06668091  271.         ...,  269.79998779  270.2666626\n",
        "   272.        ]\n",
        " [ 272.          272.          272.         ...,  271.5333252   272.          272.        ]] [[ 255.  255.  255. ...,  255.  255.  255.]\n",
        " [ 255.  253.  253. ...,  251.  253.  255.]\n",
        " [ 255.  253.  253. ...,  251.  253.  255.]\n",
        " ..., \n",
        " [ 255.  253.  255. ...,  251.  249.  255.]\n",
        " [ 255.  253.  253. ...,  251.  253.  255.]\n",
        " [ 255.  255.  255. ...,  255.  255.  255.]]\n"
       ]
      }
     ],
     "prompt_number": 90
    },
    {
     "cell_type": "code",
     "collapsed": false,
     "input": [
      "#\u56fe\u50cf\u5206\u5272\n",
      "\n",
      "from skimage.segmentation import slic\n",
      "from skimage.data import lena\n",
      "img = lena()\n",
      "\n",
      "segments = slic(img, n_segments=100, ratio=10)\n",
      "# Increasing the ratio parameter yields more square regions\n",
      "segments=slic(img, n_segments=10, ratio=20)\n",
      "imshow(segments)\n",
      "\n",
      "def test_gray():\n",
      "    rnd = np.random.RandomState(0)\n",
      "    img = np.zeros((20, 21))\n",
      "    img[:10, :10] = 0.33\n",
      "    img[10:, :10] = 0.67\n",
      "    img[10:, 10:] = 1.00\n",
      "    img += 01.0033 * rnd.normal(size=img.shape)\n",
      "    img[img > 1] = 1\n",
      "    img[img < 0] = 0\n",
      "    seg = slic(img, sigma=0, n_segments=4, ratio=33.0)\n",
      "    return seg\n",
      "\n",
      "labels=test_gray()\n",
      "#imshow(labels)\n",
      "\n",
      "labels\n",
      "type(img)"
     ],
     "language": "python",
     "metadata": {},
     "outputs": [
      {
       "output_type": "pyout",
       "prompt_number": 166,
       "text": [
        "numpy.ndarray"
       ]
      }
     ],
     "prompt_number": 166
    },
    {
     "cell_type": "code",
     "collapsed": false,
     "input": [],
     "language": "python",
     "metadata": {},
     "outputs": []
    }
   ],
   "metadata": {}
  }
 ]
}