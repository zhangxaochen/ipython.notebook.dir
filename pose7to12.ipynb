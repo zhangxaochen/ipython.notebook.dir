{
 "cells": [
  {
   "cell_type": "markdown",
   "metadata": {},
   "source": [
    "# 用 (txyz+qwxyz) 7列 pose.csv 生成 syntheticRT.txt 12列 (历史遗留格式)\n",
    "//2016-10-28 21:30:45\n",
    "\n",
    "\n",
    "### 关联: \n",
    "1. compareEulerAngle.ipynb //用于对比各种算法vs.GTruth\n",
    "2. zsens-data-viewer.ipynb //之前做imu初值时一些代码, 抄过来一些"
   ]
  },
  {
   "cell_type": "code",
   "execution_count": 1,
   "metadata": {
    "collapsed": false
   },
   "outputs": [
    {
     "data": {
      "text/plain": [
       "u'E:\\\\Github\\\\ipython.notebook.dir'"
      ]
     },
     "execution_count": 1,
     "metadata": {},
     "output_type": "execute_result"
    }
   ],
   "source": [
    "pwd"
   ]
  },
  {
   "cell_type": "code",
   "execution_count": 1,
   "metadata": {
    "collapsed": false
   },
   "outputs": [
    {
     "name": "stdout",
     "output_type": "stream",
     "text": [
      "Using matplotlib backend: Qt4Agg\n",
      "Populating the interactive namespace from numpy and matplotlib\n"
     ]
    }
   ],
   "source": [
    "'拷贝自 depth-imu-calib-gen-synthetic.ipynb'\n",
    "\n",
    "%pylab\n",
    "import numbers\n",
    "import sys\n",
    "sys.path.append(r'D:\\opencv249\\sources\\modules\\python\\test')\n",
    "\n",
    "import time\n",
    "from datetime import datetime\n",
    "from lxml import etree as et\n",
    "from StringIO import StringIO\n",
    "from primesense import openni2\n",
    "\n",
    "import os\n",
    "import cv2\n",
    "import transformations as tf\n",
    "'一些短别名:'\n",
    "tf.e2m = tf.euler_matrix\n",
    "tf.m2e = tf.euler_from_matrix\n",
    "tf.q2m = tf.quaternion_matrix\n",
    "tf.m2q = tf.quaternion_from_matrix\n",
    "tf.e2q = tf.quaternion_from_euler\n",
    "tf.q2e = tf.euler_from_quaternion\n",
    "tf.m2r = tf.rotation_from_matrix #r也用a表示\n",
    "tf.r2m = tf.rotation_matrix\n",
    "tf.m2a = tf.m2r\n",
    "tf.a2m = tf.r2m\n",
    "tf.a2q = tf.quaternion_about_axis\n",
    "tf.qmul = tf.quaternion_multiply\n",
    "tf.qinv = tf.quaternion_inverse\n",
    "\n",
    "'angle <--> radian:'\n",
    "a2r = np.pi / 180\n",
    "r2a = 180 / np.pi\n",
    "\n",
    "def q2a(qx, qy, qz, qw, vecLen = 4):\n",
    "    '''\n",
    "    参见 tf.quaternion_about_axis 实现;\n",
    "    算法参见:\n",
    "    http://www.euclideanspace.com/maths/geometry/rotations/conversions/angleToQuaternion/\n",
    "    http://www.euclideanspace.com/maths/geometry/rotations/conversions/quaternionToAngle/\n",
    "    \n",
    "    测试代码：\n",
    "    q=tf.a2q(0.123, (1,0,0))\n",
    "    a=q2a(*q) #qxyzw顺序, 刻意与 tf 规则一致\n",
    "    print q #[ 0.06146124  0.          0.          0.99810947]\n",
    "    print a #(0.12300000000000065, 0.99999999999998979, 0.0, 0.0)\n",
    "    '''\n",
    "    if not ( isinstance(qx, numbers.Real) and isinstance(qy, numbers.Real) and isinstance(qz, numbers.Real) and isinstance(qw, numbers.Real) ):\n",
    "        raise TypeError, 'Q:xyzw must be all numbers, not arrays / lists.'\n",
    "        return\n",
    "#     if not vecLen in (3, 4):\n",
    "#         print 'vecLen 必须是 3 或者 4'\n",
    "#         return\n",
    "        \n",
    "    angle = 2 * np.arccos(qw)\n",
    "    'sin(angle/2):'\n",
    "    sinA2 = np.sqrt(1 - qw * qw)\n",
    "    x = qx / sinA2\n",
    "    y = qy / sinA2\n",
    "    z = qz / sinA2\n",
    "    \n",
    "    if vecLen == 4:\n",
    "        return angle, x, y, z\n",
    "    elif vecLen == 3:\n",
    "        return x*angle, y*angle, z*angle\n",
    "    else:\n",
    "        raise ValueError, 'vecLen must be integer 3 or 4'\n",
    "    pass"
   ]
  },
  {
   "cell_type": "code",
   "execution_count": 3,
   "metadata": {
    "collapsed": true
   },
   "outputs": [],
   "source": [
    "from mpl_toolkits.mplot3d import axes3d\n",
    "\n",
    "def plotAxAnim(qxyzws):\n",
    "    '''\n",
    "    关键帧mat矩阵不好看，改为3D绘制坐标轴，动画演示\n",
    "    拷贝自 depth-imu-calib-gen-synthetic.ipynb, 改为函数, 2016-7-7 17:26:37\n",
    "    qxyzws 必须是 local->global\n",
    "    '''\n",
    "    fig = figure()\n",
    "    ax = fig.add_subplot(111, projection='3d')\n",
    "\n",
    "    '添加xyz参考轴'\n",
    "    o3d=(0,0,0)\n",
    "    oxyz=np.eye(3)\n",
    "    ax.plot_wireframe(*zip(o3d, oxyz[0]), color='r')\n",
    "    ax.plot_wireframe(*zip(o3d, oxyz[1]), color='g')\n",
    "    ax.plot_wireframe(*zip(o3d, oxyz[2]), color='b')\n",
    "\n",
    "    wfx = wfy = wfz = None\n",
    "    for i, q in enumerate(qxyzws):\n",
    "    #     break\n",
    "    #     print i\n",
    "        oldwfx, oldwfy, oldwfz = wfx, wfy, wfz\n",
    "    #     attribs = dat.attrib\n",
    "    #     rxyzw = [float(attribs['Rx']), float(attribs['Ry']), float(attribs['Rz']), float(attribs['Rw'])]\n",
    "    #     rmat = tf.q2m(rxyzw)[:3, :3]\n",
    "        rmat = tf.q2m(q)[:3, :3]\n",
    "\n",
    "        '调试看mat'\n",
    "    #     if i==108:\n",
    "    #         print i, rmat\n",
    "    #     elif i==136:\n",
    "    #         print i, rmat\n",
    "\n",
    "    #     print(rmat)\n",
    "        vx = rmat[:,0]\n",
    "        vy = rmat[:,1]\n",
    "        vz = rmat[:,2]\n",
    "        wfx = ax.plot_wireframe(*zip((0,0,0), vx), color='r')\n",
    "        wfy = ax.plot_wireframe(*zip((0,0,0), vy), color='g')\n",
    "        wfz = ax.plot_wireframe(*zip((0,0,0), vz), color='b')\n",
    "        if oldwfx != None:\n",
    "            ax.collections.remove(oldwfx)\n",
    "            ax.collections.remove(oldwfy)\n",
    "            ax.collections.remove(oldwfz)\n",
    "            pass\n",
    "\n",
    "    #     fig.suptitle(str(i), fontsize=20)\n",
    "    #     tit = ax.set_title(str(i))\n",
    "        ax.title.set_text('idx: %s'%i)\n",
    "        plt.pause(0.01)\n",
    "        pass\n",
    "    pass\n"
   ]
  },
  {
   "cell_type": "code",
   "execution_count": 3,
   "metadata": {
    "collapsed": false
   },
   "outputs": [
    {
     "name": "stdout",
     "output_type": "stream",
     "text": [
      "dat.shape: (233L, 7L)\n",
      "(233L, 9L)\n",
      "fnout: E:\\sdf2sdf-data\\Kinect_Bunny_Handheld\\syntheticRT.txt\n"
     ]
    }
   ],
   "source": [
    "'''\n",
    "7列->12列, 存文件 syntheticRT.txt\n",
    "'''\n",
    "\n",
    "# fn=r'E:\\Github\\pcl\\_build.vc10\\bin\\monitor-0708-0-kf-png\\zcpose.csv'\n",
    "fn=r'E:\\Github\\pcl\\zctest\\_build.vc10\\synDep5\\syn_pose.csv'\n",
    "fn=r'E:\\Github\\pcl\\zctest\\_build.vc10\\synDep6\\syn_pose.csv'\n",
    "fn=r'E:\\Github\\pcl\\zctest\\_build.vc10\\synDep7\\syn_pose.csv'\n",
    "fn=r'E:\\Github\\pcl\\zctest\\_build.vc10\\synDep8\\syn_pose.csv'\n",
    "fn=r'E:\\Github\\pcl\\zctest\\_build.vc10\\synDep9\\syn_pose.csv'\n",
    "fn=r'E:\\Github\\pcl\\zctest\\_build.vc10\\synDep10\\syn_pose.csv'\n",
    "\n",
    "fn=r'E:\\sdf2sdf-data\\Kinect_Bunny_Handheld\\markerboard7n.csv'\n",
    "\n",
    "# fn=r'E:\\Github\\pcl\\zctest\\_build.vc10\\tmp\\syn_pose.csv'\n",
    "\n",
    "# fn=r'D:\\Users\\zhangxaochen\\Documents\\geo-cube399\\cb5x8-cu399c-raw_frames-ts\\pose-ahc.csv'\n",
    "# fn=r'D:\\Users\\zhangxaochen\\Documents\\geo-cube399\\cb5x8-cu399c-raw_frames-ts2\\pose-ahc.csv'\n",
    "\n",
    "# fn=r'D:\\Users\\zhangxaochen\\Documents\\geo-cu399-cb\\05f80c-raw_frames-ts\\zcpose-kf-ahc-graph-opt-trunc0.csv'\n",
    "\n",
    "dat = loadtxt(fn, delimiter=',')\n",
    "print 'dat.shape:', dat.shape\n",
    "\n",
    "tvecs = dat[:,:3]\n",
    "qwxyz = dat[:,3:]\n",
    "qxyzw = dat[:,[4,5,6,3]]\n",
    "# figure()\n",
    "# plot(qwxyz)\n",
    "# legend(list('wxyz'))\n",
    "# plot(qxyzw)\n",
    "# ylim(ymax=1, ymin=-0.8)\n",
    "# legend(list('xyzw'))\n",
    "# axis([0,155,-0.4,1])\n",
    "# axis([0,300,-0.4,1])\n",
    "\n",
    "'如果也要画 tvecs'\n",
    "# plot(tvecs)\n",
    "\n",
    "rmats = asarray([tf.q2m(qi)[:3,:3].flatten() for qi in qxyzw])\n",
    "print rmats.shape\n",
    "'fake伪造 t向量'\n",
    "tvecsFake = zeros((rmats.shape[0], 3))\n",
    "# synMat = hstack((tvecsFake, rmats)) #输出矩阵\n",
    "synMat = hstack((tvecs, rmats)) #输出矩阵, 单位米(m)\n",
    "# synMat = hstack((tvecs*1e3, rmats)) #输出矩阵, t单位毫米(mm)\n",
    "\n",
    "fnPath, _ = os.path.split(fn)\n",
    "fnout = os.path.join(fnPath, 'syntheticRT.txt')\n",
    "print 'fnout:', fnout\n",
    "savetxt(fnout, synMat, delimiter=' ', fmt='%.8f')\n"
   ]
  },
  {
   "cell_type": "code",
   "execution_count": null,
   "metadata": {
    "collapsed": true
   },
   "outputs": [],
   "source": []
  },
  {
   "cell_type": "code",
   "execution_count": 42,
   "metadata": {
    "collapsed": false
   },
   "outputs": [],
   "source": [
    "'单单绘制 m1fn(一般是GTruth), 观察tvec //拷贝自compareEulerAngle.ipynb'\n",
    "# m1fn=r'E:\\Github\\pcl\\zctest\\_build.vc10\\synDep0\\syn_pose.csv'\n",
    "m1fn=r'E:\\Github\\pcl\\zctest\\_build.vc10\\synDep1\\syn_pose.csv'\n",
    "m1fn=r'E:\\Github\\pcl\\zctest\\_build.vc10\\synDep2\\syn_pose.csv'\n",
    "m1fn=r'E:\\Github\\pcl\\zctest\\_build.vc10\\synDep3\\syn_pose.csv'\n",
    "m1fn=r'E:\\Github\\pcl\\zctest\\_build.vc10\\synDep4\\syn_pose.csv'\n",
    "m1fn=r'E:\\Github\\pcl\\zctest\\_build.vc10\\synDep5\\syn_pose.csv'\n",
    "m1fn=r'E:\\Github\\pcl\\zctest\\_build.vc10\\synDep6\\syn_pose.csv'\n",
    "# m1fn=r'E:\\Github\\pcl\\zctest\\_build.vc10\\synDep7\\syn_pose.csv'\n",
    "m1fn=r'E:\\Github\\pcl\\zctest\\_build.vc10\\synDep8\\syn_pose.csv'\n",
    "# m1fn=r'E:\\Github\\pcl\\zctest\\_build.vc10\\synDep9\\syn_pose.csv'\n",
    "# m1fn=r'E:\\Github\\pcl\\zctest\\_build.vc10\\synDep10\\syn_pose.csv'\n",
    "\n",
    "# m1fn=r'E:\\Github\\pcl\\zctest\\_build.vc10\\syn_pose.csv'\n",
    "# m1fn=r'E:\\Github\\pcl\\_build.vc10\\bin\\zcpose.csv'\n",
    "rng=slice(None)\n",
    "\n",
    "# m1fn=r'D:\\Users\\zhangxaochen\\Documents\\geo-cu399-cb\\05f80c-raw_frames-ts\\zcpose-kf-ahc-graph-opt-trunc0.csv'\n",
    "# m1fn=r'E:\\Github\\pcl\\_build.vc10\\bin\\zcpose-ahc-graph-opt.csv'\n",
    "# rng = slice(285)\n",
    "\n",
    "m1 = loadtxt(m1fn, delimiter=',')\n",
    "# m1tvecs = m1[:, :3]\n",
    "m1tvecs = m1[rng, :3]\n",
    "close()\n",
    "figure(figsize=(6,6))\n",
    "axx,axy=0,1 #选用哪两个轴绘制\n",
    "# pts1 = scatter(m1tvecs[:, 0], m1tvecs[:, 1], c='r')\n",
    "pts1 = plot(m1tvecs[:, axx], m1tvecs[:, axy], c='r', ls='-')\n",
    "annotate('start', m1tvecs[0, (axx,axy)])\n",
    "annotate('end', m1tvecs[-1, (axx,axy)])\n",
    "savefig('foo2.png')\n"
   ]
  },
  {
   "cell_type": "code",
   "execution_count": 43,
   "metadata": {
    "collapsed": false,
    "scrolled": true
   },
   "outputs": [
    {
     "data": {
      "text/plain": [
       "24.220929012670187"
      ]
     },
     "execution_count": 43,
     "metadata": {},
     "output_type": "execute_result"
    }
   ],
   "source": [
    "'相机轨迹周长 @2017-7-9 15:07:57'\n",
    "diffs=m1tvecs[1:]-m1tvecs[:-1]\n",
    "sum(norm(diffs[:], axis=1))"
   ]
  },
  {
   "cell_type": "code",
   "execution_count": 12,
   "metadata": {
    "collapsed": false
   },
   "outputs": [
    {
     "data": {
      "text/plain": [
       "'E:\\\\geo-cu399-pen\\\\data-archive\\\\09-mug\\\\nicp_poses.csv'"
      ]
     },
     "execution_count": 12,
     "metadata": {},
     "output_type": "execute_result"
    }
   ],
   "source": [
    "'''\n",
    "将 stanfordPCL-kinfuLS 输出的 8列: ts+txyz+qxyzw; 整理成之前 7列 txyz+qwxyz (w前置) 形式\n",
    "@2017-7-17 23:22:06\n",
    "'''\n",
    "\n",
    "m1fn = r'E:\\Github\\pcl\\zctest\\_build.vc10\\synDep8\\cu&bdr\\kinfu_poses-bdr-t25-vs1.txt'\n",
    "m1fn = r'E:\\Github\\pcl\\zctest\\_build.vc10\\synDep8\\cu&bdr\\kinfu_poses-cu-t25-tv11-vs1-e2c5cm-remake.txt'\n",
    "m1fn = r'E:\\Github\\pcl\\zctest\\_build.vc10\\synDep8\\cu&bdr\\kinfu_poses-cu-t25-tv11-vs1-e2c5cm-remake-12.txt'\n",
    "# m1fn = r'E:\\Github\\pcl\\zctest\\_build.vc10\\synDep8\\cu&bdr\\kinfu_poses-kf-t25-vs1.txt'\n",
    "m1fn=r'E:\\Github\\pcl\\zctest\\_build.vc10\\synDep8\\liv.klg-conf0.freiburg'\n",
    "\n",
    "# m1fn = r'E:\\Github\\pcl\\zctest\\_build.vc10\\synDep9\\cu&bdr\\kinfu_poses-bdr-t25-vs1.txt'\n",
    "# m1fn = r'E:\\Github\\pcl\\zctest\\_build.vc10\\synDep9\\cu&bdr\\kinfu_poses-cu-t25-tv11-vs1-e2c5cm-remake.txt'\n",
    "# m1fn = r'E:\\Github\\pcl\\zctest\\_build.vc10\\synDep9\\cu&bdr\\kinfu_poses-cu-t25-tv11-vs1-e2c5cm-remake-12.txt'\n",
    "# m1fn = r'E:\\Github\\pcl\\zctest\\_build.vc10\\synDep9\\cu&bdr\\kinfu_poses-kf-t25-vs1.txt'\n",
    "m1fn=r'E:\\Github\\pcl\\zctest\\_build.vc10\\synDep9\\liv.klg-conf0.freiburg'\n",
    "\n",
    "# m1fn = r'E:\\Github\\pcl\\zctest\\_build.vc10\\synDep10\\cu&bdr\\kinfu_poses-bdr-t25-vs1.txt'\n",
    "# m1fn = r'E:\\Github\\pcl\\zctest\\_build.vc10\\synDep10\\cu&bdr\\kinfu_poses-cu-t25-tv11-vs1-e2c5cm-remake.txt'\n",
    "# m1fn = r'E:\\Github\\pcl\\zctest\\_build.vc10\\synDep10\\cu&bdr\\kinfu_poses-cu-t25-tv11-vs1-e2c5cm-remake-12.txt'\n",
    "# m1fn = r'E:\\Github\\pcl\\zctest\\_build.vc10\\synDep10\\cu&bdr\\kinfu_poses-kf-t25-vs1.txt'\n",
    "m1fn=r'E:\\Github\\pcl\\zctest\\_build.vc10\\synDep10\\liv.klg-conf0.freiburg'\n",
    "\n",
    "# m1fn=r'E:\\geo-cu399-pen\\turntable\\flycat1c-raw_frames-ts\\cu&bdr\\kinfu_poses-bdr-t5-vs1.txt'\n",
    "m1fn=r'E:\\geo-cu399-pen\\turntable\\bunny1c-raw_frames-ts\\cu&bdr\\kinfu_poses-cu-t25-tv11-vs1-e2c5cm-remake.txt'\n",
    "m1fn=r'E:\\geo-cu399-pen\\turntable\\budda1c-raw_frames-ts\\cu&bdr\\kinfu_poses-cu-t25-tv11-vs1-e2c5cm-remake.txt'\n",
    "\n",
    "'+++++++++++++++eval NICP @2017-9-19 09:40:55'\n",
    "m1fn=r'E:\\geo-cu399-pen\\data-archive\\01-armadillo\\nicp_poses.txt'\n",
    "m1fn=r'E:\\geo-cu399-pen\\data-archive\\02-dragon\\nicp_poses.txt'\n",
    "m1fn=r'E:\\geo-cu399-pen\\data-archive\\03-bunny\\nicp_poses.txt'\n",
    "m1fn=r'E:\\geo-cu399-pen\\data-archive\\04-lambunny\\nicp_poses.txt'\n",
    "m1fn=r'E:\\geo-cu399-pen\\data-archive\\05-owl\\nicp_poses.txt'\n",
    "m1fn=r'E:\\geo-cu399-pen\\data-archive\\06-wingedcat\\nicp_poses.txt'\n",
    "m1fn=r'E:\\geo-cu399-pen\\data-archive\\07-buddahead\\nicp_poses.txt'\n",
    "m1fn=r'E:\\geo-cu399-pen\\data-archive\\08-tooth\\nicp_poses.txt'\n",
    "m1fn=r'E:\\geo-cu399-pen\\data-archive\\09-mug\\nicp_poses.txt'\n",
    "\n",
    "fold, fn = os.path.split(m1fn)\n",
    "basefn, ext = os.path.splitext(fn)\n",
    "fnOut = os.path.join(fold, basefn + '.csv')\n",
    "m1=loadtxt(m1fn) #空格分割, col=8\n",
    "m1out=zeros((m1.shape[0], 7))\n",
    "m1out[:,:3]=m1[:,1:4]\n",
    "m1out[:,3]=m1[:,-1]\n",
    "m1out[:,4:]=m1[:,4:7]\n",
    "savetxt(fnOut, m1out, fmt='%.9f', delimiter=',')\n",
    "\n",
    "fnOut"
   ]
  },
  {
   "cell_type": "code",
   "execution_count": null,
   "metadata": {
    "collapsed": true
   },
   "outputs": [],
   "source": []
  }
 ],
 "metadata": {
  "kernelspec": {
   "display_name": "Python 2",
   "language": "python",
   "name": "python2"
  },
  "language_info": {
   "codemirror_mode": {
    "name": "ipython",
    "version": 2
   },
   "file_extension": ".py",
   "mimetype": "text/x-python",
   "name": "python",
   "nbconvert_exporter": "python",
   "pygments_lexer": "ipython2",
   "version": "2.7.10"
  }
 },
 "nbformat": 4,
 "nbformat_minor": 0
}
