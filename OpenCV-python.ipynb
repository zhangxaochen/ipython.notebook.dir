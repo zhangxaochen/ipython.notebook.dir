{
 "metadata": {
  "_draft": {
   "nbviewer_url": "\"gisting : OpenCV.ipynb\"\n"
  },
  "name": "",
  "signature": "sha256:6dd32be577d1890823b86026ffa6d8ae483d9eec32782d340387884f6776d741"
 },
 "nbformat": 3,
 "nbformat_minor": 0,
 "worksheets": [
  {
   "cells": [
    {
     "cell_type": "code",
     "collapsed": false,
     "input": [
      "%cd d:\\Users\\zhangxaochen\\Desktop\n",
      "# %cd D:\\Documents\\Desktop\n",
      "# %cd D:\\Administrator\\Desktop\n",
      "import cv2\n",
      "import cv2 as cv\n",
      "import numpy as np\n",
      "from matplotlib import pyplot as plt\n",
      "import operator\n",
      "\n",
      "wn='test'\n",
      "def myshow(img):\n",
      "    cv.imshow(wn, img)\n",
      "    cv.waitKey() #\u4e0d\u51990 \u4e5f\u53ef\u4ee5\n",
      "    cv.destroyAllWindows()"
     ],
     "language": "python",
     "metadata": {},
     "outputs": [
      {
       "output_type": "stream",
       "stream": "stdout",
       "text": [
        "d:\\Users\\zhangxaochen\\Desktop\n"
       ]
      }
     ],
     "prompt_number": 44
    },
    {
     "cell_type": "code",
     "collapsed": false,
     "input": [
      "'http://blog.csdn.net/abcjennifer/article/details/7639681'\n",
      "'SIFT\u7279\u5f81\u63d0\u53d6\u5206\u6790'\n",
      "import cv2  \n",
      "import numpy as np  \n",
      "#import pdb  \n",
      "#pdb.set_trace()#turn on the pdb prompt  \n",
      "  \n",
      "#read image  \n",
      "# img = cv2.imread('D:\\privacy\\picture\\little girl.jpg',cv2.IMREAD_COLOR)  \n",
      "img = cv2.imread('1.jpg',cv2.IMREAD_COLOR)  \n",
      "gray = cv2.cvtColor(img,cv2.COLOR_BGR2GRAY)  \n",
      "cv2.imshow('origin',img);  \n",
      "\n",
      "#SIFT  \n",
      "detector = cv2.SIFT()  \n",
      "keypoints = detector.detect(gray,None)  \n",
      "img = cv2.drawKeypoints(gray,keypoints)  \n",
      "# img = cv2.drawKeypoints(gray,keypoints,flags = cv2.DRAW_MATCHES_FLAGS_DRAW_RICH_KEYPOINTS)  \n",
      "cv2.imshow('test',img);  \n",
      "cv2.waitKey(0)  \n",
      "cv2.destroyAllWindows()  "
     ],
     "language": "python",
     "metadata": {},
     "outputs": [],
     "prompt_number": 42
    },
    {
     "cell_type": "code",
     "collapsed": false,
     "input": [
      "'http://docs.opencv.org/trunk/doc/py_tutorials/py_gui/py_image_display/py_image_display.html#py-display-image'\n",
      "fni='1.jpg'\n",
      "img= cv.imread(fni)\n",
      "\n",
      "cv.namedWindow(wn, cv.WINDOW_NORMAL)\n",
      "cv.imshow(wn, img)\n",
      "k=cv.waitKey()\n",
      "cv.destroyAllWindows()\n",
      "print k, chr(k)"
     ],
     "language": "python",
     "metadata": {},
     "outputs": [
      {
       "output_type": "stream",
       "stream": "stdout",
       "text": [
        "27 \u001b\n"
       ]
      }
     ],
     "prompt_number": 34
    },
    {
     "cell_type": "code",
     "collapsed": false,
     "input": [
      "'http://docs.opencv.org/trunk/doc/py_tutorials/py_gui/py_video_display/py_video_display.html'\n",
      "fnv='3.wmv'\n",
      "# cap=cv.VideoCapture(fnv)\n",
      "cap=cv.VideoCapture(0) #\u6444\u50cf\u5934\u6355\u83b7\n",
      "# cap.isOpened()\n",
      "while cap.isOpened():\n",
      "    ret, frame=cap.read()\n",
      "#     print ret\n",
      "    if cv.waitKey(1)==ord('q') or not ret:\n",
      "        \n",
      "#     if cv.waitKey(1) & 0xFF == ord('q'): #why 0xFF????????\n",
      "        break\n",
      "    cv.imshow(wn, frame)\n",
      "    cv.imshow(wn, cv.flip(frame, 1))\n",
      "\n",
      "print cap.isOpened()\n",
      "cap.release()\n",
      "cv.destroyAllWindows()"
     ],
     "language": "python",
     "metadata": {},
     "outputs": [
      {
       "output_type": "stream",
       "stream": "stdout",
       "text": [
        "True\n"
       ]
      }
     ],
     "prompt_number": 35
    },
    {
     "cell_type": "code",
     "collapsed": false,
     "input": [
      "'\u56fe\u5f62\u7ed8\u5236\u51fd\u6570\uff0c\u7ebf\uff0c\u65b9\u6846\uff0c\u692d\u5706'\n",
      "'http://docs.opencv.org/trunk/doc/py_tutorials/py_gui/py_drawing_functions/py_drawing_functions.html#drawing-functions'\n",
      "w=512\n",
      "img=np.zeros((w, w, 3))\n",
      "p1=(0,0)\n",
      "p2=(w-1,)*2\n",
      "#BGR:\n",
      "c=(255,250,0)\n",
      "cv.line(img, p1, p2, c, 5)\n",
      "cv.ellipse(img,(256,256),(100,50),30,0,280, c, 2)\n",
      "myshow(img)"
     ],
     "language": "python",
     "metadata": {},
     "outputs": [],
     "prompt_number": 36
    },
    {
     "cell_type": "code",
     "collapsed": false,
     "input": [
      "pts = np.array([[10,5],[20,30],[70,20],[50,10]], np.int32)\n",
      "# pts = pts.reshape((-1,1,2)) #\u4e3a\u5565\u8981\u8fd9\u6b65???????????????\n",
      "cv.polylines(img,[pts],True,(0,255,255), 5)\n",
      "# myshow(img)\n",
      "\n",
      "# print pts\n",
      "# print pts.reshape((-1,1,2))\n",
      "# np.may_share_memory(pts.reshape((-1,1,2)), pts) #True\n",
      "# print pts[:,None,:]\n",
      "# np.may_share_memory(pts[:,None,:], pts) #True\n"
     ],
     "language": "python",
     "metadata": {},
     "outputs": [],
     "prompt_number": 37
    },
    {
     "cell_type": "code",
     "collapsed": false,
     "input": [
      "'http://docs.opencv.org/trunk/doc/py_tutorials/py_gui/py_mouse_handling/py_mouse_handling.html'\n",
      "[(i, getattr(cv, i)) for i in dir(cv) if 'EVENT' in i]"
     ],
     "language": "python",
     "metadata": {},
     "outputs": [
      {
       "metadata": {},
       "output_type": "pyout",
       "prompt_number": 24,
       "text": [
        "[('EVENT_FLAG_ALTKEY', 32L),\n",
        " ('EVENT_FLAG_CTRLKEY', 8L),\n",
        " ('EVENT_FLAG_LBUTTON', 1L),\n",
        " ('EVENT_FLAG_MBUTTON', 4L),\n",
        " ('EVENT_FLAG_RBUTTON', 2L),\n",
        " ('EVENT_FLAG_SHIFTKEY', 16L),\n",
        " ('EVENT_LBUTTONDBLCLK', 7L),\n",
        " ('EVENT_LBUTTONDOWN', 1L),\n",
        " ('EVENT_LBUTTONUP', 4L),\n",
        " ('EVENT_MBUTTONDBLCLK', 9L),\n",
        " ('EVENT_MBUTTONDOWN', 3L),\n",
        " ('EVENT_MBUTTONUP', 6L),\n",
        " ('EVENT_MOUSEMOVE', 0L),\n",
        " ('EVENT_RBUTTONDBLCLK', 8L),\n",
        " ('EVENT_RBUTTONDOWN', 2L),\n",
        " ('EVENT_RBUTTONUP', 5L)]"
       ]
      }
     ],
     "prompt_number": 24
    },
    {
     "cell_type": "code",
     "collapsed": false,
     "input": [
      "import cv2\n",
      "import numpy as np\n",
      "\n",
      "# mouse callback function\n",
      "def draw_circle(event,x,y,flags,param):\n",
      "    if event != cv2.EVENT_MOUSEMOVE:\n",
      "        print 'in draw_circle:', event\n",
      "    if event == cv2.EVENT_LBUTTONDBLCLK:\n",
      "        cv2.circle(img,(x,y),100,(255,0,0),1)\n",
      "\n",
      "# Create a black image, a window and bind the function to window\n",
      "img = np.zeros((512,512,3), np.uint8)\n",
      "cv2.namedWindow('image')\n",
      "cv2.setMouseCallback('image',draw_circle)\n",
      "\n",
      "while(1):\n",
      "    cv2.imshow('image',img)\n",
      "    if cv2.waitKey(20) & 0xFF == 27:\n",
      "        break\n",
      "cv2.destroyAllWindows()"
     ],
     "language": "python",
     "metadata": {},
     "outputs": [],
     "prompt_number": 29
    },
    {
     "cell_type": "code",
     "collapsed": false,
     "input": [
      "def nothing(x):\n",
      "    pass\n",
      "\n",
      "# Create a black image, a window\n",
      "img = np.zeros((300,512,3), np.uint8) #int \u4e0d\u884c\uff0c \u5fc5\u987b uint8\n",
      "wn='image'\n",
      "cv2.namedWindow(wn)\n",
      "\n",
      "# create trackbars for color change\n",
      "cv2.createTrackbar('R',wn,0,255,nothing)\n",
      "cv2.createTrackbar('G',wn,0,255,nothing)\n",
      "cv2.createTrackbar('B',wn,0,255,nothing)\n",
      "\n",
      "# create switch for ON/OFF functionality\n",
      "switch = '0 : OFF \\n1 : ON'\n",
      "cv2.createTrackbar(switch, wn,0,1,nothing)\n",
      "\n",
      "while(1):\n",
      "    cv2.imshow(wn,img) # bgr, not rgb\n",
      "    k = cv2.waitKey(1) & 0xFF #0xff \u7528\u6765\u8fc7\u6ee4 -1\n",
      "    if k == 27:\n",
      "        break\n",
      "\n",
      "    # get current positions of four trackbars\n",
      "    r = cv2.getTrackbarPos('R',wn)\n",
      "    g = cv2.getTrackbarPos('G',wn)\n",
      "    b = cv2.getTrackbarPos('B',wn)\n",
      "    s = cv2.getTrackbarPos(switch,wn)\n",
      "\n",
      "    if s == 0:\n",
      "        img[:] = 0\n",
      "    else:\n",
      "        img[:] = [b,g,r]\n",
      "\n",
      "cv2.destroyAllWindows()"
     ],
     "language": "python",
     "metadata": {},
     "outputs": [],
     "prompt_number": 37
    },
    {
     "cell_type": "code",
     "collapsed": false,
     "input": [
      "BLUE = [255,0,0]\n",
      "\n",
      "img1 = cv2.imread('opencv-logo.png')\n",
      "\n",
      "replicate = cv2.copyMakeBorder(img1,10,10,10,10,cv2.BORDER_REPLICATE)\n",
      "reflect = cv2.copyMakeBorder(img1,10,10,10,10,cv2.BORDER_REFLECT)\n",
      "reflect101 = cv2.copyMakeBorder(img1,10,10,10,10,cv2.BORDER_REFLECT_101)\n",
      "wrap = cv2.copyMakeBorder(img1,10,10,10,10,cv2.BORDER_WRAP)\n",
      "constant= cv2.copyMakeBorder(img1,10,10,10,10,cv2.BORDER_CONSTANT,value=BLUE)\n",
      "\n",
      "plt.subplot(231),plt.imshow(img1,'gray'),plt.title('ORIGINAL')\n",
      "plt.subplot(232),plt.imshow(replicate,'gray'),plt.title('REPLICATE')\n",
      "plt.subplot(233),plt.imshow(reflect,'gray'),plt.title('REFLECT')\n",
      "plt.subplot(234),plt.imshow(reflect101,'gray'),plt.title('REFLECT_101')\n",
      "plt.subplot(235),plt.imshow(wrap,'gray'),plt.title('WRAP')\n",
      "plt.subplot(236),plt.imshow(constant,'gray'),plt.title('CONSTANT')\n",
      "\n",
      "plt.show()"
     ],
     "language": "python",
     "metadata": {},
     "outputs": [],
     "prompt_number": 80
    },
    {
     "cell_type": "code",
     "collapsed": false,
     "input": [
      "img1 = cv2.imread('messi5.jpg')\n",
      "\n",
      "e1 = cv2.getTickCount()\n",
      "for i in xrange(5,49,2):\n",
      "    img1 = cv2.medianBlur(img1,i)\n",
      "e2 = cv2.getTickCount()\n",
      "t = (e2 - e1)/cv2.getTickFrequency()\n",
      "print t"
     ],
     "language": "python",
     "metadata": {},
     "outputs": [
      {
       "output_type": "stream",
       "stream": "stdout",
       "text": [
        "0.629969925888\n"
       ]
      }
     ],
     "prompt_number": 81
    },
    {
     "cell_type": "code",
     "collapsed": false,
     "input": [
      "%timeit -n100 cv.medianBlur(img1, 49) "
     ],
     "language": "python",
     "metadata": {},
     "outputs": [
      {
       "output_type": "stream",
       "stream": "stdout",
       "text": [
        "100 loops, best of 3: 21.4 ms per loop\n"
       ]
      }
     ],
     "prompt_number": 3
    },
    {
     "cell_type": "code",
     "collapsed": false,
     "input": [
      "import cv2\n",
      "cam = cv2.VideoCapture()\n",
      "cam.open(0)\n",
      "img=cam.read()\n",
      "cv2.imwrite(\"test3.jpg\",img[1])"
     ],
     "language": "python",
     "metadata": {},
     "outputs": [
      {
       "metadata": {},
       "output_type": "pyout",
       "prompt_number": 28,
       "text": [
        "False"
       ]
      }
     ],
     "prompt_number": 28
    },
    {
     "cell_type": "code",
     "collapsed": false,
     "input": [
      "import cv2\n",
      "import numpy as np\n",
      "from matplotlib import pyplot as plt\n",
      "\n",
      "img = cv2.imread('messi5.jpg',0)\n",
      "i2=img.copy()\n",
      "edges = cv2.Canny(img,100,200, i2, 5, L2gradient=True)\n",
      "\n",
      "plt.subplot(121),plt.imshow(img,cmap = 'gray')\n",
      "plt.title('Original Image'), plt.xticks([]), plt.yticks([])\n",
      "plt.subplot(122),plt.imshow(edges,cmap = 'gray')\n",
      "plt.title('Edge Image'), plt.xticks([]), plt.yticks([])\n",
      "\n",
      "plt.show()"
     ],
     "language": "python",
     "metadata": {},
     "outputs": [],
     "prompt_number": 85
    },
    {
     "cell_type": "code",
     "collapsed": false,
     "input": [
      "plt.imshow(i2, cmap='gray')\n",
      "plt.show()"
     ],
     "language": "python",
     "metadata": {},
     "outputs": [],
     "prompt_number": 84
    },
    {
     "cell_type": "code",
     "collapsed": false,
     "input": [
      "m=np.ones((2,3), np.uint8)\n",
      "m[:]=266\n",
      "m"
     ],
     "language": "python",
     "metadata": {},
     "outputs": [
      {
       "metadata": {},
       "output_type": "pyout",
       "prompt_number": 95,
       "text": [
        "array([[10, 10, 10],\n",
        "       [10, 10, 10]], dtype=uint8)"
       ]
      }
     ],
     "prompt_number": 95
    },
    {
     "cell_type": "code",
     "collapsed": false,
     "input": [],
     "language": "python",
     "metadata": {},
     "outputs": []
    }
   ],
   "metadata": {}
  }
 ]
}