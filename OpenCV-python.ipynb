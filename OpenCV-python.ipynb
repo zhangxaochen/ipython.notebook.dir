{
 "metadata": {
  "_draft": {
   "nbviewer_url": "\"gisting : OpenCV.ipynb\"\n"
  },
  "name": ""
 },
 "nbformat": 3,
 "nbformat_minor": 0,
 "worksheets": [
  {
   "cells": [
    {
     "cell_type": "code",
     "collapsed": false,
     "input": [
      "%cd D:\\Documents\\Desktop\n",
      "import cv2 as cv\n",
      "import numpy as np\n",
      "wn='test'\n",
      "def myshow(img):\n",
      "    cv.imshow(wn, img)\n",
      "    cv.waitKey() #\u4e0d\u51990 \u4e5f\u53ef\u4ee5\n",
      "    cv.destroyAllWindows()"
     ],
     "language": "python",
     "metadata": {},
     "outputs": [
      {
       "output_type": "stream",
       "stream": "stdout",
       "text": [
        "D:\\Documents\\Desktop\n"
       ]
      }
     ],
     "prompt_number": 27
    },
    {
     "cell_type": "code",
     "collapsed": false,
     "input": [
      "'http://docs.opencv.org/trunk/doc/py_tutorials/py_gui/py_image_display/py_image_display.html#py-display-image'\n",
      "fni='1.jpg'\n",
      "img= cv.imread(fni)\n",
      "\n",
      "cv.namedWindow(wn, cv.WINDOW_NORMAL)\n",
      "cv.imshow(wn, img)\n",
      "k=cv.waitKey()\n",
      "cv.destroyAllWindows()\n",
      "print k, chr(k)"
     ],
     "language": "python",
     "metadata": {},
     "outputs": [
      {
       "output_type": "stream",
       "stream": "stdout",
       "text": [
        "113 q\n"
       ]
      }
     ],
     "prompt_number": 4
    },
    {
     "cell_type": "code",
     "collapsed": false,
     "input": [
      "'http://docs.opencv.org/trunk/doc/py_tutorials/py_gui/py_video_display/py_video_display.html'\n",
      "fnv='3.wmv'\n",
      "cap=cv.VideoCapture(fnv)\n",
      "# cap.isOpened()\n",
      "while cap.isOpened():\n",
      "    ret, frame=cap.read()\n",
      "    if cv.waitKey(1)==ord('q') or not ret:\n",
      "#     if cv.waitKey(1) & 0xFF == ord('q'): #why 0xFF????????\n",
      "        break\n",
      "    cv.imshow(wn, frame)\n",
      "    cv.imshow(wn, cv.flip(frame, 1))\n",
      "\n",
      "print cap.isOpened()\n",
      "cap.release()\n",
      "cv.destroyAllWindows()"
     ],
     "language": "python",
     "metadata": {},
     "outputs": [
      {
       "output_type": "stream",
       "stream": "stdout",
       "text": [
        "True\n"
       ]
      }
     ],
     "prompt_number": 10
    },
    {
     "cell_type": "code",
     "collapsed": false,
     "input": [
      "'\u56fe\u5f62\u7ed8\u5236\u51fd\u6570\uff0c\u7ebf\uff0c\u65b9\u6846\uff0c\u692d\u5706'\n",
      "'http://docs.opencv.org/trunk/doc/py_tutorials/py_gui/py_drawing_functions/py_drawing_functions.html#drawing-functions'\n",
      "w=512\n",
      "img=np.zeros((w, w, 3))\n",
      "p1=(0,0)\n",
      "p2=(w-1,)*2\n",
      "#BGR:\n",
      "c=(255,250,0)\n",
      "cv.line(img, p1, p2, c, 5)\n",
      "cv.ellipse(img,(256,256),(100,50),30,0,280, c, 2)\n",
      "myshow(img)"
     ],
     "language": "python",
     "metadata": {},
     "outputs": [],
     "prompt_number": 36
    },
    {
     "cell_type": "code",
     "collapsed": false,
     "input": [
      "pts = np.array([[10,5],[20,30],[70,20],[50,10]], np.int32)\n",
      "pts = pts.reshape((-1,1,2))\n",
      "cv.polylines(img,pts,True,(0,255,255), 5)\n",
      "myshow(img)"
     ],
     "language": "python",
     "metadata": {},
     "outputs": [],
     "prompt_number": 39
    },
    {
     "cell_type": "code",
     "collapsed": false,
     "input": [
      "'http://docs.opencv.org/trunk/doc/py_tutorials/py_gui/py_mouse_handling/py_mouse_handling.html'\n",
      "[i for i in dir(cv) if 'EVENT' in i]"
     ],
     "language": "python",
     "metadata": {},
     "outputs": [
      {
       "metadata": {},
       "output_type": "pyout",
       "prompt_number": 32,
       "text": [
        "['EVENT_FLAG_ALTKEY',\n",
        " 'EVENT_FLAG_CTRLKEY',\n",
        " 'EVENT_FLAG_LBUTTON',\n",
        " 'EVENT_FLAG_MBUTTON',\n",
        " 'EVENT_FLAG_RBUTTON',\n",
        " 'EVENT_FLAG_SHIFTKEY',\n",
        " 'EVENT_LBUTTONDBLCLK',\n",
        " 'EVENT_LBUTTONDOWN',\n",
        " 'EVENT_LBUTTONUP',\n",
        " 'EVENT_MBUTTONDBLCLK',\n",
        " 'EVENT_MBUTTONDOWN',\n",
        " 'EVENT_MBUTTONUP',\n",
        " 'EVENT_MOUSEMOVE',\n",
        " 'EVENT_RBUTTONDBLCLK',\n",
        " 'EVENT_RBUTTONDOWN',\n",
        " 'EVENT_RBUTTONUP']"
       ]
      }
     ],
     "prompt_number": 32
    },
    {
     "cell_type": "code",
     "collapsed": false,
     "input": [
      "import cv2\n",
      "import numpy as np\n",
      "\n",
      "# mouse callback function\n",
      "def draw_circle(event,x,y,flags,param):\n",
      "    if event == cv2.EVENT_LBUTTONDBLCLK:\n",
      "        cv2.circle(img,(x,y),100,(255,0,0),-1)\n",
      "\n",
      "# Create a black image, a window and bind the function to window\n",
      "img = np.zeros((512,512,3), np.uint8)\n",
      "cv2.namedWindow('image')\n",
      "cv2.setMouseCallback('image',draw_circle)\n",
      "\n",
      "while(1):\n",
      "    cv2.imshow('image',img)\n",
      "    if cv2.waitKey(20) & 0xFF == 27:\n",
      "        break\n",
      "cv2.destroyAllWindows()"
     ],
     "language": "python",
     "metadata": {},
     "outputs": [],
     "prompt_number": 35
    },
    {
     "cell_type": "code",
     "collapsed": false,
     "input": [],
     "language": "python",
     "metadata": {},
     "outputs": []
    }
   ],
   "metadata": {}
  }
 ]
}