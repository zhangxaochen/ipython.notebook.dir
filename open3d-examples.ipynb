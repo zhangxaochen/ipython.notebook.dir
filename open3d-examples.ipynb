{
 "cells": [
  {
   "cell_type": "markdown",
   "metadata": {},
   "source": [
    "open3d 的一些使用样例\n",
    "---\n",
    "来源:\n",
    "- 本地 《2018-Open3D A Modern Library for 3D Data Processing=arxiv1801.09847.pdf》 一些 snippets\n",
    "- [DEPRECATED] http://www.open3d.org/docs/tutorial/index.html\n",
    "- [NEW 2019-2-27 16:30:10] http://www.open3d.org/docs/tutorial/Basic/index.html\n"
   ]
  },
  {
   "cell_type": "code",
   "execution_count": 6,
   "metadata": {},
   "outputs": [
    {
     "data": {
      "text/plain": [
       "u'E:\\\\Github\\\\ipython.notebook.dir'"
      ]
     },
     "execution_count": 6,
     "metadata": {},
     "output_type": "execute_result"
    }
   ],
   "source": [
    "pwd"
   ]
  },
  {
   "cell_type": "code",
   "execution_count": 1,
   "metadata": {},
   "outputs": [
    {
     "name": "stdout",
     "output_type": "stream",
     "text": [
      "Using matplotlib backend: Qt4Agg\n",
      "Populating the interactive namespace from numpy and matplotlib\n"
     ]
    }
   ],
   "source": [
    "from open3d import *\n",
    "%pylab"
   ]
  },
  {
   "cell_type": "code",
   "execution_count": 2,
   "metadata": {
    "scrolled": true
   },
   "outputs": [
    {
     "name": "stdout",
     "output_type": "stream",
     "text": [
      "PointCloud with 5104 points. *** <class 'open3d.open3d.Vector3dVector'>\n",
      "[ 0.04484    -0.04649    -1.21671999]\n",
      "<type 'numpy.ndarray'>\n",
      "[[   5.33884144    3.68257093    8.03490162]\n",
      " [  10.25750256    7.87969208   15.12320423]\n",
      " [ 105.29602051   77.92811584  164.26605225]\n",
      " ..., \n",
      " [  -2.05708051    4.99271107   16.85020447]\n",
      " [  -1.80463052    3.21534061   10.9223032 ]\n",
      " [  -0.87040818    2.62608075   15.22710419]]\n",
      "[[ 0.04484    -0.04649    -1.21671999]\n",
      " [ 0.04799001 -0.04632    -1.21897006]\n",
      " [ 0.05411    -0.06836    -1.21164012]\n",
      " ..., \n",
      " [-0.03123    -0.18382001 -1.20454013]\n",
      " [-0.0282     -0.18419001 -1.20462   ]\n",
      " [-0.0256     -0.18445    -1.20420003]]\n"
     ]
    }
   ],
   "source": [
    "fn_ply = r'E:\\3D_Scan\\groundtruth-all\\12-faces-cut-m.ply'\n",
    "cloud = read_point_cloud(fn_ply)\n",
    "print cloud, '***', type(cloud.points)\n",
    "print cloud.points[0]\n",
    "print type(cloud.points[0])\n",
    "print np.asarray(cloud.normals)\n",
    "print np.asarray(cloud.points)\n"
   ]
  },
  {
   "cell_type": "code",
   "execution_count": null,
   "metadata": {},
   "outputs": [],
   "source": [
    "-- Mouse view control --\n",
    "Left button + drag        : Rotate.\n",
    "Ctrl + left button + drag : Translate.\n",
    "Wheel                     : Zoom in/out.\n",
    "\n",
    "-- Keyboard view control --\n",
    "[/]          : Increase/decrease field of view.\n",
    "R            : Reset view point.\n",
    "Ctrl/Cmd + C : Copy current view status into the clipboard.\n",
    "Ctrl/Cmd + V : Paste view status from clipboard.\n",
    "\n",
    "-- General control --\n",
    "Q, Esc       : Exit window.\n",
    "H            : Print help message.\n",
    "P, PrtScn    : Take a screen capture.\n",
    "D            : Take a depth capture.\n",
    "O            : Take a capture of current rendering settings.\n",
    "\n",
    "-- Render mode control --\n",
    "L            : Turn on/off lighting.\n",
    "+/-          : Increase/decrease point size.\n",
    "N            : Turn on/off point cloud normal rendering.\n",
    "S            : Toggle between mesh flat shading and smooth shading.\n",
    "W            : Turn on/off mesh wireframe.\n",
    "B            : Turn on/off back face rendering.\n",
    "I            : Turn on/off image zoom in interpolation.\n",
    "T            : Toggle among image render:\n",
    "               no stretch / keep ratio / freely stretch.\n",
    "\n",
    "-- Color control --\n",
    "0..4,9       : Set point cloud color option.\n",
    "               0 - Default behavior, render point color.\n",
    "               1 - Render point color.\n",
    "               2 - x coordinate as color.\n",
    "               3 - y coordinate as color.\n",
    "               4 - z coordinate as color.\n",
    "               9 - normal as color.\n",
    "Ctrl + 0..4,9: Set mesh color option.\n",
    "               0 - Default behavior, render uniform gray color.\n",
    "               1 - Render point color.\n",
    "               2 - x coordinate as color.\n",
    "               3 - y coordinate as color.\n",
    "               4 - z coordinate as color.\n",
    "               9 - normal as color.\n",
    "Shift + 0..4 : Color map options.\n",
    "               0 - Gray scale color.\n",
    "               1 - JET color map.\n",
    "               2 - SUMMER color map.\n",
    "               3 - WINTER color map.\n",
    "               4 - HOT color map."
   ]
  },
  {
   "cell_type": "code",
   "execution_count": 4,
   "metadata": {},
   "outputs": [],
   "source": [
    "'''\n",
    "notebook 中报错: //可能因为 rdp 远程导致\n",
    "GLFW Error: WGL: The driver does not appear to support OpenGL\n",
    "Failed to create window\n",
    "[DrawGeometries] Failed creating OpenGL window.\n",
    "不一定，后来本地非rdp也不行，后来本地重启krnl 好了 @2019-2-27 15:51:04\n",
    "'''\n",
    "\n",
    "draw_geometries([cloud])\n"
   ]
  },
  {
   "cell_type": "code",
   "execution_count": 7,
   "metadata": {},
   "outputs": [
    {
     "name": "stdout",
     "output_type": "stream",
     "text": [
      "E:\\Github\\Open3D\\examples\\Python\\Basic\n"
     ]
    }
   ],
   "source": [
    "cd E:\\Github\\Open3D\\examples\\Python\\Basic"
   ]
  },
  {
   "cell_type": "code",
   "execution_count": 8,
   "metadata": {},
   "outputs": [
    {
     "name": "stdout",
     "output_type": "stream",
     "text": [
      "[[ 525.     0.   319.5]\n",
      " [   0.   525.   239.5]\n",
      " [   0.     0.     1. ]]\n",
      "OdometryOption class.\n",
      "iteration_number_per_pyramid_level = [ 20, 10, 5, ] \n",
      "max_depth_diff = 0.030000\n",
      "min_depth = 0.000000\n",
      "max_depth = 4.000000\n",
      "---success_color_term: True\n",
      "[[  9.99988275e-01  -7.36617570e-05  -4.84191029e-03   2.77175781e-04]\n",
      " [  1.67413000e-05   9.99930910e-01  -1.17547746e-02   2.29264601e-02]\n",
      " [  4.84244164e-03   1.17545557e-02   9.99919187e-01   5.96549283e-04]\n",
      " [  0.00000000e+00   0.00000000e+00   0.00000000e+00   1.00000000e+00]]\n",
      "[[ 912274.08573346     983.63060167   39591.10689002       0.\n",
      "  -454351.99950701  -12920.33039243]\n",
      " [    983.63060167  954218.19901262   48468.59479688  454351.99950701\n",
      "        0.           12945.44672715]\n",
      " [  39591.10689002   48468.59479688  134610.38191023   12920.33039243\n",
      "   -12945.44672715       0.        ]\n",
      " [      0.          454351.99950701   12920.33039243  252392.               0.\n",
      "        0.        ]\n",
      " [-454351.99950701       0.          -12945.44672715       0.          252392.\n",
      "        0.        ]\n",
      " [ -12920.33039243   12945.44672715       0.               0.               0.\n",
      "   252392.        ]]\n",
      "Using RGB-D Odometry\n",
      "[[  9.99988275e-01  -7.36617570e-05  -4.84191029e-03   2.77175781e-04]\n",
      " [  1.67413000e-05   9.99930910e-01  -1.17547746e-02   2.29264601e-02]\n",
      " [  4.84244164e-03   1.17545557e-02   9.99919187e-01   5.96549283e-04]\n",
      " [  0.00000000e+00   0.00000000e+00   0.00000000e+00   1.00000000e+00]]\n",
      "Using Hybrid RGB-D Odometry\n",
      "[[  9.99992973e-01  -2.51085987e-04  -3.74035293e-03  -1.07049785e-03]\n",
      " [  2.07047515e-04   9.99930714e-01  -1.17696192e-02   2.32280935e-02]\n",
      " [  3.74304897e-03   1.17687621e-02   9.99923740e-01   1.40592008e-03]\n",
      " [  0.00000000e+00   0.00000000e+00   0.00000000e+00   1.00000000e+00]]\n"
     ]
    }
   ],
   "source": [
    "# examples/Python/Tutorial/Basic/rgbd_odometry.py\n",
    "\n",
    "from open3d import *\n",
    "import numpy as np\n",
    "\n",
    "if __name__ == \"__main__\":\n",
    "    pinhole_camera_intrinsic = read_pinhole_camera_intrinsic(\n",
    "            \"../../TestData/camera_primesense.json\")\n",
    "    print(pinhole_camera_intrinsic.intrinsic_matrix)\n",
    "\n",
    "    source_color = read_image(\"../../TestData/RGBD/color/00000.jpg\")\n",
    "    source_depth = read_image(\"../../TestData/RGBD/depth/00000.png\")\n",
    "    target_color = read_image(\"../../TestData/RGBD/color/00001.jpg\")\n",
    "    target_depth = read_image(\"../../TestData/RGBD/depth/00001.png\")\n",
    "    source_rgbd_image = create_rgbd_image_from_color_and_depth(\n",
    "            source_color, source_depth)\n",
    "    target_rgbd_image = create_rgbd_image_from_color_and_depth(\n",
    "            target_color, target_depth)\n",
    "    target_pcd = create_point_cloud_from_rgbd_image(\n",
    "            target_rgbd_image, pinhole_camera_intrinsic)\n",
    "\n",
    "    option = OdometryOption()\n",
    "    odo_init = np.identity(4)\n",
    "    print(option)\n",
    "\n",
    "    [success_color_term, trans_color_term, info] = compute_rgbd_odometry(\n",
    "            source_rgbd_image, target_rgbd_image,\n",
    "            pinhole_camera_intrinsic, odo_init,\n",
    "            RGBDOdometryJacobianFromColorTerm(), option)\n",
    "    [success_hybrid_term, trans_hybrid_term, info] = compute_rgbd_odometry(\n",
    "            source_rgbd_image, target_rgbd_image,\n",
    "            pinhole_camera_intrinsic, odo_init,\n",
    "            RGBDOdometryJacobianFromHybridTerm(), option) #区别在 Color or Hybrid term\n",
    "    print '---success_color_term:', success_color_term\n",
    "    print trans_color_term\n",
    "    print info\n",
    "\n",
    "    if success_color_term:\n",
    "        print(\"Using RGB-D Odometry\")\n",
    "        print(trans_color_term)\n",
    "        source_pcd_color_term = create_point_cloud_from_rgbd_image(\n",
    "                source_rgbd_image, pinhole_camera_intrinsic)\n",
    "        source_pcd_color_term.transform(trans_color_term)\n",
    "        draw_geometries([target_pcd, source_pcd_color_term])\n",
    "    if success_hybrid_term:\n",
    "        print(\"Using Hybrid RGB-D Odometry\")\n",
    "        print(trans_hybrid_term)\n",
    "        source_pcd_hybrid_term = create_point_cloud_from_rgbd_image(\n",
    "                source_rgbd_image, pinhole_camera_intrinsic)\n",
    "        source_pcd_hybrid_term.transform(trans_hybrid_term)\n",
    "        draw_geometries([target_pcd, source_pcd_hybrid_term])\n"
   ]
  },
  {
   "cell_type": "code",
   "execution_count": 9,
   "metadata": {
    "scrolled": true
   },
   "outputs": [
    {
     "data": {
      "text/plain": [
       "RGBDImage of size \n",
       "Color image : 640x480, with 1 channels.\n",
       "Depth image : 640x480, with 1 channels.\n",
       "Use numpy.asarray to access buffer data."
      ]
     },
     "execution_count": 9,
     "metadata": {},
     "output_type": "execute_result"
    }
   ],
   "source": [
    "source_rgbd_image"
   ]
  },
  {
   "cell_type": "code",
   "execution_count": 28,
   "metadata": {},
   "outputs": [
    {
     "name": "stdout",
     "output_type": "stream",
     "text": [
      "Read Redwood dataset\n",
      "RGBDImage of size \n",
      "Color image : 640x480, with 1 channels.\n",
      "Depth image : 640x480, with 1 channels.\n",
      "Use numpy.asarray to access buffer data.\n"
     ]
    }
   ],
   "source": [
    "'''\n",
    "@2019-1-17 16:25:18\n",
    "copy from examples/Python/Tutorial/Basic/rgbd_redwood.py\n",
    "'''\n",
    "\n",
    "print(\"Read Redwood dataset\")\n",
    "color_raw = read_image(\"E:/Github/Open3D/examples/TestData/RGBD/color/00000.jpg\")\n",
    "depth_raw = read_image(\"E:/Github/Open3D/examples/TestData/RGBD/depth/00000.png\")\n",
    "rgbd_image = create_rgbd_image_from_color_and_depth(\n",
    "    color_raw, depth_raw);\n",
    "print(rgbd_image)\n",
    "plt.subplot(1, 2, 1)\n",
    "plt.title('Redwood grayscale image')\n",
    "plt.imshow(rgbd_image.color)\n",
    "plt.subplot(1, 2, 2)\n",
    "plt.title('Redwood depth image')\n",
    "\n",
    "plt.set_cmap('gray')\n",
    "plt.imshow(rgbd_image.depth)\n",
    "plt.show()\n",
    "pcd = create_point_cloud_from_rgbd_image(rgbd_image, PinholeCameraIntrinsic(\n",
    "        PinholeCameraIntrinsicParameters.PrimeSenseDefault))\n",
    "# Flip it, otherwise the pointcloud will be upside down\n",
    "pcd.transform([[1, 0, 0, 0], [0, -1, 0, 0], [0, 0, -1, 0], [0, 0, 0, 1]])\n",
    "draw_geometries([pcd])\n"
   ]
  },
  {
   "cell_type": "code",
   "execution_count": 19,
   "metadata": {},
   "outputs": [],
   "source": [
    "set_cmap('jet')"
   ]
  },
  {
   "cell_type": "code",
   "execution_count": null,
   "metadata": {},
   "outputs": [],
   "source": []
  },
  {
   "cell_type": "code",
   "execution_count": 15,
   "metadata": {},
   "outputs": [
    {
     "data": {
      "text/plain": [
       "PointCloud with 267129 points."
      ]
     },
     "execution_count": 15,
     "metadata": {},
     "output_type": "execute_result"
    }
   ],
   "source": [
    "pcd"
   ]
  },
  {
   "cell_type": "code",
   "execution_count": 33,
   "metadata": {},
   "outputs": [
    {
     "name": "stdout",
     "output_type": "stream",
     "text": [
      "Read NYU dataset\n",
      "RGBDImage of size \n",
      "Color image : 640x480, with 1 channels.\n",
      "Depth image : 640x480, with 1 channels.\n",
      "Use numpy.asarray to access buffer data.\n"
     ]
    }
   ],
   "source": [
    "'''\n",
    "# examples/Python/Tutorial/Basic/rgbd_nyu.py\n",
    "'''\n",
    "\n",
    "from open3d import *\n",
    "import numpy as np\n",
    "import re\n",
    "import matplotlib.image as mpimg\n",
    "import matplotlib.pyplot as plt\n",
    "\n",
    "# This is special function used for reading NYU pgm format\n",
    "# as it is written in big endian byte order.\n",
    "def read_nyu_pgm(filename, byteorder='>'):\n",
    "    with open(filename, 'rb') as f:\n",
    "        buffer = f.read()\n",
    "    try:\n",
    "        header, width, height, maxval = re.search(\n",
    "            b\"(^P5\\s(?:\\s*#.*[\\r\\n])*\"\n",
    "            b\"(\\d+)\\s(?:\\s*#.*[\\r\\n])*\"\n",
    "            b\"(\\d+)\\s(?:\\s*#.*[\\r\\n])*\"\n",
    "            b\"(\\d+)\\s(?:\\s*#.*[\\r\\n]\\s)*)\", buffer).groups()\n",
    "    except AttributeError:\n",
    "        raise ValueError(\"Not a raw PGM file: '%s'\" % filename)\n",
    "    img = np.frombuffer(buffer,\n",
    "        dtype=byteorder+'u2',\n",
    "        count=int(width)*int(height),\n",
    "        offset=len(header)).reshape((int(height), int(width)))\n",
    "    img_out = img.astype('u2')\n",
    "    return img_out\n",
    "\n",
    "if __name__ == \"__main__\":\n",
    "    print(\"Read NYU dataset\")\n",
    "    # Open3D does not support ppm/pgm file yet. Not using read_image here.\n",
    "    # MathplotImage having some ISSUE with NYU pgm file. Not using imread for pgm.\n",
    "    color_raw = mpimg.imread(\"E:/Github/Open3D/examples/TestData/RGBD/other_formats/NYU_color.ppm\")\n",
    "    depth_raw = read_nyu_pgm(\"E:/Github/Open3D/examples/TestData/RGBD/other_formats/NYU_depth.pgm\")\n",
    "    color = Image(color_raw)\n",
    "    depth = Image(depth_raw)\n",
    "    rgbd_image = create_rgbd_image_from_nyu_format(color, depth)\n",
    "    print(rgbd_image)\n",
    "    plt.subplot(1, 2, 1)\n",
    "    plt.title('NYU grayscale image')\n",
    "#     plt.imshow(rgbd_image.color) #c1\n",
    "#     plt.imshow(color) #c3, ok\n",
    "    plt.imshow(color_raw) #c3, ok\n",
    "    plt.subplot(1, 2, 2)\n",
    "    plt.title('NYU depth image')\n",
    "    plt.imshow(rgbd_image.depth)\n",
    "    plt.show()\n",
    "    pcd = create_point_cloud_from_rgbd_image(rgbd_image, PinholeCameraIntrinsic(\n",
    "            PinholeCameraIntrinsicParameters.PrimeSenseDefault))\n",
    "    # Flip it, otherwise the pointcloud will be upside down\n",
    "    pcd.transform([[1, 0, 0, 0], [0, -1, 0, 0], [0, 0, -1, 0], [0, 0, 0, 1]])\n",
    "    draw_geometries([pcd])\n"
   ]
  },
  {
   "cell_type": "code",
   "execution_count": 36,
   "metadata": {},
   "outputs": [
    {
     "data": {
      "text/plain": [
       "pybind11_builtins.pybind11_type"
      ]
     },
     "execution_count": 36,
     "metadata": {},
     "output_type": "execute_result"
    }
   ],
   "source": [
    "Image"
   ]
  },
  {
   "cell_type": "code",
   "execution_count": 37,
   "metadata": {},
   "outputs": [
    {
     "data": {
      "text/plain": [
       "<matplotlib.image.AxesImage at 0x2919f630>"
      ]
     },
     "execution_count": 37,
     "metadata": {},
     "output_type": "execute_result"
    }
   ],
   "source": [
    "plt.imshow(color_raw)"
   ]
  },
  {
   "cell_type": "code",
   "execution_count": 25,
   "metadata": {},
   "outputs": [
    {
     "data": {
      "text/plain": [
       "'__main__'"
      ]
     },
     "execution_count": 25,
     "metadata": {},
     "output_type": "execute_result"
    }
   ],
   "source": [
    "__name__"
   ]
  },
  {
   "cell_type": "code",
   "execution_count": 17,
   "metadata": {},
   "outputs": [],
   "source": [
    "draw_geometries([source_pcd_color_term,])"
   ]
  },
  {
   "cell_type": "code",
   "execution_count": 13,
   "metadata": {},
   "outputs": [
    {
     "data": {
      "text/plain": [
       "RGBDImage of size \n",
       "Color image : 640x480, with 1 channels.\n",
       "Depth image : 640x480, with 1 channels.\n",
       "Use numpy.asarray to access buffer data."
      ]
     },
     "execution_count": 13,
     "metadata": {},
     "output_type": "execute_result"
    }
   ],
   "source": [
    "source_rgbd_image."
   ]
  },
  {
   "cell_type": "code",
   "execution_count": null,
   "metadata": {
    "collapsed": true
   },
   "outputs": [],
   "source": []
  },
  {
   "cell_type": "code",
   "execution_count": null,
   "metadata": {
    "collapsed": true
   },
   "outputs": [],
   "source": []
  },
  {
   "cell_type": "code",
   "execution_count": null,
   "metadata": {
    "collapsed": true
   },
   "outputs": [],
   "source": []
  }
 ],
 "metadata": {
  "kernelspec": {
   "display_name": "Python 2",
   "language": "python",
   "name": "python2"
  },
  "language_info": {
   "codemirror_mode": {
    "name": "ipython",
    "version": 2
   },
   "file_extension": ".py",
   "mimetype": "text/x-python",
   "name": "python",
   "nbconvert_exporter": "python",
   "pygments_lexer": "ipython2",
   "version": "2.7.13"
  }
 },
 "nbformat": 4,
 "nbformat_minor": 1
}
