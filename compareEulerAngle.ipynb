{
 "cells": [
  {
   "cell_type": "code",
   "execution_count": 1,
   "metadata": {
    "collapsed": false
   },
   "outputs": [
    {
     "data": {
      "text/plain": [
       "u'E:\\\\GitHub\\\\ipython.notebook.dir'"
      ]
     },
     "execution_count": 1,
     "metadata": {},
     "output_type": "execute_result"
    }
   ],
   "source": [
    "pwd"
   ]
  },
  {
   "cell_type": "code",
   "execution_count": 2,
   "metadata": {
    "collapsed": false
   },
   "outputs": [
    {
     "name": "stdout",
     "output_type": "stream",
     "text": [
      "Using matplotlib backend: Qt4Agg\n",
      "Populating the interactive namespace from numpy and matplotlib\n"
     ]
    }
   ],
   "source": [
    "%pylab\n",
    "import sys\n",
    "sys.path.append(r'D:\\opencv249\\sources\\modules\\python\\test')\n",
    "\n",
    "import os\n",
    "import cv2\n",
    "import transformations as tf\n",
    "'一些短别名:'\n",
    "tf.e2m = tf.euler_matrix\n",
    "tf.m2e = tf.euler_from_matrix\n",
    "tf.q2m = tf.quaternion_matrix\n",
    "tf.m2q = tf.quaternion_from_matrix\n",
    "tf.e2q = tf.quaternion_from_euler\n",
    "tf.q2e = tf.euler_from_quaternion\n",
    "tf.m2r = tf.rotation_from_matrix\n",
    "tf.r2m = tf.rotation_matrix\n",
    "\n",
    "'angle <--> radian:'\n",
    "a2r = np.pi / 180\n",
    "r2a = 180 / np.pi"
   ]
  },
  {
   "cell_type": "code",
   "execution_count": 38,
   "metadata": {
    "collapsed": false
   },
   "outputs": [
    {
     "name": "stdout",
     "output_type": "stream",
     "text": [
      "[[-0.34628631  0.8653904   0.36219505  0.        ]\n",
      " [ 0.21590915  0.44923616 -0.86693143  0.        ]\n",
      " [-0.91294525 -0.22200526 -0.34241004  0.        ]\n",
      " [ 0.          0.          0.          1.        ]]\n",
      "[[-0.34628631 -0.21590915  0.91294525  0.        ]\n",
      " [-0.02248604  0.97478615  0.22200526  0.        ]\n",
      " [-0.93785936  0.05634886 -0.34241004  0.        ]\n",
      " [ 0.          0.          0.          1.        ]]\n",
      "---------------\n",
      "[[ True False False  True]\n",
      " [ True  True  True  True]\n",
      " [ True  True  True  True]\n",
      " [ True  True  True  True]]\n"
     ]
    },
    {
     "data": {
      "text/plain": [
       "(0.86539039505529258, 0.86539039505529269, False)"
      ]
     },
     "execution_count": 38,
     "metadata": {},
     "output_type": "execute_result"
    }
   ],
   "source": [
    "'测试： 左乘表示固定轴旋转，√'\n",
    "axes='sxyz'\n",
    "x,y,z=10,20,34\n",
    "ms=tf.e2m(x,y,z, axes)\n",
    "print ms\n",
    "\n",
    "axes='rxyz'\n",
    "mr=tf.e2m(x,y,z, axes)\n",
    "print mr\n",
    "\n",
    "'单轴旋转 r/s 应该是同样结果'\n",
    "axes='rxyz'\n",
    "mx=tf.e2m(x, 0, 0, axes) \n",
    "my=tf.e2m(0, y, 0, axes)\n",
    "mz=tf.e2m(0, 0, z, axes)\n",
    "print '---------------'\n",
    "# print mx\n",
    "# print my\n",
    "# print mz\n",
    "mleft=mz.dot(my).dot(mx)\n",
    "mright=mx.dot(my).dot(mz)\n",
    "'助记：rot-frame 对应 right-multiply'\n",
    "assert np.allclose(ms, mleft)\n",
    "assert np.allclose(mr, mright)"
   ]
  },
  {
   "cell_type": "code",
   "execution_count": 25,
   "metadata": {
    "collapsed": true
   },
   "outputs": [],
   "source": [
    "np.all?"
   ]
  },
  {
   "cell_type": "code",
   "execution_count": 21,
   "metadata": {
    "collapsed": true
   },
   "outputs": [],
   "source": [
    "tf.e2m?"
   ]
  },
  {
   "cell_type": "code",
   "execution_count": 3,
   "metadata": {
    "collapsed": false
   },
   "outputs": [
    {
     "data": {
      "text/plain": [
       "<matplotlib.legend.Legend at 0x3feedd8>"
      ]
     },
     "execution_count": 3,
     "metadata": {},
     "output_type": "execute_result"
    }
   ],
   "source": [
    "'测试 pcl_kinfu_app 使用 -r 参数与不用时的差异'\n",
    "pose_file = r'E:\\ABOUT C++\\libs\\pcl-master-6d0343d1b7\\_build\\gpu\\kinfu\\tools\\pose_file-bigboard-slope-7x10-264-r-2.csv'\n",
    "pose_mat = loadtxt(pose_file, delimiter=',')\n",
    "tvecsDepth = pose_mat[:, :3]\n",
    "lns = plot(tvecsDepth)\n",
    "# legend(lns, list('xyz'))\n",
    "\n",
    "pose_file = r'E:\\ABOUT C++\\libs\\pcl-master-6d0343d1b7\\_build\\gpu\\kinfu\\tools\\pose_file-bigboard-slope-7x10-285.csv'\n",
    "pose_mat = loadtxt(pose_file, delimiter=',')\n",
    "tvecsDepth = pose_mat[:, :3]\n",
    "lns2 = plot(tvecsDepth)\n",
    "legend(lns+lns2, list('xyzabc'))\n",
    "\n",
    "# pose_file = r'E:\\ABOUT C++\\libs\\pcl-master-6d0343d1b7\\_build\\gpu\\kinfu\\tools\\pose_file-bigboard-slope-7x10-T0=0.csv'\n",
    "# pose_mat = loadtxt(pose_file, delimiter=',')\n",
    "# tvecsDepth = pose_mat[:, :3]+(1.5, 1.5, -0.3)\n",
    "# plot(tvecsDepth)\n"
   ]
  },
  {
   "cell_type": "code",
   "execution_count": 6,
   "metadata": {
    "collapsed": false
   },
   "outputs": [
    {
     "data": {
      "text/plain": [
       "'2014/12/18, \\xe4\\xb9\\x8b\\xe5\\x89\\x8d oni \\xe6\\x96\\x87\\xe4\\xbb\\xb6\\xe5\\x9c\\xa8 pcl \\xe5\\xa4\\x84\\xe7\\x90\\x86\\xe6\\x9c\\x89\\xe6\\x8e\\x89\\xe5\\xb8\\xa7\\xef\\xbc\\x8c\\xe4\\xb8\\x8d\\xe7\\xa1\\xae\\xe5\\xae\\x9a\\xe6\\x98\\xaf\\xe4\\xb8\\x8d\\xe6\\x98\\xaf niviewer \\xe7\\x9a\\x84\\xe9\\x97\\xae\\xe9\\xa2\\x98'"
      ]
     },
     "execution_count": 6,
     "metadata": {},
     "output_type": "execute_result"
    }
   ],
   "source": [
    "# generated by pcl_kinfu_app & OpencvCalib:\n",
    "'3x4, t2b-refine'\n",
    "'---------------1'\n",
    "pose_file = r'E:\\ABOUT C++\\libs\\pcl-master-6d0343d1b7\\_build\\gpu\\kinfu\\tools\\pose_file-smt-d100-sz35.8-r2l-t2b-refine.csv'\n",
    "extrinsics_xml = r'E:\\GitHub\\OpenniCeshi\\data\\openNI132_data_registration_4x3\\smt-d100-sz35.8-r2l-t2b-refine_calib\\extrinsics.xml'\n",
    "\n",
    "'horizon-move-part1, c-r(center->right)'\n",
    "pose_file = r'E:\\ABOUT C++\\libs\\pcl-master-6d0343d1b7\\_build\\gpu\\kinfu\\tools\\pose_file-smt-d100-sz35.8-horizon-move-part1.csv'\n",
    "'---------------2'\n",
    "extrinsics_xml = r'E:\\GitHub\\OpenniCeshi\\data\\openNI132_data_registration_4x3\\smt-d100-sz35.8-horizon-move-part1_calib\\extrinsics-3x4.xml'\n",
    "\n",
    "'---------------3'\n",
    "extrinsics_xml = r'E:\\GitHub\\OpenniCeshi\\data\\openNI132_data_registration_4x3\\smt-d100-sz35.8-horizon-move-part1_calib\\extrinsics-4x3.xml'\n",
    "\n",
    "'vertical, c-t-b-c'\n",
    "'---------------4'\n",
    "pose_file = r'E:\\ABOUT C++\\libs\\pcl-master-6d0343d1b7\\_build\\gpu\\kinfu\\tools\\pose_file-smt-d100-sz35.8-vertical-move.csv'\n",
    "extrinsics_xml = r'E:\\GitHub\\OpenniCeshi\\data\\openNI132_data_registration_4x3\\smt-d100-sz35.8-vertical-move_calib\\extrinsics-4x3.xml'\n",
    "\n",
    "'zrot-7x8, 先逆时针'\n",
    "'---------------5'\n",
    "pose_file = r'E:\\ABOUT C++\\libs\\pcl-master-6d0343d1b7\\_build\\gpu\\kinfu\\tools\\pose_file-smt-d100-zrot-7x8.csv'\n",
    "extrinsics_xml = r'E:\\GitHub\\OpenniCeshi\\data\\openNI132_data_registration_7x8\\smt-d100-zrot-7x8_calib\\extrinsics.xml'\n",
    "\n",
    "'xyzrot-7x8-3axes, xyz先后转动'\n",
    "pose_file = r'E:\\ABOUT C++\\libs\\pcl-master-6d0343d1b7\\_build\\gpu\\kinfu\\tools\\pose_file-smt-d100-xyzrot-7x8-3axes.csv'\n",
    "'608 frmaes:'\n",
    "extrinsics_xml = r'E:\\GitHub\\OpenniCeshi\\data\\openNI132_data_registration_7x8\\smt-d100-xyzrot-7x8-3axes_calib\\extrinsics0.xml'\n",
    "'1034 frames:'\n",
    "extrinsics_xml = r'E:\\GitHub\\OpenniCeshi\\data\\openNI132_data_registration_7x8\\smt-d100-xyzrot-7x8-3axes_calib\\extrinsics1.xml'\n",
    "'---------------6'\n",
    "extrinsics_xml = r'E:\\GitHub\\OpenniCeshi\\data\\openNI132_data_registration_7x8\\smt-d100-xyzrot-7x8-3axes_calib\\extrinsics1-22.3.xml'\n",
    "\n",
    "'xyztrans, 7x8, 测试平移'\n",
    "pose_file = r'E:\\ABOUT C++\\libs\\pcl-master-6d0343d1b7\\_build\\gpu\\kinfu\\tools\\pose_file-smt-d100-xyztrans-7x8-refine.csv'\n",
    "'---------------7'\n",
    "extrinsics_xml = r'E:\\GitHub\\OpenniCeshi\\data\\openNI132_data_registration_7x8\\smt-d100-xyztrans-7x8-refine_calib\\extrinsics.xml'\n",
    "\n",
    "'bigboard-d130-7x10.oni, 大板三轴乱动'\n",
    "pose_file = r'E:\\ABOUT C++\\libs\\pcl-master-6d0343d1b7\\_build\\gpu\\kinfu\\tools\\pose_file-bigboard-d130-7x10.csv'\n",
    "'---------------8'\n",
    "extrinsics_xml = r'E:\\GitHub\\OpenniCeshi\\data\\openNI1.3_data_registration_7x9\\bigboard-d130-7x10_calib\\extrinsics.xml'\n",
    "\n",
    "'bigboard-slope-7x10, 大板子斜着转'\n",
    "'---------------9'\n",
    "pose_file = r'E:\\ABOUT C++\\libs\\pcl-master-6d0343d1b7\\_build\\gpu\\kinfu\\tools\\pose_file-bigboard-slope-7x10-264.csv'\n",
    "# pose_file = r'E:\\ABOUT C++\\libs\\pcl-master-6d0343d1b7\\_build\\gpu\\kinfu\\tools\\pose_file-bigboard-slope-7x10-285-T0=0.csv'\n",
    "pose_file = r'E:\\ABOUT C++\\libs\\pcl-master-6d0343d1b7\\_build\\gpu\\kinfu\\tools\\pose_file-bigboard-slope-7x10-285.csv'\n",
    "# extrinsics_xml = r'E:\\GitHub\\OpenniCeshi\\data\\bigboard-slope-7x10_calib\\extrinsics-22.3.xml'\n",
    "extrinsics_xml = r'E:\\GitHub\\OpenniCeshi\\data\\openni132_registration_7x10\\bigboard-slope-7x10_calib\\extrinsics-50.xml'\n",
    "\n",
    "'smallboard, horizon, c-r-l-c, 7x8'\n",
    "# pose_file = r'E:\\ABOUT C++\\libs\\pcl-master-6d0343d1b7\\_build\\gpu\\kinfu\\tools\\pose_file-smallboard-d100-7x8.csv'\n",
    "# extrinsics_xml = r'E:\\GitHub\\OpenniCeshi\\data\\smallboard-d100-7x8_calib\\extrinsics-8x7.xml'\n",
    "\n",
    "'horizon-move, c-r-l-c'\n",
    "# pose_file = r'E:\\ABOUT C++\\libs\\pcl-master-6d0343d1b7\\_build\\gpu\\kinfu\\tools\\pose_file-smt-d100-sz35.8-horizon-move.csv'\n",
    "# extrinsics_xml = r\"E:\\GitHub\\OpenniCeshi\\data\\openNI132_data_registration_4x3\\smt-d100-sz35.8-horizon-move_calib\\extrinsics-3x4.xml\"\n",
    "# extrinsics_xml = r\"E:\\GitHub\\OpenniCeshi\\data\\openNI132_data_registration_4x3\\smt-d100-sz35.8-horizon-move_calib\\extrinsics-4x3.xml\"\n",
    "\n",
    "'smt-d100-7x8-move-pause, A4小纸'\n",
    "# pose_file = r'E:\\ABOUT C++\\libs\\pcl-master-6d0343d1b7\\_build\\gpu\\kinfu\\tools\\pose_file-smt-d100-7x8-move-pause.csv'\n",
    "# extrinsics_xml = r'E:\\GitHub\\OpenniCeshi\\data\\openNI132_data_registration_7x8\\smt-d100-7x8-move-pause_calib\\extrinsics-1456.xml'\n",
    "\n",
    "'bigboard-7x10-move-pause'\n",
    "pose_file = r'E:\\ABOUT C++\\libs\\pcl-master-6d0343d1b7\\_build\\gpu\\kinfu\\tools\\pose_file-bigboard-7x10-move-pause.csv'\n",
    "extrinsics_xml = r'E:\\GitHub\\OpenniCeshi\\data\\openni132_registration_7x10\\bigboard-7x10-move-pause_calib\\extrinsics-1846.xml'\n",
    "\n",
    "'bigboard-7x10-move-pause-f100~f990.oni'\n",
    "# pose_file = r'E:\\ABOUT C++\\libs\\pcl-master-6d0343d1b7\\_build\\gpu\\kinfu\\tools\\pose_file-shit90.csv'\n",
    "# extrinsics_xml = r'E:\\oni_data\\openni132_registration_7x10\\shit90_calib\\extrinsics.xml'\n",
    "pose_file = r'E:\\ABOUT C++\\libs\\pcl-master-6d0343d1b7\\_build\\gpu\\kinfu\\tools\\pose_file-bigboard-7x10-move-pause-f100~f990.csv' #total: 89\n",
    "pose_file = r'E:\\ABOUT C++\\libs\\pcl-master-6d0343d1b7\\_build\\gpu\\kinfu\\tools\\pose_file-bigboard-7x10-move-pause-f100~f990-raw_frames.csv' #total: 91\n",
    "pose_file = r'E:\\ABOUT C++\\libs\\pcl-master-6d0343d1b7\\_build\\gpu\\kinfu\\tools\\pose_file-bigboard-7x10-move-pause-f100~f990-raw_frames-90-urf.csv' #total: 90\n",
    "# pose_file = r'E:\\ABOUT C++\\libs\\pcl-master-6d0343d1b7\\_build\\gpu\\kinfu\\tools\\pose_file-bigboard-7x10-move-pause-f100~f990-89-cv_extr.csv'\n",
    "'-urf, -cv_extr, 90, 此文件确实与 extrinsics.xml 曲线重合； rmse == 0'\n",
    "pose_file = r'E:\\ABOUT C++\\libs\\pcl-master-6d0343d1b7\\_build\\gpu\\kinfu\\tools\\pose_file-bigboard-7x10-move-pause-f100~f990-urf-90-cv_extr.csv'\n",
    "'-cv_extr_hint, 用 extrinsics.xml 做初值, 帧数太少，看不出什么； 曲线与 -urf-90 几乎完全重合（数值看起来不同）'\n",
    "pose_file = r'E:\\ABOUT C++\\libs\\pcl-master-6d0343d1b7\\_build\\gpu\\kinfu\\tools\\pose_file-bigboard-7x10-move-pause-f100~f990-urf-90-cv_extr_hint.csv'\n",
    "'之前一直带着 -r -ic, 这里去掉它们'\n",
    "# pose_file = r'E:\\ABOUT C++\\libs\\pcl-master-6d0343d1b7\\_build\\gpu\\kinfu\\tools\\pose_file-bigboard-7x10-move-pause-f100~f990-urf-90-no-r-ic.csv'\n",
    "extrinsics_xml = r'E:\\oni_data\\openni132_registration_7x10\\bigboard-7x10-move-pause-f100~f990_calib\\extrinsics.xml'\n",
    "\n",
    "\n",
    "'2014/12/18, 之前 oni 文件在 pcl 处理有掉帧，不确定是不是 niviewer 的问题'\n",
    "# pose_file = r'E:\\ABOUT C++\\libs\\pcl-master-6d0343d1b7\\_build\\gpu\\kinfu\\tools\\pose_file-bigboard-move_around-2.csv'\n",
    "# extrinsics_xml = r'E:\\oni_data\\openni132_registration_7x10\\bigboard-move_around-2_calib\\extrinsics.xml'\n",
    "\n",
    "# pose_file = r'E:\\ABOUT C++\\libs\\pcl-master-6d0343d1b7\\_build\\gpu\\kinfu\\tools\\pose_file-bigboard-slow-refine.csv'\n",
    "# pose_file = r'E:\\ABOUT C++\\libs\\pcl-master-6d0343d1b7\\_build\\gpu\\kinfu\\tools\\pose_file-bigboard-slow-refine-2061-urf.csv'\n",
    "# pose_file = r'E:\\ABOUT C++\\libs\\pcl-master-6d0343d1b7\\_build\\gpu\\kinfu\\tools\\pose_file-bigboard-slow-refine-2056-no-urf.csv'\n",
    "# # pose_file = r'E:\\ABOUT C++\\libs\\pcl-master-6d0343d1b7\\_build\\gpu\\kinfu\\tools\\pose_file-bigboard-slow-refine-raw_frames-2.csv'\n",
    "# extrinsics_xml = r'E:\\oni_data\\openni132_registration_7x10\\bigboard-slow-refine_calib\\extrinsics.xml'\n"
   ]
  },
  {
   "cell_type": "code",
   "execution_count": 7,
   "metadata": {
    "collapsed": false
   },
   "outputs": [
    {
     "name": "stdout",
     "output_type": "stream",
     "text": [
      "True\n",
      "True\n"
     ]
    }
   ],
   "source": [
    "print os.path.isfile(extrinsics_xml)\n",
    "print os.path.isfile(pose_file)"
   ]
  },
  {
   "cell_type": "code",
   "execution_count": 9,
   "metadata": {
    "collapsed": false
   },
   "outputs": [
    {
     "name": "stdout",
     "output_type": "stream",
     "text": [
      "diffCsvs(fn, fn_hint) [  1.20000000e-05   6.33333333e-06   2.71111111e-06   5.22222222e-07\n",
      "   2.36847778e-06   2.71794444e-06   3.38977778e-06]\n",
      "diffCsvs(fn, fn_hint) [  2.81168365e-04   7.11014071e-05   2.42955519e-04   3.41644833e-05\n",
      "   6.27367607e-05   1.47324941e-04   2.21503825e-05]\n"
     ]
    }
   ],
   "source": [
    "'以下说明， cv_extr 做初值没有任何提升'\n",
    "from lxml import etree\n",
    "psr = etree.XMLParser(remove_blank_text=True)\n",
    "\n",
    "def plotRvecs(fname):\n",
    "    if fname.endswith('.csv'):\n",
    "        pose_mat = loadtxt(fname, delimiter=',')\n",
    "        rvecsDepth = pose_mat[:, 3:]\n",
    "        plot(rvecsDepth)\n",
    "#     elif fname.endswith('.xml'):\n",
    "#         tree = etree.parse(fname, parser=psr)\n",
    "#         rt = tree.getroot()\n",
    "#         tvecsColor = []\n",
    "#         for i, iframe in enumerate(rt):\n",
    "#             tvecsColor.append([float(num) for num in iframe.xpath('t/data')[0].text.split()])\n",
    "#         tvecsColor = np.asarray(tvecsColor)\n",
    "    pass\n",
    "\n",
    "def plotTvecs(fname):\n",
    "    if fname.endswith('.csv'):\n",
    "        pose_mat = loadtxt(fname, delimiter=',')\n",
    "        tvecsDepth = pose_mat[:, :3]\n",
    "        plot(tvecsDepth)\n",
    "#     elif fname.endswith('.xml'):\n",
    "#         tree = etree.parse(fname, parser=psr)\n",
    "#         rt = tree.getroot()\n",
    "#         tvecsColor = []\n",
    "#         for i, iframe in enumerate(rt):\n",
    "#             tvecsColor.append([float(num) for num in iframe.xpath('t/data')[0].text.split()])\n",
    "#         tvecsColor = np.asarray(tvecsColor)/1000\n",
    "#         plot(tvecsColor)\n",
    "    pass\n",
    "\n",
    "def diffCsvs(fn1, fn2):\n",
    "    extStr = '.csv'\n",
    "    assert fn1.endswith(extStr) and fn2.endswith(extStr)\n",
    "    '2 pose_mats:'\n",
    "    m1 = loadtxt(fn1, delimiter=',')\n",
    "    m2 = loadtxt(fn2, delimiter=',')\n",
    "    return np.abs(m1-m2).mean(axis=0)\n",
    "    \n",
    "# fn = r'E:\\ABOUT C++\\libs\\pcl-master-6d0343d1b7\\_build\\gpu\\kinfu\\tools\\pose_file-bigboard-7x10-move-pause-f100~f990-urf-90-cv_extr.csv'\n",
    "# plotTvecs(fn)\n",
    "# fn = r'E:\\oni_data\\openni132_registration_7x10\\bigboard-7x10-move-pause-f100~f990_calib\\extrinsics.xml'\n",
    "\n",
    "'以下说明， cv_extr 做初值没有任何提升'\n",
    "'-no-r-ic'\n",
    "# fn = r'E:\\ABOUT C++\\libs\\pcl-master-6d0343d1b7\\_build\\gpu\\kinfu\\tools\\pose_file-bigboard-7x10-move-pause-f100~f990-urf-90-no-r-ic.csv'\n",
    "# plotRvecs(fn)\n",
    "# fn = r'E:\\ABOUT C++\\libs\\pcl-master-6d0343d1b7\\_build\\gpu\\kinfu\\tools\\pose_file-bigboard-7x10-move-pause-f100~f990-urf-90-cv_extr_hint-no-r-ic.csv'\n",
    "# plotRvecs(fn)\n",
    "\n",
    "'-r-ic'\n",
    "fn = r'E:\\ABOUT C++\\libs\\pcl-master-6d0343d1b7\\_build\\gpu\\kinfu\\tools\\pose_file-bigboard-7x10-move-pause-f100~f990-urf-90.csv'\n",
    "plotRvecs(fn)\n",
    "fn_hint = r'E:\\ABOUT C++\\libs\\pcl-master-6d0343d1b7\\_build\\gpu\\kinfu\\tools\\pose_file-bigboard-7x10-move-pause-f100~f990-urf-90-cv_extr_hint.csv'\n",
    "plotRvecs(fn_hint)\n",
    "print 'diffCsvs(fn, fn_hint)', diffCsvs(fn, fn_hint)\n",
    "\n",
    "'视频 2061 帧'\n",
    "fn = r'E:\\ABOUT C++\\libs\\pcl-master-6d0343d1b7\\_build\\gpu\\kinfu\\tools\\pose_file-bigboard-slow-refine-2061-urf.csv'\n",
    "plotRvecs(fn)\n",
    "fn_hint = r'E:\\ABOUT C++\\libs\\pcl-master-6d0343d1b7\\_build\\gpu\\kinfu\\tools\\pose_file-bigboard-slow-refine-2061-urf-cv_extr_hint.csv'\n",
    "plotRvecs(fn_hint)\n",
    "print 'diffCsvs(fn, fn_hint)', diffCsvs(fn, fn_hint)\n",
    "\n",
    "# fn = r'E:\\ABOUT C++\\libs\\pcl-master-6d0343d1b7\\_build\\gpu\\kinfu\\tools\\pose_file-bigboard-7x10-move-pause-f100~f990-urf-90-cv_extr_hint.csv'\n",
    "# plotTvecs(fn)\n"
   ]
  },
  {
   "cell_type": "code",
   "execution_count": 55,
   "metadata": {
    "collapsed": false
   },
   "outputs": [
    {
     "name": "stdout",
     "output_type": "stream",
     "text": [
      "(90L, 4L)\n",
      "(90L, 3L)\n",
      "rmsee, rmset:\n",
      "0.007, 0.010, 0.015\n",
      "0.011, 0.007, 0.011\n"
     ]
    }
   ],
   "source": [
    "'---------------处理 pcl_kinfu_app 生成的 csv'\n",
    "pose_mat = loadtxt(pose_file, delimiter=',')\n",
    "tvecsDepth = pose_mat[:, :3]\n",
    "rvecsDepth = pose_mat[:, 3:]\n",
    "eulerDepth = np.asarray([tf.q2e([q[1], q[2], q[3], q[0]], axes='rxyz') for q in rvecsDepth])\n",
    "matDepth = np.asarray([tf.q2m([q[1], q[2], q[3], q[0]]) for q in rvecsDepth])\n",
    "print rvecsDepth.shape\n",
    "# print rvecsDepth\n",
    "\n",
    "'接上个 cell'\n",
    "print eulerDepth.shape\n",
    "# print eulerDepth\n",
    "\n",
    "'接上个 cell'\n",
    "# xs = range(eulerDepth.size)\n",
    "\n",
    "# figure('111')\n",
    "# plot(eulerDepth[:, 0], 'r')\n",
    "# plot(eulerDepth[:, 1], 'g')\n",
    "# plot(eulerDepth[:, 2], 'b')\n",
    "\n",
    "# figure('222')\n",
    "fig = figure('1-eulerDepth-bgr')\n",
    "plot(eulerDepth, ) #与 111 相反， b,g,r 顺序\n",
    "savefig(fig.canvas.get_window_title())\n",
    "\n",
    "\n",
    "'---------------处理 OpencvCalib 生成的 extrinsics.xml'\n",
    "from lxml import etree\n",
    "psr = etree.XMLParser(remove_blank_text=True)\n",
    "tree = etree.parse(extrinsics_xml, parser=psr)\n",
    "rt = tree.getroot()\n",
    "\n",
    "# Rodrigues 向量：\n",
    "rvecsColor = []\n",
    "tvecsColor = []\n",
    "# for iframe in rt:\n",
    "for i, iframe in enumerate(rt):\n",
    "    rvecsColor.append([float(num) for num in iframe.xpath('r/data')[0].text.split()])\n",
    "#     rvecsColor.append(map(float, iframe.xpath('r/data')[0].text.split())) # python 2, 3 不兼容， 所以不用\n",
    "    tvecsColor.append([float(num) for num in iframe.xpath('t/data')[0].text.split()])\n",
    "    pass\n",
    "\n",
    "rvecsColor = np.asarray(rvecsColor)\n",
    "tvecsColor = np.asarray(tvecsColor)\n",
    "# rvecsColor\n",
    "\n",
    "# dst, _ = cv2.Rodrigues(rvecsColor[0])\n",
    "# eulerColor = np.asarray([tf.euler_from_matrix(cv2.Rodrigues(rod)[0]) for rod in rvecsColor]) #good √\n",
    "# R0 = cv2.Rodrigues(rvecsColor[0])[0].T\n",
    "'---------------'\n",
    "eulerColor = []\n",
    "eulerColor2 = [] # 'R0.T *' 处理过的\n",
    "'camera -> world 坐标系变换：'\n",
    "matColor = np.asarray([cv2.Rodrigues(rod)[0].T for rod in rvecsColor]) #---------------有没有 .T ? 应该有\n",
    "matColor2 = []\n",
    "R0 = matColor[0]\n",
    "# for rod in rvecsColor:\n",
    "#     Ri = cv2.Rodrigues(rod)[0].T\n",
    "for Ri in matColor:\n",
    "    eulerColor.append(tf.m2e(Ri, axes='rxyz'))\n",
    "    '--2:'\n",
    "#     newRi = np.dot(R0.T, R0.T).dot(Ri).dot(R0) #貌似错了\n",
    "    \n",
    "    '--1:'\n",
    "#     newRi = np.dot(R0.T, Ri).dot(R0.T).dot(R0) #---------------仅仅 R0.T * Ri， （全 .T 之后， 见上 line58)\n",
    "    newRi = np.dot(R0.T, Ri) #---------------??\n",
    "#     newRi = np.dot(Ri, R0.T) #---------------×\n",
    "    eulerColor2.append(tf.m2e(newRi, axes='rxyz')) #R0.T * (R0.T * Ri) * R0\n",
    "#     eulerColor2.append(tf.euler_from_matrix(np.dot(Ri, R0.T), axes='rxyz')) #尝试右乘 ×\n",
    "    matColor2.append(newRi)\n",
    "    pass\n",
    "\n",
    "matColor2 = np.asarray(matColor2)\n",
    "matDiff = np.asarray([np.dot(matDepth[i][:3, :3].T, matColor2[i]) for i in range(min(matDepth.shape[0], matColor2.shape[0]))])\n",
    "\n",
    "eulerColor = np.asarray(eulerColor)\n",
    "eulerColor2 = np.asarray(eulerColor2)\n",
    "\n",
    "'---------------一些比较测试'\n",
    "#333\n",
    "fig = figure('2-eulerColor-orig')\n",
    "plot(eulerColor)\n",
    "savefig(fig.canvas.get_window_title())\n",
    "\n",
    "#444\n",
    "fig = figure('3-eulerColor-newRi')\n",
    "plot(eulerColor2)\n",
    "savefig(fig.canvas.get_window_title())\n",
    "\n",
    "fig = figure('4-euler-depth-color')\n",
    "plot(eulerDepth)\n",
    "plot(eulerColor2)\n",
    "savefig(fig.canvas.get_window_title())\n",
    "\n",
    "fig = figure('5-matDiff-main-diagonal')\n",
    "plot(matDiff[:,0,0])\n",
    "plot(matDiff[:,1,1])\n",
    "plot(matDiff[:,2,2])\n",
    "savefig(fig.canvas.get_window_title())\n",
    "\n",
    "fig = figure('6-matDiff-9-elems')\n",
    "plot(matDiff.reshape((matDiff.shape[0], 9)))\n",
    "savefig(fig.canvas.get_window_title())\n",
    "\n",
    "'matDiff 转成轴角表示'\n",
    "m = matDiff[0]\n",
    "fig = figure('7-matDiff-rodrigues-angle')\n",
    "plot([np.linalg.norm(cv2.Rodrigues(m)[0]) for m in matDiff])\n",
    "savefig(fig.canvas.get_window_title())\n",
    "\n",
    "# 'm-e, 求行列式, 应该结果接近 0 @孙国飞。已否定'\n",
    "# fig = figure('matDiff-eye-det')\n",
    "# plot([np.linalg.det(m-np.eye(3)) for m in matDiff ])\n",
    "# savefig(fig.canvas.get_window_title())\n",
    "\n",
    "fig = figure('8-tvecs-depth-color')\n",
    "plot(tvecsDepth)\n",
    "plot(tvecsColor/1000)\n",
    "savefig(fig.canvas.get_window_title())\n",
    "\n",
    "tvecsColorOrig = tvecsColor\n",
    "\n",
    "'''\n",
    "---------------测试对比 ta, tb ：\n",
    "\n",
    "对于 cv, color, extrinsics.xml:\n",
    "先转到物体旋转：\n",
    "Ri' := Ri.T\n",
    "ti' := -Ri.T * ti\n",
    "t0' = -R0.T * t0\n",
    "\n",
    "ta = Rab.T * (Rb * tab + tb - tab)\n",
    "'''\n",
    "tvecsColor = tvecsColorOrig / 1000\n",
    "t0c = tvecsColor[0]\n",
    "t0d = tvecsDepth[0]\n",
    "deltatColor = np.asarray([np.dot(matColor[i], t0c-tvecsColor[i]) for i in range(tvecsColor.shape[0])])\n",
    "tbColor = deltatColor\n",
    "tCV2PCL = np.asarray([(np.dot(-R0.T, matColor[i]).dot(tvecsColor[i]) + t0c + t0d) for i in range(tvecsColor.shape[0])]) #√\n",
    "\n",
    "'''\n",
    "对于 pcl_kinfu_app, depth, pose_file.csv\n",
    "ta = ΔtiDepth = tid - Rid * t0d\n",
    "'''\n",
    "deltatDepth = tvecsDepth - np.asarray([np.dot(matDepth[i][:3, :3], t0d) for i in range(tvecsDepth.shape[0])])\n",
    "taDepth = deltatDepth\n",
    "\n",
    "fig = figure('9-tCV2PCL-deltatDepth')\n",
    "plot(tCV2PCL)\n",
    "plot(deltatDepth)\n",
    "savefig(fig.canvas.get_window_title())\n",
    "\n",
    "fig = figure('10-tvecsDepth-tCV2PCL')\n",
    "plot(tvecsDepth)\n",
    "plot(tCV2PCL)\n",
    "savefig(fig.canvas.get_window_title())\n",
    "\n",
    "'对比 pcl, opencv 的 r, t（转换后），求 RMSEe, RMSEt'\n",
    "ne = min(eulerColor2.shape[0], eulerDepth.shape[0])\n",
    "ediff = eulerColor2[:ne] - eulerDepth[:ne]\n",
    "rmsee = np.sqrt(np.square(ediff).mean(axis=0))\n",
    "\n",
    "nt = min(tCV2PCL.shape[0], tvecsDepth.shape[0])\n",
    "tdiff = tCV2PCL[:nt] - tvecsDepth[:nt]\n",
    "rmset = np.sqrt(np.square(tdiff).mean(axis=0))\n",
    "\n",
    "print 'rmsee, rmset:'\n",
    "print '%.3f, %.3f, %.3f'%tuple(rmsee)\n",
    "print '%.3f, %.3f, %.3f'%tuple(rmset)\n",
    "# print ', '.join(['%.3f']*rmsee.size)%tuple(rmsee) #good, √\n"
   ]
  },
  {
   "cell_type": "code",
   "execution_count": 49,
   "metadata": {
    "collapsed": false
   },
   "outputs": [
    {
     "name": "stdout",
     "output_type": "stream",
     "text": [
      "(2061L, 3L)\n",
      "[[ 0.016  0.016  0.035]\n",
      " [ 0.     0.005  0.008]\n",
      " [ 0.     0.046  0.028]]\n",
      "[[ 0.018  0.032  0.015]\n",
      " [ 0.002  0.014  0.014]\n",
      " [ 0.023  0.004  0.022]]\n"
     ]
    }
   ],
   "source": [
    "def printErrorOnIdx(error, indices):\n",
    "    ur'打印error列表在 indices 序号上的值'\n",
    "    print np.array2string(error[indices], precision=3)\n",
    "    pass\n",
    "\n",
    "absEdiff = abs(ediff)\n",
    "print absEdiff.shape\n",
    "\n",
    "'某 ids 几个序号 R 误差'\n",
    "# ids = [22, 45, 67]\n",
    "ids = [515, 1030, 1545]\n",
    "printErrorOnIdx(absEdiff, ids)\n",
    "\n",
    "'前10帧 R 误差绝对值'\n",
    "# printErrorOnIdx(absEdiff, range(10))\n",
    "\n",
    "'ids T误差'\n",
    "printErrorOnIdx(abs(tdiff), ids)\n"
   ]
  },
  {
   "cell_type": "code",
   "execution_count": 17,
   "metadata": {
    "collapsed": false
   },
   "outputs": [
    {
     "data": {
      "text/plain": [
       "'0.006, 0.010, 0.015'"
      ]
     },
     "execution_count": 17,
     "metadata": {},
     "output_type": "execute_result"
    }
   ],
   "source": [
    "a = rmsee\n",
    "', '.join(['%.3f']*a.size)%tuple(a)"
   ]
  },
  {
   "cell_type": "code",
   "execution_count": 269,
   "metadata": {
    "collapsed": false
   },
   "outputs": [
    {
     "name": "stdout",
     "output_type": "stream",
     "text": [
      "e1: [ 0.17453293  0.34906585  0.52359878]\n",
      "m1: [[ 0.81379768 -0.46984631  0.34202014  0.        ]\n",
      " [ 0.54383814  0.82317294 -0.16317591  0.        ]\n",
      " [-0.20487413  0.31879578  0.92541658  0.        ]\n",
      " [ 0.          0.          0.          1.        ]]\n",
      "e2: [-0.17453293 -0.34906585 -0.52359878]\n",
      "m2: [[ 0.92541658  0.16317591 -0.34202014  0.        ]\n",
      " [ 0.01802831  0.88256412  0.46984631  0.        ]\n",
      " [ 0.37852231 -0.44096961  0.81379768  0.        ]\n",
      " [ 0.          0.          0.          1.        ]]\n",
      "e2::-1, [-0.52359878 -0.34906585 -0.17453293]\n"
     ]
    }
   ],
   "source": [
    "e1 = np.array([10,20,30])*np.pi/180\n",
    "m1 = tf.e2m(*e1, axes='rxyz')\n",
    "np.asarray(tf.m2e(m1, axes='rxyz'))*180/np.pi\n",
    "\n",
    "e2 = -e1\n",
    "m2 = tf.e2m(*e2[::-1], axes='rxyz')\n",
    "print 'e1:', e1\n",
    "print 'm1:', m1\n",
    "print 'e2:', e2\n",
    "print 'm2:', m2\n",
    "\n",
    "print 'e2::-1,',e2[::-1]"
   ]
  },
  {
   "cell_type": "code",
   "execution_count": 173,
   "metadata": {
    "collapsed": false
   },
   "outputs": [
    {
     "data": {
      "text/plain": [
       "[<matplotlib.lines.Line2D at 0x22393278>,\n",
       " <matplotlib.lines.Line2D at 0x22507b70>,\n",
       " <matplotlib.lines.Line2D at 0x225074a8>]"
      ]
     },
     "execution_count": 173,
     "metadata": {},
     "output_type": "execute_result"
    }
   ],
   "source": [
    "'测试 xyz -> yzx 坐标轴变换, 是否效果仅仅是交换坐标轴？ 不是！'\n",
    "\n",
    "figure('xyz')\n",
    "eulerDepth = np.asarray([tf.q2e([q[1], q[2], q[3], q[0]], axes='rxyz') for q in rvecsDepth])\n",
    "plot(eulerDepth, )\n",
    "\n",
    "figure('yzx')\n",
    "eulerDepth = np.asarray([tf.q2e([q[1], q[2], q[3], q[0]], axes='ryzx') for q in rvecsDepth])\n",
    "plot(eulerDepth, )\n"
   ]
  },
  {
   "cell_type": "code",
   "execution_count": 5,
   "metadata": {
    "collapsed": false
   },
   "outputs": [
    {
     "name": "stdout",
     "output_type": "stream",
     "text": [
      "<type 'tuple'>\n",
      "True\n",
      "(0.7853970066908716, -0.0, 0.0)\n",
      "(0.7853970066908716, -0.0, 0.0)\n",
      "(0.7853981633974483, 1.0471968266705904, 0.7853981633974484)\n",
      "(-0.0, 0.0, -0.0)\n",
      "(0.0, -0.0, 0.0)\n"
     ]
    }
   ],
   "source": [
    "'some tests:'\n",
    "# 1. from doc:\n",
    "a = tf.euler_from_quaternion([0.06146124, 0, 0, 0.99810947])\n",
    "print type(a)\n",
    "print np.allclose(a, [0.123, 0, 0])\n",
    "\n",
    "'2. w 应放在最后：'\n",
    "print tf.euler_from_quaternion([0.382683,0,0,0.92388,])\n",
    "print tf.euler_from_quaternion([0.382683,0,0,0.92388,], axes='sxyz')\n",
    "\n",
    "# 0.665976,0.482963,0.29995,0.482963\n",
    "print tf.euler_from_quaternion([0.482963,0.29995,0.482963,0.665976,], axes='rxyz')\n",
    "\n",
    "'0 四元数'\n",
    "print tf.euler_from_quaternion([0, 0, 0, 1], axes='rxyz')\n",
    "print tf.euler_from_quaternion([0, 0, 0, 1], axes='sxyz')\n"
   ]
  },
  {
   "cell_type": "code",
   "execution_count": 3,
   "metadata": {
    "collapsed": false
   },
   "outputs": [
    {
     "name": "stdout",
     "output_type": "stream",
     "text": [
      "[  0.  45.  -0.]\n",
      "yzx: [[ 0.70710678  0.          0.70710678  0.        ]\n",
      " [ 0.          1.         -0.          0.        ]\n",
      " [-0.70710678  0.          0.70710678  0.        ]\n",
      " [ 0.          0.          0.          1.        ]]\n",
      "xyz: [[ 1.         -0.          0.          0.        ]\n",
      " [ 0.          0.70710678 -0.70710678  0.        ]\n",
      " [ 0.          0.70710678  0.70710678  0.        ]\n",
      " [ 0.          0.          0.          1.        ]]\n",
      "@@@: [[ 0.81379768 -0.46984631  0.34202014  0.        ]\n",
      " [ 0.54383814  0.82317294 -0.16317591  0.        ]\n",
      " [-0.20487413  0.31879578  0.92541658  0.        ]\n",
      " [ 0.          0.          0.          1.        ]]\n",
      "@@@: [[ 0.81379768 -0.46984631  0.34202014  0.        ]\n",
      " [ 0.54383814  0.82317294 -0.16317591  0.        ]\n",
      " [-0.20487413  0.31879578  0.92541658  0.        ]\n",
      " [ 0.          0.          0.          1.        ]]\n",
      "True\n"
     ]
    }
   ],
   "source": [
    "'''测试: 'ryzx', 是仅指定 yzx 旋转顺序呢， 还是同时指定 ai, aj, ak 分别代表的轴为 y, z, x 呢？ 后者 √\n",
    "'''\n",
    "eu = np.asarray([45,0,0])*np.pi/180\n",
    "print np.array(tf.m2e(tf.e2m(*eu, axes='ryzx')[:3, :3], axes='rxyz'))*180/np.pi\n",
    "print 'yzx:', tf.e2m(*eu, axes='ryzx')\n",
    "print 'xyz:', tf.e2m(*eu, axes='rxyz')\n",
    "\n",
    "'---------------another:'\n",
    "eu = np.asarray([10,20,30])*np.pi/180\n",
    "print '@@@:', tf.e2m(*eu, axes='rxyz')\n",
    "eu2 = -np.asarray([30,20,10])*np.pi/180\n",
    "print '@@@:', tf.e2m(*eu2, axes='rzyx').T #inversse\n",
    "print np.allclose(tf.e2m(*eu, axes='rxyz'), tf.e2m(*eu2, axes='rzyx').T)\n",
    "# tf.e2m(*eu, axes='rxyz')-tf.e2m(*eu, axes='rzyx').T"
   ]
  },
  {
   "cell_type": "code",
   "execution_count": 27,
   "metadata": {
    "collapsed": false
   },
   "outputs": [
    {
     "name": "stdout",
     "output_type": "stream",
     "text": [
      "True\n",
      "True\n",
      "[ -0.  90. -10.]\n",
      "[ -0.  90. -10.]\n",
      "True\n",
      "[ 0.12767944  0.14487813  0.26853582  0.94371436] [-0.12767944 -0.14487813 -0.26853582  0.94371436]\n"
     ]
    }
   ],
   "source": [
    "'测试： 欧拉角 -> 四元数， 一一对应， 还是多对一？ 万向锁'\n",
    "e1 = np.asarray([30, 90, -40])*np.pi/180\n",
    "e2 = np.asarray([70, 90, 0])*np.pi/180\n",
    "print np.allclose(tf.e2q(*e1, axes='sxyz'), tf.e2q(*e2, axes='sxyz'))\n",
    "\n",
    "e1 = np.asarray([30, 90, -40])*np.pi/180\n",
    "e2 = np.asarray([-10, 90, 0])*np.pi/180\n",
    "print np.allclose(tf.e2q(*e1, axes='rxyz'), tf.e2q(*e2, axes='rxyz'))\n",
    "# print tf.e2q(*e2, axes='rxyz')\n",
    "\n",
    "'e->q->e2， e!=e2， 一个四元数对应多个欧拉角'\n",
    "e1 = np.asarray([30, 90, -40])*a2r\n",
    "q1r = tf.e2q(*e1, axes='rxyz')\n",
    "print np.asarray(tf.q2e(q1r, axes='rxyz'))*r2a\n",
    "\n",
    "'e1->m->e2, e1!=e2, 一个旋转矩阵对应多个欧拉角'\n",
    "m1 = tf.e2m(*e1, axes='rxyz')\n",
    "print np.asarray(tf.m2e(m1, axes='rxyz'))*r2a\n",
    "\n",
    "'确实， 一个旋转矩阵对应多个欧拉角'\n",
    "# print tf.e2m(*e1, axes='rxyz')\n",
    "# print tf.e2m(*e2, axes='rxyz')\n",
    "# print tf.e2m(*e1, axes='rxyz') == tf.e2m(*e2, axes='rxyz')\n",
    "print np.allclose(tf.e2m(*e1, axes='rxyz'), tf.e2m(*e2, axes='rxyz'))\n",
    "\n",
    "\"测试 q -> rm -> rm.T -> q' 与 q 关系: cos部不变， sin部取反， 注意 tf库是 xyzw 顺序， w在最后\"\n",
    "e1 = np.asarray([10,20,30])*a2r\n",
    "q1 = tf.e2q(*e1, axes='rxyz')\n",
    "m1 = tf.q2m(q1)\n",
    "m2 = m1.T\n",
    "q2 = tf.m2q(m2)\n",
    "print q1, q2\n"
   ]
  },
  {
   "cell_type": "code",
   "execution_count": 44,
   "metadata": {
    "collapsed": false
   },
   "outputs": [
    {
     "name": "stdout",
     "output_type": "stream",
     "text": [
      "[0.9437143641474891, 0.12767944069578063, 0.14487812541736916, 0.2685358227515692]\n"
     ]
    },
    {
     "data": {
      "text/plain": [
       "array([ 0.12767944,  0.14487813,  0.26853582,  0.94371436])"
      ]
     },
     "execution_count": 44,
     "metadata": {},
     "output_type": "execute_result"
    }
   ],
   "source": [
    "e1 = np.asarray([10, 20, 30])*a2r\n",
    "e2 = np.asarray([40, 20, 30])*a2r\n",
    "q1 = tf.e2q(*e1, axes='rxyz')\n",
    "q2 = tf.e2q(*e2, axes='rxyz')\n",
    "print [q1[3]]+q1[:3].tolist() #w 放前面\n",
    "tf.m2q(tf.q2m(q1))\n"
   ]
  },
  {
   "cell_type": "code",
   "execution_count": null,
   "metadata": {
    "collapsed": true
   },
   "outputs": [],
   "source": [
    "m1 = tf.e2m"
   ]
  },
  {
   "cell_type": "code",
   "execution_count": 117,
   "metadata": {
    "collapsed": true
   },
   "outputs": [
    {
     "name": "stdout",
     "output_type": "stream",
     "text": [
      "ma:\n",
      "[[ 0.81379768 -0.46984631  0.34202014  0.        ]\n",
      " [ 0.54383814  0.82317294 -0.16317591  0.        ]\n",
      " [-0.20487413  0.31879578  0.92541658  0.        ]\n",
      " [ 0.          0.          0.          1.        ]]\n",
      "mb:\n",
      "[[ 0.92541658 -0.20487413  0.31879578  0.        ]\n",
      " [ 0.34202014  0.81379768 -0.46984631  0.        ]\n",
      " [-0.16317591  0.54383814  0.82317294  0.        ]\n",
      " [ 0.          0.          0.          1.        ]]\n",
      "mx: [[  1.00000000e+00   0.00000000e+00  -0.00000000e+00   0.00000000e+00]\n",
      " [  0.00000000e+00   6.12323400e-17  -1.00000000e+00   0.00000000e+00]\n",
      " [  0.00000000e+00   1.00000000e+00   6.12323400e-17   0.00000000e+00]\n",
      " [  0.00000000e+00   0.00000000e+00   0.00000000e+00   1.00000000e+00]]\n",
      "mz: [[  6.12323400e-17  -1.00000000e+00  -0.00000000e+00   0.00000000e+00]\n",
      " [  1.00000000e+00   6.12323400e-17   0.00000000e+00   0.00000000e+00]\n",
      " [  0.00000000e+00   0.00000000e+00   1.00000000e+00   0.00000000e+00]\n",
      " [  0.00000000e+00   0.00000000e+00   0.00000000e+00   1.00000000e+00]]\n",
      "Rab: [[  6.12323400e-17  -6.12323400e-17   1.00000000e+00   0.00000000e+00]\n",
      " [  1.00000000e+00   3.74939946e-33  -6.12323400e-17   0.00000000e+00]\n",
      " [  0.00000000e+00   1.00000000e+00   6.12323400e-17   0.00000000e+00]\n",
      " [  0.00000000e+00   0.00000000e+00   0.00000000e+00   1.00000000e+00]]\n",
      "mba:\n",
      "[[ 0.81379768 -0.46984631  0.34202014  0.        ]\n",
      " [ 0.54383814  0.82317294 -0.16317591  0.        ]\n",
      " [-0.20487413  0.31879578  0.92541658  0.        ]\n",
      " [ 0.          0.          0.          1.        ]]\n",
      "mba-ma: [[  1.00000000e+00  -2.77555756e-17  -2.77555756e-17   0.00000000e+00]\n",
      " [  0.00000000e+00   1.00000000e+00  -5.55111512e-17   0.00000000e+00]\n",
      " [  2.77555756e-17   0.00000000e+00   1.00000000e+00   0.00000000e+00]\n",
      " [  0.00000000e+00   0.00000000e+00   0.00000000e+00   1.00000000e+00]]\n",
      "[ 10.  20.  30.]\n"
     ]
    }
   ],
   "source": [
    "'测试： 两不同物体坐标系 a, b 在同一世界坐标系下，Rb -> Ra 怎么做？'\n",
    "\n",
    "e1 = np.asarray([10,20,30])*np.pi/180\n",
    "ma = tf.e2m(*e1, axes='rxyz')\n",
    "# e2 = np.asarray([10,20,30])*np.pi/180\n",
    "mb = tf.e2m(*e1, axes='ryzx')\n",
    "print 'ma:\\n', ma\n",
    "print 'mb:\\n', mb\n",
    "mx = tf.e2m(np.pi/2, 0, 0, 'rxyz') #坐标系旋转 -90°， 物体旋转 +90°； tf.xxx 是旋转物体\n",
    "mz = tf.e2m(0, 0, np.pi/2, 'rxyz')\n",
    "print 'mx:', mx\n",
    "print 'mz:', mz\n",
    "Rab = np.dot(mz, mx)\n",
    "print 'Rab:', Rab\n",
    "# Rab = np.array([[0, 0, 1, 0], [1, 0, 0, 0], [0, 1, 0, 0], [0,0,0,1]])\n",
    "# print 'mx * mz:', Rab\n",
    "mba = np.dot(Rab.T, mb).dot(Rab)\n",
    "print 'mba:\\n', mba\n",
    "print 'mba-ma:', np.dot(ma.T, mba)\n",
    "print np.array(tf.m2e(mb, 'ryzx'))*180/np.pi"
   ]
  },
  {
   "cell_type": "code",
   "execution_count": 7,
   "metadata": {
    "collapsed": false
   },
   "outputs": [
    {
     "data": {
      "text/plain": [
       "223L"
      ]
     },
     "execution_count": 7,
     "metadata": {},
     "output_type": "execute_result"
    }
   ],
   "source": [
    "'测试： cv2.FileStorage'\n",
    "# cv2.cv.Load(extrinsics_xml) #cv1 只能用来 load iplimage\n",
    "# 没文档， 不会写\n",
    "fs = cv2.FileStorage(extrinsics_xml, cv2.FILE_STORAGE_READ)\n",
    "rt = fs.root()\n",
    "rt.size()"
   ]
  },
  {
   "cell_type": "code",
   "execution_count": 210,
   "metadata": {
    "collapsed": false
   },
   "outputs": [],
   "source": [
    "'''\n",
    "下面是另一些测试：\n",
    "1. 测试一个旋转矩阵 list 统一左乘 R0.T 的结果，是否统一偏移了相同角度？\n",
    "'''\n",
    "cnt = 100\n",
    "xang = (np.random.random(cnt) - .5) * np.pi * 2\n",
    "yang = (np.random.random(cnt) - .5) * np.pi\n",
    "zang = (np.random.random(cnt) - .5) * np.pi * 2\n",
    "eus = np.asarray([xang, yang, zang])\n",
    "# print eus\n",
    "eus = eus.T\n",
    "# print eus"
   ]
  },
  {
   "cell_type": "code",
   "execution_count": 212,
   "metadata": {
    "collapsed": true
   },
   "outputs": [
    {
     "name": "stdout",
     "output_type": "stream",
     "text": [
      "-- [[  1.00000000e+00   0.00000000e+00  -2.77555756e-17   0.00000000e+00]\n",
      " [  0.00000000e+00   1.00000000e+00   5.55111512e-17   0.00000000e+00]\n",
      " [ -2.77555756e-17   5.55111512e-17   1.00000000e+00   0.00000000e+00]\n",
      " [  0.00000000e+00   0.00000000e+00   0.00000000e+00   1.00000000e+00]]\n",
      "-- [[-0.69513184  0.22299768 -0.68342063  0.        ]\n",
      " [ 0.14738731 -0.88626706 -0.4390987   0.        ]\n",
      " [-0.70361119 -0.40595902  0.58320542  0.        ]\n",
      " [ 0.          0.          0.          1.        ]]\n",
      "-- [[ 0.75757559  0.60877803  0.23551758  0.        ]\n",
      " [-0.63999784  0.76370847  0.08457033  0.        ]\n",
      " [-0.12838221 -0.21479916  0.96818352  0.        ]\n",
      " [ 0.          0.          0.          1.        ]]\n",
      "-- [[ 0.62390541  0.42772093 -0.65406181  0.        ]\n",
      " [ 0.75924309 -0.13342766  0.63698272  0.        ]\n",
      " [ 0.18518091 -0.89400888 -0.40799039  0.        ]\n",
      " [ 0.          0.          0.          1.        ]]\n",
      "-- [[-0.90530255  0.36717758 -0.21356011  0.        ]\n",
      " [ 0.39919708  0.56364658 -0.72314883  0.        ]\n",
      " [-0.14515161 -0.73992105 -0.6568469   0.        ]\n",
      " [ 0.          0.          0.          1.        ]]\n",
      "-- [[-0.61816385 -0.78042277  0.0938816   0.        ]\n",
      " [ 0.60956547 -0.40053458  0.68410671  0.        ]\n",
      " [-0.49628963  0.48011702  0.72331477  0.        ]\n",
      " [ 0.          0.          0.          1.        ]]\n",
      "-- [[-0.17071861 -0.25955331  0.95051946  0.        ]\n",
      " [ 0.64026239  0.7040358   0.30724203  0.        ]\n",
      " [-0.74894541  0.66103379  0.04599021  0.        ]\n",
      " [ 0.          0.          0.          1.        ]]\n",
      "-- [[ 0.99521826 -0.01282413 -0.09683055  0.        ]\n",
      " [ 0.09043194  0.49563003  0.86381302  0.        ]\n",
      " [ 0.03691448 -0.86843907  0.49441977  0.        ]\n",
      " [ 0.          0.          0.          1.        ]]\n",
      "-- [[-0.42870339  0.89846216  0.09475834  0.        ]\n",
      " [-0.4992791  -0.14819766 -0.85367314  0.        ]\n",
      " [-0.75295006 -0.41328343  0.51211622  0.        ]\n",
      " [ 0.          0.          0.          1.        ]]\n",
      "-- [[-0.26317563 -0.88084015 -0.39352156  0.        ]\n",
      " [ 0.73992407 -0.44603762  0.50355021  0.        ]\n",
      " [-0.61907266 -0.15865393  0.76914106  0.        ]\n",
      " [ 0.          0.          0.          1.        ]]\n",
      "-- [[ 0.1044484   0.13653779 -0.98511317  0.        ]\n",
      " [ 0.67411641 -0.73798223 -0.03081076  0.        ]\n",
      " [-0.73120285 -0.66086282 -0.16912343  0.        ]\n",
      " [ 0.          0.          0.          1.        ]]\n",
      "-- [[-0.10215147 -0.96413241  0.24497709  0.        ]\n",
      " [-0.88956044 -0.02169171 -0.4563022   0.        ]\n",
      " [ 0.44524971 -0.26453387 -0.85543821  0.        ]\n",
      " [ 0.          0.          0.          1.        ]]\n",
      "-- [[-0.00576197  0.16271378 -0.98665649  0.        ]\n",
      " [-0.99709228 -0.0759088  -0.00669554  0.        ]\n",
      " [-0.07598537  0.98374899  0.16267804  0.        ]\n",
      " [ 0.          0.          0.          1.        ]]\n",
      "-- [[ 0.19466148 -0.31554496  0.92872939  0.        ]\n",
      " [-0.42384459  0.82682183  0.3697586   0.        ]\n",
      " [-0.8845692  -0.46561468  0.02720833  0.        ]\n",
      " [ 0.          0.          0.          1.        ]]\n",
      "-- [[ 0.99808854 -0.0605057   0.01258308  0.        ]\n",
      " [ 0.05425343  0.95535396  0.29043996  0.        ]\n",
      " [-0.02959456 -0.28920212  0.95681048  0.        ]\n",
      " [ 0.          0.          0.          1.        ]]\n",
      "-- [[-0.65789159  0.15530397 -0.7369256   0.        ]\n",
      " [-0.51951661 -0.8020017   0.29478087  0.        ]\n",
      " [-0.54523494  0.57677894  0.60831316  0.        ]\n",
      " [ 0.          0.          0.          1.        ]]\n",
      "-- [[ 0.02563916 -0.96306813 -0.26803436  0.        ]\n",
      " [-0.41611928 -0.25407137  0.87309363  0.        ]\n",
      " [-0.9089485   0.08914888 -0.40726539  0.        ]\n",
      " [ 0.          0.          0.          1.        ]]\n",
      "-- [[-0.50592001  0.6773671   0.53405875  0.        ]\n",
      " [-0.12856378 -0.67143938  0.72982225  0.        ]\n",
      " [ 0.85294566  0.30057107  0.42677949  0.        ]\n",
      " [ 0.          0.          0.          1.        ]]\n",
      "-- [[-0.82895821  0.24036218  0.50502902  0.        ]\n",
      " [-0.50118996 -0.72002649 -0.47996924  0.        ]\n",
      " [ 0.24826782 -0.65098992  0.71733898  0.        ]\n",
      " [ 0.          0.          0.          1.        ]]\n",
      "-- [[ 0.67309994 -0.67458715 -0.30309841  0.        ]\n",
      " [ 0.2718538  -0.15545459  0.94969963  0.        ]\n",
      " [-0.6877732  -0.72164122  0.07875261  0.        ]\n",
      " [ 0.          0.          0.          1.        ]]\n",
      "-- [[-0.93851519  0.29374297  0.18139546  0.        ]\n",
      " [ 0.26712246  0.28498876  0.92055798  0.        ]\n",
      " [ 0.21871177  0.91241245 -0.34593162  0.        ]\n",
      " [ 0.          0.          0.          1.        ]]\n",
      "-- [[ 0.13188567  0.57504499  0.80742147  0.        ]\n",
      " [ 0.38504659 -0.78029328  0.49283011  0.        ]\n",
      " [ 0.91342503  0.24589766 -0.32432862  0.        ]\n",
      " [ 0.          0.          0.          1.        ]]\n",
      "-- [[-0.70517936 -0.53049219  0.47042546  0.        ]\n",
      " [-0.56600758  0.02158573 -0.82411739  0.        ]\n",
      " [ 0.42703336 -0.84741495 -0.31548441  0.        ]\n",
      " [ 0.          0.          0.          1.        ]]\n",
      "-- [[  7.55618329e-01   1.74403559e-02   6.54779944e-01   0.00000000e+00]\n",
      " [ -6.54625141e-01  -1.42520181e-02   7.55819294e-01   0.00000000e+00]\n",
      " [  2.25136931e-02  -9.99746325e-01   6.47809374e-04   0.00000000e+00]\n",
      " [  0.00000000e+00   0.00000000e+00   0.00000000e+00   1.00000000e+00]]\n",
      "-- [[-0.3009615   0.94065004  0.15684284  0.        ]\n",
      " [ 0.93425148  0.257836    0.24636309  0.        ]\n",
      " [ 0.19130172  0.22067646 -0.9564024   0.        ]\n",
      " [ 0.          0.          0.          1.        ]]\n",
      "-- [[ 0.00742606  0.65232171  0.75790582  0.        ]\n",
      " [ 0.91914461  0.29406514 -0.26210472  0.        ]\n",
      " [-0.39385028  0.69857145 -0.59739424  0.        ]\n",
      " [ 0.          0.          0.          1.        ]]\n",
      "-- [[-0.14059449  0.87180916  0.46923552  0.        ]\n",
      " [ 0.42377864 -0.37534224  0.82433602  0.        ]\n",
      " [ 0.8947876   0.31474909 -0.31668305  0.        ]\n",
      " [ 0.          0.          0.          1.        ]]\n",
      "-- [[ 0.0653524  -0.02082639  0.99764489  0.        ]\n",
      " [ 0.32561776  0.94550015 -0.00159229  0.        ]\n",
      " [-0.94324023  0.32495495  0.06857215  0.        ]\n",
      " [ 0.          0.          0.          1.        ]]\n",
      "-- [[-0.55874817 -0.82920416  0.01486399  0.        ]\n",
      " [-0.17925989  0.10325404 -0.97836828  0.        ]\n",
      " [ 0.80973229 -0.549326   -0.20633606  0.        ]\n",
      " [ 0.          0.          0.          1.        ]]\n",
      "-- [[ 0.73373164 -0.6790661  -0.02251906  0.        ]\n",
      " [-0.57673857 -0.64000318  0.50770912  0.        ]\n",
      " [-0.35918032 -0.35953464 -0.8612342   0.        ]\n",
      " [ 0.          0.          0.          1.        ]]\n",
      "-- [[-0.22840319 -0.83728912  0.49676847  0.        ]\n",
      " [-0.41737629  0.54519939  0.72701764  0.        ]\n",
      " [-0.87956183 -0.04128623 -0.47398991  0.        ]\n",
      " [ 0.          0.          0.          1.        ]]\n",
      "-- [[ 0.03614297  0.97372546  0.22483865  0.        ]\n",
      " [ 0.00594805  0.22477205 -0.97439322  0.        ]\n",
      " [-0.99932893  0.03655482  0.00233216  0.        ]\n",
      " [ 0.          0.          0.          1.        ]]\n",
      "-- [[ 0.34012228  0.9403786  -0.00222027  0.        ]\n",
      " [-0.68912103  0.25085093  0.67984264  0.        ]\n",
      " [ 0.63986642 -0.2296996   0.73335466  0.        ]\n",
      " [ 0.          0.          0.          1.        ]]\n",
      "-- [[ 0.06582662  0.94939347  0.30711381  0.        ]\n",
      " [-0.38770441  0.3079338  -0.86882798  0.        ]\n",
      " [-0.91943034 -0.06187736  0.38835427  0.        ]\n",
      " [ 0.          0.          0.          1.        ]]\n",
      "-- [[-0.09594076  0.71463884  0.69288289  0.        ]\n",
      " [-0.1998281   0.66809452 -0.71674154  0.        ]\n",
      " [-0.97512261 -0.2072222   0.07870743  0.        ]\n",
      " [ 0.          0.          0.          1.        ]]\n",
      "-- [[-0.1524348  -0.97632835 -0.15344898  0.        ]\n",
      " [-0.37305566 -0.08693623  0.923727    0.        ]\n",
      " [-0.91520113  0.19805316 -0.35097271  0.        ]\n",
      " [ 0.          0.          0.          1.        ]]\n",
      "-- [[-0.28250143 -0.59926964  0.74904528  0.        ]\n",
      " [ 0.95022657 -0.2817698   0.13294828  0.        ]\n",
      " [ 0.13138647  0.74932081  0.64904231  0.        ]\n",
      " [ 0.          0.          0.          1.        ]]\n",
      "-- [[-0.0761661   0.99403491 -0.07805969  0.        ]\n",
      " [ 0.14637575  0.08858596  0.98525462  0.        ]\n",
      " [ 0.98629248  0.06361696 -0.15224986  0.        ]\n",
      " [ 0.          0.          0.          1.        ]]\n",
      "-- [[-0.43905986  0.72368644  0.53245128  0.        ]\n",
      " [-0.67525826  0.12512965 -0.72688985  0.        ]\n",
      " [-0.59266577 -0.67869028  0.43373584  0.        ]\n",
      " [ 0.          0.          0.          1.        ]]\n",
      "-- [[ 0.65218892 -0.54565016  0.52622762  0.        ]\n",
      " [-0.75804006 -0.47400333  0.44799119  0.        ]\n",
      " [ 0.00498718 -0.69107651 -0.7227644   0.        ]\n",
      " [ 0.          0.          0.          1.        ]]\n",
      "-- [[-0.50855376 -0.05307806 -0.85939269  0.        ]\n",
      " [-0.01435259 -0.9974369   0.07009727  0.        ]\n",
      " [-0.86091061  0.04798274  0.50648848  0.        ]\n",
      " [ 0.          0.          0.          1.        ]]\n",
      "-- [[-0.37168674  0.03692694 -0.92762351  0.        ]\n",
      " [-0.34467887  0.92229783  0.1748233   0.        ]\n",
      " [ 0.86200084  0.38471172 -0.33007794  0.        ]\n",
      " [ 0.          0.          0.          1.        ]]\n",
      "-- [[-0.76090803  0.19845504  0.61776579  0.        ]\n",
      " [ 0.34427173 -0.68353641  0.6436264   0.        ]\n",
      " [ 0.54999632  0.7024198   0.45178588  0.        ]\n",
      " [ 0.          0.          0.          1.        ]]\n",
      "-- [[-0.10442124 -0.08824833 -0.99061013  0.        ]\n",
      " [-0.38297745 -0.91567366  0.12194268  0.        ]\n",
      " [-0.91783685  0.39211475  0.06181866  0.        ]\n",
      " [ 0.          0.          0.          1.        ]]\n",
      "-- [[-0.72708113 -0.68011337  0.09380211  0.        ]\n",
      " [-0.26315598  0.40227032  0.87688512  0.        ]\n",
      " [-0.6341151   0.61288204 -0.47145906  0.        ]\n",
      " [ 0.          0.          0.          1.        ]]\n",
      "-- [[-0.94077265  0.32522922 -0.0957746   0.        ]\n",
      " [-0.17634809 -0.7106736  -0.68106122  0.        ]\n",
      " [-0.28956549 -0.6238341   0.72593584  0.        ]\n",
      " [ 0.          0.          0.          1.        ]]\n",
      "-- [[ 0.56432146 -0.82414186 -0.04828549  0.        ]\n",
      " [-0.73920985 -0.47839208 -0.47403567  0.        ]\n",
      " [ 0.36757324  0.30320161 -0.87918069  0.        ]\n",
      " [ 0.          0.          0.          1.        ]]\n",
      "-- [[ 0.41393099 -0.86840203 -0.27301841  0.        ]\n",
      " [-0.07103012  0.26819261 -0.96074317  0.        ]\n",
      " [ 0.90753284  0.41707391  0.04933053  0.        ]\n",
      " [ 0.          0.          0.          1.        ]]\n",
      "-- [[-0.55210343 -0.694354    0.46157808  0.        ]\n",
      " [-0.46103664 -0.20703042 -0.86289259  0.        ]\n",
      " [ 0.69471362 -0.68921037 -0.20582043  0.        ]\n",
      " [ 0.          0.          0.          1.        ]]\n",
      "-- [[-0.74481214  0.05065854  0.66534847  0.        ]\n",
      " [ 0.56737587  0.57287695  0.5915206   0.        ]\n",
      " [-0.35119723  0.81807439 -0.45542814  0.        ]\n",
      " [ 0.          0.          0.          1.        ]]\n",
      "-- [[ 0.00303827  0.23654855  0.97161492  0.        ]\n",
      " [-0.06586415 -0.96946227  0.23623043  0.        ]\n",
      " [ 0.99782397 -0.06471233  0.01263458  0.        ]\n",
      " [ 0.          0.          0.          1.        ]]\n",
      "-- [[-0.10703767 -0.99112615 -0.0788156   0.        ]\n",
      " [-0.30349875 -0.04291683  0.95186483  0.        ]\n",
      " [-0.94680064  0.12580583 -0.29621183  0.        ]\n",
      " [ 0.          0.          0.          1.        ]]\n",
      "-- [[-0.08658786  0.53189163 -0.84237393  0.        ]\n",
      " [-0.02842306  0.84388651  0.53576832  0.        ]\n",
      " [ 0.99583868  0.07033388 -0.05795234  0.        ]\n",
      " [ 0.          0.          0.          1.        ]]\n",
      "-- [[-0.61088454 -0.09974426  0.78541146  0.        ]\n",
      " [ 0.335171   -0.93133122  0.14241687  0.        ]\n",
      " [ 0.71727295  0.35024741  0.60236723  0.        ]\n",
      " [ 0.          0.          0.          1.        ]]\n",
      "-- [[-0.56818755 -0.60828335 -0.55421501  0.        ]\n",
      " [-0.8084773   0.2871039   0.51374684  0.        ]\n",
      " [-0.15338636  0.73997481 -0.65491213  0.        ]\n",
      " [ 0.          0.          0.          1.        ]]\n",
      "-- [[-0.63958885 -0.76550267  0.07022649  0.        ]\n",
      " [-0.00967984  0.09936834  0.99500364  0.        ]\n",
      " [-0.76865623  0.63571345 -0.07096482  0.        ]\n",
      " [ 0.          0.          0.          1.        ]]\n",
      "-- [[-0.72095755  0.49066186 -0.4893579   0.        ]\n",
      " [ 0.27063521 -0.45072726 -0.85064771  0.        ]\n",
      " [-0.63794733 -0.74571836  0.19216485  0.        ]\n",
      " [ 0.          0.          0.          1.        ]]\n",
      "-- [[-0.23151825 -0.87330005  0.42865642  0.        ]\n",
      " [-0.23839126  0.47812252  0.84532151  0.        ]\n",
      " [-0.94316961  0.09351941 -0.31888119  0.        ]\n",
      " [ 0.          0.          0.          1.        ]]\n",
      "-- [[ 0.26854121 -0.92060483 -0.28350019  0.        ]\n",
      " [-0.47512614 -0.38260809  0.79238009  0.        ]\n",
      " [-0.8379384  -0.07808835 -0.54014946  0.        ]\n",
      " [ 0.          0.          0.          1.        ]]\n",
      "-- [[-0.01129976 -0.93639672 -0.35076132  0.        ]\n",
      " [ 0.99056316  0.03743419 -0.13184574  0.        ]\n",
      " [ 0.13659038 -0.34894106  0.9271371   0.        ]\n",
      " [ 0.          0.          0.          1.        ]]\n",
      "-- [[-0.36383651  0.07455403  0.92847439  0.        ]\n",
      " [ 0.93083697  0.06563615  0.35949192  0.        ]\n",
      " [-0.03413991  0.99505457 -0.09327847  0.        ]\n",
      " [ 0.          0.          0.          1.        ]]\n",
      "-- [[-0.03350409 -0.99839361 -0.04569104  0.        ]\n",
      " [ 0.00769229 -0.04597295  0.99891307  0.        ]\n",
      " [-0.99940898  0.03311621  0.00922021  0.        ]\n",
      " [ 0.          0.          0.          1.        ]]\n",
      "-- [[ 0.95893352 -0.12430401 -0.25494119  0.        ]\n",
      " [ 0.2460516   0.81169065  0.52973286  0.        ]\n",
      " [ 0.14108547 -0.57070729  0.80894257  0.        ]\n",
      " [ 0.          0.          0.          1.        ]]\n",
      "-- [[ 0.14304149  0.79632872  0.58770715  0.        ]\n",
      " [ 0.37196603 -0.593535    0.71369285  0.        ]\n",
      " [ 0.91715888  0.11651941 -0.38110736  0.        ]\n",
      " [ 0.          0.          0.          1.        ]]\n",
      "-- [[-0.45921695 -0.82507158 -0.32920613  0.        ]\n",
      " [-0.51885002  0.54992898 -0.65450192  0.        ]\n",
      " [ 0.72105093 -0.12974977 -0.68062512  0.        ]\n",
      " [ 0.          0.          0.          1.        ]]\n",
      "-- [[-0.89567007  0.43126905 -0.10854556  0.        ]\n",
      " [-0.3972348  -0.66610091  0.63127973  0.        ]\n",
      " [ 0.19994912  0.60853643  0.76792172  0.        ]\n",
      " [ 0.          0.          0.          1.        ]]\n",
      "-- [[ 0.31217959 -0.18189898  0.9324466   0.        ]\n",
      " [-0.94913878 -0.01737753  0.31437811  0.        ]\n",
      " [-0.04098144 -0.98316366 -0.17807228  0.        ]\n",
      " [ 0.          0.          0.          1.        ]]\n",
      "-- [[-0.27714961 -0.25127635  0.92738789  0.        ]\n",
      " [ 0.6176929  -0.78590842 -0.02834505  0.        ]\n",
      " [ 0.73596439  0.56498509  0.37302583  0.        ]\n",
      " [ 0.          0.          0.          1.        ]]\n",
      "-- [[ 0.05274657  0.96904107  0.2411995   0.        ]\n",
      " [-0.28302506  0.24613859 -0.92699116  0.        ]\n",
      " [-0.95766101 -0.0193699   0.28724587  0.        ]\n",
      " [ 0.          0.          0.          1.        ]]\n",
      "-- [[ 0.37263684  0.31808266  0.87175983  0.        ]\n",
      " [-0.92780865  0.1097985   0.35653247  0.        ]\n",
      " [ 0.01768887 -0.94168345  0.33603481  0.        ]\n",
      " [ 0.          0.          0.          1.        ]]\n",
      "-- [[ 0.86479142 -0.05014341  0.49962129  0.        ]\n",
      " [-0.49190509  0.11518521  0.8629958   0.        ]\n",
      " [-0.10082253 -0.99207762  0.07494539  0.        ]\n",
      " [ 0.          0.          0.          1.        ]]\n",
      "-- [[-0.19391912  0.53003     0.82550807  0.        ]\n",
      " [-0.40480894  0.72326663 -0.55947753  0.        ]\n",
      " [-0.89360231 -0.44266644  0.07430565  0.        ]\n",
      " [ 0.          0.          0.          1.        ]]\n",
      "-- [[ 0.16228929 -0.61699173 -0.77005415  0.        ]\n",
      " [ 0.26660086  0.77879312 -0.56780741  0.        ]\n",
      " [ 0.95004535 -0.11314804  0.29088031  0.        ]\n",
      " [ 0.          0.          0.          1.        ]]\n",
      "-- [[ 0.55502529 -0.07899264  0.82807433  0.        ]\n",
      " [ 0.44449886  0.86960113 -0.2149759   0.        ]\n",
      " [-0.70311285  0.48739516  0.51776276  0.        ]\n",
      " [ 0.          0.          0.          1.        ]]\n",
      "-- [[-0.22319653 -0.18342451 -0.95736031  0.        ]\n",
      " [-0.11956308 -0.96956866  0.21363819  0.        ]\n",
      " [-0.96741303  0.16214825  0.19447357  0.        ]\n",
      " [ 0.          0.          0.          1.        ]]\n",
      "-- [[ 0.23965094 -0.90149315 -0.36038525  0.        ]\n",
      " [-0.7593175  -0.40535315  0.50904396  0.        ]\n",
      " [-0.60498294  0.15165397 -0.78166279  0.        ]\n",
      " [ 0.          0.          0.          1.        ]]\n",
      "-- [[ 0.15794508 -0.66126227 -0.73333864  0.        ]\n",
      " [ 0.37708028  0.72676879 -0.57412332  0.        ]\n",
      " [ 0.91261373 -0.18584759  0.36413852  0.        ]\n",
      " [ 0.          0.          0.          1.        ]]\n",
      "-- [[ 0.32126169 -0.63759554 -0.70018772  0.        ]\n",
      " [ 0.91283937  0.40527212  0.04978753  0.        ]\n",
      " [ 0.25202226 -0.65515374  0.71222072  0.        ]\n",
      " [ 0.          0.          0.          1.        ]]\n",
      "-- [[-0.87761683 -0.33812862 -0.33979073  0.        ]\n",
      " [-0.06693602 -0.61545315  0.78532604  0.        ]\n",
      " [-0.47466648  0.71195959  0.51749906  0.        ]\n",
      " [ 0.          0.          0.          1.        ]]\n",
      "-- [[ 0.97679792 -0.1175706  -0.17900553  0.        ]\n",
      " [-0.2130722  -0.44925205 -0.86762482  0.        ]\n",
      " [ 0.02158857  0.88563522 -0.4638795   0.        ]\n",
      " [ 0.          0.          0.          1.        ]]\n",
      "-- [[-0.77230692  0.63524676 -0.00189398  0.        ]\n",
      " [-0.27014253 -0.33112373 -0.90409075  0.        ]\n",
      " [-0.57494786 -0.6977239   0.42733631  0.        ]\n",
      " [ 0.          0.          0.          1.        ]]\n",
      "-- [[ 0.55181863  0.786314   -0.27786056  0.        ]\n",
      " [ 0.72453774 -0.28703508  0.62662263  0.        ]\n",
      " [ 0.41296642 -0.5471025  -0.72810548  0.        ]\n",
      " [ 0.          0.          0.          1.        ]]\n",
      "-- [[-0.63485212 -0.77205174 -0.02998157  0.        ]\n",
      " [-0.14264669  0.07898334  0.98661723  0.        ]\n",
      " [-0.7593515   0.63063281 -0.16027337  0.        ]\n",
      " [ 0.          0.          0.          1.        ]]\n",
      "-- [[ 0.99442506 -0.04816534 -0.09380244  0.        ]\n",
      " [ 0.10127576  0.18857572  0.97682261  0.        ]\n",
      " [-0.02936013 -0.9808768   0.1924024   0.        ]\n",
      " [ 0.          0.          0.          1.        ]]\n",
      "-- [[-0.72407879  0.44851789 -0.52396719  0.        ]\n",
      " [-0.21030142 -0.86707948 -0.45160435  0.        ]\n",
      " [-0.65687382 -0.21680609  0.72215781  0.        ]\n",
      " [ 0.          0.          0.          1.        ]]\n",
      "-- [[ 0.04225569  0.39870764  0.91610407  0.        ]\n",
      " [ 0.68166916  0.65885031 -0.31818771  0.        ]\n",
      " [-0.73043933  0.63792514 -0.24394653  0.        ]\n",
      " [ 0.          0.          0.          1.        ]]\n",
      "-- [[ 0.30641075  0.53646432  0.7863323   0.        ]\n",
      " [ 0.46103321 -0.80635004  0.37046996  0.        ]\n",
      " [ 0.832803    0.24900933 -0.49440219  0.        ]\n",
      " [ 0.          0.          0.          1.        ]]\n",
      "-- [[ 0.94901213 -0.0544051   0.31050936  0.        ]\n",
      " [ 0.27128317  0.64264899 -0.71652475  0.        ]\n",
      " [-0.16056593  0.76422664  0.62464088  0.        ]\n",
      " [ 0.          0.          0.          1.        ]]\n",
      "-- [[ 0.85391301 -0.43963661  0.27848198  0.        ]\n",
      " [-0.40196208 -0.21729561  0.88949936  0.        ]\n",
      " [-0.33054357 -0.87149427 -0.3622688   0.        ]\n",
      " [ 0.          0.          0.          1.        ]]\n",
      "-- [[-0.18546986 -0.90241175  0.38891382  0.        ]\n",
      " [ 0.51725011 -0.42616789 -0.74218141  0.        ]\n",
      " [ 0.83549581  0.06351343  0.54581388  0.        ]\n",
      " [ 0.          0.          0.          1.        ]]\n",
      "-- [[-0.38330649  0.88350101  0.26926215  0.        ]\n",
      " [ 0.91650909  0.39994176 -0.00759505  0.        ]\n",
      " [-0.11439941  0.24386998 -0.96303697  0.        ]\n",
      " [ 0.          0.          0.          1.        ]]\n",
      "-- [[ 0.68983312 -0.56635565  0.45096734  0.        ]\n",
      " [-0.71949151 -0.46714798  0.51391121  0.        ]\n",
      " [-0.08038803 -0.67898015 -0.72974223  0.        ]\n",
      " [ 0.          0.          0.          1.        ]]\n",
      "-- [[-0.00623456  0.2382713  -0.97117862  0.        ]\n",
      " [ 0.04153981  0.97042089  0.23781872  0.        ]\n",
      " [ 0.9991174  -0.03885988 -0.01594789  0.        ]\n",
      " [ 0.          0.          0.          1.        ]]\n",
      "-- [[-0.40515604  0.70856821 -0.57773669  0.        ]\n",
      " [ 0.73130272  0.63041671  0.26032884  0.        ]\n",
      " [ 0.5486756  -0.31702661 -0.77359499  0.        ]\n",
      " [ 0.          0.          0.          1.        ]]\n",
      "-- [[-0.25550673 -0.54920503  0.79566962  0.        ]\n",
      " [-0.24429318  0.83295557  0.49649356  0.        ]\n",
      " [-0.93543421 -0.06751922 -0.3469928   0.        ]\n",
      " [ 0.          0.          0.          1.        ]]\n",
      "-- [[-0.06862989 -0.21366995 -0.97449222  0.        ]\n",
      " [-0.81005739 -0.55821706  0.17944562  0.        ]\n",
      " [-0.58232032  0.80170996 -0.13477455  0.        ]\n",
      " [ 0.          0.          0.          1.        ]]\n",
      "-- [[-0.26023207  0.76784169 -0.58540449  0.        ]\n",
      " [-0.50037662 -0.62577334 -0.59835689  0.        ]\n",
      " [-0.82577388  0.13721107  0.54705632  0.        ]\n",
      " [ 0.          0.          0.          1.        ]]\n",
      "-- [[ 0.02999304 -0.78861511 -0.61415521  0.        ]\n",
      " [ 0.20058116  0.60668185 -0.7692232   0.        ]\n",
      " [ 0.97921786 -0.10011662  0.17637757  0.        ]\n",
      " [ 0.          0.          0.          1.        ]]\n",
      "-- [[ 0.25777978  0.63518709 -0.7280707   0.        ]\n",
      " [ 0.63719991  0.45468475  0.62228454  0.        ]\n",
      " [ 0.72630975 -0.62433896 -0.28753262  0.        ]\n",
      " [ 0.          0.          0.          1.        ]]\n",
      "-- [[ 0.74696856 -0.44856476  0.49074191  0.        ]\n",
      " [-0.64909288 -0.65180135  0.39221605  0.        ]\n",
      " [ 0.14393194 -0.61151014 -0.77803531  0.        ]\n",
      " [ 0.          0.          0.          1.        ]]\n"
     ]
    },
    {
     "data": {
      "text/plain": [
       "[<matplotlib.lines.Line2D at 0x150eb780>]"
      ]
     },
     "execution_count": 212,
     "metadata": {},
     "output_type": "execute_result"
    }
   ],
   "source": [
    "'接上个 cell： 测试一个旋转矩阵 list 统一左乘 R0.T 的结果，是否统一偏移了相同角度？'\n",
    "amode = 'sxyz'\n",
    "# eus_mat = []\n",
    "# for eu in eus:\n",
    "#     eus_mat.append(tf.euler_matrix(*eu, axes=amode))\n",
    "# eus_mat = np.asarray(eus_mat)\n",
    "eus_mat = np.asarray([tf.euler_matrix(*eu, axes=amode) for eu in eus])\n",
    "eus_mat2 = eus_mat.copy()\n",
    "\n",
    "em0 = eus_mat[0]\n",
    "for i, emi in enumerate(eus_mat):\n",
    "#     emi = np.dot(em0.T, emi) #local, wrong ×\n",
    "    eus_mat2[i] = np.dot(em0.T, emi)\n",
    "    print '--', eus_mat2[i]\n",
    "    pass\n",
    "\n",
    "eus2 = np.asarray([tf.euler_from_matrix(eum, axes=amode) for eum in eus_mat2])\n",
    "\n",
    "which_axis = 0\n",
    "figure('eus')\n",
    "plot(eus[:, which_axis])\n",
    "figure('eus2')\n",
    "plot(eus2[:, which_axis])\n"
   ]
  },
  {
   "cell_type": "code",
   "execution_count": 225,
   "metadata": {
    "collapsed": true
   },
   "outputs": [
    {
     "name": "stdout",
     "output_type": "stream",
     "text": [
      "[ 34.58623312  37.15855414 -16.01289549]\n",
      "[ 13.21917889  62.00910928 -43.21917889]\n",
      "[ 26.09741558  43.06254932  17.51217232]\n",
      "[  6.59354995e-15   7.00000000e+01   4.00000000e+01]\n"
     ]
    }
   ],
   "source": [
    "'(20,20,20).T * (60,60,60) 不等于 (40,40,40), 无论 sxyz, rxyz'\n",
    "'欧拉角是不可传递的'\n",
    "\n",
    "# e1 = np.asarray([np.pi/9]*3)\n",
    "# e2 = np.asarray([np.pi/3]*3)\n",
    "e1 = np.asarray([np.pi/9, np.pi/9, 0])\n",
    "e21 = np.asarray([np.pi/3, np.pi/3, 0])\n",
    "e22 = np.asarray([np.pi/3, np.pi/2, 0])\n",
    "\n",
    "m1 = tf.e2m(*e1)\n",
    "m21 = tf.e2m(*e21)\n",
    "m31 = np.dot(m1.T, m21)\n",
    "print np.array(tf.euler_from_matrix(m31))*180/np.pi\n",
    "m22 = tf.euler_matrix(*e22)\n",
    "m32 = np.dot(m1.T, m22)\n",
    "print np.array(tf.euler_from_matrix(m32))*180/np.pi\n",
    "\n",
    "m1 = tf.euler_matrix(*e1, axes='rxyz')\n",
    "m21 = tf.euler_matrix(*e21, axes='rxyz')\n",
    "m31 = np.dot(m1.T, m21)\n",
    "print np.array(tf.euler_from_matrix(m31, axes='rxyz'))*180/np.pi\n",
    "m22 = tf.euler_matrix(*e22, axes='rxyz')\n",
    "m32 = np.dot(m1.T, m22)\n",
    "print np.array(tf.euler_from_matrix(m32, axes='rxyz'))*180/np.pi\n"
   ]
  },
  {
   "cell_type": "code",
   "execution_count": 217,
   "metadata": {
    "collapsed": true
   },
   "outputs": [
    {
     "name": "stdout",
     "output_type": "stream",
     "text": [
      "[[ 0.06294725  0.40319798  0.91294525  0.        ]\n",
      " [ 0.75241845 -0.62014526  0.22200526  0.        ]\n",
      " [ 0.65567074  0.67294223 -0.34241004  0.        ]\n",
      " [ 0.          0.          0.          1.        ]]\n",
      "[[ 0.06294725  0.40319798  0.91294525  0.        ]\n",
      " [ 0.75241845 -0.62014526  0.22200526  0.        ]\n",
      " [ 0.65567074  0.67294223 -0.34241004  0.        ]\n",
      " [ 0.          0.          0.          1.        ]]\n",
      "True\n"
     ]
    }
   ],
   "source": [
    "'global/local; static/rotating frame 的关系； from 杜宇笔记'\n",
    "print tf.euler_matrix(10, 20, 30, axes='rxyz')\n",
    "print tf.euler_matrix(30, 20, 10, axes='szyx')\n",
    "print np.all(tf.euler_matrix(10, 20, 30, axes='rxyz')==tf.euler_matrix(30, 20, 10, axes='szyx'))\n"
   ]
  },
  {
   "cell_type": "code",
   "execution_count": null,
   "metadata": {
    "collapsed": false
   },
   "outputs": [],
   "source": []
  },
  {
   "cell_type": "code",
   "execution_count": null,
   "metadata": {
    "collapsed": false
   },
   "outputs": [],
   "source": []
  }
 ],
 "metadata": {
  "kernelspec": {
   "display_name": "Python 2",
   "language": "python",
   "name": "python2"
  },
  "language_info": {
   "codemirror_mode": {
    "name": "ipython",
    "version": 2
   },
   "file_extension": ".py",
   "mimetype": "text/x-python",
   "name": "python",
   "nbconvert_exporter": "python",
   "pygments_lexer": "ipython2",
   "version": "2.7.7"
  }
 },
 "nbformat": 4,
 "nbformat_minor": 0
}
