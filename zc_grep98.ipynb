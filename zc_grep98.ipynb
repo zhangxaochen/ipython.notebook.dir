{
 "metadata": {
  "name": "",
  "signature": "sha256:8b20e9318c6dec2180acbb81c657cbc707b5d66584c704da7735d7fd8fc327c7"
 },
 "nbformat": 3,
 "nbformat_minor": 0,
 "worksheets": [
  {
   "cells": [
    {
     "cell_type": "code",
     "collapsed": false,
     "input": [
      "%cd D:\\Administrator\\Desktop\n",
      "%pwd"
     ],
     "language": "python",
     "metadata": {},
     "outputs": [
      {
       "output_type": "stream",
       "stream": "stdout",
       "text": [
        "D:\\Administrator\\Desktop\n"
       ]
      },
      {
       "metadata": {},
       "output_type": "pyout",
       "prompt_number": 172,
       "text": [
        "u'D:\\\\Administrator\\\\Desktop'"
       ]
      }
     ],
     "prompt_number": 172
    },
    {
     "cell_type": "code",
     "collapsed": false,
     "input": [
      "import urllib2\n",
      "import re\n",
      "import os\n",
      "import sys\n",
      "import hashlib\n",
      "\n",
      "'boardID:'\n",
      "bid=509\n",
      "page=1\n",
      "base_url=r'http://www.cc98.org'\n",
      "# url=r'http://www.cc98.org/list.asp?boardid=%d&page=%d'%(bid, page)\n",
      "# r=urllib2.urlopen(url)\n",
      "# c=r.read()\n",
      "\n",
      "def fetch_page(url):\n",
      "    ur'\u6839\u636e url \u83b7\u53d6\u7f51\u9875\u6216\u672c\u5730\u7f13\u5b58'\n",
      "    \n",
      "    cache_dir = 'cache'\n",
      "    if not os.path.isdir(cache_dir):\n",
      "        os.makedirs(cache_dir)\n",
      "    \n",
      "    fn = hashlib.md5(url).hexdigest()\n",
      "    rel_path = os.path.join(cache_dir, fn)\n",
      "    '\u82e5\u672a\u7f13\u5b58\u8fc7\uff1a'\n",
      "    if not os.path.isfile(rel_path):\n",
      "        with open(rel_path, 'w') as f:\n",
      "            r = urllib2.urlopen(url)\n",
      "            f.write(r.read())\n",
      "    \n",
      "    return open(rel_path).read()\n",
      "    \n",
      "    \n",
      "def page_cnt(boardID):\n",
      "    url = r'http://www.cc98.org/list.asp?boardid=%d'%boardID\n",
      "    content = fetch_page(url)\n",
      "    \n",
      "    return int(re.search(r'<b>(\\d+)</b>\u9875', c).group(1))\n",
      "\n",
      "# ---------------test\n",
      "print page_cnt(509)"
     ],
     "language": "python",
     "metadata": {},
     "outputs": [
      {
       "output_type": "stream",
       "stream": "stdout",
       "text": [
        "93\n"
       ]
      }
     ],
     "prompt_number": 297
    },
    {
     "cell_type": "code",
     "collapsed": false,
     "input": [
      "from lxml import html, etree\n",
      "from urlparse import urljoin\n",
      "\n",
      "def get_posts(boardID, func='xpath'):\n",
      "    ur'\u83b7\u53d6 boardID \u7248\u9762\u6240\u6709\u5e16\u5b50\uff0c xpath or regex \u89e3\u6790\u9875\u9762'\n",
      "    posts=[]\n",
      "    for i in range(page_cnt(boardID)):\n",
      "        url = r'http://www.cc98.org/list.asp?boardid=%d&page=%d'%(boardID, i+1)\n",
      "        content = fetch_page(url)\n",
      "        if func == 'xpath':\n",
      "            rt = etree.HTML(content)\n",
      "            posts.extend([urljoin(base_url, i.attrib['href']) \n",
      "                          for i in rt.xpath('//a[contains(@id, \"topic_\") and contains(@href, \"boardID=%d\")]'%boardID)])\n",
      "        elif func == 'regex':\n",
      "            posts.extend([urljoin(base_url, lnk) for lnk in re.findall(r'dispbbs\\.asp\\?boardID=%d&ID=\\d+&page=\\d*'%boardID, content)])\n",
      "        else:\n",
      "            raise Exception, 'func should be \"xpath\" or \"regex\".'\n",
      "    return posts\n",
      "\n",
      "\n",
      "# ---------------test:\n",
      "boardID=509\n",
      "%timeit get_posts(boardID)\n",
      "%timeit get_posts(boardID, func='regex')\n",
      "print len(get_posts(boardID))\n",
      "print len(get_posts(boardID, func='regex'))"
     ],
     "language": "python",
     "metadata": {},
     "outputs": [
      {
       "output_type": "stream",
       "stream": "stdout",
       "text": [
        "1 loops, best of 3: 341 ms per loop\n",
        "10 loops, best of 3: 51.5 ms per loop"
       ]
      },
      {
       "output_type": "stream",
       "stream": "stdout",
       "text": [
        "\n",
        "1849"
       ]
      },
      {
       "output_type": "stream",
       "stream": "stdout",
       "text": [
        "\n",
        "1849"
       ]
      },
      {
       "output_type": "stream",
       "stream": "stdout",
       "text": [
        "\n"
       ]
      }
     ],
     "prompt_number": 298
    },
    {
     "cell_type": "code",
     "collapsed": false,
     "input": [
      "def contains(url, keyword, func = 'substr'):\n",
      "    ur'\u5224\u65ad keyword \u662f\u5426\u5728 url \u9875\u9762\u5185\u5bb9\u91cc\uff0c func = \"substr\" \u4e3a\u5b57\u7b26\u4e32\u67e5\u627e\uff0c \"regex\" \u4e3a\u6b63\u5219\u5339\u914d'\n",
      "    content = fetch_page(url)\n",
      "    if func == 'substr':\n",
      "        r'\u4e0d\u533a\u5206\u5927\u5c0f\u5199'\n",
      "        #return keyword.lower() in content.lower()\n",
      "        return keyword in content\n",
      "    elif func == 'regex':\n",
      "        return re.search(keyword, content) is not None\n",
      "    else:\n",
      "        raise Exception, 'func should be \"substr\" or \"regex\".'\n",
      "\n",
      "# ---------------test:\n",
      "print contains(r'http://www.cc98.org/dispbbs.asp?boardID=509&ID=4401397&page=', '\u77ed\u5b66\u671f')\n",
      "%timeit contains(r'http://www.cc98.org/dispbbs.asp?boardID=509&ID=4401397&page=', '\u77ed\u5b66\u671f')\n",
      "%timeit contains(r'http://www.cc98.org/dispbbs.asp?boardID=509&ID=4401397&page=', '\u77ed\u5b66\u671f', func = 'regex')"
     ],
     "language": "python",
     "metadata": {},
     "outputs": [
      {
       "output_type": "stream",
       "stream": "stdout",
       "text": [
        "True\n",
        "10000 loops, best of 3: 134 \u00b5s per loop"
       ]
      },
      {
       "output_type": "stream",
       "stream": "stdout",
       "text": [
        "\n",
        "10000 loops, best of 3: 137 \u00b5s per loop"
       ]
      },
      {
       "output_type": "stream",
       "stream": "stdout",
       "text": [
        "\n"
       ]
      }
     ],
     "prompt_number": 300
    },
    {
     "cell_type": "code",
     "collapsed": false,
     "input": [
      "def grep98(boardID, keyword):\n",
      "    ur'''\u5728 boardID \u7248\u9762\uff0c \u641c\u7d22 keyword'''\n",
      "    return [lnk for lnk in get_posts(boardID, func = 'regex') if contains(lnk, keyword)]\n",
      "\n",
      "# ---------------test:\n",
      "boardID=509\n",
      "grep98(boardID, '\u77ed\u5b66\u671f')"
     ],
     "language": "python",
     "metadata": {},
     "outputs": [
      {
       "metadata": {},
       "output_type": "pyout",
       "prompt_number": 301,
       "text": [
        "['http://www.cc98.org/dispbbs.asp?boardID=509&ID=4223610&page=1',\n",
        " 'http://www.cc98.org/dispbbs.asp?boardID=509&ID=4222721&page=1',\n",
        " 'http://www.cc98.org/dispbbs.asp?boardID=509&ID=4401397&page=1',\n",
        " 'http://www.cc98.org/dispbbs.asp?boardID=509&ID=4364986&page=1',\n",
        " 'http://www.cc98.org/dispbbs.asp?boardID=509&ID=4352864&page=3',\n",
        " 'http://www.cc98.org/dispbbs.asp?boardID=509&ID=4226373&page=13',\n",
        " 'http://www.cc98.org/dispbbs.asp?boardID=509&ID=4223648&page=13',\n",
        " 'http://www.cc98.org/dispbbs.asp?boardID=509&ID=4218945&page=13',\n",
        " 'http://www.cc98.org/dispbbs.asp?boardID=509&ID=4213203&page=13',\n",
        " 'http://www.cc98.org/dispbbs.asp?boardID=509&ID=4187844&page=15',\n",
        " 'http://www.cc98.org/dispbbs.asp?boardID=509&ID=4182615&page=15',\n",
        " 'http://www.cc98.org/dispbbs.asp?boardID=509&ID=4187328&page=15',\n",
        " 'http://www.cc98.org/dispbbs.asp?boardID=509&ID=4185826&page=15',\n",
        " 'http://www.cc98.org/dispbbs.asp?boardID=509&ID=4105485&page=18',\n",
        " 'http://www.cc98.org/dispbbs.asp?boardID=509&ID=4105634&page=20',\n",
        " 'http://www.cc98.org/dispbbs.asp?boardID=509&ID=3969162&page=29',\n",
        " 'http://www.cc98.org/dispbbs.asp?boardID=509&ID=3970101&page=29',\n",
        " 'http://www.cc98.org/dispbbs.asp?boardID=509&ID=3956755&page=30',\n",
        " 'http://www.cc98.org/dispbbs.asp?boardID=509&ID=3949190&page=31',\n",
        " 'http://www.cc98.org/dispbbs.asp?boardID=509&ID=3949142&page=31',\n",
        " 'http://www.cc98.org/dispbbs.asp?boardID=509&ID=3929096&page=33',\n",
        " 'http://www.cc98.org/dispbbs.asp?boardID=509&ID=3203506&page=42',\n",
        " 'http://www.cc98.org/dispbbs.asp?boardID=509&ID=3767134&page=49',\n",
        " 'http://www.cc98.org/dispbbs.asp?boardID=509&ID=3710273&page=54',\n",
        " 'http://www.cc98.org/dispbbs.asp?boardID=509&ID=3698259&page=56',\n",
        " 'http://www.cc98.org/dispbbs.asp?boardID=509&ID=3705101&page=56',\n",
        " 'http://www.cc98.org/dispbbs.asp?boardID=509&ID=3673562&page=59',\n",
        " 'http://www.cc98.org/dispbbs.asp?boardID=509&ID=3566376&page=73',\n",
        " 'http://www.cc98.org/dispbbs.asp?boardID=509&ID=3273463&page=75',\n",
        " 'http://www.cc98.org/dispbbs.asp?boardID=509&ID=3404061&page=86',\n",
        " 'http://www.cc98.org/dispbbs.asp?boardID=509&ID=3375322&page=87',\n",
        " 'http://www.cc98.org/dispbbs.asp?boardID=509&ID=3373369&page=87',\n",
        " 'http://www.cc98.org/dispbbs.asp?boardID=509&ID=3338136&page=87',\n",
        " 'http://www.cc98.org/dispbbs.asp?boardID=509&ID=2710168&page=90',\n",
        " 'http://www.cc98.org/dispbbs.asp?boardID=509&ID=2261493&page=92',\n",
        " 'http://www.cc98.org/dispbbs.asp?boardID=509&ID=2155425&page=92']"
       ]
      }
     ],
     "prompt_number": 301
    },
    {
     "cell_type": "code",
     "collapsed": false,
     "input": [
      "%timeit -n10 re.search(r'<b>(\\d+)</b>\u9875', c).group(1)\n",
      "%timeit -n10 re.search(r'(?<=<b>)\\d+(?=</b>\u9875)', c).group()\n",
      "%timeit -n10 re.search(r'\\d+(?=</b>\u9875)', c).group()\n",
      "rt=etree.HTML(c)\n",
      "%timeit -n10 rt.xpath(ur'//b[following-sibling::node()[1] = \"\u9875 \u6bcf\u9875\"]')[0].text"
     ],
     "language": "python",
     "metadata": {},
     "outputs": [
      {
       "output_type": "stream",
       "stream": "stdout",
       "text": [
        "10 loops, best of 3: 106 \u00b5s per loop\n",
        "10 loops, best of 3: 817 \u00b5s per loop\n",
        "10 loops, best of 3: 1.6 ms per loop"
       ]
      },
      {
       "output_type": "stream",
       "stream": "stdout",
       "text": [
        "\n",
        "10 loops, best of 3: 64.4 \u00b5s per loop\n"
       ]
      },
      {
       "metadata": {},
       "output_type": "pyout",
       "prompt_number": 165,
       "text": [
        "'93'"
       ]
      }
     ],
     "prompt_number": 165
    },
    {
     "cell_type": "code",
     "collapsed": false,
     "input": [],
     "language": "python",
     "metadata": {},
     "outputs": []
    }
   ],
   "metadata": {}
  }
 ]
}