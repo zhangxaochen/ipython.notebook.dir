{
 "metadata": {
  "name": "StepCounting"
 },
 "nbformat": 3,
 "nbformat_minor": 0,
 "worksheets": [
  {
   "cells": [
    {
     "cell_type": "code",
     "collapsed": false,
     "input": [
      "'''\n",
      "\u5904\u7406\u7684\u662f\u65e7xml\u683c\u5f0f\u3001\u5df2\u63d2\u503c\u56fa\u5b9a\u9891\u7387\u4e4b\u540e\u7684\u6570\u636e\n",
      "'''\n",
      "\n",
      "%pylab\n",
      "%cd\n",
      "%cd E:\\workspace\\PyCeshi\\curveViewer\n",
      "import os, sys\n",
      "\n",
      "from stepcounting.scUtils import *\n",
      "\n",
      "#\u65e7\u683c\u5f0f\n",
      "fname=r'D:\\Documents\\Desktop\\step-counting-data\\old-linear\\ZC30fast_a9_0.xml'\n",
      "fname=r'D:\\Documents\\Desktop\\step-counting-data\\old-linear\\HY60slow_a9_1.xml'\n",
      "\n",
      "#d=parseXml2dic(fname)\n",
      "#totalAcc=(d[Keys.kAx]**2+d[Keys.kAy]**2+d[Keys.kAz]**2)**0.5\n",
      "#accWf=getAccWf(d)\n",
      "\n",
      "#plot(accWf[2]) #\u221a"
     ],
     "language": "python",
     "metadata": {},
     "outputs": [
      {
       "output_type": "stream",
       "stream": "stdout",
       "text": [
        "\n",
        "Welcome to pylab, a matplotlib-based Python environment [backend: Qt4Agg].\n",
        "For more information, type 'help(pylab)'.\n"
       ]
      },
      {
       "output_type": "stream",
       "stream": "stdout",
       "text": [
        "C:\\Users\\zhangxaochen\n",
        "E:\\workspace\\PyCeshi\\curveViewer\n"
       ]
      }
     ],
     "prompt_number": 1
    },
    {
     "cell_type": "code",
     "collapsed": false,
     "input": [
      " #\u8bfb threshold label \u6587\u4ef6\uff0c \u83b7\u5f97\uff08left, right\uff09\u533a\u95f4\u5e8f\u5217\n",
      "def parseThLabelFile(fname):\n",
      "    \n",
      "    with open(fname, 'r') as f:\n",
      "        lines=f.readlines()\n",
      "    return array([map(int, l.split()) for l in lines])\n",
      "    pass\n",
      "\n",
      "#\u82e5 pairs != [], \u6839\u636e\u624b\u52a8\u6807\u5b9a\u7684 pairs\uff0c \u4ece data \u83b7\u53d6 (th, freq) \u70b9\u96c6\n",
      "#\u82e5 pairs == [], data\u5fc5\u987b\u662f\u6ee4\u6ce2\u540e\u7684\u6570\u636e\u3002\u4f4e\u901a\u6ee4\u6ce2\u4e4b\u540e\uff0c\u53ea\u5269\u4e00\u4e2a\u5cf0\u503c\uff0c\u81ea\u52a8 label\n",
      "def getThFreqPointSet(data, pairs=[], baseTh=1.000, debugMode=True):\n",
      "    res=[]\n",
      "    if pairs and len(pairs):\n",
      "        minX=maxX=0\n",
      "        for p in pairs:\n",
      "            #print p[1]-p[0]\n",
      "            minVal=maxVal=data[p[0]]\n",
      "            for i in range(p[0], p[1]+1):\n",
      "                if data[i]>=maxVal:\n",
      "                    maxVal=data[i]\n",
      "                    maxX=i\n",
      "                elif data[i]<=minVal:\n",
      "                    minVal=data[i]\n",
      "                    minX=i\n",
      "            res.append([1./(minX-maxX), maxVal-minVal])\n",
      "        res=array(res).T\n",
      "        #pass\n",
      "    else:\n",
      "        if debugMode:\n",
      "            plot(data, 'b')\n",
      "        minX=maxX=0\n",
      "        maxVal=minVal=data[0]\n",
      "        for i, v in enumerate(data):\n",
      "            if i<1 or i>len(data)-2:\n",
      "                continue\n",
      "            #max:\n",
      "            if v>data[i-1] and v>data[i+1]:\n",
      "                maxVal=v\n",
      "                maxX=i\n",
      "            if v<data[i-1] and v<data[i+1]:\n",
      "                minVal=v\n",
      "                minX=i\n",
      "                #\u5373\uff0c\u8981\u914d\u5408\u6307\u5b9a data \u66f2\u7ebf\u5f00\u59cb\u65f6\u4e0a\u5347\n",
      "                assert minX>maxX and maxVal>minVal, 'minX>maxX and maxVal>minVal'\n",
      "                #print len(range(maxX, minX+1)), len(data[maxX:minX+1])\n",
      "                \n",
      "                #\u4eba\u4e3a\u9608\u503c\uff1a\n",
      "                if maxVal-minVal>baseTh:\n",
      "                    if debugMode:\n",
      "                        #print range(maxX, minX+1), data[maxX:minX+1], maxX, minX\n",
      "                        plot(range(maxX, minX+1), data[maxX:minX+1], 'r')\n",
      "                    res.append([1./(minX-maxX), maxVal-minVal])\n",
      "                    \n",
      "        res=array(res).T\n",
      "        pass\n",
      "    return res\n",
      "\n",
      "#pairs=parseThLabelFile(thFname)\n",
      "#plot(th_freq[0], th_freq[1], 'ro')"
     ],
     "language": "python",
     "metadata": {},
     "outputs": [],
     "prompt_number": 2
    },
    {
     "cell_type": "code",
     "collapsed": false,
     "input": [
      "from scipy.spatial import ConvexHull, convex_hull_plot_2d\n",
      "\n",
      "#\u627e\u6700\u4f4e\u70b9\n",
      "#find convex hull && infimum; RETURN params of infimum alpha and beta\n",
      "def getInfimumParams(pts, doPlot=False):\n",
      "    h=ConvexHull(pts)\n",
      "    #for s in h.simplices:\n",
      "        #plot(pts[s,0], pts[s,1])\n",
      "    \n",
      "    #\u6700\u4f4e\u70b9idx\n",
      "    minIdx=argmin(pts[:,1])\n",
      "    #print h.simplices\n",
      "    \n",
      "    #\u6700\u4f4e\u70b9\u4e24\u4e2a\u76f8\u90bb\u70b9 idx\n",
      "    adjIdxs=[]\n",
      "    for s in h.simplices:\n",
      "        #s\u662f\u51f8\u5305\u8fb9\u754c\u4e24\u4e2a\u7aef\u70b9idx\n",
      "        if (s==minIdx).any():\n",
      "            #print where(s!=minIdx)[0][0] #\u4e0d\u5927\u61c2 [0][0]\n",
      "            adjIdxs.append(s[where(s!=minIdx)[0][0]])\n",
      "    \n",
      "    #\u6c42\u4e24\u6761\u4e0b\u786e\u754c\u76f4\u7ebf\u659c\u7387\n",
      "    vecs=pts[adjIdxs]-pts[minIdx]\n",
      "    tans=vecs[:,1]*1./vecs[:,0]\n",
      "    #print('tans:', tans)\n",
      "    #\u53d6\u659c\u7387abs\u5c0f\u7684\u90a3\u4e2a\uff0c\u5373\u5e73\u7f13\u7684\u90a3\u6761          \u00d7\u9519\n",
      "    #which=argmin(abs(tans))\n",
      "    #alpha=tans[which]\n",
      "    \n",
      "    #\u5e94\u8be5\u662f\uff1a \u82e5 [+,+], \u53d6 tan\u5c0f\u7684\uff1b \u82e5[-,-]\uff0c \u62a5\u9519\uff1b \u82e5 [+,-], \u53d6\u6b63\u7684\n",
      "    if (tans>=0).all():\n",
      "        which=argmin(tans)\n",
      "    elif (tans<0).all():\n",
      "        print('tans are both negative!!!')\n",
      "        #raise ValueError, u'tans could not be both negative!!!'\n",
      "        #\u8fd9\u4e2a which \u5176\u5b9e\u6ca1\u7528\uff0c\u53ea\u662f\u7528\u6765\u753b\u7ebf\uff1a\n",
      "        which=argmax(tans)\n",
      "    else:\n",
      "        # [+,-]\n",
      "        which=where(tans>=0)[0][0]\n",
      "    alpha=tans[which]\n",
      "    alpha2=alpha\n",
      "    if alpha2==inf or alpha<0:\n",
      "        alpha2=0\n",
      "    \n",
      "\n",
      "    if doPlot:\n",
      "        convex_hull_plot_2d(h)\n",
      "\n",
      "        tmp=array([pts[adjIdxs[which]], pts[minIdx]]).T\n",
      "        #print('two endpoints:', tmp)\n",
      "        plot(tmp[0], tmp[1], 'r-', lw=3)\n",
      "        if alpha==inf or alpha<0:\n",
      "            axhline(pts[minIdx][1], c='m', xmin=-1, xmax=10, lw=3)\n",
      "\n",
      "    beta=pts[minIdx][1]-pts[minIdx][0]*alpha2\n",
      "    #print 'alpha, beta', alpha, beta\n",
      "    return alpha2, beta\n",
      "    pass\n",
      "\n",
      "#pts=array([th_freq[0], th_freq[1]]).T\n",
      "#alpha, beta=getInfimumParams(pts)\n",
      "#print('alpha, beta:', alpha, beta)\n"
     ],
     "language": "python",
     "metadata": {},
     "outputs": [],
     "prompt_number": 3
    },
    {
     "cell_type": "code",
     "collapsed": false,
     "input": [
      "doLpf=False\n",
      "baseTh=0\n",
      "compensation=0\n",
      "varTh=0.5\n",
      "numtaps=10\n",
      "\n",
      "#dataSet: 1D np.ndarray \n",
      "def countStep(dataSet, alpha, beta, debugMode):\n",
      "    if debugMode:\n",
      "        #figure()\n",
      "        plot(dataSet, 'b')\n",
      "        plot(Utils.getMmvarPrev(dataSet, LPF.WINSZ), 'y')\n",
      "    \n",
      "    k=0\n",
      "    max=dataSet[k]\n",
      "    i=k+1\n",
      "    steps=0\n",
      "    start=False\n",
      "    for i, v in enumerate(dataSet):\n",
      "        #\u4ece i=1 \u5f00\u59cb\uff1a\n",
      "        if i==0 or i==len(dataSet)-1:\n",
      "            continue\n",
      "#        if i<LPF.WINSZ-1:\n",
      "#            va=0\n",
      "#        else:\n",
      "#            va=np.var(dataSet[i-LPF.WINSZ+1: i])\n",
      "#        if va<0.015:\n",
      "#            continue\n",
      "        if Utils.maxMinVar(dataSet[i: i+numtaps])<varTh and \\\n",
      "            Utils.maxMinVar(dataSet[i-numtaps if i>=numtaps else 0: i])<varTh:\n",
      "            #if i<80:\n",
      "             #   print i, 'if Utils.maxMinVar(dataSet[i: i+LPF.WINSZ])<varTh:'\n",
      "            #if not start:\n",
      "             #   start\n",
      "            continue\n",
      "        #if i<80:\n",
      "         #   print i, k, '--------------'\n",
      "        th=alpha/(i-k)+beta\n",
      "        #v \u5373\u8bba\u6587\u4e2d accZ(i)\n",
      "        #if i!=999:\n",
      "         #   print 'i, v, dataSet[i+1], max-v, th:', i, v, dataSet[i+1], max-v, th\n",
      "        #\u8fbe\u5230\u9608\u503c\uff0c\u8ba1\u4e00\u6b65\uff1a\n",
      "        if v<dataSet[i+1] and max-v>=th and max-v>baseTh:\n",
      "            if debugMode:\n",
      "                c='m'\n",
      "                w=2\n",
      "                if i-k<3:\n",
      "                    c='r'\n",
      "                    w=2\n",
      "                plot(range(k, i+1), dataSet[k: i+1], c, linewidth=w)\n",
      "                plot(k, dataSet[k], 'rx')\n",
      "                if steps%3==0:\n",
      "                    annotate(steps, xy=(k, dataSet[k]), xycoords='data', xytext=(0,20), textcoords='offset points', \\\n",
      "                        bbox = dict(boxstyle = 'round,pad=0.5', fc = 'yellow', alpha = 0.5), \\\n",
      "                        fontsize=12, arrowprops=dict(arrowstyle='->', connectionstyle='arc3, rad=.2'))\n",
      "                #print ('dataSet[k: i]:', i-k, k, i, dataSet[k:i])\n",
      "                pass\n",
      "            steps+=1\n",
      "            k=i\n",
      "            max=v\n",
      "        else:\n",
      "            if v>max:\n",
      "                #if i<80:\n",
      "                 #   print i, k,'if v>max:'\n",
      "                max=v\n",
      "                k=i\n",
      "    return steps\n",
      "    pass\n",
      "\n",
      "def getThFreqFromDataFile(fname, look=0, baseTh=1.000, debugMode=False, labelManually=True):\n",
      "    d=parseXml2dic(fname)\n",
      "    if look==0:\n",
      "        accWf=getAccWf(d)\n",
      "        data=accWf[2]\n",
      "    elif look==1:\n",
      "        data=(d[Keys.kAx]**2+d[Keys.kAy]**2+d[Keys.kAz]**2)**0.5\n",
      "\n",
      "    if labelManually:\n",
      "        labelFname=fname.replace('.xml', '.x')\n",
      "        pairs=parseThLabelFile(labelFname)\n",
      "        #print pairs\n",
      "        if debugMode:\n",
      "            print(\"pairs [1]-[0]:\", pairs[:,1]-pairs[:,0])\n",
      "    else:\n",
      "        pairs=None\n",
      "    \n",
      "    if doLpf:\n",
      "        lpf=LPF()\n",
      "        #data=lpf.lpfScipy(data)\n",
      "        data=lpf.lpfTest(data, numtaps)\n",
      "        #data=data[1010:1040]\n",
      "    th_freq=getThFreqPointSet(data, pairs, baseTh, debugMode)\n",
      "    ##print(data.shape, pairs, baseTh, debugMode)\n",
      "    ##plot(th_freq[0], th_freq[1], 'ro')\n",
      "    return th_freq\n",
      "\n",
      "#\u6279\u5904\u7406xml\u6587\u4ef6\uff0c\u5f97\u5230\u6240\u6709 point set\n",
      "def getThFreqFromDataFolder(folderPath, look=0, baseTh=1.000, debugMode=False, labelManually=True):\n",
      "    res=array([[],[]])\n",
      "    paths=glob(os.path.join(folderPath, '*.xml'))\n",
      "    #print [os.path.basename(path) for path in paths]\n",
      "    for path in paths:\n",
      "        th_freq=getThFreqFromDataFile(path, look, baseTh, debugMode, labelManually)\n",
      "        if debugMode:\n",
      "            plot(th_freq[0], th_freq[1], 'o', label=os.path.basename(path))\n",
      "        #res[0].extend(th_freq[0])\n",
      "        #print('res.shape, th_freq.shape:', res.shape, th_freq.shape, path)\n",
      "        res=np.append(res, th_freq, axis=1)\n",
      "        #print res.shape\n",
      "    legend()\n",
      "    return res\n",
      "    pass\n",
      "\n",
      "\n",
      "#fname \u53ef\u4ee5\u662f fileName, \u4e5f\u53ef\u4ee5\u662f folderName\n",
      "#look: 0, look at accWF[2] (Z axis); 1, look at totalAccBF\n",
      "def stepCountingTrain(fname, look=0, baseTh=1.0, debugMode=False, labelManually=True):\n",
      "    if os.path.isdir(fname):\n",
      "        func=getThFreqFromDataFolder\n",
      "    else:\n",
      "        func=getThFreqFromDataFile\n",
      "    th_freq=func(fname, look, baseTh, debugMode, labelManually)\n",
      "    pts=array([th_freq[0], th_freq[1]]).T\n",
      "    return getInfimumParams(pts, doPlot=debugMode)\n",
      "    pass\n",
      "\n",
      "#fname \u53ef\u4ee5\u662f fileName, \u4e5f\u53ef\u4ee5\u662f folderName\n",
      "#return steps counted from file 'fname'\n",
      "def stepCountingTest(fname, alpha, beta, look=0, debugMode=False):\n",
      "    lpf=LPF()\n",
      "    if os.path.isdir(fname):\n",
      "        paths=glob(os.path.join(fname, '*.xml'))\n",
      "        pass\n",
      "    else:\n",
      "        paths=[fname]\n",
      "    \n",
      "    #steps=[]\n",
      "    steps={}\n",
      "    for path in paths:\n",
      "        d=parseXml2dic(path)\n",
      "        if look==0:\n",
      "            accWf=getAccWf(d)\n",
      "            data=accWf[2]\n",
      "        elif look==1:\n",
      "            data=(d[Keys.kAx]**2+d[Keys.kAy]**2+d[Keys.kAz]**2)**0.5\n",
      "        \n",
      "        if doLpf:\n",
      "            #data=lpf.lpfScipy(data)\n",
      "            data=lpf.lpfTest(data, numtaps)\n",
      "        s=countStep(data, alpha, beta, debugMode)\n",
      "        s+=compensation\n",
      "        #steps.append(s)\n",
      "        steps[os.path.basename(path)]=s\n",
      "    return steps\n",
      "    pass\n",
      "\n",
      "#print countStep(accWf[2], alpha, beta)\n",
      "#print countStep(totalAcc, alpha, beta)"
     ],
     "language": "python",
     "metadata": {},
     "outputs": [],
     "prompt_number": 25
    },
    {
     "cell_type": "code",
     "collapsed": false,
     "input": [
      "#\u5355\u4e00xml\u8bad\u7ec3\uff0c\u5e76\u5bf9\u81ea\u5df1\u6d4b\u8bd5\n",
      "train_fname=r'D:\\Documents\\Desktop\\step-counting-data\\old-linear\\segmented\\ZC30fast_a9_6.xml'\n",
      "train_fname=r'D:\\Documents\\Desktop\\traces\\oldxml\\old-linear\\segmented\\p26.1_Female_20-29_150-159cm_Backpack.xml'\n",
      "train_fname=r'D:\\Documents\\Desktop\\step-counting-data\\old-linear\\segmented\\HY60fast_a9_0.xml'\n",
      "#train_fname=r'D:\\Documents\\Desktop\\shit\\old-linear\\ZC_a9_5.xml'\n",
      "\n",
      "test_fname=r'D:\\Documents\\Desktop\\step-counting-data\\old-linear\\segmented\\ZC30fast_a9_6.xml'\n",
      "test_fname=r'D:\\Documents\\Desktop\\traces\\oldxml\\old-linear\\segmented\\p26.1_Female_20-29_150-159cm_Backpack.xml'\n",
      "test_fname=train_fname\n",
      "\n",
      "#\u53d1\u73b0\u4f3c\u4e4elook=1 \u6bd4\u8f83\u597d\n",
      "look=01\n",
      "baseTh=1.0#.5\n",
      "numtaps=10\n",
      "doLpf=True\n",
      "compensation=1\n",
      "varTh=0.5\n",
      "\n",
      "a, b=stepCountingTrain(train_fname, look, baseTh, debugMode=True, labelManually=False)\n",
      "a,b=0.1, 1.0\n",
      "steps=stepCountingTest(test_fname, a, b, look, debugMode=True)\n",
      "print steps, a, b"
     ],
     "language": "python",
     "metadata": {},
     "outputs": [
      {
       "output_type": "stream",
       "stream": "stdout",
       "text": [
        "{'HY60fast_a9_0.xml': 61} 0.1 1.0\n"
       ]
      }
     ],
     "prompt_number": 26
    },
    {
     "cell_type": "code",
     "collapsed": false,
     "input": [
      "#\u8f6e\u6362\u5355\u4e00xml\u8bad\u7ec3\uff0c \u5bf9\u6240\u6709xml\u6d4b\u8bd5\n",
      "from glob import glob\n",
      "dir=r'D:\\Documents\\Desktop\\step-counting-data\\old-linear\\segmented\\shit'\n",
      "dir=r'D:\\Documents\\Desktop\\step-counting-data\\old-linear\\segmented\\fast'\n",
      "#files=glob(os.path.join(dir, '*.xml'))\n",
      "os.chdir(dir)\n",
      "files=glob('*.xml')\n",
      "#\u53ea\u62ff\u6b63\u5e38 'fast' \u6587\u4ef6\u505a\u6d4b\u8bd5\uff1a\n",
      "files=[f for f in files if 'fast' in f]\n",
      "print files\n",
      "look=01\n",
      "for train_f in files:\n",
      "    print train_f+'\\t',\n",
      "    a, b=stepCountingTrain(train_f, look, baseTh, debugMode=False, labelManually=False)\n",
      "    for test_f in files:\n",
      "        steps=stepCountingTest(test_f, a, b, look, debugMode=False)\n",
      "        print steps, #a, b\n",
      "    print\n"
     ],
     "language": "python",
     "metadata": {},
     "outputs": [
      {
       "output_type": "stream",
       "stream": "stdout",
       "text": [
        "['ZC30fast_a9_0.xml', 'ZC30fast_a9_1.xml', 'ZC30fast_a9_2.xml', 'ZC30fast_a9_3.xml', 'ZC30fast_a9_4.xml', 'ZC30fast_a9_5.xml', 'ZC30fast_a9_6.xml', 'ZC30fast_a9_7.xml', 'ZC30fast_a9_8.xml', 'ZC60fast_a9_0.xml', 'ZC60fast_a9_1.xml', 'ZC60fast_a9_2.xml', 'ZC60fast_a9_3.xml', 'ZC60fast_a9_4.xml']\n",
        "ZC30fast_a9_0.xml\t[30] "
       ]
      },
      {
       "output_type": "stream",
       "stream": "stdout",
       "text": [
        "[30] "
       ]
      },
      {
       "output_type": "stream",
       "stream": "stdout",
       "text": [
        "[30] [30] "
       ]
      },
      {
       "output_type": "stream",
       "stream": "stdout",
       "text": [
        "[30] [30] [30] "
       ]
      },
      {
       "output_type": "stream",
       "stream": "stdout",
       "text": [
        "[30] [30] "
       ]
      },
      {
       "output_type": "stream",
       "stream": "stdout",
       "text": [
        "[60] [60] "
       ]
      },
      {
       "output_type": "stream",
       "stream": "stdout",
       "text": [
        "[60] [60] "
       ]
      },
      {
       "output_type": "stream",
       "stream": "stdout",
       "text": [
        "[60]\n",
        "ZC30fast_a9_1.xml\t[29] [30] "
       ]
      },
      {
       "output_type": "stream",
       "stream": "stdout",
       "text": [
        "[29] [30] [30] [29] "
       ]
      },
      {
       "output_type": "stream",
       "stream": "stdout",
       "text": [
        "[28] [30] [28] "
       ]
      },
      {
       "output_type": "stream",
       "stream": "stdout",
       "text": [
        "[59] [59] "
       ]
      },
      {
       "output_type": "stream",
       "stream": "stdout",
       "text": [
        "[59] [58] "
       ]
      },
      {
       "output_type": "stream",
       "stream": "stdout",
       "text": [
        "[59]\n",
        "ZC30fast_a9_2.xml\t[29] [30] "
       ]
      },
      {
       "output_type": "stream",
       "stream": "stdout",
       "text": [
        "[30] [30] [30] "
       ]
      },
      {
       "output_type": "stream",
       "stream": "stdout",
       "text": [
        "[30] [30] [30] [28] "
       ]
      },
      {
       "output_type": "stream",
       "stream": "stdout",
       "text": [
        "[59] [59] "
       ]
      },
      {
       "output_type": "stream",
       "stream": "stdout",
       "text": [
        "[59] [60] [59]\n",
        "ZC30fast_a9_3.xml\t[29]"
       ]
      },
      {
       "output_type": "stream",
       "stream": "stdout",
       "text": [
        " [30] [30] [30] [30] "
       ]
      },
      {
       "output_type": "stream",
       "stream": "stdout",
       "text": [
        "[30] [29] [30] [29] "
       ]
      },
      {
       "output_type": "stream",
       "stream": "stdout",
       "text": [
        "[59] [59] "
       ]
      },
      {
       "output_type": "stream",
       "stream": "stdout",
       "text": [
        "[59] [60] [60]\n",
        "ZC30fast_a9_4.xml\t[29]"
       ]
      },
      {
       "output_type": "stream",
       "stream": "stdout",
       "text": [
        " [30] [29] [29] [30] "
       ]
      },
      {
       "output_type": "stream",
       "stream": "stdout",
       "text": [
        "[29] [28] [30] [28] "
       ]
      },
      {
       "output_type": "stream",
       "stream": "stdout",
       "text": [
        "[59] [59] "
       ]
      },
      {
       "output_type": "stream",
       "stream": "stdout",
       "text": [
        "[59] [58] "
       ]
      },
      {
       "output_type": "stream",
       "stream": "stdout",
       "text": [
        "[59]\n",
        "ZC30fast_a9_5.xml\t[31] [30] "
       ]
      },
      {
       "output_type": "stream",
       "stream": "stdout",
       "text": [
        "[31] [30] [30] [31] "
       ]
      },
      {
       "output_type": "stream",
       "stream": "stdout",
       "text": [
        "[31] [31] [32] "
       ]
      },
      {
       "output_type": "stream",
       "stream": "stdout",
       "text": [
        "[60] [60] "
       ]
      },
      {
       "output_type": "stream",
       "stream": "stdout",
       "text": [
        "[61] [61] "
       ]
      },
      {
       "output_type": "stream",
       "stream": "stdout",
       "text": [
        "[61]\n",
        "ZC30fast_a9_6.xml\t[29] [30] "
       ]
      },
      {
       "output_type": "stream",
       "stream": "stdout",
       "text": [
        "[30] [30] [30] [30] "
       ]
      },
      {
       "output_type": "stream",
       "stream": "stdout",
       "text": [
        "[30] [30] [28] "
       ]
      },
      {
       "output_type": "stream",
       "stream": "stdout",
       "text": [
        "[59] [59] "
       ]
      },
      {
       "output_type": "stream",
       "stream": "stdout",
       "text": [
        "[59] [60] "
       ]
      },
      {
       "output_type": "stream",
       "stream": "stdout",
       "text": [
        "[59]\n",
        "ZC30fast_a9_7.xml\t[28] [28] "
       ]
      },
      {
       "output_type": "stream",
       "stream": "stdout",
       "text": [
        "[22] [30] [30] "
       ]
      },
      {
       "output_type": "stream",
       "stream": "stdout",
       "text": [
        "[29] [25] [30] [28] "
       ]
      },
      {
       "output_type": "stream",
       "stream": "stdout",
       "text": [
        "[58] [60] "
       ]
      },
      {
       "output_type": "stream",
       "stream": "stdout",
       "text": [
        "[50] [57] [57]\n",
        "ZC30fast_a9_8.xml\t[30]"
       ]
      },
      {
       "output_type": "stream",
       "stream": "stdout",
       "text": [
        " [30] [31] [30] [30] "
       ]
      },
      {
       "output_type": "stream",
       "stream": "stdout",
       "text": [
        "[30] [30] [30] [32] "
       ]
      },
      {
       "output_type": "stream",
       "stream": "stdout",
       "text": [
        "[60] [60] "
       ]
      },
      {
       "output_type": "stream",
       "stream": "stdout",
       "text": [
        "[60] [60] [60]\n",
        "ZC60fast_a9_0.xml\ttans are both negative!!!"
       ]
      },
      {
       "output_type": "stream",
       "stream": "stdout",
       "text": [
        "\n",
        "[29] [30] [30] "
       ]
      },
      {
       "output_type": "stream",
       "stream": "stdout",
       "text": [
        "[30] [30] [30] "
       ]
      },
      {
       "output_type": "stream",
       "stream": "stdout",
       "text": [
        "[30] [30] [30] "
       ]
      },
      {
       "output_type": "stream",
       "stream": "stdout",
       "text": [
        "[60] [60] "
       ]
      },
      {
       "output_type": "stream",
       "stream": "stdout",
       "text": [
        "[60] [60] "
       ]
      },
      {
       "output_type": "stream",
       "stream": "stdout",
       "text": [
        "[60]\n",
        "ZC60fast_a9_1.xml\t[30] "
       ]
      },
      {
       "output_type": "stream",
       "stream": "stdout",
       "text": [
        "[30] [30] [30] [30] "
       ]
      },
      {
       "output_type": "stream",
       "stream": "stdout",
       "text": [
        "[30] [30] [30] [29] "
       ]
      },
      {
       "output_type": "stream",
       "stream": "stdout",
       "text": [
        "[60] [60] "
       ]
      },
      {
       "output_type": "stream",
       "stream": "stdout",
       "text": [
        "[60] [60] "
       ]
      },
      {
       "output_type": "stream",
       "stream": "stdout",
       "text": [
        "[60]\n",
        "ZC60fast_a9_2.xml\t[29] "
       ]
      },
      {
       "output_type": "stream",
       "stream": "stdout",
       "text": [
        "[30] [30] [30] [30] "
       ]
      },
      {
       "output_type": "stream",
       "stream": "stdout",
       "text": [
        "[30] [30] [30] [30] "
       ]
      },
      {
       "output_type": "stream",
       "stream": "stdout",
       "text": [
        "[59] [60] "
       ]
      },
      {
       "output_type": "stream",
       "stream": "stdout",
       "text": [
        "[60] [60] "
       ]
      },
      {
       "output_type": "stream",
       "stream": "stdout",
       "text": [
        "[60]\n",
        "ZC60fast_a9_3.xml\t[30] "
       ]
      },
      {
       "output_type": "stream",
       "stream": "stdout",
       "text": [
        "[30] [31] [30] [30] "
       ]
      },
      {
       "output_type": "stream",
       "stream": "stdout",
       "text": [
        "[30] [30] [30] [31] "
       ]
      },
      {
       "output_type": "stream",
       "stream": "stdout",
       "text": [
        "[60] [60] "
       ]
      },
      {
       "output_type": "stream",
       "stream": "stdout",
       "text": [
        "[60] [60] "
       ]
      },
      {
       "output_type": "stream",
       "stream": "stdout",
       "text": [
        "[60]\n",
        "ZC60fast_a9_4.xml\t[29] "
       ]
      },
      {
       "output_type": "stream",
       "stream": "stdout",
       "text": [
        "[30] [30] [30] [30] "
       ]
      },
      {
       "output_type": "stream",
       "stream": "stdout",
       "text": [
        "[30] [29] [30] [29] "
       ]
      },
      {
       "output_type": "stream",
       "stream": "stdout",
       "text": [
        "[59] [59] "
       ]
      },
      {
       "output_type": "stream",
       "stream": "stdout",
       "text": [
        "[59] [60] "
       ]
      },
      {
       "output_type": "stream",
       "stream": "stdout",
       "text": [
        "[60]\n"
       ]
      },
      {
       "output_type": "stream",
       "stream": "stderr",
       "text": [
        "-c:24: RuntimeWarning: divide by zero encountered in divide\n"
       ]
      }
     ],
     "prompt_number": 7
    },
    {
     "cell_type": "code",
     "collapsed": false,
     "input": [
      "#\u6240\u6709xml\u4e00\u8d77\u8bad\u7ec3\uff0c\u5f97\u5230\u4e00\u4e2a a, b, \u5e76\u5bf9\u6240\u6709xml\u6d4b\u8bd5\n",
      "from glob import glob\n",
      "\n",
      "train_dir=r'D:\\Documents\\Desktop\\step-counting-data\\old-linear\\segmented'\n",
      "#train_dir=r'D:\\Documents\\Desktop\\traces\\oldxml\\old-linear\\segmented'\n",
      "test_dir=r'D:\\Documents\\Desktop\\step-counting-data\\old-linear\\segmented\\fast'\n",
      "#test_dir=r'D:\\Documents\\Desktop\\step-counting-data\\old-linear\\segmented'\n",
      "#test_dir=r'D:\\Documents\\Desktop\\step-counting-data\\zcrun\\old-linear\\segmented'\n",
      "#test_dir=r'D:\\Documents\\Desktop\\traces\\oldxml\\old-linear\\segmented'\n",
      "#test_dir=train_dir\n",
      "\n",
      "#th_freqs=getThFreqFromDataFolder(dir, 1, debugMode=False, labelManually=False)\n",
      "#plot(th_freqs[0], th_freqs[1])\n",
      "look=01\n",
      "baseTh=1.\n",
      "numtaps=10\n",
      "doLpf=True\n",
      "compensation=01\n",
      "varTh=0.5\n",
      "\n",
      "#a, b=stepCountingTrain(train_dir, look, baseTh, debugMode=False, labelManually=False)\n",
      "#a,b=0.063, 1.015 #\u8d70\u8def\u6570\u636e\u8bad\u7ec3\u7ed3\u679c, look=1\n",
      "a,b=2.543, 0.365 #look=0\n",
      "a,b=0.1, 1.0\n",
      "steps=stepCountingTest(test_dir, a, b, look, debugMode=False)\n",
      "print '%.3f, %.3f'%(a, b), #steps"
     ],
     "language": "python",
     "metadata": {},
     "outputs": [
      {
       "output_type": "stream",
       "stream": "stdout",
       "text": [
        "0.100, 1.000\n"
       ]
      }
     ],
     "prompt_number": 18
    },
    {
     "cell_type": "code",
     "collapsed": false,
     "input": [
      "gfname=r'D:\\Documents\\Desktop\\traces\\groundtruth_SC.txt'\n",
      "printError(gfname, steps)\n"
     ],
     "language": "python",
     "metadata": {},
     "outputs": [
      {
       "output_type": "stream",
       "stream": "stdout",
       "text": [
        "ZC30fast_a9_6.xml\t\t30\t30\t0.00%\n",
        "ZC30fast_a9_7.xml\t\t30\t30\t0.00%\n",
        "ZC30fast_a9_0.xml\t\t30\t30\t0.00%\n",
        "ZC60fast_a9_4.xml\t\t60\t60\t0.00%\n",
        "ZC60fast_a9_1.xml\t\t60\t60\t0.00%\n",
        "ZC30fast_a9_5.xml\t\t30\t30\t0.00%\n",
        "ZC60fast_a9_2.xml\t\t60\t61\t1.67%\n",
        "LH31fast_a9_0.xml\t\t31\t31\t0.00%\n",
        "ZC30fast_a9_1.xml\t\t30\t30\t0.00%\n",
        "LH30fast_a9_3.xml\t\t30\t36\t20.00%\n",
        "ZC30fast_a9_4.xml\t\t30\t30\t0.00%\n",
        "HY60fast_a9_1.xml\t\t60\t60\t0.00%\n",
        "LH31fast_a9_1.xml\t\t31\t31\t0.00%\n",
        "ZC30fast_a9_2.xml\t\t30\t30\t0.00%\n",
        "ZC30fast_a9_3.xml\t\t30\t30\t0.00%\n",
        "ZC60fast_a9_3.xml\t\t60\t60\t0.00%\n",
        "ZC30fast_a9_8.xml\t\t30\t31\t3.33%\n",
        "HY60fast_a9_0.xml\t\t60\t60\t0.00%\n",
        "LH31fast_a9_2.xml\t\t31\t31\t0.00%\n",
        "ZC60fast_a9_0.xml\t\t60\t60\t0.00%\n",
        "average error:1.25%\n"
       ]
      }
     ],
     "prompt_number": 19
    },
    {
     "cell_type": "code",
     "collapsed": false,
     "input": [],
     "language": "python",
     "metadata": {},
     "outputs": []
    },
    {
     "cell_type": "code",
     "collapsed": false,
     "input": [],
     "language": "python",
     "metadata": {},
     "outputs": []
    },
    {
     "cell_type": "code",
     "collapsed": false,
     "input": [
      "#====================THE END================================"
     ],
     "language": "python",
     "metadata": {},
     "outputs": [],
     "prompt_number": 7
    },
    {
     "cell_type": "code",
     "collapsed": false,
     "input": [],
     "language": "python",
     "metadata": {},
     "outputs": [],
     "prompt_number": 7
    },
    {
     "cell_type": "code",
     "collapsed": false,
     "input": [
      "import scipy\n",
      "from scipy import signal\n",
      "\n",
      "d=parseXml2dic(train_fname)\n",
      "accWf=getAccWf(d)\n",
      "x=accWf[2]\n",
      "#x=(d[Keys.kAx]**2+d[Keys.kAy]**2+d[Keys.kAz]**2)**0.5\n",
      "\n",
      "N=12\n",
      "Fc=40\n",
      "Fs=1000\n",
      "# provide them to firwin\n",
      "h=scipy.signal.firwin( numtaps=N, cutoff=Fc, nyq=Fs/2)\n",
      "h=scipy.signal.firwin( numtaps=N, cutoff=Fc, nyq=Fs/2)\n",
      "print h, sum(h)\n",
      "plot(h)\n",
      "\n",
      "y=scipy.signal.lfilter( h, 1.0, x) # 'x' is the time-series data you are filtering\n",
      "\n",
      "lpf=LPF()\n",
      "z=lpf.myLpf(x, .30)\n",
      "\n",
      "plot(x, 'b')\n",
      "plot(y, 'g', lw=1)\n",
      "#plot(z, 'r')"
     ],
     "language": "python",
     "metadata": {},
     "outputs": [
      {
       "output_type": "stream",
       "stream": "stdout",
       "text": [
        "[ 0.0099682   0.02146652  0.05358894  0.09931582  0.14403637  0.17162415\n",
        "  0.17162415  0.14403637  0.09931582  0.05358894  0.02146652  0.0099682 ] 1.0\n"
       ]
      },
      {
       "output_type": "pyout",
       "prompt_number": 6,
       "text": [
        "[<matplotlib.lines.Line2D at 0xc209690>]"
       ]
      }
     ],
     "prompt_number": 6
    },
    {
     "cell_type": "code",
     "collapsed": false,
     "input": [
      "d=parseXml2dic(train_fname)\n",
      "print train_fname\n",
      "accWf=getAccWf(d)\n",
      "x=accWf[2]\n",
      "#plot(x)\n",
      "dx=x[1:]-x[:-1]\n",
      "plot(dx, 'g')\n",
      "dx2=dx**2\n",
      "plot(dx2, 'r')\n"
     ],
     "language": "python",
     "metadata": {},
     "outputs": [
      {
       "output_type": "stream",
       "stream": "stdout",
       "text": [
        "D:\\Documents\\Desktop\\step-counting-data\\old-linear\\segmented\\ZC30fast_a9_4.xml\n"
       ]
      },
      {
       "output_type": "pyout",
       "prompt_number": 13,
       "text": [
        "[<matplotlib.lines.Line2D at 0xd0743d0>]"
       ]
      }
     ],
     "prompt_number": 13
    },
    {
     "cell_type": "code",
     "collapsed": false,
     "input": [
      "z=y[96:1032]\n",
      "#print z.shape\n",
      "#plot(z)\n",
      "th_freq=getThFreqPointSet(z, baseTh=1, debugMode=True)\n",
      "\n",
      "plot(th_freq[0], th_freq[1], 'ro')\n",
      "th_freq[0].shape, th_freq[1].shape\n",
      "#pts=array([th_freq[0], th_freq[1]]).T\n",
      "#return getInfimumParams(pts, doPlot=debugMode)"
     ],
     "language": "python",
     "metadata": {},
     "outputs": [
      {
       "ename": "NameError",
       "evalue": "name 'y' is not defined",
       "output_type": "pyerr",
       "traceback": [
        "\u001b[1;31m---------------------------------------------------------------------------\u001b[0m\n\u001b[1;31mNameError\u001b[0m                                 Traceback (most recent call last)",
        "\u001b[1;32m<ipython-input-163-91222e351c9a>\u001b[0m in \u001b[0;36m<module>\u001b[1;34m()\u001b[0m\n\u001b[1;32m----> 1\u001b[1;33m \u001b[0mz\u001b[0m\u001b[1;33m=\u001b[0m\u001b[0my\u001b[0m\u001b[1;33m[\u001b[0m\u001b[1;36m96\u001b[0m\u001b[1;33m:\u001b[0m\u001b[1;36m1032\u001b[0m\u001b[1;33m]\u001b[0m\u001b[1;33m\u001b[0m\u001b[0m\n\u001b[0m\u001b[0;32m      2\u001b[0m \u001b[1;31m#print z.shape\u001b[0m\u001b[1;33m\u001b[0m\u001b[1;33m\u001b[0m\u001b[0m\n\u001b[0;32m      3\u001b[0m \u001b[1;31m#plot(z)\u001b[0m\u001b[1;33m\u001b[0m\u001b[1;33m\u001b[0m\u001b[0m\n\u001b[0;32m      4\u001b[0m \u001b[0mth_freq\u001b[0m\u001b[1;33m=\u001b[0m\u001b[0mgetThFreqPointSet\u001b[0m\u001b[1;33m(\u001b[0m\u001b[0mz\u001b[0m\u001b[1;33m,\u001b[0m \u001b[0mbaseTh\u001b[0m\u001b[1;33m=\u001b[0m\u001b[1;36m1\u001b[0m\u001b[1;33m,\u001b[0m \u001b[0mdebugMode\u001b[0m\u001b[1;33m=\u001b[0m\u001b[0mTrue\u001b[0m\u001b[1;33m)\u001b[0m\u001b[1;33m\u001b[0m\u001b[0m\n\u001b[0;32m      5\u001b[0m \u001b[1;33m\u001b[0m\u001b[0m\n",
        "\u001b[1;31mNameError\u001b[0m: name 'y' is not defined"
       ]
      }
     ],
     "prompt_number": 163
    },
    {
     "cell_type": "code",
     "collapsed": false,
     "input": [],
     "language": "python",
     "metadata": {},
     "outputs": []
    }
   ],
   "metadata": {}
  }
 ]
}