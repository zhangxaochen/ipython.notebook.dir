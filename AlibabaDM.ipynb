{
 "metadata": {
  "name": ""
 },
 "nbformat": 3,
 "nbformat_minor": 0,
 "worksheets": [
  {
   "cells": [
    {
     "cell_type": "code",
     "collapsed": false,
     "input": [
      "from collections import Counter\n",
      "import math\n",
      "import random\n",
      "import numpy as np, pandas as pd\n",
      "%cd D:\\Documents\\Desktop\\\u963f\u91cc\u5927\u6570\u636e\u7ade\u8d5b\\season1\n",
      "df = pd.read_csv('111.csv') #\u81ea\u5df1\u9884\u5148\u5168\u5c40\u66ff\u6362\u6389\u4e86\u4e2d\u6587\u65e5\u671f\uff0c e.g., 6\u67084\u65e5 -> 6-4\n",
      "yy='2012'\n",
      "fmt='%Y-%m-%d'\n",
      "df.visit_datetime=yy+'-'+df.visit_datetime\n",
      "df.visit_datetime=pd.to_datetime(df.visit_datetime, format=fmt)\n",
      "uids = df.user_id\n",
      "usrs = list(set(uids))\n",
      "bids = df.brand_id\n",
      "tps = df.type\n",
      "vds = df.visit_datetime\n",
      "mons=4,5,6,7,8\n",
      "mons=[np.datetime64('%s-%02d-15'%(yy, i)) for i in mons]\n"
     ],
     "language": "python",
     "metadata": {},
     "outputs": [
      {
       "output_type": "stream",
       "stream": "stdout",
       "text": [
        "D:\\Documents\\Desktop\\\u963f\u91cc\u5927\u6570\u636e\u7ade\u8d5b\\season1\n"
       ]
      }
     ],
     "prompt_number": 4
    },
    {
     "cell_type": "code",
     "collapsed": false,
     "input": [
      "'''\n",
      "\u6587\u4ef6 <---> dict \u7ed3\u6784\u4e92\u76f8\u8f6c\u6362\n",
      "\u5408\u5e76 dict, \u5408\u5e76 files, etc.\n",
      "'''\n",
      "from copy import deepcopy\n",
      "\n",
      "def file2dic(fname):\n",
      "    res={}\n",
      "    with open(fname) as f:\n",
      "        for l in f:\n",
      "            uid, bidstr=l.split()\n",
      "            bids=set(map(int, bidstr.split(',')))\n",
      "            res[int(uid)]=bids\n",
      "    return res\n",
      "\n",
      "def howmany(fname):\n",
      "    ur'''\n",
      "    RETURNS\n",
      "    ---------------\n",
      "    \u8fd4\u56de\u6b64 fname \u6240\u8868\u793a\u7684\u6587\u4ef6\u6216 dict \u5171\u6709\u591a\u5c11\u63a8\u8350\u5546\u54c1\n",
      "    \n",
      "    PARAMS\n",
      "    ---------------\n",
      "    fname: \u6587\u4ef6\u540d or dict\uff0c \u4e0d\u4e00\u5b9a\u6587\u4ef6\u540d\n",
      "    '''\n",
      "    d=file2dic(fname) if isinstance(fname, str) else fname\n",
      "    return sum(len(d[k]) for k in d)\n",
      "\n",
      "def cntCommon(d1, d2):\n",
      "    ur'''\n",
      "    RETURNS\n",
      "    ---------------\n",
      "    \u8fd4\u56de d1, d2 \u5171\u6709\u7684 bid \u8ba1\u6570\n",
      "    \n",
      "    PARAMS\n",
      "    ---------------\n",
      "    d1, d2: \u6587\u4ef6\u540d or dict\uff0c \u4e0d\u4e00\u5b9a\u6587\u4ef6\u540d\n",
      "    '''\n",
      "    d1=file2dic(d1) if isinstance(d1, str) else d1\n",
      "    d2=file2dic(d2) if isinstance(d2, str) else d2\n",
      "    cd1=howmany(d1)\n",
      "    cd2=howmany(d2)\n",
      "    cmerged=howmany(mergeDic(d1, d2))\n",
      "    print 'd1, d2, merged, common:', cd1, cd2, cmerged, cd1+cd2-cmerged\n",
      "#     return howmany(d1)+howmany(d2)-howmany(mergeDic(d1, d2))\n",
      "\n",
      "# def cntDiff\n",
      "\n",
      "def mergeDic(d1, d2):\n",
      "    res=deepcopy(d1)\n",
      "    for k in d2:\n",
      "        res[k]=res.get(k, set())|d2[k]\n",
      "    return res\n",
      "\n",
      "def mergeDics(*ds):\n",
      "    res=deepcopy(ds[0])\n",
      "    for d in ds[1:]:\n",
      "        for k in d:\n",
      "            res[k]=res.get(k, set())|d[k]\n",
      "    return res\n",
      "\n",
      "def deductDic(d1, d2):\n",
      "    res=deepcopy(d1)\n",
      "    for k in d1:\n",
      "        if k in d2:\n",
      "#             print '---------------', res[k]&d2[k]\n",
      "            res[k]-=d2[k]\n",
      "    return res\n",
      "    pass\n",
      "\n",
      "def dic2file(dic, fname):\n",
      "    with open(fname, 'w') as f:\n",
      "        for k in dic:\n",
      "            if not dic[k]: continue\n",
      "            f.write('%s\\t%s\\n'%(k, ','.join(map(str, dic[k]))))\n",
      "    pass\n",
      "\n",
      "\n",
      "def mergeFiles(outfn, *fnames):\n",
      "    '''\n",
      "    PARAMS \n",
      "    ---------------\n",
      "    outfn: output file name\n",
      "    fnames: input file names\n",
      "    '''\n",
      "\n",
      "    ds=[file2dic(f) for f in fnames]\n",
      "    dic=mergeDics(*ds)\n",
      "    dic2file(dic, outfn)\n",
      "    pass\n",
      "\n",
      "#--------------------------test:\n",
      "d1={1:{1,2,3}, 2:{4,7,9}}\n",
      "d2={1:{5,6,2}, 3:{1,2}}\n",
      "d3={3:{2,3,}, 2:{4, 3, 2}}\n",
      "# print mergeDic(d1, d2)\n",
      "# print mergeDics(d1, d2, d3)\n",
      "deductDic(d3, d2)\n"
     ],
     "language": "python",
     "metadata": {},
     "outputs": [
      {
       "metadata": {},
       "output_type": "pyout",
       "prompt_number": 5,
       "text": [
        "{2: {2, 3, 4}, 3: {3}}"
       ]
      }
     ],
     "prompt_number": 5
    },
    {
     "cell_type": "code",
     "collapsed": false,
     "input": [
      "'''\n",
      "1.0\n",
      "\u6570\u636e\u9884\u6d4b\u6d4b\u8bd5\u90e8\u5206\n",
      "'''\n",
      "\n",
      "#\u4ec5\u4ec5\u62ff\u4e0a\u6708\u6536\u85cf\uff0c\u8d2d\u7269\u8f66\u6765\u9884\u6d4b\u6b21\u6708\uff0c\u6d4b\u8bd5 F1\n",
      "\n",
      "from collections import defaultdict, OrderedDict\n",
      "\n",
      "def maskFilter(df, sts, ets, types):\n",
      "    ur'''\n",
      "    RETURNS\n",
      "    ---------------\n",
      "    \u4ee5 ts, types \u505a filter\uff0c \u751f\u6210\u65b0\u7684 DataFrame\n",
      "    \n",
      "    PARAMS\n",
      "    ---------------\n",
      "    df : \u6574\u4e2a\u6570\u636e\u96c6\uff1b \n",
      "    sts: startTime; \n",
      "    ets: endTime\n",
      "    types: a tuple, e.g. (0, 1,)\n",
      "    '''\n",
      "    vds=df.visit_datetime\n",
      "    tps=df.type\n",
      "    typeMask=np.asarray([False]*tps.shape[0])\n",
      "    for i in types:\n",
      "        typeMask+=(tps==i)\n",
      "    \n",
      "    return df[(sts<=vds)&(vds<ets)&typeMask]\n",
      "    \n",
      "def getBrandsByType(df, sts, ets, types):\n",
      "    ur'''\n",
      "    RETURNS\n",
      "    ---------------\n",
      "    A dict, e.g. {u1: set(bids), u2:...}\n",
      "    \n",
      "    PARAMS\n",
      "    ---------------\n",
      "    df : \u6574\u4e2a\u6570\u636e\u96c6\uff1b \n",
      "    sts: startTime; \n",
      "    ets: endTime\n",
      "    types: a tuple, e.g. (0, 1,)\n",
      "    '''\n",
      "    df=maskFilter(df, sts, ets, types)\n",
      "    uids=df.user_id\n",
      "    dic={}\n",
      "    for u in set(uids):\n",
      "        uinfo=df[uids==u]\n",
      "        dic[u]=set(uinfo.brand_id)\n",
      "    return dic\n",
      "\n",
      "#\u8ba1\u7b97\u67d0\u4e00\u5929 bid \u96c6\u5408\uff0c \u89c1\u6211\u7b2c\u4e09\u6b21\u63d0\u4ea4\n",
      "def getLastDay(df, day, types):\n",
      "    return getBrandsByType(df, day, day+1, types)\n",
      "\n",
      "def getF1(precision, recall):\n",
      "    return 2.*precision*recall/(precision+recall) if precision+recall else 0\n",
      "\n",
      "\n",
      "#PARAMS: pred, a dict, prediction; gt, a dict, GroundTruth\n",
      "def calcF1(pred, gt):\n",
      "    hitCnt=sum(len(pred[k]&gt[k]) for k in pred if k in gt)\n",
      "\n",
      "    #get precision:\n",
      "    predCnt=sum(len(v) for v in pred.values())\n",
      "    precision=1.*hitCnt/predCnt\n",
      "    #get recall:\n",
      "    gtCnt=sum(len(v) for v in gt.values())\n",
      "    recall=1.*hitCnt/gtCnt\n",
      "    print 'hitCnt, predCnt, gtCnt:', hitCnt, predCnt, gtCnt\n",
      "\n",
      "    f1=getF1(precision, recall)\n",
      "    print '----------%.2f%%, %.2f%%, %.2f%%'%(f1*100, precision*100, recall*100)\n",
      "    return f1, precision, recall\n",
      "\n",
      "\n",
      "#\u8ba1\u7b97\u672c\u6708 23 \u51fa\u73b0\u5728\u6b21\u6708 1 \u7684\u6982\u7387\n",
      "for i, v in enumerate(mons[:-2]):\n",
      "    m2=mons[i+1]\n",
      "    m3=mons[i+2]\n",
      "\n",
      "    d1=getBrandsByType(df, v, m2, types=(1,))\n",
      "#     d2=getBrandsByType(df, v, m2, types=(2,3))\n",
      "#     d2=getBrandsByType(df, v, m2, types=(1,2,3))\n",
      "    d2=getBrandsByType(df, m2, m3, types=(1,))\n",
      "    calcF1(d1, d2)\n",
      "\n",
      "d1=getBrandsByType(df, mons[0], mons[3], types=(1,))\n",
      "d2=getBrandsByType(df, mons[3], mons[4], types=(1,))\n",
      "calcF1(d1, d2)"
     ],
     "language": "python",
     "metadata": {},
     "outputs": [
      {
       "output_type": "stream",
       "stream": "stdout",
       "text": [
        "hitCnt, predCnt, gtCnt: 46 950 1119\n",
        "----------4.45%, 4.84%, 4.11%\n",
        "hitCnt, predCnt, gtCnt:"
       ]
      },
      {
       "output_type": "stream",
       "stream": "stdout",
       "text": [
        " 52 1119 1256\n",
        "----------4.38%, 4.65%, 4.14%\n",
        "hitCnt, predCnt, gtCnt:"
       ]
      },
      {
       "output_type": "stream",
       "stream": "stdout",
       "text": [
        " 50 1256 1346\n",
        "----------3.84%, 3.98%, 3.71%\n",
        "hitCnt, predCnt, gtCnt:"
       ]
      },
      {
       "output_type": "stream",
       "stream": "stdout",
       "text": [
        " 86 3207 1346\n",
        "----------3.78%, 2.68%, 6.39%\n"
       ]
      },
      {
       "metadata": {},
       "output_type": "pyout",
       "prompt_number": 6,
       "text": [
        "(0.03777728969909949, 0.0268163392578734, 0.0638930163447251)"
       ]
      }
     ],
     "prompt_number": 6
    },
    {
     "cell_type": "code",
     "collapsed": false,
     "input": [
      "'''\n",
      "1.1\n",
      "\u6211\u7b2c1\u6b21\u63d0\u4ea4 \uff08\u7b2c2\u5468\uff09\uff0c \u51c6\u786e\u73876.63%\t\u53ec\u56de\u73873.15%\t\u5f97\u52064.27%\t\u5f53\u5929\u6392\u540d547\t\u6700\u4f18\u6392\u540d:\u7b2c568\u540d\n",
      "\u7b56\u7565\u4e3a\u76f4\u63a5\u63a8\u8350\u4e0a\u6708\uff087~8\u6708\uff09 type 123\n",
      "'''\n",
      "\n",
      "fname='output.txt'\n",
      "dic=getBrandsByType(df, mons[3], mons[4], (1,2,3))\n",
      "dic2file(dic, fname)\n",
      "\n",
      "# with open(fname, 'w') as f:\n",
      "#     maskDate=(mons[3]<=vds)&(vds<mons[4])\n",
      "#     maskType=(tps==1)|(tps==2)|(tps==3)\n",
      "#     for u in set(uids):\n",
      "#         uinfo=df[(uids==u)&maskDate&maskType]\n",
      "#         uclick=df[(uids==u)&(tps==0)]\n",
      "#         Counter(uclick.brand_id)\n",
      "#         brands=set(uinfo.brand_id)\n",
      "#         if not brands:\n",
      "#             continue\n",
      "#         f.write('%s\\t%s\\n'%(u, ','.join(map(str, brands))))"
     ],
     "language": "python",
     "metadata": {},
     "outputs": [],
     "prompt_number": 3
    },
    {
     "cell_type": "code",
     "collapsed": false,
     "input": [
      "'''\n",
      "1.2\n",
      "\u7b2c\u4e8c\u6b21\u63d0\u4ea4  \u51c6\u786e\u73875.81% \u53ec\u56de\u73874.56% \u5f97\u52065.11% \u5f53\u5929\u6392\u540d420\n",
      "\u7b56\u7565\uff1a \u7b80\u5355\u5408\u5e76\u675c\u5b87 0326 \u63d0\u4ea4\u4ee5\u53ca\u6211\u7b2c\u4e00\u6b21\u63d0\u4ea4\u7684 txt\n",
      "\u675c\u5b87\u7b2c\u4e00\u6b21\u51c6\u786e\u73875.83% \u53ec\u56de\u73872.15% \u5f97\u52063.15% \u5f53\u5929\u6392\u540d856\n",
      "'''\n",
      "\n",
      "fn1=r'D:\\Documents\\GitHub\\ali\\archive\\overmind.0326.txt'\n",
      "fn2=ur'D:\\Documents\\Desktop\\\u963f\u91cc\u5927\u6570\u636e\u7ade\u8d5b\\season1\\output.txt'\n",
      "d1=file2dic(fn1)\n",
      "d2=file2dic(fn2)\n",
      "# print d1, d2\n",
      "outd=mergeDic(d1, d2)\n",
      "outfn=r'D:\\Documents\\Desktop\\overmindMerged.txt'\n",
      "dic2file(outd, outfn)"
     ],
     "language": "python",
     "metadata": {},
     "outputs": [],
     "prompt_number": 42
    },
    {
     "cell_type": "code",
     "collapsed": false,
     "input": [
      "'''\n",
      "1.3\n",
      "\u9a6c\u7532 13575752056 \u63d0\u4ea4\uff0c \u7b2c\u4e00\u6b21\uff0c \u51c6\u786e\u738712.31% \u53ec\u56de\u73870.23% \u5f97\u52060.45% \u5f53\u5929\u6392\u540d1519\n",
      "\u7b56\u7565\uff1a \u53ea\u63a8\u8350\u6700\u540e\u4e00\u5929\uff0c \u4e3a\u4e86\u786e\u8ba4\u6d4b\u8bd5\u96c6\u662f\u5426\u5305\u542b\u4e86 8.15\n",
      "'''\n",
      "\n",
      "# dic=getLastDay(df, mons[4], types=(1,))\n",
      "# fn='out815.txt'\n",
      "# dic2file(dic, fn)\n",
      "\n",
      "#\n",
      "for i, v in enumerate(mons[:-1]):\n",
      "    m2=mons[i+1]\n",
      "    d1=getLastDay(df, v, (0, 1))\n",
      "    d2=getBrandsByType(df, v+1, m2, (1,))\n",
      "    calcF1(d1, d2)\n",
      "    "
     ],
     "language": "python",
     "metadata": {},
     "outputs": [
      {
       "output_type": "stream",
       "stream": "stdout",
       "text": [
        "hitCnt, predCnt, gtCnt: 25 706 909\n",
        "----------3.10,3.54,2.75\n",
        "hitCnt, predCnt, gtCnt:"
       ]
      },
      {
       "output_type": "stream",
       "stream": "stdout",
       "text": [
        " 21 495 1092\n",
        "----------2.65,4.24,1.92\n",
        "hitCnt, predCnt, gtCnt:"
       ]
      },
      {
       "output_type": "stream",
       "stream": "stdout",
       "text": [
        " 32 607 1224\n",
        "----------3.50,5.27,2.61\n",
        "hitCnt, predCnt, gtCnt:"
       ]
      },
      {
       "output_type": "stream",
       "stream": "stdout",
       "text": [
        " 24 642 1316\n",
        "----------2.45,3.74,1.82\n"
       ]
      }
     ],
     "prompt_number": 31
    },
    {
     "cell_type": "code",
     "collapsed": false,
     "input": [
      "'''\n",
      "1.4  \u00d7\n",
      "\u9a6c\u7532 13575752056 \u63d0\u4ea4\uff0c \n",
      "\u7b56\u7565\uff1a \u62ff\u4e0a\u6708\u603b\u70b9\u51fb\u524d n \u4e2a\u54c1\u724c\uff0c \u63a8\u8350\u7ed9\u6240\u6709\u4eba\n",
      "\u672c\u5730\u7ed3\u679c\uff1a 0.87%,0.54%,2.14%  \u592a\u5dee\u4e86o(\u256f\u25a1\u2570)o\n",
      "'''\n",
      "# def filterByMonth(df, sts, ets):\n",
      "#     tmp=df.visit_datetime\n",
      "#     return df[(sts<=tmp)&(tmp<ets)]\n",
      "    \n",
      "def getTopBids(df, sts, ets, types, top=10):\n",
      "    #\u6240\u6709\u7528\u6237\uff1a\n",
      "    usrs=set(df.user_id)\n",
      "    \n",
      "    df=maskFilter(df, sts, ets, types)\n",
      "    c=Counter(df.brand_id)\n",
      "    bids=set([k for k, _ in c.most_common(top)])\n",
      "    dic={}\n",
      "    for u in usrs:\n",
      "        dic[u]=bids\n",
      "#     return bids\n",
      "    return dic\n",
      "    pass\n",
      "\n",
      "\n",
      "# ---------------test F1\n",
      "for i, v in enumerate(mons[:-2]):\n",
      "    m2=mons[i+1]\n",
      "    m3=mons[i+2]\n",
      "    d1=getTopBids(df, v, m2, (0,1,2,3), top=5)\n",
      "    d2=getBrandsByType(df, m2, m3, (1, ))\n",
      "    calcF1(d1, d2)\n",
      "\n",
      "# dic=getTopBids(df, mons[3], mons[4], (0,1,2,3), top=5)\n",
      "# fn='outTop5.txt'\n",
      "# dic2file(dic, fn)\n"
     ],
     "language": "python",
     "metadata": {},
     "outputs": [
      {
       "output_type": "stream",
       "stream": "stdout",
       "text": [
        "hitCnt, predCnt, gtCnt: 24 4420 1119\n",
        "----------0.87,0.54,2.14\n",
        "hitCnt, predCnt, gtCnt:"
       ]
      },
      {
       "output_type": "stream",
       "stream": "stdout",
       "text": [
        " 29 4420 1256\n",
        "----------1.02,0.66,2.31\n",
        "hitCnt, predCnt, gtCnt:"
       ]
      },
      {
       "output_type": "stream",
       "stream": "stdout",
       "text": [
        " 33 4420 1346\n",
        "----------1.14,0.75,2.45\n"
       ]
      }
     ],
     "prompt_number": 63
    },
    {
     "cell_type": "code",
     "collapsed": false,
     "input": [
      "'''\n",
      "1.5\n",
      "03/28\n",
      "\u7cfb\u7edfjudge\uff1a \u51c6\u786e\u73874.74% \u53ec\u56de\u73877.85% \u5f97\u52065.91% \u5f53\u5929\u6392\u540d335\n",
      "\u7b56\u7565\uff1a\u4e0a\u6708123 + \u6bcf\u4e2a\u7528\u6237\u81ea\u5df1\u4ee5\u5f800123\u6700\u9891\u7e41\u7684\u5546\u54c1\n",
      "'''\n",
      "\n",
      "#\n",
      "def predFreq(df, sts, ets, types, freqPercent):\n",
      "    df=maskFilter(df, sts, ets, types)\n",
      "    uids=df.user_id\n",
      "    dic={}\n",
      "    for u in set(uids):\n",
      "        uinfo=df[uids==u]\n",
      "        bc=Counter(uinfo.brand_id)\n",
      "        cmn=freqPercent if freqPercent>=1 else int(math.ceil(len(bc)*freqPercent))\n",
      "        dic[u]=set(uid for uid, _, in bc.most_common(n=cmn))\n",
      "    return dic\n",
      "\n",
      "\n",
      "\n",
      "# 6-7 \u9884\u6d4b 7-8\uff1a\n",
      "d1=getBrandsByType(df, mons[2], mons[3], (1,))#2,3))\n",
      "d2=predFreq(df, mons[0], mons[3], (0,1,2,3), freqPercent=6)\n",
      "dic=mergeDic(d1, d2)\n",
      "\n",
      "dic2=getBrandsByType(df, mons[3], mons[4], (1,))\n",
      "calcF1(dic, dic2)\n",
      "# calcF1(d1, dic2)\n",
      "# hitCnt, predCnt, gtCnt: 50 1256 1346\n",
      "# ----------3.84,3.98,3.71\n",
      "\n",
      "d1=getBrandsByType(df, mons[3], mons[4], (1,))#2,3))\n",
      "d2=predFreq(df, mons[0], mons[4]+1, (0,1,2,3), freqPercent=6)\n",
      "dic=mergeDic(d1, d2)\n",
      "fn=r'out0328.txt'\n",
      "dic2file(dic, fn)"
     ],
     "language": "python",
     "metadata": {},
     "outputs": [
      {
       "output_type": "stream",
       "stream": "stdout",
       "text": [
        "hitCnt, predCnt, gtCnt: 120 5437 1346\n",
        "----------3.54,2.21,8.92\n"
       ]
      }
     ],
     "prompt_number": 137
    },
    {
     "cell_type": "code",
     "collapsed": false,
     "input": [
      "'''\n",
      "1.6\n",
      "03/28\n",
      "\u9a6c\u7532 13575752056 \u63d0\u4ea4 \u51c6\u786e\u73874.51% \u53ec\u56de\u73878.62% \u5f97\u52065.92% \u5f53\u5929\u6392\u540d324\n",
      "\u7b56\u7565\uff1a \u4e0a\u6708123 + \u6bcf\u4e2a\u7528\u6237\u81ea\u5df1\u4ee5\u5f800123\u6700\u9891\u7e41\u7684\u5546\u54c1 + \u675c\u5b87 0326 \u7b80\u5355\u5408\u5e76\n",
      "'''\n",
      "fn0=r'D:\\Documents\\GitHub\\ali\\archive\\overmind.0327.002.txt'\n",
      "fn1=r'D:\\Documents\\GitHub\\ali\\archive\\overmind.0326.txt'\n",
      "fn2=ur'D:\\Documents\\Desktop\\\u963f\u91cc\u5927\u6570\u636e\u7ade\u8d5b\\season1\\out0328.txt'\n",
      "d0=file2dic(fn0)\n",
      "d1=file2dic(fn1)\n",
      "d2=file2dic(fn2)\n",
      "# print d1, d2\n",
      "outd=mergeDic(d1, d2)\n",
      "outd2=mergeDic(d0, d2)\n",
      "outfn=r'D:\\Documents\\Desktop\\out0328.02.txt'\n",
      "dic2file(outd, outfn)\n",
      "\n",
      "print 'outd:', howmany(outd)\n",
      "print howmany(d0), howmany(d1), howmany(d2)\n",
      "print howmany(outd2)"
     ],
     "language": "python",
     "metadata": {},
     "outputs": [
      {
       "output_type": "stream",
       "stream": "stdout",
       "text": [
        "outd: 6738\n",
        "3518 1303 5848\n",
        "8584\n"
       ]
      }
     ],
     "prompt_number": 148
    },
    {
     "cell_type": "code",
     "collapsed": false,
     "input": [
      "'''\n",
      "1.7.0\n",
      "\u6d4b\u8bd5\u4ee5\u5f80\u3010\u6ca1\u4eba\u3011\u8d2d\u4e70\u7684 bid \u662f\u5426\u6b21\u6708\u88ab\u4eba\u8d2d\u4e70\n",
      "\u7ed3\u8bba\uff1a\n",
      "1. \u6b21\u6708\u8d2d\u4e70\u8bb0\u5f55\u4e2d\uff0c 30% \u662f\u4ee5\u5f80\u3010\u6ca1\u4eba\u4e70\u3011\u7684 bid\n",
      "    7782 \n",
      "    hitCnt, predCnt, gtCnt: 427 5433064 1408\n",
      "    ----------0.02%, 0.01%, 30.33%\n",
      "2. \u70b9\u51fb\u6700\u706b\uff08top100)\uff0c\u6b21\u6708\u5374\u6ca1\u4eba\u4e70\u7684 bid \u51e0\u4e4e\u6ca1\u6709\uff1a\n",
      "    hitCnt, predCnt, gtCnt: 1 3536 1408\n",
      "    ----------0.04%, 0.03%, 0.07%\n",
      "\n",
      "\u6240\u4ee5\u534f\u540c\u8fc7\u6ee4\u65f6\u53ea\u8981\u8003\u8651\u53ea\u8981\u53c2\u8003\u8d2d\u4e70\u8bb0\u5f55\u5373\u53ef\uff0c \u4e0d\u5fc5\u62c5\u5fc3\u9057\u6f0f\n",
      "'''\n",
      "\n",
      "dft=maskFilter(df, mons[0], mons[3], (0, 2, 3))\n",
      "\n",
      "s1=set(dft.brand_id)\n",
      "#\u70b9\u51fb\u91cf\u6700\u706b\u7684\uff1a\n",
      "s1={bid for bid, _ in Counter(dft.brand_id).most_common(300)}\n",
      "# print len(s1), Counter(dft.brand_id).most_common(100)\n",
      "\n",
      "dft=maskFilter(df, mons[0], mons[3], (1,))\n",
      "s2=set(dft.brand_id)\n",
      "#\u6ca1\u4eba\u4e70\u7684 bids\uff1a\n",
      "bids023=s1-s2\n",
      "# print bids023, s1\n",
      "\n",
      "dic={}\n",
      "for u in usrs:\n",
      "    dic[u]=bids023\n",
      "\n",
      "d2=getBrandsByType(df, mons[3], mons[4]+1, (1,))\n",
      "calcF1(dic, d2)"
     ],
     "language": "python",
     "metadata": {},
     "outputs": [
      {
       "output_type": "stream",
       "stream": "stdout",
       "text": [
        "hitCnt, predCnt, gtCnt: 10 26520 1408\n",
        "----------0.07%, 0.04%, 0.71%\n"
       ]
      },
      {
       "metadata": {},
       "output_type": "pyout",
       "prompt_number": 60,
       "text": [
        "(0.0007161271841879118, 0.0003770739064856712, 0.007102272727272727)"
       ]
      }
     ],
     "prompt_number": 60
    },
    {
     "cell_type": "code",
     "collapsed": false,
     "input": [
      "'''\n",
      "1.7.1 \n",
      "CF, KNN\n",
      "\u7b56\u7565: \u5bf9\u6bcf\u4e2a\u7528\u6237\uff0c \u4ece\u603b\u7684\u968f\u673a\u6311100\u4e2a\uff0c \u8ba1\u7b97\u504f\u597d\u76f8\u4f3c\u5ea6\n",
      "'''\n",
      "def createBidList(df, sts, ets, types):\n",
      "    df=maskFilter(df, sts, ets, types)\n",
      "    return list(set(df.brand_id))\n",
      "\n",
      "def setOfBids2Vec(bidList, bset):\n",
      "    res=[0]*len(bidList)\n",
      "    for i, v in enumerate(bidList):\n",
      "        if v in bset:\n",
      "            res[i]=1\n",
      "    return res\n",
      "\n",
      "#\u533a\u522b\u4e8e setOfBids2Vec\uff0c 2nd \u53c2\u6570\u662f list\uff0c \u800c\u975e set\n",
      "def bagOfBids2Vec(bidList, blist):\n",
      "    c=Counter(blist)\n",
      "    res=[0]*len(bidList)\n",
      "    for i, v in enumerate(bidList):\n",
      "        if v in c:\n",
      "            res[i]=c[v]\n",
      "    return res\n",
      "\n",
      "def getSimilarity(v1, v2):\n",
      "    '''\n",
      "    RETURNS\n",
      "    ---------------\n",
      "    v1*v2/(|v1|*|v2|)\n",
      "    \n",
      "    PARAMS\n",
      "    ---------------\n",
      "    v1, v2: two vectors\n",
      "    '''\n",
      "    v1=np.asarray(v1)\n",
      "    v2=np.asarray(v2)\n",
      "    return np.dot(v1, v2)/(np.sqrt(v1.dot(v1))*np.sqrt(v2.dot(v2)))\n",
      "\n",
      "def trainCF(trainMat, bidList, usrs, choose, topu, topb, simiTh):\n",
      "    ur'''\n",
      "    RETURNS\n",
      "    ---------------\n",
      "    a dict, \n",
      "    \n",
      "    PARAMS\n",
      "    ---------------\n",
      "    trainMat: \u6bcf\u884c\u662f\u6bcf\u4e2a\u7528\u6237\u5bf9\u5e94\u7684 bid \u7279\u5f81\u5411\u91cf\n",
      "    bidList\uff1a \u6240\u6709\u5546\u54c1\u5217\u8868\uff0c \u957f\u5ea6\u4e0e trainMat \u5217\u6570\u76f8\u540c\n",
      "    usrs: \u7528\u6237\u5217\u8868, \u957f\u5ea6\u4e0e trainMat \u884c\u6570\u76f8\u540c\n",
      "    choose: \u968f\u673a\u9009\u62e9\u4e2a\u6570\n",
      "    topu: \u524d n \u4e2a\u76f8\u4f3c\u7528\u6237\n",
      "    topb: \u524d n \u4e2a\u90fd\u4e70\u7684\u5546\u54c1\n",
      "    simiTh: float, 0~1 \u4e4b\u95f4\uff0c similarity threshold\uff0c \u6682\u65f6\u6ca1\u7528\n",
      "    \n",
      "    '''\n",
      "    trainMat=np.asarray(trainMat)\n",
      "    bidList=np.asarray(bidList)\n",
      "    usrs=np.asarray(usrs)\n",
      "    dic={}\n",
      "    for i, u in enumerate(usrs):\n",
      "        vec=trainMat[i]\n",
      "        others=range(i)+range(i+1, len(usrs))\n",
      "        random.shuffle(others)\n",
      "        #\u968f\u673a\u9009\u4e86 choose(e.g. 100) \u884c\uff1a\n",
      "        rows=others[:choose]\n",
      "        #\u76f8\u4f3c\u5ea6\u524d topu \u7684\u884c\u5e8f\u53f7\uff1a\n",
      "        pairs=sorted( ((getSimilarity(vec, trainMat[j]),j) for j in rows), reverse=True)\n",
      "        indices=[j for _, j in pairs[:topu]]\n",
      "        #\u76f8\u4f3c\u7684\u7528\u6237\u4e70\u8fc7\u7684 bid \u63a9\u7801\uff1a\n",
      "        #mask=np.any(trainMat[indices], axis=0)\n",
      "        mask=(-trainMat[indices].sum(axis=0)).argsort()[:topb]\n",
      "        dic[u]=set(bidList[mask])\n",
      "        \n",
      "    return dic\n",
      "\n",
      "# ------------------------------UnitTest:\n",
      "# bidList=range(10)\n",
      "# blist=[1,1,3,3,3,5,9]\n",
      "# bset=set(blist)\n",
      "# setOfBids2Vec(bidList, bset)\n",
      "# bagOfBids2Vec(bidList, blist)\n",
      "\n",
      "# v1=[0,1]\n",
      "# v2=[1,01]\n",
      "# getSimilarity(v1,v2)\n",
      "\n",
      "\n",
      "# ------------------------------predict:\n",
      "#\u751f\u6210\u63d0\u4ea4\u65f6\uff0c \u7528 4-8\u6708\u5168\u90e8\uff1a\n",
      "df1=maskFilter(df, mons[0], mons[4]+1, (1,))\n",
      "# df1=maskFilter(df, mons[0], mons[3], (1,))\n",
      "# df1=df[tps==1]\n",
      "uids1=df1.user_id\n",
      "usrs1=list(set(uids1))\n",
      "bidList=list(set(df1.brand_id))\n",
      "\n",
      "trainMat=[]\n",
      "for u in usrs1:\n",
      "    ublist=df1[uids1==u].brand_id\n",
      "    #\u76ee\u524d\u6682\u7528 setOfBids2Vec \u8ba1\u7b97\u5411\u91cf\uff1a\n",
      "    trainMat.append(setOfBids2Vec(bidList, set(ublist)))\n",
      "trainMat=np.asarray(trainMat)\n",
      "usrs1=np.asarray(usrs1)\n",
      "# print trainMat, usrs1\n",
      "dic=trainCF(trainMat, bidList, usrs1, choose=600, topu=50, topb=1000, simiTh=0.0)\n",
      "d2=getBrandsByType(df, mons[3], mons[4]+1, (1,))\n",
      "# print dic\n",
      "calcF1(dic, d2)\n",
      "\n",
      "#out0329.merged.txt \u662f\u5728 1.8 \u751f\u6210\u7684\uff1a\n",
      "tfn=r'D:\\Documents\\Desktop\\out0329.merged.txt'\n",
      "cntCommon(dic, tfn)\n",
      "\n",
      "outd=deductDic(file2dic(tfn), dic)\n",
      "cntCommon(outd, tfn) #\u221a\n",
      "\n",
      "#\u8fd9\u4e2a\u5fd8\u8bb0\u662f\u4ec0\u4e48\u53c2\u6570\u914d\u7f6e\u4e86\n",
      "#\u7ed3\u679c\u633a\u5dee \u51c6\u786e\u73874.04% \u53ec\u56de\u73876.83% \u5f97\u52065.08% \u5f53\u5929\u6392\u540d974\n",
      "#fn=r'out0330.deduct.01.txt' \n",
      "\n",
      "#\u8fd9\u4e2a\u66f4\u5dee \u51c6\u786e\u73873.64% \u53ec\u56de\u73873.57% \u5f97\u52063.61% \u5f53\u5929\u6392\u540d1397\n",
      "fn=r'out0330.deduct.c600-u50-b1000.txt'\n",
      "dic2file(outd, fn)\n"
     ],
     "language": "python",
     "metadata": {},
     "outputs": [
      {
       "output_type": "stream",
       "stream": "stdout",
       "text": [
        "hitCnt, predCnt, gtCnt: 1089 748000 1408\n",
        "----------0.29%, 0.15%, 77.34%\n",
        "d1, d2, merged, common:"
       ]
      },
      {
       "output_type": "stream",
       "stream": "stdout",
       "text": [
        " 748000 7183 751457 3726\n",
        "d1, d2, merged, common:"
       ]
      },
      {
       "output_type": "stream",
       "stream": "stdout",
       "text": [
        " 3457 7183 7183 3457\n"
       ]
      }
     ],
     "prompt_number": 24
    },
    {
     "cell_type": "code",
     "collapsed": false,
     "input": [
      "'''\n",
      "1.8\n",
      "\u9a6c\u7532\u63d0\u4ea4\uff1a\u51c6\u786e\u73874.51% \u53ec\u56de\u73879.19% \u5f97\u52066.05%\u5f53\u5929\u6392\u540d336\n",
      "\u7b56\u7565\uff1a \u7c7b\u4f3c 1.6\uff0c \u5c1d\u8bd5\u5408\u5e76\u675c\u5b87 overmind.0329.1d.txt\n",
      "\n",
      "'''\n",
      "fn0=ur'D:\\Documents\\Desktop\\\u963f\u91cc\u5927\u6570\u636e\u7ade\u8d5b\\season1\\out0328.txt'\n",
      "fn1=r'D:\\Documents\\GitHub\\ali\\archive\\overmind.0329.1d.txt'\n",
      "d0=file2dic(fn0)\n",
      "d1=file2dic(fn1)\n",
      "outd=mergeDic(d0, d1)\n",
      "\n",
      "# print howmany(d0), howmany(d1), howmany(outd)\n",
      "cntCommon(d0, d1)\n",
      "outfn=r'D:\\Documents\\Desktop\\out0329.merged.txt'\n",
      "dic2file(outd, outfn)\n"
     ],
     "language": "python",
     "metadata": {},
     "outputs": [
      {
       "output_type": "stream",
       "stream": "stdout",
       "text": [
        "d1, d2, merged, common: 5848 2938 7183 1603\n"
       ]
      }
     ],
     "prompt_number": 44
    },
    {
     "cell_type": "code",
     "collapsed": false,
     "input": [
      "'''\n",
      "1.9\n",
      "\u4efb\u5149\u9614\u7684\u7b56\u7565\uff0c\u4e0d\u540ctype \u7ed9\u4e0d\u540c\u6743\u91cd\uff0c \u65f6\u95f4\u8d8a\u4e45\u6743\u91cd\u8d8a\u4f4e\n",
      "\u76ee\u524d\u8fd8\u8003\u8651\u4e86\u5404\u4eba\u4ee5\u5f80\u6708\u5747\u8d2d\u4e70\u91cf\n",
      "'''\n",
      "\n",
      "def predict(df, sts, ets, typeWeight, factor=None, bpu=None, func='sqrt'):\n",
      "    ur'''\n",
      "    PARAMS\n",
      "    ---------------\n",
      "    factor: \u8003\u8651\u5404\u4eba\u4ee5\u5f80\u6708\u5747\u8d2d\u4e70\u91cf, \u4e58\u4ee5 factor \u4f5c\u4e3a\u4e0b\u6708\u9884\u6d4b\n",
      "    bpu\uff1a bids per user\uff0c \u4e0e factor \u76f8\u53cd\uff0c \u6240\u6709\u4eba\u90fd\u63a8\u8350 bpu \u4ef6\u5546\u54c1\uff0c \u4e0d\u7ba1\u4ee5\u5f80\u4ed6\u7684\u8d2d\u4e70\u91cf\u5927\u5c0f\n",
      "    \n",
      "    RETURNS\n",
      "    ---------------\n",
      "    a dict\n",
      "    \n",
      "    '''\n",
      "\n",
      "    df=maskFilter(df, sts, ets, (0,1,2,3))\n",
      "    usrs=list(set(df.user_id))\n",
      "    vds=df.visit_datetime\n",
      "    dayWeight=max(vds)-vds\n",
      "    #\u8fd9\u91cc\u6682\u7528\u5f00\u6839\u53f7\uff0c\u4ee5\u540e\u8bd5\u8bd5 log \u5bf9\u6570\uff1a\n",
      "    if func == 'sqrt':\n",
      "        #f=np.sqrt\n",
      "        t=1./np.sqrt(dayWeight.values.astype('m8[D]').astype(int)+1)\n",
      "    elif func=='log2':\n",
      "        #f=np.log2\n",
      "        t=1./np.log2(dayWeight.values.astype('m8[D]').astype(int)+2)\n",
      "    else: \n",
      "        raise ValueError, \"param *func* must be 'sqrt' or 'log2'\"\n",
      "\n",
      "    df['dayWeight']=t\n",
      "    df['typeWeight']=len(df)*[0.]\n",
      "    for i, v in enumerate(typeWeight):\n",
      "        df.typeWeight[df.type==i]=v\n",
      "\n",
      "    dic={}              \n",
      "    for u in usrs:\n",
      "        uinfo=df[df.user_id==u]\n",
      "        if bpu == None:\n",
      "            #buy per month, \u5047\u5b9a\u4e00\u6708 30 \u5929\uff1a\n",
      "            bpm=sum(uinfo.type==1)*30./(ets-sts).astype(int)\n",
      "            #\u4e0b\u4e2a\u6708\u7ed9 u \u63a8\u8350\u8fd9\u4e48\u591a\uff1a\n",
      "            c=int(bpm*factor)\n",
      "        else: c=int(bpu)\n",
      "            \n",
      "        pairs=[]\n",
      "        for bid, j in uinfo.groupby('brand_id'):\n",
      "            pairs.append([bid, sum(j.dayWeight*j.typeWeight)])\n",
      "        #dic[u]=set(sorted(pairs, key=lambda x:x[1], reverse=True)[:c]) #\u00d7\n",
      "        pairs.sort(key=lambda x:x[1], reverse=True)\n",
      "        dic[u]=set(zip(*pairs)[0][:c])\n",
      "    return dic\n",
      "    pass\n",
      "\n",
      "# \u627e\u6700\u4f18\u7684 i\uff1a\n",
      "# factor=1.1\n",
      "# d2=getBrandsByType(df, mons[3], mons[4]+1, (1,))\n",
      "# for i in np.arange(0, 0.7, 0.1):\n",
      "#     typeWeight=[i, 0.8-i, 0.1, 0.1]\n",
      "#     d1=predict(df, mons[0], mons[3], typeWeight, factor)\n",
      "#     f1,_,_=calcF1(d1, d2)\n",
      "#     print i, f1\n",
      "\n",
      "# \u672c\u5730\u7b97\u7740 0.1 \u6700\u597d\uff0c \u4f46\u53ea\u6709 4.5%\uff1a\n",
      "typeWeight=[0.1, 0.7, 0.1, 0.1]"
     ],
     "language": "python",
     "metadata": {},
     "outputs": [],
     "prompt_number": 2
    },
    {
     "cell_type": "code",
     "collapsed": false,
     "input": [
      "'''\n",
      "1.9.0\n",
      "0331\n",
      "\u7ed3\u679c\uff1a \u51c6\u786e\u73875.96% \u53ec\u56de\u7387 6.52% \u5f97\u52066.23% \u5f53\u5929\u6392\u540d328\n",
      "\n",
      "'''\n",
      "#8\u6708\u7ea6\u662f7\u6708\u8d2d\u4e70\u91cf factor \u500d\n",
      "factor=3530/1408. #0331 \u63d0\u4ea4\u7528\u7684\u53c2\u6570\n",
      "d1=predict(df, mons[0], mons[4]+1, typeWeight, factor, func='sqrt')\n",
      "fn='out0331.rgk.txt'\n",
      "dic2file(d1, fn)\n",
      "\n",
      "'''\n",
      "1.9.1\n",
      "0331\n",
      "\u9a6c\u7532 13575752056 \u63d0\u4ea4, \u51c6\u786e\u73874.24% \u53ec\u56de\u73878.93% \u5f97\u52065.75% \u5f53\u5929\u6392\u540d662 \n",
      "\u7b56\u7565\uff1a \u8ddf\u675c\u5b87 0331 \u5408\u5e76\n",
      "'''\n",
      "fn2=r'D:\\Documents\\GitHub\\ali\\archive\\overmind.0331.d1.txt'\n",
      "dy0331=file2dic(fn2)\n",
      "cntCommon(d1, dy0331) #d1, d2, merged, common: 3862 5227 7421 1668\n",
      "fnm=r'out0331.rgk.dy.merged.txt'\n",
      "dic2file(mergeDic(d1, dy0331), fnm)"
     ],
     "language": "python",
     "metadata": {},
     "outputs": [
      {
       "output_type": "stream",
       "stream": "stdout",
       "text": [
        "d1, d2, merged, common: 3877 5227 7432 1672\n",
        "d1, d2, merged, common:"
       ]
      },
      {
       "output_type": "stream",
       "stream": "stdout",
       "text": [
        " 3877 1303 4750 430\n"
       ]
      }
     ],
     "prompt_number": 7
    },
    {
     "cell_type": "code",
     "collapsed": false,
     "input": [
      "'''\n",
      "1.9.2\n",
      "0401\n",
      "\u9a6c\u7532 13575752056 \u63d0\u4ea4, \u51c6\u786e\u73876.07% \u53ec\u56de\u73876.12% \u5f97\u52066.10% \u5f53\u5929\u6392\u540d450\n",
      "\u7b56\u7565\uff1a out0331.rgk \u7684\u65b9\u5f0f\uff08\u975e0331\u7684\u63d0\u4ea4\u6570\u636e\uff09 \u8ddf\u675c\u5b87 0326 \u5408\u5e76\uff0c \u5e76\u4fdd\u8bc1\u603b prediction \u5728 3528 \u5de6\u53f3\n",
      "'''\n",
      "factor=3530/2014.\n",
      "d1=predict(df, mons[0], mons[4]+1, typeWeight, factor, )#func='log2')\n",
      "\n",
      "fn3=r'D:\\Documents\\GitHub\\ali\\archive\\overmind.0326.txt'\n",
      "dy0326=file2dic(fn3)\n",
      "cntCommon(d1, dy0326)\n",
      "fnm=r'out0401.rgk.dy0326.merged.txt'\n",
      "dic2file(mergeDic(d1, dy0326), fnm)\n",
      "\n",
      "#\u6700\u540e\u4e00\u5929\u57fa\u672c\u88ab\u5305\u542b\n",
      "dlast=getLastDay(df, mons[4], (1,))\n",
      "cntCommon(d1, dlast)\n",
      "\n",
      "'''\n",
      "1.9.3\n",
      "0401\n",
      "\u7ed3\u679c\uff1a \u51c6\u786e\u73876.27% \u53ec\u56de\u73876.29% \u5f97\u52066.28% \u5f53\u5929\u6392\u540d317\n",
      "\u7b56\u7565\uff1a \u4fdd\u8bc1\u603b prediction \u5728 3528 \u5de6\u53f3\n",
      "\n",
      "'''\n",
      "factor=3530/1544.\n",
      "d1=predict(df, mons[0], mons[4]+1, typeWeight, factor, )\n",
      "print howmany(d1)\n",
      "fn='out0401.rgk.txt'\n",
      "dic2file(d1, fn)"
     ],
     "language": "python",
     "metadata": {},
     "outputs": [
      {
       "output_type": "stream",
       "stream": "stdout",
       "text": [
        "3539\n"
       ]
      }
     ],
     "prompt_number": 25
    },
    {
     "cell_type": "code",
     "collapsed": false,
     "input": [
      "'''\n",
      "1.9.4\n",
      "0402\n",
      "\u9a6c\u7532 13575752056 \u63d0\u4ea4, \u51c6\u786e\u73876.24% \u53ec\u56de\u73876.27% \u5f97\u52066.26% \u5f53\u5929\u6392\u540d402\n",
      "\u7b56\u7565\uff1a \u7c7b\u4f3c 1.9.3\uff0c \u53ea\u662f sqrt -> log2\n",
      "\n",
      "\u8bf4\u660e factor \u65b9\u5f0f\u4e0d\u597d\uff0c \u6539 log2 \u4e5f\u6ca1\u5565\u6548\u679c\n",
      "'''\n",
      "factor=3530/1544.\n",
      "d1=predict(df, mons[0], mons[4]+1, typeWeight, factor, func='log2')\n",
      "print howmany(d1) #3539\n",
      "fn='out0402.factor.log2.txt'\n",
      "dic2file(d1, fn)\n",
      "\n",
      "\n",
      "'''\n",
      "1.9.5\n",
      "0402\n",
      "\u7ed3\u679c\uff1a \u51c6\u786e\u73876.86% \u53ec\u56de\u73876.75% \u5f97\u52066.81% \u5f53\u5929\u6392\u540d65\n",
      "\u7b56\u7565\uff1a \u5b9a\u91cf\u63a8\u8350 3528\uff0c \u4e14\u6539\u4e3a\u5404\u4eba\u63a8\u8350\u91cf\u76f8\u540c\uff0c\u5185\u5728\u903b\u8f91\uff1a\u4ee5\u524d\u4e70\u7684\u5c11\u7684\u8fd9\u6b21\u4e70\u7684\u591a\u3001\u4ee5\u524d\u591a\u7684\u8fd9\u6b21\u4e0d\u53d8\u3002\n",
      "'''\n",
      "d1=predict(df, mons[0], mons[4]+1, typeWeight, bpu=3528/884+1, func='sqrt')\n",
      "print howmany(d1) #3467\n",
      "fn='out0402.bpu.sqrt.txt'\n",
      "dic2file(d1, fn)\n"
     ],
     "language": "python",
     "metadata": {},
     "outputs": [
      {
       "output_type": "stream",
       "stream": "stdout",
       "text": [
        "3539\n",
        "3467"
       ]
      },
      {
       "output_type": "stream",
       "stream": "stdout",
       "text": [
        "\n"
       ]
      }
     ],
     "prompt_number": 10
    },
    {
     "cell_type": "code",
     "collapsed": false,
     "input": [
      "'''\n",
      "1.9.6\n",
      "0403\n",
      "\u7ed3\u679c\uff1a \u51c6\u786e\u73876.66% \u53ec\u56de\u73876.55% \u5f97\u52066.61% \u5f53\u5929\u6392\u540d176\n",
      "\u7b56\u7565\uff1a \u7c7b\u4f3c 1.9.5 \u5b9a\u91cf bpu\uff1b \u6539 func=log2\uff0c \u8fd8\u4e0d\u5982 sqrt\uff0c \u5dee\u8bc4\n",
      "'''\n",
      "d1=predict(df, mons[0], mons[4]+1, typeWeight, bpu=4, func='log2')\n",
      "print howmany(d1) #3467\n",
      "fn='out0403.bpu4.log2.txt'\n",
      "dic2file(d1, fn)\n",
      "\n",
      "'''\n",
      "1.9.7\n",
      "0403\n",
      "\u9a6c\u7532 13575752056 \u63d0\u4ea4, \u51c6\u786e\u73875.97% \u53ec\u56de\u73877.29% \u5f97\u52066.56% \u5f53\u5929\u6392\u540d211\n",
      "\u7b56\u7565\uff1a \u7c7b\u4f3c 1.9.6 \u5b9a\u91cf bpu\uff0c func=log2\uff1b \u6539 bpu+1, \u731c\u60f3 recall \u80fd\u63d0\u5347\uff0c\u800c precision \u4e0d\u4f1a\u660e\u663e\u964d\u4f4e\uff0c \u00d7\n",
      "'''\n",
      "d1=predict(df, mons[0], mons[4]+1, typeWeight, bpu=5, func='log2')\n",
      "print howmany(d1) #4308\n",
      "fn='out0403.bpu5.log2.txt'\n",
      "dic2file(d1, fn)\n"
     ],
     "language": "python",
     "metadata": {},
     "outputs": [
      {
       "output_type": "stream",
       "stream": "stdout",
       "text": [
        "3467\n",
        "4308"
       ]
      },
      {
       "output_type": "stream",
       "stream": "stdout",
       "text": [
        "\n"
       ]
      }
     ],
     "prompt_number": 13
    },
    {
     "cell_type": "code",
     "collapsed": false,
     "input": [
      "'''\n",
      "1.9.8\n",
      "0404\n",
      "\u7ed3\u679c\uff1a \u51c6\u786e\u73876.86% \u53ec\u56de\u73876.75% \u5f97\u52066.81% \u5f53\u5929\u6392\u540d86\n",
      "\u7b56\u7565\uff1a bpu, func=sqrt; \u5c1d\u8bd5 typeWeight \u589e\u52a0\u70b9\u51fb\u6743\u91cd 0.3, \u672c\u5730\u91cd\u65b0\u6d4b\u8bd5\n",
      "'''\n",
      "# \u627e\u6700\u4f18\u7684 i\uff1a\n",
      "\n",
      "# d2=getBrandsByType(df, mons[3], mons[4]+1, (1,))\n",
      "# for i in np.arange(0, 0.7, 0.1):\n",
      "#     typeWeight=[i, 1.0-i, 0, 0]\n",
      "#     d1=predict(df, mons[2], mons[3], typeWeight, bpu=1974/884, func='sqrt')\n",
      "#     f1,_,_=calcF1(d1, d2)\n",
      "#     print 'i, f1:', i, f1\n",
      "\n",
      "typeWeight=[.3, .7, 0, 0]\n",
      "d1=predict(df, mons[0], mons[4]+1, typeWeight, bpu=4, func='sqrt')\n",
      "print howmany(d1) #3467\n",
      "fn='out0404.198.bpu4.sqrt.txt'\n",
      "dic2file(d1, fn)\n",
      "\n",
      "\n",
      "'''\n",
      "1.9.9\n",
      "0404\n",
      "\u9a6c\u7532 13575752056 \u63d0\u4ea4, \u51c6\u786e\u73875.13% \u53ec\u56de\u73875.05% \u5f97\u52065.09% \u5f53\u5929\u6392\u540d1313\n",
      "\u7b56\u7565\uff1a bpu, func=sqrt; \u5c1d\u8bd5 typeWeight \u8bbe\u8d2d\u4e70 1.0\n",
      "'''\n",
      "typeWeight=[0, 1., 0, 0]\n",
      "d1=predict(df, mons[0], mons[4]+1, typeWeight, bpu=4, func='sqrt')\n",
      "print howmany(d1) #3467\n",
      "fn='out0404.199.bpu4.sqrt.txt'\n",
      "dic2file(d1, fn)\n"
     ],
     "language": "python",
     "metadata": {},
     "outputs": [
      {
       "output_type": "stream",
       "stream": "stdout",
       "text": [
        "3467\n",
        "3467"
       ]
      },
      {
       "output_type": "stream",
       "stream": "stdout",
       "text": [
        "\n"
       ]
      }
     ],
     "prompt_number": 8
    },
    {
     "cell_type": "code",
     "collapsed": false,
     "input": [
      "'''\n",
      "1.9.10\n",
      "0405\n",
      "\u9a6c\u7532 13575752056 \u63d0\u4ea4, \u51c6\u786e\u73876.89% \u53ec\u56de\u73876.78% \u5f97\u52066.83% \u5f53\u5929\u6392\u540d87\n",
      "\u7b56\u7565\uff1a bpu, func=sqrt; \u4eff\u7167\u5149\u80d6\uff0c typeWeight\n",
      "'''\n",
      "typeWeight=[.04, .52, .22, .22]\n",
      "d1=predict(df, mons[0], mons[4]+1, typeWeight, bpu=4, func='sqrt')\n",
      "print howmany(d1) #3467\n",
      "fn='out0405.1910.bpu4.sqrt.txt'\n",
      "dic2file(d1, fn)\n",
      "\n",
      "typeWeight=[.04, .52, 0, 0]\n",
      "d2=predict(df, mons[0], mons[4]+1, typeWeight, bpu=4, func='sqrt')\n",
      "cntCommon(d1, d2)"
     ],
     "language": "python",
     "metadata": {},
     "outputs": [
      {
       "output_type": "stream",
       "stream": "stdout",
       "text": [
        "3467\n",
        "d1, d2, merged, common:"
       ]
      },
      {
       "output_type": "stream",
       "stream": "stdout",
       "text": [
        " 3467 3467 3575 3359\n"
       ]
      }
     ],
     "prompt_number": 7
    },
    {
     "cell_type": "code",
     "collapsed": false,
     "input": [
      "'''\n",
      "1.9.11\n",
      "0416 \n",
      "\u9a6c\u7532\u5df2\u88ab\u6ce8\u9500\n",
      "\u51c6\u786e\u73876.06% \u53ec\u56de\u73878.34% \u5f97\u52067.02% \u5f53\u5929\u6392\u540d114\n",
      "\u7b56\u7565\uff1a \u6bd4\u8f83\u4efb\u5149\u9614\u6587\u4ef6\u4e0e 1.9.10\u6b21\u63d0\u4ea4\uff0c \u53d1\u73b0\u5f88\u4e0d\u76f8\u540c\uff01\u4e8e\u662f\u5408\u5e76\u63d0\u4ea4\n",
      "'''\n",
      "\n",
      "fnrgk=r'rgk0416.result.txt'\n",
      "fn='out0405.1910.bpu4.sqrt.txt'\n",
      "cntCommon(fn, fnrgk)\n",
      "\n",
      "ofn='out0416.merge.rgk.txt'\n",
      "mergeFiles(ofn, fn, fnrgk)\n",
      "howmany(ofn)"
     ],
     "language": "python",
     "metadata": {},
     "outputs": [
      {
       "output_type": "stream",
       "stream": "stdout",
       "text": [
        "d1, d2, merged, common: 3467 3528 4854 2141\n"
       ]
      },
      {
       "metadata": {},
       "output_type": "pyout",
       "prompt_number": 9,
       "text": [
        "4854"
       ]
      }
     ],
     "prompt_number": 9
    },
    {
     "cell_type": "code",
     "collapsed": false,
     "input": [
      "'''\n",
      "1.9.12\n",
      "0418\n",
      "\u51c6\u786e\u73877.37% \u53ec\u56de\u73876.83% \u5f97\u52067.09% \u5f53\u5929\u6392\u540d133\n",
      "\u7b56\u7565\uff0c \u6bd4\u8f83 rgk.2000\uff0c \u5c1d\u8bd5\u5408\u5e76\u63d0\u4ea4\n",
      "'''\n",
      "\n",
      "rgk0=r'rgk0416.result.txt'\n",
      "rgk=r'rgk0417.2000.txt'\n",
      "fn='out0405.1910.bpu4.sqrt.txt'\n",
      "cntCommon(fn, rgk)   #3467 2000 3917 1550\n",
      "cntCommon(rgk0, rgk) #3528 2000 3528 2000\n",
      "\n",
      "typeWeight=[.04, .52, .22, .22]\n",
      "d1=predict(df, mons[0], mons[4]+1, typeWeight, bpu=3, func='sqrt')\n",
      "print howmany(d1) #2617\n",
      "cntCommon(d1, rgk) #2617 2000 3271 1346\n",
      "md=mergeDic(d1, file2dic(rgk))\n",
      "ofn='out0418.merge.rgk2000.txt'\n",
      "dic2file(md, ofn)\n",
      "howmany(ofn)"
     ],
     "language": "python",
     "metadata": {},
     "outputs": [
      {
       "output_type": "stream",
       "stream": "stdout",
       "text": [
        "d1, d2, merged, common: 3467 2000 3917 1550\n",
        "d1, d2, merged, common: 3528 2000 3528 2000\n",
        "2617"
       ]
      },
      {
       "output_type": "stream",
       "stream": "stdout",
       "text": [
        "\n",
        "d1, d2, merged, common: 2617 2000 3271 1346\n"
       ]
      },
      {
       "metadata": {},
       "output_type": "pyout",
       "prompt_number": 10,
       "text": [
        "3271"
       ]
      }
     ],
     "prompt_number": 10
    },
    {
     "cell_type": "code",
     "collapsed": false,
     "input": [
      "'''\n",
      "1.9.13\n",
      "0419\n",
      "\n",
      "\u7b56\u7565\uff0c \u5408\u5e76 rgk 2500\n",
      "'''\n",
      "\n",
      "rgk=r'rgk0418.2500.txt'\n",
      "typeWeight=[.04, .52, .22, .22]\n",
      "d1=predict(df, mons[0], mons[4]+1, typeWeight, bpu=3, func='sqrt')\n",
      "print howmany(d1) #2617\n",
      "cntCommon(d1, rgk) #2617 2500 3589 1528\n",
      "md=mergeDic(d1, file2dic(rgk))\n",
      "ofn='out0419.merge.rgk2500.txt'\n",
      "dic2file(md, ofn)\n",
      "howmany(ofn)\n",
      "\n",
      "\n",
      "'''\n",
      "0418\n",
      "\u53d1\u7ed9\u738b\u707f\u4e00\u4efd bpu=2 \u7684\u7ed9\u4ed6\u5408\u5e76\n",
      "'''\n",
      "\n",
      "typeWeight=[.04, .52, .22, .22]\n",
      "d1=predict(df, mons[0], mons[4]+1, typeWeight, bpu=2, func='sqrt')\n",
      "ofn='zc0418.bpu2.txt'\n",
      "dic2file(d1, ofn)\n",
      "howmany(d1)"
     ],
     "language": "python",
     "metadata": {},
     "outputs": [
      {
       "output_type": "stream",
       "stream": "stdout",
       "text": [
        "2617\n",
        "d1, d2, merged, common: 2617 2500 3589 1528\n"
       ]
      },
      {
       "metadata": {},
       "output_type": "pyout",
       "prompt_number": 11,
       "text": [
        "3589"
       ]
      }
     ],
     "prompt_number": 11
    },
    {
     "cell_type": "code",
     "collapsed": false,
     "input": [
      "'''\n",
      "TODO:\n",
      "\u5c1d\u8bd5 1.9 \u5408\u5e76\u675c\u5b87 0326\uff0c0329\n",
      "\u95ee\u4efb\u5149\u9614\uff0c \u8c03\u53c2\uff0c \u672c\u5730\u4ed6\u4e5f\u8fd9\u4e48\u4f4e\uff1f\n",
      "'''"
     ],
     "language": "python",
     "metadata": {},
     "outputs": []
    },
    {
     "cell_type": "code",
     "collapsed": false,
     "input": [],
     "language": "python",
     "metadata": {},
     "outputs": []
    },
    {
     "cell_type": "code",
     "collapsed": false,
     "input": [
      "'''\n",
      "2.\n",
      "Peer Review \u90e8\u5206\n",
      "'''\n",
      "\n",
      "print '---------------\u68c0\u67e5\u9a8c\u8bc1\u675c\u5b87\u4e24\u6b21\u7684 F1, \u6709\u70b9\u9ad8\u554a\u3002\u3002'\n",
      "fn1=r'D:\\Documents\\Desktop\\overmind0615-0715.txt'\n",
      "fn2=r'D:\\Documents\\Desktop\\overmind0715-0815.txt'\n",
      "d1=file2dic(fn1)\n",
      "d2=file2dic(fn2)\n",
      "\n",
      "d67=getBrandsByType(df, mons[2], mons[3], types=(1,))\n",
      "d78=getBrandsByType(df, mons[3], mons[4], types=(1,))\n",
      "calcF1(d1, d67)\n",
      "calcF1(d2, d78)"
     ],
     "language": "python",
     "metadata": {},
     "outputs": [
      {
       "output_type": "stream",
       "stream": "stdout",
       "text": [
        "---------------\u68c0\u67e5\u9a8c\u8bc1\u675c\u5b87\u4e24\u6b21\u7684 F1, \u6709\u70b9\u9ad8\u554a\u3002\u3002\n",
        "hitCnt, predCnt, gtCnt:"
       ]
      },
      {
       "output_type": "stream",
       "stream": "stdout",
       "text": [
        " 276 3363 1256\n",
        "----------11.95,8.21,21.97\n",
        "hitCnt, predCnt, gtCnt: 471 6567 1346\n",
        "----------11.90,7.17,34.99\n"
       ]
      },
      {
       "metadata": {},
       "output_type": "pyout",
       "prompt_number": 60,
       "text": [
        "(0.11904461013522052, 0.07172224760164458, 0.34992570579494797)"
       ]
      }
     ],
     "prompt_number": 60
    },
    {
     "cell_type": "code",
     "collapsed": false,
     "input": [
      "'''\n",
      "3\n",
      "\u6570\u636e\u63a2\u67e5\u63a2\u6d4b\u90e8\u5206\n",
      "'''\n",
      "\n",
      "#count unique \n",
      "def cntu(it): return len(set(it))\n",
      "\n",
      "print '---------------'\n",
      "print '\u72ec\u7acb\u7528\u6237/\u5546\u54c1/\u884c\u4e3a/\u65f6\u95f4 \u8ba1\u6570\uff1a', cntu(uids), cntu(bids), cntu(tps), cntu(vds)\n",
      "# 884 9531 4 123\n",
      "\n",
      "print 'type0123 \u53d1\u751f\u6b21\u6570\uff1a', Counter(tps)\n",
      "# Out[24]: Counter({0: 174539, 1: 6984, 2: 1204, 3: 153})\n",
      "# \u70b9\u51fb\uff1a0 \u8d2d\u4e70\uff1a1 \u6536\u85cf\uff1a2 \u8d2d\u7269\u8f66\uff1a3\n",
      "# http://bbs.aliyun.com/read/153570.html?spm=5176.383345.0.0.TmrbXy\n",
      "# 4\u4e2a\u6708\u7684\u8d2d\u4e70\u52a8\u4f5c\u6709\u8fd17000\u6b21\uff0c\u800c\u8d2d\u7269\u8f66\u52a8\u4f5c\u5374\u53ea\u6709100\u591a\u6b21\n",
      "\n",
      "#\u7edf\u8ba1\u5404\u6708\u70b9\u51fb\uff0c\u8d2d\u4e70\uff0c etc. \u603b\u91cf\n",
      "def countByMonth(df, mons, atype=None):\n",
      "    res=[]\n",
      "    if atype != None:\n",
      "        df=df[df.type==atype]\n",
      "    vds=df.visit_datetime\n",
      "    for i, m in enumerate(mons[:-1]):\n",
      "        dfm = df[(m<=vds) & (vds<mons[i+1])]\n",
      "        res.append(dfm.shape[0])\n",
      "    #res.append(df[vds>=mons[-1]].shape[0])\n",
      "    return res\n",
      "\n",
      "\n",
      "acts=('click', 'buy', 'fav', 'cart')\n",
      "print '4567\u6708\u5355\u6708\uff1a', countByMonth(df, mons)\n",
      "#[35938, 43916, 50480, 50187, 2359]\n",
      "\n",
      "for i, v in enumerate(acts):\n",
      "    print v, countByMonth(df, mons, i)\n",
      "\n",
      "\n",
      "print '---------------' '\u5355\u770b\u67d0\u4e00\u7528\u6237\uff0c \u8fc7\u4e8e\u6d3b\u8dc3\uff0c \u7591\u4f3c\u5237\u5355\u7528\u6237'\n",
      "u=711500\n",
      "dfu=df[uids==u]\n",
      "df1=dfu[dfu.type==1]\n",
      "df23=df[(uids==u)&((tps==2)|(tps==3))]\n",
      "print df1.sort('visit_datetime').head()\n",
      "print set(df1.brand_id)\n",
      "\n",
      "\n",
      "def getActiveUcnt(df, sts, ets):\n",
      "    df=maskFilter(df, sts, ets, types=(0,1,2,3))\n",
      "    return cntu(df.user_id)\n",
      "    pass\n",
      "\n",
      "\n",
      "print '---------------' '\u63a2\u6d4b\u662f\u5426\u6bcf\u6708\u6837\u672c\u4e2d\u6240\u6709\u7528\u6237\u90fd\u6709\u8db3\u8ff9\uff1f'\n",
      "print '4-8\u6708\u6d3b\u8dc3\u7528\u6237\u603b\u8ba1\uff1a', getActiveUcnt(df, mons[0], mons[4])\n",
      "for i, v in enumerate(mons[:-1]):\n",
      "    print v, getActiveUcnt(df, v, mons[i+1])\n"
     ],
     "language": "python",
     "metadata": {},
     "outputs": [
      {
       "output_type": "stream",
       "stream": "stdout",
       "text": [
        "---------------\n",
        "\u72ec\u7acb\u7528\u6237/\u5546\u54c1/\u884c\u4e3a/\u65f6\u95f4 \u8ba1\u6570\uff1a 884 "
       ]
      },
      {
       "output_type": "stream",
       "stream": "stdout",
       "text": [
        "9531 4 "
       ]
      },
      {
       "output_type": "stream",
       "stream": "stdout",
       "text": [
        "123\n",
        "type0123 \u53d1\u751f\u6b21\u6570\uff1a "
       ]
      },
      {
       "output_type": "stream",
       "stream": "stdout",
       "text": [
        "Counter({0: 174539, 1: 6984, 2: 1204, 3: 153})\n",
        "4567\u6708\u5355\u6708\uff1a [35938, 43916, 50480, 50187]\n",
        "click "
       ]
      },
      {
       "output_type": "stream",
       "stream": "stdout",
       "text": [
        "[34237, 42057, 48246, 47748]\n",
        "buy [1429, 1607, 1888, 1974]\n",
        "fav [261, 227, 305, 394]\n",
        "cart [11, 25, 41, 71]\n",
        "---------------\u5355\u770b\u67d0\u4e00\u7528\u6237\uff0c \u8fc7\u4e8e\u6d3b\u8dc3\uff0c \u7591\u4f3c\u5237\u5355\u7528\u6237\n",
        "       user_id  brand_id  type      visit_datetime\n",
        "52918   711500     11578     1 2012-05-07 00:00:00\n",
        "52531   711500     26722     1 2012-05-18 00:00:00\n",
        "52885   711500      4709     1 2012-05-20 00:00:00\n",
        "52883   711500      4709     1 2012-05-20 00:00:00\n",
        "52897   711500     14360     1 2012-05-20 00:00:00\n",
        "set([26722, 4709, 11052, 14360, 11578, 17118])\n",
        "---------------\u63a2\u6d4b\u662f\u5426\u6bcf\u6708\u6837\u672c\u4e2d\u6240\u6709\u7528\u6237\u90fd\u6709\u8db3\u8ff9\uff1f\n",
        "4-8\u6708\u6d3b\u8dc3\u7528\u6237\u603b\u8ba1\uff1a "
       ]
      },
      {
       "output_type": "stream",
       "stream": "stdout",
       "text": [
        "882\n",
        "2012-04-15 748\n",
        "2012-05-15 "
       ]
      },
      {
       "output_type": "stream",
       "stream": "stdout",
       "text": [
        "788\n",
        "2012-06-15 805\n",
        "2012-07-15 "
       ]
      },
      {
       "output_type": "stream",
       "stream": "stdout",
       "text": [
        "823\n"
       ]
      }
     ],
     "prompt_number": 63
    },
    {
     "cell_type": "code",
     "collapsed": false,
     "input": [],
     "language": "python",
     "metadata": {},
     "outputs": []
    }
   ],
   "metadata": {}
  }
 ]
}