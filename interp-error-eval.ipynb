{
 "metadata": {
  "name": "interp-error-eval"
 },
 "nbformat": 3,
 "nbformat_minor": 0,
 "worksheets": [
  {
   "cells": [
    {
     "cell_type": "code",
     "collapsed": false,
     "input": [
      "from scipy.interpolate import interp1d\n",
      "from pylab import *"
     ],
     "language": "python",
     "metadata": {},
     "outputs": [],
     "prompt_number": 1
    },
    {
     "cell_type": "code",
     "collapsed": false,
     "input": [
      "sz=101\n",
      "x=arange(sz)\n",
      "y=np.random.randint(20, size=sz)"
     ],
     "language": "python",
     "metadata": {},
     "outputs": [],
     "prompt_number": 2
    },
    {
     "cell_type": "code",
     "collapsed": false,
     "input": [
      "x_fit=array([i for i in range(sz) if i%2==0])\n",
      "y_fit=array([y[i] for i in x_fit])\n",
      "\n",
      "x_test=array([i for i in range(sz) if i%2!=0])\n",
      "y_test=array([y[i] for i in x_test])\n",
      "\n",
      "f=interp1d(x_fit, y_fit, kind=1)\n",
      "sum=0\n",
      "for i in x_test:\n",
      "    err=y[i]-f(i)\n",
      "    sum+=err**2\n",
      "    \n",
      "x_fit.shape, y_fit.shape, sum"
     ],
     "language": "python",
     "metadata": {},
     "outputs": [
      {
       "output_type": "pyout",
       "prompt_number": 3,
       "text": [
        "((51,), (51,), 2774.25)"
       ]
      }
     ],
     "prompt_number": 3
    },
    {
     "cell_type": "code",
     "collapsed": false,
     "input": [
      "nx=linspace(0, sz-1, 1000)\n",
      "plot(x_fit, y_fit, 'or', x_test, y_test, 'og', nx, f(nx), '--')\n",
      "show()"
     ],
     "language": "python",
     "metadata": {},
     "outputs": [],
     "prompt_number": 4
    },
    {
     "cell_type": "code",
     "collapsed": false,
     "input": [
      "end=5\n",
      "x=arange(end)\n",
      "y=np.append(arange(end-1), end-2)\n",
      "f=interp1d(x, y, kind=3)\n",
      "print f\n",
      "nx=linspace(0, end-1, 100)\n",
      "plot(x, y, 'o', nx, f(nx), 'r')\n",
      "show()"
     ],
     "language": "python",
     "metadata": {},
     "outputs": [
      {
       "output_type": "stream",
       "stream": "stdout",
       "text": [
        "<scipy.interpolate.interpolate.interp1d object at 0x0BCC2230>\n"
       ]
      }
     ],
     "prompt_number": 18
    },
    {
     "cell_type": "code",
     "collapsed": false,
     "input": [
      "sz=22\n",
      "#piece\n",
      "pc=4 \n",
      "x=arange(sz)\n",
      "y=[0 if i%2 is 0 else 1 for i in range(sz)]\n",
      "f=interp1d(x, y, 3)\n",
      "nx=linspace(0, sz-1, 400)\n",
      "\n",
      "f2=interp1d(x[:pc], y[:pc], 3)\n",
      "nx2=linspace(0, pc-1, 50)\n",
      "#plot(x, y, 'o', nx, f(nx), 'b',  nx2, f2(nx2), '--')\n",
      "plot(x, y, 'o', nx, f(nx), 'b',  )\n",
      "for i in range(0, sz-1, pc-1):\n",
      "    #print(i)\n",
      "    f2=interp1d(x[i:i+pc], y[i:i+pc], 3)\n",
      "    nx2=linspace(i, i+pc-1, 50)\n",
      "    plot(nx2, f2(nx2), '-.')\n",
      "show()"
     ],
     "language": "python",
     "metadata": {},
     "outputs": [],
     "prompt_number": 79
    },
    {
     "cell_type": "code",
     "collapsed": false,
     "input": [
      "sz=20\n",
      "x=arange(sz)\n",
      "y=[0 if i%2 is 0 else 1 for i in range(sz)]\n",
      "f=interp1d(x, y, 3)\n",
      "nx=linspace(0, sz-1, 400)\n",
      "plot(x, y, 'o', nx, f(nx), 'b',  )\n",
      "\n",
      "beg=3\n",
      "end=12\n",
      "x2=arange(beg, end)\n",
      "y2=[y[i] for i in x2]\n",
      "f2=interp1d(x2, y2, 3)\n",
      "nx2=linspace(beg, end-1, 400)\n",
      "plot(x2, y2, 'or', nx2, f2(nx2), 'cyan')\n",
      "show()"
     ],
     "language": "python",
     "metadata": {},
     "outputs": [],
     "prompt_number": 95
    },
    {
     "cell_type": "code",
     "collapsed": false,
     "input": [],
     "language": "python",
     "metadata": {},
     "outputs": []
    }
   ],
   "metadata": {}
  }
 ]
}