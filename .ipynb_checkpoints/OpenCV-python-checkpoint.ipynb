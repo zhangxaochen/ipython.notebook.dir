{
 "metadata": {
  "_draft": {
   "nbviewer_url": "\"gisting : OpenCV.ipynb\"\n"
  },
  "name": ""
 },
 "nbformat": 3,
 "nbformat_minor": 0,
 "worksheets": [
  {
   "cells": [
    {
     "cell_type": "code",
     "collapsed": false,
     "input": [
      "%cd D:\\Documents\\Desktop\n",
      "import cv2\n",
      "import cv2 as cv\n",
      "import numpy as np\n",
      "from matplotlib import pyplot as plt\n",
      "import operator\n",
      "\n",
      "wn='test'\n",
      "def myshow(img):\n",
      "    cv.imshow(wn, img)\n",
      "    cv.waitKey() #\u4e0d\u51990 \u4e5f\u53ef\u4ee5\n",
      "    cv.destroyAllWindows()"
     ],
     "language": "python",
     "metadata": {},
     "outputs": [
      {
       "output_type": "stream",
       "stream": "stdout",
       "text": [
        "D:\\Documents\\Desktop\n"
       ]
      }
     ],
     "prompt_number": 3
    },
    {
     "cell_type": "code",
     "collapsed": false,
     "input": [
      "'http://docs.opencv.org/trunk/doc/py_tutorials/py_gui/py_image_display/py_image_display.html#py-display-image'\n",
      "fni='1.jpg'\n",
      "img= cv.imread(fni)\n",
      "\n",
      "cv.namedWindow(wn, cv.WINDOW_NORMAL)\n",
      "cv.imshow(wn, img)\n",
      "k=cv.waitKey()\n",
      "cv.destroyAllWindows()\n",
      "print k, chr(k)"
     ],
     "language": "python",
     "metadata": {},
     "outputs": [
      {
       "output_type": "stream",
       "stream": "stdout",
       "text": [
        "101 e\n"
       ]
      }
     ],
     "prompt_number": 2
    },
    {
     "cell_type": "code",
     "collapsed": false,
     "input": [
      "'http://docs.opencv.org/trunk/doc/py_tutorials/py_gui/py_video_display/py_video_display.html'\n",
      "fnv='3.wmv'\n",
      "cap=cv.VideoCapture(fnv)\n",
      "# cap.isOpened()\n",
      "while cap.isOpened():\n",
      "    ret, frame=cap.read()\n",
      "    if cv.waitKey(1)==ord('q') or not ret:\n",
      "#     if cv.waitKey(1) & 0xFF == ord('q'): #why 0xFF????????\n",
      "        break\n",
      "    cv.imshow(wn, frame)\n",
      "    cv.imshow(wn, cv.flip(frame, 1))\n",
      "\n",
      "print cap.isOpened()\n",
      "cap.release()\n",
      "cv.destroyAllWindows()"
     ],
     "language": "python",
     "metadata": {},
     "outputs": [
      {
       "output_type": "stream",
       "stream": "stdout",
       "text": [
        "True\n"
       ]
      }
     ],
     "prompt_number": 3
    },
    {
     "cell_type": "code",
     "collapsed": false,
     "input": [
      "'\u56fe\u5f62\u7ed8\u5236\u51fd\u6570\uff0c\u7ebf\uff0c\u65b9\u6846\uff0c\u692d\u5706'\n",
      "'http://docs.opencv.org/trunk/doc/py_tutorials/py_gui/py_drawing_functions/py_drawing_functions.html#drawing-functions'\n",
      "w=512\n",
      "img=np.zeros((w, w, 3))\n",
      "p1=(0,0)\n",
      "p2=(w-1,)*2\n",
      "#BGR:\n",
      "c=(255,250,0)\n",
      "cv.line(img, p1, p2, c, 5)\n",
      "cv.ellipse(img,(256,256),(100,50),30,0,280, c, 2)\n",
      "myshow(img)"
     ],
     "language": "python",
     "metadata": {},
     "outputs": [],
     "prompt_number": 4
    },
    {
     "cell_type": "code",
     "collapsed": false,
     "input": [
      "pts = np.array([[10,5],[20,30],[70,20],[50,10]], np.int32)\n",
      "# pts = pts.reshape((-1,1,2)) #\u4e3a\u5565\u8981\u8fd9\u6b65???????????????\n",
      "cv.polylines(img,[pts],True,(0,255,255), 5)\n",
      "myshow(img)"
     ],
     "language": "python",
     "metadata": {},
     "outputs": [],
     "prompt_number": 5
    },
    {
     "cell_type": "code",
     "collapsed": false,
     "input": [
      "'http://docs.opencv.org/trunk/doc/py_tutorials/py_gui/py_mouse_handling/py_mouse_handling.html'\n",
      "[(i, getattr(cv, i)) for i in dir(cv) if 'EVENT' in i]"
     ],
     "language": "python",
     "metadata": {},
     "outputs": [
      {
       "metadata": {},
       "output_type": "pyout",
       "prompt_number": 20,
       "text": [
        "[('EVENT_FLAG_ALTKEY', 32L),\n",
        " ('EVENT_FLAG_CTRLKEY', 8L),\n",
        " ('EVENT_FLAG_LBUTTON', 1L),\n",
        " ('EVENT_FLAG_MBUTTON', 4L),\n",
        " ('EVENT_FLAG_RBUTTON', 2L),\n",
        " ('EVENT_FLAG_SHIFTKEY', 16L),\n",
        " ('EVENT_LBUTTONDBLCLK', 7L),\n",
        " ('EVENT_LBUTTONDOWN', 1L),\n",
        " ('EVENT_LBUTTONUP', 4L),\n",
        " ('EVENT_MBUTTONDBLCLK', 9L),\n",
        " ('EVENT_MBUTTONDOWN', 3L),\n",
        " ('EVENT_MBUTTONUP', 6L),\n",
        " ('EVENT_MOUSEMOVE', 0L),\n",
        " ('EVENT_RBUTTONDBLCLK', 8L),\n",
        " ('EVENT_RBUTTONDOWN', 2L),\n",
        " ('EVENT_RBUTTONUP', 5L)]"
       ]
      }
     ],
     "prompt_number": 20
    },
    {
     "cell_type": "code",
     "collapsed": false,
     "input": [
      "import cv2\n",
      "import numpy as np\n",
      "\n",
      "# mouse callback function\n",
      "def draw_circle(event,x,y,flags,param):\n",
      "    print 'in draw_circle:', event\n",
      "    if event == cv2.EVENT_LBUTTONDBLCLK:\n",
      "        cv2.circle(img,(x,y),100,(255,0,0),1)\n",
      "\n",
      "# Create a black image, a window and bind the function to window\n",
      "img = np.zeros((512,512,3), np.uint8)\n",
      "cv2.namedWindow('image')\n",
      "cv2.setMouseCallback('image',draw_circle)\n",
      "\n",
      "while(1):\n",
      "    cv2.imshow('image',img)\n",
      "    if cv2.waitKey(20) & 0xFF == 27:\n",
      "        break\n",
      "cv2.destroyAllWindows()"
     ],
     "language": "python",
     "metadata": {},
     "outputs": [
      {
       "output_type": "stream",
       "stream": "stdout",
       "text": [
        "in draw_circle: 0\n"
       ]
      }
     ],
     "prompt_number": 5
    },
    {
     "cell_type": "code",
     "collapsed": false,
     "input": [
      "def nothing(x):\n",
      "    pass\n",
      "\n",
      "# Create a black image, a window\n",
      "img = np.zeros((300,512,3), np.uint8)\n",
      "cv2.namedWindow('image')\n",
      "\n",
      "# create trackbars for color change\n",
      "cv2.createTrackbar('R','image',0,255,nothing)\n",
      "cv2.createTrackbar('G','image',0,255,nothing)\n",
      "cv2.createTrackbar('B','image',0,255,nothing)\n",
      "\n",
      "# create switch for ON/OFF functionality\n",
      "switch = '0 : OFF \\n1 : ON'\n",
      "cv2.createTrackbar(switch, 'image',0,1,nothing)\n",
      "\n",
      "while(1):\n",
      "    cv2.imshow('image',img)\n",
      "    k = cv2.waitKey(1) & 0xFF\n",
      "    if k == 27:\n",
      "        break\n",
      "\n",
      "    # get current positions of four trackbars\n",
      "    r = cv2.getTrackbarPos('R','image')\n",
      "    g = cv2.getTrackbarPos('G','image')\n",
      "    b = cv2.getTrackbarPos('B','image')\n",
      "    s = cv2.getTrackbarPos(switch,'image')\n",
      "\n",
      "    if s == 0:\n",
      "        img[:] = 0\n",
      "    else:\n",
      "        img[:] = [b,g,r]\n",
      "\n",
      "cv2.destroyAllWindows()"
     ],
     "language": "python",
     "metadata": {},
     "outputs": [],
     "prompt_number": 7
    },
    {
     "cell_type": "code",
     "collapsed": false,
     "input": [
      "BLUE = [255,0,0]\n",
      "\n",
      "img1 = cv2.imread('opencv-logo.png')\n",
      "\n",
      "replicate = cv2.copyMakeBorder(img1,10,10,10,10,cv2.BORDER_REPLICATE)\n",
      "reflect = cv2.copyMakeBorder(img1,10,10,10,10,cv2.BORDER_REFLECT)\n",
      "reflect101 = cv2.copyMakeBorder(img1,10,10,10,10,cv2.BORDER_REFLECT_101)\n",
      "wrap = cv2.copyMakeBorder(img1,10,10,10,10,cv2.BORDER_WRAP)\n",
      "constant= cv2.copyMakeBorder(img1,10,10,10,10,cv2.BORDER_CONSTANT,value=BLUE)\n",
      "\n",
      "plt.subplot(231),plt.imshow(img1,'gray'),plt.title('ORIGINAL')\n",
      "plt.subplot(232),plt.imshow(replicate,'gray'),plt.title('REPLICATE')\n",
      "plt.subplot(233),plt.imshow(reflect,'gray'),plt.title('REFLECT')\n",
      "plt.subplot(234),plt.imshow(reflect101,'gray'),plt.title('REFLECT_101')\n",
      "plt.subplot(235),plt.imshow(wrap,'gray'),plt.title('WRAP')\n",
      "plt.subplot(236),plt.imshow(constant,'gray'),plt.title('CONSTANT')\n",
      "\n",
      "plt.show()"
     ],
     "language": "python",
     "metadata": {},
     "outputs": [],
     "prompt_number": 4
    },
    {
     "cell_type": "code",
     "collapsed": false,
     "input": [
      "img1 = cv2.imread('messi5.jpg')\n",
      "\n",
      "e1 = cv2.getTickCount()\n",
      "for i in xrange(5,49,2):\n",
      "    img1 = cv2.medianBlur(img1,i)\n",
      "e2 = cv2.getTickCount()\n",
      "t = (e2 - e1)/cv2.getTickFrequency()\n",
      "print t"
     ],
     "language": "python",
     "metadata": {},
     "outputs": [
      {
       "output_type": "stream",
       "stream": "stdout",
       "text": [
        "0.605780636253\n"
       ]
      }
     ],
     "prompt_number": 5
    },
    {
     "cell_type": "code",
     "collapsed": false,
     "input": [
      "%timeit -n100 cv.medianBlur(img1, 49) "
     ],
     "language": "python",
     "metadata": {},
     "outputs": [
      {
       "output_type": "stream",
       "stream": "stdout",
       "text": [
        "100 loops, best of 3: 24.1 ms per loop\n"
       ]
      }
     ],
     "prompt_number": 169
    },
    {
     "cell_type": "code",
     "collapsed": false,
     "input": [],
     "language": "python",
     "metadata": {},
     "outputs": []
    },
    {
     "cell_type": "code",
     "collapsed": false,
     "input": [],
     "language": "python",
     "metadata": {},
     "outputs": []
    }
   ],
   "metadata": {}
  }
 ]
}