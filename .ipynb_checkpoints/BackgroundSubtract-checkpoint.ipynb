{
 "metadata": {
  "name": ""
 },
 "nbformat": 3,
 "nbformat_minor": 0,
 "worksheets": [
  {
   "cells": [
    {
     "cell_type": "code",
     "collapsed": false,
     "input": [
      "'hand \u6570\u636e, \u5434\u9e4f\u9e4f\u91c7\u96c6'\n",
      "\n",
      "%pylab\n",
      "import numpy as np\n",
      "from glob import glob\n",
      "import os, sys\n",
      "from collections import Counter\n",
      "import heapq\n",
      "import cv2\n",
      "cv=cv2\n",
      "\n",
      "def scale(dat, nmin, nmax):\n",
      "    dat=np.asarray(dat)\n",
      "    omin=dat.min()\n",
      "    omax=dat.max()\n",
      "    orange=omax-omin\n",
      "    #nmax=255; nmin=0\n",
      "    nrange=nmax-nmin\n",
      "    assert nrange>=0, 'nmax must be greater than nmin'\n",
      "    return (dat-omin)*nrange*1.0/orange+nmin\n",
      "\n",
      "'WPP \u7684csv\u4e2d\uff0c 0\u4f5c\u4e3a\u80cc\u666f\u503c'\n",
      "invalid=0\n",
      "def loadCsv(fn):\n",
      "    d=np.loadtxt(fn)\n",
      "    '\u627e\u5230\u6709\u6548\u503c\u7684 max, min'\n",
      "    dmax=d.max()\n",
      "    fd=d.flatten()\n",
      "    sfd=set(fd)\n",
      "    dmin=heapq.nsmallest(2, sfd)[-1]\n",
      "\n",
      "    'invalid \u91cd\u65b0\u8d4b\u503c'\n",
      "    #dc=d.copy()\n",
      "    #dc[d==invalid]=dmax+(dmax-dmin)*.1\n",
      "    d[d==invalid]=dmax+(dmax-dmin)*.1\n",
      "    \n",
      "    return d\n",
      "\n",
      "%cd D:\\Administrator\\Desktop\\obj&csv"
     ],
     "language": "python",
     "metadata": {},
     "outputs": [
      {
       "output_type": "stream",
       "stream": "stdout",
       "text": [
        "Using matplotlib backend: Qt4Agg\n",
        "Populating the interactive namespace from numpy and matplotlib\n",
        "D:\\Administrator\\Desktop\\obj&csv"
       ]
      },
      {
       "output_type": "stream",
       "stream": "stdout",
       "text": [
        "\n"
       ]
      }
     ],
     "prompt_number": 1
    },
    {
     "cell_type": "code",
     "collapsed": false,
     "input": [
      "'\u6d4b\u8bd5 pylab \u753b\u6df1\u5ea6\u56fe'\n",
      "fn='handPoint0.csv'\n",
      "dc=loadCsv(fn)\n",
      "imshow(scale(dc, 0, 255), cmap=cm.gray)\n",
      "# imshow(dc, cm.gray) #\u4e0d scale \u6548\u679c\u4f3c\u4e4e\u4e5f\u4e00\u6837\n"
     ],
     "language": "python",
     "metadata": {},
     "outputs": [
      {
       "metadata": {},
       "output_type": "pyout",
       "prompt_number": 2,
       "text": [
        "<matplotlib.image.AxesImage at 0x804b510>"
       ]
      }
     ],
     "prompt_number": 2
    },
    {
     "cell_type": "code",
     "collapsed": false,
     "input": [
      "'opencv \u64ad\u653e\u52a8\u753b\u5f0f\u67e5\u770b\u6df1\u5ea6\u56fe'\n",
      "\n",
      "files=glob('*.csv')\n",
      "wn='hand'\n",
      "'\u95f4\u9694\uff0c\u6beb\u79d2\uff0c 0 \u4e3a\u624b\u52a8\u6309\u952e\u63a7\u5236'\n",
      "intv=800\n",
      "for i in range(len(files)):\n",
      "# for i in range(77, 100):\n",
      "    fn='handPoint%d.csv'%i\n",
      "    if not os.path.isfile(fn): continue\n",
      "    #print fn\n",
      "    #d=np.loadtxt(fn)\n",
      "    img=loadCsv(fn)\n",
      "    #print img\n",
      "    cv.imshow(wn, scale(img, 0, 1))\n",
      "    k=cv.waitKey(intv)\n",
      "    if k==ord('q'):\n",
      "        print 'i:', i\n",
      "        break\n",
      "    \n",
      "cv.destroyAllWindows()\n"
     ],
     "language": "python",
     "metadata": {},
     "outputs": [],
     "prompt_number": 4
    },
    {
     "cell_type": "code",
     "collapsed": false,
     "input": [
      "'''\n",
      "\u7ed9\u5b59\u56fd\u98de\u8f93\u51fa\u65b0obj, \u89c4\u5219\uff1a\n",
      "\u7b2c\u4e00\u884c\u603b\u70b9\u6570\uff0c\u7b2c\u4e8c\u884c\u516d\u5757\u5404\u81ea\u70b9\u6570\uff0c\n",
      "\u4e4b\u540e 'v x y z', \u7a7a\u884c\u5206\u5272\u516d\u5757\n",
      "'''\n",
      "\n",
      "def outputObj(cfn, lfn, ofn):\n",
      "    ur'''\n",
      "    PARAMS\n",
      "    ---------------\n",
      "    cfn: \u5434\u9e4f\u9e4f csv \u6df1\u5ea6\u56fe, input\n",
      "    lfn: \u5f20\u5a1c png \u5f69\u8272 label \u56fe, input\n",
      "    ofn: \u6309\u534f\u8bae\u683c\u5f0f\u8f93\u51fa\u7684 .obj\uff0c output\n",
      "    \n",
      "    RETURNS\n",
      "    ---------------\n",
      "    None\n",
      "    '''\n",
      "    img=pylab.imread(lfn)\n",
      "    #pylab.imshow(img)\n",
      "\n",
      "    depth=np.loadtxt(cfn, dtype=int)\n",
      "    \n",
      "    #img=img.flatten().reshape((-1, 3))\n",
      "    #\u50cf\u7d20\u70b9\u505a tuple(x,y,z), 2D -> 1D:\n",
      "    pxs=[tuple(i) for i in img.flatten().reshape((-1, 3))]\n",
      "    \n",
      "    'dict(\u7f16\u53f7: \u989c\u8272), 0~5 \u987a\u5e8f\u4e3a\uff1a \u624b\u638c\uff0c \u62c7\u6307 -> \u5c0f\u6307'\n",
      "    colors=sorted(set(pxs))\n",
      "    #print 'colors:', colors\n",
      "    orders=[4, 5, 3, 0, 1, 2]\n",
      "    # cdic=dict(zip(colors, orders))    \n",
      "    cdic=dict(zip(orders, colors))\n",
      "    with open(ofn, 'w') as f:\n",
      "        #\u5b58\u50a8\u516d\u5757\u70b9\u96c6\n",
      "        coordblocks=[]\n",
      "        for k in sorted(cdic):\n",
      "            #\u989c\u8272\u4e3a cdic[k] \u7684x, y \u5750\u6807\uff1a\n",
      "            xs, ys=np.where(np.all(img==cdic[k], axis=-1))\n",
      "            #print 'count:', k, len(xs)\n",
      "            #print len(depth[xs, ys])\n",
      "            #\u4e09\u7ef4\u70b9\u96c6\u5750\u6807\uff1a\n",
      "            coords=np.asarray([xs, ys, depth[xs, ys]]).T\n",
      "            coordblocks.append(coords)\n",
      "        \n",
      "        totalpts=sum(len(pts) for pts in coordblocks)\n",
      "        print totalpts\n",
      "        \n",
      "        '\u524d\u4e24\u884c'\n",
      "        f.write('%d\\n'%totalpts)\n",
      "        f.write(' '.join(str(len(pts)) for pts in coordblocks)+'\\n')\n",
      "        \n",
      "        'coos.shape=(n, 3)'\n",
      "        for coos in coordblocks:\n",
      "            f.write(''.join('v %d %d %d\\n'%tuple(xyz) for xyz in coos))\n",
      "            '\u7a7a\u884c\u5206\u5272\u70b9\u96c6:'\n",
      "            f.write('\\n')\n",
      "    return\n",
      "\n",
      "# -----------------\u5355\u5143\u6d4b\u8bd5\uff0c \u4e00\u5f20\u56fe\n",
      "def testOutput(idx):\n",
      "    # idx=9\n",
      "    cfn='handPoint%d.csv'%idx\n",
      "    lfn=r'labels\\handPoint%d.png'%idx\n",
      "    ofn=r'objs\\handPoint%d.obj'%idx\n",
      "        \n",
      "    outputObj(cfn, lfn, ofn)\n",
      "    return\n",
      "\n",
      "# ----------------\u5904\u7406\u6240\u6709 csv, png \n",
      "def outputAll(csvp):\n",
      "    '''\n",
      "    PARAMS\n",
      "    -------------\n",
      "    csvp: path to store all the csv files\n",
      "    \n",
      "    RETURNS\n",
      "    -------------\n",
      "    None\n",
      "    '''\n",
      "    # csvp=r'D:\\Administrator\\Desktop\\obj&csv\\strict'\n",
      "    #input label path:\n",
      "    lblp='labels'\n",
      "    #output .obj file path:\n",
      "    objp='objs'\n",
      "    if not os.path.isdir(objp):\n",
      "        os.makedirs(objp)\n",
      "        \n",
      "    from glob import glob\n",
      "    files=glob('*.csv')\n",
      "    for i in range(len(files)):\n",
      "        cfn='handPoint%d.csv'%i\n",
      "        #\u53bb\u6389 .csv \u540e\u7f00\uff1a\n",
      "        bname=os.path.splitext(cfn)[0]\n",
      "        lfn=lblp+os.path.sep+bname+'.png'\n",
      "        ofn=objp+os.path.sep+bname+'.obj'\n",
      "        #print lfn\n",
      "        outputObj(cfn, lfn, ofn)\n",
      "        \n",
      "        #img=pylab.imread(lfn)\n",
      "        #imshow(img)\n",
      "        lbl=cv.imread(lfn)\n",
      "        cv.imshow('hand label', lbl)\n",
      "        k=cv.waitKey(55)\n",
      "        if k==27:\n",
      "            print '===========', cfn\n",
      "            break\n",
      "    \n",
      "    cv.destroyAllWindows()\n",
      "    \n",
      "\n",
      "    return\n",
      "\n",
      "oldp=os.getcwd()\n",
      "os.chdir(csvp)\n",
      "\n",
      "csvp=r'D:\\Administrator\\Desktop\\obj&csv\\strict'\n",
      "outputAll(csvp)\n",
      "# testOutput(73)\n",
      "\n",
      "'\u56de\u5230\u539f\u59cb\u76ee\u5f55'\n",
      "os.chdir(oldp)"
     ],
     "language": "python",
     "metadata": {},
     "outputs": [
      {
       "output_type": "stream",
       "stream": "stdout",
       "text": [
        "2613\n",
        "2636"
       ]
      },
      {
       "output_type": "stream",
       "stream": "stdout",
       "text": [
        "\n",
        "2607"
       ]
      },
      {
       "output_type": "stream",
       "stream": "stdout",
       "text": [
        "\n",
        "2459"
       ]
      },
      {
       "output_type": "stream",
       "stream": "stdout",
       "text": [
        "\n",
        "2456"
       ]
      },
      {
       "output_type": "stream",
       "stream": "stdout",
       "text": [
        "\n",
        "2412"
       ]
      },
      {
       "output_type": "stream",
       "stream": "stdout",
       "text": [
        "\n",
        "2445"
       ]
      },
      {
       "output_type": "stream",
       "stream": "stdout",
       "text": [
        "\n",
        "2521"
       ]
      },
      {
       "output_type": "stream",
       "stream": "stdout",
       "text": [
        "\n",
        "2634"
       ]
      },
      {
       "output_type": "stream",
       "stream": "stdout",
       "text": [
        "\n",
        "2617"
       ]
      },
      {
       "output_type": "stream",
       "stream": "stdout",
       "text": [
        "\n",
        "2214"
       ]
      },
      {
       "output_type": "stream",
       "stream": "stdout",
       "text": [
        "\n",
        "1931"
       ]
      },
      {
       "output_type": "stream",
       "stream": "stdout",
       "text": [
        "\n",
        "2514"
       ]
      },
      {
       "output_type": "stream",
       "stream": "stdout",
       "text": [
        "\n",
        "2590"
       ]
      },
      {
       "output_type": "stream",
       "stream": "stdout",
       "text": [
        "\n",
        "2401"
       ]
      },
      {
       "output_type": "stream",
       "stream": "stdout",
       "text": [
        "\n",
        "2312"
       ]
      },
      {
       "output_type": "stream",
       "stream": "stdout",
       "text": [
        "\n",
        "2295"
       ]
      },
      {
       "output_type": "stream",
       "stream": "stdout",
       "text": [
        "\n",
        "2184"
       ]
      },
      {
       "output_type": "stream",
       "stream": "stdout",
       "text": [
        "\n",
        "2272"
       ]
      },
      {
       "output_type": "stream",
       "stream": "stdout",
       "text": [
        "\n",
        "2247"
       ]
      },
      {
       "output_type": "stream",
       "stream": "stdout",
       "text": [
        "\n",
        "2292"
       ]
      },
      {
       "output_type": "stream",
       "stream": "stdout",
       "text": [
        "\n",
        "2304"
       ]
      },
      {
       "output_type": "stream",
       "stream": "stdout",
       "text": [
        "\n",
        "2284"
       ]
      },
      {
       "output_type": "stream",
       "stream": "stdout",
       "text": [
        "\n",
        "2264"
       ]
      },
      {
       "output_type": "stream",
       "stream": "stdout",
       "text": [
        "\n",
        "2534"
       ]
      },
      {
       "output_type": "stream",
       "stream": "stdout",
       "text": [
        "\n",
        "2379"
       ]
      },
      {
       "output_type": "stream",
       "stream": "stdout",
       "text": [
        "\n",
        "2398"
       ]
      },
      {
       "output_type": "stream",
       "stream": "stdout",
       "text": [
        "\n",
        "2653"
       ]
      },
      {
       "output_type": "stream",
       "stream": "stdout",
       "text": [
        "\n",
        "2850"
       ]
      },
      {
       "output_type": "stream",
       "stream": "stdout",
       "text": [
        "\n",
        "2920"
       ]
      },
      {
       "output_type": "stream",
       "stream": "stdout",
       "text": [
        "\n",
        "2911"
       ]
      },
      {
       "output_type": "stream",
       "stream": "stdout",
       "text": [
        "\n",
        "2928"
       ]
      },
      {
       "output_type": "stream",
       "stream": "stdout",
       "text": [
        "\n",
        "2972"
       ]
      },
      {
       "output_type": "stream",
       "stream": "stdout",
       "text": [
        "\n",
        "2782"
       ]
      },
      {
       "output_type": "stream",
       "stream": "stdout",
       "text": [
        "\n",
        "2645"
       ]
      },
      {
       "output_type": "stream",
       "stream": "stdout",
       "text": [
        "\n",
        "2438"
       ]
      },
      {
       "output_type": "stream",
       "stream": "stdout",
       "text": [
        "\n",
        "2117"
       ]
      },
      {
       "output_type": "stream",
       "stream": "stdout",
       "text": [
        "\n",
        "1952"
       ]
      },
      {
       "output_type": "stream",
       "stream": "stdout",
       "text": [
        "\n",
        "1869"
       ]
      },
      {
       "output_type": "stream",
       "stream": "stdout",
       "text": [
        "\n",
        "1850"
       ]
      },
      {
       "output_type": "stream",
       "stream": "stdout",
       "text": [
        "\n",
        "2032"
       ]
      },
      {
       "output_type": "stream",
       "stream": "stdout",
       "text": [
        "\n",
        "2118"
       ]
      },
      {
       "output_type": "stream",
       "stream": "stdout",
       "text": [
        "\n",
        "2199"
       ]
      },
      {
       "output_type": "stream",
       "stream": "stdout",
       "text": [
        "\n",
        "2398"
       ]
      },
      {
       "output_type": "stream",
       "stream": "stdout",
       "text": [
        "\n",
        "2501"
       ]
      },
      {
       "output_type": "stream",
       "stream": "stdout",
       "text": [
        "\n",
        "2717"
       ]
      },
      {
       "output_type": "stream",
       "stream": "stdout",
       "text": [
        "\n",
        "2789"
       ]
      },
      {
       "output_type": "stream",
       "stream": "stdout",
       "text": [
        "\n",
        "2792"
       ]
      },
      {
       "output_type": "stream",
       "stream": "stdout",
       "text": [
        "\n",
        "2776"
       ]
      },
      {
       "output_type": "stream",
       "stream": "stdout",
       "text": [
        "\n",
        "2721"
       ]
      },
      {
       "output_type": "stream",
       "stream": "stdout",
       "text": [
        "\n",
        "2696"
       ]
      },
      {
       "output_type": "stream",
       "stream": "stdout",
       "text": [
        "\n",
        "2497"
       ]
      },
      {
       "output_type": "stream",
       "stream": "stdout",
       "text": [
        "\n",
        "2307"
       ]
      },
      {
       "output_type": "stream",
       "stream": "stdout",
       "text": [
        "\n",
        "2047"
       ]
      },
      {
       "output_type": "stream",
       "stream": "stdout",
       "text": [
        "\n",
        "1866"
       ]
      },
      {
       "output_type": "stream",
       "stream": "stdout",
       "text": [
        "\n",
        "1635"
       ]
      },
      {
       "output_type": "stream",
       "stream": "stdout",
       "text": [
        "\n",
        "1480"
       ]
      },
      {
       "output_type": "stream",
       "stream": "stdout",
       "text": [
        "\n",
        "1656"
       ]
      },
      {
       "output_type": "stream",
       "stream": "stdout",
       "text": [
        "\n",
        "1852"
       ]
      },
      {
       "output_type": "stream",
       "stream": "stdout",
       "text": [
        "\n",
        "1981"
       ]
      },
      {
       "output_type": "stream",
       "stream": "stdout",
       "text": [
        "\n",
        "2137"
       ]
      },
      {
       "output_type": "stream",
       "stream": "stdout",
       "text": [
        "\n",
        "2210"
       ]
      },
      {
       "output_type": "stream",
       "stream": "stdout",
       "text": [
        "\n",
        "2298"
       ]
      },
      {
       "output_type": "stream",
       "stream": "stdout",
       "text": [
        "\n",
        "2482"
       ]
      },
      {
       "output_type": "stream",
       "stream": "stdout",
       "text": [
        "\n",
        "2566"
       ]
      },
      {
       "output_type": "stream",
       "stream": "stdout",
       "text": [
        "\n",
        "2839"
       ]
      },
      {
       "output_type": "stream",
       "stream": "stdout",
       "text": [
        "\n",
        "3034"
       ]
      },
      {
       "output_type": "stream",
       "stream": "stdout",
       "text": [
        "\n",
        "3229"
       ]
      },
      {
       "output_type": "stream",
       "stream": "stdout",
       "text": [
        "\n",
        "3585"
       ]
      },
      {
       "output_type": "stream",
       "stream": "stdout",
       "text": [
        "\n",
        "3844"
       ]
      },
      {
       "output_type": "stream",
       "stream": "stdout",
       "text": [
        "\n",
        "4081"
       ]
      },
      {
       "output_type": "stream",
       "stream": "stdout",
       "text": [
        "\n",
        "4363"
       ]
      },
      {
       "output_type": "stream",
       "stream": "stdout",
       "text": [
        "\n",
        "5016"
       ]
      },
      {
       "output_type": "stream",
       "stream": "stdout",
       "text": [
        "\n",
        "5371"
       ]
      },
      {
       "output_type": "stream",
       "stream": "stdout",
       "text": [
        "\n",
        "5435"
       ]
      },
      {
       "output_type": "stream",
       "stream": "stdout",
       "text": [
        "\n",
        "5530"
       ]
      },
      {
       "output_type": "stream",
       "stream": "stdout",
       "text": [
        "\n",
        "5572"
       ]
      },
      {
       "output_type": "stream",
       "stream": "stdout",
       "text": [
        "\n",
        "5026"
       ]
      },
      {
       "output_type": "stream",
       "stream": "stdout",
       "text": [
        "\n"
       ]
      }
     ],
     "prompt_number": 14
    },
    {
     "cell_type": "code",
     "collapsed": false,
     "input": [
      "pwd"
     ],
     "language": "python",
     "metadata": {},
     "outputs": [
      {
       "metadata": {},
       "output_type": "pyout",
       "prompt_number": 9,
       "text": [
        "u'D:\\\\Administrator\\\\Desktop\\\\obj&csv\\\\strict'"
       ]
      }
     ],
     "prompt_number": 9
    },
    {
     "cell_type": "code",
     "collapsed": false,
     "input": [
      "t=np.arange(12, dtype=float).reshape((-1, 2, 3))\n",
      "\n",
      "print t\n",
      "print np.all(t==(0,1.0,2), axis=-1)\n",
      "print np.where(np.all(t==(0,1.0,2), axis=-1))\n",
      "\n",
      "t==(0,1,2)\n",
      "t[(0,1), (1,)]\n",
      "t.T\n",
      "zip(*t)"
     ],
     "language": "python",
     "metadata": {},
     "outputs": [
      {
       "output_type": "stream",
       "stream": "stdout",
       "text": [
        "[[[  0.   1.   2.]\n",
        "  [  3.   4.   5.]]\n",
        "\n",
        " [[  6.   7.   8.]\n",
        "  [  9.  10.  11.]]]\n",
        "[[ True False]\n",
        " [False False]]\n",
        "(array([0]), array([0]))\n"
       ]
      },
      {
       "metadata": {},
       "output_type": "pyout",
       "prompt_number": 86,
       "text": [
        "[(array([ 0.,  1.,  2.]), array([ 6.,  7.,  8.])),\n",
        " (array([ 3.,  4.,  5.]), array([  9.,  10.,  11.]))]"
       ]
      }
     ],
     "prompt_number": 86
    },
    {
     "cell_type": "code",
     "collapsed": false,
     "input": [
      "c=100\n",
      "x=np.arange(c)\n",
      "y=np.arange(c, 2*c)\n",
      "z=np.arange(2*c, 3*c)\n",
      "\n",
      "%timeit -n100 np.array([x,y,z]).T\n",
      "%timeit -n100 zip(x,y,z)\n",
      "%timeit -n100 zip(*(x,y,z))\n",
      "\n",
      "mat=np.ones((c,c))\n",
      "%timeit -n100 mat.T\n",
      "%timeit -n100 zip(*mat)\n",
      "# mat.T"
     ],
     "language": "python",
     "metadata": {},
     "outputs": [
      {
       "output_type": "stream",
       "stream": "stdout",
       "text": [
        "100 loops, best of 3: 31.1 \u00b5s per loop\n",
        "100 loops, best of 3: 34 \u00b5s per loop\n",
        "100 loops, best of 3: 34.4 \u00b5s per loop\n",
        "100 loops, best of 3: 314 ns per loop\n",
        "100 loops, best of 3: 1.09 ms per loop"
       ]
      },
      {
       "output_type": "stream",
       "stream": "stdout",
       "text": [
        "\n"
       ]
      }
     ],
     "prompt_number": 107
    },
    {
     "cell_type": "code",
     "collapsed": false,
     "input": [
      "fn=r'F:\\OgreTrain2\\realtime\\clu2\\result_1_cluster.png'\n",
      "img=imread(fn)\n",
      "img=img.flatten().reshape((-1, 3))\n",
      "pxs=[tuple(i) for i in img]\n",
      "/set pxs"
     ],
     "language": "python",
     "metadata": {},
     "outputs": [
      {
       "metadata": {},
       "output_type": "pyout",
       "prompt_number": 55,
       "text": [
        "{(0.0, 0.0, 1.0),\n",
        " (0.0, 1.0, 0.0),\n",
        " (0.47058824, 0.70588237, 0.0),\n",
        " (1.0, 0.0, 0.0),\n",
        " (1.0, 0.0, 1.0),\n",
        " (1.0, 1.0, 0.0),\n",
        " (1.0, 1.0, 1.0)}"
       ]
      }
     ],
     "prompt_number": 55
    },
    {
     "cell_type": "code",
     "collapsed": false,
     "input": [
      "fn=files[0]\n",
      "fn\n",
      "os.path.splitext(fn)[0]\n",
      "os.pathsep\n"
     ],
     "language": "python",
     "metadata": {},
     "outputs": [
      {
       "ename": "SyntaxError",
       "evalue": "EOL while scanning string literal (<ipython-input-21-16996be38afe>, line 5)",
       "output_type": "pyerr",
       "traceback": [
        "\u001b[1;36m  File \u001b[1;32m\"<ipython-input-21-16996be38afe>\"\u001b[1;36m, line \u001b[1;32m5\u001b[0m\n\u001b[1;33m    r'\\'\u001b[0m\n\u001b[1;37m       ^\u001b[0m\n\u001b[1;31mSyntaxError\u001b[0m\u001b[1;31m:\u001b[0m EOL while scanning string literal\n"
       ]
      }
     ],
     "prompt_number": 21
    },
    {
     "cell_type": "code",
     "collapsed": false,
     "input": [
      "'\u5904\u7406\u5434\u9e4f\u9e4f\u7684 csv\uff0c \u53bb\u6389\u6bcf\u884c\u672b\u5c3e\u7684\u7a7a\u683c\uff0c \u56e0\u4e3aOpenCV\u8bfb\u53d6 csv \u592a\u4e25\u683c'\n",
      "\n",
      "dn='strict'\n",
      "if not os.path.exists(dn):\n",
      "    os.makedirs(dn)\n",
      "    \n",
      "files=glob('*.csv')\n",
      "for fn in files:\n",
      "    with open(dn+'/'+fn, 'w') as fout:\n",
      "        d=np.loadtxt(fn, int)\n",
      "        wtr=csv.writer(fout, delimiter=' ')\n",
      "        wtr.writerows(d)\n",
      "    pass\n",
      "\n",
      "import csv\n",
      "with open(files[0], 'rb') as f:\n",
      "    c=list(csv.reader(f, delimiter=' '))\n",
      "#     print len(c), c\n",
      "    pass\n"
     ],
     "language": "python",
     "metadata": {},
     "outputs": [],
     "prompt_number": 206
    }
   ],
   "metadata": {}
  }
 ]
}