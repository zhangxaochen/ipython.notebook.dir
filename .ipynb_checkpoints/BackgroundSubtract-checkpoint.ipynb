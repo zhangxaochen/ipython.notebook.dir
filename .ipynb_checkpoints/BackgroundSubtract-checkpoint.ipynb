{
 "metadata": {
  "name": ""
 },
 "nbformat": 3,
 "nbformat_minor": 0,
 "worksheets": [
  {
   "cells": [
    {
     "cell_type": "code",
     "collapsed": false,
     "input": [
      "'hand \u6570\u636e, \u5434\u9e4f\u9e4f\u91c7\u96c6'\n",
      "\n",
      "%pylab\n",
      "import numpy as np\n",
      "from glob import glob\n",
      "import os, sys\n",
      "from collections import Counter\n",
      "import heapq\n",
      "import cv2\n",
      "cv=cv2\n",
      "\n",
      "def scale(dat, nmin, nmax):\n",
      "    dat=np.asarray(dat)\n",
      "    omin=dat.min()\n",
      "    omax=dat.max()\n",
      "    orange=omax-omin\n",
      "    #nmax=255; nmin=0\n",
      "    nrange=nmax-nmin\n",
      "    assert nrange>=0, 'nmax must be greater than nmin'\n",
      "    return (dat-omin)*nrange*1.0/orange+nmin\n",
      "\n",
      "%cd D:\\Administrator\\Desktop\\obj&csv"
     ],
     "language": "python",
     "metadata": {},
     "outputs": [
      {
       "output_type": "stream",
       "stream": "stdout",
       "text": [
        "Using matplotlib backend: Qt4Agg\n",
        "Populating the interactive namespace from numpy and matplotlib\n",
        "D:\\Administrator\\Desktop\\obj&csv\n"
       ]
      }
     ],
     "prompt_number": 136
    },
    {
     "cell_type": "code",
     "collapsed": false,
     "input": [
      "fn='handPoint0.csv'\n",
      "\n",
      "d=np.loadtxt(fn)\n",
      "invalid=0\n",
      "\n",
      "# '\u627e\u5230\u6709\u6548\u503c\u7684 max, min'\n",
      "# dmax=d.max()\n",
      "# fd=d.flatten()\n",
      "# sfd=set(fd)\n",
      "# dmin=heapq.nsmallest(2, sfd)[-1]\n",
      "\n",
      "# 'invalid \u91cd\u65b0\u8d4b\u503c'\n",
      "# dc=d.copy()\n",
      "# dc[d==invalid]=dmax+(dmax-dmin)*.1\n",
      "\n",
      "def loadCsv(fn):\n",
      "    d=np.loadtxt(fn)\n",
      "    '\u627e\u5230\u6709\u6548\u503c\u7684 max, min'\n",
      "    dmax=d.max()\n",
      "    fd=d.flatten()\n",
      "    sfd=set(fd)\n",
      "    dmin=heapq.nsmallest(2, sfd)[-1]\n",
      "\n",
      "    'invalid \u91cd\u65b0\u8d4b\u503c'\n",
      "    #dc=d.copy()\n",
      "    #dc[d==invalid]=dmax+(dmax-dmin)*.1\n",
      "    d[d==invalid]=dmax+(dmax-dmin)*.1\n",
      "    \n",
      "    return d\n",
      "\n",
      "dc=loadCsv(fn)\n",
      "imshow(scale(dc, 0, 255), cmap=cm.gray)\n",
      "# imshow(dc, cm.gray) #\u4e0d scale \u6548\u679c\u4f3c\u4e4e\u4e5f\u4e00\u6837\n"
     ],
     "language": "python",
     "metadata": {},
     "outputs": [
      {
       "metadata": {},
       "output_type": "pyout",
       "prompt_number": 162,
       "text": [
        "<matplotlib.image.AxesImage at 0x12083e90>"
       ]
      }
     ],
     "prompt_number": 162
    },
    {
     "cell_type": "code",
     "collapsed": false,
     "input": [
      "'\u64ad\u653e\u52a8\u753b\u5f0f\u67e5\u770b'\n",
      "\n",
      "files=glob('*.csv')\n",
      "wn='hand'\n",
      "'\u95f4\u9694\uff0c\u6beb\u79d2\uff0c 0 \u4e3a\u624b\u52a8\u6309\u952e\u63a7\u5236'\n",
      "intv=800\n",
      "for i in range(len(files)):\n",
      "# for i in range(77, 100):\n",
      "    fn='handPoint%d.csv'%i\n",
      "    if not os.path.isfile(fn): continue\n",
      "    #print fn\n",
      "    #d=np.loadtxt(fn)\n",
      "    img=loadCsv(fn)\n",
      "    #print img\n",
      "    cv.imshow(wn, scale(img, 0, 1))\n",
      "    k=cv.waitKey(intv)\n",
      "    if k==ord('q'):\n",
      "        print 'i:', i\n",
      "        break\n",
      "    \n",
      "cv.destroyAllWindows()\n"
     ],
     "language": "python",
     "metadata": {},
     "outputs": [],
     "prompt_number": 158
    },
    {
     "cell_type": "code",
     "collapsed": false,
     "input": [
      "np.where(d==dmax)\n",
      "# np.nonzero(d==dmax)"
     ],
     "language": "python",
     "metadata": {},
     "outputs": [
      {
       "metadata": {},
       "output_type": "pyout",
       "prompt_number": 28,
       "text": [
        "(array([5, 7]), array([191, 190]))"
       ]
      }
     ],
     "prompt_number": 28
    },
    {
     "cell_type": "code",
     "collapsed": false,
     "input": [],
     "language": "python",
     "metadata": {},
     "outputs": []
    }
   ],
   "metadata": {}
  }
 ]
}