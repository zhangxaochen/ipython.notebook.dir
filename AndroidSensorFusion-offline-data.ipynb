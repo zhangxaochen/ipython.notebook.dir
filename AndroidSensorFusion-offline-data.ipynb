{
 "cells": [
  {
   "cell_type": "code",
   "execution_count": 1,
   "metadata": {
    "collapsed": false
   },
   "outputs": [
    {
     "name": "stdout",
     "output_type": "stream",
     "text": [
      "Using matplotlib backend: Qt4Agg\n",
      "Populating the interactive namespace from numpy and matplotlib\n"
     ]
    }
   ],
   "source": [
    "# %matplotlib\n",
    "%pylab\n",
    "import numpy as np\n",
    "\n",
    "import sys\n",
    "sys.path.append(r'D:\\opencv249\\sources\\modules\\python\\test')\n",
    "\n",
    "import os\n",
    "import cv2\n",
    "import transformations as tf\n",
    "'一些短别名:'\n",
    "tf.e2m = tf.euler_matrix\n",
    "tf.m2e = tf.euler_from_matrix\n",
    "tf.q2m = tf.quaternion_matrix\n",
    "tf.m2q = tf.quaternion_from_matrix\n",
    "tf.e2q = tf.quaternion_from_euler\n",
    "tf.q2e = tf.euler_from_quaternion\n",
    "tf.m2r = tf.rotation_from_matrix\n",
    "tf.r2m = tf.rotation_matrix\n",
    "tf.a2q = tf.quaternion_about_axis\n",
    "\n",
    "'angle <--> radian:'\n",
    "a2r = np.pi / 180\n",
    "r2a = 180 / np.pi\n"
   ]
  },
  {
   "cell_type": "code",
   "execution_count": 7,
   "metadata": {
    "collapsed": true
   },
   "outputs": [],
   "source": [
    "'''\n",
    "对应数据采集程序：\n",
    "https://github.com/zhangxaochen/AndroidSensorFusion.git\n",
    "E:\\Github\\AndroidSensorFusion\n",
    "\n",
    "目的：\n",
    "1. 观察三轴单轴旋转，输出的rot-vec姿态正确性；\n",
    "2.\n",
    "'''\n",
    "\n",
    "'旧数据: 16列, deprecated'\n",
    "'手机【+X】轴朝北, 依次绕xyz逆(+)顺(-)旋转90°'\n",
    "fn = r'D:\\Users\\zhangxaochen\\Desktop\\androidSFzc-20151214T142422.txt'\n",
    "\n",
    "'手机【-Y】轴朝北, 依次绕xyz逆(+)顺(-)旋转90°'\n",
    "# fn = r'D:\\Users\\zhangxaochen\\Desktop\\androidSFzc-20151214T142511.txt'\n",
    "\n",
    "dat = np.loadtxt(fn, delimiter=',')\n",
    "\n",
    "goog = dat[:, 1:4]\n",
    "myOri = dat[:, 10:13]\n",
    "plot(goog, label='android') #android rotation-vector\n",
    "# plot(dat[:, 4:7]) #accMagOrientation\n",
    "# plot(dat[:, 7:10]) #gyroOrientation\n",
    "plot(myOri, label='myOri') #fusedOrientation； 结论：与 gyroOrientation 基本重合\n",
    "legend()\n"
   ]
  },
  {
   "cell_type": "code",
   "execution_count": 20,
   "metadata": {
    "collapsed": false,
    "scrolled": true
   },
   "outputs": [
    {
     "name": "stdout",
     "output_type": "stream",
     "text": [
      "np.allclose(daxags, daxags2):  False\n"
     ]
    }
   ],
   "source": [
    "'格式改为22列, 13~21为a/g/fQuaternion'\n",
    "'手机+X朝北，没有移动'\n",
    "fn = r'D:\\Users\\zhangxaochen\\Desktop\\androidSFzc-20151215T221552.txt'\n",
    "'同上，7000frames'\n",
    "fn = r'D:\\Users\\zhangxaochen\\Desktop\\androidSFzc-20151216T003244.txt'\n",
    "'+X, north; 依次绕xyz逆(+)顺(-)旋转90°'\n",
    "fn = r'D:\\Users\\zhangxaochen\\Desktop\\androidSFzc-20151216T005812.txt'\n",
    "'+Y, north; 依次绕xyz逆(+)顺(-)旋转90°'\n",
    "fn = r'D:\\Users\\zhangxaochen\\Desktop\\androidSFzc-20151216T005837.txt'\n",
    "\n",
    "'格式改为25列, 13~24为android-rot-vec && a/g/fQuaternion'\n",
    "'''\n",
    "重新:: +Y, north; 依次绕xyz逆(+)顺(-)旋转90°\n",
    "此数据结论： 1. Android-rotVec 更平滑; 2. Android && fQua 的可视化结果(axag)都基本正确\n",
    "'''\n",
    "fn = r'D:\\Users\\zhangxaochen\\Desktop\\androidSFzc-20151216T014041.txt'\n",
    "'+X, north, 旋转同上。结果：效果不好，可能因为插了USB干扰'\n",
    "# fn = r'D:\\Users\\zhangxaochen\\Desktop\\androidSFzc-20151216T150358.txt'\n",
    "'''\n",
    "拔掉USB重采，+X, north, 旋转同上。\n",
    "结论: 发现 dri表达式推错了, 改为 ΔRi = r0^-1*ri, √\n",
    "'''\n",
    "fn = r'D:\\Users\\zhangxaochen\\Desktop\\androidSFzc-20151216T152354.txt'\n",
    "\n",
    "dat = np.loadtxt(fn, delimiter=',')\n",
    "\n",
    "'delta euler angles i/0'\n",
    "deuls = []\n",
    "'delta AxisAngle i/0'\n",
    "daxags = []\n",
    "\n",
    "'fused quaternion'\n",
    "# fQuas = dat[:, 19:22] #22列时候, fQua\n",
    "fQuas = dat[:, 22:25] #25列时候, fQua\n",
    "fQuas = dat[:, 13:16] #25列， 13为Android-Qua\n",
    "fq0 = fQuas[0]\n",
    "w0 = sqrt(1-norm(fq0))\n",
    "r0 = tf.q2m(append(fq0, w0))\n",
    "\n",
    "for i, fqi in enumerate(fQuas):\n",
    "    wi = sqrt(1-norm(fqi))\n",
    "    '第i帧rotMat'\n",
    "    ri = tf.q2m(append(fqi, wi))\n",
    "    'ΔRi = ri*r0^-1 //×'\n",
    "    dri=ri.dot(r0.T) #可能弄错，不该是 Ri*R0^-1, 而是 Ri^-1*R0\n",
    "    'ΔRi = ri^-1*r0 //√×'\n",
    "    dri=ri.T.dot(r0) #还不太对, 这是第i帧的“变换”而非“姿态”矩阵： vib = Ri^-1*R0*v0b\n",
    "    'ΔRi = r0^-1*ri //√, vib->v0b, 是第i帧姿态矩阵'\n",
    "    dri=r0.T.dot(ri)\n",
    "#     dri=ri #若用原始 ri呢？\n",
    "\n",
    "    'AndroidSensorFusion 程序中用 zxy顺序存储ori、合成rotMat'\n",
    "    ez, ex, ey = tf.m2e(dri, axes='rzxy')\n",
    "    deuls.append([ex, ey, ez])\n",
    "#     deul = tf.m2e(dri, axes='rxyz') #与上面肯定不一样， 只是 20151216T003244.txt 移动太小了，虽然确实太相似\n",
    "#     deuls.append(deul)\n",
    "    \n",
    "    ag, ax, _ = tf.m2r(dri)\n",
    "    daxags.append(np.append(ax, ag))\n",
    "    pass\n",
    "\n",
    "deuls = np.array(deuls)\n",
    "daxags = np.array(daxags)\n",
    "\n",
    "figure()\n",
    "subplot(311)\n",
    "plot(deuls)\n",
    "legend(list('xyz'))\n",
    "subplot(312)\n",
    "plot(daxags)\n",
    "legend(list('xyz')+['ag'])\n",
    "\n",
    "'''\n",
    "---------------★ 顺便测试 fOri 用 py 转为轴角, 是否与Android的fQua->axag一致\n",
    "结论: 1. daxags2 不等 daxags, 因为Android输出的fOri坐标系定义非ENU, 而是WND\n",
    "'''\n",
    "'轴角序列, 对照组'\n",
    "daxags2 = []\n",
    "\n",
    "fOris = dat[:, 10:13] #22or25列， 10为fOri eulerAngle\n",
    "fo0 = fOris[0]\n",
    "'按照Android的 zxy-orientation顺序, ->Qxyzw'\n",
    "axes='rzxy'\n",
    "fq0 = tf.e2q(*fo0, axes=axes)\n",
    "r0 = tf.q2m(fq0)\n",
    "\n",
    "for i, foi in enumerate(fOris):\n",
    "    fqi = tf.e2q(*foi, axes=axes) #Qxyzw\n",
    "    ri = tf.q2m(fqi)\n",
    "    dri = ri.dot(r0.T)\n",
    "    \n",
    "    ag, ax, _ = tf.m2r(dri)\n",
    "    daxags2.append(np.append(ax, ag))\n",
    "    pass\n",
    "daxags2 = np.array(daxags2)\n",
    "\n",
    "subplot(313)\n",
    "plot(daxags2)\n",
    "legend(list('xyz')+['ag'])\n",
    "\n",
    "print 'np.allclose(daxags, daxags2): ', np.allclose(daxags, daxags2) #False"
   ]
  },
  {
   "cell_type": "code",
   "execution_count": 18,
   "metadata": {
    "collapsed": false
   },
   "outputs": [
    {
     "name": "stdout",
     "output_type": "stream",
     "text": [
      "一组几张图？ picCnt: 15\n"
     ]
    }
   ],
   "source": [
    "'''\n",
    "使用@王镇 手机采集的 相机+IMU数据做AX=XB算法测试\n",
    "1. 预处理，整理为之前axxb.m可接受文件格式\n",
    "\n",
    "'''\n",
    "\n",
    "import os, sys\n",
    "from datetime import datetime\n",
    "from lxml import etree as et\n",
    "from StringIO import StringIO\n",
    "\n",
    "'@王镇 数据工程目录'\n",
    "projPath = r'D:\\Users\\zhangxaochen\\Documents\\axxb-data\\Domke\\NVan'\n",
    "projPath = r'D:\\Users\\zhangxaochen\\Documents\\axxb-data\\Domke\\Lobo81'\n",
    "projPath = r'D:\\Users\\zhangxaochen\\Documents\\axxb-data\\Domke\\Lobo82'\n",
    "projPath = r'D:\\Users\\zhangxaochen\\Documents\\axxb-data\\Domke\\Lobo83'\n",
    "projPath = r'D:\\Users\\zhangxaochen\\Documents\\axxb-data\\Domke\\Lobo84'\n",
    "projPath = r'D:\\Users\\zhangxaochen\\Documents\\axxb-data\\Domke\\Lobo88'\n",
    "\n",
    "'proj-description-xml'\n",
    "projXml = os.path.join(projPath, 'collection-proj.xml')\n",
    "\n",
    "psr = et.XMLParser(remove_blank_text = True)\n",
    "tree = et.parse(projXml, psr)\n",
    "rt = tree.getroot()\n",
    "\n",
    "cnameNode = rt[0]\n",
    "collsNode = rt[1]\n",
    "picCnt = len(collsNode)\n",
    "print '一组几张图？ picCnt:', picCnt\n",
    "\n",
    "'存放 imu找到的对应pic时间戳的rotVec-rodrigues表示'\n",
    "imuRodrs = np.zeros((picCnt, 3))\n",
    "\n",
    "for i, cNode in enumerate(collsNode):\n",
    "#     if i>0: #调试用，注释掉！\n",
    "#         break\n",
    "    #print cNode\n",
    "    sensorName = cNode[0].text\n",
    "    picsNode = cNode[1]\n",
    "    '只取第0个, 此数据也只有1个(idx=0)'\n",
    "    picNode = picsNode[0]\n",
    "    picName = picNode[0].text\n",
    "    picTs = float(picNode[1].text)\n",
    "    #print sensorName, picName, picTs, datetime.fromtimestamp(picTs)\n",
    "    sensorFpath = os.path.join(projPath, sensorName)\n",
    "    #print sensorFpath\n",
    "    assert os.path.exists(sensorFpath) #理论上每个对应文件都应该存在\n",
    "    \n",
    "    '以下解析 sensor_xxx.xml, 此xml组织结构稍复杂'\n",
    "    s_tree = et.parse(sensorFpath)\n",
    "    s_rt = s_tree.getroot()\n",
    "    'channels-node'\n",
    "    cnsNode = s_rt.xpath(u'threads/thread/channels')[0]\n",
    "    \n",
    "    '直接用android-rotVec, '\n",
    "    cnRotNode = cnsNode[3]\n",
    "    #print 'cnRotNode: %s: %s'%(cnRotNode[0].tag, cnRotNode[0].text)\n",
    "    #print cnRotNode.xpath(u'frames/frame') #复杂，不必要\n",
    "    #print 'frame-count:', cnRotNode[2].text\n",
    "    framesNode = cnRotNode[1]\n",
    "    for j, frmNode in enumerate(framesNode):\n",
    "        frmTs = float(frmNode[2].text)\n",
    "        #print 'frmTs: %f, %s'%(frmTs, datetime.fromtimestamp(frmTs))\n",
    "        if frmTs > picTs:\n",
    "            assert j > 0, 'j must NOT be of index 0, maybe data is INVALID!!'\n",
    "            prevFrmNode = framesNode[j-1]\n",
    "            prevFrmTs = float(prevFrmNode[2].text)\n",
    "            assert prevFrmTs < picTs, 'logically, should be: (prevFrmTs < picTs); %f, %f'%(prevFrmTs, picTs)\n",
    "            'value-node 为 quaternion, wxyz order'\n",
    "            valNode = prevFrmNode[0]\n",
    "            q = [e.text for e in valNode] #wxyz order\n",
    "            q = q[1:]+q[:1] #->xyzw order\n",
    "            rodr, _ = cv2.Rodrigues(tf.q2m(q)[:3,:3])\n",
    "            '存起来'\n",
    "            imuRodrs[i] = rodr.ravel()\n",
    "            break\n",
    "        pass\n",
    "    pass\n",
    "\n",
    "\n",
    "'---------------解析cam.xml, 获取cv定标板得到的外参'\n",
    "cvRodrs = np.zeros_like(imuRodrs)\n",
    "cvExtrFname = os.path.join(projPath, 'cam.xml')\n",
    "assert os.path.exists(cvExtrFname)\n",
    "\n",
    "psr = et.XMLParser(remove_blank_text = True, remove_comments=True)\n",
    "tree = et.parse(cvExtrFname, psr)\n",
    "rt = tree.getroot()\n",
    "cameraMatrixNode = rt[8]\n",
    "# print cameraMatrixNode\n",
    "distortionCoefficientsNode = rt[9]\n",
    "cvExtrParamsNode = rt[12]\n",
    "cvExtrParamsDataNode = cvExtrParamsNode[3]\n",
    "# print extrParams.text\n",
    "cvExtrParams = np.genfromtxt(StringIO(cvExtrParamsDataNode.text)) #shape=(N,2)\n",
    "cvExtrParams = cvExtrParams.reshape(-1, 6)\n",
    "\n",
    "'---------------二者合并, cv(R,t)+imu(R,t), 12列'\n",
    "csvMat = np.hstack([cvExtrParams, imuRodrs, np.zeros_like(imuRodrs)])\n",
    "cvAndImuExtrPath = os.path.join(projPath, 'cvAndImuExtr.csv')\n",
    "np.savetxt(cvAndImuExtrPath, csvMat, fmt='%f')"
   ]
  },
  {
   "cell_type": "code",
   "execution_count": null,
   "metadata": {
    "collapsed": true
   },
   "outputs": [],
   "source": []
  },
  {
   "cell_type": "code",
   "execution_count": 19,
   "metadata": {
    "collapsed": false
   },
   "outputs": [],
   "source": [
    "'''\n",
    "只是预处理csv文件, 将@王镇生成的姿态（rodrigues）塞到对应csv中 //2015-12-22 15:03:11\n",
    "'''\n",
    "\n",
    "'对应 NVan数据'\n",
    "wzAxags=np.array([\n",
    "[0.5334803200676891, -0.3865801906299841, 0.1087840576315074],\n",
    "[0.7053919183743225, -0.1785478302412343, -0.185786395791522],\n",
    "[0.8076928515254848, -0.2262407179579445, -0.1831060524219923],\n",
    "[0.9031431161418061, -0.2641238636360845, -0.1785235871622655],\n",
    "[0.3830242241069002, -0.4734496162970422, 1.100092789510663],\n",
    "[0.4762464762194099, -0.6142321840524212, 1.099555373639786],\n",
    "[0.1137065575511585, -0.7058807157464764, 0.1287876089072303],\n",
    "[0.116266191201658, -0.8878740962410876, 0.1287751318075772],\n",
    "[-0.03075896543205586, -0.7357280665787732, -0.2422862090322829],\n",
    "[-0.03723299496021638, -0.7929588352737982, -0.2352213713459948],\n",
    "[0.4319138677623127, -0.8223045617912043, -1.785272552792782],\n",
    "[0.07900589101743498, -1.064101317043946, -2.545267202034877],\n",
    "[-0.2288433674647769, -0.8451185645855874, -2.077019360186496],\n",
    "[-0.3829599051948317, -0.6005064891454988, -1.395842740401545],\n",
    "[-0.8912357342490772, -0.3864155767268521, -2.340300489239013],\n",
    "[-0.6802985481441392, -0.3195816437555551, -2.415341794389918],\n",
    "[0.3287977150851776, 0.8839901535502893, 2.480087458603597],\n",
    "[0.5229394080430097, 1.227855465692769, 2.448170984628599],\n",
    "[0.2173645267680565, 0.7166118660615748, 2.672847713266102],\n",
    "[0.1209152167438263, 0.6953457553227604, 2.432223713830392],\n",
    "[0.4755485766162302, 0.2274927566005761, 0.5607144954266473],\n",
    "[0.7188010934255943, 0.2929494815265206, 0.5778444248162084],\n",
    "[0.8822118594441202, 0.3492315933833771, 0.5889352989203464],\n",
    "[0.9587989698346828, -0.2819053040288969, 2.247706216193234],\n",
    "[0.7426486350022299, -0.1890852826847766, 2.300725851721483],\n",
    "[0.6413702793124961, -0.1450020374376749, 2.321979437562247],\n",
    "[0.7128265417544504, 0.2186210185007338, 1.329635949363218],\n",
    "[0.8246091819190583, 0.1726329538249485, 1.2191838002252],\n",
    "        ])\n",
    "\n",
    "'原始第一次生成的12列, NVan数据, opencv-calib结果 + androidIMU直接输出姿态'\n",
    "origABcsvFn=r'D:\\Users\\zhangxaochen\\Documents\\axxb-data\\Domke\\NVan\\cvAndImuExtr.csv'\n",
    "\n",
    "wzAxags=np.array([\n",
    "[1.077160111246911, -1.176296449480052, -1.832354085124013],\n",
    "[0.9298751990929581, -1.379190688369149, -1.691245906577581],\n",
    "[0.7836064228034191, -1.551955082086034, -1.475169290233496],\n",
    "[0.6646818497148923, -1.643950976751684, -1.22612379019221],\n",
    "[0.5380876860613243, -1.644029775199617, -0.9300385239028828],\n",
    "[0.3112745671229941, -1.671851328835502, -0.6068589262916281],\n",
    "[0.04493255830606015, -1.65655464907741, -0.2373191135115994],\n",
    "[-0.4960887369387219, -1.513620144962189, 0.02885446171394058],\n",
    "[-0.713740213341626, -1.481257297772469, 0.2594895990278507],\n",
    "[-1.04705252483882, -1.394885723309144, 0.6163426608679866],\n",
    "[-1.380476585750755, -1.240574953443424, 0.9491950234650678],\n",
    "[-0.2349290953399285, -1.737278700363026, -0.322930923062992],\n",
    "[-0.2518804873219411, -1.606606448669058, -0.2805521204097293],\n",
    "[-0.2839211288395007, -1.466070339393462, -0.2503618421926679],\n",
    "[-0.2885971233201577, -1.407449261391483, -0.2249575007904265],\n",
    "    ])\n",
    "origABcsvFn=r'D:\\Users\\zhangxaochen\\Documents\\axxb-data\\Domke\\Lobo81\\cvAndImuExtr.csv'\n",
    "\n",
    "wzAxags=np.array([\n",
    "[-0.8305420189586079, -1.498728352230724, -0.7829306800864784],\n",
    "[-0.8074406405237942, -1.438878596732705, -0.7914191478180878],\n",
    "[-0.76545890275003, -1.313357611728387, -0.8114745906487481],\n",
    "[-0.9660518309700809, -1.302641564926533, -0.9844004246542017],\n",
    "[0.580058533050517, -1.987993474898003, -1.805353314609604],\n",
    "[0.5080850585136252, -1.68400748371013, -2.030224398189233],\n",
    "[0.2074438049605314, -1.815147035657822, -1.851738169509698],\n",
    "[-0.1948319367490056, -1.747822376004263, -1.695729882772728],\n",
    "[-0.5436931590548239, -1.607704478778566, -1.485581223436972],\n",
    "[-0.9605202240124631, -1.328351655925519, -1.097906673748492],\n",
    "[-1.244268460389916, -1.047506278856531, -0.7153141849176086],\n",
    "[-1.433439773799599, -0.793074658986446, -0.4532076349487199],\n",
    "[-1.609657739362592, -0.4157524784353863, -0.1458452096531342],\n",
    "[-1.688407314442242, 0.1338085969929001, 0.1926548039851933],\n",
    "[-1.685380222614469, 0.2209263026557591, 0.2300184772341999],\n",
    "    ])\n",
    "origABcsvFn=r'D:\\Users\\zhangxaochen\\Documents\\axxb-data\\Domke\\Lobo82\\cvAndImuExtr.csv'\n",
    "\n",
    "wzAxags=np.array([\n",
    "[-1.591063009196307, 0.4960482656444885, -0.03598318742281975],\n",
    "[-1.638813243518487, 0.2494142674563385, -0.1923861268003577],\n",
    "[-1.646067244177747, -0.1072541963999226, -0.4248370478282567],\n",
    "[-1.561202510527099, -0.5253070235006757, -0.7214421380094004],\n",
    "[-1.368289901766348, -0.9570867551256822, -1.136720860095836],\n",
    "[-1.033499779460835, -1.400099180601076, -1.545334943678538],\n",
    "[-0.6895077185423746, -1.689966745777676, -1.798298045428792],\n",
    "[-0.3614975229588323, -1.868416339206818, -1.950224635840662],\n",
    "[-1.395227962459452, -1.111006839585548, -1.402817817243359],\n",
    "[-1.313446772457585, -0.9608726059522811, -1.447178086381502],\n",
    "[-1.421973205273163, -1.152242544273419, -1.395136534756948],\n",
    "[-1.315730497797949, -1.166874013479898, -1.325172307243864],\n",
    "[-1.157214322690928, -1.267603270552862, -1.174199039069801],\n",
    "    ])\n",
    "origABcsvFn=r'D:\\Users\\zhangxaochen\\Documents\\axxb-data\\Domke\\Lobo83\\cvAndImuExtr.csv'\n",
    "\n",
    "wzAxags=np.array([\n",
    "[-1.736039173779268, -0.423132367105162, -2.040123259475304],\n",
    "[-1.788886904530965, -0.5524079552448259, -1.933963695573377],\n",
    "[-1.837231793881775, -0.7127393625952672, -1.803701542420695],\n",
    "[-1.888460750136373, -0.8095150543134603, -1.728819832208552],\n",
    "[-1.635951672737411, 0.5472794786610058, -0.5240866256969945],\n",
    "[-1.714483311559814, 0.3085531563288075, -0.721203169357156],\n",
    "[-1.753709066369341, 0.1199369817115971, -0.8815354497260679],\n",
    "[-1.788398342449352, -0.1343403159010361, -1.167179252339833],\n",
    "[-1.804632491242723, -0.2973494175305756, -1.368674511944054],\n",
    "[-1.829060957099716, -0.5801567461287746, -1.64141228822991],\n",
    "[-1.791603754307635, -0.8654850998773801, -1.883137609085275],\n",
    "[-1.719467301296252, -1.15713828835407, -2.09517405462502],\n",
    "[-1.638480917897718, -1.378329761254709, -2.2215850306968],\n",
    "[1.279165340462302, 1.605885929277973, 2.179444962537888],\n",
    "[0.6701453732012297, 1.757346619250092, 1.960271638052505],\n",
    "    ])\n",
    "origABcsvFn=r'D:\\Users\\zhangxaochen\\Documents\\axxb-data\\Domke\\Lobo84\\cvAndImuExtr.csv'\n",
    "\n",
    "wzAxags=np.array([\n",
    "[1.11050702434583, 1.417780334336144, 1.337492912717788],\n",
    "[1.009761243247666, 1.530347842819711, 1.463806282291029],\n",
    "[1.241479971051679, 1.377797521414348, 1.567946997493966],\n",
    "[1.497410036129813, 1.201881198646488, 1.76438057804979],\n",
    "[1.796486214754058, 0.9221226810564478, 1.990441709140296],\n",
    "[2.137057161164248, 0.4522360972807205, 2.236523904049933],\n",
    "[-1.959641544110549, 0.3665680152657944, -1.969202171215522],\n",
    "[-1.611844709167281, 0.8962587518380505, -1.620626722799962],\n",
    "[-1.256180049076926, 1.181936718215921, -1.177062098316325],\n",
    "[-1.504284714166021, 0.9432542570960854, -1.411006715853704],\n",
    "[2.064810664966269, -0.199527465397965, 2.213256767214927],\n",
    "[1.902225945141499, -0.2155681112683539, 2.316343050380323],\n",
    "[2.044787838242465, -0.09083471034396506, 2.347757859381001],\n",
    "[2.148738457119019, -0.06027357772279465, 2.284865030484447],\n",
    "[1.969509748503262, -0.08866324021860665, 2.415159612091197],\n",
    "    ])\n",
    "origABcsvFn=r'D:\\Users\\zhangxaochen\\Documents\\axxb-data\\Domke\\Lobo85\\cvAndImuExtr.csv'\n",
    "\n",
    "wzAxags=np.array([\n",
    "[1.035864442121814, -1.09326355188943, 1.280869102988985],\n",
    "[1.116345230236652, -1.152035312161637, 1.257213820550504],\n",
    "[1.192576398710302, -1.213505865270553, 1.22366448500634],\n",
    "[1.22050823453762, -1.264104759000932, 1.182301159944457],\n",
    "[1.464847793174819, -1.076709553282006, 1.426306090535549],\n",
    "[1.323585442460291, -0.9896255880355942, 1.505449146626164],\n",
    "[1.237004115987652, -0.9470675106002081, 1.531860626722935],\n",
    "[1.512367333686958, 0.1007381593559196, 0.1373628223349727],\n",
    "[1.521365096618659, -0.03125120533193977, 0.5375907763612322],\n",
    "[1.540405515300834, -0.2411572523901441, 0.8624103863674256],\n",
    "[1.452652505737031, -0.7958148921650979, 1.258316108245991],\n",
    "[1.227482940179121, -1.225975635836795, 1.43623493891081],\n",
    "[0.8662506019966969, -1.624877162079551, 1.618367067913355],\n",
    "[0.3789898406259786, -2.000336949704565, 1.885271899173095],\n",
    "[0.06616939648359035, 2.220114664968028, -2.052078778193759],\n",
    "    ])\n",
    "origABcsvFn=r'D:\\Users\\zhangxaochen\\Documents\\axxb-data\\Domke\\Lobo86\\cvAndImuExtr.csv'\n",
    "\n",
    "wzAxags=np.array([\n",
    "[1.367468864580607, -0.5761819147907263, -0.634116491113879],\n",
    "[1.517207746340018, -0.6568445641987483, -0.5951160100954124],\n",
    "[1.389623919912942, -0.7356648705676266, -0.3284998663086003],\n",
    "[1.235351174263997, -0.9307639316136158, 0.08389684035094791],\n",
    "[1.073411464803362, -1.115222720451142, 0.3172511511388917],\n",
    "[0.8423110805217237, -1.31086874657409, 0.5342892169747087],\n",
    "[0.596054493351238, -1.459237087927814, 0.7106548461868161],\n",
    "[0.2478541603942648, -1.604098622518989, 0.9698506337650137],\n",
    "[0.0235716069373027, -1.667278900154732, 1.132479016962292],\n",
    "[-0.2624419318082007, -1.734149055409546, 1.396983950294678],\n",
    "[-0.618408220249866, -1.78637628096526, 1.704092460587727],\n",
    "[0.6482593841403977, -1.384784184817947, 0.7238727003912701],\n",
    "[0.7099081112296685, -1.457667107053861, 0.6663870676358593],\n",
    "[0.7578559759804684, -1.500515537156355, 0.6400226987863334],\n",
    "[1.00134988625432, -1.38801722631253, 0.8757458047186522],\n",
    "[0.8643136148865254, -1.292747611058393, 0.9737607290489568],\n",
    "    ])\n",
    "origABcsvFn=r'D:\\Users\\zhangxaochen\\Documents\\axxb-data\\Domke\\Lobo87\\cvAndImuExtr.csv'\n",
    "\n",
    "wzAxags=np.array([\n",
    "[0.2228127694447382, -1.45108932107671, 0.284913389012054],\n",
    "[0.2870786484450356, -1.522086282127581, 0.2826239091472163],\n",
    "[0.3299567896883086, -1.576240486038494, 0.2688946050886792],\n",
    "[0.3556354736068141, -1.613926238339661, 0.2542780875385046],\n",
    "[1.343175926595936, -0.780629938164926, -1.307402754270169],\n",
    "[1.215938224575079, -0.8992819771592033, -1.136755238337601],\n",
    "[1.008914785065489, -1.067956711065727, -0.8934337244429199],\n",
    "[0.701412918411339, -1.273552170191401, -0.4914343113645235],\n",
    "[0.5497263188834243, -1.415557041733626, 0.363555854482105],\n",
    "[0.3468450073635045, -1.575489796804942, 0.6758771181366973],\n",
    "[0.2326771592471351, -1.672609434965821, 0.8784246577150524],\n",
    "[-0.3477469208346412, -2.13770689549665, 1.728304140040126],\n",
    "[-0.3220765927238345, -1.762164366600091, 2.018701418379901],\n",
    "[0.3620276571902646, -1.565600152938339, 0.6287106571005771],\n",
    "[0.6906384655671177, -1.360132481253104, 0.09321300008535174],\n",
    "    ])\n",
    "origABcsvFn=r'D:\\Users\\zhangxaochen\\Documents\\axxb-data\\Domke\\Lobo88\\cvAndImuExtr.csv'\n",
    "\n",
    "\n",
    "'---------------替换原来android-IMU姿态，输出到文件'\n",
    "origABcsv=np.loadtxt(origABcsvFn, delimiter=' ')\n",
    "\n",
    "newABmat=origABcsv.copy()\n",
    "newABmat[:, 6:9]=wzAxags\n",
    "\n",
    "baseFpath, ext=os.path.splitext(origABcsvFn)\n",
    "newFn=baseFpath+'.wz'+ext\n",
    "np.savetxt(newFn, newABmat, fmt='%f')"
   ]
  },
  {
   "cell_type": "code",
   "execution_count": null,
   "metadata": {
    "collapsed": true
   },
   "outputs": [],
   "source": []
  },
  {
   "cell_type": "code",
   "execution_count": 179,
   "metadata": {
    "collapsed": false
   },
   "outputs": [
    {
     "data": {
      "text/plain": [
       "(28, 3)"
      ]
     },
     "execution_count": 179,
     "metadata": {},
     "output_type": "execute_result"
    }
   ],
   "source": [
    "wzAxags.shape"
   ]
  },
  {
   "cell_type": "code",
   "execution_count": 161,
   "metadata": {
    "collapsed": false
   },
   "outputs": [
    {
     "name": "stdout",
     "output_type": "stream",
     "text": [
      "(28, 12)\n",
      "(28, 6) (28, 3)\n"
     ]
    }
   ],
   "source": [
    "print csvMat.shape\n",
    "print cvExtrParams.shape, imuRodrs.shape"
   ]
  },
  {
   "cell_type": "code",
   "execution_count": 176,
   "metadata": {
    "collapsed": false
   },
   "outputs": [
    {
     "name": "stdout",
     "output_type": "stream",
     "text": [
      "4.09606728262\n",
      "2.24464439273\n",
      "18.5432881263\n"
     ]
    }
   ],
   "source": [
    "print arccos(0.999361218)*2*r2a\n",
    "print arccos(0.999808157)*2*r2a\n",
    "print arccos(0.986935574)*2*r2a\n"
   ]
  },
  {
   "cell_type": "code",
   "execution_count": 42,
   "metadata": {
    "collapsed": false
   },
   "outputs": [
    {
     "data": {
      "text/plain": [
       "['a', 'g', 'm', 'r']"
      ]
     },
     "execution_count": 42,
     "metadata": {},
     "output_type": "execute_result"
    }
   ],
   "source": [
    "[nd[0].text for nd in s_rt.xpath(u'threads/thread/channels/channel')]"
   ]
  },
  {
   "cell_type": "code",
   "execution_count": 11,
   "metadata": {
    "collapsed": false
   },
   "outputs": [
    {
     "data": {
      "text/plain": [
       "<function xpath>"
      ]
     },
     "execution_count": 11,
     "metadata": {},
     "output_type": "execute_result"
    }
   ],
   "source": [
    "collsNode.xpath"
   ]
  },
  {
   "cell_type": "code",
   "execution_count": null,
   "metadata": {
    "collapsed": true
   },
   "outputs": [],
   "source": []
  },
  {
   "cell_type": "code",
   "execution_count": null,
   "metadata": {
    "collapsed": true
   },
   "outputs": [],
   "source": []
  }
 ],
 "metadata": {
  "kernelspec": {
   "display_name": "Python 2",
   "language": "python",
   "name": "python2"
  },
  "language_info": {
   "codemirror_mode": {
    "name": "ipython",
    "version": 2
   },
   "file_extension": ".py",
   "mimetype": "text/x-python",
   "name": "python",
   "nbconvert_exporter": "python",
   "pygments_lexer": "ipython2",
   "version": "2.7.10"
  }
 },
 "nbformat": 4,
 "nbformat_minor": 0
}
